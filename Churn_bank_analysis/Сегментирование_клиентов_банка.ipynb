{
 "cells": [
  {
   "cell_type": "markdown",
   "id": "523a6d0d",
   "metadata": {},
   "source": [
    "# Сегментирование клиентов банка"
   ]
  },
  {
   "cell_type": "markdown",
   "id": "81fe0991",
   "metadata": {},
   "source": [
    "Проект посвящен сегментированию пользователей банка. Сегментация покажет, как клиенты пользуются услугами банка \"Метанпромбанк\".\n",
    "\n",
    "Заказчик - менеджер продукта, который разрабатывает меры по удержанию клиентов и мероприятия для работы с целевой аудиторией. Пользователем результата по проекту будет менеджер продукта. Цель - определить, на какие основные сегменты делятся клиенты банка и выявить характеристики каждого сегмента."
   ]
  },
  {
   "cell_type": "markdown",
   "id": "28e8c90d",
   "metadata": {},
   "source": [
    "# Шаг 1. Загрузка и предоработка данных"
   ]
  },
  {
   "cell_type": "code",
   "execution_count": 1,
   "id": "5454f385",
   "metadata": {},
   "outputs": [],
   "source": [
    "import pandas as pd\n",
    "import matplotlib.pyplot as plt\n",
    "from plotly import graph_objects as go\n",
    "import plotly.express as px\n",
    "import numpy as np\n",
    "import seaborn as sns\n",
    "from scipy import stats as st\n",
    "import math as mth\n",
    "\n",
    "import warnings\n",
    "warnings.filterwarnings('ignore')"
   ]
  },
  {
   "cell_type": "code",
   "execution_count": 2,
   "id": "748bdab5",
   "metadata": {},
   "outputs": [],
   "source": [
    "# чтение файла с данными и сохранение в df\n",
    "try:\n",
    "    df = pd.read_csv('bank_dataset.csv')\n",
    "except:\n",
    "    df = pd.read_csv('/datasets/bank_dataset.csv')\n",
    "    "
   ]
  },
  {
   "cell_type": "code",
   "execution_count": 3,
   "id": "7c467a9f",
   "metadata": {},
   "outputs": [
    {
     "data": {
      "text/html": [
       "<div>\n",
       "<style scoped>\n",
       "    .dataframe tbody tr th:only-of-type {\n",
       "        vertical-align: middle;\n",
       "    }\n",
       "\n",
       "    .dataframe tbody tr th {\n",
       "        vertical-align: top;\n",
       "    }\n",
       "\n",
       "    .dataframe thead th {\n",
       "        text-align: right;\n",
       "    }\n",
       "</style>\n",
       "<table border=\"1\" class=\"dataframe\">\n",
       "  <thead>\n",
       "    <tr style=\"text-align: right;\">\n",
       "      <th></th>\n",
       "      <th>userid</th>\n",
       "      <th>score</th>\n",
       "      <th>City</th>\n",
       "      <th>Gender</th>\n",
       "      <th>Age</th>\n",
       "      <th>Objects</th>\n",
       "      <th>Balance</th>\n",
       "      <th>Products</th>\n",
       "      <th>CreditCard</th>\n",
       "      <th>Loyalty</th>\n",
       "      <th>estimated_salary</th>\n",
       "      <th>Churn</th>\n",
       "    </tr>\n",
       "  </thead>\n",
       "  <tbody>\n",
       "    <tr>\n",
       "      <th>0</th>\n",
       "      <td>15677338</td>\n",
       "      <td>619</td>\n",
       "      <td>Ярославль</td>\n",
       "      <td>Ж</td>\n",
       "      <td>42</td>\n",
       "      <td>2</td>\n",
       "      <td>NaN</td>\n",
       "      <td>1</td>\n",
       "      <td>1</td>\n",
       "      <td>1</td>\n",
       "      <td>101348.88</td>\n",
       "      <td>1</td>\n",
       "    </tr>\n",
       "    <tr>\n",
       "      <th>1</th>\n",
       "      <td>15690047</td>\n",
       "      <td>608</td>\n",
       "      <td>Рыбинск</td>\n",
       "      <td>Ж</td>\n",
       "      <td>41</td>\n",
       "      <td>1</td>\n",
       "      <td>83807.86</td>\n",
       "      <td>1</td>\n",
       "      <td>0</td>\n",
       "      <td>1</td>\n",
       "      <td>112542.58</td>\n",
       "      <td>0</td>\n",
       "    </tr>\n",
       "    <tr>\n",
       "      <th>2</th>\n",
       "      <td>15662040</td>\n",
       "      <td>502</td>\n",
       "      <td>Ярославль</td>\n",
       "      <td>Ж</td>\n",
       "      <td>42</td>\n",
       "      <td>8</td>\n",
       "      <td>159660.80</td>\n",
       "      <td>3</td>\n",
       "      <td>1</td>\n",
       "      <td>0</td>\n",
       "      <td>113931.57</td>\n",
       "      <td>1</td>\n",
       "    </tr>\n",
       "    <tr>\n",
       "      <th>3</th>\n",
       "      <td>15744090</td>\n",
       "      <td>699</td>\n",
       "      <td>Ярославль</td>\n",
       "      <td>Ж</td>\n",
       "      <td>39</td>\n",
       "      <td>1</td>\n",
       "      <td>NaN</td>\n",
       "      <td>2</td>\n",
       "      <td>0</td>\n",
       "      <td>0</td>\n",
       "      <td>93826.63</td>\n",
       "      <td>0</td>\n",
       "    </tr>\n",
       "    <tr>\n",
       "      <th>4</th>\n",
       "      <td>15780624</td>\n",
       "      <td>850</td>\n",
       "      <td>Рыбинск</td>\n",
       "      <td>Ж</td>\n",
       "      <td>43</td>\n",
       "      <td>2</td>\n",
       "      <td>125510.82</td>\n",
       "      <td>1</td>\n",
       "      <td>1</td>\n",
       "      <td>1</td>\n",
       "      <td>79084.10</td>\n",
       "      <td>0</td>\n",
       "    </tr>\n",
       "  </tbody>\n",
       "</table>\n",
       "</div>"
      ],
      "text/plain": [
       "     userid  score       City Gender  Age  Objects    Balance  Products  \\\n",
       "0  15677338    619  Ярославль      Ж   42        2        NaN         1   \n",
       "1  15690047    608    Рыбинск      Ж   41        1   83807.86         1   \n",
       "2  15662040    502  Ярославль      Ж   42        8  159660.80         3   \n",
       "3  15744090    699  Ярославль      Ж   39        1        NaN         2   \n",
       "4  15780624    850    Рыбинск      Ж   43        2  125510.82         1   \n",
       "\n",
       "   CreditCard  Loyalty  estimated_salary  Churn  \n",
       "0           1        1         101348.88      1  \n",
       "1           0        1         112542.58      0  \n",
       "2           1        0         113931.57      1  \n",
       "3           0        0          93826.63      0  \n",
       "4           1        1          79084.10      0  "
      ]
     },
     "execution_count": 3,
     "metadata": {},
     "output_type": "execute_result"
    }
   ],
   "source": [
    "df.head()"
   ]
  },
  {
   "cell_type": "code",
   "execution_count": 4,
   "id": "26ca172a",
   "metadata": {},
   "outputs": [
    {
     "name": "stdout",
     "output_type": "stream",
     "text": [
      "<class 'pandas.core.frame.DataFrame'>\n",
      "RangeIndex: 10000 entries, 0 to 9999\n",
      "Data columns (total 12 columns):\n",
      " #   Column            Non-Null Count  Dtype  \n",
      "---  ------            --------------  -----  \n",
      " 0   userid            10000 non-null  int64  \n",
      " 1   score             10000 non-null  int64  \n",
      " 2   City              10000 non-null  object \n",
      " 3   Gender            10000 non-null  object \n",
      " 4   Age               10000 non-null  int64  \n",
      " 5   Objects           10000 non-null  int64  \n",
      " 6   Balance           6383 non-null   float64\n",
      " 7   Products          10000 non-null  int64  \n",
      " 8   CreditCard        10000 non-null  int64  \n",
      " 9   Loyalty           10000 non-null  int64  \n",
      " 10  estimated_salary  10000 non-null  float64\n",
      " 11  Churn             10000 non-null  int64  \n",
      "dtypes: float64(2), int64(8), object(2)\n",
      "memory usage: 937.6+ KB\n"
     ]
    },
    {
     "data": {
      "text/html": [
       "<div>\n",
       "<style scoped>\n",
       "    .dataframe tbody tr th:only-of-type {\n",
       "        vertical-align: middle;\n",
       "    }\n",
       "\n",
       "    .dataframe tbody tr th {\n",
       "        vertical-align: top;\n",
       "    }\n",
       "\n",
       "    .dataframe thead th {\n",
       "        text-align: right;\n",
       "    }\n",
       "</style>\n",
       "<table border=\"1\" class=\"dataframe\">\n",
       "  <thead>\n",
       "    <tr style=\"text-align: right;\">\n",
       "      <th></th>\n",
       "      <th>userid</th>\n",
       "      <th>score</th>\n",
       "      <th>Age</th>\n",
       "      <th>Objects</th>\n",
       "      <th>Balance</th>\n",
       "      <th>Products</th>\n",
       "      <th>CreditCard</th>\n",
       "      <th>Loyalty</th>\n",
       "      <th>estimated_salary</th>\n",
       "      <th>Churn</th>\n",
       "    </tr>\n",
       "  </thead>\n",
       "  <tbody>\n",
       "    <tr>\n",
       "      <th>count</th>\n",
       "      <td>1.000000e+04</td>\n",
       "      <td>10000.000000</td>\n",
       "      <td>10000.000000</td>\n",
       "      <td>10000.000000</td>\n",
       "      <td>6383.000000</td>\n",
       "      <td>10000.000000</td>\n",
       "      <td>10000.00000</td>\n",
       "      <td>10000.000000</td>\n",
       "      <td>10000.000000</td>\n",
       "      <td>10000.000000</td>\n",
       "    </tr>\n",
       "    <tr>\n",
       "      <th>mean</th>\n",
       "      <td>1.573368e+07</td>\n",
       "      <td>650.528800</td>\n",
       "      <td>38.921800</td>\n",
       "      <td>5.012800</td>\n",
       "      <td>119827.493793</td>\n",
       "      <td>1.530200</td>\n",
       "      <td>0.70550</td>\n",
       "      <td>0.515100</td>\n",
       "      <td>100090.239881</td>\n",
       "      <td>0.203700</td>\n",
       "    </tr>\n",
       "    <tr>\n",
       "      <th>std</th>\n",
       "      <td>7.193619e+04</td>\n",
       "      <td>96.653299</td>\n",
       "      <td>10.487806</td>\n",
       "      <td>2.892174</td>\n",
       "      <td>30095.056462</td>\n",
       "      <td>0.581654</td>\n",
       "      <td>0.45584</td>\n",
       "      <td>0.499797</td>\n",
       "      <td>57510.492818</td>\n",
       "      <td>0.402769</td>\n",
       "    </tr>\n",
       "    <tr>\n",
       "      <th>min</th>\n",
       "      <td>1.560844e+07</td>\n",
       "      <td>350.000000</td>\n",
       "      <td>18.000000</td>\n",
       "      <td>0.000000</td>\n",
       "      <td>3768.690000</td>\n",
       "      <td>1.000000</td>\n",
       "      <td>0.00000</td>\n",
       "      <td>0.000000</td>\n",
       "      <td>11.580000</td>\n",
       "      <td>0.000000</td>\n",
       "    </tr>\n",
       "    <tr>\n",
       "      <th>25%</th>\n",
       "      <td>1.567126e+07</td>\n",
       "      <td>584.000000</td>\n",
       "      <td>32.000000</td>\n",
       "      <td>3.000000</td>\n",
       "      <td>100181.975000</td>\n",
       "      <td>1.000000</td>\n",
       "      <td>0.00000</td>\n",
       "      <td>0.000000</td>\n",
       "      <td>51002.110000</td>\n",
       "      <td>0.000000</td>\n",
       "    </tr>\n",
       "    <tr>\n",
       "      <th>50%</th>\n",
       "      <td>1.573347e+07</td>\n",
       "      <td>652.000000</td>\n",
       "      <td>37.000000</td>\n",
       "      <td>5.000000</td>\n",
       "      <td>119839.690000</td>\n",
       "      <td>1.000000</td>\n",
       "      <td>1.00000</td>\n",
       "      <td>1.000000</td>\n",
       "      <td>100193.915000</td>\n",
       "      <td>0.000000</td>\n",
       "    </tr>\n",
       "    <tr>\n",
       "      <th>75%</th>\n",
       "      <td>1.579597e+07</td>\n",
       "      <td>718.000000</td>\n",
       "      <td>44.000000</td>\n",
       "      <td>7.000000</td>\n",
       "      <td>139512.290000</td>\n",
       "      <td>2.000000</td>\n",
       "      <td>1.00000</td>\n",
       "      <td>1.000000</td>\n",
       "      <td>149388.247500</td>\n",
       "      <td>0.000000</td>\n",
       "    </tr>\n",
       "    <tr>\n",
       "      <th>max</th>\n",
       "      <td>1.585843e+07</td>\n",
       "      <td>850.000000</td>\n",
       "      <td>92.000000</td>\n",
       "      <td>10.000000</td>\n",
       "      <td>250898.090000</td>\n",
       "      <td>4.000000</td>\n",
       "      <td>1.00000</td>\n",
       "      <td>1.000000</td>\n",
       "      <td>199992.480000</td>\n",
       "      <td>1.000000</td>\n",
       "    </tr>\n",
       "  </tbody>\n",
       "</table>\n",
       "</div>"
      ],
      "text/plain": [
       "             userid         score           Age       Objects        Balance  \\\n",
       "count  1.000000e+04  10000.000000  10000.000000  10000.000000    6383.000000   \n",
       "mean   1.573368e+07    650.528800     38.921800      5.012800  119827.493793   \n",
       "std    7.193619e+04     96.653299     10.487806      2.892174   30095.056462   \n",
       "min    1.560844e+07    350.000000     18.000000      0.000000    3768.690000   \n",
       "25%    1.567126e+07    584.000000     32.000000      3.000000  100181.975000   \n",
       "50%    1.573347e+07    652.000000     37.000000      5.000000  119839.690000   \n",
       "75%    1.579597e+07    718.000000     44.000000      7.000000  139512.290000   \n",
       "max    1.585843e+07    850.000000     92.000000     10.000000  250898.090000   \n",
       "\n",
       "           Products   CreditCard       Loyalty  estimated_salary         Churn  \n",
       "count  10000.000000  10000.00000  10000.000000      10000.000000  10000.000000  \n",
       "mean       1.530200      0.70550      0.515100     100090.239881      0.203700  \n",
       "std        0.581654      0.45584      0.499797      57510.492818      0.402769  \n",
       "min        1.000000      0.00000      0.000000         11.580000      0.000000  \n",
       "25%        1.000000      0.00000      0.000000      51002.110000      0.000000  \n",
       "50%        1.000000      1.00000      1.000000     100193.915000      0.000000  \n",
       "75%        2.000000      1.00000      1.000000     149388.247500      0.000000  \n",
       "max        4.000000      1.00000      1.000000     199992.480000      1.000000  "
      ]
     },
     "execution_count": 4,
     "metadata": {},
     "output_type": "execute_result"
    }
   ],
   "source": [
    "#Отобразим всю необходимую информацию о файле\n",
    "df.info()\n",
    "df.describe()"
   ]
  },
  {
   "cell_type": "markdown",
   "id": "4680e560",
   "metadata": {},
   "source": [
    "### Описание датасета\n",
    "\n",
    "Датасет содержит данные о клиентах банка «Метанпром». Банк располагается в Ярославле и областных городах: Ростов Великий и Рыбинск.\n",
    "\n",
    "Колонки:\n",
    "\n",
    "- `userid` — идентификатор пользователя,\n",
    "- `score` — баллы кредитного скоринга,\n",
    "- `City` — город,\n",
    "- `Gender` — пол,\n",
    "- `Age` — возраст,\n",
    "- `Objects` — количество объектов в собственности,\n",
    "- `Balance` — баланс на счёте,\n",
    "- `Products` — количество продуктов, которыми пользуется клиент,\n",
    "- `CreditCard` — есть ли кредитная карта,\n",
    "- `Loyalty` — активный клиент,\n",
    "- `estimated_salary` — заработная плата клиента,\n",
    "- `Churn` — ушёл или нет."
   ]
  },
  {
   "cell_type": "markdown",
   "id": "63ad23e0",
   "metadata": {},
   "source": [
    "**Что стоит скорректировать:**\n",
    "- названия столбцов к нижнему, \"змеиному\" регистру;\n",
    "- пропуски и наличие дубликатов;\n",
    "- столбцы `Gender`, `City` привести к бинарному виду;\n",
    "- Привести данные к нужному типу"
   ]
  },
  {
   "cell_type": "markdown",
   "id": "465958c2",
   "metadata": {},
   "source": [
    "**В названиях столбцов cтрочные буквы сочетаются с прописными**"
   ]
  },
  {
   "cell_type": "code",
   "execution_count": 40,
   "id": "bca8b445",
   "metadata": {},
   "outputs": [
    {
     "data": {
      "text/plain": [
       "Index(['user_id', 'score', 'city', 'gender', 'age', 'objects', 'balance',\n",
       "       'products', 'credit_card', 'loyalty', 'estimated_salary', 'churn'],\n",
       "      dtype='object')"
      ]
     },
     "execution_count": 40,
     "metadata": {},
     "output_type": "execute_result"
    }
   ],
   "source": [
    "# приведение названий столбцов к нижним регистрам в таблице\n",
    "df.columns = [x.lower() for x in df.columns]\n",
    "df =  df.rename(columns={'userid':'user_id', 'creditcard':'credit_card'})\n",
    "df.columns"
   ]
  },
  {
   "cell_type": "markdown",
   "id": "86cefa7b",
   "metadata": {},
   "source": [
    "**Пропуски и наличие дубликатов**"
   ]
  },
  {
   "cell_type": "code",
   "execution_count": 41,
   "id": "5821e6ec",
   "metadata": {},
   "outputs": [
    {
     "name": "stdout",
     "output_type": "stream",
     "text": [
      "Количество дубликатов: 0\n",
      "Количество неявных дубликатов: 0\n",
      "Количество пропущенных значений:\n"
     ]
    },
    {
     "data": {
      "text/plain": [
       "user_id                0\n",
       "score                  0\n",
       "city                   0\n",
       "gender                 0\n",
       "age                    0\n",
       "objects                0\n",
       "balance             3617\n",
       "products               0\n",
       "credit_card            0\n",
       "loyalty                0\n",
       "estimated_salary       0\n",
       "churn                  0\n",
       "dtype: int64"
      ]
     },
     "execution_count": 41,
     "metadata": {},
     "output_type": "execute_result"
    }
   ],
   "source": [
    "# проверка на наличие явных дубликатов\n",
    "print(f\"Количество дубликатов: {df.duplicated().sum()}\")\n",
    "# проверка на наличие неявных дубликатов\n",
    "print(f\"Количество неявных дубликатов: {df['user_id'].duplicated().sum()}\")\n",
    "# подсчет пропущенных значений\n",
    "print('Количество пропущенных значений:')\n",
    "df.isnull().sum()"
   ]
  },
  {
   "cell_type": "markdown",
   "id": "0a7add06",
   "metadata": {},
   "source": [
    "Явные и неявные дубликаты отсутствуют. В колонке `balance` отсутствует 36 % данных. Рассмотрим с чем могут быть связанны пропуски в `balance`."
   ]
  },
  {
   "cell_type": "code",
   "execution_count": 42,
   "id": "041895cb",
   "metadata": {},
   "outputs": [
    {
     "data": {
      "text/html": [
       "<div>\n",
       "<style scoped>\n",
       "    .dataframe tbody tr th:only-of-type {\n",
       "        vertical-align: middle;\n",
       "    }\n",
       "\n",
       "    .dataframe tbody tr th {\n",
       "        vertical-align: top;\n",
       "    }\n",
       "\n",
       "    .dataframe thead th {\n",
       "        text-align: right;\n",
       "    }\n",
       "</style>\n",
       "<table border=\"1\" class=\"dataframe\">\n",
       "  <thead>\n",
       "    <tr style=\"text-align: right;\">\n",
       "      <th></th>\n",
       "      <th>user_id</th>\n",
       "      <th>score</th>\n",
       "      <th>city</th>\n",
       "      <th>gender</th>\n",
       "      <th>age</th>\n",
       "      <th>objects</th>\n",
       "      <th>balance</th>\n",
       "      <th>products</th>\n",
       "      <th>credit_card</th>\n",
       "      <th>loyalty</th>\n",
       "      <th>estimated_salary</th>\n",
       "      <th>churn</th>\n",
       "    </tr>\n",
       "  </thead>\n",
       "  <tbody>\n",
       "    <tr>\n",
       "      <th>0</th>\n",
       "      <td>15677338</td>\n",
       "      <td>619</td>\n",
       "      <td>Ярославль</td>\n",
       "      <td>Ж</td>\n",
       "      <td>42</td>\n",
       "      <td>2</td>\n",
       "      <td>NaN</td>\n",
       "      <td>1</td>\n",
       "      <td>1</td>\n",
       "      <td>1</td>\n",
       "      <td>101348.88</td>\n",
       "      <td>1</td>\n",
       "    </tr>\n",
       "    <tr>\n",
       "      <th>3</th>\n",
       "      <td>15744090</td>\n",
       "      <td>699</td>\n",
       "      <td>Ярославль</td>\n",
       "      <td>Ж</td>\n",
       "      <td>39</td>\n",
       "      <td>1</td>\n",
       "      <td>NaN</td>\n",
       "      <td>2</td>\n",
       "      <td>0</td>\n",
       "      <td>0</td>\n",
       "      <td>93826.63</td>\n",
       "      <td>0</td>\n",
       "    </tr>\n",
       "    <tr>\n",
       "      <th>6</th>\n",
       "      <td>15635267</td>\n",
       "      <td>822</td>\n",
       "      <td>Ярославль</td>\n",
       "      <td>М</td>\n",
       "      <td>50</td>\n",
       "      <td>7</td>\n",
       "      <td>NaN</td>\n",
       "      <td>2</td>\n",
       "      <td>1</td>\n",
       "      <td>1</td>\n",
       "      <td>10062.80</td>\n",
       "      <td>0</td>\n",
       "    </tr>\n",
       "    <tr>\n",
       "      <th>11</th>\n",
       "      <td>15779909</td>\n",
       "      <td>497</td>\n",
       "      <td>Рыбинск</td>\n",
       "      <td>М</td>\n",
       "      <td>24</td>\n",
       "      <td>3</td>\n",
       "      <td>NaN</td>\n",
       "      <td>2</td>\n",
       "      <td>1</td>\n",
       "      <td>0</td>\n",
       "      <td>76390.01</td>\n",
       "      <td>0</td>\n",
       "    </tr>\n",
       "    <tr>\n",
       "      <th>12</th>\n",
       "      <td>15675000</td>\n",
       "      <td>476</td>\n",
       "      <td>Ярославль</td>\n",
       "      <td>Ж</td>\n",
       "      <td>34</td>\n",
       "      <td>10</td>\n",
       "      <td>NaN</td>\n",
       "      <td>2</td>\n",
       "      <td>1</td>\n",
       "      <td>0</td>\n",
       "      <td>26260.98</td>\n",
       "      <td>0</td>\n",
       "    </tr>\n",
       "    <tr>\n",
       "      <th>...</th>\n",
       "      <td>...</td>\n",
       "      <td>...</td>\n",
       "      <td>...</td>\n",
       "      <td>...</td>\n",
       "      <td>...</td>\n",
       "      <td>...</td>\n",
       "      <td>...</td>\n",
       "      <td>...</td>\n",
       "      <td>...</td>\n",
       "      <td>...</td>\n",
       "      <td>...</td>\n",
       "      <td>...</td>\n",
       "    </tr>\n",
       "    <tr>\n",
       "      <th>9989</th>\n",
       "      <td>15648358</td>\n",
       "      <td>841</td>\n",
       "      <td>Рыбинск</td>\n",
       "      <td>М</td>\n",
       "      <td>28</td>\n",
       "      <td>4</td>\n",
       "      <td>NaN</td>\n",
       "      <td>2</td>\n",
       "      <td>1</td>\n",
       "      <td>1</td>\n",
       "      <td>179436.60</td>\n",
       "      <td>0</td>\n",
       "    </tr>\n",
       "    <tr>\n",
       "      <th>9992</th>\n",
       "      <td>15699841</td>\n",
       "      <td>726</td>\n",
       "      <td>Рыбинск</td>\n",
       "      <td>М</td>\n",
       "      <td>36</td>\n",
       "      <td>2</td>\n",
       "      <td>NaN</td>\n",
       "      <td>1</td>\n",
       "      <td>1</td>\n",
       "      <td>0</td>\n",
       "      <td>195192.40</td>\n",
       "      <td>0</td>\n",
       "    </tr>\n",
       "    <tr>\n",
       "      <th>9994</th>\n",
       "      <td>15762030</td>\n",
       "      <td>800</td>\n",
       "      <td>Ярославль</td>\n",
       "      <td>Ж</td>\n",
       "      <td>29</td>\n",
       "      <td>2</td>\n",
       "      <td>NaN</td>\n",
       "      <td>2</td>\n",
       "      <td>0</td>\n",
       "      <td>0</td>\n",
       "      <td>167773.55</td>\n",
       "      <td>0</td>\n",
       "    </tr>\n",
       "    <tr>\n",
       "      <th>9995</th>\n",
       "      <td>15648965</td>\n",
       "      <td>771</td>\n",
       "      <td>Ярославль</td>\n",
       "      <td>М</td>\n",
       "      <td>39</td>\n",
       "      <td>5</td>\n",
       "      <td>NaN</td>\n",
       "      <td>2</td>\n",
       "      <td>1</td>\n",
       "      <td>0</td>\n",
       "      <td>96270.64</td>\n",
       "      <td>0</td>\n",
       "    </tr>\n",
       "    <tr>\n",
       "      <th>9997</th>\n",
       "      <td>15627268</td>\n",
       "      <td>709</td>\n",
       "      <td>Ярославль</td>\n",
       "      <td>Ж</td>\n",
       "      <td>36</td>\n",
       "      <td>7</td>\n",
       "      <td>NaN</td>\n",
       "      <td>1</td>\n",
       "      <td>0</td>\n",
       "      <td>1</td>\n",
       "      <td>42085.58</td>\n",
       "      <td>1</td>\n",
       "    </tr>\n",
       "  </tbody>\n",
       "</table>\n",
       "<p>3617 rows × 12 columns</p>\n",
       "</div>"
      ],
      "text/plain": [
       "       user_id  score       city gender  age  objects  balance  products  \\\n",
       "0     15677338    619  Ярославль      Ж   42        2      NaN         1   \n",
       "3     15744090    699  Ярославль      Ж   39        1      NaN         2   \n",
       "6     15635267    822  Ярославль      М   50        7      NaN         2   \n",
       "11    15779909    497    Рыбинск      М   24        3      NaN         2   \n",
       "12    15675000    476  Ярославль      Ж   34       10      NaN         2   \n",
       "...        ...    ...        ...    ...  ...      ...      ...       ...   \n",
       "9989  15648358    841    Рыбинск      М   28        4      NaN         2   \n",
       "9992  15699841    726    Рыбинск      М   36        2      NaN         1   \n",
       "9994  15762030    800  Ярославль      Ж   29        2      NaN         2   \n",
       "9995  15648965    771  Ярославль      М   39        5      NaN         2   \n",
       "9997  15627268    709  Ярославль      Ж   36        7      NaN         1   \n",
       "\n",
       "      credit_card  loyalty  estimated_salary  churn  \n",
       "0               1        1         101348.88      1  \n",
       "3               0        0          93826.63      0  \n",
       "6               1        1          10062.80      0  \n",
       "11              1        0          76390.01      0  \n",
       "12              1        0          26260.98      0  \n",
       "...           ...      ...               ...    ...  \n",
       "9989            1        1         179436.60      0  \n",
       "9992            1        0         195192.40      0  \n",
       "9994            0        0         167773.55      0  \n",
       "9995            1        0          96270.64      0  \n",
       "9997            0        1          42085.58      1  \n",
       "\n",
       "[3617 rows x 12 columns]"
      ]
     },
     "execution_count": 42,
     "metadata": {},
     "output_type": "execute_result"
    }
   ],
   "source": [
    "df[df['balance'].isna()]"
   ]
  },
  {
   "cell_type": "code",
   "execution_count": 43,
   "id": "2c6c4053",
   "metadata": {},
   "outputs": [
    {
     "data": {
      "text/html": [
       "<div>\n",
       "<style scoped>\n",
       "    .dataframe tbody tr th:only-of-type {\n",
       "        vertical-align: middle;\n",
       "    }\n",
       "\n",
       "    .dataframe tbody tr th {\n",
       "        vertical-align: top;\n",
       "    }\n",
       "\n",
       "    .dataframe thead th {\n",
       "        text-align: right;\n",
       "    }\n",
       "</style>\n",
       "<table border=\"1\" class=\"dataframe\">\n",
       "  <thead>\n",
       "    <tr style=\"text-align: right;\">\n",
       "      <th></th>\n",
       "      <th>city</th>\n",
       "      <th>count</th>\n",
       "    </tr>\n",
       "  </thead>\n",
       "  <tbody>\n",
       "    <tr>\n",
       "      <th>1</th>\n",
       "      <td>Ярославль</td>\n",
       "      <td>2418</td>\n",
       "    </tr>\n",
       "    <tr>\n",
       "      <th>0</th>\n",
       "      <td>Рыбинск</td>\n",
       "      <td>1199</td>\n",
       "    </tr>\n",
       "  </tbody>\n",
       "</table>\n",
       "</div>"
      ],
      "text/plain": [
       "        city  count\n",
       "1  Ярославль   2418\n",
       "0    Рыбинск   1199"
      ]
     },
     "execution_count": 43,
     "metadata": {},
     "output_type": "execute_result"
    }
   ],
   "source": [
    "df_null=df[df['balance'].isna()].groupby('city').agg({'city': 'count'})\n",
    "df_null=df_null.rename(columns = {'city':'count'})\n",
    "df_null = df_null.reset_index()\n",
    "df_null = df_null.sort_values(by='count', ascending=False)\n",
    "df_null"
   ]
  },
  {
   "cell_type": "code",
   "execution_count": 44,
   "id": "517c1217",
   "metadata": {},
   "outputs": [
    {
     "data": {
      "text/html": [
       "<div>\n",
       "<style scoped>\n",
       "    .dataframe tbody tr th:only-of-type {\n",
       "        vertical-align: middle;\n",
       "    }\n",
       "\n",
       "    .dataframe tbody tr th {\n",
       "        vertical-align: top;\n",
       "    }\n",
       "\n",
       "    .dataframe thead th {\n",
       "        text-align: right;\n",
       "    }\n",
       "</style>\n",
       "<table border=\"1\" class=\"dataframe\">\n",
       "  <thead>\n",
       "    <tr style=\"text-align: right;\">\n",
       "      <th></th>\n",
       "      <th>churn</th>\n",
       "      <th>count</th>\n",
       "    </tr>\n",
       "  </thead>\n",
       "  <tbody>\n",
       "    <tr>\n",
       "      <th>1</th>\n",
       "      <td>1</td>\n",
       "      <td>500</td>\n",
       "    </tr>\n",
       "    <tr>\n",
       "      <th>0</th>\n",
       "      <td>0</td>\n",
       "      <td>3117</td>\n",
       "    </tr>\n",
       "  </tbody>\n",
       "</table>\n",
       "</div>"
      ],
      "text/plain": [
       "   churn  count\n",
       "1      1    500\n",
       "0      0   3117"
      ]
     },
     "execution_count": 44,
     "metadata": {},
     "output_type": "execute_result"
    }
   ],
   "source": [
    "df_churn = df[df['balance'].isna()].groupby('churn').agg({'churn': 'count'})\n",
    "df_churn = df_churn.rename(columns = {'churn':'count'})\n",
    "df_churn = df_churn.reset_index()\n",
    "df_churn = df_churn.sort_values(by='churn', ascending=False)\n",
    "df_churn"
   ]
  },
  {
   "cell_type": "code",
   "execution_count": 45,
   "id": "1bbddb04",
   "metadata": {},
   "outputs": [
    {
     "data": {
      "text/html": [
       "<div>\n",
       "<style scoped>\n",
       "    .dataframe tbody tr th:only-of-type {\n",
       "        vertical-align: middle;\n",
       "    }\n",
       "\n",
       "    .dataframe tbody tr th {\n",
       "        vertical-align: top;\n",
       "    }\n",
       "\n",
       "    .dataframe thead th {\n",
       "        text-align: right;\n",
       "    }\n",
       "</style>\n",
       "<table border=\"1\" class=\"dataframe\">\n",
       "  <thead>\n",
       "    <tr style=\"text-align: right;\">\n",
       "      <th></th>\n",
       "      <th>user_id</th>\n",
       "      <th>score</th>\n",
       "      <th>age</th>\n",
       "      <th>objects</th>\n",
       "      <th>balance</th>\n",
       "      <th>products</th>\n",
       "      <th>credit_card</th>\n",
       "      <th>loyalty</th>\n",
       "      <th>estimated_salary</th>\n",
       "      <th>churn</th>\n",
       "    </tr>\n",
       "  </thead>\n",
       "  <tbody>\n",
       "    <tr>\n",
       "      <th>count</th>\n",
       "      <td>3.617000e+03</td>\n",
       "      <td>3617.000000</td>\n",
       "      <td>3617.000000</td>\n",
       "      <td>3617.000000</td>\n",
       "      <td>0.0</td>\n",
       "      <td>3617.000000</td>\n",
       "      <td>3617.000000</td>\n",
       "      <td>3617.000000</td>\n",
       "      <td>3617.000000</td>\n",
       "      <td>3617.000000</td>\n",
       "    </tr>\n",
       "    <tr>\n",
       "      <th>mean</th>\n",
       "      <td>1.573469e+07</td>\n",
       "      <td>649.452861</td>\n",
       "      <td>38.434891</td>\n",
       "      <td>5.071330</td>\n",
       "      <td>NaN</td>\n",
       "      <td>1.784628</td>\n",
       "      <td>0.716616</td>\n",
       "      <td>0.517832</td>\n",
       "      <td>98983.559549</td>\n",
       "      <td>0.138236</td>\n",
       "    </tr>\n",
       "    <tr>\n",
       "      <th>std</th>\n",
       "      <td>7.194749e+04</td>\n",
       "      <td>96.158798</td>\n",
       "      <td>10.492002</td>\n",
       "      <td>2.860781</td>\n",
       "      <td>NaN</td>\n",
       "      <td>0.496455</td>\n",
       "      <td>0.450704</td>\n",
       "      <td>0.499751</td>\n",
       "      <td>57730.828955</td>\n",
       "      <td>0.345195</td>\n",
       "    </tr>\n",
       "    <tr>\n",
       "      <th>min</th>\n",
       "      <td>1.560844e+07</td>\n",
       "      <td>350.000000</td>\n",
       "      <td>18.000000</td>\n",
       "      <td>0.000000</td>\n",
       "      <td>NaN</td>\n",
       "      <td>1.000000</td>\n",
       "      <td>0.000000</td>\n",
       "      <td>0.000000</td>\n",
       "      <td>90.070000</td>\n",
       "      <td>0.000000</td>\n",
       "    </tr>\n",
       "    <tr>\n",
       "      <th>25%</th>\n",
       "      <td>1.567226e+07</td>\n",
       "      <td>583.000000</td>\n",
       "      <td>31.000000</td>\n",
       "      <td>3.000000</td>\n",
       "      <td>NaN</td>\n",
       "      <td>1.000000</td>\n",
       "      <td>0.000000</td>\n",
       "      <td>0.000000</td>\n",
       "      <td>49506.820000</td>\n",
       "      <td>0.000000</td>\n",
       "    </tr>\n",
       "    <tr>\n",
       "      <th>50%</th>\n",
       "      <td>1.573608e+07</td>\n",
       "      <td>651.000000</td>\n",
       "      <td>37.000000</td>\n",
       "      <td>5.000000</td>\n",
       "      <td>NaN</td>\n",
       "      <td>2.000000</td>\n",
       "      <td>1.000000</td>\n",
       "      <td>1.000000</td>\n",
       "      <td>98618.790000</td>\n",
       "      <td>0.000000</td>\n",
       "    </tr>\n",
       "    <tr>\n",
       "      <th>75%</th>\n",
       "      <td>1.579629e+07</td>\n",
       "      <td>717.000000</td>\n",
       "      <td>43.000000</td>\n",
       "      <td>7.000000</td>\n",
       "      <td>NaN</td>\n",
       "      <td>2.000000</td>\n",
       "      <td>1.000000</td>\n",
       "      <td>1.000000</td>\n",
       "      <td>148330.970000</td>\n",
       "      <td>0.000000</td>\n",
       "    </tr>\n",
       "    <tr>\n",
       "      <th>max</th>\n",
       "      <td>1.585810e+07</td>\n",
       "      <td>850.000000</td>\n",
       "      <td>88.000000</td>\n",
       "      <td>10.000000</td>\n",
       "      <td>NaN</td>\n",
       "      <td>4.000000</td>\n",
       "      <td>1.000000</td>\n",
       "      <td>1.000000</td>\n",
       "      <td>199992.480000</td>\n",
       "      <td>1.000000</td>\n",
       "    </tr>\n",
       "  </tbody>\n",
       "</table>\n",
       "</div>"
      ],
      "text/plain": [
       "            user_id        score          age      objects  balance  \\\n",
       "count  3.617000e+03  3617.000000  3617.000000  3617.000000      0.0   \n",
       "mean   1.573469e+07   649.452861    38.434891     5.071330      NaN   \n",
       "std    7.194749e+04    96.158798    10.492002     2.860781      NaN   \n",
       "min    1.560844e+07   350.000000    18.000000     0.000000      NaN   \n",
       "25%    1.567226e+07   583.000000    31.000000     3.000000      NaN   \n",
       "50%    1.573608e+07   651.000000    37.000000     5.000000      NaN   \n",
       "75%    1.579629e+07   717.000000    43.000000     7.000000      NaN   \n",
       "max    1.585810e+07   850.000000    88.000000    10.000000      NaN   \n",
       "\n",
       "          products  credit_card      loyalty  estimated_salary        churn  \n",
       "count  3617.000000  3617.000000  3617.000000       3617.000000  3617.000000  \n",
       "mean      1.784628     0.716616     0.517832      98983.559549     0.138236  \n",
       "std       0.496455     0.450704     0.499751      57730.828955     0.345195  \n",
       "min       1.000000     0.000000     0.000000         90.070000     0.000000  \n",
       "25%       1.000000     0.000000     0.000000      49506.820000     0.000000  \n",
       "50%       2.000000     1.000000     1.000000      98618.790000     0.000000  \n",
       "75%       2.000000     1.000000     1.000000     148330.970000     0.000000  \n",
       "max       4.000000     1.000000     1.000000     199992.480000     1.000000  "
      ]
     },
     "execution_count": 45,
     "metadata": {},
     "output_type": "execute_result"
    }
   ],
   "source": [
    "df[df['balance'].isna()].describe()"
   ]
  },
  {
   "cell_type": "markdown",
   "id": "3a2f6b1e",
   "metadata": {},
   "source": [
    "Среди городов в которых отсутствует `balance` присутствует Рыбинск и Ярославль. При оттоке клиентов данный показатель не является главным. Это может быть дебетовая карта или счет. Например, если человек в банке завел только кредитную карту."
   ]
  },
  {
   "cell_type": "code",
   "execution_count": 46,
   "id": "92dd4c79",
   "metadata": {},
   "outputs": [],
   "source": [
    "df['balance'] = df['balance'].fillna(0)"
   ]
  },
  {
   "cell_type": "markdown",
   "id": "55fdef2d",
   "metadata": {},
   "source": [
    "**Для удобства обработки данных добавим бинарные столбцы**"
   ]
  },
  {
   "cell_type": "code",
   "execution_count": 47,
   "id": "3f93666b",
   "metadata": {},
   "outputs": [
    {
     "data": {
      "text/html": [
       "<div>\n",
       "<style scoped>\n",
       "    .dataframe tbody tr th:only-of-type {\n",
       "        vertical-align: middle;\n",
       "    }\n",
       "\n",
       "    .dataframe tbody tr th {\n",
       "        vertical-align: top;\n",
       "    }\n",
       "\n",
       "    .dataframe thead th {\n",
       "        text-align: right;\n",
       "    }\n",
       "</style>\n",
       "<table border=\"1\" class=\"dataframe\">\n",
       "  <thead>\n",
       "    <tr style=\"text-align: right;\">\n",
       "      <th></th>\n",
       "      <th>user_id</th>\n",
       "      <th>score</th>\n",
       "      <th>city</th>\n",
       "      <th>gender</th>\n",
       "      <th>age</th>\n",
       "      <th>objects</th>\n",
       "      <th>balance</th>\n",
       "      <th>products</th>\n",
       "      <th>credit_card</th>\n",
       "      <th>loyalty</th>\n",
       "      <th>estimated_salary</th>\n",
       "      <th>churn</th>\n",
       "      <th>age_group</th>\n",
       "    </tr>\n",
       "  </thead>\n",
       "  <tbody>\n",
       "    <tr>\n",
       "      <th>0</th>\n",
       "      <td>15677338</td>\n",
       "      <td>619</td>\n",
       "      <td>Ярославль</td>\n",
       "      <td>Ж</td>\n",
       "      <td>42</td>\n",
       "      <td>2</td>\n",
       "      <td>0.00</td>\n",
       "      <td>1</td>\n",
       "      <td>1</td>\n",
       "      <td>1</td>\n",
       "      <td>101348.88</td>\n",
       "      <td>1</td>\n",
       "      <td>1</td>\n",
       "    </tr>\n",
       "    <tr>\n",
       "      <th>1</th>\n",
       "      <td>15690047</td>\n",
       "      <td>608</td>\n",
       "      <td>Рыбинск</td>\n",
       "      <td>Ж</td>\n",
       "      <td>41</td>\n",
       "      <td>1</td>\n",
       "      <td>83807.86</td>\n",
       "      <td>1</td>\n",
       "      <td>0</td>\n",
       "      <td>1</td>\n",
       "      <td>112542.58</td>\n",
       "      <td>0</td>\n",
       "      <td>1</td>\n",
       "    </tr>\n",
       "    <tr>\n",
       "      <th>2</th>\n",
       "      <td>15662040</td>\n",
       "      <td>502</td>\n",
       "      <td>Ярославль</td>\n",
       "      <td>Ж</td>\n",
       "      <td>42</td>\n",
       "      <td>8</td>\n",
       "      <td>159660.80</td>\n",
       "      <td>3</td>\n",
       "      <td>1</td>\n",
       "      <td>0</td>\n",
       "      <td>113931.57</td>\n",
       "      <td>1</td>\n",
       "      <td>1</td>\n",
       "    </tr>\n",
       "    <tr>\n",
       "      <th>3</th>\n",
       "      <td>15744090</td>\n",
       "      <td>699</td>\n",
       "      <td>Ярославль</td>\n",
       "      <td>Ж</td>\n",
       "      <td>39</td>\n",
       "      <td>1</td>\n",
       "      <td>0.00</td>\n",
       "      <td>2</td>\n",
       "      <td>0</td>\n",
       "      <td>0</td>\n",
       "      <td>93826.63</td>\n",
       "      <td>0</td>\n",
       "      <td>1</td>\n",
       "    </tr>\n",
       "    <tr>\n",
       "      <th>4</th>\n",
       "      <td>15780624</td>\n",
       "      <td>850</td>\n",
       "      <td>Рыбинск</td>\n",
       "      <td>Ж</td>\n",
       "      <td>43</td>\n",
       "      <td>2</td>\n",
       "      <td>125510.82</td>\n",
       "      <td>1</td>\n",
       "      <td>1</td>\n",
       "      <td>1</td>\n",
       "      <td>79084.10</td>\n",
       "      <td>0</td>\n",
       "      <td>1</td>\n",
       "    </tr>\n",
       "  </tbody>\n",
       "</table>\n",
       "</div>"
      ],
      "text/plain": [
       "    user_id  score       city gender  age  objects    balance  products  \\\n",
       "0  15677338    619  Ярославль      Ж   42        2       0.00         1   \n",
       "1  15690047    608    Рыбинск      Ж   41        1   83807.86         1   \n",
       "2  15662040    502  Ярославль      Ж   42        8  159660.80         3   \n",
       "3  15744090    699  Ярославль      Ж   39        1       0.00         2   \n",
       "4  15780624    850    Рыбинск      Ж   43        2  125510.82         1   \n",
       "\n",
       "   credit_card  loyalty  estimated_salary  churn  age_group  \n",
       "0            1        1         101348.88      1          1  \n",
       "1            0        1         112542.58      0          1  \n",
       "2            1        0         113931.57      1          1  \n",
       "3            0        0          93826.63      0          1  \n",
       "4            1        1          79084.10      0          1  "
      ]
     },
     "execution_count": 47,
     "metadata": {},
     "output_type": "execute_result"
    }
   ],
   "source": [
    "#Создадим столбец, где в зависимости от возраста клиента, укажем принадлежность к возрастной группе\n",
    "# молодые\n",
    "df.loc[df['age'].between(18,30), 'age_group'] = 0\n",
    "# взрослые_1\n",
    "df.loc[df['age'].between(31,45), 'age_group'] = 1\n",
    "#взрослые_2\n",
    "df.loc[df['age'].between(46,60), 'age_group'] = 2\n",
    "# пожилые\n",
    "df.loc[df['age']>60, 'age_group'] = 3\n",
    "# изменим тип данных\n",
    "df['age_group']=df['age_group'].astype('int8')\n",
    "df.head()"
   ]
  },
  {
   "cell_type": "code",
   "execution_count": 72,
   "id": "865a3232",
   "metadata": {},
   "outputs": [
    {
     "name": "stdout",
     "output_type": "stream",
     "text": [
      "<class 'pandas.core.frame.DataFrame'>\n",
      "RangeIndex: 10000 entries, 0 to 9999\n",
      "Data columns (total 20 columns):\n",
      " #   Column               Non-Null Count  Dtype  \n",
      "---  ------               --------------  -----  \n",
      " 0   user_id              10000 non-null  int64  \n",
      " 1   score                10000 non-null  int64  \n",
      " 2   age                  10000 non-null  int64  \n",
      " 3   objects              10000 non-null  int64  \n",
      " 4   balance              10000 non-null  float64\n",
      " 5   credit_card          10000 non-null  int64  \n",
      " 6   loyalty              10000 non-null  int64  \n",
      " 7   estimated_salary     10000 non-null  float64\n",
      " 8   churn                10000 non-null  int64  \n",
      " 9   age_group            10000 non-null  int8   \n",
      " 10  gender_Ж             10000 non-null  uint8  \n",
      " 11  gender_М             10000 non-null  uint8  \n",
      " 12  city_Ростов_Великий  10000 non-null  uint8  \n",
      " 13  city_Рыбинск         10000 non-null  uint8  \n",
      " 14  city_Ярославль       10000 non-null  uint8  \n",
      " 15  products_1           10000 non-null  uint8  \n",
      " 16  products_2           10000 non-null  uint8  \n",
      " 17  products_3           10000 non-null  uint8  \n",
      " 18  products_4           10000 non-null  uint8  \n",
      " 19  cluster_km           10000 non-null  int32  \n",
      "dtypes: float64(2), int32(1), int64(7), int8(1), uint8(9)\n",
      "memory usage: 840.0 KB\n"
     ]
    },
    {
     "data": {
      "text/html": [
       "<div>\n",
       "<style scoped>\n",
       "    .dataframe tbody tr th:only-of-type {\n",
       "        vertical-align: middle;\n",
       "    }\n",
       "\n",
       "    .dataframe tbody tr th {\n",
       "        vertical-align: top;\n",
       "    }\n",
       "\n",
       "    .dataframe thead th {\n",
       "        text-align: right;\n",
       "    }\n",
       "</style>\n",
       "<table border=\"1\" class=\"dataframe\">\n",
       "  <thead>\n",
       "    <tr style=\"text-align: right;\">\n",
       "      <th></th>\n",
       "      <th>user_id</th>\n",
       "      <th>score</th>\n",
       "      <th>age</th>\n",
       "      <th>objects</th>\n",
       "      <th>balance</th>\n",
       "      <th>credit_card</th>\n",
       "      <th>loyalty</th>\n",
       "      <th>estimated_salary</th>\n",
       "      <th>churn</th>\n",
       "      <th>age_group</th>\n",
       "      <th>gender_Ж</th>\n",
       "      <th>gender_М</th>\n",
       "      <th>city_Ростов_Великий</th>\n",
       "      <th>city_Рыбинск</th>\n",
       "      <th>city_Ярославль</th>\n",
       "      <th>products_1</th>\n",
       "      <th>products_2</th>\n",
       "      <th>products_3</th>\n",
       "      <th>products_4</th>\n",
       "      <th>cluster_km</th>\n",
       "    </tr>\n",
       "  </thead>\n",
       "  <tbody>\n",
       "    <tr>\n",
       "      <th>0</th>\n",
       "      <td>15677338</td>\n",
       "      <td>619</td>\n",
       "      <td>42</td>\n",
       "      <td>2</td>\n",
       "      <td>0.00</td>\n",
       "      <td>1</td>\n",
       "      <td>1</td>\n",
       "      <td>101348.88</td>\n",
       "      <td>1</td>\n",
       "      <td>1</td>\n",
       "      <td>1</td>\n",
       "      <td>0</td>\n",
       "      <td>0</td>\n",
       "      <td>0</td>\n",
       "      <td>1</td>\n",
       "      <td>1</td>\n",
       "      <td>0</td>\n",
       "      <td>0</td>\n",
       "      <td>0</td>\n",
       "      <td>0</td>\n",
       "    </tr>\n",
       "    <tr>\n",
       "      <th>1</th>\n",
       "      <td>15690047</td>\n",
       "      <td>608</td>\n",
       "      <td>41</td>\n",
       "      <td>1</td>\n",
       "      <td>83807.86</td>\n",
       "      <td>0</td>\n",
       "      <td>1</td>\n",
       "      <td>112542.58</td>\n",
       "      <td>0</td>\n",
       "      <td>1</td>\n",
       "      <td>1</td>\n",
       "      <td>0</td>\n",
       "      <td>0</td>\n",
       "      <td>1</td>\n",
       "      <td>0</td>\n",
       "      <td>1</td>\n",
       "      <td>0</td>\n",
       "      <td>0</td>\n",
       "      <td>0</td>\n",
       "      <td>0</td>\n",
       "    </tr>\n",
       "  </tbody>\n",
       "</table>\n",
       "</div>"
      ],
      "text/plain": [
       "    user_id  score  age  objects   balance  credit_card  loyalty  \\\n",
       "0  15677338    619   42        2      0.00            1        1   \n",
       "1  15690047    608   41        1  83807.86            0        1   \n",
       "\n",
       "   estimated_salary  churn  age_group  gender_Ж  gender_М  \\\n",
       "0         101348.88      1          1         1         0   \n",
       "1         112542.58      0          1         1         0   \n",
       "\n",
       "   city_Ростов_Великий  city_Рыбинск  city_Ярославль  products_1  products_2  \\\n",
       "0                    0             0               1           1           0   \n",
       "1                    0             1               0           1           0   \n",
       "\n",
       "   products_3  products_4  cluster_km  \n",
       "0           0           0           0  \n",
       "1           0           0           0  "
      ]
     },
     "execution_count": 72,
     "metadata": {},
     "output_type": "execute_result"
    }
   ],
   "source": [
    "# Для стобца \"city\" и \"gender\" сделаем разбивку\n",
    "#df1 = pd.get_dummies(df, columns=[\"gender\",\"city\",\"products\"])\n",
    "df1 =  df1.rename(columns={'city_Ростов Великий':'city_Ростов_Великий'})\n",
    "#Отобразим всю необходимую информацию о файле\n",
    "df1.info()\n",
    "df1.head(2)"
   ]
  },
  {
   "cell_type": "markdown",
   "id": "6529b4a7",
   "metadata": {},
   "source": [
    "**Вывод:**\n",
    "- наименования столбцов приведены к нижнему регистру;\n",
    "- дубликаты отсутствуют;\n",
    "- обнаружено 3617 пропусков в столбце `balance`, из них 3117 у оставшихся клиентов, 500 у ушедших. Также пустые балансы присутствуют только у Рыбинска и Ярославля.\n",
    "- добавили новые категориальные столбцы, которые в дальнейшем облегчат анализ данных"
   ]
  },
  {
   "cell_type": "markdown",
   "id": "3924239c",
   "metadata": {},
   "source": [
    "## Шаг 2.Исследовательский анализ данных (EDA)"
   ]
  },
  {
   "cell_type": "markdown",
   "id": "0a0c92f9",
   "metadata": {},
   "source": [
    "**Распределие признаков**\n",
    "    \n",
    "Определим особенности данныхи, при необходимости построим графики по колонкам датасета"
   ]
  },
  {
   "cell_type": "code",
   "execution_count": 49,
   "id": "4b2ef1ac",
   "metadata": {},
   "outputs": [
    {
     "name": "stdout",
     "output_type": "stream",
     "text": [
      "850\n",
      "350\n"
     ]
    },
    {
     "data": {
      "text/html": [
       "<div>\n",
       "<style scoped>\n",
       "    .dataframe tbody tr th:only-of-type {\n",
       "        vertical-align: middle;\n",
       "    }\n",
       "\n",
       "    .dataframe tbody tr th {\n",
       "        vertical-align: top;\n",
       "    }\n",
       "\n",
       "    .dataframe thead th {\n",
       "        text-align: right;\n",
       "    }\n",
       "</style>\n",
       "<table border=\"1\" class=\"dataframe\">\n",
       "  <thead>\n",
       "    <tr style=\"text-align: right;\">\n",
       "      <th></th>\n",
       "      <th>score</th>\n",
       "    </tr>\n",
       "  </thead>\n",
       "  <tbody>\n",
       "    <tr>\n",
       "      <th>850</th>\n",
       "      <td>0.0233</td>\n",
       "    </tr>\n",
       "    <tr>\n",
       "      <th>678</th>\n",
       "      <td>0.0063</td>\n",
       "    </tr>\n",
       "    <tr>\n",
       "      <th>655</th>\n",
       "      <td>0.0054</td>\n",
       "    </tr>\n",
       "    <tr>\n",
       "      <th>667</th>\n",
       "      <td>0.0053</td>\n",
       "    </tr>\n",
       "    <tr>\n",
       "      <th>705</th>\n",
       "      <td>0.0053</td>\n",
       "    </tr>\n",
       "    <tr>\n",
       "      <th>684</th>\n",
       "      <td>0.0052</td>\n",
       "    </tr>\n",
       "    <tr>\n",
       "      <th>651</th>\n",
       "      <td>0.0050</td>\n",
       "    </tr>\n",
       "    <tr>\n",
       "      <th>670</th>\n",
       "      <td>0.0050</td>\n",
       "    </tr>\n",
       "    <tr>\n",
       "      <th>683</th>\n",
       "      <td>0.0048</td>\n",
       "    </tr>\n",
       "    <tr>\n",
       "      <th>648</th>\n",
       "      <td>0.0048</td>\n",
       "    </tr>\n",
       "  </tbody>\n",
       "</table>\n",
       "</div>"
      ],
      "text/plain": [
       "      score\n",
       "850  0.0233\n",
       "678  0.0063\n",
       "655  0.0054\n",
       "667  0.0053\n",
       "705  0.0053\n",
       "684  0.0052\n",
       "651  0.0050\n",
       "670  0.0050\n",
       "683  0.0048\n",
       "648  0.0048"
      ]
     },
     "execution_count": 49,
     "metadata": {},
     "output_type": "execute_result"
    }
   ],
   "source": [
    "# score — баллы кредитного скоринга\n",
    "print(df['score'].max())\n",
    "print(df['score'].min())\n",
    "df_score=df['score'].value_counts(normalize = True)\n",
    "df_score = pd.DataFrame(df_score)\n",
    "df_score.head(10)"
   ]
  },
  {
   "cell_type": "markdown",
   "id": "fbd9094a",
   "metadata": {},
   "source": [
    "Максимальное количество баллов 850 и минимальное 350. Большой разброс по данным. у 2% клиентов высокий балл кредитного скоринга"
   ]
  },
  {
   "cell_type": "code",
   "execution_count": 50,
   "id": "24b2a7e0",
   "metadata": {},
   "outputs": [
    {
     "name": "stdout",
     "output_type": "stream",
     "text": [
      "0    54.57\n",
      "1    45.43\n",
      "Name: gender_Ж, dtype: float64\n",
      "1    54.57\n",
      "0    45.43\n",
      "Name: gender_М, dtype: float64\n"
     ]
    }
   ],
   "source": [
    "# gender — пол;\n",
    "df_gender_w = df1['gender_Ж'].value_counts(normalize = True)\n",
    "print(df_gender_w*100)\n",
    "\n",
    "df_gender_m = df1['gender_М'].value_counts(normalize = True)\n",
    "print(df_gender_m*100)"
   ]
  },
  {
   "cell_type": "markdown",
   "id": "ab694c08",
   "metadata": {},
   "source": [
    "- мужчин 55%; \n",
    "- женщин 45%."
   ]
  },
  {
   "cell_type": "code",
   "execution_count": 51,
   "id": "5b0924df",
   "metadata": {},
   "outputs": [
    {
     "data": {
      "text/html": [
       "<div>\n",
       "<style scoped>\n",
       "    .dataframe tbody tr th:only-of-type {\n",
       "        vertical-align: middle;\n",
       "    }\n",
       "\n",
       "    .dataframe tbody tr th {\n",
       "        vertical-align: top;\n",
       "    }\n",
       "\n",
       "    .dataframe thead th {\n",
       "        text-align: right;\n",
       "    }\n",
       "</style>\n",
       "<table border=\"1\" class=\"dataframe\">\n",
       "  <thead>\n",
       "    <tr style=\"text-align: right;\">\n",
       "      <th></th>\n",
       "      <th>age_group</th>\n",
       "    </tr>\n",
       "  </thead>\n",
       "  <tbody>\n",
       "    <tr>\n",
       "      <th>1</th>\n",
       "      <td>59.21</td>\n",
       "    </tr>\n",
       "    <tr>\n",
       "      <th>0</th>\n",
       "      <td>19.68</td>\n",
       "    </tr>\n",
       "    <tr>\n",
       "      <th>2</th>\n",
       "      <td>16.47</td>\n",
       "    </tr>\n",
       "    <tr>\n",
       "      <th>3</th>\n",
       "      <td>4.64</td>\n",
       "    </tr>\n",
       "  </tbody>\n",
       "</table>\n",
       "</div>"
      ],
      "text/plain": [
       "   age_group\n",
       "1      59.21\n",
       "0      19.68\n",
       "2      16.47\n",
       "3       4.64"
      ]
     },
     "execution_count": 51,
     "metadata": {},
     "output_type": "execute_result"
    }
   ],
   "source": [
    "# group_age- возрастные группы \n",
    "df_group = df['age_group'].value_counts(normalize = True)\n",
    "df_group = pd.DataFrame(df_group*100)\n",
    "df_group"
   ]
  },
  {
   "cell_type": "markdown",
   "id": "d85d70ad",
   "metadata": {},
   "source": [
    "80 % - люди в возрасте до 45 лет, из которых 20 % - до 30 лет "
   ]
  },
  {
   "cell_type": "code",
   "execution_count": 52,
   "id": "d4e2a718",
   "metadata": {},
   "outputs": [
    {
     "data": {
      "text/html": [
       "<div>\n",
       "<style scoped>\n",
       "    .dataframe tbody tr th:only-of-type {\n",
       "        vertical-align: middle;\n",
       "    }\n",
       "\n",
       "    .dataframe tbody tr th {\n",
       "        vertical-align: top;\n",
       "    }\n",
       "\n",
       "    .dataframe thead th {\n",
       "        text-align: right;\n",
       "    }\n",
       "</style>\n",
       "<table border=\"1\" class=\"dataframe\">\n",
       "  <thead>\n",
       "    <tr style=\"text-align: right;\">\n",
       "      <th></th>\n",
       "      <th>objects</th>\n",
       "    </tr>\n",
       "  </thead>\n",
       "  <tbody>\n",
       "    <tr>\n",
       "      <th>2</th>\n",
       "      <td>10.48</td>\n",
       "    </tr>\n",
       "    <tr>\n",
       "      <th>1</th>\n",
       "      <td>10.35</td>\n",
       "    </tr>\n",
       "    <tr>\n",
       "      <th>7</th>\n",
       "      <td>10.28</td>\n",
       "    </tr>\n",
       "    <tr>\n",
       "      <th>8</th>\n",
       "      <td>10.25</td>\n",
       "    </tr>\n",
       "    <tr>\n",
       "      <th>5</th>\n",
       "      <td>10.12</td>\n",
       "    </tr>\n",
       "    <tr>\n",
       "      <th>3</th>\n",
       "      <td>10.09</td>\n",
       "    </tr>\n",
       "    <tr>\n",
       "      <th>4</th>\n",
       "      <td>9.89</td>\n",
       "    </tr>\n",
       "    <tr>\n",
       "      <th>9</th>\n",
       "      <td>9.84</td>\n",
       "    </tr>\n",
       "    <tr>\n",
       "      <th>6</th>\n",
       "      <td>9.67</td>\n",
       "    </tr>\n",
       "    <tr>\n",
       "      <th>10</th>\n",
       "      <td>4.90</td>\n",
       "    </tr>\n",
       "    <tr>\n",
       "      <th>0</th>\n",
       "      <td>4.13</td>\n",
       "    </tr>\n",
       "  </tbody>\n",
       "</table>\n",
       "</div>"
      ],
      "text/plain": [
       "    objects\n",
       "2     10.48\n",
       "1     10.35\n",
       "7     10.28\n",
       "8     10.25\n",
       "5     10.12\n",
       "3     10.09\n",
       "4      9.89\n",
       "9      9.84\n",
       "6      9.67\n",
       "10     4.90\n",
       "0      4.13"
      ]
     },
     "execution_count": 52,
     "metadata": {},
     "output_type": "execute_result"
    }
   ],
   "source": [
    "# objects — количество объектов в собственности,\n",
    "df_objects = df['objects'].value_counts(normalize = True)\n",
    "df_objects = pd.DataFrame(df_objects*100)\n",
    "df_objects"
   ]
  },
  {
   "cell_type": "markdown",
   "id": "2563b3f2",
   "metadata": {},
   "source": [
    "Данные равномерно распределены. Большенство имеет более одного объекта в собственности"
   ]
  },
  {
   "cell_type": "code",
   "execution_count": 53,
   "id": "4ed8a4f0",
   "metadata": {},
   "outputs": [
    {
     "data": {
      "text/html": [
       "<div>\n",
       "<style scoped>\n",
       "    .dataframe tbody tr th:only-of-type {\n",
       "        vertical-align: middle;\n",
       "    }\n",
       "\n",
       "    .dataframe tbody tr th {\n",
       "        vertical-align: top;\n",
       "    }\n",
       "\n",
       "    .dataframe thead th {\n",
       "        text-align: right;\n",
       "    }\n",
       "</style>\n",
       "<table border=\"1\" class=\"dataframe\">\n",
       "  <thead>\n",
       "    <tr style=\"text-align: right;\">\n",
       "      <th></th>\n",
       "      <th>products</th>\n",
       "    </tr>\n",
       "  </thead>\n",
       "  <tbody>\n",
       "    <tr>\n",
       "      <th>1</th>\n",
       "      <td>50.84</td>\n",
       "    </tr>\n",
       "    <tr>\n",
       "      <th>2</th>\n",
       "      <td>45.90</td>\n",
       "    </tr>\n",
       "    <tr>\n",
       "      <th>3</th>\n",
       "      <td>2.66</td>\n",
       "    </tr>\n",
       "    <tr>\n",
       "      <th>4</th>\n",
       "      <td>0.60</td>\n",
       "    </tr>\n",
       "  </tbody>\n",
       "</table>\n",
       "</div>"
      ],
      "text/plain": [
       "   products\n",
       "1     50.84\n",
       "2     45.90\n",
       "3      2.66\n",
       "4      0.60"
      ]
     },
     "execution_count": 53,
     "metadata": {},
     "output_type": "execute_result"
    }
   ],
   "source": [
    "#products — количество продуктов, которыми пользуется клиент,\n",
    "df_products = df['products'].value_counts(normalize = True)\n",
    "df_products = pd.DataFrame(df_products*100)\n",
    "df_products"
   ]
  },
  {
   "cell_type": "markdown",
   "id": "e7f07ecf",
   "metadata": {},
   "source": [
    "Очень малый процент людей использует более 2 продуктов "
   ]
  },
  {
   "cell_type": "code",
   "execution_count": 54,
   "id": "47c353c5",
   "metadata": {},
   "outputs": [
    {
     "data": {
      "text/html": [
       "<div>\n",
       "<style scoped>\n",
       "    .dataframe tbody tr th:only-of-type {\n",
       "        vertical-align: middle;\n",
       "    }\n",
       "\n",
       "    .dataframe tbody tr th {\n",
       "        vertical-align: top;\n",
       "    }\n",
       "\n",
       "    .dataframe thead th {\n",
       "        text-align: right;\n",
       "    }\n",
       "</style>\n",
       "<table border=\"1\" class=\"dataframe\">\n",
       "  <thead>\n",
       "    <tr style=\"text-align: right;\">\n",
       "      <th></th>\n",
       "      <th>credit_card</th>\n",
       "    </tr>\n",
       "  </thead>\n",
       "  <tbody>\n",
       "    <tr>\n",
       "      <th>1</th>\n",
       "      <td>70.55</td>\n",
       "    </tr>\n",
       "    <tr>\n",
       "      <th>0</th>\n",
       "      <td>29.45</td>\n",
       "    </tr>\n",
       "  </tbody>\n",
       "</table>\n",
       "</div>"
      ],
      "text/plain": [
       "   credit_card\n",
       "1        70.55\n",
       "0        29.45"
      ]
     },
     "execution_count": 54,
     "metadata": {},
     "output_type": "execute_result"
    }
   ],
   "source": [
    "#CreditCard — есть ли кредитная карта,\n",
    "df_creditcard = df['credit_card'].value_counts(normalize = True)\n",
    "df_creditcard  = pd.DataFrame(df_creditcard *100)\n",
    "df_creditcard "
   ]
  },
  {
   "cell_type": "code",
   "execution_count": 55,
   "id": "14b97ee6",
   "metadata": {},
   "outputs": [
    {
     "data": {
      "text/html": [
       "<div>\n",
       "<style scoped>\n",
       "    .dataframe tbody tr th:only-of-type {\n",
       "        vertical-align: middle;\n",
       "    }\n",
       "\n",
       "    .dataframe tbody tr th {\n",
       "        vertical-align: top;\n",
       "    }\n",
       "\n",
       "    .dataframe thead th {\n",
       "        text-align: right;\n",
       "    }\n",
       "</style>\n",
       "<table border=\"1\" class=\"dataframe\">\n",
       "  <thead>\n",
       "    <tr style=\"text-align: right;\">\n",
       "      <th></th>\n",
       "      <th>loyalty</th>\n",
       "    </tr>\n",
       "  </thead>\n",
       "  <tbody>\n",
       "    <tr>\n",
       "      <th>1</th>\n",
       "      <td>51.51</td>\n",
       "    </tr>\n",
       "    <tr>\n",
       "      <th>0</th>\n",
       "      <td>48.49</td>\n",
       "    </tr>\n",
       "  </tbody>\n",
       "</table>\n",
       "</div>"
      ],
      "text/plain": [
       "   loyalty\n",
       "1    51.51\n",
       "0    48.49"
      ]
     },
     "execution_count": 55,
     "metadata": {},
     "output_type": "execute_result"
    }
   ],
   "source": [
    "#Loyalty — активный клиент,\n",
    "df_loyalty = df['loyalty'].value_counts(normalize = True)\n",
    "df_loyalty = pd.DataFrame(df_loyalty *100)\n",
    "df_loyalty"
   ]
  },
  {
   "cell_type": "markdown",
   "id": "c888cc8b",
   "metadata": {},
   "source": [
    "Почти 49% пользователей банка не лояльны к нему. Далее нужно рассмотреть это в зависимости от возраста. Это позволит нам сузит проблему"
   ]
  },
  {
   "cell_type": "code",
   "execution_count": 56,
   "id": "b832ece9",
   "metadata": {},
   "outputs": [
    {
     "data": {
      "text/html": [
       "<div>\n",
       "<style scoped>\n",
       "    .dataframe tbody tr th:only-of-type {\n",
       "        vertical-align: middle;\n",
       "    }\n",
       "\n",
       "    .dataframe tbody tr th {\n",
       "        vertical-align: top;\n",
       "    }\n",
       "\n",
       "    .dataframe thead th {\n",
       "        text-align: right;\n",
       "    }\n",
       "</style>\n",
       "<table border=\"1\" class=\"dataframe\">\n",
       "  <thead>\n",
       "    <tr style=\"text-align: right;\">\n",
       "      <th></th>\n",
       "      <th>user_id</th>\n",
       "      <th>score</th>\n",
       "      <th>age</th>\n",
       "      <th>objects</th>\n",
       "      <th>balance</th>\n",
       "      <th>credit_card</th>\n",
       "      <th>loyalty</th>\n",
       "      <th>estimated_salary</th>\n",
       "      <th>churn</th>\n",
       "      <th>age_group</th>\n",
       "      <th>gender_Ж</th>\n",
       "      <th>gender_М</th>\n",
       "      <th>city_Ростов Великий</th>\n",
       "      <th>city_Рыбинск</th>\n",
       "      <th>city_Ярославль</th>\n",
       "      <th>products_1</th>\n",
       "      <th>products_2</th>\n",
       "      <th>products_3</th>\n",
       "      <th>products_4</th>\n",
       "    </tr>\n",
       "  </thead>\n",
       "  <tbody>\n",
       "    <tr>\n",
       "      <th>count</th>\n",
       "      <td>1.000000e+04</td>\n",
       "      <td>10000.000000</td>\n",
       "      <td>10000.000000</td>\n",
       "      <td>10000.000000</td>\n",
       "      <td>10000.000000</td>\n",
       "      <td>10000.00000</td>\n",
       "      <td>10000.000000</td>\n",
       "      <td>10000.000000</td>\n",
       "      <td>10000.000000</td>\n",
       "      <td>10000.000000</td>\n",
       "      <td>10000.000000</td>\n",
       "      <td>10000.000000</td>\n",
       "      <td>10000.000000</td>\n",
       "      <td>10000.000000</td>\n",
       "      <td>10000.000000</td>\n",
       "      <td>10000.000000</td>\n",
       "      <td>10000.000000</td>\n",
       "      <td>10000.000000</td>\n",
       "      <td>10000.000000</td>\n",
       "    </tr>\n",
       "    <tr>\n",
       "      <th>mean</th>\n",
       "      <td>1.573368e+07</td>\n",
       "      <td>650.528800</td>\n",
       "      <td>38.921800</td>\n",
       "      <td>5.012800</td>\n",
       "      <td>76485.889288</td>\n",
       "      <td>0.70550</td>\n",
       "      <td>0.515100</td>\n",
       "      <td>100090.239881</td>\n",
       "      <td>0.203700</td>\n",
       "      <td>1.060700</td>\n",
       "      <td>0.454300</td>\n",
       "      <td>0.545700</td>\n",
       "      <td>0.250900</td>\n",
       "      <td>0.247700</td>\n",
       "      <td>0.501400</td>\n",
       "      <td>0.508400</td>\n",
       "      <td>0.459000</td>\n",
       "      <td>0.026600</td>\n",
       "      <td>0.006000</td>\n",
       "    </tr>\n",
       "    <tr>\n",
       "      <th>std</th>\n",
       "      <td>7.193619e+04</td>\n",
       "      <td>96.653299</td>\n",
       "      <td>10.487806</td>\n",
       "      <td>2.892174</td>\n",
       "      <td>62397.405202</td>\n",
       "      <td>0.45584</td>\n",
       "      <td>0.499797</td>\n",
       "      <td>57510.492818</td>\n",
       "      <td>0.402769</td>\n",
       "      <td>0.737204</td>\n",
       "      <td>0.497932</td>\n",
       "      <td>0.497932</td>\n",
       "      <td>0.433553</td>\n",
       "      <td>0.431698</td>\n",
       "      <td>0.500023</td>\n",
       "      <td>0.499954</td>\n",
       "      <td>0.498341</td>\n",
       "      <td>0.160919</td>\n",
       "      <td>0.077231</td>\n",
       "    </tr>\n",
       "    <tr>\n",
       "      <th>min</th>\n",
       "      <td>1.560844e+07</td>\n",
       "      <td>350.000000</td>\n",
       "      <td>18.000000</td>\n",
       "      <td>0.000000</td>\n",
       "      <td>0.000000</td>\n",
       "      <td>0.00000</td>\n",
       "      <td>0.000000</td>\n",
       "      <td>11.580000</td>\n",
       "      <td>0.000000</td>\n",
       "      <td>0.000000</td>\n",
       "      <td>0.000000</td>\n",
       "      <td>0.000000</td>\n",
       "      <td>0.000000</td>\n",
       "      <td>0.000000</td>\n",
       "      <td>0.000000</td>\n",
       "      <td>0.000000</td>\n",
       "      <td>0.000000</td>\n",
       "      <td>0.000000</td>\n",
       "      <td>0.000000</td>\n",
       "    </tr>\n",
       "    <tr>\n",
       "      <th>25%</th>\n",
       "      <td>1.567126e+07</td>\n",
       "      <td>584.000000</td>\n",
       "      <td>32.000000</td>\n",
       "      <td>3.000000</td>\n",
       "      <td>0.000000</td>\n",
       "      <td>0.00000</td>\n",
       "      <td>0.000000</td>\n",
       "      <td>51002.110000</td>\n",
       "      <td>0.000000</td>\n",
       "      <td>1.000000</td>\n",
       "      <td>0.000000</td>\n",
       "      <td>0.000000</td>\n",
       "      <td>0.000000</td>\n",
       "      <td>0.000000</td>\n",
       "      <td>0.000000</td>\n",
       "      <td>0.000000</td>\n",
       "      <td>0.000000</td>\n",
       "      <td>0.000000</td>\n",
       "      <td>0.000000</td>\n",
       "    </tr>\n",
       "    <tr>\n",
       "      <th>50%</th>\n",
       "      <td>1.573347e+07</td>\n",
       "      <td>652.000000</td>\n",
       "      <td>37.000000</td>\n",
       "      <td>5.000000</td>\n",
       "      <td>97198.540000</td>\n",
       "      <td>1.00000</td>\n",
       "      <td>1.000000</td>\n",
       "      <td>100193.915000</td>\n",
       "      <td>0.000000</td>\n",
       "      <td>1.000000</td>\n",
       "      <td>0.000000</td>\n",
       "      <td>1.000000</td>\n",
       "      <td>0.000000</td>\n",
       "      <td>0.000000</td>\n",
       "      <td>1.000000</td>\n",
       "      <td>1.000000</td>\n",
       "      <td>0.000000</td>\n",
       "      <td>0.000000</td>\n",
       "      <td>0.000000</td>\n",
       "    </tr>\n",
       "    <tr>\n",
       "      <th>75%</th>\n",
       "      <td>1.579597e+07</td>\n",
       "      <td>718.000000</td>\n",
       "      <td>44.000000</td>\n",
       "      <td>7.000000</td>\n",
       "      <td>127644.240000</td>\n",
       "      <td>1.00000</td>\n",
       "      <td>1.000000</td>\n",
       "      <td>149388.247500</td>\n",
       "      <td>0.000000</td>\n",
       "      <td>1.000000</td>\n",
       "      <td>1.000000</td>\n",
       "      <td>1.000000</td>\n",
       "      <td>1.000000</td>\n",
       "      <td>0.000000</td>\n",
       "      <td>1.000000</td>\n",
       "      <td>1.000000</td>\n",
       "      <td>1.000000</td>\n",
       "      <td>0.000000</td>\n",
       "      <td>0.000000</td>\n",
       "    </tr>\n",
       "    <tr>\n",
       "      <th>max</th>\n",
       "      <td>1.585843e+07</td>\n",
       "      <td>850.000000</td>\n",
       "      <td>92.000000</td>\n",
       "      <td>10.000000</td>\n",
       "      <td>250898.090000</td>\n",
       "      <td>1.00000</td>\n",
       "      <td>1.000000</td>\n",
       "      <td>199992.480000</td>\n",
       "      <td>1.000000</td>\n",
       "      <td>3.000000</td>\n",
       "      <td>1.000000</td>\n",
       "      <td>1.000000</td>\n",
       "      <td>1.000000</td>\n",
       "      <td>1.000000</td>\n",
       "      <td>1.000000</td>\n",
       "      <td>1.000000</td>\n",
       "      <td>1.000000</td>\n",
       "      <td>1.000000</td>\n",
       "      <td>1.000000</td>\n",
       "    </tr>\n",
       "  </tbody>\n",
       "</table>\n",
       "</div>"
      ],
      "text/plain": [
       "            user_id         score           age       objects        balance  \\\n",
       "count  1.000000e+04  10000.000000  10000.000000  10000.000000   10000.000000   \n",
       "mean   1.573368e+07    650.528800     38.921800      5.012800   76485.889288   \n",
       "std    7.193619e+04     96.653299     10.487806      2.892174   62397.405202   \n",
       "min    1.560844e+07    350.000000     18.000000      0.000000       0.000000   \n",
       "25%    1.567126e+07    584.000000     32.000000      3.000000       0.000000   \n",
       "50%    1.573347e+07    652.000000     37.000000      5.000000   97198.540000   \n",
       "75%    1.579597e+07    718.000000     44.000000      7.000000  127644.240000   \n",
       "max    1.585843e+07    850.000000     92.000000     10.000000  250898.090000   \n",
       "\n",
       "       credit_card       loyalty  estimated_salary         churn  \\\n",
       "count  10000.00000  10000.000000      10000.000000  10000.000000   \n",
       "mean       0.70550      0.515100     100090.239881      0.203700   \n",
       "std        0.45584      0.499797      57510.492818      0.402769   \n",
       "min        0.00000      0.000000         11.580000      0.000000   \n",
       "25%        0.00000      0.000000      51002.110000      0.000000   \n",
       "50%        1.00000      1.000000     100193.915000      0.000000   \n",
       "75%        1.00000      1.000000     149388.247500      0.000000   \n",
       "max        1.00000      1.000000     199992.480000      1.000000   \n",
       "\n",
       "          age_group      gender_Ж      gender_М  city_Ростов Великий  \\\n",
       "count  10000.000000  10000.000000  10000.000000         10000.000000   \n",
       "mean       1.060700      0.454300      0.545700             0.250900   \n",
       "std        0.737204      0.497932      0.497932             0.433553   \n",
       "min        0.000000      0.000000      0.000000             0.000000   \n",
       "25%        1.000000      0.000000      0.000000             0.000000   \n",
       "50%        1.000000      0.000000      1.000000             0.000000   \n",
       "75%        1.000000      1.000000      1.000000             1.000000   \n",
       "max        3.000000      1.000000      1.000000             1.000000   \n",
       "\n",
       "       city_Рыбинск  city_Ярославль    products_1    products_2    products_3  \\\n",
       "count  10000.000000    10000.000000  10000.000000  10000.000000  10000.000000   \n",
       "mean       0.247700        0.501400      0.508400      0.459000      0.026600   \n",
       "std        0.431698        0.500023      0.499954      0.498341      0.160919   \n",
       "min        0.000000        0.000000      0.000000      0.000000      0.000000   \n",
       "25%        0.000000        0.000000      0.000000      0.000000      0.000000   \n",
       "50%        0.000000        1.000000      1.000000      0.000000      0.000000   \n",
       "75%        0.000000        1.000000      1.000000      1.000000      0.000000   \n",
       "max        1.000000        1.000000      1.000000      1.000000      1.000000   \n",
       "\n",
       "         products_4  \n",
       "count  10000.000000  \n",
       "mean       0.006000  \n",
       "std        0.077231  \n",
       "min        0.000000  \n",
       "25%        0.000000  \n",
       "50%        0.000000  \n",
       "75%        0.000000  \n",
       "max        1.000000  "
      ]
     },
     "execution_count": 56,
     "metadata": {},
     "output_type": "execute_result"
    }
   ],
   "source": [
    "# describe() для всех столбцов\n",
    "df1.describe()"
   ]
  },
  {
   "cell_type": "markdown",
   "id": "70452bad",
   "metadata": {},
   "source": [
    "**Портрет среднестатистического клиента:**\n",
    "- Не старше 37 лет;\n",
    "- В наличии не более 2 объектов;\n",
    "- Использует не более 2 продуктов банка;\n",
    "- Средняя зарплата около 100 тысяч;\n",
    "- Наличие кредитной карты;\n",
    "- Почти 50% пользователей из Ярославля, остальные в равных долях в Ростов Великий и Рыбинске."
   ]
  },
  {
   "cell_type": "markdown",
   "id": "bb0c8251",
   "metadata": {},
   "source": [
    "**Посмотрим на средние значения признаков в двух группах — тех, кто ушел в отток и тех, кто остался**"
   ]
  },
  {
   "cell_type": "code",
   "execution_count": 57,
   "id": "a0c8be57",
   "metadata": {},
   "outputs": [
    {
     "data": {
      "text/html": [
       "<div>\n",
       "<style scoped>\n",
       "    .dataframe tbody tr th:only-of-type {\n",
       "        vertical-align: middle;\n",
       "    }\n",
       "\n",
       "    .dataframe tbody tr th {\n",
       "        vertical-align: top;\n",
       "    }\n",
       "\n",
       "    .dataframe thead th {\n",
       "        text-align: right;\n",
       "    }\n",
       "</style>\n",
       "<table border=\"1\" class=\"dataframe\">\n",
       "  <thead>\n",
       "    <tr style=\"text-align: right;\">\n",
       "      <th></th>\n",
       "      <th>user_id</th>\n",
       "      <th>score</th>\n",
       "      <th>age</th>\n",
       "      <th>objects</th>\n",
       "      <th>balance</th>\n",
       "      <th>credit_card</th>\n",
       "      <th>loyalty</th>\n",
       "      <th>estimated_salary</th>\n",
       "      <th>age_group</th>\n",
       "      <th>gender_Ж</th>\n",
       "      <th>gender_М</th>\n",
       "      <th>city_Ростов Великий</th>\n",
       "      <th>city_Рыбинск</th>\n",
       "      <th>city_Ярославль</th>\n",
       "      <th>products_1</th>\n",
       "      <th>products_2</th>\n",
       "      <th>products_3</th>\n",
       "      <th>products_4</th>\n",
       "    </tr>\n",
       "    <tr>\n",
       "      <th>churn</th>\n",
       "      <th></th>\n",
       "      <th></th>\n",
       "      <th></th>\n",
       "      <th></th>\n",
       "      <th></th>\n",
       "      <th></th>\n",
       "      <th></th>\n",
       "      <th></th>\n",
       "      <th></th>\n",
       "      <th></th>\n",
       "      <th></th>\n",
       "      <th></th>\n",
       "      <th></th>\n",
       "      <th></th>\n",
       "      <th></th>\n",
       "      <th></th>\n",
       "      <th></th>\n",
       "      <th></th>\n",
       "    </tr>\n",
       "  </thead>\n",
       "  <tbody>\n",
       "    <tr>\n",
       "      <th>0</th>\n",
       "      <td>1.573390e+07</td>\n",
       "      <td>651.853196</td>\n",
       "      <td>37.408389</td>\n",
       "      <td>5.033279</td>\n",
       "      <td>72745.296779</td>\n",
       "      <td>0.707146</td>\n",
       "      <td>0.554565</td>\n",
       "      <td>99738.391772</td>\n",
       "      <td>0.960191</td>\n",
       "      <td>0.427477</td>\n",
       "      <td>0.572523</td>\n",
       "      <td>0.212859</td>\n",
       "      <td>0.259199</td>\n",
       "      <td>0.527942</td>\n",
       "      <td>0.461509</td>\n",
       "      <td>0.532714</td>\n",
       "      <td>0.005777</td>\n",
       "      <td>0.000000</td>\n",
       "    </tr>\n",
       "    <tr>\n",
       "      <th>1</th>\n",
       "      <td>1.573279e+07</td>\n",
       "      <td>645.351497</td>\n",
       "      <td>44.837997</td>\n",
       "      <td>4.932744</td>\n",
       "      <td>91108.539337</td>\n",
       "      <td>0.699067</td>\n",
       "      <td>0.360825</td>\n",
       "      <td>101465.677531</td>\n",
       "      <td>1.453608</td>\n",
       "      <td>0.559156</td>\n",
       "      <td>0.440844</td>\n",
       "      <td>0.399607</td>\n",
       "      <td>0.202749</td>\n",
       "      <td>0.397644</td>\n",
       "      <td>0.691703</td>\n",
       "      <td>0.170839</td>\n",
       "      <td>0.108002</td>\n",
       "      <td>0.029455</td>\n",
       "    </tr>\n",
       "  </tbody>\n",
       "</table>\n",
       "</div>"
      ],
      "text/plain": [
       "            user_id       score        age   objects       balance  \\\n",
       "churn                                                                \n",
       "0      1.573390e+07  651.853196  37.408389  5.033279  72745.296779   \n",
       "1      1.573279e+07  645.351497  44.837997  4.932744  91108.539337   \n",
       "\n",
       "       credit_card   loyalty  estimated_salary  age_group  gender_Ж  gender_М  \\\n",
       "churn                                                                           \n",
       "0         0.707146  0.554565      99738.391772   0.960191  0.427477  0.572523   \n",
       "1         0.699067  0.360825     101465.677531   1.453608  0.559156  0.440844   \n",
       "\n",
       "       city_Ростов Великий  city_Рыбинск  city_Ярославль  products_1  \\\n",
       "churn                                                                  \n",
       "0                 0.212859      0.259199        0.527942    0.461509   \n",
       "1                 0.399607      0.202749        0.397644    0.691703   \n",
       "\n",
       "       products_2  products_3  products_4  \n",
       "churn                                      \n",
       "0        0.532714    0.005777    0.000000  \n",
       "1        0.170839    0.108002    0.029455  "
      ]
     },
     "execution_count": 57,
     "metadata": {},
     "output_type": "execute_result"
    }
   ],
   "source": [
    "churn_group = df1.groupby(['churn']).mean()\n",
    "churn_group"
   ]
  },
  {
   "cell_type": "markdown",
   "id": "00f23fe4",
   "metadata": {},
   "source": [
    "**Вывод по средним значениям по оттоку:**\n",
    "- Баллы кредитного скоринга не имеют значительных различий между группами;\n",
    "- Средний возраст различается: 37 лет у оставшегося клиента и 44 у ушедшего;\n",
    "- Таким образом люди с оттоком попадают чаще в группу 1 (возраст от 31 до 45 лет);\n",
    "- среднее количество по имеющимся объектам недвижимости почти одинаковое;\n",
    "- люди, которые используют 1 продукт подвержену к оттоку;\n",
    "- баланс на счетах - почти одинаковый;\n",
    "- лояльность  выше у оставшихся;\n",
    "- в Ростове Великом и Ярославле отток больше чем в Рыбинске (отток незначительно меньше оставшихся);\n",
    "- Женщины чаще уходят;"
   ]
  },
  {
   "cell_type": "markdown",
   "id": "685e7139",
   "metadata": {},
   "source": [
    "**Построим столбчатые гистограммы и распределения признаков для тех, кто ушёл (отток) и тех, кто остался (не попали в отток)**"
   ]
  },
  {
   "cell_type": "code",
   "execution_count": 58,
   "id": "468ea708",
   "metadata": {},
   "outputs": [
    {
     "data": {
      "image/png": "[encoded data removed]",
      "text/plain": [
       "<Figure size 1440x2160 with 10 Axes>"
      ]
     },
     "metadata": {
      "needs_background": "light"
     },
     "output_type": "display_data"
    }
   ],
   "source": [
    "research = ['age', 'objects', 'balance', 'loyalty', 'estimated_salary','age_group',\n",
    "            'products_1', 'products_2','products_3', 'products_4']\n",
    "\n",
    "# число рядов и столбцов в сетке графиков\n",
    "col_count, row_count = 2, 6\n",
    "# размер графиков\n",
    "plt.figure(figsize = (20, 30))\n",
    "\n",
    "# положение графиков в сетке, i+1 порядковый номер графика\n",
    "for i, j in enumerate(research):\n",
    "    for churn in df1['churn'].unique():\n",
    "        current = df1.query('churn == @churn')\n",
    "        sns.distplot(current[j], ax = plt.subplot(row_count, col_count, i+1))\n",
    "    \n",
    "    # подзаголовки на каждый график\n",
    "    plt.title(j)\n",
    "    \n",
    "    # легенды на каждый график\n",
    "    plt.legend(labels=['Оставшиеся', 'Ушедшие'], fontsize = 12)\n",
    "\n",
    "# название\n",
    "plt.suptitle('Распределение параметров по оттоку', y = 1, fontsize = 15)\n",
    "# настройка подзаголовков\n",
    "plt.tight_layout()\n",
    "plt.show()"
   ]
  },
  {
   "cell_type": "markdown",
   "id": "7deb359c",
   "metadata": {},
   "source": [
    "*Графики, которые не имеют существенных различий:* \n",
    "- кредитный скоринг, \n",
    "- количество объектов, \n",
    "- зарплата, \n",
    "- наличие кредитной карты.\n",
    "\n",
    "Данные признаки не оказывают существенного влияния на отток клиентов\n",
    "\n",
    "*Явные различия в поведении клиентов по признакам:*\n",
    "- возраст и возрастные группы, \n",
    "- баланс счета,\n",
    "- количество используемых продуктов."
   ]
  },
  {
   "cell_type": "markdown",
   "id": "8a0123cd",
   "metadata": {},
   "source": [
    "**Построим матрицу корреляций и отобразим её.**"
   ]
  },
  {
   "cell_type": "code",
   "execution_count": 59,
   "id": "64822424",
   "metadata": {},
   "outputs": [
    {
     "data": {
      "image/png": "[encoded data removed]",
      "text/plain": [
       "<Figure size 864x864 with 2 Axes>"
      ]
     },
     "metadata": {
      "needs_background": "light"
     },
     "output_type": "display_data"
    },
    {
     "data": {
      "text/html": [
       "<div>\n",
       "<style scoped>\n",
       "    .dataframe tbody tr th:only-of-type {\n",
       "        vertical-align: middle;\n",
       "    }\n",
       "\n",
       "    .dataframe tbody tr th {\n",
       "        vertical-align: top;\n",
       "    }\n",
       "\n",
       "    .dataframe thead th {\n",
       "        text-align: right;\n",
       "    }\n",
       "</style>\n",
       "<table border=\"1\" class=\"dataframe\">\n",
       "  <thead>\n",
       "    <tr style=\"text-align: right;\">\n",
       "      <th></th>\n",
       "      <th>score</th>\n",
       "      <th>age</th>\n",
       "      <th>objects</th>\n",
       "      <th>balance</th>\n",
       "      <th>credit_card</th>\n",
       "      <th>loyalty</th>\n",
       "      <th>estimated_salary</th>\n",
       "      <th>churn</th>\n",
       "      <th>age_group</th>\n",
       "      <th>gender_Ж</th>\n",
       "      <th>gender_М</th>\n",
       "      <th>city_Ростов Великий</th>\n",
       "      <th>city_Рыбинск</th>\n",
       "      <th>city_Ярославль</th>\n",
       "      <th>products_1</th>\n",
       "      <th>products_2</th>\n",
       "      <th>products_3</th>\n",
       "      <th>products_4</th>\n",
       "    </tr>\n",
       "  </thead>\n",
       "  <tbody>\n",
       "    <tr>\n",
       "      <th>score</th>\n",
       "      <td>1.000000</td>\n",
       "      <td>-0.005414</td>\n",
       "      <td>0.000791</td>\n",
       "      <td>0.004034</td>\n",
       "      <td>-0.003110</td>\n",
       "      <td>0.019844</td>\n",
       "      <td>0.000807</td>\n",
       "      <td>-0.019049</td>\n",
       "      <td>-0.006044</td>\n",
       "      <td>0.002463</td>\n",
       "      <td>-0.002463</td>\n",
       "      <td>0.004466</td>\n",
       "      <td>0.002205</td>\n",
       "      <td>-0.005776</td>\n",
       "      <td>-0.011068</td>\n",
       "      <td>0.011691</td>\n",
       "      <td>-0.002468</td>\n",
       "      <td>0.001353</td>\n",
       "    </tr>\n",
       "    <tr>\n",
       "      <th>age</th>\n",
       "      <td>-0.005414</td>\n",
       "      <td>1.000000</td>\n",
       "      <td>-0.007424</td>\n",
       "      <td>0.023611</td>\n",
       "      <td>-0.012666</td>\n",
       "      <td>0.033027</td>\n",
       "      <td>-0.001571</td>\n",
       "      <td>0.268573</td>\n",
       "      <td>0.774648</td>\n",
       "      <td>0.024692</td>\n",
       "      <td>-0.024692</td>\n",
       "      <td>0.046619</td>\n",
       "      <td>0.000612</td>\n",
       "      <td>-0.040950</td>\n",
       "      <td>0.065166</td>\n",
       "      <td>-0.093340</td>\n",
       "      <td>0.063294</td>\n",
       "      <td>0.048555</td>\n",
       "    </tr>\n",
       "    <tr>\n",
       "      <th>objects</th>\n",
       "      <td>0.000791</td>\n",
       "      <td>-0.007424</td>\n",
       "      <td>1.000000</td>\n",
       "      <td>-0.007016</td>\n",
       "      <td>0.019107</td>\n",
       "      <td>-0.024508</td>\n",
       "      <td>0.005423</td>\n",
       "      <td>-0.011947</td>\n",
       "      <td>-0.009021</td>\n",
       "      <td>-0.012903</td>\n",
       "      <td>0.012903</td>\n",
       "      <td>-0.000522</td>\n",
       "      <td>0.003473</td>\n",
       "      <td>-0.002546</td>\n",
       "      <td>-0.011176</td>\n",
       "      <td>0.010487</td>\n",
       "      <td>-0.000818</td>\n",
       "      <td>0.006381</td>\n",
       "    </tr>\n",
       "    <tr>\n",
       "      <th>balance</th>\n",
       "      <td>0.004034</td>\n",
       "      <td>0.023611</td>\n",
       "      <td>-0.007016</td>\n",
       "      <td>1.000000</td>\n",
       "      <td>-0.008407</td>\n",
       "      <td>-0.009828</td>\n",
       "      <td>0.008200</td>\n",
       "      <td>0.094983</td>\n",
       "      <td>0.025392</td>\n",
       "      <td>-0.011544</td>\n",
       "      <td>0.011544</td>\n",
       "      <td>0.317787</td>\n",
       "      <td>-0.108453</td>\n",
       "      <td>-0.181908</td>\n",
       "      <td>0.285114</td>\n",
       "      <td>-0.288309</td>\n",
       "      <td>-0.001855</td>\n",
       "      <td>0.018525</td>\n",
       "    </tr>\n",
       "    <tr>\n",
       "      <th>credit_card</th>\n",
       "      <td>-0.003110</td>\n",
       "      <td>-0.012666</td>\n",
       "      <td>0.019107</td>\n",
       "      <td>-0.008407</td>\n",
       "      <td>1.000000</td>\n",
       "      <td>-0.011866</td>\n",
       "      <td>-0.008199</td>\n",
       "      <td>-0.007138</td>\n",
       "      <td>-0.006835</td>\n",
       "      <td>-0.005766</td>\n",
       "      <td>0.005766</td>\n",
       "      <td>0.010577</td>\n",
       "      <td>-0.013480</td>\n",
       "      <td>0.002467</td>\n",
       "      <td>-0.003845</td>\n",
       "      <td>0.003414</td>\n",
       "      <td>0.003186</td>\n",
       "      <td>-0.003778</td>\n",
       "    </tr>\n",
       "  </tbody>\n",
       "</table>\n",
       "</div>"
      ],
      "text/plain": [
       "                score       age   objects   balance  credit_card   loyalty  \\\n",
       "score        1.000000 -0.005414  0.000791  0.004034    -0.003110  0.019844   \n",
       "age         -0.005414  1.000000 -0.007424  0.023611    -0.012666  0.033027   \n",
       "objects      0.000791 -0.007424  1.000000 -0.007016     0.019107 -0.024508   \n",
       "balance      0.004034  0.023611 -0.007016  1.000000    -0.008407 -0.009828   \n",
       "credit_card -0.003110 -0.012666  0.019107 -0.008407     1.000000 -0.011866   \n",
       "\n",
       "             estimated_salary     churn  age_group  gender_Ж  gender_М  \\\n",
       "score                0.000807 -0.019049  -0.006044  0.002463 -0.002463   \n",
       "age                 -0.001571  0.268573   0.774648  0.024692 -0.024692   \n",
       "objects              0.005423 -0.011947  -0.009021 -0.012903  0.012903   \n",
       "balance              0.008200  0.094983   0.025392 -0.011544  0.011544   \n",
       "credit_card         -0.008199 -0.007138  -0.006835 -0.005766  0.005766   \n",
       "\n",
       "             city_Ростов Великий  city_Рыбинск  city_Ярославль  products_1  \\\n",
       "score                   0.004466      0.002205       -0.005776   -0.011068   \n",
       "age                     0.046619      0.000612       -0.040950    0.065166   \n",
       "objects                -0.000522      0.003473       -0.002546   -0.011176   \n",
       "balance                 0.317787     -0.108453       -0.181908    0.285114   \n",
       "credit_card             0.010577     -0.013480        0.002467   -0.003845   \n",
       "\n",
       "             products_2  products_3  products_4  \n",
       "score          0.011691   -0.002468    0.001353  \n",
       "age           -0.093340    0.063294    0.048555  \n",
       "objects        0.010487   -0.000818    0.006381  \n",
       "balance       -0.288309   -0.001855    0.018525  \n",
       "credit_card    0.003414    0.003186   -0.003778  "
      ]
     },
     "execution_count": 59,
     "metadata": {},
     "output_type": "execute_result"
    }
   ],
   "source": [
    "from scipy.stats import kendalltau\n",
    "# матрица корреляций\n",
    "df_corr = df1.drop(['user_id'], axis=1)\n",
    "m_corr = df_corr.corr(method='kendall')\n",
    "plt.figure(figsize = (12, 12))\n",
    "\n",
    "# тепловая карта с подписями для матрицы корреляций\n",
    "sns.heatmap(m_corr, annot=True, square=True, cmap= 'PuBu')\n",
    "plt.title('Распределение корреляции Кендалла\\n', fontsize=10)\n",
    "plt.show()\n",
    "\n",
    "m_corr.head()"
   ]
  },
  {
   "cell_type": "markdown",
   "id": "f4e7fe9e",
   "metadata": {},
   "source": [
    "**Выводы на основании корреляции:**\n",
    "- высокая корреляция наблюдается между параметрами возраст клиента и факт его оттока;\n",
    "- клиенты из Ростова Великого имеют с большей вероятностью средства на балансе, чем жители из других представленных городов. \n",
    "- для жителей Ростова Великого, характерен больший отток из банка \n",
    "- также для жителей Ростова более характерен отток из банка\n",
    "- взаимосвязь с клиентами банка женского пола и оттоком \n",
    "- количество продуктов влияет на отток: 1 или 3 продукта"
   ]
  },
  {
   "cell_type": "markdown",
   "id": "b3dba3cd",
   "metadata": {},
   "source": [
    "**Вывод по EDA:**\n",
    "\n",
    "*1. Портрет среднестатистического клиента:*\n",
    "- Не старше 37 лет;\n",
    "- В наличии не более 2 объектов;\n",
    "- Использует не более 2 продуктов банка;\n",
    "- Средняя зарплата около 100 тысяч;\n",
    "- Наличие кредитной карты;\n",
    "- Почти 50% пользователей из Ярославля, остальные в равных долях в Ростов Великий и Рыбинске.\n",
    "\n",
    "*2. Оценка результата после детального анализа данных:*\n",
    "- Баллы кредитного скоринга не имеют значительных различий между группами;\n",
    "- Средний возраст различается: 37 лет у оставшегося клиента и 44 у ушедшего;\n",
    "- Таким образом люди с оттоком попадают чаще в группу 1 (возраст от 31 до 45 лет);\n",
    "- среднее количество по имеющимся объектам недвижимости почти одинаковое;\n",
    "- люди, которые используют 1 продукт подвержену к оттоку;\n",
    "- баланс на счетах - почти одинаковый;\n",
    "- лояльность  выше у оставшихся;\n",
    "- в Ростове Великом и Ярославле отток больше чем в Рыбинске (отток незначительно меньше оставшихся);\n",
    "- Женщины чаще уходят;"
   ]
  },
  {
   "cell_type": "markdown",
   "id": "44626ba7",
   "metadata": {},
   "source": [
    "# Шаг 3. Выявление портреты клиентов, которые склонных уходить из банка"
   ]
  },
  {
   "cell_type": "markdown",
   "id": "d4172248",
   "metadata": {},
   "source": [
    "**Стандартизируем данные**"
   ]
  },
  {
   "cell_type": "code",
   "execution_count": 60,
   "id": "0735206e",
   "metadata": {},
   "outputs": [],
   "source": [
    "# создаём объект класса scaler (нормализатор)\n",
    "from scipy.cluster.hierarchy import dendrogram, linkage\n",
    "from sklearn.preprocessing import StandardScaler\n",
    "scaler = StandardScaler() \n",
    "df_scaler = scaler.fit_transform(df1.drop(columns = ['churn'])) "
   ]
  },
  {
   "cell_type": "code",
   "execution_count": 61,
   "id": "98086580",
   "metadata": {},
   "outputs": [
    {
     "data": {
      "image/png": "[encoded data removed]",
      "text/plain": [
       "<Figure size 1080x720 with 1 Axes>"
      ]
     },
     "metadata": {
      "needs_background": "light"
     },
     "output_type": "display_data"
    }
   ],
   "source": [
    "linked = linkage(df_scaler, method = 'ward')\n",
    "plt.figure(figsize=(15, 10))  \n",
    "dendrogram(linked, orientation='top')\n",
    "plt.title('Иерархическая кластеризация')\n",
    "plt.show()"
   ]
  },
  {
   "cell_type": "markdown",
   "id": "b9aea84e",
   "metadata": {},
   "source": [
    "**Обучим модель кластеризации на основании алгоритма K-Means и спрогнозируем кластеры клиентов. Число кластеров n=6**"
   ]
  },
  {
   "cell_type": "code",
   "execution_count": 62,
   "id": "7cc2c518",
   "metadata": {},
   "outputs": [
    {
     "data": {
      "text/html": [
       "<div>\n",
       "<style scoped>\n",
       "    .dataframe tbody tr th:only-of-type {\n",
       "        vertical-align: middle;\n",
       "    }\n",
       "\n",
       "    .dataframe tbody tr th {\n",
       "        vertical-align: top;\n",
       "    }\n",
       "\n",
       "    .dataframe thead th {\n",
       "        text-align: right;\n",
       "    }\n",
       "</style>\n",
       "<table border=\"1\" class=\"dataframe\">\n",
       "  <thead>\n",
       "    <tr style=\"text-align: right;\">\n",
       "      <th></th>\n",
       "      <th>user_id</th>\n",
       "      <th>score</th>\n",
       "      <th>age</th>\n",
       "      <th>objects</th>\n",
       "      <th>balance</th>\n",
       "      <th>credit_card</th>\n",
       "      <th>loyalty</th>\n",
       "      <th>estimated_salary</th>\n",
       "      <th>churn</th>\n",
       "      <th>age_group</th>\n",
       "      <th>gender_Ж</th>\n",
       "      <th>gender_М</th>\n",
       "      <th>city_Ростов Великий</th>\n",
       "      <th>city_Рыбинск</th>\n",
       "      <th>city_Ярославль</th>\n",
       "      <th>products_1</th>\n",
       "      <th>products_2</th>\n",
       "      <th>products_3</th>\n",
       "      <th>products_4</th>\n",
       "    </tr>\n",
       "    <tr>\n",
       "      <th>cluster_km</th>\n",
       "      <th></th>\n",
       "      <th></th>\n",
       "      <th></th>\n",
       "      <th></th>\n",
       "      <th></th>\n",
       "      <th></th>\n",
       "      <th></th>\n",
       "      <th></th>\n",
       "      <th></th>\n",
       "      <th></th>\n",
       "      <th></th>\n",
       "      <th></th>\n",
       "      <th></th>\n",
       "      <th></th>\n",
       "      <th></th>\n",
       "      <th></th>\n",
       "      <th></th>\n",
       "      <th></th>\n",
       "      <th></th>\n",
       "    </tr>\n",
       "  </thead>\n",
       "  <tbody>\n",
       "    <tr>\n",
       "      <th>0</th>\n",
       "      <td>1.573316e+07</td>\n",
       "      <td>649.707880</td>\n",
       "      <td>40.043970</td>\n",
       "      <td>4.958206</td>\n",
       "      <td>96809.186003</td>\n",
       "      <td>0.702656</td>\n",
       "      <td>0.494558</td>\n",
       "      <td>100461.898158</td>\n",
       "      <td>0.332172</td>\n",
       "      <td>1.142360</td>\n",
       "      <td>1.000000</td>\n",
       "      <td>0.000000</td>\n",
       "      <td>0.289073</td>\n",
       "      <td>0.224641</td>\n",
       "      <td>0.486286</td>\n",
       "      <td>0.999565</td>\n",
       "      <td>0.000000</td>\n",
       "      <td>0.000435</td>\n",
       "      <td>0.0</td>\n",
       "    </tr>\n",
       "    <tr>\n",
       "      <th>1</th>\n",
       "      <td>1.573508e+07</td>\n",
       "      <td>651.753692</td>\n",
       "      <td>37.943296</td>\n",
       "      <td>5.007679</td>\n",
       "      <td>33502.688145</td>\n",
       "      <td>0.700532</td>\n",
       "      <td>0.511518</td>\n",
       "      <td>100996.890910</td>\n",
       "      <td>0.128175</td>\n",
       "      <td>0.986415</td>\n",
       "      <td>1.000000</td>\n",
       "      <td>0.000000</td>\n",
       "      <td>0.000000</td>\n",
       "      <td>0.335499</td>\n",
       "      <td>0.664501</td>\n",
       "      <td>0.000000</td>\n",
       "      <td>0.943887</td>\n",
       "      <td>0.056113</td>\n",
       "      <td>0.0</td>\n",
       "    </tr>\n",
       "    <tr>\n",
       "      <th>2</th>\n",
       "      <td>1.573069e+07</td>\n",
       "      <td>648.712660</td>\n",
       "      <td>39.033665</td>\n",
       "      <td>5.006164</td>\n",
       "      <td>93691.280526</td>\n",
       "      <td>0.704125</td>\n",
       "      <td>0.518255</td>\n",
       "      <td>99110.471427</td>\n",
       "      <td>0.183973</td>\n",
       "      <td>1.071124</td>\n",
       "      <td>0.000000</td>\n",
       "      <td>1.000000</td>\n",
       "      <td>0.000000</td>\n",
       "      <td>0.335230</td>\n",
       "      <td>0.664770</td>\n",
       "      <td>0.997155</td>\n",
       "      <td>0.000000</td>\n",
       "      <td>0.002845</td>\n",
       "      <td>0.0</td>\n",
       "    </tr>\n",
       "    <tr>\n",
       "      <th>3</th>\n",
       "      <td>1.573528e+07</td>\n",
       "      <td>652.273403</td>\n",
       "      <td>37.732046</td>\n",
       "      <td>5.097078</td>\n",
       "      <td>31871.784567</td>\n",
       "      <td>0.705300</td>\n",
       "      <td>0.534423</td>\n",
       "      <td>99956.712100</td>\n",
       "      <td>0.064884</td>\n",
       "      <td>0.987122</td>\n",
       "      <td>0.000000</td>\n",
       "      <td>1.000000</td>\n",
       "      <td>0.000000</td>\n",
       "      <td>0.335810</td>\n",
       "      <td>0.664190</td>\n",
       "      <td>0.000000</td>\n",
       "      <td>0.966815</td>\n",
       "      <td>0.033185</td>\n",
       "      <td>0.0</td>\n",
       "    </tr>\n",
       "    <tr>\n",
       "      <th>4</th>\n",
       "      <td>1.571936e+07</td>\n",
       "      <td>653.583333</td>\n",
       "      <td>45.683333</td>\n",
       "      <td>5.300000</td>\n",
       "      <td>93733.135000</td>\n",
       "      <td>0.683333</td>\n",
       "      <td>0.483333</td>\n",
       "      <td>104763.723333</td>\n",
       "      <td>1.000000</td>\n",
       "      <td>1.483333</td>\n",
       "      <td>0.633333</td>\n",
       "      <td>0.366667</td>\n",
       "      <td>0.400000</td>\n",
       "      <td>0.116667</td>\n",
       "      <td>0.483333</td>\n",
       "      <td>0.000000</td>\n",
       "      <td>0.000000</td>\n",
       "      <td>0.000000</td>\n",
       "      <td>1.0</td>\n",
       "    </tr>\n",
       "    <tr>\n",
       "      <th>5</th>\n",
       "      <td>1.573517e+07</td>\n",
       "      <td>650.493963</td>\n",
       "      <td>39.382547</td>\n",
       "      <td>4.991218</td>\n",
       "      <td>119758.567415</td>\n",
       "      <td>0.716246</td>\n",
       "      <td>0.520307</td>\n",
       "      <td>99907.394654</td>\n",
       "      <td>0.262349</td>\n",
       "      <td>1.082327</td>\n",
       "      <td>0.282656</td>\n",
       "      <td>0.717344</td>\n",
       "      <td>0.999451</td>\n",
       "      <td>0.000549</td>\n",
       "      <td>0.000000</td>\n",
       "      <td>0.375960</td>\n",
       "      <td>0.570801</td>\n",
       "      <td>0.053238</td>\n",
       "      <td>0.0</td>\n",
       "    </tr>\n",
       "  </tbody>\n",
       "</table>\n",
       "</div>"
      ],
      "text/plain": [
       "                 user_id       score        age   objects        balance  \\\n",
       "cluster_km                                                                 \n",
       "0           1.573316e+07  649.707880  40.043970  4.958206   96809.186003   \n",
       "1           1.573508e+07  651.753692  37.943296  5.007679   33502.688145   \n",
       "2           1.573069e+07  648.712660  39.033665  5.006164   93691.280526   \n",
       "3           1.573528e+07  652.273403  37.732046  5.097078   31871.784567   \n",
       "4           1.571936e+07  653.583333  45.683333  5.300000   93733.135000   \n",
       "5           1.573517e+07  650.493963  39.382547  4.991218  119758.567415   \n",
       "\n",
       "            credit_card   loyalty  estimated_salary     churn  age_group  \\\n",
       "cluster_km                                                                 \n",
       "0              0.702656  0.494558     100461.898158  0.332172   1.142360   \n",
       "1              0.700532  0.511518     100996.890910  0.128175   0.986415   \n",
       "2              0.704125  0.518255      99110.471427  0.183973   1.071124   \n",
       "3              0.705300  0.534423      99956.712100  0.064884   0.987122   \n",
       "4              0.683333  0.483333     104763.723333  1.000000   1.483333   \n",
       "5              0.716246  0.520307      99907.394654  0.262349   1.082327   \n",
       "\n",
       "            gender_Ж  gender_М  city_Ростов Великий  city_Рыбинск  \\\n",
       "cluster_km                                                          \n",
       "0           1.000000  0.000000             0.289073      0.224641   \n",
       "1           1.000000  0.000000             0.000000      0.335499   \n",
       "2           0.000000  1.000000             0.000000      0.335230   \n",
       "3           0.000000  1.000000             0.000000      0.335810   \n",
       "4           0.633333  0.366667             0.400000      0.116667   \n",
       "5           0.282656  0.717344             0.999451      0.000549   \n",
       "\n",
       "            city_Ярославль  products_1  products_2  products_3  products_4  \n",
       "cluster_km                                                                  \n",
       "0                 0.486286    0.999565    0.000000    0.000435         0.0  \n",
       "1                 0.664501    0.000000    0.943887    0.056113         0.0  \n",
       "2                 0.664770    0.997155    0.000000    0.002845         0.0  \n",
       "3                 0.664190    0.000000    0.966815    0.033185         0.0  \n",
       "4                 0.483333    0.000000    0.000000    0.000000         1.0  \n",
       "5                 0.000000    0.375960    0.570801    0.053238         0.0  "
      ]
     },
     "execution_count": 62,
     "metadata": {},
     "output_type": "execute_result"
    }
   ],
   "source": [
    "from sklearn.cluster import KMeans\n",
    "# число кластеров, равное 5, и фиксация значения random_state для воспроизводимости результата\n",
    "km = KMeans(n_clusters=6, random_state=0) \n",
    "# применение алгоритма к данным и формирование вектора кластеров\n",
    "labels = km.fit_predict(df_scaler) \n",
    "# сохранение меток кластера в поле датасета\n",
    "df1['cluster_km'] = labels\n",
    "# вывод статистики по средним значениям признаков по кластеру\n",
    "clusters = df1.groupby(['cluster_km']).mean()\n",
    "clusters"
   ]
  },
  {
   "cell_type": "markdown",
   "id": "33c14b7b",
   "metadata": {},
   "source": [
    "Отметим, что среди женщин лояльность к банку более низкая. "
   ]
  },
  {
   "cell_type": "markdown",
   "id": "57212bb0",
   "metadata": {},
   "source": [
    "Для дальнейшего описания портрета клиентов, выберем те, где большой процент оттока. Для этого выведем статистику по кластерам. Оставим 3 группы для описание портрета "
   ]
  },
  {
   "cell_type": "code",
   "execution_count": 63,
   "id": "655c52e0",
   "metadata": {},
   "outputs": [
    {
     "data": {
      "text/html": [
       "<div>\n",
       "<style scoped>\n",
       "    .dataframe tbody tr th:only-of-type {\n",
       "        vertical-align: middle;\n",
       "    }\n",
       "\n",
       "    .dataframe tbody tr th {\n",
       "        vertical-align: top;\n",
       "    }\n",
       "\n",
       "    .dataframe thead th {\n",
       "        text-align: right;\n",
       "    }\n",
       "</style>\n",
       "<table border=\"1\" class=\"dataframe\">\n",
       "  <thead>\n",
       "    <tr style=\"text-align: right;\">\n",
       "      <th></th>\n",
       "      <th>cluster_km</th>\n",
       "      <th>churn</th>\n",
       "      <th>%</th>\n",
       "    </tr>\n",
       "  </thead>\n",
       "  <tbody>\n",
       "    <tr>\n",
       "      <th>0</th>\n",
       "      <td>0</td>\n",
       "      <td>763</td>\n",
       "      <td>37.46</td>\n",
       "    </tr>\n",
       "    <tr>\n",
       "      <th>1</th>\n",
       "      <td>1</td>\n",
       "      <td>217</td>\n",
       "      <td>10.65</td>\n",
       "    </tr>\n",
       "    <tr>\n",
       "      <th>2</th>\n",
       "      <td>2</td>\n",
       "      <td>388</td>\n",
       "      <td>19.05</td>\n",
       "    </tr>\n",
       "    <tr>\n",
       "      <th>3</th>\n",
       "      <td>3</td>\n",
       "      <td>131</td>\n",
       "      <td>6.43</td>\n",
       "    </tr>\n",
       "    <tr>\n",
       "      <th>4</th>\n",
       "      <td>4</td>\n",
       "      <td>60</td>\n",
       "      <td>2.95</td>\n",
       "    </tr>\n",
       "    <tr>\n",
       "      <th>5</th>\n",
       "      <td>5</td>\n",
       "      <td>478</td>\n",
       "      <td>23.47</td>\n",
       "    </tr>\n",
       "  </tbody>\n",
       "</table>\n",
       "</div>"
      ],
      "text/plain": [
       "   cluster_km  churn      %\n",
       "0           0    763  37.46\n",
       "1           1    217  10.65\n",
       "2           2    388  19.05\n",
       "3           3    131   6.43\n",
       "4           4     60   2.95\n",
       "5           5    478  23.47"
      ]
     },
     "metadata": {},
     "output_type": "display_data"
    }
   ],
   "source": [
    "# выводим статистику наших признаков по кластеру\n",
    "df_churn = df1.groupby('cluster_km')['churn'].sum().reset_index()\n",
    "#расчитываем долю\n",
    "total = df_churn['churn'].sum()\n",
    "df_churn['%'] = (df_churn['churn'] / total * 100).round(2)\n",
    "display(df_churn)"
   ]
  },
  {
   "cell_type": "markdown",
   "id": "e6656e44",
   "metadata": {},
   "source": [
    "*1. Портреты клиенов, которые уходят из банка:*\n",
    "\n",
    "`churn`=0.2 в группе 2:\n",
    "- мужчина в возрасте 39 лет из Ярославля;\n",
    "- пользуется 1 продуктом;\n",
    "- в среднем 5 объектов в собственности; \n",
    "- Не лояльны.\n",
    "\n",
    "`churn`=0.33 в группе 0:\n",
    "- женщина старше 40, из Ярославля;\n",
    "- пользуется 1 продуктом; \n",
    "- в среднем 5 объектов в собственности;\n",
    "- на половину лояльны к банку;\n",
    "\n",
    "`churn`=0.26 в группе 5:\n",
    "- мужчина возраста 39, из Ростов Великий;\n",
    "- пользуется 2 или 3 продуктами;\n",
    "- в среднем 5 объектов в собственности;\n",
    "- Не лояльны."
   ]
  },
  {
   "cell_type": "markdown",
   "id": "086e17c2",
   "metadata": {},
   "source": [
    "Рассмотрим выборку данных для каждого сигмента. Процент оттока и количество "
   ]
  },
  {
   "cell_type": "code",
   "execution_count": 112,
   "id": "5a270cef",
   "metadata": {},
   "outputs": [
    {
     "data": {
      "text/html": [
       "<div>\n",
       "<style scoped>\n",
       "    .dataframe tbody tr th:only-of-type {\n",
       "        vertical-align: middle;\n",
       "    }\n",
       "\n",
       "    .dataframe tbody tr th {\n",
       "        vertical-align: top;\n",
       "    }\n",
       "\n",
       "    .dataframe thead th {\n",
       "        text-align: right;\n",
       "    }\n",
       "</style>\n",
       "<table border=\"1\" class=\"dataframe\">\n",
       "  <thead>\n",
       "    <tr style=\"text-align: right;\">\n",
       "      <th></th>\n",
       "      <th>churn</th>\n",
       "      <th>%</th>\n",
       "    </tr>\n",
       "  </thead>\n",
       "  <tbody>\n",
       "    <tr>\n",
       "      <th>0</th>\n",
       "      <td>88</td>\n",
       "      <td>54.0</td>\n",
       "    </tr>\n",
       "    <tr>\n",
       "      <th>1</th>\n",
       "      <td>75</td>\n",
       "      <td>46.0</td>\n",
       "    </tr>\n",
       "  </tbody>\n",
       "</table>\n",
       "</div>"
      ],
      "text/plain": [
       "   churn     %\n",
       "0     88  54.0\n",
       "1     75  46.0"
      ]
     },
     "execution_count": 112,
     "metadata": {},
     "output_type": "execute_result"
    }
   ],
   "source": [
    "df_group_2=df1.query('gender_М==1 and age>=39 and city_Ярославль==1 and objects >= 5 and products_1==1 and loyalty==0')['churn'].value_counts()\n",
    "df_group_2 = pd.DataFrame(df_group_2)\n",
    "df_group_2['%']= round((df_group_2['churn'] /df_group_2['churn'].sum())*100)\n",
    "df_group_2"
   ]
  },
  {
   "cell_type": "code",
   "execution_count": 108,
   "id": "fd386061",
   "metadata": {},
   "outputs": [
    {
     "data": {
      "text/html": [
       "<div>\n",
       "<style scoped>\n",
       "    .dataframe tbody tr th:only-of-type {\n",
       "        vertical-align: middle;\n",
       "    }\n",
       "\n",
       "    .dataframe tbody tr th {\n",
       "        vertical-align: top;\n",
       "    }\n",
       "\n",
       "    .dataframe thead th {\n",
       "        text-align: right;\n",
       "    }\n",
       "</style>\n",
       "<table border=\"1\" class=\"dataframe\">\n",
       "  <thead>\n",
       "    <tr style=\"text-align: right;\">\n",
       "      <th></th>\n",
       "      <th>churn</th>\n",
       "      <th>%</th>\n",
       "    </tr>\n",
       "  </thead>\n",
       "  <tbody>\n",
       "    <tr>\n",
       "      <th>1</th>\n",
       "      <td>233</td>\n",
       "      <td>72.0</td>\n",
       "    </tr>\n",
       "    <tr>\n",
       "      <th>0</th>\n",
       "      <td>92</td>\n",
       "      <td>28.0</td>\n",
       "    </tr>\n",
       "  </tbody>\n",
       "</table>\n",
       "</div>"
      ],
      "text/plain": [
       "   churn     %\n",
       "1    233  72.0\n",
       "0     92  28.0"
      ]
     },
     "execution_count": 108,
     "metadata": {},
     "output_type": "execute_result"
    }
   ],
   "source": [
    "df_group_5 = df1.query('gender_М==1 and age>=39 and city_Ростов_Великий==1 and objects >= 5 and loyalty==0 and products_2==1 or products_3==1')['churn'].value_counts()\n",
    "df_group_5 = pd.DataFrame(df_group_5)\n",
    "df_group_5['%']= round((df_group_5['churn'] /df_group_5['churn'].sum())*100)\n",
    "df_group_5"
   ]
  },
  {
   "cell_type": "code",
   "execution_count": 109,
   "id": "73518cc0",
   "metadata": {},
   "outputs": [
    {
     "data": {
      "text/html": [
       "<div>\n",
       "<style scoped>\n",
       "    .dataframe tbody tr th:only-of-type {\n",
       "        vertical-align: middle;\n",
       "    }\n",
       "\n",
       "    .dataframe tbody tr th {\n",
       "        vertical-align: top;\n",
       "    }\n",
       "\n",
       "    .dataframe thead th {\n",
       "        text-align: right;\n",
       "    }\n",
       "</style>\n",
       "<table border=\"1\" class=\"dataframe\">\n",
       "  <thead>\n",
       "    <tr style=\"text-align: right;\">\n",
       "      <th></th>\n",
       "      <th>churn</th>\n",
       "      <th>%</th>\n",
       "    </tr>\n",
       "  </thead>\n",
       "  <tbody>\n",
       "    <tr>\n",
       "      <th>1</th>\n",
       "      <td>78</td>\n",
       "      <td>57.0</td>\n",
       "    </tr>\n",
       "    <tr>\n",
       "      <th>0</th>\n",
       "      <td>59</td>\n",
       "      <td>43.0</td>\n",
       "    </tr>\n",
       "  </tbody>\n",
       "</table>\n",
       "</div>"
      ],
      "text/plain": [
       "   churn     %\n",
       "1     78  57.0\n",
       "0     59  43.0"
      ]
     },
     "execution_count": 109,
     "metadata": {},
     "output_type": "execute_result"
    }
   ],
   "source": [
    "df_group_0=df1.query('gender_Ж==1 and age>=40 and city_Ярославль==1 and objects >= 5 and loyalty==0 and products_1==1')['churn'].value_counts()\n",
    "df_group_0 = pd.DataFrame(df_group_0)\n",
    "df_group_0['%']= round((df_group_0['churn'] /df_group_0['churn'].sum())*100)\n",
    "df_group_0"
   ]
  },
  {
   "cell_type": "markdown",
   "id": "da5cc081",
   "metadata": {},
   "source": [
    "**Выводы:** \n",
    "Общий отток из датасета 500 человек 386 определены и разбиты на сегменты. Это позволит нам составить максимально обширные рекомендации, которые покроют большую часть оттока людей. У данных сегментов есть общее: это люди все старше 39 лет и имеют более 5 объектов в собственности"
   ]
  },
  {
   "cell_type": "markdown",
   "id": "05cf611d",
   "metadata": {},
   "source": [
    "# Шаг 4. Формулировка и проверка статистических гипотез"
   ]
  },
  {
   "cell_type": "markdown",
   "id": "cd2222ed",
   "metadata": {},
   "source": [
    "## 1.Проверка гипотезы различия дохода между теми клиентами, которые ушли и теми, которые остались."
   ]
  },
  {
   "cell_type": "markdown",
   "id": "d7f43533",
   "metadata": {},
   "source": [
    "Поскольку мы имеем дело со средними, то применим метод проверки гипотезы о равенстве двух средних\n",
    "\n",
    "**Сформулируем гипотезы H0 и H1 для анализа долей:**\n",
    "\n",
    "- Нулевая гипотеза H0 - \"Нет оснований считать средние значения разными\"\n",
    "\n",
    "- Альтернативная гипотеза Н1 - \"Между средними значениями есть значимая разница\""
   ]
  },
  {
   "cell_type": "code",
   "execution_count": 29,
   "id": "ae2502dc",
   "metadata": {},
   "outputs": [],
   "source": [
    "salary_churn_0 = df.query('churn == 0')['estimated_salary']\n",
    "salary_churn_1= df.query('churn == 1')['estimated_salary']"
   ]
  },
  {
   "cell_type": "code",
   "execution_count": 30,
   "id": "64e5af21",
   "metadata": {},
   "outputs": [
    {
     "name": "stdout",
     "output_type": "stream",
     "text": [
      "p-значение:  0.22705150930153783\n",
      "Не получилось отвергнуть нулевую гипотезу: нет различия в доходе между теми клиентами, которые ушли и теми, которые остались\n"
     ]
    }
   ],
   "source": [
    "#За критический уровень статистической значимости alpha примем значение 0,05\n",
    "alpha = 0.05 \n",
    "\n",
    "results = st.mannwhitneyu(salary_churn_1, salary_churn_0)\n",
    "\n",
    "print('p-значение: ', results.pvalue)\n",
    "\n",
    "if results.pvalue < alpha:\n",
    "    print('Отвергаем нулевую гипотезу: есть различие в доходе между теми клиентами, которые ушли и теми, которые остались')\n",
    "else:\n",
    "    print(\n",
    "        'Не получилось отвергнуть нулевую гипотезу: нет различия в доходе между теми клиентами, которые ушли и теми, которые остались'\n",
    "    )"
   ]
  },
  {
   "cell_type": "markdown",
   "id": "38f366d0",
   "metadata": {},
   "source": [
    "**Не поличилось отвергнуть нулевую гипотезу**, а значит статистически значимых различий в уровне доходов между клиентами, ушедшими в отток, и клиентами, которые продолжают пользоваться услугами банка нет.\n",
    "\n"
   ]
  },
  {
   "cell_type": "markdown",
   "id": "6d115272",
   "metadata": {},
   "source": [
    "## 2. Проверка гипотезы различия количества продуктов  между теми клиентами, которые ушли и теми, которые остались."
   ]
  },
  {
   "cell_type": "markdown",
   "id": "86c521b0",
   "metadata": {},
   "source": [
    "Проверить, есть ли статистически значимое различие в количестве продуктов  между клиентами, ушедшими в отток, и клиентами, которые продолжают пользоваться услугами банка"
   ]
  },
  {
   "cell_type": "markdown",
   "id": "103b50d2",
   "metadata": {},
   "source": [
    "**Сформулируем гипотезы H0 и H1 для анализа:**\n",
    "\n",
    "- Нулевая гипотеза H0 - \"Статистически значимых различий в распределении количества используемых продуктов банка между клиентами, ушедшими в отток, и клиентами, которые продолжают пользоваться услугами банка нет\"\n",
    "\n",
    "\n",
    "- Альтернативная гипотеза Н1 - \"Статистически значимые различия в распределении количества используемых продуктов банка между клиентами, ушедшими в отток, и клиентами, которые продолжают пользоваться услугами банка есть.\""
   ]
  },
  {
   "cell_type": "code",
   "execution_count": 31,
   "id": "3d23247f",
   "metadata": {},
   "outputs": [],
   "source": [
    "prod_churn_0 = df.query('churn == 0')['products']\n",
    "prod_churn_1= df.query('churn == 1')['products']"
   ]
  },
  {
   "cell_type": "code",
   "execution_count": 32,
   "id": "40c11b49",
   "metadata": {},
   "outputs": [
    {
     "name": "stdout",
     "output_type": "stream",
     "text": [
      "p-значение: 5.275105212817194e-36\n",
      "Отвергаем нулевую гипотезу\n"
     ]
    }
   ],
   "source": [
    "#За критический уровень статистической значимости alpha примем значение 0,05\n",
    "alpha = 0.05\n",
    "#Выполним тест Манна-Уитни\n",
    "results_prod = st.mannwhitneyu(prod_churn_0, prod_churn_1)\n",
    "print('p-значение:', results_prod.pvalue)\n",
    "\n",
    "if results_prod.pvalue<alpha:\n",
    "    print('Отвергаем нулевую гипотезу')\n",
    "else:\n",
    "    print('Не получилось отвергнуть нулевую гипотезу: есть различия ')"
   ]
  },
  {
   "cell_type": "markdown",
   "id": "9e8be676",
   "metadata": {},
   "source": [
    "**Не поличилось отвергнуть нулевую гипотезу**, а значит статистически значимых различий в количестве продуктов между клиентами, ушедшими в отток, и клиентами, которые продолжают пользоваться услугами банка нет."
   ]
  },
  {
   "cell_type": "markdown",
   "id": "dc7b63de",
   "metadata": {},
   "source": [
    "# Шаг 5. Выводы и базовые рекомендации по работе с клиентами"
   ]
  },
  {
   "cell_type": "markdown",
   "id": "887c1bdc",
   "metadata": {},
   "source": [
    "В ходе исследовательского анализа данных  составлен портрет клиента:\n",
    "- Не старше 37 лет;\n",
    "- В наличии не более 2 объектов;\n",
    "- Использует не более 2 продуктов банка;\n",
    "- Средняя зарплата около 100 тысяч;\n",
    "- Наличие кредитной карты;\n",
    "- Почти 50% пользователей из Ярославля, остальные в равных долях в Ростов Великий и Рыбинске.\n",
    "\n",
    "Оценка результата после детального анализа данных:\n",
    "- Баллы кредитного скоринга не имеют значительных различий между группами;\n",
    "- Средний возраст различается: 37 лет у оставшегося клиента и 44 у ушедшего;\n",
    "- Таким образом люди с оттоком попадают чаще в группу 1 (возраст от 31 до 45 лет);\n",
    "- среднее количество по имеющимся объектам недвижимости почти одинаковое;\n",
    "- люди, которые используют 1 продукт подвержену к оттоку;\n",
    "- баланс на счетах - почти одинаковый;\n",
    "- лояльность  выше у оставшихся;\n",
    "- в Ростове Великом и Ярославле отток больше чем в Рыбинске (отток незначительно меньше оставшихся);\n",
    "- Женщины чаще уходят;\n",
    "\n",
    " Рекомендации на основании данных:\n",
    "- У нас большой отток среди людей старше 40 лет, они еще не пенсионеры, но уже задумываются об этом. Стоит предложить накопительную программу сбережений для данной категории людей.\n",
    "- среди женщин не высокая лояльность к банку. Стоить повысить клиентоориентированность персонала банка путем проведения семинаров по повышению уровня доброжелательности к клиентам;\n",
    "- В Ростове большой отток, может появился конкурент. Провести анализ предоставляемых услуг нашего нового конкурента в Ростове, чтобы, после необходимого анализа предоставлять более выгодные предложения с нашей стороны для клиентов из этого города, а также и для других более крупных городов (Ярославль и Рыбинск)\n",
    "- увеличивать привилегии для клиентов, которые пользуются большим количеством продуктов (увеличением процентов по вкладам, уменьшением стоимости годового обслуживания карты, уменьшением процентов по кредитам и пр.) В среднем челове использует 1-2 продукта, может другие продукты его не устраивают;\n",
    "\n",
    "По результатам проверки двух гипотез, выяснилось, что на отток клиентов не влияет уровень дохода и количество продуктов. При равных этих двух параметров клиенты всеравно склонны к оттоку.\n",
    "\n",
    "\n",
    "\n"
   ]
  },
  {
   "cell_type": "markdown",
   "id": "48f0cd8a",
   "metadata": {},
   "source": [
    "# Шаг 6. Создание презентации"
   ]
  },
  {
   "cell_type": "markdown",
   "id": "e9f9e8cf",
   "metadata": {},
   "source": [
    "[презентация](https://docs.google.com/presentation/d/1hU8m5gW4ePpSTKC_k58uQzFslweBlcdp-PaDloyphW4/edit?usp=sharing)"
   ]
  }
 ],
 "metadata": {
  "ExecuteTimeLog": [
   {
    "duration": 1389,
    "start_time": "2022-12-25T09:14:17.063Z"
   },
   {
    "duration": 96,
    "start_time": "2022-12-25T09:14:18.454Z"
   },
   {
    "duration": 17,
    "start_time": "2022-12-25T09:14:18.552Z"
   },
   {
    "duration": 47,
    "start_time": "2022-12-25T09:14:18.571Z"
   },
   {
    "duration": 6,
    "start_time": "2022-12-25T09:14:18.619Z"
   },
   {
    "duration": 23,
    "start_time": "2022-12-25T09:14:18.628Z"
   },
   {
    "duration": 20,
    "start_time": "2022-12-25T09:14:18.653Z"
   },
   {
    "duration": 14,
    "start_time": "2022-12-25T09:14:18.675Z"
   },
   {
    "duration": 47,
    "start_time": "2022-12-25T09:14:18.691Z"
   },
   {
    "duration": 36,
    "start_time": "2022-12-25T09:14:18.740Z"
   },
   {
    "duration": 3,
    "start_time": "2022-12-25T09:14:18.778Z"
   },
   {
    "duration": 28,
    "start_time": "2022-12-25T09:14:18.782Z"
   },
   {
    "duration": 46,
    "start_time": "2022-12-25T09:14:18.811Z"
   },
   {
    "duration": 10,
    "start_time": "2022-12-25T09:14:18.859Z"
   },
   {
    "duration": 7,
    "start_time": "2022-12-25T09:14:18.870Z"
   },
   {
    "duration": 26,
    "start_time": "2022-12-25T09:14:18.879Z"
   },
   {
    "duration": 12,
    "start_time": "2022-12-25T09:14:18.907Z"
   },
   {
    "duration": 18,
    "start_time": "2022-12-25T09:14:18.921Z"
   },
   {
    "duration": 22,
    "start_time": "2022-12-25T09:14:18.941Z"
   },
   {
    "duration": 11,
    "start_time": "2022-12-25T09:14:18.965Z"
   },
   {
    "duration": 76,
    "start_time": "2022-12-25T09:14:18.978Z"
   },
   {
    "duration": 21,
    "start_time": "2022-12-25T09:14:19.056Z"
   },
   {
    "duration": 4462,
    "start_time": "2022-12-25T09:14:19.079Z"
   },
   {
    "duration": 2485,
    "start_time": "2022-12-25T09:14:23.543Z"
   },
   {
    "duration": 424,
    "start_time": "2022-12-25T09:14:26.036Z"
   },
   {
    "duration": 293223,
    "start_time": "2022-12-25T09:14:26.462Z"
   },
   {
    "duration": 2183,
    "start_time": "2022-12-25T09:19:19.686Z"
   },
   {
    "duration": 12,
    "start_time": "2022-12-25T09:19:21.874Z"
   },
   {
    "duration": 10,
    "start_time": "2022-12-25T09:19:21.888Z"
   },
   {
    "duration": 40,
    "start_time": "2022-12-25T09:19:21.900Z"
   },
   {
    "duration": 9,
    "start_time": "2022-12-25T09:19:21.942Z"
   },
   {
    "duration": 15,
    "start_time": "2022-12-25T09:19:21.953Z"
   },
   {
    "duration": 1354,
    "start_time": "2022-12-26T02:09:10.164Z"
   },
   {
    "duration": 91,
    "start_time": "2022-12-26T02:09:15.856Z"
   },
   {
    "duration": 15,
    "start_time": "2022-12-26T02:09:18.262Z"
   },
   {
    "duration": 48,
    "start_time": "2022-12-26T02:09:18.928Z"
   },
   {
    "duration": 7,
    "start_time": "2022-12-26T02:09:20.654Z"
   },
   {
    "duration": 22,
    "start_time": "2022-12-26T02:09:21.519Z"
   },
   {
    "duration": 23,
    "start_time": "2022-12-26T02:09:22.408Z"
   },
   {
    "duration": 13,
    "start_time": "2022-12-26T02:09:22.895Z"
   },
   {
    "duration": 19,
    "start_time": "2022-12-26T02:09:46.602Z"
   },
   {
    "duration": 13,
    "start_time": "2022-12-26T02:09:49.079Z"
   },
   {
    "duration": 11,
    "start_time": "2022-12-26T02:09:49.687Z"
   },
   {
    "duration": 35,
    "start_time": "2022-12-26T02:09:50.270Z"
   },
   {
    "duration": 12,
    "start_time": "2022-12-26T02:09:56.055Z"
   },
   {
    "duration": 18,
    "start_time": "2022-12-26T02:09:58.774Z"
   },
   {
    "duration": 28,
    "start_time": "2022-12-26T02:09:59.631Z"
   },
   {
    "duration": 10,
    "start_time": "2022-12-26T02:10:05.973Z"
   },
   {
    "duration": 7,
    "start_time": "2022-12-26T02:10:07.174Z"
   },
   {
    "duration": 9,
    "start_time": "2022-12-26T02:10:08.198Z"
   },
   {
    "duration": 9,
    "start_time": "2022-12-26T02:10:09.294Z"
   },
   {
    "duration": 8,
    "start_time": "2022-12-26T02:10:10.775Z"
   },
   {
    "duration": 8,
    "start_time": "2022-12-26T02:10:12.373Z"
   },
   {
    "duration": 8,
    "start_time": "2022-12-26T02:10:12.943Z"
   },
   {
    "duration": 60,
    "start_time": "2022-12-26T02:10:14.168Z"
   },
   {
    "duration": 19,
    "start_time": "2022-12-26T02:10:17.063Z"
   },
   {
    "duration": 4071,
    "start_time": "2022-12-26T02:10:27.437Z"
   },
   {
    "duration": 4146,
    "start_time": "2022-12-26T02:10:40.853Z"
   },
   {
    "duration": 3638,
    "start_time": "2022-12-26T02:11:20.744Z"
   },
   {
    "duration": 4125,
    "start_time": "2022-12-26T02:12:24.379Z"
   },
   {
    "duration": 2349,
    "start_time": "2022-12-26T02:12:56.032Z"
   },
   {
    "duration": 199,
    "start_time": "2022-12-26T02:13:16.823Z"
   },
   {
    "duration": 275649,
    "start_time": "2022-12-26T02:13:17.567Z"
   },
   {
    "duration": 2131,
    "start_time": "2022-12-26T02:17:53.217Z"
   },
   {
    "duration": 10,
    "start_time": "2022-12-26T02:17:55.349Z"
   },
   {
    "duration": 3361,
    "start_time": "2022-12-26T02:19:41.679Z"
   },
   {
    "duration": 3818,
    "start_time": "2022-12-26T02:20:45.362Z"
   },
   {
    "duration": 4,
    "start_time": "2022-12-26T10:14:01.436Z"
   },
   {
    "duration": 63,
    "start_time": "2022-12-26T10:14:02.265Z"
   },
   {
    "duration": 11,
    "start_time": "2022-12-26T10:14:03.449Z"
   },
   {
    "duration": 47,
    "start_time": "2022-12-26T10:14:04.771Z"
   },
   {
    "duration": 7,
    "start_time": "2022-12-26T10:14:06.480Z"
   },
   {
    "duration": 16,
    "start_time": "2022-12-26T10:14:06.962Z"
   },
   {
    "duration": 19,
    "start_time": "2022-12-26T10:14:07.714Z"
   },
   {
    "duration": 13,
    "start_time": "2022-12-26T10:14:07.782Z"
   },
   {
    "duration": 11,
    "start_time": "2022-12-26T10:14:07.977Z"
   },
   {
    "duration": 36,
    "start_time": "2022-12-26T10:14:08.192Z"
   },
   {
    "duration": 4,
    "start_time": "2022-12-26T10:14:08.616Z"
   },
   {
    "duration": 18,
    "start_time": "2022-12-26T10:14:09.040Z"
   },
   {
    "duration": 27,
    "start_time": "2022-12-26T10:14:09.282Z"
   },
   {
    "duration": 11,
    "start_time": "2022-12-26T10:14:10.744Z"
   },
   {
    "duration": 7,
    "start_time": "2022-12-26T10:14:11.442Z"
   },
   {
    "duration": 9,
    "start_time": "2022-12-26T10:14:11.840Z"
   },
   {
    "duration": 9,
    "start_time": "2022-12-26T10:14:12.272Z"
   },
   {
    "duration": 8,
    "start_time": "2022-12-26T10:14:13.032Z"
   },
   {
    "duration": 11,
    "start_time": "2022-12-26T10:14:13.944Z"
   },
   {
    "duration": 8,
    "start_time": "2022-12-26T10:14:14.100Z"
   },
   {
    "duration": 70,
    "start_time": "2022-12-26T10:14:14.454Z"
   },
   {
    "duration": 22,
    "start_time": "2022-12-26T10:14:15.288Z"
   },
   {
    "duration": 3518,
    "start_time": "2022-12-26T10:14:16.771Z"
   },
   {
    "duration": 2474,
    "start_time": "2022-12-26T10:14:20.291Z"
   },
   {
    "duration": 11,
    "start_time": "2022-12-26T10:14:22.767Z"
   },
   {
    "duration": 288984,
    "start_time": "2022-12-26T10:14:22.780Z"
   },
   {
    "duration": 2075,
    "start_time": "2022-12-26T10:19:11.766Z"
   },
   {
    "duration": 10,
    "start_time": "2022-12-26T10:19:13.843Z"
   },
   {
    "duration": 10,
    "start_time": "2022-12-26T11:10:26.000Z"
   },
   {
    "duration": 12,
    "start_time": "2022-12-26T11:11:16.162Z"
   },
   {
    "duration": 10,
    "start_time": "2022-12-26T11:12:06.513Z"
   },
   {
    "duration": 9,
    "start_time": "2022-12-26T11:13:31.600Z"
   },
   {
    "duration": 9,
    "start_time": "2022-12-26T11:13:41.489Z"
   },
   {
    "duration": 28,
    "start_time": "2022-12-26T11:15:27.998Z"
   },
   {
    "duration": 133,
    "start_time": "2022-12-26T11:15:45.766Z"
   },
   {
    "duration": 89,
    "start_time": "2022-12-26T11:16:00.562Z"
   },
   {
    "duration": 20,
    "start_time": "2022-12-26T11:17:39.464Z"
   },
   {
    "duration": 9,
    "start_time": "2022-12-26T11:18:01.198Z"
   },
   {
    "duration": 9,
    "start_time": "2022-12-26T11:18:24.597Z"
   },
   {
    "duration": 9,
    "start_time": "2022-12-26T11:21:27.757Z"
   },
   {
    "duration": 14,
    "start_time": "2022-12-26T11:23:36.402Z"
   },
   {
    "duration": 24,
    "start_time": "2022-12-26T11:24:28.868Z"
   },
   {
    "duration": 10,
    "start_time": "2022-12-26T11:24:37.698Z"
   },
   {
    "duration": 13,
    "start_time": "2022-12-26T11:25:00.069Z"
   },
   {
    "duration": 14,
    "start_time": "2022-12-26T11:25:16.306Z"
   },
   {
    "duration": 9,
    "start_time": "2022-12-26T11:25:31.108Z"
   },
   {
    "duration": 10,
    "start_time": "2022-12-26T11:25:40.722Z"
   },
   {
    "duration": 9,
    "start_time": "2022-12-26T11:25:53.817Z"
   },
   {
    "duration": 10,
    "start_time": "2022-12-26T11:26:17.049Z"
   },
   {
    "duration": 10,
    "start_time": "2022-12-26T11:27:38.818Z"
   },
   {
    "duration": 10,
    "start_time": "2022-12-26T11:27:47.890Z"
   },
   {
    "duration": 13,
    "start_time": "2022-12-26T11:28:41.678Z"
   },
   {
    "duration": 9,
    "start_time": "2022-12-26T11:29:13.283Z"
   },
   {
    "duration": 9,
    "start_time": "2022-12-26T11:31:25.491Z"
   },
   {
    "duration": 10,
    "start_time": "2022-12-26T11:32:52.356Z"
   },
   {
    "duration": 12,
    "start_time": "2022-12-26T11:46:15.568Z"
   },
   {
    "duration": 21,
    "start_time": "2022-12-26T11:48:56.463Z"
   },
   {
    "duration": 14,
    "start_time": "2022-12-26T11:49:02.169Z"
   },
   {
    "duration": 14,
    "start_time": "2022-12-26T11:50:33.911Z"
   },
   {
    "duration": 14,
    "start_time": "2022-12-26T11:51:38.463Z"
   },
   {
    "duration": 57,
    "start_time": "2022-12-26T11:53:11.156Z"
   },
   {
    "duration": 49,
    "start_time": "2022-12-26T11:53:31.262Z"
   },
   {
    "duration": 19,
    "start_time": "2022-12-26T11:54:16.364Z"
   },
   {
    "duration": 49,
    "start_time": "2022-12-26T11:54:27.471Z"
   },
   {
    "duration": 15,
    "start_time": "2022-12-26T11:54:38.664Z"
   },
   {
    "duration": 15,
    "start_time": "2022-12-26T11:55:00.680Z"
   },
   {
    "duration": 30,
    "start_time": "2022-12-26T11:56:37.835Z"
   },
   {
    "duration": 15,
    "start_time": "2022-12-26T11:56:43.065Z"
   },
   {
    "duration": 14,
    "start_time": "2022-12-26T11:56:59.553Z"
   },
   {
    "duration": 15,
    "start_time": "2022-12-26T11:57:46.692Z"
   },
   {
    "duration": 17,
    "start_time": "2022-12-26T11:57:56.145Z"
   },
   {
    "duration": 24,
    "start_time": "2022-12-26T11:59:50.281Z"
   },
   {
    "duration": 15,
    "start_time": "2022-12-26T12:00:20.074Z"
   },
   {
    "duration": 15,
    "start_time": "2022-12-26T12:01:24.868Z"
   },
   {
    "duration": 50,
    "start_time": "2022-12-26T12:30:56.458Z"
   },
   {
    "duration": 52,
    "start_time": "2022-12-26T12:45:20.368Z"
   },
   {
    "duration": 14,
    "start_time": "2022-12-26T12:46:35.336Z"
   }
  ],
  "kernelspec": {
   "display_name": "Python 3 (ipykernel)",
   "language": "python",
   "name": "python3"
  },
  "language_info": {
   "codemirror_mode": {
    "name": "ipython",
    "version": 3
   },
   "file_extension": ".py",
   "mimetype": "text/x-python",
   "name": "python",
   "nbconvert_exporter": "python",
   "pygments_lexer": "ipython3",
   "version": "3.9.13"
  },
  "toc": {
   "base_numbering": 1,
   "nav_menu": {},
   "number_sections": true,
   "sideBar": true,
   "skip_h1_title": true,
   "title_cell": "Table of Contents",
   "title_sidebar": "Contents",
   "toc_cell": false,
   "toc_position": {},
   "toc_section_display": true,
   "toc_window_display": false
  }
 },
 "nbformat": 4,
 "nbformat_minor": 5
}
