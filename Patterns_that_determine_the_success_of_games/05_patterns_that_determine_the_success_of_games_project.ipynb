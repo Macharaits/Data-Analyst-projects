{
 "cells": [
  {
   "cell_type": "markdown",
   "metadata": {},
   "source": [
    "# Изучение закономерностей, определяющих успешность игр"
   ]
  },
  {
   "cell_type": "markdown",
   "metadata": {},
   "source": [
    "## 1. Обзор данных"
   ]
  },
  {
   "cell_type": "markdown",
   "metadata": {},
   "source": [
    "Составление первого представления о данных статистики архива компьютерных игр из открытых источников доступны исторические данные о продажах игр, оценки пользователей и экспертов, жанры и платформы."
   ]
  },
  {
   "cell_type": "code",
   "execution_count": 69,
   "metadata": {},
   "outputs": [],
   "source": [
    "# импорт необходимых библиотек\n",
    "import pandas as pd\n",
    "import numpy as np\n",
    "import matplotlib.pyplot as plt\n",
    "import seaborn as sns\n",
    "import warnings\n",
    "from scipy import stats as st"
   ]
  },
  {
   "cell_type": "code",
   "execution_count": 70,
   "metadata": {},
   "outputs": [
    {
     "name": "stdout",
     "output_type": "stream",
     "text": [
      "<class 'pandas.core.frame.DataFrame'>\n",
      "RangeIndex: 16715 entries, 0 to 16714\n",
      "Data columns (total 11 columns):\n",
      " #   Column           Non-Null Count  Dtype  \n",
      "---  ------           --------------  -----  \n",
      " 0   Name             16713 non-null  object \n",
      " 1   Platform         16715 non-null  object \n",
      " 2   Year_of_Release  16446 non-null  float64\n",
      " 3   Genre            16713 non-null  object \n",
      " 4   NA_sales         16715 non-null  float64\n",
      " 5   EU_sales         16715 non-null  float64\n",
      " 6   JP_sales         16715 non-null  float64\n",
      " 7   Other_sales      16715 non-null  float64\n",
      " 8   Critic_Score     8137 non-null   float64\n",
      " 9   User_Score       10014 non-null  object \n",
      " 10  Rating           9949 non-null   object \n",
      "dtypes: float64(6), object(5)\n",
      "memory usage: 1.4+ MB\n"
     ]
    }
   ],
   "source": [
    "data = pd.read_csv('games.csv' ,sep=',')\n",
    "data.info()"
   ]
  },
  {
   "cell_type": "code",
   "execution_count": 71,
   "metadata": {},
   "outputs": [
    {
     "data": {
      "text/html": [
       "<div>\n",
       "<style scoped>\n",
       "    .dataframe tbody tr th:only-of-type {\n",
       "        vertical-align: middle;\n",
       "    }\n",
       "\n",
       "    .dataframe tbody tr th {\n",
       "        vertical-align: top;\n",
       "    }\n",
       "\n",
       "    .dataframe thead th {\n",
       "        text-align: right;\n",
       "    }\n",
       "</style>\n",
       "<table border=\"1\" class=\"dataframe\">\n",
       "  <thead>\n",
       "    <tr style=\"text-align: right;\">\n",
       "      <th></th>\n",
       "      <th>Name</th>\n",
       "      <th>Platform</th>\n",
       "      <th>Year_of_Release</th>\n",
       "      <th>Genre</th>\n",
       "      <th>NA_sales</th>\n",
       "      <th>EU_sales</th>\n",
       "      <th>JP_sales</th>\n",
       "      <th>Other_sales</th>\n",
       "      <th>Critic_Score</th>\n",
       "      <th>User_Score</th>\n",
       "      <th>Rating</th>\n",
       "    </tr>\n",
       "  </thead>\n",
       "  <tbody>\n",
       "    <tr>\n",
       "      <th>0</th>\n",
       "      <td>Wii Sports</td>\n",
       "      <td>Wii</td>\n",
       "      <td>2006.0</td>\n",
       "      <td>Sports</td>\n",
       "      <td>41.36</td>\n",
       "      <td>28.96</td>\n",
       "      <td>3.77</td>\n",
       "      <td>8.45</td>\n",
       "      <td>76.0</td>\n",
       "      <td>8</td>\n",
       "      <td>E</td>\n",
       "    </tr>\n",
       "    <tr>\n",
       "      <th>1</th>\n",
       "      <td>Super Mario Bros.</td>\n",
       "      <td>NES</td>\n",
       "      <td>1985.0</td>\n",
       "      <td>Platform</td>\n",
       "      <td>29.08</td>\n",
       "      <td>3.58</td>\n",
       "      <td>6.81</td>\n",
       "      <td>0.77</td>\n",
       "      <td>NaN</td>\n",
       "      <td>NaN</td>\n",
       "      <td>NaN</td>\n",
       "    </tr>\n",
       "    <tr>\n",
       "      <th>2</th>\n",
       "      <td>Mario Kart Wii</td>\n",
       "      <td>Wii</td>\n",
       "      <td>2008.0</td>\n",
       "      <td>Racing</td>\n",
       "      <td>15.68</td>\n",
       "      <td>12.76</td>\n",
       "      <td>3.79</td>\n",
       "      <td>3.29</td>\n",
       "      <td>82.0</td>\n",
       "      <td>8.3</td>\n",
       "      <td>E</td>\n",
       "    </tr>\n",
       "    <tr>\n",
       "      <th>3</th>\n",
       "      <td>Wii Sports Resort</td>\n",
       "      <td>Wii</td>\n",
       "      <td>2009.0</td>\n",
       "      <td>Sports</td>\n",
       "      <td>15.61</td>\n",
       "      <td>10.93</td>\n",
       "      <td>3.28</td>\n",
       "      <td>2.95</td>\n",
       "      <td>80.0</td>\n",
       "      <td>8</td>\n",
       "      <td>E</td>\n",
       "    </tr>\n",
       "    <tr>\n",
       "      <th>4</th>\n",
       "      <td>Pokemon Red/Pokemon Blue</td>\n",
       "      <td>GB</td>\n",
       "      <td>1996.0</td>\n",
       "      <td>Role-Playing</td>\n",
       "      <td>11.27</td>\n",
       "      <td>8.89</td>\n",
       "      <td>10.22</td>\n",
       "      <td>1.00</td>\n",
       "      <td>NaN</td>\n",
       "      <td>NaN</td>\n",
       "      <td>NaN</td>\n",
       "    </tr>\n",
       "  </tbody>\n",
       "</table>\n",
       "</div>"
      ],
      "text/plain": [
       "                       Name Platform  Year_of_Release         Genre  NA_sales  \\\n",
       "0                Wii Sports      Wii           2006.0        Sports     41.36   \n",
       "1         Super Mario Bros.      NES           1985.0      Platform     29.08   \n",
       "2            Mario Kart Wii      Wii           2008.0        Racing     15.68   \n",
       "3         Wii Sports Resort      Wii           2009.0        Sports     15.61   \n",
       "4  Pokemon Red/Pokemon Blue       GB           1996.0  Role-Playing     11.27   \n",
       "\n",
       "   EU_sales  JP_sales  Other_sales  Critic_Score User_Score Rating  \n",
       "0     28.96      3.77         8.45          76.0          8      E  \n",
       "1      3.58      6.81         0.77           NaN        NaN    NaN  \n",
       "2     12.76      3.79         3.29          82.0        8.3      E  \n",
       "3     10.93      3.28         2.95          80.0          8      E  \n",
       "4      8.89     10.22         1.00           NaN        NaN    NaN  "
      ]
     },
     "execution_count": 71,
     "metadata": {},
     "output_type": "execute_result"
    }
   ],
   "source": [
    "data.head()"
   ]
  },
  {
   "cell_type": "markdown",
   "metadata": {},
   "source": [
    "с помощью метода info() проверили какие типы данные в каждом столбце и выяснили, что необходимо изменить тип данных в двух столбцах: Year_of_Release, User_Score. Недочеты:\n",
    "1. Name - пустые значения\n",
    "2. Year_of_Release - пустые значения,  изменить с float на int32\n",
    "3. Genre - пустые значения\n",
    "4. Critic_Score- пустые значения\n",
    "5. User_Score - пустые значения и tbd. Тип данных в столбце необходимо изменить с object на float\n",
    "6. Rating - пустые значения\n"
   ]
  },
  {
   "cell_type": "markdown",
   "metadata": {},
   "source": [
    "###  2. Предобработка данных"
   ]
  },
  {
   "cell_type": "markdown",
   "metadata": {},
   "source": [
    "#### Изменение названий столбцов"
   ]
  },
  {
   "cell_type": "code",
   "execution_count": 72,
   "metadata": {},
   "outputs": [
    {
     "data": {
      "text/plain": [
       "Index(['name', 'platform', 'year_of_release', 'genre', 'na_sales', 'eu_sales',\n",
       "       'jp_sales', 'other_sales', 'critic_score', 'user_score', 'rating'],\n",
       "      dtype='object')"
      ]
     },
     "execution_count": 72,
     "metadata": {},
     "output_type": "execute_result"
    }
   ],
   "source": [
    "data.columns = data.columns.str.lower()\n",
    "data.columns"
   ]
  },
  {
   "cell_type": "markdown",
   "metadata": {},
   "source": [
    "#### Обработка пропущеных значений"
   ]
  },
  {
   "cell_type": "markdown",
   "metadata": {},
   "source": [
    "В шести столбцах из одинадцати есть пропущенные значения, необходимо найти их долю, для того чтобы понять, что делать с ними далее:"
   ]
  },
  {
   "cell_type": "code",
   "execution_count": 73,
   "metadata": {},
   "outputs": [
    {
     "data": {
      "text/plain": [
       "name                  2\n",
       "platform              0\n",
       "year_of_release     269\n",
       "genre                 2\n",
       "na_sales              0\n",
       "eu_sales              0\n",
       "jp_sales              0\n",
       "other_sales           0\n",
       "critic_score       8578\n",
       "user_score         6701\n",
       "rating             6766\n",
       "dtype: int64"
      ]
     },
     "execution_count": 73,
     "metadata": {},
     "output_type": "execute_result"
    }
   ],
   "source": [
    "# подсчёт пропусков\n",
    "data.isna().sum()"
   ]
  },
  {
   "cell_type": "code",
   "execution_count": 74,
   "metadata": {},
   "outputs": [],
   "source": [
    "# функция для подсчета доли пропусков\n",
    "def pass_value(value, name):\n",
    "    miss_part = value / 16715\n",
    "    return print(f'{name} {miss_part:.1%}')"
   ]
  },
  {
   "cell_type": "code",
   "execution_count": 75,
   "metadata": {},
   "outputs": [
    {
     "name": "stdout",
     "output_type": "stream",
     "text": [
      "name 0.0%\n",
      "platform 0.0%\n",
      "year_of_release 1.6%\n",
      "genre 0.0%\n",
      "na_sales 0.0%\n",
      "eu_sales 0.0%\n",
      "jp_sales 0.0%\n",
      "other_sales 0.0%\n",
      "critic_score 51.3%\n",
      "user_score 40.1%\n",
      "rating 40.5%\n"
     ]
    }
   ],
   "source": [
    "# подсчет доли пропусков\n",
    "for col in data.columns:\n",
    "    pass_value(data[col].isna().sum(), col)"
   ]
  },
  {
   "cell_type": "markdown",
   "metadata": {},
   "source": [
    "Причиной появления настоящих пропусков могла стать ошибка при переносе данных или данные просто могли быть не указаны изначально."
   ]
  },
  {
   "cell_type": "code",
   "execution_count": 76,
   "metadata": {},
   "outputs": [
    {
     "data": {
      "text/plain": [
       "name                  2\n",
       "platform              0\n",
       "year_of_release     269\n",
       "genre                 2\n",
       "na_sales              0\n",
       "eu_sales              0\n",
       "jp_sales              0\n",
       "other_sales           0\n",
       "critic_score       8578\n",
       "user_score         6701\n",
       "rating             6766\n",
       "dtype: int64"
      ]
     },
     "execution_count": 76,
     "metadata": {},
     "output_type": "execute_result"
    }
   ],
   "source": [
    "# удаление пропущеных значений\n",
    "data.dropna(subset =['name','genre','year_of_release'])\n",
    "\n",
    "# подсчёт пропусков\n",
    "data.isna().sum()"
   ]
  },
  {
   "cell_type": "markdown",
   "metadata": {},
   "source": [
    "В столбце 'name' отсутствует 2 значения. Будет не понятно о какой игре идет речь, удаляем две строки. Появление припуска может быть связано с тем, что или его забыли указать при заведении данных, или у игры не было утверждено официальное название и поэтому ячейка оказалась пуста.\n"
   ]
  },
  {
   "cell_type": "markdown",
   "metadata": {},
   "source": [
    "Так же удаляем строки с пустыми значениями из столбца \"genre\" . Пропуск может быть связан с тем, что при заполнении данных об игре забыли указать или не определились к какому именно жанру относится видеоигра."
   ]
  },
  {
   "cell_type": "markdown",
   "metadata": {},
   "source": [
    "Предлагаю удалить пропуски в  year_of_release, чтобы не было нелогичного установления года выпуска. Пропуск в данном столбце мог возникнуть из-за того, что при заполнении данных забыли поставить дату  или точная дата выхода игры не определена.\n"
   ]
  },
  {
   "cell_type": "code",
   "execution_count": 77,
   "metadata": {},
   "outputs": [
    {
     "data": {
      "text/plain": [
       "PS2     2161\n",
       "DS      2151\n",
       "PS3     1331\n",
       "Wii     1320\n",
       "X360    1262\n",
       "PSP     1209\n",
       "PS      1197\n",
       "PC       974\n",
       "XB       824\n",
       "GBA      822\n",
       "GC       556\n",
       "3DS      520\n",
       "PSV      430\n",
       "PS4      392\n",
       "N64      319\n",
       "XOne     247\n",
       "SNES     239\n",
       "SAT      173\n",
       "WiiU     147\n",
       "2600     133\n",
       "NES       98\n",
       "GB        98\n",
       "DC        52\n",
       "GEN       29\n",
       "NG        12\n",
       "SCD        6\n",
       "WS         6\n",
       "3DO        3\n",
       "TG16       2\n",
       "GG         1\n",
       "PCFX       1\n",
       "Name: platform, dtype: int64"
      ]
     },
     "metadata": {},
     "output_type": "display_data"
    }
   ],
   "source": [
    "# просмотр уникальных значений в столбце platform\n",
    "display(data['platform'].value_counts())"
   ]
  },
  {
   "cell_type": "code",
   "execution_count": 78,
   "metadata": {},
   "outputs": [
    {
     "data": {
      "text/plain": [
       "array([76., nan, 82., 80., 89., 58., 87., 91., 61., 97., 95., 77., 88.,\n",
       "       83., 94., 93., 85., 86., 98., 96., 90., 84., 73., 74., 78., 92.,\n",
       "       71., 72., 68., 62., 49., 67., 81., 66., 56., 79., 70., 59., 64.,\n",
       "       75., 60., 63., 69., 50., 25., 42., 44., 55., 48., 57., 29., 47.,\n",
       "       65., 54., 20., 53., 37., 38., 33., 52., 30., 32., 43., 45., 51.,\n",
       "       40., 46., 39., 34., 35., 41., 36., 28., 31., 27., 26., 19., 23.,\n",
       "       24., 21., 17., 22., 13.])"
      ]
     },
     "execution_count": 78,
     "metadata": {},
     "output_type": "execute_result"
    }
   ],
   "source": [
    "# оценка критиков (максимум 100)\n",
    "data['critic_score'].unique()"
   ]
  },
  {
   "cell_type": "markdown",
   "metadata": {},
   "source": [
    "Корректной замены для пропусков в critic_score - нет, любое заполнение исказит результаты дальнейших расчетов."
   ]
  },
  {
   "cell_type": "code",
   "execution_count": 79,
   "metadata": {},
   "outputs": [
    {
     "data": {
      "text/plain": [
       "array(['E', nan, 'M', 'T', 'E10+', 'K-A', 'AO', 'EC', 'RP'], dtype=object)"
      ]
     },
     "execution_count": 79,
     "metadata": {},
     "output_type": "execute_result"
    }
   ],
   "source": [
    "# рейтинг от организации ESRB\n",
    "data['rating'].unique()"
   ]
  },
  {
   "cell_type": "code",
   "execution_count": 80,
   "metadata": {},
   "outputs": [],
   "source": [
    "data['rating'] = data['rating'].replace('K-A', 'E10+')"
   ]
  },
  {
   "cell_type": "markdown",
   "metadata": {},
   "source": [
    "https://en.wikipedia.org/wiki/Entertainment_Software_Rating_Board#Ratings\n",
    "В столбце 'rating' есть два значения 'K-A' и 'E10+' - это два значения носящие один и тот же смысл (первоначально \"K-A\" (\"Kids to Adults\"),переименовано в конце 20 в. на E10+ ). В столбце очень много пропущенных значений, скорее всего это связано с тем что рейтинг 'ESRB' был установлен в 1994. Данные удалятся не будут."
   ]
  },
  {
   "cell_type": "code",
   "execution_count": 81,
   "metadata": {},
   "outputs": [],
   "source": [
    "data['rating'].fillna('No rating', inplace=True)"
   ]
  },
  {
   "cell_type": "code",
   "execution_count": 82,
   "metadata": {},
   "outputs": [
    {
     "data": {
      "text/plain": [
       "0"
      ]
     },
     "execution_count": 82,
     "metadata": {},
     "output_type": "execute_result"
    }
   ],
   "source": [
    "data['rating'].isnull().sum()"
   ]
  },
  {
   "cell_type": "code",
   "execution_count": 83,
   "metadata": {},
   "outputs": [
    {
     "data": {
      "text/plain": [
       "array(['8', nan, '8.3', '8.5', '6.6', '8.4', '8.6', '7.7', '6.3', '7.4',\n",
       "       '8.2', '9', '7.9', '8.1', '8.7', '7.1', '3.4', '5.3', '4.8', '3.2',\n",
       "       '8.9', '6.4', '7.8', '7.5', '2.6', '7.2', '9.2', '7', '7.3', '4.3',\n",
       "       '7.6', '5.7', '5', '9.1', '6.5', 'tbd', '8.8', '6.9', '9.4', '6.8',\n",
       "       '6.1', '6.7', '5.4', '4', '4.9', '4.5', '9.3', '6.2', '4.2', '6',\n",
       "       '3.7', '4.1', '5.8', '5.6', '5.5', '4.4', '4.6', '5.9', '3.9',\n",
       "       '3.1', '2.9', '5.2', '3.3', '4.7', '5.1', '3.5', '2.5', '1.9', '3',\n",
       "       '2.7', '2.2', '2', '9.5', '2.1', '3.6', '2.8', '1.8', '3.8', '0',\n",
       "       '1.6', '9.6', '2.4', '1.7', '1.1', '0.3', '1.5', '0.7', '1.2',\n",
       "       '2.3', '0.5', '1.3', '0.2', '0.6', '1.4', '0.9', '1', '9.7'],\n",
       "      dtype=object)"
      ]
     },
     "execution_count": 83,
     "metadata": {},
     "output_type": "execute_result"
    }
   ],
   "source": [
    "# просмотр уникальных значений в столбце user_score\n",
    "data['user_score'].unique()"
   ]
  },
  {
   "cell_type": "markdown",
   "metadata": {},
   "source": [
    "TBD - аббревиатура от английского To Be Determined (будет определено) или To Be Decided (будет решено). Используется, если какая-то информация еще не определена или решение по вопросу не принято. То есть, данные были нарочно не заполнены, так как не определились с рейтингом. Заменим 'tbd' на 'Nan'. Переведем тип данных из объекта в числовой (float64), для дальнейших расчетов"
   ]
  },
  {
   "cell_type": "code",
   "execution_count": 84,
   "metadata": {},
   "outputs": [],
   "source": [
    "data['user_score'] = data['user_score'].replace('tbd', 'nan') \n",
    "data['user_score'] = data['user_score'].astype('float64')\n",
    "data['user_score'] = data['user_score'].fillna(0)\n",
    "for i in data[data['user_score'].isnull() == True].index:  \n",
    "    data['user_score'][i] = data.loc[data['name'] == data['name'][i], 'user_score'].max()"
   ]
  },
  {
   "cell_type": "markdown",
   "metadata": {},
   "source": [
    "#### Изменение типов данных"
   ]
  },
  {
   "cell_type": "code",
   "execution_count": null,
   "metadata": {},
   "outputs": [],
   "source": []
  },
  {
   "cell_type": "markdown",
   "metadata": {},
   "source": [
    "#### Подсчет суммарных продаж во всех регионах и внесение их в отдельный столбец"
   ]
  },
  {
   "cell_type": "code",
   "execution_count": 93,
   "metadata": {},
   "outputs": [],
   "source": [
    "data['total_sales'] = data['na_sales'] + data['eu_sales'] + data['jp_sales'] + data['other_sales']"
   ]
  },
  {
   "cell_type": "code",
   "execution_count": 94,
   "metadata": {},
   "outputs": [
    {
     "data": {
      "text/html": [
       "<div>\n",
       "<style scoped>\n",
       "    .dataframe tbody tr th:only-of-type {\n",
       "        vertical-align: middle;\n",
       "    }\n",
       "\n",
       "    .dataframe tbody tr th {\n",
       "        vertical-align: top;\n",
       "    }\n",
       "\n",
       "    .dataframe thead th {\n",
       "        text-align: right;\n",
       "    }\n",
       "</style>\n",
       "<table border=\"1\" class=\"dataframe\">\n",
       "  <thead>\n",
       "    <tr style=\"text-align: right;\">\n",
       "      <th></th>\n",
       "      <th>name</th>\n",
       "      <th>platform</th>\n",
       "      <th>year_of_release</th>\n",
       "      <th>genre</th>\n",
       "      <th>na_sales</th>\n",
       "      <th>eu_sales</th>\n",
       "      <th>jp_sales</th>\n",
       "      <th>other_sales</th>\n",
       "      <th>critic_score</th>\n",
       "      <th>user_score</th>\n",
       "      <th>rating</th>\n",
       "      <th>total_sales</th>\n",
       "    </tr>\n",
       "  </thead>\n",
       "  <tbody>\n",
       "    <tr>\n",
       "      <th>0</th>\n",
       "      <td>Wii Sports</td>\n",
       "      <td>Wii</td>\n",
       "      <td>2006.0</td>\n",
       "      <td>Sports</td>\n",
       "      <td>41.36</td>\n",
       "      <td>28.96</td>\n",
       "      <td>3.77</td>\n",
       "      <td>8.45</td>\n",
       "      <td>76.0</td>\n",
       "      <td>8.0</td>\n",
       "      <td>E</td>\n",
       "      <td>82.54</td>\n",
       "    </tr>\n",
       "    <tr>\n",
       "      <th>1</th>\n",
       "      <td>Super Mario Bros.</td>\n",
       "      <td>NES</td>\n",
       "      <td>1985.0</td>\n",
       "      <td>Platform</td>\n",
       "      <td>29.08</td>\n",
       "      <td>3.58</td>\n",
       "      <td>6.81</td>\n",
       "      <td>0.77</td>\n",
       "      <td>NaN</td>\n",
       "      <td>0.0</td>\n",
       "      <td>No rating</td>\n",
       "      <td>40.24</td>\n",
       "    </tr>\n",
       "    <tr>\n",
       "      <th>2</th>\n",
       "      <td>Mario Kart Wii</td>\n",
       "      <td>Wii</td>\n",
       "      <td>2008.0</td>\n",
       "      <td>Racing</td>\n",
       "      <td>15.68</td>\n",
       "      <td>12.76</td>\n",
       "      <td>3.79</td>\n",
       "      <td>3.29</td>\n",
       "      <td>82.0</td>\n",
       "      <td>8.3</td>\n",
       "      <td>E</td>\n",
       "      <td>35.52</td>\n",
       "    </tr>\n",
       "    <tr>\n",
       "      <th>3</th>\n",
       "      <td>Wii Sports Resort</td>\n",
       "      <td>Wii</td>\n",
       "      <td>2009.0</td>\n",
       "      <td>Sports</td>\n",
       "      <td>15.61</td>\n",
       "      <td>10.93</td>\n",
       "      <td>3.28</td>\n",
       "      <td>2.95</td>\n",
       "      <td>80.0</td>\n",
       "      <td>8.0</td>\n",
       "      <td>E</td>\n",
       "      <td>32.77</td>\n",
       "    </tr>\n",
       "    <tr>\n",
       "      <th>4</th>\n",
       "      <td>Pokemon Red/Pokemon Blue</td>\n",
       "      <td>GB</td>\n",
       "      <td>1996.0</td>\n",
       "      <td>Role-Playing</td>\n",
       "      <td>11.27</td>\n",
       "      <td>8.89</td>\n",
       "      <td>10.22</td>\n",
       "      <td>1.00</td>\n",
       "      <td>NaN</td>\n",
       "      <td>0.0</td>\n",
       "      <td>No rating</td>\n",
       "      <td>31.38</td>\n",
       "    </tr>\n",
       "  </tbody>\n",
       "</table>\n",
       "</div>"
      ],
      "text/plain": [
       "                       name platform  year_of_release         genre  na_sales  \\\n",
       "0                Wii Sports      Wii           2006.0        Sports     41.36   \n",
       "1         Super Mario Bros.      NES           1985.0      Platform     29.08   \n",
       "2            Mario Kart Wii      Wii           2008.0        Racing     15.68   \n",
       "3         Wii Sports Resort      Wii           2009.0        Sports     15.61   \n",
       "4  Pokemon Red/Pokemon Blue       GB           1996.0  Role-Playing     11.27   \n",
       "\n",
       "   eu_sales  jp_sales  other_sales  critic_score  user_score     rating  \\\n",
       "0     28.96      3.77         8.45          76.0         8.0          E   \n",
       "1      3.58      6.81         0.77           NaN         0.0  No rating   \n",
       "2     12.76      3.79         3.29          82.0         8.3          E   \n",
       "3     10.93      3.28         2.95          80.0         8.0          E   \n",
       "4      8.89     10.22         1.00           NaN         0.0  No rating   \n",
       "\n",
       "   total_sales  \n",
       "0        82.54  \n",
       "1        40.24  \n",
       "2        35.52  \n",
       "3        32.77  \n",
       "4        31.38  "
      ]
     },
     "execution_count": 94,
     "metadata": {},
     "output_type": "execute_result"
    }
   ],
   "source": [
    "data.head()"
   ]
  },
  {
   "cell_type": "markdown",
   "metadata": {},
   "source": [
    "В столбце 'name' небыло 2 значения. Строки удалены. Появление припуска может быть связано с тем, что или его забыли указать при заведении данных, или у игры не было утверждено официальное название и поэтому ячейка оказалась пуста.Так же удалили строки с пустыми значениями из столбца \"genre\" . Пропуск может быть связан с тем, что при заполнении данных об игре забыли указать или не определились к какому именно жанру относится видеоигра.\n",
    "\n",
    "В столбце 'rating' есть два значения 'K-A' и 'E10+' - это два значения носящие один и тот же смысл (первоначально \"K-A\" (\"Kids to Adults\"),переименовано в конце 20 в. на E10+ ). В столбце очень много пропущенных значений, скорее всего это связано с тем что рейтинг 'ESRB' был установлен в 1994\n",
    "\n",
    "TBD - аббревиатура от английского To Be Determined (будет определено) или To Be Decided (будет решено). Используется, если какая-то информация еще не определена или решение по вопросу не принято. То есть, данные были нарочно не заполнены, так как не определились с рейтингом.Перевеводим тип данных в числовой (float64)"
   ]
  },
  {
   "cell_type": "markdown",
   "metadata": {},
   "source": [
    "### 3. Исследовательский анализ данных"
   ]
  },
  {
   "cell_type": "markdown",
   "metadata": {},
   "source": [
    "#### Количество игр выпущенных в разные годы"
   ]
  },
  {
   "cell_type": "code",
   "execution_count": 95,
   "metadata": {},
   "outputs": [
    {
     "data": {
      "text/plain": [
       "year_of_release\n",
       "1980.0       9\n",
       "1981.0      46\n",
       "1982.0      36\n",
       "1983.0      17\n",
       "1984.0      14\n",
       "1985.0      14\n",
       "1986.0      21\n",
       "1987.0      16\n",
       "1988.0      15\n",
       "1989.0      17\n",
       "1990.0      16\n",
       "1991.0      41\n",
       "1992.0      43\n",
       "1993.0      60\n",
       "1994.0     121\n",
       "1995.0     219\n",
       "1996.0     263\n",
       "1997.0     289\n",
       "1998.0     379\n",
       "1999.0     338\n",
       "2000.0     350\n",
       "2001.0     482\n",
       "2002.0     829\n",
       "2003.0     775\n",
       "2004.0     762\n",
       "2005.0     939\n",
       "2006.0    1006\n",
       "2007.0    1197\n",
       "2008.0    1427\n",
       "2009.0    1426\n",
       "2010.0    1255\n",
       "2011.0    1136\n",
       "2012.0     653\n",
       "2013.0     544\n",
       "2014.0     581\n",
       "2015.0     606\n",
       "2016.0     502\n",
       "Name: name, dtype: int64"
      ]
     },
     "execution_count": 95,
     "metadata": {},
     "output_type": "execute_result"
    }
   ],
   "source": [
    "#Посмотрите, сколько игр выпускалось в разные годы.\n",
    "data_games = data.groupby('year_of_release')['name'].count()\n",
    "data_games "
   ]
  },
  {
   "cell_type": "markdown",
   "metadata": {},
   "source": [
    "Наибольшее количествово игр было выпущено в 2008-2009 г. Данные за период более 35 лет- слишком большой интервал. Большая часть платформ уже не существует это не даст нам правильных данных для анализа."
   ]
  },
  {
   "cell_type": "markdown",
   "metadata": {},
   "source": [
    "#### Изменения продаж по платформам"
   ]
  },
  {
   "cell_type": "code",
   "execution_count": 96,
   "metadata": {},
   "outputs": [
    {
     "data": {
      "text/plain": [
       "platform\n",
       "PS2     1255.77\n",
       "X360     971.42\n",
       "PS3      939.65\n",
       "Wii      907.51\n",
       "DS       806.12\n",
       "Name: total_sales, dtype: float64"
      ]
     },
     "execution_count": 96,
     "metadata": {},
     "output_type": "execute_result"
    }
   ],
   "source": [
    "pop_platform=data.groupby('platform')['total_sales'].sum().sort_values(ascending=False).head()\n",
    "pop_platform"
   ]
  },
  {
   "cell_type": "markdown",
   "metadata": {},
   "source": [
    "Платформы с наибольшими суммарными продажами за весь период являются PS2, X360, PS3,Wii"
   ]
  },
  {
   "cell_type": "code",
   "execution_count": 99,
   "metadata": {},
   "outputs": [],
   "source": [
    "#Возьмем платформы с наибольшими суммарными продажами и постройте распределение по годам.\n",
    "data_pop = data.query(\"platform == ['X360', 'PS3', 'PS2','Wii']\")"
   ]
  },
  {
   "cell_type": "code",
   "execution_count": 100,
   "metadata": {},
   "outputs": [
    {
     "data": {
      "image/png": "[encoded data removed]",
      "text/plain": [
       "<Figure size 1152x576 with 1 Axes>"
      ]
     },
     "metadata": {
      "needs_background": "light"
     },
     "output_type": "display_data"
    }
   ],
   "source": [
    "data_pop.query(\"platform == ['X360', 'PS3', 'PS2','Wii']\")\n",
    "data1=data_pop.pivot_table(index='year_of_release', columns = 'platform', values='total_sales', aggfunc='sum')\n",
    "data1.plot(grid=True, figsize=(16, 8))\n",
    "plt.title('Платформы с наибольшими суммарными продажами за весь период')\n",
    "plt.xlabel('Год')\n",
    "plt.ylabel('Продажи (млн.)')\n",
    "plt.show()"
   ]
  },
  {
   "cell_type": "markdown",
   "metadata": {},
   "source": [
    "Исходя из данных в графике в среднем продолжительность жизни каждой платформы составляет 10 лет "
   ]
  },
  {
   "cell_type": "markdown",
   "metadata": {},
   "source": [
    "#### Выделение актуального периода"
   ]
  },
  {
   "cell_type": "markdown",
   "metadata": {},
   "source": [
    "Актуальные период для прогноза на 2017 возьмем с 2015 по 2016 года. Данный период выбран в связи с тем, чтобы мы могли посмотреть какие платформы в принципе не будут продаваться. Не стоит брать данные за меньший период (только за 2016), потомучто 2016 в данных представлен не полностью "
   ]
  },
  {
   "cell_type": "code",
   "execution_count": 101,
   "metadata": {},
   "outputs": [
    {
     "data": {
      "text/html": [
       "<div>\n",
       "<style scoped>\n",
       "    .dataframe tbody tr th:only-of-type {\n",
       "        vertical-align: middle;\n",
       "    }\n",
       "\n",
       "    .dataframe tbody tr th {\n",
       "        vertical-align: top;\n",
       "    }\n",
       "\n",
       "    .dataframe thead th {\n",
       "        text-align: right;\n",
       "    }\n",
       "</style>\n",
       "<table border=\"1\" class=\"dataframe\">\n",
       "  <thead>\n",
       "    <tr style=\"text-align: right;\">\n",
       "      <th></th>\n",
       "      <th>name</th>\n",
       "      <th>platform</th>\n",
       "      <th>year_of_release</th>\n",
       "      <th>genre</th>\n",
       "      <th>na_sales</th>\n",
       "      <th>eu_sales</th>\n",
       "      <th>jp_sales</th>\n",
       "      <th>other_sales</th>\n",
       "      <th>critic_score</th>\n",
       "      <th>user_score</th>\n",
       "      <th>rating</th>\n",
       "      <th>total_sales</th>\n",
       "    </tr>\n",
       "  </thead>\n",
       "  <tbody>\n",
       "    <tr>\n",
       "      <th>31</th>\n",
       "      <td>Call of Duty: Black Ops 3</td>\n",
       "      <td>PS4</td>\n",
       "      <td>2015.0</td>\n",
       "      <td>Shooter</td>\n",
       "      <td>6.03</td>\n",
       "      <td>5.86</td>\n",
       "      <td>0.36</td>\n",
       "      <td>2.38</td>\n",
       "      <td>NaN</td>\n",
       "      <td>0.0</td>\n",
       "      <td>No rating</td>\n",
       "      <td>14.63</td>\n",
       "    </tr>\n",
       "    <tr>\n",
       "      <th>77</th>\n",
       "      <td>FIFA 16</td>\n",
       "      <td>PS4</td>\n",
       "      <td>2015.0</td>\n",
       "      <td>Sports</td>\n",
       "      <td>1.12</td>\n",
       "      <td>6.12</td>\n",
       "      <td>0.06</td>\n",
       "      <td>1.28</td>\n",
       "      <td>82.0</td>\n",
       "      <td>4.3</td>\n",
       "      <td>E</td>\n",
       "      <td>8.58</td>\n",
       "    </tr>\n",
       "    <tr>\n",
       "      <th>87</th>\n",
       "      <td>Star Wars Battlefront (2015)</td>\n",
       "      <td>PS4</td>\n",
       "      <td>2015.0</td>\n",
       "      <td>Shooter</td>\n",
       "      <td>2.99</td>\n",
       "      <td>3.49</td>\n",
       "      <td>0.22</td>\n",
       "      <td>1.28</td>\n",
       "      <td>NaN</td>\n",
       "      <td>0.0</td>\n",
       "      <td>No rating</td>\n",
       "      <td>7.98</td>\n",
       "    </tr>\n",
       "    <tr>\n",
       "      <th>94</th>\n",
       "      <td>FIFA 17</td>\n",
       "      <td>PS4</td>\n",
       "      <td>2016.0</td>\n",
       "      <td>Sports</td>\n",
       "      <td>0.66</td>\n",
       "      <td>5.75</td>\n",
       "      <td>0.08</td>\n",
       "      <td>1.11</td>\n",
       "      <td>85.0</td>\n",
       "      <td>5.0</td>\n",
       "      <td>E</td>\n",
       "      <td>7.60</td>\n",
       "    </tr>\n",
       "    <tr>\n",
       "      <th>99</th>\n",
       "      <td>Call of Duty: Black Ops 3</td>\n",
       "      <td>XOne</td>\n",
       "      <td>2015.0</td>\n",
       "      <td>Shooter</td>\n",
       "      <td>4.59</td>\n",
       "      <td>2.11</td>\n",
       "      <td>0.01</td>\n",
       "      <td>0.68</td>\n",
       "      <td>NaN</td>\n",
       "      <td>0.0</td>\n",
       "      <td>No rating</td>\n",
       "      <td>7.39</td>\n",
       "    </tr>\n",
       "    <tr>\n",
       "      <th>...</th>\n",
       "      <td>...</td>\n",
       "      <td>...</td>\n",
       "      <td>...</td>\n",
       "      <td>...</td>\n",
       "      <td>...</td>\n",
       "      <td>...</td>\n",
       "      <td>...</td>\n",
       "      <td>...</td>\n",
       "      <td>...</td>\n",
       "      <td>...</td>\n",
       "      <td>...</td>\n",
       "      <td>...</td>\n",
       "    </tr>\n",
       "    <tr>\n",
       "      <th>16699</th>\n",
       "      <td>The Longest 5 Minutes</td>\n",
       "      <td>PSV</td>\n",
       "      <td>2016.0</td>\n",
       "      <td>Action</td>\n",
       "      <td>0.00</td>\n",
       "      <td>0.00</td>\n",
       "      <td>0.01</td>\n",
       "      <td>0.00</td>\n",
       "      <td>NaN</td>\n",
       "      <td>0.0</td>\n",
       "      <td>No rating</td>\n",
       "      <td>0.01</td>\n",
       "    </tr>\n",
       "    <tr>\n",
       "      <th>16703</th>\n",
       "      <td>Strawberry Nauts</td>\n",
       "      <td>PSV</td>\n",
       "      <td>2016.0</td>\n",
       "      <td>Adventure</td>\n",
       "      <td>0.00</td>\n",
       "      <td>0.00</td>\n",
       "      <td>0.01</td>\n",
       "      <td>0.00</td>\n",
       "      <td>NaN</td>\n",
       "      <td>0.0</td>\n",
       "      <td>No rating</td>\n",
       "      <td>0.01</td>\n",
       "    </tr>\n",
       "    <tr>\n",
       "      <th>16710</th>\n",
       "      <td>Samurai Warriors: Sanada Maru</td>\n",
       "      <td>PS3</td>\n",
       "      <td>2016.0</td>\n",
       "      <td>Action</td>\n",
       "      <td>0.00</td>\n",
       "      <td>0.00</td>\n",
       "      <td>0.01</td>\n",
       "      <td>0.00</td>\n",
       "      <td>NaN</td>\n",
       "      <td>0.0</td>\n",
       "      <td>No rating</td>\n",
       "      <td>0.01</td>\n",
       "    </tr>\n",
       "    <tr>\n",
       "      <th>16712</th>\n",
       "      <td>Haitaka no Psychedelica</td>\n",
       "      <td>PSV</td>\n",
       "      <td>2016.0</td>\n",
       "      <td>Adventure</td>\n",
       "      <td>0.00</td>\n",
       "      <td>0.00</td>\n",
       "      <td>0.01</td>\n",
       "      <td>0.00</td>\n",
       "      <td>NaN</td>\n",
       "      <td>0.0</td>\n",
       "      <td>No rating</td>\n",
       "      <td>0.01</td>\n",
       "    </tr>\n",
       "    <tr>\n",
       "      <th>16714</th>\n",
       "      <td>Winning Post 8 2016</td>\n",
       "      <td>PSV</td>\n",
       "      <td>2016.0</td>\n",
       "      <td>Simulation</td>\n",
       "      <td>0.00</td>\n",
       "      <td>0.00</td>\n",
       "      <td>0.01</td>\n",
       "      <td>0.00</td>\n",
       "      <td>NaN</td>\n",
       "      <td>0.0</td>\n",
       "      <td>No rating</td>\n",
       "      <td>0.01</td>\n",
       "    </tr>\n",
       "  </tbody>\n",
       "</table>\n",
       "<p>1108 rows × 12 columns</p>\n",
       "</div>"
      ],
      "text/plain": [
       "                                name platform  year_of_release       genre  \\\n",
       "31         Call of Duty: Black Ops 3      PS4           2015.0     Shooter   \n",
       "77                           FIFA 16      PS4           2015.0      Sports   \n",
       "87      Star Wars Battlefront (2015)      PS4           2015.0     Shooter   \n",
       "94                           FIFA 17      PS4           2016.0      Sports   \n",
       "99         Call of Duty: Black Ops 3     XOne           2015.0     Shooter   \n",
       "...                              ...      ...              ...         ...   \n",
       "16699          The Longest 5 Minutes      PSV           2016.0      Action   \n",
       "16703               Strawberry Nauts      PSV           2016.0   Adventure   \n",
       "16710  Samurai Warriors: Sanada Maru      PS3           2016.0      Action   \n",
       "16712        Haitaka no Psychedelica      PSV           2016.0   Adventure   \n",
       "16714            Winning Post 8 2016      PSV           2016.0  Simulation   \n",
       "\n",
       "       na_sales  eu_sales  jp_sales  other_sales  critic_score  user_score  \\\n",
       "31         6.03      5.86      0.36         2.38           NaN         0.0   \n",
       "77         1.12      6.12      0.06         1.28          82.0         4.3   \n",
       "87         2.99      3.49      0.22         1.28           NaN         0.0   \n",
       "94         0.66      5.75      0.08         1.11          85.0         5.0   \n",
       "99         4.59      2.11      0.01         0.68           NaN         0.0   \n",
       "...         ...       ...       ...          ...           ...         ...   \n",
       "16699      0.00      0.00      0.01         0.00           NaN         0.0   \n",
       "16703      0.00      0.00      0.01         0.00           NaN         0.0   \n",
       "16710      0.00      0.00      0.01         0.00           NaN         0.0   \n",
       "16712      0.00      0.00      0.01         0.00           NaN         0.0   \n",
       "16714      0.00      0.00      0.01         0.00           NaN         0.0   \n",
       "\n",
       "          rating  total_sales  \n",
       "31     No rating        14.63  \n",
       "77             E         8.58  \n",
       "87     No rating         7.98  \n",
       "94             E         7.60  \n",
       "99     No rating         7.39  \n",
       "...          ...          ...  \n",
       "16699  No rating         0.01  \n",
       "16703  No rating         0.01  \n",
       "16710  No rating         0.01  \n",
       "16712  No rating         0.01  \n",
       "16714  No rating         0.01  \n",
       "\n",
       "[1108 rows x 12 columns]"
      ]
     },
     "execution_count": 101,
     "metadata": {},
     "output_type": "execute_result"
    }
   ],
   "source": [
    "period_data = data[data['year_of_release'] >=2015]\n",
    "period_data"
   ]
  },
  {
   "cell_type": "markdown",
   "metadata": {},
   "source": [
    "#### Выделение потенциально прибыльных платформ\n"
   ]
  },
  {
   "cell_type": "code",
   "execution_count": 102,
   "metadata": {},
   "outputs": [
    {
     "data": {
      "image/png": "[encoded data removed]",
      "text/plain": [
       "<Figure size 1080x504 with 1 Axes>"
      ]
     },
     "metadata": {
      "needs_background": "light"
     },
     "output_type": "display_data"
    }
   ],
   "source": [
    "period_data.pivot_table(index='year_of_release', columns='platform', values='total_sales', aggfunc='sum').plot(figsize=(15,7))\n",
    "plt.title('Платформы с наибольшими суммарными продажами за период 2015-16 года')\n",
    "plt.xlabel('Год')\n",
    "plt.ylabel('Продажи (млн.)')\n",
    "plt.show()"
   ]
  },
  {
   "cell_type": "markdown",
   "metadata": {},
   "source": [
    "Отталкиваясь от нашего графика, можно сделать  вывод - потенциально прибыльной платформой можно считать PS4 и XOne. Именно эти платформы актуальны . Xbox One так же имеет продажи, но значительно меньше. "
   ]
  },
  {
   "cell_type": "markdown",
   "metadata": {},
   "source": [
    "Лидирует по продажам PS4 и XOne, но продажи падают к 2016 году. Эти платформы и будут актуальными "
   ]
  },
  {
   "cell_type": "markdown",
   "metadata": {},
   "source": [
    "#### Глобальные продажи игр в разбивке по платформам"
   ]
  },
  {
   "cell_type": "markdown",
   "metadata": {},
   "source": [
    "Построение графиков «ящик с усами» по глобальным продажам игр в разбивке по платформам. Описание результатов."
   ]
  },
  {
   "cell_type": "code",
   "execution_count": 107,
   "metadata": {},
   "outputs": [
    {
     "data": {
      "text/html": [
       "<div>\n",
       "<style scoped>\n",
       "    .dataframe tbody tr th:only-of-type {\n",
       "        vertical-align: middle;\n",
       "    }\n",
       "\n",
       "    .dataframe tbody tr th {\n",
       "        vertical-align: top;\n",
       "    }\n",
       "\n",
       "    .dataframe thead th {\n",
       "        text-align: right;\n",
       "    }\n",
       "</style>\n",
       "<table border=\"1\" class=\"dataframe\">\n",
       "  <thead>\n",
       "    <tr style=\"text-align: right;\">\n",
       "      <th></th>\n",
       "      <th>name</th>\n",
       "      <th>platform</th>\n",
       "      <th>year_of_release</th>\n",
       "      <th>genre</th>\n",
       "      <th>na_sales</th>\n",
       "      <th>eu_sales</th>\n",
       "      <th>jp_sales</th>\n",
       "      <th>other_sales</th>\n",
       "      <th>critic_score</th>\n",
       "      <th>user_score</th>\n",
       "      <th>rating</th>\n",
       "      <th>total_sales</th>\n",
       "    </tr>\n",
       "  </thead>\n",
       "  <tbody>\n",
       "    <tr>\n",
       "      <th>16</th>\n",
       "      <td>Grand Theft Auto V</td>\n",
       "      <td>PS3</td>\n",
       "      <td>2013.0</td>\n",
       "      <td>Action</td>\n",
       "      <td>7.02</td>\n",
       "      <td>9.09</td>\n",
       "      <td>0.98</td>\n",
       "      <td>3.96</td>\n",
       "      <td>97.0</td>\n",
       "      <td>8.2</td>\n",
       "      <td>M</td>\n",
       "      <td>21.05</td>\n",
       "    </tr>\n",
       "    <tr>\n",
       "      <th>31</th>\n",
       "      <td>Call of Duty: Black Ops 3</td>\n",
       "      <td>PS4</td>\n",
       "      <td>2015.0</td>\n",
       "      <td>Shooter</td>\n",
       "      <td>6.03</td>\n",
       "      <td>5.86</td>\n",
       "      <td>0.36</td>\n",
       "      <td>2.38</td>\n",
       "      <td>NaN</td>\n",
       "      <td>0.0</td>\n",
       "      <td>No rating</td>\n",
       "      <td>14.63</td>\n",
       "    </tr>\n",
       "    <tr>\n",
       "      <th>33</th>\n",
       "      <td>Pokemon X/Pokemon Y</td>\n",
       "      <td>3DS</td>\n",
       "      <td>2013.0</td>\n",
       "      <td>Role-Playing</td>\n",
       "      <td>5.28</td>\n",
       "      <td>4.19</td>\n",
       "      <td>4.35</td>\n",
       "      <td>0.78</td>\n",
       "      <td>NaN</td>\n",
       "      <td>0.0</td>\n",
       "      <td>No rating</td>\n",
       "      <td>14.60</td>\n",
       "    </tr>\n",
       "    <tr>\n",
       "      <th>34</th>\n",
       "      <td>Call of Duty: Black Ops II</td>\n",
       "      <td>PS3</td>\n",
       "      <td>2012.0</td>\n",
       "      <td>Shooter</td>\n",
       "      <td>4.99</td>\n",
       "      <td>5.73</td>\n",
       "      <td>0.65</td>\n",
       "      <td>2.42</td>\n",
       "      <td>83.0</td>\n",
       "      <td>5.3</td>\n",
       "      <td>M</td>\n",
       "      <td>13.79</td>\n",
       "    </tr>\n",
       "    <tr>\n",
       "      <th>37</th>\n",
       "      <td>Call of Duty: Modern Warfare 3</td>\n",
       "      <td>PS3</td>\n",
       "      <td>2011.0</td>\n",
       "      <td>Shooter</td>\n",
       "      <td>5.54</td>\n",
       "      <td>5.73</td>\n",
       "      <td>0.49</td>\n",
       "      <td>1.57</td>\n",
       "      <td>88.0</td>\n",
       "      <td>3.2</td>\n",
       "      <td>M</td>\n",
       "      <td>13.33</td>\n",
       "    </tr>\n",
       "    <tr>\n",
       "      <th>...</th>\n",
       "      <td>...</td>\n",
       "      <td>...</td>\n",
       "      <td>...</td>\n",
       "      <td>...</td>\n",
       "      <td>...</td>\n",
       "      <td>...</td>\n",
       "      <td>...</td>\n",
       "      <td>...</td>\n",
       "      <td>...</td>\n",
       "      <td>...</td>\n",
       "      <td>...</td>\n",
       "      <td>...</td>\n",
       "    </tr>\n",
       "    <tr>\n",
       "      <th>16676</th>\n",
       "      <td>G1 Jockey 4 2008</td>\n",
       "      <td>PS3</td>\n",
       "      <td>2008.0</td>\n",
       "      <td>Sports</td>\n",
       "      <td>0.00</td>\n",
       "      <td>0.00</td>\n",
       "      <td>0.00</td>\n",
       "      <td>0.00</td>\n",
       "      <td>NaN</td>\n",
       "      <td>0.0</td>\n",
       "      <td>No rating</td>\n",
       "      <td>0.00</td>\n",
       "    </tr>\n",
       "    <tr>\n",
       "      <th>16677</th>\n",
       "      <td>Aikatsu Stars! My Special Appeal</td>\n",
       "      <td>3DS</td>\n",
       "      <td>2016.0</td>\n",
       "      <td>Action</td>\n",
       "      <td>0.00</td>\n",
       "      <td>0.00</td>\n",
       "      <td>0.01</td>\n",
       "      <td>0.00</td>\n",
       "      <td>NaN</td>\n",
       "      <td>0.0</td>\n",
       "      <td>No rating</td>\n",
       "      <td>0.01</td>\n",
       "    </tr>\n",
       "    <tr>\n",
       "      <th>16688</th>\n",
       "      <td>Outdoors Unleashed: Africa 3D</td>\n",
       "      <td>3DS</td>\n",
       "      <td>2011.0</td>\n",
       "      <td>Sports</td>\n",
       "      <td>0.01</td>\n",
       "      <td>0.00</td>\n",
       "      <td>0.00</td>\n",
       "      <td>0.00</td>\n",
       "      <td>NaN</td>\n",
       "      <td>0.0</td>\n",
       "      <td>T</td>\n",
       "      <td>0.01</td>\n",
       "    </tr>\n",
       "    <tr>\n",
       "      <th>16691</th>\n",
       "      <td>Dynasty Warriors: Eiketsuden</td>\n",
       "      <td>PS3</td>\n",
       "      <td>2016.0</td>\n",
       "      <td>Action</td>\n",
       "      <td>0.00</td>\n",
       "      <td>0.00</td>\n",
       "      <td>0.01</td>\n",
       "      <td>0.00</td>\n",
       "      <td>NaN</td>\n",
       "      <td>0.0</td>\n",
       "      <td>No rating</td>\n",
       "      <td>0.01</td>\n",
       "    </tr>\n",
       "    <tr>\n",
       "      <th>16710</th>\n",
       "      <td>Samurai Warriors: Sanada Maru</td>\n",
       "      <td>PS3</td>\n",
       "      <td>2016.0</td>\n",
       "      <td>Action</td>\n",
       "      <td>0.00</td>\n",
       "      <td>0.00</td>\n",
       "      <td>0.01</td>\n",
       "      <td>0.00</td>\n",
       "      <td>NaN</td>\n",
       "      <td>0.0</td>\n",
       "      <td>No rating</td>\n",
       "      <td>0.01</td>\n",
       "    </tr>\n",
       "  </tbody>\n",
       "</table>\n",
       "<p>2637 rows × 12 columns</p>\n",
       "</div>"
      ],
      "text/plain": [
       "                                   name platform  year_of_release  \\\n",
       "16                   Grand Theft Auto V      PS3           2013.0   \n",
       "31            Call of Duty: Black Ops 3      PS4           2015.0   \n",
       "33                  Pokemon X/Pokemon Y      3DS           2013.0   \n",
       "34           Call of Duty: Black Ops II      PS3           2012.0   \n",
       "37       Call of Duty: Modern Warfare 3      PS3           2011.0   \n",
       "...                                 ...      ...              ...   \n",
       "16676                  G1 Jockey 4 2008      PS3           2008.0   \n",
       "16677  Aikatsu Stars! My Special Appeal      3DS           2016.0   \n",
       "16688     Outdoors Unleashed: Africa 3D      3DS           2011.0   \n",
       "16691      Dynasty Warriors: Eiketsuden      PS3           2016.0   \n",
       "16710     Samurai Warriors: Sanada Maru      PS3           2016.0   \n",
       "\n",
       "              genre  na_sales  eu_sales  jp_sales  other_sales  critic_score  \\\n",
       "16           Action      7.02      9.09      0.98         3.96          97.0   \n",
       "31          Shooter      6.03      5.86      0.36         2.38           NaN   \n",
       "33     Role-Playing      5.28      4.19      4.35         0.78           NaN   \n",
       "34          Shooter      4.99      5.73      0.65         2.42          83.0   \n",
       "37          Shooter      5.54      5.73      0.49         1.57          88.0   \n",
       "...             ...       ...       ...       ...          ...           ...   \n",
       "16676        Sports      0.00      0.00      0.00         0.00           NaN   \n",
       "16677        Action      0.00      0.00      0.01         0.00           NaN   \n",
       "16688        Sports      0.01      0.00      0.00         0.00           NaN   \n",
       "16691        Action      0.00      0.00      0.01         0.00           NaN   \n",
       "16710        Action      0.00      0.00      0.01         0.00           NaN   \n",
       "\n",
       "       user_score     rating  total_sales  \n",
       "16            8.2          M        21.05  \n",
       "31            0.0  No rating        14.63  \n",
       "33            0.0  No rating        14.60  \n",
       "34            5.3          M        13.79  \n",
       "37            3.2          M        13.33  \n",
       "...           ...        ...          ...  \n",
       "16676         0.0  No rating         0.00  \n",
       "16677         0.0  No rating         0.01  \n",
       "16688         0.0          T         0.01  \n",
       "16691         0.0  No rating         0.01  \n",
       "16710         0.0  No rating         0.01  \n",
       "\n",
       "[2637 rows x 12 columns]"
      ]
     },
     "execution_count": 107,
     "metadata": {},
     "output_type": "execute_result"
    }
   ],
   "source": [
    "data_2017 =  data[data['platform'].isin(['PS4','XOne','PS3','3DS','WiiU'])]\n",
    "data_2017"
   ]
  },
  {
   "cell_type": "code",
   "execution_count": 108,
   "metadata": {},
   "outputs": [
    {
     "data": {
      "image/png": "[encoded data removed]",
      "text/plain": [
       "<Figure size 720x720 with 1 Axes>"
      ]
     },
     "metadata": {
      "needs_background": "light"
     },
     "output_type": "display_data"
    }
   ],
   "source": [
    "data_2017.boxplot(column='total_sales', by='platform', figsize=(10,10))\n",
    "plt.title('Ящик с усами')\n",
    "plt.xlabel('Платформа')\n",
    "plt.ylabel('Глобальные продажи')\n",
    "plt.show()\n"
   ]
  },
  {
   "cell_type": "markdown",
   "metadata": {},
   "source": [
    "Рассматривая общую диаграмму размаха стоит отметить частые и редкие выбросы. Данные выбросы стоит оставить, ведь есть игры с очень высокими продажами в мире, со своей базой фанатов, например. Такие выбросы нельзя исключать "
   ]
  },
  {
   "cell_type": "code",
   "execution_count": 109,
   "metadata": {},
   "outputs": [
    {
     "data": {
      "image/png": "[encoded data removed]",
      "text/plain": [
       "<Figure size 720x720 with 1 Axes>"
      ]
     },
     "metadata": {
      "needs_background": "light"
     },
     "output_type": "display_data"
    }
   ],
   "source": [
    "#построим график второй, который будет ограничивать по оси Y, чтобы рассмотреть квартили и усы распределений.\n",
    "data_2017.boxplot(column='total_sales', by='platform', figsize=(10,10))\n",
    "plt.ylim(0, 5)\n",
    "plt.title('Ящик с усами')\n",
    "plt.xlabel('Платформа')\n",
    "plt.ylabel('Глобальные продажи')\n",
    "plt.show()"
   ]
  },
  {
   "cell_type": "markdown",
   "metadata": {},
   "source": [
    "#### Влияние на продажи отзывов пользователей и критиков внутри одной популярной платформы"
   ]
  },
  {
   "cell_type": "markdown",
   "metadata": {},
   "source": [
    "Для диагностики возьмем платформу PS4, т.к. у этой платформы значительные продажи в 2016 году."
   ]
  },
  {
   "cell_type": "code",
   "execution_count": 110,
   "metadata": {},
   "outputs": [
    {
     "data": {
      "image/png": "[encoded data removed]",
      "text/plain": [
       "<Figure size 576x576 with 1 Axes>"
      ]
     },
     "metadata": {
      "needs_background": "light"
     },
     "output_type": "display_data"
    }
   ],
   "source": [
    "# Посмотрим, как влияют на продажи внутри одной популярной платформы отзывы пользователей\n",
    "data[data['platform']=='PS4'].plot(x='user_score', y='total_sales', kind='scatter', alpha=0.3, figsize=(8,8), grid=True)\n",
    "plt.title('Влияние на продажи внутри одной популярной платформы отзывы пользователей')\n",
    "plt.xlabel('Отзывы пользователей')\n",
    "plt.ylabel('Продажи')\n",
    "plt.show()"
   ]
  },
  {
   "cell_type": "code",
   "execution_count": 111,
   "metadata": {},
   "outputs": [
    {
     "data": {
      "image/png": "[encoded data removed]",
      "text/plain": [
       "<Figure size 576x576 with 1 Axes>"
      ]
     },
     "metadata": {
      "needs_background": "light"
     },
     "output_type": "display_data"
    }
   ],
   "source": [
    "# Посмотрим, как влияют на продажи внутри одной популярной платформы отзывы критиков\n",
    "data[data['platform']=='PS4'].plot(x='critic_score', y='total_sales', kind='scatter', alpha=0.3, figsize=(8,8), grid=True)\n",
    "plt.title('Влияние на продажи внутри одной популярной платформы отзывы критиков')\n",
    "plt.xlabel('Отзывы пользователей')\n",
    "plt.ylabel('Продажи')\n",
    "plt.show()"
   ]
  },
  {
   "cell_type": "code",
   "execution_count": 112,
   "metadata": {},
   "outputs": [
    {
     "name": "stdout",
     "output_type": "stream",
     "text": [
      "Уровень кореляции между отзывами пользователей и продажами: -0.03195711020455646\n",
      "Уровень кореляции между отзывами критиков и продажами: 0.4065679020617814\n"
     ]
    }
   ],
   "source": [
    "# посчитаем корреляцию между отзывами пользователей и продажами\n",
    "data_ps4 = data[data['platform']=='PS4']\n",
    "\n",
    "data_ps4_user = data_ps4[data_ps4['user_score'] != 0]\n",
    "data_ps4_cor_user = data_ps4_user['user_score'].corr(data_ps4_user['total_sales'])\n",
    "print(\"Уровень кореляции между отзывами пользователей и продажами:\" ,data_ps4_cor_user)\n",
    "\n",
    "data_ps4_critic = data_ps4[data_ps4['critic_score'] != 0]\n",
    "data_ps4_cor_critic = data_ps4_critic['critic_score'].corr(data_ps4_critic['total_sales'])\n",
    "print(\"Уровень кореляции между отзывами критиков и продажами:\" ,data_ps4_cor_critic)"
   ]
  },
  {
   "cell_type": "markdown",
   "metadata": {},
   "source": [
    "В оценке пользователей на продажи  линейной связи между признаками нет, чего не скажешь об оценке критиков. Покупатели прислушиваются больше к критикам чем к оценкам других пользователей\n"
   ]
  },
  {
   "cell_type": "markdown",
   "metadata": {},
   "source": [
    "#### Соотношение выводов с продажами игр на других платформах."
   ]
  },
  {
   "cell_type": "code",
   "execution_count": 113,
   "metadata": {},
   "outputs": [
    {
     "data": {
      "text/plain": [
       "platform\n",
       "PS3     939.65\n",
       "PS4     314.14\n",
       "3DS     259.00\n",
       "XOne    159.32\n",
       "WiiU     82.19\n",
       "Name: total_sales, dtype: float64"
      ]
     },
     "execution_count": 113,
     "metadata": {},
     "output_type": "execute_result"
    }
   ],
   "source": [
    "data_2017.groupby('platform')['total_sales'].sum().sort_values(ascending=False)"
   ]
  },
  {
   "cell_type": "markdown",
   "metadata": {},
   "source": [
    "Рассмотрим игры от PS3 до WiiU . Заметна большая разница в продажах между PS4 - 314.14 и PS3 - 931.34"
   ]
  },
  {
   "cell_type": "code",
   "execution_count": 114,
   "metadata": {},
   "outputs": [
    {
     "data": {
      "image/png": "[encoded data removed]",
      "text/plain": [
       "<Figure size 288x288 with 1 Axes>"
      ]
     },
     "metadata": {
      "needs_background": "light"
     },
     "output_type": "display_data"
    }
   ],
   "source": [
    "# Рассмотрим, как влияют на продажи PS3 отзывы пользователей\n",
    "data_2017[data_2017['platform']=='PS3'].plot(x='user_score', y='total_sales', kind='scatter', alpha=0.3, figsize=(4,4), grid=True)\n",
    "plt.title('Влияние на продажи PS3 отзывы пользователей')\n",
    "plt.xlabel('Отзывы пользователей')\n",
    "plt.ylabel('Продажи')\n",
    "plt.show()"
   ]
  },
  {
   "cell_type": "code",
   "execution_count": 115,
   "metadata": {},
   "outputs": [
    {
     "data": {
      "image/png": "[encoded data removed]",
      "text/plain": [
       "<Figure size 288x288 with 1 Axes>"
      ]
     },
     "metadata": {
      "needs_background": "light"
     },
     "output_type": "display_data"
    }
   ],
   "source": [
    "# Рассмотрим, как влияют на продажи  PS3 отзывы критиков\n",
    "data_2017[data_2017['platform']=='PS3'].plot(x='critic_score', y='total_sales', kind='scatter', alpha=0.3, figsize=(4,4), grid=True)\n",
    "plt.title('Влияние на продажи PS3 отзывы критиков')\n",
    "plt.xlabel('Отзывы пользователей')\n",
    "plt.ylabel('Продажи')\n",
    "plt.show()"
   ]
  },
  {
   "cell_type": "code",
   "execution_count": 119,
   "metadata": {},
   "outputs": [
    {
     "name": "stdout",
     "output_type": "stream",
     "text": [
      "Уровень кореляции между отзывами пользователей и продажами PS3: 0.12669133936341703\n",
      "Уровень кореляции между отзывами критиков и продажами PS3: 0.43243156856420595\n"
     ]
    }
   ],
   "source": [
    "# Посчитаем корреляцию между отзывами пользователей и продажами PS3\n",
    "data_ps3 = data_2017[data_2017['platform']=='PS3']\n",
    "data_ps3_user = data_ps3[data_ps3['user_score'] != 0]\n",
    "data_ps3_cor_user = data_ps3_user['user_score'].corr(data_ps3_user['total_sales'])\n",
    "print(\"Уровень кореляции между отзывами пользователей и продажами PS3:\" ,data_ps3_cor_user)\n",
    "# Посчитаем корреляцию между отзывами критиков и продажами PS3\n",
    "data_ps3_critic = data_ps3[data_ps3['critic_score'] != 0]\n",
    "data_ps3_cor_critic = data_ps3_critic['critic_score'].corr(data_ps3_critic['total_sales'])\n",
    "print(\"Уровень кореляции между отзывами критиков и продажами PS3:\" ,data_ps3_cor_critic)"
   ]
  },
  {
   "cell_type": "code",
   "execution_count": 120,
   "metadata": {},
   "outputs": [
    {
     "data": {
      "image/png": "[encoded data removed]",
      "text/plain": [
       "<Figure size 288x288 with 1 Axes>"
      ]
     },
     "metadata": {
      "needs_background": "light"
     },
     "output_type": "display_data"
    }
   ],
   "source": [
    "# Посчитаем, как влияют на продажи XOne отзывы пользователей\n",
    "data_2017[data_2017['platform']=='XOne'].plot(x='user_score', y='total_sales', kind='scatter', alpha=0.3, figsize=(4,4), grid=True)\n",
    "plt.title('Влияние на продажи XOne отзывы пользователей')\n",
    "plt.xlabel('Отзывы пользователей')\n",
    "plt.ylabel('Продажи')\n",
    "plt.show()"
   ]
  },
  {
   "cell_type": "code",
   "execution_count": 121,
   "metadata": {},
   "outputs": [
    {
     "data": {
      "image/png": "[encoded data removed]",
      "text/plain": [
       "<Figure size 288x288 with 1 Axes>"
      ]
     },
     "metadata": {
      "needs_background": "light"
     },
     "output_type": "display_data"
    }
   ],
   "source": [
    "# Посчитаем,, как влияют на продажи XOne отзывы критиков\n",
    "data_2017[data_2017['platform']=='XOne'].plot(x='critic_score', y='total_sales', kind='scatter', alpha=0.3, figsize=(4,4), grid=True)\n",
    "plt.title('Влияние на продажи XOne отзывы критиков')\n",
    "plt.xlabel('Отзывы пользователей')\n",
    "plt.ylabel('Продажи')\n",
    "plt.show()"
   ]
  },
  {
   "cell_type": "code",
   "execution_count": 122,
   "metadata": {},
   "outputs": [
    {
     "name": "stdout",
     "output_type": "stream",
     "text": [
      "Уровень кореляции между отзывами пользователей и продажами XOne: -0.06892505328279418\n",
      "Уровень кореляции между отзывами критиков и продажами XOne: 0.4169983280084015\n"
     ]
    }
   ],
   "source": [
    "# Посчитаем, корреляцию между отзывами пользователей и продажами XOne\n",
    "data_xone = data_2017[data_2017['platform']=='XOne']\n",
    "data_xone_user = data_xone[data_xone['user_score'] != 0]\n",
    "data_xone_cor_user = data_xone_user['user_score'].corr(data_xone_user['total_sales'])\n",
    "print(\"Уровень кореляции между отзывами пользователей и продажами XOne:\" ,data_xone_cor_user)\n",
    "# Посчитаем, корреляцию между отзывами критиков и продажами XOne\n",
    "data_xone_critic = data_xone[data_xone['critic_score'] != 0]\n",
    "data_xone_cor_critic = data_xone_critic['critic_score'].corr(data_xone_critic['total_sales'])\n",
    "print(\"Уровень кореляции между отзывами критиков и продажами XOne:\" ,data_xone_cor_critic)"
   ]
  },
  {
   "cell_type": "code",
   "execution_count": 123,
   "metadata": {},
   "outputs": [
    {
     "data": {
      "image/png": "[encoded data removed]",
      "text/plain": [
       "<Figure size 288x288 with 1 Axes>"
      ]
     },
     "metadata": {
      "needs_background": "light"
     },
     "output_type": "display_data"
    }
   ],
   "source": [
    "# Посчитаем, как влияют на продажи WiiU отзывы пользователей\n",
    "data_2017[data_2017['platform']=='WiiU'].plot(x='user_score', y='total_sales', kind='scatter', alpha=0.3, figsize=(4,4), grid=True)\n",
    "plt.title('Влияние на продажи WiiU отзывы пользователей')\n",
    "plt.xlabel('Отзывы пользователей')\n",
    "plt.ylabel('Продажи')\n",
    "plt.show()"
   ]
  },
  {
   "cell_type": "code",
   "execution_count": 124,
   "metadata": {},
   "outputs": [
    {
     "data": {
      "image/png": "[encoded data removed]",
      "text/plain": [
       "<Figure size 288x288 with 1 Axes>"
      ]
     },
     "metadata": {
      "needs_background": "light"
     },
     "output_type": "display_data"
    }
   ],
   "source": [
    "# Посчитаем, как влияют на продажи WiiU отзывы критиков\n",
    "data_2017[data_2017['platform']=='WiiU'].plot(x='critic_score', y='total_sales', kind='scatter', alpha=0.3, figsize=(4,4), grid=True)\n",
    "plt.title('Влияние на продажи WiiU отзывы критиков')\n",
    "plt.xlabel('Отзывы пользователей')\n",
    "plt.ylabel('Продажи')\n",
    "plt.show()"
   ]
  },
  {
   "cell_type": "code",
   "execution_count": 125,
   "metadata": {},
   "outputs": [
    {
     "name": "stdout",
     "output_type": "stream",
     "text": [
      "Уровень кореляции между отзывами пользователей и продажами WiiU: 0.4002190202148617\n",
      "Уровень кореляции между отзывами критиков и продажами WiiU: 0.3483797601201749\n"
     ]
    }
   ],
   "source": [
    "# Посчитаем,корреляцию между отзывами пользователей и продажами WiiU\n",
    "data_wiiu = data_2017[data_2017['platform']=='WiiU']\n",
    "data_wiiu_user = data_wiiu[data_wiiu['user_score'] != 0]\n",
    "data_wiiu_cor_user = data_wiiu_user['user_score'].corr(data_wiiu_user['total_sales'])\n",
    "print(\"Уровень кореляции между отзывами пользователей и продажами WiiU:\" ,data_wiiu_cor_user)\n",
    "# посчитайте корреляцию между отзывами критиков и продажами Wii\n",
    "data_wiiu_critic = data_wiiu[data_wiiu['critic_score'] != 0]\n",
    "data_wiiu_cor_critic = data_wiiu_critic['critic_score'].corr(data_wiiu_critic['total_sales'])\n",
    "print(\"Уровень кореляции между отзывами критиков и продажами WiiU:\" ,data_wiiu_cor_critic)"
   ]
  },
  {
   "cell_type": "code",
   "execution_count": 126,
   "metadata": {},
   "outputs": [
    {
     "data": {
      "image/png": "[encoded data removed]",
      "text/plain": [
       "<Figure size 288x288 with 1 Axes>"
      ]
     },
     "metadata": {
      "needs_background": "light"
     },
     "output_type": "display_data"
    }
   ],
   "source": [
    "# Посчитаем, как влияют на продажи 3DS отзывы пользователей\n",
    "data_2017[data_2017['platform']=='3DS'].plot(x='user_score', y='total_sales', kind='scatter', alpha=0.3, figsize=(4,4), grid=True)\n",
    "plt.title('Влияние на продажи 3DS отзывы пользователей')\n",
    "plt.xlabel('Отзывы пользователей')\n",
    "plt.ylabel('Продажи')\n",
    "plt.show()"
   ]
  },
  {
   "cell_type": "code",
   "execution_count": 127,
   "metadata": {},
   "outputs": [
    {
     "data": {
      "image/png": "[encoded data removed]",
      "text/plain": [
       "<Figure size 288x288 with 1 Axes>"
      ]
     },
     "metadata": {
      "needs_background": "light"
     },
     "output_type": "display_data"
    }
   ],
   "source": [
    "# Посчитаем, как влияют на продажи 3DS отзывы критиков\n",
    "data_2017[data_2017['platform']=='3DS'].plot(x='critic_score', y='total_sales', kind='scatter', alpha=0.3, figsize=(4,4), grid=True)\n",
    "plt.title('Влияние на продажи DS отзывы критиков')\n",
    "plt.xlabel('Отзывы пользователей')\n",
    "plt.ylabel('Продажи')\n",
    "plt.show()"
   ]
  },
  {
   "cell_type": "code",
   "execution_count": 128,
   "metadata": {},
   "outputs": [
    {
     "name": "stdout",
     "output_type": "stream",
     "text": [
      "Уровень кореляции между отзывами пользователей и продажами 3DS: 0.2248079803957107\n",
      "Уровень кореляции между отзывами критиков и продажами 3DS: 0.3494009303924131\n"
     ]
    }
   ],
   "source": [
    "# Посчитаем, корреляцию между отзывами пользователей и продажами 3DS\n",
    "data_3ds = data_2017[data_2017['platform']=='3DS']\n",
    "data_3ds_user = data_3ds[data_3ds['user_score'] != 0]\n",
    "data_3ds_cor_user = data_3ds_user['user_score'].corr(data_3ds_user['total_sales'])\n",
    "print(\"Уровень кореляции между отзывами пользователей и продажами 3DS:\" ,data_3ds_cor_user)\n",
    "# Посчитаем, корреляцию между отзывами критиков и продажами 3DS\n",
    "data_3ds_critic = data_3ds[data_3ds['critic_score'] != 0]\n",
    "data_3ds_cor_critic = data_3ds_critic['critic_score'].corr(data_3ds_critic['total_sales'])\n",
    "print(\"Уровень кореляции между отзывами критиков и продажами 3DS:\" ,data_3ds_cor_critic)"
   ]
  },
  {
   "cell_type": "markdown",
   "metadata": {},
   "source": [
    "У PS3,XOne, 3DS, WiiU наблюдается пусть и не сильная, но всё же, связь между оценками критиков и продажами. А связь между оценками пользователей и продажами слабая у всех платформ. У XOne связь слабая отрицательная. Только у WiiU корреляция между отзывами пользователей выше чем между продажами к отзывам критиков. \n",
    "Поэтому общий вывод остаестя прежним, что покупатели прислушиваются больше к критикам, нежели к оценкам других пользователей. "
   ]
  },
  {
   "cell_type": "markdown",
   "metadata": {},
   "source": [
    "####  Общее распределение игр по жанрам. "
   ]
  },
  {
   "cell_type": "markdown",
   "metadata": {},
   "source": [
    "Что можно сказать о самых прибыльных жанрах? Выделяются ли жанры с высокими и низкими продажами?"
   ]
  },
  {
   "cell_type": "code",
   "execution_count": 129,
   "metadata": {},
   "outputs": [
    {
     "data": {
      "text/plain": [
       "genre\n",
       "Action          512.31\n",
       "Shooter         348.73\n",
       "Sports          225.46\n",
       "Role-Playing    200.37\n",
       "Racing          116.89\n",
       "Platform         92.48\n",
       "Misc             85.93\n",
       "Fighting         79.04\n",
       "Simulation       39.95\n",
       "Adventure        36.42\n",
       "Strategy          9.22\n",
       "Puzzle            7.50\n",
       "Name: total_sales, dtype: float64"
      ]
     },
     "execution_count": 129,
     "metadata": {},
     "output_type": "execute_result"
    }
   ],
   "source": [
    "pop_genre=data_2017.groupby('genre')['total_sales'].sum().sort_values(ascending=False)\n",
    "pop_genre"
   ]
  },
  {
   "cell_type": "markdown",
   "metadata": {},
   "source": [
    "Среди самых прибыльных жанров лидируют Action, Sports, Shooter. Стоит отметить, что в этих жанрах делается упор на эксплуатацию физических возможностей игрока. Игры с низкими продажами являются Puzzle, которые направлены на развитие логического мышления, внимания, памяти. Игры с высокими и низкими продажами отличаются от друг друга в 70 раз по количеству продаж\n",
    "\n",
    "Количество игр сильно различаться, посчитаем медианные продажи игр по жанрам, чтобы понять, какой жанр обычно продается лучше."
   ]
  },
  {
   "cell_type": "code",
   "execution_count": 130,
   "metadata": {},
   "outputs": [
    {
     "data": {
      "text/html": [
       "<div>\n",
       "<style scoped>\n",
       "    .dataframe tbody tr th:only-of-type {\n",
       "        vertical-align: middle;\n",
       "    }\n",
       "\n",
       "    .dataframe tbody tr th {\n",
       "        vertical-align: top;\n",
       "    }\n",
       "\n",
       "    .dataframe thead th {\n",
       "        text-align: right;\n",
       "    }\n",
       "</style>\n",
       "<table border=\"1\" class=\"dataframe\">\n",
       "  <thead>\n",
       "    <tr style=\"text-align: right;\">\n",
       "      <th></th>\n",
       "      <th>year_of_release</th>\n",
       "      <th>na_sales</th>\n",
       "      <th>eu_sales</th>\n",
       "      <th>jp_sales</th>\n",
       "      <th>other_sales</th>\n",
       "      <th>critic_score</th>\n",
       "      <th>user_score</th>\n",
       "      <th>total_sales</th>\n",
       "    </tr>\n",
       "    <tr>\n",
       "      <th>genre</th>\n",
       "      <th></th>\n",
       "      <th></th>\n",
       "      <th></th>\n",
       "      <th></th>\n",
       "      <th></th>\n",
       "      <th></th>\n",
       "      <th></th>\n",
       "      <th></th>\n",
       "    </tr>\n",
       "  </thead>\n",
       "  <tbody>\n",
       "    <tr>\n",
       "      <th>Shooter</th>\n",
       "      <td>2012.0</td>\n",
       "      <td>0.230</td>\n",
       "      <td>0.21</td>\n",
       "      <td>0.01</td>\n",
       "      <td>0.08</td>\n",
       "      <td>74.5</td>\n",
       "      <td>6.4</td>\n",
       "      <td>0.595</td>\n",
       "    </tr>\n",
       "    <tr>\n",
       "      <th>Platform</th>\n",
       "      <td>2013.0</td>\n",
       "      <td>0.120</td>\n",
       "      <td>0.12</td>\n",
       "      <td>0.00</td>\n",
       "      <td>0.04</td>\n",
       "      <td>75.5</td>\n",
       "      <td>6.3</td>\n",
       "      <td>0.340</td>\n",
       "    </tr>\n",
       "    <tr>\n",
       "      <th>Fighting</th>\n",
       "      <td>2012.5</td>\n",
       "      <td>0.115</td>\n",
       "      <td>0.07</td>\n",
       "      <td>0.04</td>\n",
       "      <td>0.03</td>\n",
       "      <td>75.0</td>\n",
       "      <td>7.0</td>\n",
       "      <td>0.320</td>\n",
       "    </tr>\n",
       "    <tr>\n",
       "      <th>Sports</th>\n",
       "      <td>2012.0</td>\n",
       "      <td>0.130</td>\n",
       "      <td>0.05</td>\n",
       "      <td>0.00</td>\n",
       "      <td>0.03</td>\n",
       "      <td>76.0</td>\n",
       "      <td>5.3</td>\n",
       "      <td>0.265</td>\n",
       "    </tr>\n",
       "    <tr>\n",
       "      <th>Racing</th>\n",
       "      <td>2011.0</td>\n",
       "      <td>0.100</td>\n",
       "      <td>0.12</td>\n",
       "      <td>0.00</td>\n",
       "      <td>0.03</td>\n",
       "      <td>73.0</td>\n",
       "      <td>6.1</td>\n",
       "      <td>0.260</td>\n",
       "    </tr>\n",
       "    <tr>\n",
       "      <th>Role-Playing</th>\n",
       "      <td>2013.5</td>\n",
       "      <td>0.060</td>\n",
       "      <td>0.02</td>\n",
       "      <td>0.07</td>\n",
       "      <td>0.02</td>\n",
       "      <td>74.0</td>\n",
       "      <td>5.0</td>\n",
       "      <td>0.230</td>\n",
       "    </tr>\n",
       "    <tr>\n",
       "      <th>Action</th>\n",
       "      <td>2013.0</td>\n",
       "      <td>0.080</td>\n",
       "      <td>0.04</td>\n",
       "      <td>0.01</td>\n",
       "      <td>0.02</td>\n",
       "      <td>71.0</td>\n",
       "      <td>5.7</td>\n",
       "      <td>0.210</td>\n",
       "    </tr>\n",
       "    <tr>\n",
       "      <th>Simulation</th>\n",
       "      <td>2012.0</td>\n",
       "      <td>0.070</td>\n",
       "      <td>0.02</td>\n",
       "      <td>0.02</td>\n",
       "      <td>0.01</td>\n",
       "      <td>66.0</td>\n",
       "      <td>0.0</td>\n",
       "      <td>0.190</td>\n",
       "    </tr>\n",
       "    <tr>\n",
       "      <th>Misc</th>\n",
       "      <td>2012.0</td>\n",
       "      <td>0.070</td>\n",
       "      <td>0.03</td>\n",
       "      <td>0.00</td>\n",
       "      <td>0.01</td>\n",
       "      <td>73.0</td>\n",
       "      <td>0.0</td>\n",
       "      <td>0.160</td>\n",
       "    </tr>\n",
       "    <tr>\n",
       "      <th>Puzzle</th>\n",
       "      <td>2013.0</td>\n",
       "      <td>0.055</td>\n",
       "      <td>0.00</td>\n",
       "      <td>0.02</td>\n",
       "      <td>0.01</td>\n",
       "      <td>71.0</td>\n",
       "      <td>2.4</td>\n",
       "      <td>0.100</td>\n",
       "    </tr>\n",
       "    <tr>\n",
       "      <th>Strategy</th>\n",
       "      <td>2013.0</td>\n",
       "      <td>0.000</td>\n",
       "      <td>0.00</td>\n",
       "      <td>0.02</td>\n",
       "      <td>0.00</td>\n",
       "      <td>76.0</td>\n",
       "      <td>0.0</td>\n",
       "      <td>0.080</td>\n",
       "    </tr>\n",
       "    <tr>\n",
       "      <th>Adventure</th>\n",
       "      <td>2014.0</td>\n",
       "      <td>0.010</td>\n",
       "      <td>0.00</td>\n",
       "      <td>0.01</td>\n",
       "      <td>0.00</td>\n",
       "      <td>70.5</td>\n",
       "      <td>0.0</td>\n",
       "      <td>0.070</td>\n",
       "    </tr>\n",
       "  </tbody>\n",
       "</table>\n",
       "</div>"
      ],
      "text/plain": [
       "              year_of_release  na_sales  eu_sales  jp_sales  other_sales  \\\n",
       "genre                                                                      \n",
       "Shooter                2012.0     0.230      0.21      0.01         0.08   \n",
       "Platform               2013.0     0.120      0.12      0.00         0.04   \n",
       "Fighting               2012.5     0.115      0.07      0.04         0.03   \n",
       "Sports                 2012.0     0.130      0.05      0.00         0.03   \n",
       "Racing                 2011.0     0.100      0.12      0.00         0.03   \n",
       "Role-Playing           2013.5     0.060      0.02      0.07         0.02   \n",
       "Action                 2013.0     0.080      0.04      0.01         0.02   \n",
       "Simulation             2012.0     0.070      0.02      0.02         0.01   \n",
       "Misc                   2012.0     0.070      0.03      0.00         0.01   \n",
       "Puzzle                 2013.0     0.055      0.00      0.02         0.01   \n",
       "Strategy               2013.0     0.000      0.00      0.02         0.00   \n",
       "Adventure              2014.0     0.010      0.00      0.01         0.00   \n",
       "\n",
       "              critic_score  user_score  total_sales  \n",
       "genre                                                \n",
       "Shooter               74.5         6.4        0.595  \n",
       "Platform              75.5         6.3        0.340  \n",
       "Fighting              75.0         7.0        0.320  \n",
       "Sports                76.0         5.3        0.265  \n",
       "Racing                73.0         6.1        0.260  \n",
       "Role-Playing          74.0         5.0        0.230  \n",
       "Action                71.0         5.7        0.210  \n",
       "Simulation            66.0         0.0        0.190  \n",
       "Misc                  73.0         0.0        0.160  \n",
       "Puzzle                71.0         2.4        0.100  \n",
       "Strategy              76.0         0.0        0.080  \n",
       "Adventure             70.5         0.0        0.070  "
      ]
     },
     "execution_count": 130,
     "metadata": {},
     "output_type": "execute_result"
    }
   ],
   "source": [
    "data_2017.groupby('genre').median().sort_values('total_sales' , ascending=False)"
   ]
  },
  {
   "cell_type": "markdown",
   "metadata": {},
   "source": [
    "Исходя из данных в графике в среднем продолжительность жизни каждой платформы составляет 10 лет\n",
    "Актуальные период для прогноза на 2017 возьмем с 2015 по 2016 года. Данный период выбран в связи с тем, чтобы мы могли посмотреть какие платформы в принципе не будут продаваться. Не стоит брать данные за меньший период (только за 2016), потому что 2016 в данных представлен не полностью\n",
    "\n",
    "Можно выделить лидирующую платформу - PS4.\n",
    "\n",
    "Рассматривая общую диаграмму размаха стоит отметить частые и редкие выбросы. Данные выбросы стоит оставить, ведь есть игры с очень высокими продажами в мире, со своей базой фанатов, например. Такие выбросы нельзя исключать\n",
    "\n",
    "У PS3,XOne, 3DS, WiiU наблюдается пусть и не сильная, но всё же, связь между оценками критиков и продажами. А связь между оценками пользователей и продажами слабая у всех платформ. У XOne связь слабая отрицательная. Только у WiiU корреляция между отзывами пользователей выше чем между продажами к отзывам критиков. \n",
    "Поэтому общий вывод остаестя прежним, что покупатели прислушиваются больше к критикам, нежели к оценкам других пользователей\n",
    "\n",
    "Среди самых прибыльных жанров лидируют Action, Sports, Shooter. Стоит отметить, что в этих жанрах делается упор на эксплуатацию физических возможностей игрока. Игры с низкими продажами являются Puzzle, которые направлены на развитие логического мышления, внимания, памяти. Игры с высокими и низкими продажами отличаются от друг друга в 70 раз по количеству продаж\n",
    "\n",
    "После подсета медианные продажи игр по жанрам, на лидирующую позицию выходит Shooter, Platform, Fighting.Игры с низкими продажами являются Adventure, Strategy, Puzzle  \n"
   ]
  },
  {
   "cell_type": "markdown",
   "metadata": {},
   "source": [
    "###  4. Портрет пользователя каждого региона"
   ]
  },
  {
   "cell_type": "markdown",
   "metadata": {},
   "source": [
    "**Самые популярные платформы (топ-5)**"
   ]
  },
  {
   "cell_type": "markdown",
   "metadata": {},
   "source": [
    "Определить для пользователя каждого региона (NA, EU, JP): Самые популярные платформы (топ-5)."
   ]
  },
  {
   "cell_type": "code",
   "execution_count": 134,
   "metadata": {},
   "outputs": [],
   "source": [
    "# функция жля построения графиков и таблиц\n",
    "def top5(row):\n",
    "    sales = ['na_sales', 'eu_sales', 'jp_sales', 'other_sales']\n",
    "    \n",
    "    # число рядов и столбцов в сетке графиков\n",
    "    col_count, row_count = 2, 2\n",
    "    \n",
    "    # размер графиков\n",
    "    plt.figure(figsize = (15, 7))\n",
    "    \n",
    "    for i, sale in enumerate(sales):\n",
    "        ptable = (data_2017\n",
    "                  .pivot_table(index=row, values=sale, aggfunc='sum')\n",
    "                  .sort_values(by=sale, ascending=False)\n",
    "                  .reset_index()\n",
    "                  .head(5))\n",
    "        display(ptable)\n",
    "        print('\\n')\n",
    "        \n",
    "        sns.barplot(data=ptable, x=row, y=sale, ax = plt.subplot(row_count, col_count, i + 1))\n",
    "        \n",
    "        # добавление подзаголовков на каждый график\n",
    "        plt.title(sale)\n",
    "        \n",
    "        # настройка подзаголовков\n",
    "        plt.tight_layout()\n",
    "    return"
   ]
  },
  {
   "cell_type": "code",
   "execution_count": 135,
   "metadata": {},
   "outputs": [
    {
     "data": {
      "text/html": [
       "<div>\n",
       "<style scoped>\n",
       "    .dataframe tbody tr th:only-of-type {\n",
       "        vertical-align: middle;\n",
       "    }\n",
       "\n",
       "    .dataframe tbody tr th {\n",
       "        vertical-align: top;\n",
       "    }\n",
       "\n",
       "    .dataframe thead th {\n",
       "        text-align: right;\n",
       "    }\n",
       "</style>\n",
       "<table border=\"1\" class=\"dataframe\">\n",
       "  <thead>\n",
       "    <tr style=\"text-align: right;\">\n",
       "      <th></th>\n",
       "      <th>platform</th>\n",
       "      <th>na_sales</th>\n",
       "    </tr>\n",
       "  </thead>\n",
       "  <tbody>\n",
       "    <tr>\n",
       "      <th>0</th>\n",
       "      <td>PS3</td>\n",
       "      <td>393.49</td>\n",
       "    </tr>\n",
       "    <tr>\n",
       "      <th>1</th>\n",
       "      <td>PS4</td>\n",
       "      <td>108.74</td>\n",
       "    </tr>\n",
       "    <tr>\n",
       "      <th>2</th>\n",
       "      <td>XOne</td>\n",
       "      <td>93.12</td>\n",
       "    </tr>\n",
       "    <tr>\n",
       "      <th>3</th>\n",
       "      <td>3DS</td>\n",
       "      <td>83.49</td>\n",
       "    </tr>\n",
       "    <tr>\n",
       "      <th>4</th>\n",
       "      <td>WiiU</td>\n",
       "      <td>38.10</td>\n",
       "    </tr>\n",
       "  </tbody>\n",
       "</table>\n",
       "</div>"
      ],
      "text/plain": [
       "  platform  na_sales\n",
       "0      PS3    393.49\n",
       "1      PS4    108.74\n",
       "2     XOne     93.12\n",
       "3      3DS     83.49\n",
       "4     WiiU     38.10"
      ]
     },
     "metadata": {},
     "output_type": "display_data"
    },
    {
     "name": "stdout",
     "output_type": "stream",
     "text": [
      "\n",
      "\n"
     ]
    },
    {
     "data": {
      "text/html": [
       "<div>\n",
       "<style scoped>\n",
       "    .dataframe tbody tr th:only-of-type {\n",
       "        vertical-align: middle;\n",
       "    }\n",
       "\n",
       "    .dataframe tbody tr th {\n",
       "        vertical-align: top;\n",
       "    }\n",
       "\n",
       "    .dataframe thead th {\n",
       "        text-align: right;\n",
       "    }\n",
       "</style>\n",
       "<table border=\"1\" class=\"dataframe\">\n",
       "  <thead>\n",
       "    <tr style=\"text-align: right;\">\n",
       "      <th></th>\n",
       "      <th>platform</th>\n",
       "      <th>eu_sales</th>\n",
       "    </tr>\n",
       "  </thead>\n",
       "  <tbody>\n",
       "    <tr>\n",
       "      <th>0</th>\n",
       "      <td>PS3</td>\n",
       "      <td>330.29</td>\n",
       "    </tr>\n",
       "    <tr>\n",
       "      <th>1</th>\n",
       "      <td>PS4</td>\n",
       "      <td>141.09</td>\n",
       "    </tr>\n",
       "    <tr>\n",
       "      <th>2</th>\n",
       "      <td>3DS</td>\n",
       "      <td>61.48</td>\n",
       "    </tr>\n",
       "    <tr>\n",
       "      <th>3</th>\n",
       "      <td>XOne</td>\n",
       "      <td>51.59</td>\n",
       "    </tr>\n",
       "    <tr>\n",
       "      <th>4</th>\n",
       "      <td>WiiU</td>\n",
       "      <td>25.13</td>\n",
       "    </tr>\n",
       "  </tbody>\n",
       "</table>\n",
       "</div>"
      ],
      "text/plain": [
       "  platform  eu_sales\n",
       "0      PS3    330.29\n",
       "1      PS4    141.09\n",
       "2      3DS     61.48\n",
       "3     XOne     51.59\n",
       "4     WiiU     25.13"
      ]
     },
     "metadata": {},
     "output_type": "display_data"
    },
    {
     "name": "stdout",
     "output_type": "stream",
     "text": [
      "\n",
      "\n"
     ]
    },
    {
     "data": {
      "text/html": [
       "<div>\n",
       "<style scoped>\n",
       "    .dataframe tbody tr th:only-of-type {\n",
       "        vertical-align: middle;\n",
       "    }\n",
       "\n",
       "    .dataframe tbody tr th {\n",
       "        vertical-align: top;\n",
       "    }\n",
       "\n",
       "    .dataframe thead th {\n",
       "        text-align: right;\n",
       "    }\n",
       "</style>\n",
       "<table border=\"1\" class=\"dataframe\">\n",
       "  <thead>\n",
       "    <tr style=\"text-align: right;\">\n",
       "      <th></th>\n",
       "      <th>platform</th>\n",
       "      <th>jp_sales</th>\n",
       "    </tr>\n",
       "  </thead>\n",
       "  <tbody>\n",
       "    <tr>\n",
       "      <th>0</th>\n",
       "      <td>3DS</td>\n",
       "      <td>100.67</td>\n",
       "    </tr>\n",
       "    <tr>\n",
       "      <th>1</th>\n",
       "      <td>PS3</td>\n",
       "      <td>80.19</td>\n",
       "    </tr>\n",
       "    <tr>\n",
       "      <th>2</th>\n",
       "      <td>PS4</td>\n",
       "      <td>15.96</td>\n",
       "    </tr>\n",
       "    <tr>\n",
       "      <th>3</th>\n",
       "      <td>WiiU</td>\n",
       "      <td>13.01</td>\n",
       "    </tr>\n",
       "    <tr>\n",
       "      <th>4</th>\n",
       "      <td>XOne</td>\n",
       "      <td>0.34</td>\n",
       "    </tr>\n",
       "  </tbody>\n",
       "</table>\n",
       "</div>"
      ],
      "text/plain": [
       "  platform  jp_sales\n",
       "0      3DS    100.67\n",
       "1      PS3     80.19\n",
       "2      PS4     15.96\n",
       "3     WiiU     13.01\n",
       "4     XOne      0.34"
      ]
     },
     "metadata": {},
     "output_type": "display_data"
    },
    {
     "name": "stdout",
     "output_type": "stream",
     "text": [
      "\n",
      "\n"
     ]
    },
    {
     "data": {
      "text/html": [
       "<div>\n",
       "<style scoped>\n",
       "    .dataframe tbody tr th:only-of-type {\n",
       "        vertical-align: middle;\n",
       "    }\n",
       "\n",
       "    .dataframe tbody tr th {\n",
       "        vertical-align: top;\n",
       "    }\n",
       "\n",
       "    .dataframe thead th {\n",
       "        text-align: right;\n",
       "    }\n",
       "</style>\n",
       "<table border=\"1\" class=\"dataframe\">\n",
       "  <thead>\n",
       "    <tr style=\"text-align: right;\">\n",
       "      <th></th>\n",
       "      <th>platform</th>\n",
       "      <th>other_sales</th>\n",
       "    </tr>\n",
       "  </thead>\n",
       "  <tbody>\n",
       "    <tr>\n",
       "      <th>0</th>\n",
       "      <td>PS3</td>\n",
       "      <td>135.68</td>\n",
       "    </tr>\n",
       "    <tr>\n",
       "      <th>1</th>\n",
       "      <td>PS4</td>\n",
       "      <td>48.35</td>\n",
       "    </tr>\n",
       "    <tr>\n",
       "      <th>2</th>\n",
       "      <td>XOne</td>\n",
       "      <td>14.27</td>\n",
       "    </tr>\n",
       "    <tr>\n",
       "      <th>3</th>\n",
       "      <td>3DS</td>\n",
       "      <td>13.36</td>\n",
       "    </tr>\n",
       "    <tr>\n",
       "      <th>4</th>\n",
       "      <td>WiiU</td>\n",
       "      <td>5.95</td>\n",
       "    </tr>\n",
       "  </tbody>\n",
       "</table>\n",
       "</div>"
      ],
      "text/plain": [
       "  platform  other_sales\n",
       "0      PS3       135.68\n",
       "1      PS4        48.35\n",
       "2     XOne        14.27\n",
       "3      3DS        13.36\n",
       "4     WiiU         5.95"
      ]
     },
     "metadata": {},
     "output_type": "display_data"
    },
    {
     "name": "stdout",
     "output_type": "stream",
     "text": [
      "\n",
      "\n"
     ]
    },
    {
     "data": {
      "image/png": "[encoded data removed]",
      "text/plain": [
       "<Figure size 1080x504 with 4 Axes>"
      ]
     },
     "metadata": {
      "needs_background": "light"
     },
     "output_type": "display_data"
    }
   ],
   "source": [
    "top5('platform')"
   ]
  },
  {
   "cell_type": "markdown",
   "metadata": {},
   "source": [
    "В основном самой популярной платформой является PS3, для большинства регионов, кроме Японии, в Японии первое место по популярности занимает более старая платформа 3DS, в то время как для других стран она почти не актуальна "
   ]
  },
  {
   "cell_type": "markdown",
   "metadata": {},
   "source": [
    "**Самые популярные жанры (топ-5)**"
   ]
  },
  {
   "cell_type": "code",
   "execution_count": 137,
   "metadata": {},
   "outputs": [
    {
     "data": {
      "text/html": [
       "<div>\n",
       "<style scoped>\n",
       "    .dataframe tbody tr th:only-of-type {\n",
       "        vertical-align: middle;\n",
       "    }\n",
       "\n",
       "    .dataframe tbody tr th {\n",
       "        vertical-align: top;\n",
       "    }\n",
       "\n",
       "    .dataframe thead th {\n",
       "        text-align: right;\n",
       "    }\n",
       "</style>\n",
       "<table border=\"1\" class=\"dataframe\">\n",
       "  <thead>\n",
       "    <tr style=\"text-align: right;\">\n",
       "      <th></th>\n",
       "      <th>genre</th>\n",
       "      <th>na_sales</th>\n",
       "    </tr>\n",
       "  </thead>\n",
       "  <tbody>\n",
       "    <tr>\n",
       "      <th>0</th>\n",
       "      <td>Action</td>\n",
       "      <td>205.16</td>\n",
       "    </tr>\n",
       "    <tr>\n",
       "      <th>1</th>\n",
       "      <td>Shooter</td>\n",
       "      <td>154.55</td>\n",
       "    </tr>\n",
       "    <tr>\n",
       "      <th>2</th>\n",
       "      <td>Sports</td>\n",
       "      <td>99.44</td>\n",
       "    </tr>\n",
       "    <tr>\n",
       "      <th>3</th>\n",
       "      <td>Role-Playing</td>\n",
       "      <td>70.24</td>\n",
       "    </tr>\n",
       "    <tr>\n",
       "      <th>4</th>\n",
       "      <td>Racing</td>\n",
       "      <td>40.68</td>\n",
       "    </tr>\n",
       "  </tbody>\n",
       "</table>\n",
       "</div>"
      ],
      "text/plain": [
       "          genre  na_sales\n",
       "0        Action    205.16\n",
       "1       Shooter    154.55\n",
       "2        Sports     99.44\n",
       "3  Role-Playing     70.24\n",
       "4        Racing     40.68"
      ]
     },
     "metadata": {},
     "output_type": "display_data"
    },
    {
     "name": "stdout",
     "output_type": "stream",
     "text": [
      "\n",
      "\n"
     ]
    },
    {
     "data": {
      "text/html": [
       "<div>\n",
       "<style scoped>\n",
       "    .dataframe tbody tr th:only-of-type {\n",
       "        vertical-align: middle;\n",
       "    }\n",
       "\n",
       "    .dataframe tbody tr th {\n",
       "        vertical-align: top;\n",
       "    }\n",
       "\n",
       "    .dataframe thead th {\n",
       "        text-align: right;\n",
       "    }\n",
       "</style>\n",
       "<table border=\"1\" class=\"dataframe\">\n",
       "  <thead>\n",
       "    <tr style=\"text-align: right;\">\n",
       "      <th></th>\n",
       "      <th>genre</th>\n",
       "      <th>eu_sales</th>\n",
       "    </tr>\n",
       "  </thead>\n",
       "  <tbody>\n",
       "    <tr>\n",
       "      <th>0</th>\n",
       "      <td>Action</td>\n",
       "      <td>180.83</td>\n",
       "    </tr>\n",
       "    <tr>\n",
       "      <th>1</th>\n",
       "      <td>Shooter</td>\n",
       "      <td>131.70</td>\n",
       "    </tr>\n",
       "    <tr>\n",
       "      <th>2</th>\n",
       "      <td>Sports</td>\n",
       "      <td>84.44</td>\n",
       "    </tr>\n",
       "    <tr>\n",
       "      <th>3</th>\n",
       "      <td>Racing</td>\n",
       "      <td>52.12</td>\n",
       "    </tr>\n",
       "    <tr>\n",
       "      <th>4</th>\n",
       "      <td>Role-Playing</td>\n",
       "      <td>49.51</td>\n",
       "    </tr>\n",
       "  </tbody>\n",
       "</table>\n",
       "</div>"
      ],
      "text/plain": [
       "          genre  eu_sales\n",
       "0        Action    180.83\n",
       "1       Shooter    131.70\n",
       "2        Sports     84.44\n",
       "3        Racing     52.12\n",
       "4  Role-Playing     49.51"
      ]
     },
     "metadata": {},
     "output_type": "display_data"
    },
    {
     "name": "stdout",
     "output_type": "stream",
     "text": [
      "\n",
      "\n"
     ]
    },
    {
     "data": {
      "text/html": [
       "<div>\n",
       "<style scoped>\n",
       "    .dataframe tbody tr th:only-of-type {\n",
       "        vertical-align: middle;\n",
       "    }\n",
       "\n",
       "    .dataframe tbody tr th {\n",
       "        vertical-align: top;\n",
       "    }\n",
       "\n",
       "    .dataframe thead th {\n",
       "        text-align: right;\n",
       "    }\n",
       "</style>\n",
       "<table border=\"1\" class=\"dataframe\">\n",
       "  <thead>\n",
       "    <tr style=\"text-align: right;\">\n",
       "      <th></th>\n",
       "      <th>genre</th>\n",
       "      <th>jp_sales</th>\n",
       "    </tr>\n",
       "  </thead>\n",
       "  <tbody>\n",
       "    <tr>\n",
       "      <th>0</th>\n",
       "      <td>Role-Playing</td>\n",
       "      <td>63.29</td>\n",
       "    </tr>\n",
       "    <tr>\n",
       "      <th>1</th>\n",
       "      <td>Action</td>\n",
       "      <td>59.35</td>\n",
       "    </tr>\n",
       "    <tr>\n",
       "      <th>2</th>\n",
       "      <td>Shooter</td>\n",
       "      <td>13.52</td>\n",
       "    </tr>\n",
       "    <tr>\n",
       "      <th>3</th>\n",
       "      <td>Simulation</td>\n",
       "      <td>11.84</td>\n",
       "    </tr>\n",
       "    <tr>\n",
       "      <th>4</th>\n",
       "      <td>Fighting</td>\n",
       "      <td>11.55</td>\n",
       "    </tr>\n",
       "  </tbody>\n",
       "</table>\n",
       "</div>"
      ],
      "text/plain": [
       "          genre  jp_sales\n",
       "0  Role-Playing     63.29\n",
       "1        Action     59.35\n",
       "2       Shooter     13.52\n",
       "3    Simulation     11.84\n",
       "4      Fighting     11.55"
      ]
     },
     "metadata": {},
     "output_type": "display_data"
    },
    {
     "name": "stdout",
     "output_type": "stream",
     "text": [
      "\n",
      "\n"
     ]
    },
    {
     "data": {
      "text/html": [
       "<div>\n",
       "<style scoped>\n",
       "    .dataframe tbody tr th:only-of-type {\n",
       "        vertical-align: middle;\n",
       "    }\n",
       "\n",
       "    .dataframe tbody tr th {\n",
       "        vertical-align: top;\n",
       "    }\n",
       "\n",
       "    .dataframe thead th {\n",
       "        text-align: right;\n",
       "    }\n",
       "</style>\n",
       "<table border=\"1\" class=\"dataframe\">\n",
       "  <thead>\n",
       "    <tr style=\"text-align: right;\">\n",
       "      <th></th>\n",
       "      <th>genre</th>\n",
       "      <th>other_sales</th>\n",
       "    </tr>\n",
       "  </thead>\n",
       "  <tbody>\n",
       "    <tr>\n",
       "      <th>0</th>\n",
       "      <td>Action</td>\n",
       "      <td>66.97</td>\n",
       "    </tr>\n",
       "    <tr>\n",
       "      <th>1</th>\n",
       "      <td>Shooter</td>\n",
       "      <td>48.96</td>\n",
       "    </tr>\n",
       "    <tr>\n",
       "      <th>2</th>\n",
       "      <td>Sports</td>\n",
       "      <td>30.11</td>\n",
       "    </tr>\n",
       "    <tr>\n",
       "      <th>3</th>\n",
       "      <td>Role-Playing</td>\n",
       "      <td>17.33</td>\n",
       "    </tr>\n",
       "    <tr>\n",
       "      <th>4</th>\n",
       "      <td>Racing</td>\n",
       "      <td>16.52</td>\n",
       "    </tr>\n",
       "  </tbody>\n",
       "</table>\n",
       "</div>"
      ],
      "text/plain": [
       "          genre  other_sales\n",
       "0        Action        66.97\n",
       "1       Shooter        48.96\n",
       "2        Sports        30.11\n",
       "3  Role-Playing        17.33\n",
       "4        Racing        16.52"
      ]
     },
     "metadata": {},
     "output_type": "display_data"
    },
    {
     "name": "stdout",
     "output_type": "stream",
     "text": [
      "\n",
      "\n"
     ]
    },
    {
     "data": {
      "image/png": "[encoded data removed]",
      "text/plain": [
       "<Figure size 1080x504 with 4 Axes>"
      ]
     },
     "metadata": {
      "needs_background": "light"
     },
     "output_type": "display_data"
    }
   ],
   "source": [
    "top5('genre')"
   ]
  },
  {
   "cell_type": "markdown",
   "metadata": {},
   "source": [
    "Самым популярным жанорм является Action, для большинства регионов, но снова отличилась Япония, там первое место по популярности занимает жанр Role-Playing, a Action занимает второе место. На втором месте по популярности, в большинстве регионов, жанр Shooter, тогда как в Японии он занимает последнее место среди Топ-5 популярных жанров."
   ]
  },
  {
   "cell_type": "markdown",
   "metadata": {},
   "source": [
    "#### Влияет ли рейтинг ESRB на продажи в отдельном регионе?"
   ]
  },
  {
   "cell_type": "code",
   "execution_count": 138,
   "metadata": {},
   "outputs": [
    {
     "data": {
      "text/plain": [
       "rating\n",
       "M            251.81\n",
       "E            152.41\n",
       "T            134.75\n",
       "No rating    101.50\n",
       "E10+          76.47\n",
       "Name: na_sales, dtype: float64"
      ]
     },
     "execution_count": 138,
     "metadata": {},
     "output_type": "execute_result"
    }
   ],
   "source": [
    "#рейтинг игр в NA\n",
    "rating_na = data_2017.groupby('rating')['na_sales'].sum().sort_values(ascending=False)\n",
    "rating_na"
   ]
  },
  {
   "cell_type": "code",
   "execution_count": 139,
   "metadata": {},
   "outputs": [
    {
     "data": {
      "text/plain": [
       "rating\n",
       "M            220.26\n",
       "E            137.31\n",
       "No rating    100.55\n",
       "T             97.84\n",
       "E10+          53.62\n",
       "Name: eu_sales, dtype: float64"
      ]
     },
     "execution_count": 139,
     "metadata": {},
     "output_type": "execute_result"
    }
   ],
   "source": [
    "#рейтинг игр в EU\n",
    "rating_eu = data_2017.groupby('rating')['eu_sales'].sum().sort_values(ascending=False)\n",
    "rating_eu"
   ]
  },
  {
   "cell_type": "code",
   "execution_count": 140,
   "metadata": {},
   "outputs": [
    {
     "data": {
      "text/plain": [
       "rating\n",
       "No rating    95.74\n",
       "E            37.39\n",
       "T            35.97\n",
       "M            32.10\n",
       "E10+          8.97\n",
       "Name: jp_sales, dtype: float64"
      ]
     },
     "execution_count": 140,
     "metadata": {},
     "output_type": "execute_result"
    }
   ],
   "source": [
    "#рейтинг игр в JP\n",
    "rating_jp = data_2017.groupby('rating')['jp_sales'].sum().sort_values(ascending=False)\n",
    "rating_jp"
   ]
  },
  {
   "cell_type": "markdown",
   "metadata": {},
   "source": [
    "Топ рейтинга в NA:\n",
    "* M («Mature») — «Для взрослых»\n",
    "* E («Everyone») — «Для всех»\n",
    "* T («Teen») — «Подросткам»\n",
    "\n",
    "Топ рейтинга в EU:\n",
    "* M («Mature») — «Для взрослых»\n",
    "* E («Everyone») — «Для всех»\n",
    "* No rating \n",
    "\n",
    "Топ рейтинга в JP:\n",
    "* No rating \n",
    "* E («Everyone») — «Для всех»\n",
    "* M («Mature») — «Для взрослых»\n",
    "\n",
    "E» («Everyone») — «Для всех», «T» («Teen») — «Подросткам»: Игра подходит для лиц от 13 лет, «M» («Mature») — «Для взрослых»: Материалы игры не подходят для подростков младше 17 лет. Рейтинг на продажи в отдельном регионе не влияет, т.к они практически одинаковы. На всёх 3 рынках доминируют игры с рейтингом М."
   ]
  },
  {
   "cell_type": "markdown",
   "metadata": {},
   "source": [
    "Выводы:\n",
    "\n",
    "Японский рынок выглядит обособленым от остальных. Европейский и американский во многом схожи. Стоит отметить что  WiiU была нацелена именно на американский рынок, учитывая то, что в других странах она не получила популярность. \n",
    "\n",
    "- Самой популярной линейкой-платформ в NA является - XOne, в EU является - 4PC,  в JP является - Nintendo 3DS\n",
    "\n",
    "Рейтинг по жанрам:\n",
    "- в  NA является - Action\n",
    "- в Европе - Action\n",
    "- в Японии - Role-Playing\n",
    "\n",
    "Популярным жанром будет Action, даже у Японских геймеров он занимает вторую сточку \n",
    "\n",
    "ESRB рейтинг оказывает небольшое влияние на продажи в Северной Америке, Европе и других странах, но в Японии - нет.\n",
    "\n",
    "Рынок Японии может отличаться тем, что Nintendo не является стационарной игровой приставкой. Т.е выбирая XOne и  4PC покупатель тратит свое свободное время дома. У Японцев, видимо это не принято (из-за отсутствия свободного времени или наличия места свободного дома)и они берут приставку в дорогу "
   ]
  },
  {
   "cell_type": "markdown",
   "metadata": {},
   "source": [
    "### 5. Проверка гипотез"
   ]
  },
  {
   "cell_type": "markdown",
   "metadata": {},
   "source": [
    "#### Гипотеза № 1: Средние пользовательские рейтинги платформ Xbox One и PC одинаковые"
   ]
  },
  {
   "cell_type": "markdown",
   "metadata": {},
   "source": [
    "#### Для проверки гипотезы \"средние пользовательские рейтинги платформ Xbox One и PC одинаковые\" в качестве нулевой и альтернативной гипотезы мы взяли следующее:\n",
    "\n",
    "H_0: Средние пользовательские рейтинги платформ Xbox One = Средние пользовательские рейтинги платформ PC \n",
    "\n",
    "H_a: Средние пользовательские рейтинги платформ Xbox One ≠ Средние пользовательские рейтинги платформ PC \n",
    "\n",
    "alpha = 0.05"
   ]
  },
  {
   "cell_type": "markdown",
   "metadata": {},
   "source": [
    "Генеральные совокупности не зависят друг от друга. Выборочные средние нормально распределены. Для проверки гипотезы подойдет t-тест."
   ]
  },
  {
   "cell_type": "code",
   "execution_count": 141,
   "metadata": {},
   "outputs": [
    {
     "name": "stdout",
     "output_type": "stream",
     "text": [
      "0.2946308864003345\n",
      "Не получилось отвергнуть нулевую гипотезу\n"
     ]
    }
   ],
   "source": [
    "data = data[data['user_score'] != 0]\n",
    "data_xbox = data[(data['platform'] == 'XOne')& (data['year_of_release']>=2015)]\n",
    "data_pc = data[(data['platform'] == 'PC') & (data['year_of_release']>=2015)]\n",
    "\n",
    "results =st.ttest_ind(data_xbox['user_score'], data_pc['user_score'], equal_var = False)\n",
    "\n",
    "alpha = 0.05\n",
    "\n",
    "print(results.pvalue)\n",
    "# вывод значения p-value на экран \n",
    "if results.pvalue < alpha:\n",
    "    print(\"Отвергаем нулевую гипотезу\")\n",
    "else:\n",
    "    print(\"Не получилось отвергнуть нулевую гипотезу\") \n",
    "# условный оператор с выводом строки с ответом"
   ]
  },
  {
   "cell_type": "markdown",
   "metadata": {},
   "source": [
    "#### Гипотеза № 2: Средние пользовательские рейтинги жанров Action и Sports разные"
   ]
  },
  {
   "cell_type": "markdown",
   "metadata": {},
   "source": [
    "Для проверки гипотезы \"Средние пользовательские рейтинги жанров Action и Sports разные.\" в качестве нулевой и альтернативной гипотезы мы взяли следующее:\n",
    "\n",
    "H_0: Средние пользовательский рейтинг жанра Action  = Средние пользовательский рейтинги жанра Sports\n",
    "\n",
    "H_a: Средние пользовательский рейтинг жанра Action ≠ Средние пользовательский рейтинг жанра Sports\n",
    "\n",
    "alpha = 0.05"
   ]
  },
  {
   "cell_type": "code",
   "execution_count": 142,
   "metadata": {},
   "outputs": [
    {
     "name": "stdout",
     "output_type": "stream",
     "text": [
      "5.97163549920592e-10\n",
      "Отвергаем нулевую гипотезу\n"
     ]
    }
   ],
   "source": [
    "data_action = data[(data['genre'] == 'Action') & (data['year_of_release']>=2015)]\n",
    "data_sports = data[(data['genre'] == 'Sports') & (data['year_of_release']>=2015)]\n",
    "\n",
    "results =st.ttest_ind(data_action['user_score'], data_sports['user_score'], equal_var = False)\n",
    "\n",
    "alpha = 0.05\n",
    "\n",
    "print(results.pvalue)\n",
    "# вывод значения p-value на экран \n",
    "if results.pvalue < alpha:\n",
    "    print(\"Отвергаем нулевую гипотезу\")\n",
    "else:\n",
    "    print(\"Не получилось отвергнуть нулевую гипотезу\") \n",
    "# условный оператор с выводом строки с ответом"
   ]
  },
  {
   "cell_type": "markdown",
   "metadata": {},
   "source": [
    "В первой гипотезе:\n",
    "* Результат говорит о том, что не получилось отвергнуть нулевую гипотезу . p-значение -0.2946308864003345\n",
    "\n",
    "Во второй гипотезе:\n",
    "* Результат говорит о том, что нулевая гипотеза отвергается. p-значение -5.97163549920592e-10\n",
    "\n"
   ]
  },
  {
   "cell_type": "markdown",
   "metadata": {},
   "source": [
    "###  6. Общий вывод"
   ]
  },
  {
   "cell_type": "markdown",
   "metadata": {},
   "source": [
    "- В ходе проведенного анализа выявлено, что количество игр на игровые приставки и компьютеры начало расти с большой скоростью с 94 до 2009 года. \n",
    "- Платформы с наибольшими суммарными продажами за весь период являются PS2, X360, PS3, Wii. Также мы выявили, что средняя продолжительность жизни игровой приставки составляет порядка 10 лет. В среднем каждая консоль достигает своего пика за 5 лет.\n",
    "- PlayStation 2 в общем графике имеет два пика популярности, связано это с играми, выходящими на данной консоли. Так же стоит отметить, что PS и дальше лидирует по показателям\n",
    "- У PS2, X360, Wii, DS наблюдается связь между оценками критиков и продажами. А связь между оценками пользователей и продажами слабая у всех платформ, либо её совсем нет. Только у Wii корреляция между отзывами пользователей и продажами приближена к отзывам критиков. Поэтому общий вывод остаётся прежним, что покупатели прислушиваются больше к критикам, нежели к оценкам других пользователей.\n",
    "- Среди самых прибыльных жанров лидируют Action, Sports, Shooter. Игры с низкими продажами являются Strategy, которые направлены на развитие стратегического мышления.\n",
    "- Были составлены портреты пользователей каждого региона.\n",
    "- Выяснили, что в NA самые популярные жанры это action, sports, shooter. Игровые приставки: XOne, 3DS и WIIU. А по рейтингу игр люди предпочитают игры с рейтингами: \"для всех\", \"от 13 и выше\" и \"от 17 и выше\".\n",
    "- В EU лидирует только PlayStation, популярные жанры это action, sports, shooter как и в NA. Но приставки по предпочитают по следующей очередности: PS4, PS3. Рейтинг игр отличается лишь вторым местом, на втором месте у них от 17 и выше, а на третьем 13 и выше.\n",
    "- В JP люди предпочитают игровые приставки: Nintendo. А жанры игры: Role-playing, action и sports. Рейтинг игр аналогичный Северной Америке.\n",
    "\n",
    "Исходя из всех данных предполагаем, что лучше всего продавать игры для таких приставок как Sony Playstation 4 Жанр необходимо выбирать action и выбирать игры с рейтингом \"для всех\", тогда продажи будут значительно больше, чем если продавать другие игры.\n",
    "\n"
   ]
  },
  {
   "cell_type": "code",
   "execution_count": null,
   "metadata": {},
   "outputs": [],
   "source": []
  }
 ],
 "metadata": {
  "ExecuteTimeLog": [
   {
    "duration": 842,
    "start_time": "2022-08-22T10:12:43.683Z"
   },
   {
    "duration": 115,
    "start_time": "2022-08-22T10:12:45.171Z"
   },
   {
    "duration": 184,
    "start_time": "2022-08-22T10:12:50.790Z"
   },
   {
    "duration": 64,
    "start_time": "2022-08-22T11:34:35.794Z"
   },
   {
    "duration": 4,
    "start_time": "2022-08-22T11:40:39.083Z"
   },
   {
    "duration": 22,
    "start_time": "2022-08-22T11:40:50.304Z"
   },
   {
    "duration": 24,
    "start_time": "2022-08-22T11:43:36.724Z"
   },
   {
    "duration": 22,
    "start_time": "2022-08-22T11:46:17.896Z"
   },
   {
    "duration": 13,
    "start_time": "2022-08-22T11:46:38.350Z"
   },
   {
    "duration": 13,
    "start_time": "2022-08-22T11:47:19.430Z"
   },
   {
    "duration": 10,
    "start_time": "2022-08-22T11:49:17.629Z"
   },
   {
    "duration": 10,
    "start_time": "2022-08-22T11:50:31.129Z"
   },
   {
    "duration": 5,
    "start_time": "2022-08-22T11:56:16.948Z"
   },
   {
    "duration": 20,
    "start_time": "2022-08-22T11:57:00.809Z"
   },
   {
    "duration": 482,
    "start_time": "2022-08-22T12:00:43.230Z"
   },
   {
    "duration": 6,
    "start_time": "2022-08-22T12:02:24.944Z"
   },
   {
    "duration": 5,
    "start_time": "2022-08-22T12:02:59.162Z"
   },
   {
    "duration": 23,
    "start_time": "2022-08-22T12:03:52.459Z"
   },
   {
    "duration": 34,
    "start_time": "2022-08-22T12:04:17.635Z"
   },
   {
    "duration": 8,
    "start_time": "2022-08-22T12:05:15.017Z"
   },
   {
    "duration": 21,
    "start_time": "2022-08-22T12:05:17.194Z"
   },
   {
    "duration": 28,
    "start_time": "2022-08-22T12:07:53.074Z"
   },
   {
    "duration": 5,
    "start_time": "2022-08-22T12:08:12.324Z"
   },
   {
    "duration": 16,
    "start_time": "2022-08-22T12:08:14.498Z"
   },
   {
    "duration": 4,
    "start_time": "2022-08-22T12:08:17.698Z"
   },
   {
    "duration": 16,
    "start_time": "2022-08-22T12:08:18.531Z"
   },
   {
    "duration": 26,
    "start_time": "2022-08-22T12:08:26.526Z"
   },
   {
    "duration": 2478,
    "start_time": "2022-08-22T12:08:45.139Z"
   },
   {
    "duration": 4,
    "start_time": "2022-08-22T12:09:03.132Z"
   },
   {
    "duration": 1293,
    "start_time": "2022-08-22T12:09:48.260Z"
   },
   {
    "duration": 3,
    "start_time": "2022-08-22T12:09:53.129Z"
   },
   {
    "duration": 72,
    "start_time": "2022-08-22T12:09:53.979Z"
   },
   {
    "duration": 5,
    "start_time": "2022-08-22T12:09:56.017Z"
   },
   {
    "duration": 28,
    "start_time": "2022-08-22T12:09:56.788Z"
   },
   {
    "duration": 7,
    "start_time": "2022-08-22T12:10:00.707Z"
   },
   {
    "duration": 6,
    "start_time": "2022-08-22T12:10:03.835Z"
   },
   {
    "duration": 17,
    "start_time": "2022-08-22T12:10:05.588Z"
   },
   {
    "duration": 20,
    "start_time": "2022-08-22T12:10:13.629Z"
   },
   {
    "duration": 5,
    "start_time": "2022-08-22T12:10:22.756Z"
   },
   {
    "duration": 15,
    "start_time": "2022-08-22T12:10:23.803Z"
   },
   {
    "duration": 29,
    "start_time": "2022-08-22T12:10:27.900Z"
   },
   {
    "duration": 4,
    "start_time": "2022-08-22T12:10:33.939Z"
   },
   {
    "duration": 72,
    "start_time": "2022-08-22T12:10:34.572Z"
   },
   {
    "duration": 7,
    "start_time": "2022-08-22T12:10:36.675Z"
   },
   {
    "duration": 27,
    "start_time": "2022-08-22T12:10:37.292Z"
   },
   {
    "duration": 5,
    "start_time": "2022-08-22T12:10:41.044Z"
   },
   {
    "duration": 5,
    "start_time": "2022-08-22T12:10:44.220Z"
   },
   {
    "duration": 15,
    "start_time": "2022-08-22T12:10:45.052Z"
   },
   {
    "duration": 21,
    "start_time": "2022-08-22T12:10:58.252Z"
   },
   {
    "duration": 7,
    "start_time": "2022-08-22T12:11:11.150Z"
   },
   {
    "duration": 15,
    "start_time": "2022-08-22T12:11:12.211Z"
   },
   {
    "duration": 20,
    "start_time": "2022-08-22T12:11:13.164Z"
   },
   {
    "duration": 5,
    "start_time": "2022-08-22T12:11:31.437Z"
   },
   {
    "duration": 7,
    "start_time": "2022-08-22T12:14:03.607Z"
   },
   {
    "duration": 5,
    "start_time": "2022-08-22T12:14:05.900Z"
   },
   {
    "duration": 21,
    "start_time": "2022-08-22T12:14:06.853Z"
   },
   {
    "duration": 14,
    "start_time": "2022-08-22T12:20:37.558Z"
   },
   {
    "duration": 5,
    "start_time": "2022-08-22T13:00:39.897Z"
   },
   {
    "duration": 38,
    "start_time": "2022-08-22T13:00:52.034Z"
   },
   {
    "duration": 28,
    "start_time": "2022-08-22T13:01:37.768Z"
   },
   {
    "duration": 5,
    "start_time": "2022-08-22T13:02:00.153Z"
   },
   {
    "duration": 16,
    "start_time": "2022-08-22T13:02:01.359Z"
   },
   {
    "duration": 18,
    "start_time": "2022-08-22T13:03:32.858Z"
   },
   {
    "duration": 21,
    "start_time": "2022-08-22T13:03:44.096Z"
   },
   {
    "duration": 15,
    "start_time": "2022-08-22T13:03:46.089Z"
   },
   {
    "duration": 14,
    "start_time": "2022-08-22T13:03:50.816Z"
   },
   {
    "duration": 16,
    "start_time": "2022-08-22T13:04:15.731Z"
   },
   {
    "duration": 16,
    "start_time": "2022-08-22T13:05:18.425Z"
   },
   {
    "duration": 8,
    "start_time": "2022-08-22T13:05:35.129Z"
   },
   {
    "duration": 9,
    "start_time": "2022-08-22T13:06:37.265Z"
   },
   {
    "duration": 8,
    "start_time": "2022-08-22T13:08:05.214Z"
   },
   {
    "duration": 7,
    "start_time": "2022-08-22T13:10:58.118Z"
   },
   {
    "duration": 17,
    "start_time": "2022-08-22T13:11:23.538Z"
   },
   {
    "duration": 15,
    "start_time": "2022-08-22T13:11:32.878Z"
   },
   {
    "duration": 16,
    "start_time": "2022-08-22T13:11:42.813Z"
   },
   {
    "duration": 19,
    "start_time": "2022-08-22T13:13:28.357Z"
   },
   {
    "duration": 9,
    "start_time": "2022-08-22T13:15:25.626Z"
   },
   {
    "duration": 14,
    "start_time": "2022-08-22T13:16:04.882Z"
   },
   {
    "duration": 20,
    "start_time": "2022-08-22T13:17:38.618Z"
   },
   {
    "duration": 12,
    "start_time": "2022-08-22T13:18:19.027Z"
   },
   {
    "duration": 10,
    "start_time": "2022-08-22T13:18:40.354Z"
   },
   {
    "duration": 10,
    "start_time": "2022-08-22T13:18:57.746Z"
   },
   {
    "duration": 9,
    "start_time": "2022-08-22T13:19:18.100Z"
   },
   {
    "duration": 15,
    "start_time": "2022-08-22T13:19:26.013Z"
   },
   {
    "duration": 9,
    "start_time": "2022-08-22T13:19:27.987Z"
   },
   {
    "duration": 9,
    "start_time": "2022-08-22T13:19:46.956Z"
   },
   {
    "duration": 10,
    "start_time": "2022-08-22T13:19:51.388Z"
   },
   {
    "duration": 15,
    "start_time": "2022-08-22T13:19:59.459Z"
   },
   {
    "duration": 6,
    "start_time": "2022-08-22T13:20:12.275Z"
   },
   {
    "duration": 7,
    "start_time": "2022-08-22T13:20:21.036Z"
   },
   {
    "duration": 5,
    "start_time": "2022-08-22T13:20:21.612Z"
   },
   {
    "duration": 5,
    "start_time": "2022-08-22T13:20:22.227Z"
   },
   {
    "duration": 10,
    "start_time": "2022-08-22T13:21:04.621Z"
   },
   {
    "duration": 3,
    "start_time": "2022-08-22T13:21:50.092Z"
   },
   {
    "duration": 14,
    "start_time": "2022-08-22T13:22:17.349Z"
   },
   {
    "duration": 17,
    "start_time": "2022-08-22T13:22:34.399Z"
   },
   {
    "duration": 36,
    "start_time": "2022-08-22T13:23:00.398Z"
   },
   {
    "duration": 30,
    "start_time": "2022-08-22T13:23:05.797Z"
   },
   {
    "duration": 16,
    "start_time": "2022-08-22T13:23:51.188Z"
   },
   {
    "duration": 7,
    "start_time": "2022-08-22T13:23:57.652Z"
   },
   {
    "duration": 14,
    "start_time": "2022-08-22T13:24:32.014Z"
   },
   {
    "duration": 15,
    "start_time": "2022-08-22T13:24:39.652Z"
   },
   {
    "duration": 10,
    "start_time": "2022-08-22T13:26:32.820Z"
   },
   {
    "duration": 9,
    "start_time": "2022-08-22T13:26:44.893Z"
   },
   {
    "duration": 7,
    "start_time": "2022-08-22T13:26:54.917Z"
   },
   {
    "duration": 15,
    "start_time": "2022-08-22T13:27:34.957Z"
   },
   {
    "duration": 17,
    "start_time": "2022-08-22T13:27:58.919Z"
   },
   {
    "duration": 16,
    "start_time": "2022-08-22T13:28:26.998Z"
   },
   {
    "duration": 19,
    "start_time": "2022-08-22T13:28:40.589Z"
   },
   {
    "duration": 3,
    "start_time": "2022-08-22T13:29:34.149Z"
   },
   {
    "duration": 72,
    "start_time": "2022-08-22T13:29:36.044Z"
   },
   {
    "duration": 5,
    "start_time": "2022-08-22T13:29:39.246Z"
   },
   {
    "duration": 22,
    "start_time": "2022-08-22T13:29:40.118Z"
   },
   {
    "duration": 5,
    "start_time": "2022-08-22T13:29:48.364Z"
   },
   {
    "duration": 6,
    "start_time": "2022-08-22T13:29:49.445Z"
   },
   {
    "duration": 5,
    "start_time": "2022-08-22T13:29:50.151Z"
   },
   {
    "duration": 22,
    "start_time": "2022-08-22T13:29:53.653Z"
   },
   {
    "duration": 12,
    "start_time": "2022-08-22T13:30:27.053Z"
   },
   {
    "duration": 15,
    "start_time": "2022-08-22T13:30:33.654Z"
   },
   {
    "duration": 8,
    "start_time": "2022-08-22T13:30:49.461Z"
   },
   {
    "duration": 8,
    "start_time": "2022-08-22T13:31:22.255Z"
   },
   {
    "duration": 13,
    "start_time": "2022-08-22T13:31:25.541Z"
   },
   {
    "duration": 22,
    "start_time": "2022-08-22T13:31:48.552Z"
   },
   {
    "duration": 7,
    "start_time": "2022-08-22T13:32:14.589Z"
   },
   {
    "duration": 4,
    "start_time": "2022-08-22T13:33:06.838Z"
   },
   {
    "duration": 14,
    "start_time": "2022-08-22T13:33:07.914Z"
   },
   {
    "duration": 5,
    "start_time": "2022-08-22T13:45:09.314Z"
   },
   {
    "duration": 5,
    "start_time": "2022-08-22T13:45:42.136Z"
   },
   {
    "duration": 10,
    "start_time": "2022-08-22T14:16:54.851Z"
   },
   {
    "duration": 19,
    "start_time": "2022-08-22T14:22:58.114Z"
   },
   {
    "duration": 15,
    "start_time": "2022-08-22T14:30:12.034Z"
   },
   {
    "duration": 14,
    "start_time": "2022-08-22T14:35:40.115Z"
   },
   {
    "duration": 27,
    "start_time": "2022-08-22T14:37:09.605Z"
   },
   {
    "duration": 32,
    "start_time": "2022-08-22T14:37:51.392Z"
   },
   {
    "duration": 21,
    "start_time": "2022-08-22T14:44:12.754Z"
   },
   {
    "duration": 25,
    "start_time": "2022-08-22T14:44:26.357Z"
   },
   {
    "duration": 22,
    "start_time": "2022-08-22T14:44:42.798Z"
   },
   {
    "duration": 7,
    "start_time": "2022-08-22T14:45:37.785Z"
   },
   {
    "duration": 29,
    "start_time": "2022-08-22T14:45:39.845Z"
   },
   {
    "duration": 1517,
    "start_time": "2022-08-22T14:45:43.029Z"
   },
   {
    "duration": 7,
    "start_time": "2022-08-22T14:45:50.239Z"
   },
   {
    "duration": 11,
    "start_time": "2022-08-22T14:45:51.490Z"
   },
   {
    "duration": 4,
    "start_time": "2022-08-22T14:45:52.757Z"
   },
   {
    "duration": 6,
    "start_time": "2022-08-22T14:45:54.847Z"
   },
   {
    "duration": 11,
    "start_time": "2022-08-22T14:45:59.645Z"
   },
   {
    "duration": 19,
    "start_time": "2022-08-22T14:46:02.382Z"
   },
   {
    "duration": 830,
    "start_time": "2022-08-23T06:01:41.670Z"
   },
   {
    "duration": 123,
    "start_time": "2022-08-23T06:01:43.548Z"
   },
   {
    "duration": 18,
    "start_time": "2022-08-23T06:01:45.445Z"
   },
   {
    "duration": 6,
    "start_time": "2022-08-23T06:01:55.212Z"
   },
   {
    "duration": 24,
    "start_time": "2022-08-23T06:01:59.565Z"
   },
   {
    "duration": 6,
    "start_time": "2022-08-23T06:02:15.783Z"
   },
   {
    "duration": 8,
    "start_time": "2022-08-23T06:03:13.214Z"
   },
   {
    "duration": 5,
    "start_time": "2022-08-23T06:03:13.756Z"
   },
   {
    "duration": 7,
    "start_time": "2022-08-23T06:03:16.855Z"
   },
   {
    "duration": 6,
    "start_time": "2022-08-23T06:03:31.502Z"
   },
   {
    "duration": 8,
    "start_time": "2022-08-23T06:04:48.069Z"
   },
   {
    "duration": 4,
    "start_time": "2022-08-23T06:05:00.151Z"
   },
   {
    "duration": 13,
    "start_time": "2022-08-23T06:05:04.029Z"
   },
   {
    "duration": 5,
    "start_time": "2022-08-23T06:05:39.770Z"
   },
   {
    "duration": 18,
    "start_time": "2022-08-23T06:06:33.221Z"
   },
   {
    "duration": 23,
    "start_time": "2022-08-23T06:11:44.287Z"
   },
   {
    "duration": 22,
    "start_time": "2022-08-23T06:12:08.703Z"
   },
   {
    "duration": 8,
    "start_time": "2022-08-23T06:12:31.247Z"
   },
   {
    "duration": 7,
    "start_time": "2022-08-23T06:12:57.202Z"
   },
   {
    "duration": 8,
    "start_time": "2022-08-23T06:13:01.871Z"
   },
   {
    "duration": 8,
    "start_time": "2022-08-23T06:13:32.000Z"
   },
   {
    "duration": 9,
    "start_time": "2022-08-23T06:13:35.247Z"
   },
   {
    "duration": 1377,
    "start_time": "2022-08-23T06:14:10.447Z"
   },
   {
    "duration": 6,
    "start_time": "2022-08-23T06:14:15.447Z"
   },
   {
    "duration": 5,
    "start_time": "2022-08-23T06:14:16.975Z"
   },
   {
    "duration": 4,
    "start_time": "2022-08-23T06:14:18.130Z"
   },
   {
    "duration": 6,
    "start_time": "2022-08-23T06:14:20.719Z"
   },
   {
    "duration": 4,
    "start_time": "2022-08-23T06:14:23.935Z"
   },
   {
    "duration": 17,
    "start_time": "2022-08-23T06:14:25.816Z"
   },
   {
    "duration": 17,
    "start_time": "2022-08-23T06:14:58.439Z"
   },
   {
    "duration": 8,
    "start_time": "2022-08-23T06:15:12.408Z"
   },
   {
    "duration": 1008,
    "start_time": "2022-08-23T06:15:14.440Z"
   },
   {
    "duration": 6,
    "start_time": "2022-08-23T06:15:16.264Z"
   },
   {
    "duration": 4,
    "start_time": "2022-08-23T06:15:17.984Z"
   },
   {
    "duration": 3,
    "start_time": "2022-08-23T06:15:22.280Z"
   },
   {
    "duration": 59,
    "start_time": "2022-08-23T06:15:22.911Z"
   },
   {
    "duration": 14,
    "start_time": "2022-08-23T06:15:25.329Z"
   },
   {
    "duration": 5,
    "start_time": "2022-08-23T06:15:27.257Z"
   },
   {
    "duration": 7,
    "start_time": "2022-08-23T06:15:28.735Z"
   },
   {
    "duration": 5,
    "start_time": "2022-08-23T06:15:30.311Z"
   },
   {
    "duration": 6,
    "start_time": "2022-08-23T06:15:33.288Z"
   },
   {
    "duration": 4,
    "start_time": "2022-08-23T06:15:34.295Z"
   },
   {
    "duration": 7,
    "start_time": "2022-08-23T06:15:34.960Z"
   },
   {
    "duration": 5,
    "start_time": "2022-08-23T06:15:42.344Z"
   },
   {
    "duration": 5,
    "start_time": "2022-08-23T06:17:32.562Z"
   },
   {
    "duration": 9,
    "start_time": "2022-08-23T06:22:52.595Z"
   },
   {
    "duration": 1296,
    "start_time": "2022-08-23T06:23:45.680Z"
   },
   {
    "duration": 2,
    "start_time": "2022-08-23T06:23:52.921Z"
   },
   {
    "duration": 59,
    "start_time": "2022-08-23T06:23:53.280Z"
   },
   {
    "duration": 13,
    "start_time": "2022-08-23T06:23:53.658Z"
   },
   {
    "duration": 4,
    "start_time": "2022-08-23T06:24:07.523Z"
   },
   {
    "duration": 8,
    "start_time": "2022-08-23T06:24:08.625Z"
   },
   {
    "duration": 6,
    "start_time": "2022-08-23T06:24:11.442Z"
   },
   {
    "duration": 5,
    "start_time": "2022-08-23T06:26:36.540Z"
   },
   {
    "duration": 4,
    "start_time": "2022-08-23T06:26:37.330Z"
   },
   {
    "duration": 21,
    "start_time": "2022-08-23T06:26:41.882Z"
   },
   {
    "duration": 20,
    "start_time": "2022-08-23T06:27:20.682Z"
   },
   {
    "duration": 5,
    "start_time": "2022-08-23T06:27:25.396Z"
   },
   {
    "duration": 4,
    "start_time": "2022-08-23T06:27:26.107Z"
   },
   {
    "duration": 8,
    "start_time": "2022-08-23T06:27:29.222Z"
   },
   {
    "duration": 29,
    "start_time": "2022-08-23T06:27:31.306Z"
   },
   {
    "duration": 6,
    "start_time": "2022-08-23T06:30:04.523Z"
   },
   {
    "duration": 14,
    "start_time": "2022-08-23T06:31:31.492Z"
   },
   {
    "duration": 7,
    "start_time": "2022-08-23T06:36:07.095Z"
   },
   {
    "duration": 4,
    "start_time": "2022-08-23T06:36:07.573Z"
   },
   {
    "duration": 6,
    "start_time": "2022-08-23T06:36:09.422Z"
   },
   {
    "duration": 5,
    "start_time": "2022-08-23T06:36:10.029Z"
   },
   {
    "duration": 5,
    "start_time": "2022-08-23T06:36:11.522Z"
   },
   {
    "duration": 20,
    "start_time": "2022-08-23T06:36:12.921Z"
   },
   {
    "duration": 3,
    "start_time": "2022-08-23T06:46:22.355Z"
   },
   {
    "duration": 65,
    "start_time": "2022-08-23T06:46:22.945Z"
   },
   {
    "duration": 6,
    "start_time": "2022-08-23T06:51:02.524Z"
   },
   {
    "duration": 9,
    "start_time": "2022-08-23T06:51:04.321Z"
   },
   {
    "duration": 6,
    "start_time": "2022-08-23T06:51:05.820Z"
   },
   {
    "duration": 9,
    "start_time": "2022-08-23T06:51:06.395Z"
   },
   {
    "duration": 5,
    "start_time": "2022-08-23T06:51:07.115Z"
   },
   {
    "duration": 5,
    "start_time": "2022-08-23T06:51:09.058Z"
   },
   {
    "duration": 5,
    "start_time": "2022-08-23T06:51:09.995Z"
   },
   {
    "duration": 20,
    "start_time": "2022-08-23T06:52:19.147Z"
   },
   {
    "duration": 12,
    "start_time": "2022-08-23T06:55:10.778Z"
   },
   {
    "duration": 9,
    "start_time": "2022-08-23T06:56:19.477Z"
   },
   {
    "duration": 6,
    "start_time": "2022-08-23T07:00:09.445Z"
   },
   {
    "duration": 29,
    "start_time": "2022-08-23T07:00:10.863Z"
   },
   {
    "duration": 15,
    "start_time": "2022-08-23T07:00:15.181Z"
   },
   {
    "duration": 9,
    "start_time": "2022-08-23T07:40:41.650Z"
   },
   {
    "duration": 10,
    "start_time": "2022-08-23T07:42:53.095Z"
   },
   {
    "duration": 5,
    "start_time": "2022-08-23T07:56:18.061Z"
   },
   {
    "duration": 5,
    "start_time": "2022-08-23T07:57:01.662Z"
   },
   {
    "duration": 8,
    "start_time": "2022-08-23T07:58:22.805Z"
   },
   {
    "duration": 5,
    "start_time": "2022-08-23T07:58:43.451Z"
   },
   {
    "duration": 9,
    "start_time": "2022-08-23T07:59:04.180Z"
   },
   {
    "duration": 2872,
    "start_time": "2022-08-23T08:00:21.549Z"
   },
   {
    "duration": 10,
    "start_time": "2022-08-23T08:00:25.459Z"
   },
   {
    "duration": 4,
    "start_time": "2022-08-23T08:06:15.911Z"
   },
   {
    "duration": 5,
    "start_time": "2022-08-23T08:06:17.198Z"
   },
   {
    "duration": 5,
    "start_time": "2022-08-23T08:06:18.502Z"
   },
   {
    "duration": 4,
    "start_time": "2022-08-23T08:06:19.111Z"
   },
   {
    "duration": 13037,
    "start_time": "2022-08-23T08:06:20.335Z"
   },
   {
    "duration": 6,
    "start_time": "2022-08-23T08:06:55.750Z"
   },
   {
    "duration": 10,
    "start_time": "2022-08-23T08:06:58.645Z"
   },
   {
    "duration": 5,
    "start_time": "2022-08-23T08:07:37.741Z"
   },
   {
    "duration": 15,
    "start_time": "2022-08-23T08:07:38.255Z"
   },
   {
    "duration": 8,
    "start_time": "2022-08-23T08:08:01.262Z"
   },
   {
    "duration": 14,
    "start_time": "2022-08-23T08:26:46.994Z"
   },
   {
    "duration": 21,
    "start_time": "2022-08-23T08:27:05.363Z"
   },
   {
    "duration": 24,
    "start_time": "2022-08-23T08:27:40.060Z"
   },
   {
    "duration": 16,
    "start_time": "2022-08-23T08:29:33.730Z"
   },
   {
    "duration": 10,
    "start_time": "2022-08-23T08:30:11.589Z"
   },
   {
    "duration": 8,
    "start_time": "2022-08-23T08:30:46.251Z"
   },
   {
    "duration": 7,
    "start_time": "2022-08-23T08:40:15.411Z"
   },
   {
    "duration": 26,
    "start_time": "2022-08-23T08:44:10.509Z"
   },
   {
    "duration": 24,
    "start_time": "2022-08-23T08:45:09.632Z"
   },
   {
    "duration": 8,
    "start_time": "2022-08-23T08:55:27.791Z"
   },
   {
    "duration": 22,
    "start_time": "2022-08-23T09:16:51.252Z"
   },
   {
    "duration": 10,
    "start_time": "2022-08-23T09:19:59.979Z"
   },
   {
    "duration": 11,
    "start_time": "2022-08-23T09:20:09.292Z"
   },
   {
    "duration": 34,
    "start_time": "2022-08-23T09:20:14.686Z"
   },
   {
    "duration": 23,
    "start_time": "2022-08-23T09:21:02.459Z"
   },
   {
    "duration": 3,
    "start_time": "2022-08-23T09:27:57.486Z"
   },
   {
    "duration": 4,
    "start_time": "2022-08-23T09:28:06.079Z"
   },
   {
    "duration": 13,
    "start_time": "2022-08-23T09:28:35.430Z"
   },
   {
    "duration": 28,
    "start_time": "2022-08-23T09:30:48.666Z"
   },
   {
    "duration": 143,
    "start_time": "2022-08-23T09:34:05.288Z"
   },
   {
    "duration": 26,
    "start_time": "2022-08-23T09:36:37.625Z"
   },
   {
    "duration": 97,
    "start_time": "2022-08-23T09:40:35.454Z"
   },
   {
    "duration": 11,
    "start_time": "2022-08-23T09:41:03.984Z"
   },
   {
    "duration": 8,
    "start_time": "2022-08-23T09:41:36.472Z"
   },
   {
    "duration": 7,
    "start_time": "2022-08-23T09:41:43.577Z"
   },
   {
    "duration": 26,
    "start_time": "2022-08-23T09:42:50.921Z"
   },
   {
    "duration": 26,
    "start_time": "2022-08-23T09:43:45.741Z"
   },
   {
    "duration": 25,
    "start_time": "2022-08-23T09:45:05.786Z"
   },
   {
    "duration": 19,
    "start_time": "2022-08-23T11:26:54.228Z"
   },
   {
    "duration": 14,
    "start_time": "2022-08-23T11:27:50.013Z"
   },
   {
    "duration": 473,
    "start_time": "2022-08-23T11:28:23.911Z"
   },
   {
    "duration": 9,
    "start_time": "2022-08-23T11:28:36.438Z"
   },
   {
    "duration": 12,
    "start_time": "2022-08-23T11:28:48.730Z"
   },
   {
    "duration": 15,
    "start_time": "2022-08-23T11:30:11.183Z"
   },
   {
    "duration": 23,
    "start_time": "2022-08-23T11:30:25.367Z"
   },
   {
    "duration": 74,
    "start_time": "2022-08-23T11:31:32.480Z"
   },
   {
    "duration": 29,
    "start_time": "2022-08-23T11:32:11.035Z"
   },
   {
    "duration": 10,
    "start_time": "2022-08-23T11:34:17.737Z"
   },
   {
    "duration": 2,
    "start_time": "2022-08-23T11:34:30.614Z"
   },
   {
    "duration": 60,
    "start_time": "2022-08-23T11:34:31.184Z"
   },
   {
    "duration": 13,
    "start_time": "2022-08-23T11:34:31.809Z"
   },
   {
    "duration": 5,
    "start_time": "2022-08-23T11:34:33.518Z"
   },
   {
    "duration": 9,
    "start_time": "2022-08-23T11:34:33.855Z"
   },
   {
    "duration": 5,
    "start_time": "2022-08-23T11:34:34.383Z"
   },
   {
    "duration": 7,
    "start_time": "2022-08-23T11:34:34.559Z"
   },
   {
    "duration": 5,
    "start_time": "2022-08-23T11:34:34.728Z"
   },
   {
    "duration": 6,
    "start_time": "2022-08-23T11:34:35.079Z"
   },
   {
    "duration": 5,
    "start_time": "2022-08-23T11:34:35.440Z"
   },
   {
    "duration": 6,
    "start_time": "2022-08-23T11:34:35.614Z"
   },
   {
    "duration": 11,
    "start_time": "2022-08-23T11:34:35.982Z"
   },
   {
    "duration": 6,
    "start_time": "2022-08-23T11:34:36.526Z"
   },
   {
    "duration": 14,
    "start_time": "2022-08-23T11:34:36.689Z"
   },
   {
    "duration": 7,
    "start_time": "2022-08-23T11:34:39.375Z"
   },
   {
    "duration": 10,
    "start_time": "2022-08-23T11:34:41.305Z"
   },
   {
    "duration": 26,
    "start_time": "2022-08-23T11:34:42.863Z"
   },
   {
    "duration": 71,
    "start_time": "2022-08-23T11:34:47.583Z"
   },
   {
    "duration": 14,
    "start_time": "2022-08-23T11:35:28.369Z"
   },
   {
    "duration": 183,
    "start_time": "2022-08-23T11:35:42.060Z"
   },
   {
    "duration": 185,
    "start_time": "2022-08-23T11:36:55.961Z"
   },
   {
    "duration": 212,
    "start_time": "2022-08-23T11:37:10.113Z"
   },
   {
    "duration": 141,
    "start_time": "2022-08-23T11:37:24.472Z"
   },
   {
    "duration": 152,
    "start_time": "2022-08-23T11:37:39.129Z"
   },
   {
    "duration": 171,
    "start_time": "2022-08-23T11:38:32.849Z"
   },
   {
    "duration": 156,
    "start_time": "2022-08-23T11:38:47.123Z"
   },
   {
    "duration": 21,
    "start_time": "2022-08-23T11:38:56.014Z"
   },
   {
    "duration": 173,
    "start_time": "2022-08-23T11:39:07.213Z"
   },
   {
    "duration": 24,
    "start_time": "2022-08-23T11:39:08.216Z"
   },
   {
    "duration": 21,
    "start_time": "2022-08-23T12:05:36.125Z"
   },
   {
    "duration": 3,
    "start_time": "2022-08-23T12:05:46.453Z"
   },
   {
    "duration": 62,
    "start_time": "2022-08-23T12:05:46.871Z"
   },
   {
    "duration": 14,
    "start_time": "2022-08-23T12:05:47.271Z"
   },
   {
    "duration": 5,
    "start_time": "2022-08-23T12:05:48.822Z"
   },
   {
    "duration": 8,
    "start_time": "2022-08-23T12:05:49.172Z"
   },
   {
    "duration": 5,
    "start_time": "2022-08-23T12:05:49.701Z"
   },
   {
    "duration": 7,
    "start_time": "2022-08-23T12:05:49.909Z"
   },
   {
    "duration": 5,
    "start_time": "2022-08-23T12:05:50.060Z"
   },
   {
    "duration": 6,
    "start_time": "2022-08-23T12:05:50.436Z"
   },
   {
    "duration": 6,
    "start_time": "2022-08-23T12:05:50.772Z"
   },
   {
    "duration": 4,
    "start_time": "2022-08-23T12:05:51.124Z"
   },
   {
    "duration": 14,
    "start_time": "2022-08-23T12:05:51.460Z"
   },
   {
    "duration": 5,
    "start_time": "2022-08-23T12:05:52.028Z"
   },
   {
    "duration": 12,
    "start_time": "2022-08-23T12:05:52.191Z"
   },
   {
    "duration": 7,
    "start_time": "2022-08-23T12:05:54.030Z"
   },
   {
    "duration": 7,
    "start_time": "2022-08-23T12:05:55.684Z"
   },
   {
    "duration": 34,
    "start_time": "2022-08-23T12:05:56.711Z"
   },
   {
    "duration": 178,
    "start_time": "2022-08-23T12:06:00.925Z"
   },
   {
    "duration": 160,
    "start_time": "2022-08-23T12:08:15.630Z"
   },
   {
    "duration": 153,
    "start_time": "2022-08-23T12:08:34.879Z"
   },
   {
    "duration": 219,
    "start_time": "2022-08-23T12:08:55.018Z"
   },
   {
    "duration": 151,
    "start_time": "2022-08-23T12:09:04.575Z"
   },
   {
    "duration": 45,
    "start_time": "2022-08-23T12:09:10.224Z"
   },
   {
    "duration": 149,
    "start_time": "2022-08-23T12:09:13.477Z"
   },
   {
    "duration": 28,
    "start_time": "2022-08-23T12:09:21.533Z"
   },
   {
    "duration": 15,
    "start_time": "2022-08-23T12:09:23.974Z"
   },
   {
    "duration": 165,
    "start_time": "2022-08-23T12:09:47.870Z"
   },
   {
    "duration": 24,
    "start_time": "2022-08-23T12:10:30.551Z"
   },
   {
    "duration": 144,
    "start_time": "2022-08-23T12:10:33.124Z"
   },
   {
    "duration": 3,
    "start_time": "2022-08-23T12:11:51.821Z"
   },
   {
    "duration": 62,
    "start_time": "2022-08-23T12:11:52.724Z"
   },
   {
    "duration": 13,
    "start_time": "2022-08-23T12:11:53.462Z"
   },
   {
    "duration": 5,
    "start_time": "2022-08-23T12:11:55.557Z"
   },
   {
    "duration": 8,
    "start_time": "2022-08-23T12:11:56.253Z"
   },
   {
    "duration": 5,
    "start_time": "2022-08-23T12:11:56.772Z"
   },
   {
    "duration": 7,
    "start_time": "2022-08-23T12:11:56.943Z"
   },
   {
    "duration": 4,
    "start_time": "2022-08-23T12:11:57.109Z"
   },
   {
    "duration": 6,
    "start_time": "2022-08-23T12:11:57.470Z"
   },
   {
    "duration": 5,
    "start_time": "2022-08-23T12:11:57.804Z"
   },
   {
    "duration": 5,
    "start_time": "2022-08-23T12:11:57.964Z"
   },
   {
    "duration": 11,
    "start_time": "2022-08-23T12:11:58.332Z"
   },
   {
    "duration": 5,
    "start_time": "2022-08-23T12:11:58.908Z"
   },
   {
    "duration": 14,
    "start_time": "2022-08-23T12:11:59.085Z"
   },
   {
    "duration": 8,
    "start_time": "2022-08-23T12:12:01.258Z"
   },
   {
    "duration": 9,
    "start_time": "2022-08-23T12:12:02.646Z"
   },
   {
    "duration": 33,
    "start_time": "2022-08-23T12:12:04.207Z"
   },
   {
    "duration": 146,
    "start_time": "2022-08-23T12:12:12.589Z"
   },
   {
    "duration": 69,
    "start_time": "2022-08-23T12:13:35.647Z"
   },
   {
    "duration": 8,
    "start_time": "2022-08-23T12:14:19.231Z"
   },
   {
    "duration": 8,
    "start_time": "2022-08-23T12:14:21.023Z"
   },
   {
    "duration": 11,
    "start_time": "2022-08-23T12:14:25.319Z"
   },
   {
    "duration": 8,
    "start_time": "2022-08-23T12:14:33.982Z"
   },
   {
    "duration": 10,
    "start_time": "2022-08-23T12:14:52.958Z"
   },
   {
    "duration": 8,
    "start_time": "2022-08-23T12:15:02.009Z"
   },
   {
    "duration": 9,
    "start_time": "2022-08-23T12:15:16.350Z"
   },
   {
    "duration": 3,
    "start_time": "2022-08-23T12:15:24.774Z"
   },
   {
    "duration": 62,
    "start_time": "2022-08-23T12:15:24.958Z"
   },
   {
    "duration": 13,
    "start_time": "2022-08-23T12:15:25.143Z"
   },
   {
    "duration": 5,
    "start_time": "2022-08-23T12:15:26.046Z"
   },
   {
    "duration": 8,
    "start_time": "2022-08-23T12:15:26.464Z"
   },
   {
    "duration": 5,
    "start_time": "2022-08-23T12:15:26.927Z"
   },
   {
    "duration": 6,
    "start_time": "2022-08-23T12:15:27.110Z"
   },
   {
    "duration": 5,
    "start_time": "2022-08-23T12:15:27.288Z"
   },
   {
    "duration": 6,
    "start_time": "2022-08-23T12:15:27.694Z"
   },
   {
    "duration": 5,
    "start_time": "2022-08-23T12:15:28.021Z"
   },
   {
    "duration": 4,
    "start_time": "2022-08-23T12:15:28.183Z"
   },
   {
    "duration": 10,
    "start_time": "2022-08-23T12:15:28.572Z"
   },
   {
    "duration": 5,
    "start_time": "2022-08-23T12:15:29.112Z"
   },
   {
    "duration": 16,
    "start_time": "2022-08-23T12:15:29.292Z"
   },
   {
    "duration": 7,
    "start_time": "2022-08-23T12:15:30.214Z"
   },
   {
    "duration": 8,
    "start_time": "2022-08-23T12:15:30.750Z"
   },
   {
    "duration": 33,
    "start_time": "2022-08-23T12:15:31.125Z"
   },
   {
    "duration": 150,
    "start_time": "2022-08-23T12:15:55.214Z"
   },
   {
    "duration": 53,
    "start_time": "2022-08-23T12:16:21.452Z"
   },
   {
    "duration": 36,
    "start_time": "2022-08-23T12:16:32.113Z"
   },
   {
    "duration": 153,
    "start_time": "2022-08-23T12:16:39.847Z"
   },
   {
    "duration": 143,
    "start_time": "2022-08-23T12:16:48.334Z"
   },
   {
    "duration": 18,
    "start_time": "2022-08-23T12:16:53.853Z"
   },
   {
    "duration": 154,
    "start_time": "2022-08-23T12:17:22.214Z"
   },
   {
    "duration": 24,
    "start_time": "2022-08-23T12:17:28.841Z"
   },
   {
    "duration": 35,
    "start_time": "2022-08-23T12:19:22.145Z"
   },
   {
    "duration": 152,
    "start_time": "2022-08-23T12:19:29.727Z"
   },
   {
    "duration": 17,
    "start_time": "2022-08-23T12:19:34.113Z"
   },
   {
    "duration": 104,
    "start_time": "2022-08-23T12:20:46.049Z"
   },
   {
    "duration": 194,
    "start_time": "2022-08-23T12:20:57.784Z"
   },
   {
    "duration": 33,
    "start_time": "2022-08-23T12:21:38.306Z"
   },
   {
    "duration": 146,
    "start_time": "2022-08-23T12:21:48.567Z"
   },
   {
    "duration": 14,
    "start_time": "2022-08-23T12:21:52.479Z"
   },
   {
    "duration": 155,
    "start_time": "2022-08-23T12:22:06.463Z"
   },
   {
    "duration": 159,
    "start_time": "2022-08-23T12:22:20.619Z"
   },
   {
    "duration": 15,
    "start_time": "2022-08-23T12:22:25.468Z"
   },
   {
    "duration": 15,
    "start_time": "2022-08-23T12:23:01.592Z"
   },
   {
    "duration": 21,
    "start_time": "2022-08-23T12:23:13.450Z"
   },
   {
    "duration": 134,
    "start_time": "2022-08-23T12:29:14.148Z"
   },
   {
    "duration": 3,
    "start_time": "2022-08-23T12:31:02.075Z"
   },
   {
    "duration": 63,
    "start_time": "2022-08-23T12:31:02.273Z"
   },
   {
    "duration": 14,
    "start_time": "2022-08-23T12:31:02.469Z"
   },
   {
    "duration": 5,
    "start_time": "2022-08-23T12:31:03.345Z"
   },
   {
    "duration": 9,
    "start_time": "2022-08-23T12:31:03.728Z"
   },
   {
    "duration": 6,
    "start_time": "2022-08-23T12:31:04.298Z"
   },
   {
    "duration": 8,
    "start_time": "2022-08-23T12:31:04.482Z"
   },
   {
    "duration": 5,
    "start_time": "2022-08-23T12:31:04.657Z"
   },
   {
    "duration": 6,
    "start_time": "2022-08-23T12:31:05.041Z"
   },
   {
    "duration": 5,
    "start_time": "2022-08-23T12:31:05.633Z"
   },
   {
    "duration": 5,
    "start_time": "2022-08-23T12:31:05.826Z"
   },
   {
    "duration": 11,
    "start_time": "2022-08-23T12:31:06.203Z"
   },
   {
    "duration": 7,
    "start_time": "2022-08-23T12:31:06.809Z"
   },
   {
    "duration": 14,
    "start_time": "2022-08-23T12:31:06.961Z"
   },
   {
    "duration": 7,
    "start_time": "2022-08-23T12:31:07.978Z"
   },
   {
    "duration": 2,
    "start_time": "2022-08-23T12:31:08.947Z"
   },
   {
    "duration": 2,
    "start_time": "2022-08-23T12:31:09.747Z"
   },
   {
    "duration": 3,
    "start_time": "2022-08-23T12:31:11.241Z"
   },
   {
    "duration": 3,
    "start_time": "2022-08-23T12:31:12.186Z"
   },
   {
    "duration": 2,
    "start_time": "2022-08-23T12:31:12.674Z"
   },
   {
    "duration": 146,
    "start_time": "2022-08-23T12:31:14.202Z"
   },
   {
    "duration": 8,
    "start_time": "2022-08-23T12:37:06.219Z"
   },
   {
    "duration": 8,
    "start_time": "2022-08-23T12:38:42.292Z"
   },
   {
    "duration": 7,
    "start_time": "2022-08-23T12:40:04.012Z"
   },
   {
    "duration": 714,
    "start_time": "2022-08-24T03:25:29.238Z"
   },
   {
    "duration": 126,
    "start_time": "2022-08-24T03:25:30.615Z"
   },
   {
    "duration": 17,
    "start_time": "2022-08-24T03:25:31.397Z"
   },
   {
    "duration": 6,
    "start_time": "2022-08-24T03:25:34.061Z"
   },
   {
    "duration": 11,
    "start_time": "2022-08-24T03:25:35.325Z"
   },
   {
    "duration": 6,
    "start_time": "2022-08-24T03:25:36.573Z"
   },
   {
    "duration": 7,
    "start_time": "2022-08-24T03:25:37.381Z"
   },
   {
    "duration": 6,
    "start_time": "2022-08-24T03:25:37.941Z"
   },
   {
    "duration": 6,
    "start_time": "2022-08-24T03:25:38.773Z"
   },
   {
    "duration": 5,
    "start_time": "2022-08-24T03:25:39.846Z"
   },
   {
    "duration": 4,
    "start_time": "2022-08-24T03:25:40.692Z"
   },
   {
    "duration": 10,
    "start_time": "2022-08-24T03:25:41.734Z"
   },
   {
    "duration": 5,
    "start_time": "2022-08-24T03:25:43.269Z"
   },
   {
    "duration": 12,
    "start_time": "2022-08-24T03:25:44.217Z"
   },
   {
    "duration": 7,
    "start_time": "2022-08-24T03:25:50.990Z"
   },
   {
    "duration": 8,
    "start_time": "2022-08-24T03:40:22.068Z"
   },
   {
    "duration": 7,
    "start_time": "2022-08-24T03:40:34.356Z"
   },
   {
    "duration": 26,
    "start_time": "2022-08-24T03:44:14.317Z"
   },
   {
    "duration": 58,
    "start_time": "2022-08-24T03:52:29.361Z"
   },
   {
    "duration": 25,
    "start_time": "2022-08-24T03:52:52.341Z"
   },
   {
    "duration": 73,
    "start_time": "2022-08-24T03:53:49.674Z"
   },
   {
    "duration": 516,
    "start_time": "2022-08-24T03:54:09.310Z"
   },
   {
    "duration": 8,
    "start_time": "2022-08-24T03:56:21.495Z"
   },
   {
    "duration": 62,
    "start_time": "2022-08-24T03:57:03.809Z"
   },
   {
    "duration": 11,
    "start_time": "2022-08-24T03:57:11.135Z"
   },
   {
    "duration": 6,
    "start_time": "2022-08-24T03:57:22.801Z"
   },
   {
    "duration": 12,
    "start_time": "2022-08-24T03:57:30.287Z"
   },
   {
    "duration": 10,
    "start_time": "2022-08-24T03:57:41.584Z"
   },
   {
    "duration": 9,
    "start_time": "2022-08-24T03:59:32.386Z"
   },
   {
    "duration": 11,
    "start_time": "2022-08-24T04:00:03.249Z"
   },
   {
    "duration": 24,
    "start_time": "2022-08-24T04:02:05.579Z"
   },
   {
    "duration": 215,
    "start_time": "2022-08-24T04:03:18.736Z"
   },
   {
    "duration": 2,
    "start_time": "2022-08-24T04:04:15.083Z"
   },
   {
    "duration": 8,
    "start_time": "2022-08-24T04:05:22.847Z"
   },
   {
    "duration": 9,
    "start_time": "2022-08-24T04:05:45.035Z"
   },
   {
    "duration": 176,
    "start_time": "2022-08-24T04:05:51.841Z"
   },
   {
    "duration": 2,
    "start_time": "2022-08-24T04:06:23.962Z"
   },
   {
    "duration": 60,
    "start_time": "2022-08-24T04:06:24.164Z"
   },
   {
    "duration": 13,
    "start_time": "2022-08-24T04:06:24.353Z"
   },
   {
    "duration": 5,
    "start_time": "2022-08-24T04:06:25.273Z"
   },
   {
    "duration": 8,
    "start_time": "2022-08-24T04:06:25.568Z"
   },
   {
    "duration": 5,
    "start_time": "2022-08-24T04:06:26.099Z"
   },
   {
    "duration": 8,
    "start_time": "2022-08-24T04:06:26.267Z"
   },
   {
    "duration": 5,
    "start_time": "2022-08-24T04:06:26.432Z"
   },
   {
    "duration": 6,
    "start_time": "2022-08-24T04:06:26.986Z"
   },
   {
    "duration": 5,
    "start_time": "2022-08-24T04:06:27.152Z"
   },
   {
    "duration": 4,
    "start_time": "2022-08-24T04:06:27.327Z"
   },
   {
    "duration": 11,
    "start_time": "2022-08-24T04:06:27.696Z"
   },
   {
    "duration": 5,
    "start_time": "2022-08-24T04:06:28.249Z"
   },
   {
    "duration": 14,
    "start_time": "2022-08-24T04:06:28.438Z"
   },
   {
    "duration": 7,
    "start_time": "2022-08-24T04:06:30.673Z"
   },
   {
    "duration": 8,
    "start_time": "2022-08-24T04:06:32.624Z"
   },
   {
    "duration": 231,
    "start_time": "2022-08-24T04:06:33.680Z"
   },
   {
    "duration": 173,
    "start_time": "2022-08-24T04:07:32.346Z"
   },
   {
    "duration": 156,
    "start_time": "2022-08-24T04:08:00.523Z"
   },
   {
    "duration": 152,
    "start_time": "2022-08-24T04:08:07.049Z"
   },
   {
    "duration": 4,
    "start_time": "2022-08-24T04:09:03.433Z"
   },
   {
    "duration": 8,
    "start_time": "2022-08-24T04:09:22.779Z"
   },
   {
    "duration": 11,
    "start_time": "2022-08-24T04:10:13.541Z"
   },
   {
    "duration": 15,
    "start_time": "2022-08-24T04:10:38.747Z"
   },
   {
    "duration": 10,
    "start_time": "2022-08-24T04:14:26.632Z"
   },
   {
    "duration": 15,
    "start_time": "2022-08-24T04:15:54.134Z"
   },
   {
    "duration": 813,
    "start_time": "2022-08-24T04:16:56.607Z"
   },
   {
    "duration": 17,
    "start_time": "2022-08-24T04:19:16.165Z"
   },
   {
    "duration": 25,
    "start_time": "2022-08-24T04:19:30.940Z"
   },
   {
    "duration": 22,
    "start_time": "2022-08-24T04:29:11.912Z"
   },
   {
    "duration": 20,
    "start_time": "2022-08-24T04:29:55.703Z"
   },
   {
    "duration": 24,
    "start_time": "2022-08-24T04:32:40.016Z"
   },
   {
    "duration": 9,
    "start_time": "2022-08-24T04:33:51.179Z"
   },
   {
    "duration": 2,
    "start_time": "2022-08-24T04:34:00.177Z"
   },
   {
    "duration": 64,
    "start_time": "2022-08-24T04:34:00.649Z"
   },
   {
    "duration": 13,
    "start_time": "2022-08-24T04:34:00.840Z"
   },
   {
    "duration": 5,
    "start_time": "2022-08-24T04:34:02.184Z"
   },
   {
    "duration": 8,
    "start_time": "2022-08-24T04:34:02.997Z"
   },
   {
    "duration": 5,
    "start_time": "2022-08-24T04:34:03.526Z"
   },
   {
    "duration": 7,
    "start_time": "2022-08-24T04:34:03.696Z"
   },
   {
    "duration": 5,
    "start_time": "2022-08-24T04:34:03.863Z"
   },
   {
    "duration": 6,
    "start_time": "2022-08-24T04:34:04.221Z"
   },
   {
    "duration": 5,
    "start_time": "2022-08-24T04:34:04.574Z"
   },
   {
    "duration": 6,
    "start_time": "2022-08-24T04:34:04.759Z"
   },
   {
    "duration": 11,
    "start_time": "2022-08-24T04:34:05.351Z"
   },
   {
    "duration": 7,
    "start_time": "2022-08-24T04:34:06.302Z"
   },
   {
    "duration": 15,
    "start_time": "2022-08-24T04:34:06.666Z"
   },
   {
    "duration": 7,
    "start_time": "2022-08-24T04:34:09.134Z"
   },
   {
    "duration": 8,
    "start_time": "2022-08-24T04:34:11.631Z"
   },
   {
    "duration": 23,
    "start_time": "2022-08-24T04:34:13.278Z"
   },
   {
    "duration": 4,
    "start_time": "2022-08-24T04:34:16.015Z"
   },
   {
    "duration": 13,
    "start_time": "2022-08-24T04:34:17.137Z"
   },
   {
    "duration": 3,
    "start_time": "2022-08-24T04:34:26.634Z"
   },
   {
    "duration": 195,
    "start_time": "2022-08-24T04:34:27.304Z"
   },
   {
    "duration": 218,
    "start_time": "2022-08-24T04:35:50.131Z"
   },
   {
    "duration": 201,
    "start_time": "2022-08-24T04:36:28.296Z"
   },
   {
    "duration": 220,
    "start_time": "2022-08-24T04:43:09.926Z"
   },
   {
    "duration": 14,
    "start_time": "2022-08-24T04:46:03.194Z"
   },
   {
    "duration": 2,
    "start_time": "2022-08-24T04:46:04.970Z"
   },
   {
    "duration": 215,
    "start_time": "2022-08-24T04:46:05.546Z"
   },
   {
    "duration": 31,
    "start_time": "2022-08-24T04:47:14.972Z"
   },
   {
    "duration": 139,
    "start_time": "2022-08-24T04:47:26.005Z"
   },
   {
    "duration": 22,
    "start_time": "2022-08-24T04:48:08.398Z"
   },
   {
    "duration": 144,
    "start_time": "2022-08-24T04:49:22.891Z"
   },
   {
    "duration": 216,
    "start_time": "2022-08-24T04:49:34.595Z"
   },
   {
    "duration": 2,
    "start_time": "2022-08-24T04:51:46.532Z"
   },
   {
    "duration": 14,
    "start_time": "2022-08-24T04:51:48.308Z"
   },
   {
    "duration": 3,
    "start_time": "2022-08-24T04:51:49.394Z"
   },
   {
    "duration": 212,
    "start_time": "2022-08-24T04:51:49.971Z"
   },
   {
    "duration": 22,
    "start_time": "2022-08-24T04:51:54.483Z"
   },
   {
    "duration": 146,
    "start_time": "2022-08-24T04:51:57.783Z"
   },
   {
    "duration": 3,
    "start_time": "2022-08-24T04:52:09.143Z"
   },
   {
    "duration": 62,
    "start_time": "2022-08-24T04:52:09.483Z"
   },
   {
    "duration": 14,
    "start_time": "2022-08-24T04:52:09.669Z"
   },
   {
    "duration": 5,
    "start_time": "2022-08-24T04:52:10.595Z"
   },
   {
    "duration": 9,
    "start_time": "2022-08-24T04:52:10.963Z"
   },
   {
    "duration": 5,
    "start_time": "2022-08-24T04:52:11.939Z"
   },
   {
    "duration": 8,
    "start_time": "2022-08-24T04:52:12.123Z"
   },
   {
    "duration": 5,
    "start_time": "2022-08-24T04:52:12.290Z"
   },
   {
    "duration": 5,
    "start_time": "2022-08-24T04:52:12.634Z"
   },
   {
    "duration": 5,
    "start_time": "2022-08-24T04:52:12.981Z"
   },
   {
    "duration": 4,
    "start_time": "2022-08-24T04:52:13.155Z"
   },
   {
    "duration": 11,
    "start_time": "2022-08-24T04:52:13.474Z"
   },
   {
    "duration": 5,
    "start_time": "2022-08-24T04:52:14.013Z"
   },
   {
    "duration": 14,
    "start_time": "2022-08-24T04:52:14.179Z"
   },
   {
    "duration": 7,
    "start_time": "2022-08-24T04:52:15.650Z"
   },
   {
    "duration": 8,
    "start_time": "2022-08-24T04:52:17.158Z"
   },
   {
    "duration": 3,
    "start_time": "2022-08-24T04:52:17.506Z"
   },
   {
    "duration": 16,
    "start_time": "2022-08-24T04:52:18.763Z"
   },
   {
    "duration": 2,
    "start_time": "2022-08-24T04:52:20.834Z"
   },
   {
    "duration": 456,
    "start_time": "2022-08-24T04:52:21.148Z"
   },
   {
    "duration": 75,
    "start_time": "2022-08-24T04:52:29.588Z"
   },
   {
    "duration": 442,
    "start_time": "2022-08-24T04:52:34.363Z"
   },
   {
    "duration": 7,
    "start_time": "2022-08-24T04:54:29.615Z"
   },
   {
    "duration": 23,
    "start_time": "2022-08-24T04:54:36.764Z"
   },
   {
    "duration": 20,
    "start_time": "2022-08-24T04:54:51.512Z"
   },
   {
    "duration": 160,
    "start_time": "2022-08-24T04:55:00.774Z"
   },
   {
    "duration": 163,
    "start_time": "2022-08-24T05:01:38.112Z"
   },
   {
    "duration": 1072,
    "start_time": "2022-08-24T05:05:07.480Z"
   },
   {
    "duration": 2,
    "start_time": "2022-08-24T05:05:15.175Z"
   },
   {
    "duration": 68,
    "start_time": "2022-08-24T05:05:15.751Z"
   },
   {
    "duration": 14,
    "start_time": "2022-08-24T05:05:18.551Z"
   },
   {
    "duration": 5,
    "start_time": "2022-08-24T05:05:21.713Z"
   },
   {
    "duration": 8,
    "start_time": "2022-08-24T05:05:23.379Z"
   },
   {
    "duration": 4,
    "start_time": "2022-08-24T05:05:25.727Z"
   },
   {
    "duration": 13,
    "start_time": "2022-08-24T05:05:27.239Z"
   },
   {
    "duration": 5,
    "start_time": "2022-08-24T05:06:14.384Z"
   },
   {
    "duration": 5,
    "start_time": "2022-08-24T05:06:30.818Z"
   },
   {
    "duration": 13,
    "start_time": "2022-08-24T05:07:30.786Z"
   },
   {
    "duration": 12,
    "start_time": "2022-08-24T05:08:48.906Z"
   },
   {
    "duration": 9,
    "start_time": "2022-08-24T05:11:42.705Z"
   },
   {
    "duration": 1036,
    "start_time": "2022-08-24T05:11:47.402Z"
   },
   {
    "duration": 2,
    "start_time": "2022-08-24T05:11:57.819Z"
   },
   {
    "duration": 4,
    "start_time": "2022-08-24T05:11:59.010Z"
   },
   {
    "duration": 4,
    "start_time": "2022-08-24T05:12:10.915Z"
   },
   {
    "duration": 4,
    "start_time": "2022-08-24T05:12:14.905Z"
   },
   {
    "duration": 15,
    "start_time": "2022-08-24T05:12:40.042Z"
   },
   {
    "duration": 22,
    "start_time": "2022-08-24T05:12:59.227Z"
   },
   {
    "duration": 5,
    "start_time": "2022-08-24T05:13:12.741Z"
   },
   {
    "duration": 6,
    "start_time": "2022-08-24T05:13:13.902Z"
   },
   {
    "duration": 4,
    "start_time": "2022-08-24T05:13:18.178Z"
   },
   {
    "duration": 5,
    "start_time": "2022-08-24T05:13:18.817Z"
   },
   {
    "duration": 9,
    "start_time": "2022-08-24T05:13:20.490Z"
   },
   {
    "duration": 4,
    "start_time": "2022-08-24T05:13:23.627Z"
   },
   {
    "duration": 14,
    "start_time": "2022-08-24T05:13:24.092Z"
   },
   {
    "duration": 7,
    "start_time": "2022-08-24T05:13:29.834Z"
   },
   {
    "duration": 7,
    "start_time": "2022-08-24T05:13:38.850Z"
   },
   {
    "duration": 114,
    "start_time": "2022-08-24T05:13:41.995Z"
   },
   {
    "duration": 14,
    "start_time": "2022-08-24T05:13:46.090Z"
   },
   {
    "duration": 2,
    "start_time": "2022-08-24T05:13:47.738Z"
   },
   {
    "duration": 491,
    "start_time": "2022-08-24T05:13:48.443Z"
   },
   {
    "duration": 259,
    "start_time": "2022-08-24T05:14:15.990Z"
   },
   {
    "duration": 7,
    "start_time": "2022-08-24T05:43:22.907Z"
   },
   {
    "duration": 7,
    "start_time": "2022-08-24T05:43:59.869Z"
   },
   {
    "duration": 206,
    "start_time": "2022-08-24T05:46:30.877Z"
   },
   {
    "duration": 24,
    "start_time": "2022-08-24T05:58:03.936Z"
   },
   {
    "duration": 200,
    "start_time": "2022-08-24T05:59:37.809Z"
   },
   {
    "duration": 212,
    "start_time": "2022-08-24T05:59:52.264Z"
   },
   {
    "duration": 230,
    "start_time": "2022-08-24T06:01:25.232Z"
   },
   {
    "duration": 229,
    "start_time": "2022-08-24T06:01:31.057Z"
   },
   {
    "duration": 31,
    "start_time": "2022-08-24T06:02:19.938Z"
   },
   {
    "duration": 11,
    "start_time": "2022-08-24T06:03:45.554Z"
   },
   {
    "duration": 3,
    "start_time": "2022-08-24T06:03:55.369Z"
   },
   {
    "duration": 61,
    "start_time": "2022-08-24T06:03:55.760Z"
   },
   {
    "duration": 16,
    "start_time": "2022-08-24T06:03:56.304Z"
   },
   {
    "duration": 5,
    "start_time": "2022-08-24T06:03:57.143Z"
   },
   {
    "duration": 8,
    "start_time": "2022-08-24T06:03:57.479Z"
   },
   {
    "duration": 2,
    "start_time": "2022-08-24T06:03:57.991Z"
   },
   {
    "duration": 5,
    "start_time": "2022-08-24T06:03:58.160Z"
   },
   {
    "duration": 20,
    "start_time": "2022-08-24T06:03:58.337Z"
   },
   {
    "duration": 5,
    "start_time": "2022-08-24T06:03:58.511Z"
   },
   {
    "duration": 5,
    "start_time": "2022-08-24T06:04:00.192Z"
   },
   {
    "duration": 5,
    "start_time": "2022-08-24T06:04:00.551Z"
   },
   {
    "duration": 5,
    "start_time": "2022-08-24T06:04:00.745Z"
   },
   {
    "duration": 10,
    "start_time": "2022-08-24T06:04:01.104Z"
   },
   {
    "duration": 5,
    "start_time": "2022-08-24T06:04:01.623Z"
   },
   {
    "duration": 15,
    "start_time": "2022-08-24T06:04:01.815Z"
   },
   {
    "duration": 7,
    "start_time": "2022-08-24T06:04:03.695Z"
   },
   {
    "duration": 9,
    "start_time": "2022-08-24T06:04:05.423Z"
   },
   {
    "duration": 8,
    "start_time": "2022-08-24T06:04:06.528Z"
   },
   {
    "duration": 235,
    "start_time": "2022-08-24T06:04:07.112Z"
   },
   {
    "duration": 12,
    "start_time": "2022-08-24T06:04:09.648Z"
   },
   {
    "duration": 11,
    "start_time": "2022-08-24T06:05:02.354Z"
   },
   {
    "duration": 67,
    "start_time": "2022-08-24T06:07:13.800Z"
   },
   {
    "duration": 141,
    "start_time": "2022-08-24T06:07:22.226Z"
   },
   {
    "duration": 144,
    "start_time": "2022-08-24T06:10:46.603Z"
   },
   {
    "duration": 241,
    "start_time": "2022-08-24T06:13:13.774Z"
   },
   {
    "duration": 173,
    "start_time": "2022-08-24T06:14:59.214Z"
   },
   {
    "duration": 161,
    "start_time": "2022-08-24T06:15:29.979Z"
   },
   {
    "duration": 936,
    "start_time": "2022-08-24T07:22:47.025Z"
   },
   {
    "duration": 162,
    "start_time": "2022-08-24T07:23:07.471Z"
   },
   {
    "duration": 6,
    "start_time": "2022-08-24T07:23:48.743Z"
   },
   {
    "duration": 25,
    "start_time": "2022-08-24T07:23:57.056Z"
   },
   {
    "duration": 23,
    "start_time": "2022-08-24T07:29:08.859Z"
   },
   {
    "duration": 145,
    "start_time": "2022-08-24T07:29:12.330Z"
   },
   {
    "duration": 11,
    "start_time": "2022-08-24T07:29:13.777Z"
   },
   {
    "duration": 146,
    "start_time": "2022-08-24T07:29:34.541Z"
   },
   {
    "duration": 25,
    "start_time": "2022-08-24T07:29:35.537Z"
   },
   {
    "duration": 8,
    "start_time": "2022-08-24T07:29:47.938Z"
   },
   {
    "duration": 171,
    "start_time": "2022-08-24T07:30:10.050Z"
   },
   {
    "duration": 7,
    "start_time": "2022-08-24T07:31:44.491Z"
   },
   {
    "duration": 8,
    "start_time": "2022-08-24T07:32:05.802Z"
   },
   {
    "duration": 9,
    "start_time": "2022-08-24T07:34:36.228Z"
   },
   {
    "duration": 11,
    "start_time": "2022-08-24T07:44:51.414Z"
   },
   {
    "duration": 80,
    "start_time": "2022-08-24T07:45:04.046Z"
   },
   {
    "duration": 10,
    "start_time": "2022-08-24T07:52:21.982Z"
   },
   {
    "duration": 9,
    "start_time": "2022-08-24T08:00:56.657Z"
   },
   {
    "duration": 165,
    "start_time": "2022-08-24T08:07:11.285Z"
   },
   {
    "duration": 141,
    "start_time": "2022-08-24T08:08:34.550Z"
   },
   {
    "duration": 8,
    "start_time": "2022-08-24T08:10:29.282Z"
   },
   {
    "duration": 9,
    "start_time": "2022-08-24T08:10:54.870Z"
   },
   {
    "duration": 136,
    "start_time": "2022-08-24T08:17:10.636Z"
   },
   {
    "duration": 155,
    "start_time": "2022-08-24T08:17:15.784Z"
   },
   {
    "duration": 8,
    "start_time": "2022-08-24T08:17:21.088Z"
   },
   {
    "duration": 142,
    "start_time": "2022-08-24T08:44:08.354Z"
   },
   {
    "duration": 139,
    "start_time": "2022-08-24T08:44:27.671Z"
   },
   {
    "duration": 9,
    "start_time": "2022-08-24T08:46:04.082Z"
   },
   {
    "duration": 156,
    "start_time": "2022-08-24T08:47:41.990Z"
   },
   {
    "duration": 142,
    "start_time": "2022-08-24T08:47:55.483Z"
   },
   {
    "duration": 9,
    "start_time": "2022-08-24T08:49:36.682Z"
   },
   {
    "duration": 8,
    "start_time": "2022-08-24T08:49:47.106Z"
   },
   {
    "duration": 146,
    "start_time": "2022-08-24T08:51:04.681Z"
   },
   {
    "duration": 248,
    "start_time": "2022-08-24T08:51:33.731Z"
   },
   {
    "duration": 9,
    "start_time": "2022-08-24T08:53:08.238Z"
   },
   {
    "duration": 290,
    "start_time": "2022-08-24T09:01:35.326Z"
   },
   {
    "duration": 347,
    "start_time": "2022-08-24T09:02:15.749Z"
   },
   {
    "duration": 130,
    "start_time": "2022-08-24T09:04:03.852Z"
   },
   {
    "duration": 134,
    "start_time": "2022-08-24T09:04:14.598Z"
   },
   {
    "duration": 9,
    "start_time": "2022-08-24T09:06:36.302Z"
   },
   {
    "duration": 7,
    "start_time": "2022-08-24T09:09:26.189Z"
   },
   {
    "duration": 14,
    "start_time": "2022-08-24T10:01:22.933Z"
   },
   {
    "duration": 172,
    "start_time": "2022-08-24T10:17:47.341Z"
   },
   {
    "duration": 6,
    "start_time": "2022-08-24T10:19:33.326Z"
   },
   {
    "duration": 9,
    "start_time": "2022-08-24T10:19:39.540Z"
   },
   {
    "duration": 5,
    "start_time": "2022-08-24T10:20:52.847Z"
   },
   {
    "duration": 59,
    "start_time": "2022-08-24T10:24:25.117Z"
   },
   {
    "duration": 9,
    "start_time": "2022-08-24T10:24:52.566Z"
   },
   {
    "duration": 13,
    "start_time": "2022-08-24T10:25:52.854Z"
   },
   {
    "duration": 10,
    "start_time": "2022-08-24T10:28:29.780Z"
   },
   {
    "duration": 9,
    "start_time": "2022-08-24T10:29:41.153Z"
   },
   {
    "duration": 44,
    "start_time": "2022-08-24T10:30:28.688Z"
   },
   {
    "duration": 7,
    "start_time": "2022-08-24T10:30:32.783Z"
   },
   {
    "duration": 9,
    "start_time": "2022-08-24T10:30:33.446Z"
   },
   {
    "duration": 81,
    "start_time": "2022-08-24T10:31:11.805Z"
   },
   {
    "duration": 10,
    "start_time": "2022-08-24T10:31:26.528Z"
   },
   {
    "duration": 9,
    "start_time": "2022-08-24T10:31:37.190Z"
   },
   {
    "duration": 6,
    "start_time": "2022-08-24T10:31:50.044Z"
   },
   {
    "duration": 6,
    "start_time": "2022-08-24T10:33:07.848Z"
   },
   {
    "duration": 5,
    "start_time": "2022-08-24T10:33:54.279Z"
   },
   {
    "duration": 6,
    "start_time": "2022-08-24T10:34:38.903Z"
   },
   {
    "duration": 51,
    "start_time": "2022-08-24T10:51:20.992Z"
   },
   {
    "duration": 14,
    "start_time": "2022-08-24T10:51:26.355Z"
   },
   {
    "duration": 8,
    "start_time": "2022-08-24T10:51:41.850Z"
   },
   {
    "duration": 8,
    "start_time": "2022-08-24T10:52:42.818Z"
   },
   {
    "duration": 8,
    "start_time": "2022-08-24T10:53:52.945Z"
   },
   {
    "duration": 9,
    "start_time": "2022-08-24T11:00:16.661Z"
   },
   {
    "duration": 9,
    "start_time": "2022-08-24T11:01:55.027Z"
   },
   {
    "duration": 9,
    "start_time": "2022-08-24T11:02:34.500Z"
   },
   {
    "duration": 527,
    "start_time": "2022-08-24T11:15:37.389Z"
   },
   {
    "duration": 8,
    "start_time": "2022-08-24T12:20:12.350Z"
   },
   {
    "duration": 11,
    "start_time": "2022-08-24T12:20:21.886Z"
   },
   {
    "duration": 3,
    "start_time": "2022-08-24T12:20:32.286Z"
   },
   {
    "duration": 77,
    "start_time": "2022-08-24T12:20:32.742Z"
   },
   {
    "duration": 17,
    "start_time": "2022-08-24T12:20:34.025Z"
   },
   {
    "duration": 5,
    "start_time": "2022-08-24T12:20:35.757Z"
   },
   {
    "duration": 9,
    "start_time": "2022-08-24T12:20:36.142Z"
   },
   {
    "duration": 3,
    "start_time": "2022-08-24T12:20:36.687Z"
   },
   {
    "duration": 5,
    "start_time": "2022-08-24T12:20:36.864Z"
   },
   {
    "duration": 18,
    "start_time": "2022-08-24T12:20:37.122Z"
   },
   {
    "duration": 5,
    "start_time": "2022-08-24T12:20:37.733Z"
   },
   {
    "duration": 6,
    "start_time": "2022-08-24T12:20:39.181Z"
   },
   {
    "duration": 5,
    "start_time": "2022-08-24T12:20:39.534Z"
   },
   {
    "duration": 4,
    "start_time": "2022-08-24T12:20:39.710Z"
   },
   {
    "duration": 11,
    "start_time": "2022-08-24T12:20:40.343Z"
   },
   {
    "duration": 6,
    "start_time": "2022-08-24T12:20:41.589Z"
   },
   {
    "duration": 14,
    "start_time": "2022-08-24T12:20:42.079Z"
   },
   {
    "duration": 9,
    "start_time": "2022-08-24T12:20:44.093Z"
   },
   {
    "duration": 9,
    "start_time": "2022-08-24T12:20:45.573Z"
   },
   {
    "duration": 8,
    "start_time": "2022-08-24T12:20:45.941Z"
   },
   {
    "duration": 243,
    "start_time": "2022-08-24T12:20:46.767Z"
   },
   {
    "duration": 11,
    "start_time": "2022-08-24T12:20:50.469Z"
   },
   {
    "duration": 3,
    "start_time": "2022-08-24T12:20:54.471Z"
   },
   {
    "duration": 32,
    "start_time": "2022-08-24T12:20:55.687Z"
   },
   {
    "duration": 169,
    "start_time": "2022-08-24T12:20:57.309Z"
   },
   {
    "duration": 152,
    "start_time": "2022-08-24T12:20:59.429Z"
   },
   {
    "duration": 150,
    "start_time": "2022-08-24T12:20:59.606Z"
   },
   {
    "duration": 9,
    "start_time": "2022-08-24T12:21:00.343Z"
   },
   {
    "duration": 9,
    "start_time": "2022-08-24T12:21:01.782Z"
   },
   {
    "duration": 142,
    "start_time": "2022-08-24T12:21:02.501Z"
   },
   {
    "duration": 153,
    "start_time": "2022-08-24T12:21:02.951Z"
   },
   {
    "duration": 9,
    "start_time": "2022-08-24T12:21:03.310Z"
   },
   {
    "duration": 147,
    "start_time": "2022-08-24T12:21:04.053Z"
   },
   {
    "duration": 148,
    "start_time": "2022-08-24T12:21:04.373Z"
   },
   {
    "duration": 9,
    "start_time": "2022-08-24T12:21:04.901Z"
   },
   {
    "duration": 149,
    "start_time": "2022-08-24T12:21:05.358Z"
   },
   {
    "duration": 157,
    "start_time": "2022-08-24T12:21:05.540Z"
   },
   {
    "duration": 8,
    "start_time": "2022-08-24T12:21:05.758Z"
   },
   {
    "duration": 162,
    "start_time": "2022-08-24T12:21:06.518Z"
   },
   {
    "duration": 159,
    "start_time": "2022-08-24T12:21:06.973Z"
   },
   {
    "duration": 8,
    "start_time": "2022-08-24T12:21:08.286Z"
   },
   {
    "duration": 149,
    "start_time": "2022-08-24T12:21:08.893Z"
   },
   {
    "duration": 156,
    "start_time": "2022-08-24T12:21:09.678Z"
   },
   {
    "duration": 9,
    "start_time": "2022-08-24T12:21:10.750Z"
   },
   {
    "duration": 8,
    "start_time": "2022-08-24T12:21:13.701Z"
   },
   {
    "duration": 7,
    "start_time": "2022-08-24T12:21:19.425Z"
   },
   {
    "duration": 10,
    "start_time": "2022-08-24T12:21:20.038Z"
   },
   {
    "duration": 8,
    "start_time": "2022-08-24T12:21:20.245Z"
   },
   {
    "duration": 5,
    "start_time": "2022-08-24T12:21:20.446Z"
   },
   {
    "duration": 7,
    "start_time": "2022-08-24T12:21:20.653Z"
   },
   {
    "duration": 8,
    "start_time": "2022-08-24T12:21:21.219Z"
   },
   {
    "duration": 5,
    "start_time": "2022-08-24T12:21:21.277Z"
   },
   {
    "duration": 7,
    "start_time": "2022-08-24T12:21:21.469Z"
   },
   {
    "duration": 9,
    "start_time": "2022-08-24T12:21:21.661Z"
   },
   {
    "duration": 9,
    "start_time": "2022-08-24T12:21:22.695Z"
   },
   {
    "duration": 9,
    "start_time": "2022-08-24T12:21:23.172Z"
   },
   {
    "duration": 7,
    "start_time": "2022-08-24T12:21:23.633Z"
   },
   {
    "duration": 12,
    "start_time": "2022-08-24T12:21:27.565Z"
   },
   {
    "duration": 8,
    "start_time": "2022-08-24T12:21:50.631Z"
   },
   {
    "duration": 7,
    "start_time": "2022-08-24T12:23:02.526Z"
   },
   {
    "duration": 8,
    "start_time": "2022-08-24T12:23:11.518Z"
   },
   {
    "duration": 7,
    "start_time": "2022-08-24T12:23:44.080Z"
   },
   {
    "duration": 9,
    "start_time": "2022-08-24T12:24:05.054Z"
   },
   {
    "duration": 26,
    "start_time": "2022-08-24T12:24:12.367Z"
   },
   {
    "duration": 8,
    "start_time": "2022-08-24T12:27:51.984Z"
   },
   {
    "duration": 9,
    "start_time": "2022-08-24T12:30:10.625Z"
   },
   {
    "duration": 10,
    "start_time": "2022-08-24T12:40:52.051Z"
   },
   {
    "duration": 16,
    "start_time": "2022-08-24T12:45:19.971Z"
   },
   {
    "duration": 3,
    "start_time": "2022-08-24T13:36:22.333Z"
   },
   {
    "duration": 64,
    "start_time": "2022-08-24T13:36:23.005Z"
   },
   {
    "duration": 22,
    "start_time": "2022-08-24T13:36:23.582Z"
   },
   {
    "duration": 5,
    "start_time": "2022-08-24T13:36:25.030Z"
   },
   {
    "duration": 9,
    "start_time": "2022-08-24T13:36:25.407Z"
   },
   {
    "duration": 3,
    "start_time": "2022-08-24T13:36:25.973Z"
   },
   {
    "duration": 5,
    "start_time": "2022-08-24T13:36:26.150Z"
   },
   {
    "duration": 19,
    "start_time": "2022-08-24T13:36:26.840Z"
   },
   {
    "duration": 5,
    "start_time": "2022-08-24T13:36:27.238Z"
   },
   {
    "duration": 6,
    "start_time": "2022-08-24T13:36:27.622Z"
   },
   {
    "duration": 5,
    "start_time": "2022-08-24T13:36:28.006Z"
   },
   {
    "duration": 4,
    "start_time": "2022-08-24T13:36:28.200Z"
   },
   {
    "duration": 11,
    "start_time": "2022-08-24T13:36:28.573Z"
   },
   {
    "duration": 5,
    "start_time": "2022-08-24T13:36:29.382Z"
   },
   {
    "duration": 16,
    "start_time": "2022-08-24T13:36:29.894Z"
   },
   {
    "duration": 8,
    "start_time": "2022-08-24T13:36:31.215Z"
   },
   {
    "duration": 8,
    "start_time": "2022-08-24T13:36:33.068Z"
   },
   {
    "duration": 8,
    "start_time": "2022-08-24T13:36:33.287Z"
   },
   {
    "duration": 236,
    "start_time": "2022-08-24T13:36:34.143Z"
   },
   {
    "duration": 49,
    "start_time": "2022-08-24T13:36:41.103Z"
   },
   {
    "duration": 7,
    "start_time": "2022-08-24T13:37:31.648Z"
   },
   {
    "duration": 8,
    "start_time": "2022-08-24T13:41:55.753Z"
   },
   {
    "duration": 9,
    "start_time": "2022-08-24T13:42:07.185Z"
   },
   {
    "duration": 9,
    "start_time": "2022-08-24T13:42:40.248Z"
   },
   {
    "duration": 8,
    "start_time": "2022-08-24T13:43:29.103Z"
   },
   {
    "duration": 3,
    "start_time": "2022-08-24T13:43:35.351Z"
   },
   {
    "duration": 221,
    "start_time": "2022-08-24T13:43:35.815Z"
   },
   {
    "duration": 25,
    "start_time": "2022-08-24T13:43:36.375Z"
   },
   {
    "duration": 5,
    "start_time": "2022-08-24T13:43:40.070Z"
   },
   {
    "duration": 10,
    "start_time": "2022-08-24T13:43:40.439Z"
   },
   {
    "duration": 3,
    "start_time": "2022-08-24T13:43:40.975Z"
   },
   {
    "duration": 6,
    "start_time": "2022-08-24T13:43:41.160Z"
   },
   {
    "duration": 20,
    "start_time": "2022-08-24T13:43:41.320Z"
   },
   {
    "duration": 5,
    "start_time": "2022-08-24T13:43:41.494Z"
   },
   {
    "duration": 8,
    "start_time": "2022-08-24T13:43:41.863Z"
   },
   {
    "duration": 7,
    "start_time": "2022-08-24T13:43:42.206Z"
   },
   {
    "duration": 6,
    "start_time": "2022-08-24T13:43:42.383Z"
   },
   {
    "duration": 10,
    "start_time": "2022-08-24T13:43:42.745Z"
   },
   {
    "duration": 6,
    "start_time": "2022-08-24T13:43:43.262Z"
   },
   {
    "duration": 23,
    "start_time": "2022-08-24T13:43:43.439Z"
   },
   {
    "duration": 10,
    "start_time": "2022-08-24T13:43:44.687Z"
   },
   {
    "duration": 11,
    "start_time": "2022-08-24T13:43:46.768Z"
   },
   {
    "duration": 9,
    "start_time": "2022-08-24T13:43:46.991Z"
   },
   {
    "duration": 274,
    "start_time": "2022-08-24T13:43:47.535Z"
   },
   {
    "duration": 21,
    "start_time": "2022-08-24T13:43:50.182Z"
   },
   {
    "duration": 34,
    "start_time": "2022-08-24T13:43:52.536Z"
   },
   {
    "duration": 21,
    "start_time": "2022-08-24T13:44:10.464Z"
   },
   {
    "duration": 270,
    "start_time": "2022-08-24T13:45:22.584Z"
   },
   {
    "duration": 26,
    "start_time": "2022-08-24T13:47:38.696Z"
   },
   {
    "duration": 14,
    "start_time": "2022-08-24T13:48:03.128Z"
   },
   {
    "duration": 12,
    "start_time": "2022-08-24T13:48:32.352Z"
   },
   {
    "duration": 14,
    "start_time": "2022-08-24T13:48:34.968Z"
   },
   {
    "duration": 99,
    "start_time": "2022-08-24T13:48:46.153Z"
   },
   {
    "duration": 14,
    "start_time": "2022-08-24T13:48:47.023Z"
   },
   {
    "duration": 5,
    "start_time": "2022-08-24T13:48:49.278Z"
   },
   {
    "duration": 10,
    "start_time": "2022-08-24T13:48:49.641Z"
   },
   {
    "duration": 2,
    "start_time": "2022-08-24T13:48:50.583Z"
   },
   {
    "duration": 5,
    "start_time": "2022-08-24T13:48:50.760Z"
   },
   {
    "duration": 18,
    "start_time": "2022-08-24T13:48:50.964Z"
   },
   {
    "duration": 5,
    "start_time": "2022-08-24T13:48:51.147Z"
   },
   {
    "duration": 7,
    "start_time": "2022-08-24T13:48:51.513Z"
   },
   {
    "duration": 6,
    "start_time": "2022-08-24T13:48:52.773Z"
   },
   {
    "duration": 4,
    "start_time": "2022-08-24T13:48:52.878Z"
   },
   {
    "duration": 11,
    "start_time": "2022-08-24T13:48:53.239Z"
   },
   {
    "duration": 5,
    "start_time": "2022-08-24T13:48:53.790Z"
   },
   {
    "duration": 14,
    "start_time": "2022-08-24T13:48:53.983Z"
   },
   {
    "duration": 8,
    "start_time": "2022-08-24T13:48:55.142Z"
   },
   {
    "duration": 7,
    "start_time": "2022-08-24T13:48:56.743Z"
   },
   {
    "duration": 7,
    "start_time": "2022-08-24T13:48:57.299Z"
   },
   {
    "duration": 229,
    "start_time": "2022-08-24T13:48:57.907Z"
   },
   {
    "duration": 15,
    "start_time": "2022-08-24T13:49:00.407Z"
   },
   {
    "duration": 22,
    "start_time": "2022-08-24T13:49:02.472Z"
   },
   {
    "duration": 14,
    "start_time": "2022-08-24T13:49:12.215Z"
   },
   {
    "duration": 22,
    "start_time": "2022-08-24T13:49:15.327Z"
   },
   {
    "duration": 24,
    "start_time": "2022-08-24T13:49:33.143Z"
   },
   {
    "duration": 60,
    "start_time": "2022-08-24T13:51:26.075Z"
   },
   {
    "duration": 67,
    "start_time": "2022-08-24T13:51:42.825Z"
   },
   {
    "duration": 272,
    "start_time": "2022-08-24T13:53:36.988Z"
   },
   {
    "duration": 164,
    "start_time": "2022-08-24T13:54:29.210Z"
   },
   {
    "duration": 248,
    "start_time": "2022-08-24T13:55:40.921Z"
   },
   {
    "duration": 7,
    "start_time": "2022-08-24T13:56:52.414Z"
   },
   {
    "duration": 14,
    "start_time": "2022-08-24T13:56:59.361Z"
   },
   {
    "duration": 23,
    "start_time": "2022-08-24T13:59:27.451Z"
   },
   {
    "duration": 289,
    "start_time": "2022-08-24T14:00:07.809Z"
   },
   {
    "duration": 291,
    "start_time": "2022-08-24T14:01:09.449Z"
   },
   {
    "duration": 8,
    "start_time": "2022-08-24T14:10:17.155Z"
   },
   {
    "duration": 13,
    "start_time": "2022-08-24T14:10:28.387Z"
   },
   {
    "duration": 26,
    "start_time": "2022-08-24T14:12:32.014Z"
   },
   {
    "duration": 25,
    "start_time": "2022-08-24T14:13:35.710Z"
   },
   {
    "duration": 158,
    "start_time": "2022-08-24T14:13:54.925Z"
   },
   {
    "duration": 150,
    "start_time": "2022-08-24T14:14:51.756Z"
   },
   {
    "duration": 162,
    "start_time": "2022-08-24T14:14:58.698Z"
   },
   {
    "duration": 8,
    "start_time": "2022-08-24T14:16:01.947Z"
   },
   {
    "duration": 142,
    "start_time": "2022-08-24T14:19:22.182Z"
   },
   {
    "duration": 144,
    "start_time": "2022-08-24T14:19:36.774Z"
   },
   {
    "duration": 8,
    "start_time": "2022-08-24T14:20:19.412Z"
   },
   {
    "duration": 4,
    "start_time": "2022-08-24T14:21:45.954Z"
   },
   {
    "duration": 8,
    "start_time": "2022-08-24T14:21:47.586Z"
   },
   {
    "duration": 5,
    "start_time": "2022-08-24T14:22:26.478Z"
   },
   {
    "duration": 4,
    "start_time": "2022-08-24T14:22:39.518Z"
   },
   {
    "duration": 6,
    "start_time": "2022-08-24T14:23:33.604Z"
   },
   {
    "duration": 5,
    "start_time": "2022-08-24T14:23:46.826Z"
   },
   {
    "duration": 4,
    "start_time": "2022-08-24T14:23:47.426Z"
   },
   {
    "duration": 7,
    "start_time": "2022-08-24T14:23:48.903Z"
   },
   {
    "duration": 4,
    "start_time": "2022-08-24T14:23:51.323Z"
   },
   {
    "duration": 6,
    "start_time": "2022-08-24T14:23:58.280Z"
   },
   {
    "duration": 14,
    "start_time": "2022-08-24T14:23:59.053Z"
   },
   {
    "duration": 8,
    "start_time": "2022-08-24T14:24:16.747Z"
   },
   {
    "duration": 8,
    "start_time": "2022-08-24T14:24:37.100Z"
   },
   {
    "duration": 7,
    "start_time": "2022-08-24T14:24:47.236Z"
   },
   {
    "duration": 232,
    "start_time": "2022-08-24T14:24:47.931Z"
   },
   {
    "duration": 23,
    "start_time": "2022-08-24T14:24:59.190Z"
   },
   {
    "duration": 411,
    "start_time": "2022-08-24T14:25:01.565Z"
   },
   {
    "duration": 23,
    "start_time": "2022-08-24T14:25:10.663Z"
   },
   {
    "duration": 153,
    "start_time": "2022-08-24T14:25:12.475Z"
   },
   {
    "duration": 164,
    "start_time": "2022-08-24T14:25:27.688Z"
   },
   {
    "duration": 162,
    "start_time": "2022-08-24T14:25:28.349Z"
   },
   {
    "duration": 9,
    "start_time": "2022-08-24T14:25:29.318Z"
   },
   {
    "duration": 7,
    "start_time": "2022-08-24T14:25:33.555Z"
   },
   {
    "duration": 144,
    "start_time": "2022-08-24T14:25:35.059Z"
   },
   {
    "duration": 143,
    "start_time": "2022-08-24T14:25:35.291Z"
   },
   {
    "duration": 8,
    "start_time": "2022-08-24T14:25:35.510Z"
   },
   {
    "duration": 137,
    "start_time": "2022-08-24T14:25:35.675Z"
   },
   {
    "duration": 149,
    "start_time": "2022-08-24T14:25:35.896Z"
   },
   {
    "duration": 9,
    "start_time": "2022-08-24T14:25:36.051Z"
   },
   {
    "duration": 170,
    "start_time": "2022-08-24T14:25:36.259Z"
   },
   {
    "duration": 155,
    "start_time": "2022-08-24T14:25:36.459Z"
   },
   {
    "duration": 7,
    "start_time": "2022-08-24T14:25:36.734Z"
   },
   {
    "duration": 142,
    "start_time": "2022-08-24T14:25:37.155Z"
   },
   {
    "duration": 146,
    "start_time": "2022-08-24T14:25:37.375Z"
   },
   {
    "duration": 9,
    "start_time": "2022-08-24T14:25:37.556Z"
   },
   {
    "duration": 138,
    "start_time": "2022-08-24T14:25:37.739Z"
   },
   {
    "duration": 138,
    "start_time": "2022-08-24T14:25:38.147Z"
   },
   {
    "duration": 8,
    "start_time": "2022-08-24T14:25:38.330Z"
   },
   {
    "duration": 7,
    "start_time": "2022-08-24T14:25:41.788Z"
   },
   {
    "duration": 6,
    "start_time": "2022-08-24T14:25:48.483Z"
   },
   {
    "duration": 9,
    "start_time": "2022-08-24T14:25:50.043Z"
   },
   {
    "duration": 9,
    "start_time": "2022-08-24T14:25:51.363Z"
   },
   {
    "duration": 6,
    "start_time": "2022-08-24T14:25:51.883Z"
   },
   {
    "duration": 6,
    "start_time": "2022-08-24T14:25:52.125Z"
   },
   {
    "duration": 7,
    "start_time": "2022-08-24T14:25:52.331Z"
   },
   {
    "duration": 5,
    "start_time": "2022-08-24T14:25:52.531Z"
   },
   {
    "duration": 6,
    "start_time": "2022-08-24T14:25:52.867Z"
   },
   {
    "duration": 9,
    "start_time": "2022-08-24T14:25:53.114Z"
   },
   {
    "duration": 8,
    "start_time": "2022-08-24T14:25:53.747Z"
   },
   {
    "duration": 9,
    "start_time": "2022-08-24T14:25:54.276Z"
   },
   {
    "duration": 7,
    "start_time": "2022-08-24T14:25:54.755Z"
   },
   {
    "duration": 10,
    "start_time": "2022-08-24T14:25:57.646Z"
   },
   {
    "duration": 10,
    "start_time": "2022-08-24T14:25:59.651Z"
   },
   {
    "duration": 1170,
    "start_time": "2022-08-24T15:15:42.921Z"
   },
   {
    "duration": 60,
    "start_time": "2022-08-24T15:15:44.093Z"
   },
   {
    "duration": 14,
    "start_time": "2022-08-24T15:15:44.155Z"
   },
   {
    "duration": 4,
    "start_time": "2022-08-24T15:15:44.171Z"
   },
   {
    "duration": 12,
    "start_time": "2022-08-24T15:15:44.176Z"
   },
   {
    "duration": 3,
    "start_time": "2022-08-24T15:15:44.190Z"
   },
   {
    "duration": 16,
    "start_time": "2022-08-24T15:15:44.195Z"
   },
   {
    "duration": 6,
    "start_time": "2022-08-24T15:15:44.212Z"
   },
   {
    "duration": 6,
    "start_time": "2022-08-24T15:15:44.220Z"
   },
   {
    "duration": 10,
    "start_time": "2022-08-24T15:15:44.228Z"
   },
   {
    "duration": 11,
    "start_time": "2022-08-24T15:15:44.239Z"
   },
   {
    "duration": 5,
    "start_time": "2022-08-24T15:15:44.252Z"
   },
   {
    "duration": 21,
    "start_time": "2022-08-24T15:15:44.258Z"
   },
   {
    "duration": 9,
    "start_time": "2022-08-24T15:15:44.280Z"
   },
   {
    "duration": 10,
    "start_time": "2022-08-24T15:15:44.311Z"
   },
   {
    "duration": 8,
    "start_time": "2022-08-24T15:15:44.322Z"
   },
   {
    "duration": 272,
    "start_time": "2022-08-24T15:15:44.331Z"
   },
   {
    "duration": 20,
    "start_time": "2022-08-24T15:15:44.605Z"
   },
   {
    "duration": 265,
    "start_time": "2022-08-24T15:15:44.627Z"
   },
   {
    "duration": 31,
    "start_time": "2022-08-24T15:15:44.894Z"
   },
   {
    "duration": 160,
    "start_time": "2022-08-24T15:15:44.926Z"
   },
   {
    "duration": 157,
    "start_time": "2022-08-24T15:15:45.087Z"
   },
   {
    "duration": 162,
    "start_time": "2022-08-24T15:15:45.245Z"
   },
   {
    "duration": 7,
    "start_time": "2022-08-24T15:15:45.410Z"
   },
   {
    "duration": 9,
    "start_time": "2022-08-24T15:15:45.418Z"
   },
   {
    "duration": 153,
    "start_time": "2022-08-24T15:15:45.429Z"
   },
   {
    "duration": 147,
    "start_time": "2022-08-24T15:15:45.583Z"
   },
   {
    "duration": 7,
    "start_time": "2022-08-24T15:15:45.733Z"
   },
   {
    "duration": 147,
    "start_time": "2022-08-24T15:15:45.741Z"
   },
   {
    "duration": 149,
    "start_time": "2022-08-24T15:15:45.889Z"
   },
   {
    "duration": 7,
    "start_time": "2022-08-24T15:15:46.040Z"
   },
   {
    "duration": 200,
    "start_time": "2022-08-24T15:15:46.048Z"
   },
   {
    "duration": 135,
    "start_time": "2022-08-24T15:15:46.249Z"
   },
   {
    "duration": 7,
    "start_time": "2022-08-24T15:15:46.386Z"
   },
   {
    "duration": 148,
    "start_time": "2022-08-24T15:15:46.394Z"
   },
   {
    "duration": 141,
    "start_time": "2022-08-24T15:15:46.543Z"
   },
   {
    "duration": 7,
    "start_time": "2022-08-24T15:15:46.686Z"
   },
   {
    "duration": 145,
    "start_time": "2022-08-24T15:15:46.694Z"
   },
   {
    "duration": 146,
    "start_time": "2022-08-24T15:15:46.840Z"
   },
   {
    "duration": 7,
    "start_time": "2022-08-24T15:15:46.988Z"
   },
   {
    "duration": 20,
    "start_time": "2022-08-24T15:15:46.996Z"
   },
   {
    "duration": 8,
    "start_time": "2022-08-24T15:15:47.017Z"
   },
   {
    "duration": 7,
    "start_time": "2022-08-24T15:15:47.026Z"
   },
   {
    "duration": 6,
    "start_time": "2022-08-24T15:15:47.035Z"
   },
   {
    "duration": 4,
    "start_time": "2022-08-24T15:15:47.042Z"
   },
   {
    "duration": 7,
    "start_time": "2022-08-24T15:15:47.047Z"
   },
   {
    "duration": 8,
    "start_time": "2022-08-24T15:15:47.055Z"
   },
   {
    "duration": 7,
    "start_time": "2022-08-24T15:15:47.065Z"
   },
   {
    "duration": 6,
    "start_time": "2022-08-24T15:15:47.074Z"
   },
   {
    "duration": 6,
    "start_time": "2022-08-24T15:15:47.111Z"
   },
   {
    "duration": 7,
    "start_time": "2022-08-24T15:15:47.119Z"
   },
   {
    "duration": 8,
    "start_time": "2022-08-24T15:15:47.127Z"
   },
   {
    "duration": 8,
    "start_time": "2022-08-24T15:15:47.136Z"
   },
   {
    "duration": 14,
    "start_time": "2022-08-24T15:15:47.145Z"
   },
   {
    "duration": 8,
    "start_time": "2022-08-24T15:15:47.160Z"
   },
   {
    "duration": 4,
    "start_time": "2022-08-24T15:18:07.296Z"
   },
   {
    "duration": 21,
    "start_time": "2022-08-24T15:34:42.734Z"
   },
   {
    "duration": 41,
    "start_time": "2022-08-25T03:41:47.475Z"
   },
   {
    "duration": 1166,
    "start_time": "2022-08-25T03:41:56.653Z"
   },
   {
    "duration": 105,
    "start_time": "2022-08-25T03:41:57.820Z"
   },
   {
    "duration": 16,
    "start_time": "2022-08-25T03:41:59.220Z"
   },
   {
    "duration": 5,
    "start_time": "2022-08-25T03:42:02.163Z"
   },
   {
    "duration": 10,
    "start_time": "2022-08-25T03:42:03.309Z"
   },
   {
    "duration": 4,
    "start_time": "2022-08-25T03:42:04.717Z"
   },
   {
    "duration": 4,
    "start_time": "2022-08-25T03:42:05.163Z"
   },
   {
    "duration": 5,
    "start_time": "2022-08-25T03:42:08.347Z"
   },
   {
    "duration": 4,
    "start_time": "2022-08-25T03:42:10.588Z"
   },
   {
    "duration": 3,
    "start_time": "2022-08-25T03:42:11.348Z"
   },
   {
    "duration": 4,
    "start_time": "2022-08-25T03:42:13.248Z"
   },
   {
    "duration": 5,
    "start_time": "2022-08-25T03:44:00.876Z"
   },
   {
    "duration": 100,
    "start_time": "2022-08-25T03:45:48.544Z"
   },
   {
    "duration": 5,
    "start_time": "2022-08-25T03:55:20.335Z"
   },
   {
    "duration": 11,
    "start_time": "2022-08-25T03:55:52.287Z"
   },
   {
    "duration": 4,
    "start_time": "2022-08-25T03:56:05.711Z"
   },
   {
    "duration": 10,
    "start_time": "2022-08-25T04:01:51.130Z"
   },
   {
    "duration": 18,
    "start_time": "2022-08-25T04:01:54.082Z"
   },
   {
    "duration": 14,
    "start_time": "2022-08-25T04:01:55.098Z"
   },
   {
    "duration": 7,
    "start_time": "2022-08-25T04:02:01.070Z"
   },
   {
    "duration": 7,
    "start_time": "2022-08-25T04:02:03.707Z"
   },
   {
    "duration": 7,
    "start_time": "2022-08-25T04:02:04.335Z"
   },
   {
    "duration": 323,
    "start_time": "2022-08-25T04:02:05.401Z"
   },
   {
    "duration": 23,
    "start_time": "2022-08-25T04:02:14.808Z"
   },
   {
    "duration": 281,
    "start_time": "2022-08-25T04:02:38.996Z"
   },
   {
    "duration": 25,
    "start_time": "2022-08-25T04:03:10.176Z"
   },
   {
    "duration": 197,
    "start_time": "2022-08-25T04:03:14.443Z"
   },
   {
    "duration": 163,
    "start_time": "2022-08-25T04:04:27.650Z"
   },
   {
    "duration": 172,
    "start_time": "2022-08-25T04:04:34.464Z"
   },
   {
    "duration": 139,
    "start_time": "2022-08-25T04:04:40.372Z"
   },
   {
    "duration": 145,
    "start_time": "2022-08-25T04:04:46.904Z"
   },
   {
    "duration": 25,
    "start_time": "2022-08-25T04:09:33.435Z"
   },
   {
    "duration": 182,
    "start_time": "2022-08-25T04:09:45.250Z"
   },
   {
    "duration": 23,
    "start_time": "2022-08-25T04:10:00.700Z"
   },
   {
    "duration": 200,
    "start_time": "2022-08-25T04:10:05.429Z"
   },
   {
    "duration": 288,
    "start_time": "2022-08-25T04:12:46.060Z"
   },
   {
    "duration": 223,
    "start_time": "2022-08-25T04:12:54.338Z"
   },
   {
    "duration": 10,
    "start_time": "2022-08-25T04:48:15.502Z"
   },
   {
    "duration": 8,
    "start_time": "2022-08-25T04:48:29.724Z"
   },
   {
    "duration": 811,
    "start_time": "2022-08-25T04:52:50.351Z"
   },
   {
    "duration": 14,
    "start_time": "2022-08-25T04:53:33.512Z"
   },
   {
    "duration": 53,
    "start_time": "2022-08-25T04:55:00.376Z"
   },
   {
    "duration": 6,
    "start_time": "2022-08-25T04:55:07.328Z"
   },
   {
    "duration": 5,
    "start_time": "2022-08-25T04:55:22.650Z"
   },
   {
    "duration": 8,
    "start_time": "2022-08-25T04:56:37.360Z"
   },
   {
    "duration": 8,
    "start_time": "2022-08-25T04:58:50.996Z"
   },
   {
    "duration": 9,
    "start_time": "2022-08-25T05:01:06.877Z"
   },
   {
    "duration": 48,
    "start_time": "2022-08-25T05:02:52.803Z"
   },
   {
    "duration": 56,
    "start_time": "2022-08-25T05:03:14.620Z"
   },
   {
    "duration": 45,
    "start_time": "2022-08-25T05:03:20.668Z"
   },
   {
    "duration": 9,
    "start_time": "2022-08-25T05:04:12.544Z"
   },
   {
    "duration": 8,
    "start_time": "2022-08-25T05:04:16.301Z"
   },
   {
    "duration": 147,
    "start_time": "2022-08-25T05:04:20.315Z"
   },
   {
    "duration": 139,
    "start_time": "2022-08-25T05:04:21.715Z"
   },
   {
    "duration": 8,
    "start_time": "2022-08-25T05:04:22.803Z"
   },
   {
    "duration": 128,
    "start_time": "2022-08-25T05:04:23.357Z"
   },
   {
    "duration": 142,
    "start_time": "2022-08-25T05:04:23.885Z"
   },
   {
    "duration": 9,
    "start_time": "2022-08-25T05:04:24.804Z"
   },
   {
    "duration": 131,
    "start_time": "2022-08-25T05:04:25.620Z"
   },
   {
    "duration": 141,
    "start_time": "2022-08-25T05:04:28.917Z"
   },
   {
    "duration": 8,
    "start_time": "2022-08-25T05:04:29.852Z"
   },
   {
    "duration": 162,
    "start_time": "2022-08-25T05:04:30.603Z"
   },
   {
    "duration": 143,
    "start_time": "2022-08-25T05:04:31.700Z"
   },
   {
    "duration": 8,
    "start_time": "2022-08-25T05:04:32.708Z"
   },
   {
    "duration": 140,
    "start_time": "2022-08-25T05:04:33.907Z"
   },
   {
    "duration": 226,
    "start_time": "2022-08-25T05:04:35.277Z"
   },
   {
    "duration": 9,
    "start_time": "2022-08-25T05:04:36.524Z"
   },
   {
    "duration": 9,
    "start_time": "2022-08-25T05:05:14.563Z"
   },
   {
    "duration": 7,
    "start_time": "2022-08-25T05:08:23.698Z"
   },
   {
    "duration": 8,
    "start_time": "2022-08-25T05:09:27.503Z"
   },
   {
    "duration": 143,
    "start_time": "2022-08-25T05:10:28.457Z"
   },
   {
    "duration": 144,
    "start_time": "2022-08-25T05:10:59.410Z"
   },
   {
    "duration": 8,
    "start_time": "2022-08-25T05:14:46.531Z"
   },
   {
    "duration": 9,
    "start_time": "2022-08-25T05:16:16.760Z"
   },
   {
    "duration": 149,
    "start_time": "2022-08-25T05:17:25.963Z"
   },
   {
    "duration": 148,
    "start_time": "2022-08-25T05:18:18.899Z"
   },
   {
    "duration": 125,
    "start_time": "2022-08-25T05:22:21.493Z"
   },
   {
    "duration": 137,
    "start_time": "2022-08-25T05:22:30.520Z"
   },
   {
    "duration": 8,
    "start_time": "2022-08-25T05:24:26.061Z"
   },
   {
    "duration": 127,
    "start_time": "2022-08-25T05:25:42.268Z"
   },
   {
    "duration": 129,
    "start_time": "2022-08-25T05:26:30.925Z"
   },
   {
    "duration": 9,
    "start_time": "2022-08-25T05:44:59.270Z"
   },
   {
    "duration": 149,
    "start_time": "2022-08-25T05:45:53.119Z"
   },
   {
    "duration": 133,
    "start_time": "2022-08-25T05:46:20.250Z"
   },
   {
    "duration": 19,
    "start_time": "2022-08-25T05:50:45.585Z"
   },
   {
    "duration": 261,
    "start_time": "2022-08-25T05:51:15.054Z"
   },
   {
    "duration": 166,
    "start_time": "2022-08-25T05:51:25.768Z"
   },
   {
    "duration": 169,
    "start_time": "2022-08-25T05:51:36.064Z"
   },
   {
    "duration": 9,
    "start_time": "2022-08-25T05:51:40.567Z"
   },
   {
    "duration": 171,
    "start_time": "2022-08-25T05:51:48.573Z"
   },
   {
    "duration": 171,
    "start_time": "2022-08-25T05:51:49.120Z"
   },
   {
    "duration": 9,
    "start_time": "2022-08-25T05:51:50.272Z"
   },
   {
    "duration": 160,
    "start_time": "2022-08-25T05:52:00.520Z"
   },
   {
    "duration": 163,
    "start_time": "2022-08-25T05:52:01.646Z"
   },
   {
    "duration": 9,
    "start_time": "2022-08-25T05:52:03.358Z"
   },
   {
    "duration": 155,
    "start_time": "2022-08-25T05:52:11.566Z"
   },
   {
    "duration": 167,
    "start_time": "2022-08-25T05:52:13.030Z"
   },
   {
    "duration": 9,
    "start_time": "2022-08-25T05:52:14.216Z"
   },
   {
    "duration": 9,
    "start_time": "2022-08-25T06:02:57.994Z"
   },
   {
    "duration": 12,
    "start_time": "2022-08-25T06:03:06.994Z"
   },
   {
    "duration": 11,
    "start_time": "2022-08-25T06:09:47.133Z"
   },
   {
    "duration": 9,
    "start_time": "2022-08-25T06:09:56.309Z"
   },
   {
    "duration": 17,
    "start_time": "2022-08-25T06:10:17.934Z"
   },
   {
    "duration": 11,
    "start_time": "2022-08-25T06:11:02.286Z"
   },
   {
    "duration": 12,
    "start_time": "2022-08-25T06:12:37.848Z"
   },
   {
    "duration": 12,
    "start_time": "2022-08-25T06:12:47.055Z"
   },
   {
    "duration": 10,
    "start_time": "2022-08-25T06:12:51.863Z"
   },
   {
    "duration": 11,
    "start_time": "2022-08-25T06:13:00.429Z"
   },
   {
    "duration": 17,
    "start_time": "2022-08-25T06:13:05.771Z"
   },
   {
    "duration": 19,
    "start_time": "2022-08-25T06:13:26.647Z"
   },
   {
    "duration": 50,
    "start_time": "2022-08-25T06:28:08.424Z"
   },
   {
    "duration": 5,
    "start_time": "2022-08-25T06:28:26.728Z"
   },
   {
    "duration": 10,
    "start_time": "2022-08-25T06:28:44.673Z"
   },
   {
    "duration": 7,
    "start_time": "2022-08-25T06:31:21.858Z"
   },
   {
    "duration": 7,
    "start_time": "2022-08-25T06:33:29.747Z"
   },
   {
    "duration": 8,
    "start_time": "2022-08-25T06:37:28.098Z"
   },
   {
    "duration": 13,
    "start_time": "2022-08-25T06:40:21.818Z"
   },
   {
    "duration": 9,
    "start_time": "2022-08-25T06:40:34.348Z"
   },
   {
    "duration": 8,
    "start_time": "2022-08-25T06:44:20.749Z"
   },
   {
    "duration": 8,
    "start_time": "2022-08-25T06:44:43.652Z"
   },
   {
    "duration": 7,
    "start_time": "2022-08-25T06:46:17.655Z"
   },
   {
    "duration": 10,
    "start_time": "2022-08-25T06:47:03.652Z"
   },
   {
    "duration": 1342,
    "start_time": "2022-08-25T10:21:44.939Z"
   },
   {
    "duration": 202,
    "start_time": "2022-08-25T10:21:47.030Z"
   },
   {
    "duration": 17,
    "start_time": "2022-08-25T10:21:48.225Z"
   },
   {
    "duration": 5,
    "start_time": "2022-08-25T10:21:52.927Z"
   },
   {
    "duration": 9,
    "start_time": "2022-08-25T10:21:54.255Z"
   },
   {
    "duration": 8,
    "start_time": "2022-08-25T10:21:55.567Z"
   },
   {
    "duration": 4,
    "start_time": "2022-08-25T10:21:56.083Z"
   },
   {
    "duration": 6,
    "start_time": "2022-08-25T10:22:07.800Z"
   },
   {
    "duration": 5,
    "start_time": "2022-08-25T10:22:22.784Z"
   },
   {
    "duration": 6,
    "start_time": "2022-08-25T10:22:23.439Z"
   },
   {
    "duration": 5,
    "start_time": "2022-08-25T10:22:26.726Z"
   },
   {
    "duration": 5,
    "start_time": "2022-08-25T10:22:28.680Z"
   },
   {
    "duration": 12,
    "start_time": "2022-08-25T10:22:40.931Z"
   },
   {
    "duration": 7,
    "start_time": "2022-08-25T10:22:43.766Z"
   },
   {
    "duration": 15,
    "start_time": "2022-08-25T10:22:44.339Z"
   },
   {
    "duration": 7,
    "start_time": "2022-08-25T10:22:47.456Z"
   },
   {
    "duration": 8,
    "start_time": "2022-08-25T10:22:50.835Z"
   },
   {
    "duration": 7,
    "start_time": "2022-08-25T10:22:52.304Z"
   },
   {
    "duration": 304,
    "start_time": "2022-08-25T10:22:53.233Z"
   },
   {
    "duration": 21,
    "start_time": "2022-08-25T10:22:58.329Z"
   },
   {
    "duration": 319,
    "start_time": "2022-08-25T10:23:00.730Z"
   },
   {
    "duration": 34,
    "start_time": "2022-08-25T10:23:40.042Z"
   },
   {
    "duration": 207,
    "start_time": "2022-08-25T10:23:41.941Z"
   },
   {
    "duration": 202,
    "start_time": "2022-08-25T10:23:45.854Z"
   },
   {
    "duration": 200,
    "start_time": "2022-08-25T10:32:57.233Z"
   },
   {
    "duration": 200,
    "start_time": "2022-08-25T10:32:57.740Z"
   },
   {
    "duration": 14,
    "start_time": "2022-08-25T10:32:58.887Z"
   },
   {
    "duration": 11,
    "start_time": "2022-08-25T10:33:10.492Z"
   },
   {
    "duration": 170,
    "start_time": "2022-08-25T10:33:12.106Z"
   },
   {
    "duration": 160,
    "start_time": "2022-08-25T10:33:12.695Z"
   },
   {
    "duration": 122,
    "start_time": "2022-08-25T10:33:13.130Z"
   },
   {
    "duration": 197,
    "start_time": "2022-08-25T10:33:13.665Z"
   },
   {
    "duration": 280,
    "start_time": "2022-08-25T10:33:14.242Z"
   },
   {
    "duration": 9,
    "start_time": "2022-08-25T10:33:14.825Z"
   },
   {
    "duration": 186,
    "start_time": "2022-08-25T10:33:15.397Z"
   },
   {
    "duration": 170,
    "start_time": "2022-08-25T10:33:15.932Z"
   },
   {
    "duration": 12,
    "start_time": "2022-08-25T10:33:16.489Z"
   },
   {
    "duration": 174,
    "start_time": "2022-08-25T10:33:17.049Z"
   },
   {
    "duration": 168,
    "start_time": "2022-08-25T10:33:17.546Z"
   },
   {
    "duration": 12,
    "start_time": "2022-08-25T10:33:18.693Z"
   },
   {
    "duration": 10,
    "start_time": "2022-08-25T10:33:26.929Z"
   },
   {
    "duration": 39,
    "start_time": "2022-08-25T10:33:51.563Z"
   },
   {
    "duration": 4,
    "start_time": "2022-08-25T10:45:50.455Z"
   },
   {
    "duration": 5,
    "start_time": "2022-08-25T10:46:00.696Z"
   },
   {
    "duration": 10,
    "start_time": "2022-08-25T10:46:11.564Z"
   },
   {
    "duration": 8,
    "start_time": "2022-08-25T10:46:52.106Z"
   },
   {
    "duration": 8,
    "start_time": "2022-08-25T10:48:08.749Z"
   },
   {
    "duration": 112,
    "start_time": "2022-08-25T10:49:49.388Z"
   },
   {
    "duration": 8,
    "start_time": "2022-08-25T10:50:22.206Z"
   },
   {
    "duration": 10,
    "start_time": "2022-08-25T10:50:39.495Z"
   },
   {
    "duration": 9,
    "start_time": "2022-08-25T10:50:57.093Z"
   },
   {
    "duration": 10,
    "start_time": "2022-08-25T10:50:59.802Z"
   },
   {
    "duration": 11,
    "start_time": "2022-08-25T10:51:12.593Z"
   },
   {
    "duration": 6,
    "start_time": "2022-08-25T10:51:16.000Z"
   },
   {
    "duration": 6,
    "start_time": "2022-08-25T10:51:30.311Z"
   },
   {
    "duration": 6,
    "start_time": "2022-08-25T10:51:31.253Z"
   },
   {
    "duration": 9,
    "start_time": "2022-08-25T10:53:16.903Z"
   },
   {
    "duration": 15,
    "start_time": "2022-08-25T10:53:50.262Z"
   },
   {
    "duration": 8,
    "start_time": "2022-08-25T10:54:01.123Z"
   },
   {
    "duration": 9,
    "start_time": "2022-08-25T10:54:14.767Z"
   },
   {
    "duration": 16,
    "start_time": "2022-08-25T11:04:52.596Z"
   },
   {
    "duration": 13,
    "start_time": "2022-08-25T11:08:50.590Z"
   },
   {
    "duration": 1183,
    "start_time": "2022-08-26T07:36:39.625Z"
   },
   {
    "duration": 64,
    "start_time": "2022-08-26T07:36:40.810Z"
   },
   {
    "duration": 20,
    "start_time": "2022-08-26T07:36:40.877Z"
   },
   {
    "duration": 5,
    "start_time": "2022-08-26T07:36:40.899Z"
   },
   {
    "duration": 13,
    "start_time": "2022-08-26T07:36:40.905Z"
   },
   {
    "duration": 5,
    "start_time": "2022-08-26T07:36:40.919Z"
   },
   {
    "duration": 7,
    "start_time": "2022-08-26T07:36:40.926Z"
   },
   {
    "duration": 5,
    "start_time": "2022-08-26T07:36:40.934Z"
   },
   {
    "duration": 31,
    "start_time": "2022-08-26T07:36:40.941Z"
   },
   {
    "duration": 12,
    "start_time": "2022-08-26T07:36:40.976Z"
   },
   {
    "duration": 7,
    "start_time": "2022-08-26T07:36:40.989Z"
   },
   {
    "duration": 8,
    "start_time": "2022-08-26T07:36:40.998Z"
   },
   {
    "duration": 10,
    "start_time": "2022-08-26T07:36:41.008Z"
   },
   {
    "duration": 3,
    "start_time": "2022-08-26T07:36:41.020Z"
   },
   {
    "duration": 15,
    "start_time": "2022-08-26T07:36:41.025Z"
   },
   {
    "duration": 27,
    "start_time": "2022-08-26T07:36:41.042Z"
   },
   {
    "duration": 11,
    "start_time": "2022-08-26T07:36:41.070Z"
   },
   {
    "duration": 10,
    "start_time": "2022-08-26T07:36:41.083Z"
   },
   {
    "duration": 315,
    "start_time": "2022-08-26T07:36:41.094Z"
   },
   {
    "duration": 23,
    "start_time": "2022-08-26T07:36:41.410Z"
   },
   {
    "duration": 309,
    "start_time": "2022-08-26T07:36:41.434Z"
   },
   {
    "duration": 36,
    "start_time": "2022-08-26T07:36:41.745Z"
   },
   {
    "duration": 203,
    "start_time": "2022-08-26T07:36:41.783Z"
   },
   {
    "duration": 215,
    "start_time": "2022-08-26T07:36:41.988Z"
   },
   {
    "duration": 192,
    "start_time": "2022-08-26T07:36:42.204Z"
   },
   {
    "duration": 192,
    "start_time": "2022-08-26T07:36:42.397Z"
   },
   {
    "duration": 11,
    "start_time": "2022-08-26T07:36:42.590Z"
   },
   {
    "duration": 13,
    "start_time": "2022-08-26T07:36:42.605Z"
   },
   {
    "duration": 151,
    "start_time": "2022-08-26T07:36:42.620Z"
   },
   {
    "duration": 146,
    "start_time": "2022-08-26T07:36:42.772Z"
   },
   {
    "duration": 109,
    "start_time": "2022-08-26T07:36:42.920Z"
   },
   {
    "duration": 0,
    "start_time": "2022-08-26T07:36:43.030Z"
   },
   {
    "duration": 0,
    "start_time": "2022-08-26T07:36:43.032Z"
   },
   {
    "duration": 0,
    "start_time": "2022-08-26T07:36:43.033Z"
   },
   {
    "duration": 0,
    "start_time": "2022-08-26T07:36:43.034Z"
   },
   {
    "duration": 0,
    "start_time": "2022-08-26T07:36:43.034Z"
   },
   {
    "duration": 1,
    "start_time": "2022-08-26T07:36:43.035Z"
   },
   {
    "duration": 0,
    "start_time": "2022-08-26T07:36:43.036Z"
   },
   {
    "duration": 0,
    "start_time": "2022-08-26T07:36:43.037Z"
   },
   {
    "duration": 0,
    "start_time": "2022-08-26T07:36:43.038Z"
   },
   {
    "duration": 0,
    "start_time": "2022-08-26T07:36:43.039Z"
   },
   {
    "duration": 0,
    "start_time": "2022-08-26T07:36:43.041Z"
   },
   {
    "duration": 0,
    "start_time": "2022-08-26T07:36:43.042Z"
   },
   {
    "duration": 0,
    "start_time": "2022-08-26T07:36:43.042Z"
   },
   {
    "duration": 0,
    "start_time": "2022-08-26T07:36:43.068Z"
   },
   {
    "duration": 0,
    "start_time": "2022-08-26T07:36:43.069Z"
   },
   {
    "duration": 0,
    "start_time": "2022-08-26T07:36:43.070Z"
   },
   {
    "duration": 0,
    "start_time": "2022-08-26T07:36:43.071Z"
   },
   {
    "duration": 0,
    "start_time": "2022-08-26T07:36:43.072Z"
   },
   {
    "duration": 0,
    "start_time": "2022-08-26T07:36:43.075Z"
   },
   {
    "duration": 0,
    "start_time": "2022-08-26T07:36:43.077Z"
   },
   {
    "duration": 0,
    "start_time": "2022-08-26T07:36:43.078Z"
   },
   {
    "duration": 0,
    "start_time": "2022-08-26T07:36:43.080Z"
   },
   {
    "duration": 0,
    "start_time": "2022-08-26T07:36:43.081Z"
   },
   {
    "duration": 0,
    "start_time": "2022-08-26T07:36:43.081Z"
   },
   {
    "duration": 0,
    "start_time": "2022-08-26T07:36:43.084Z"
   },
   {
    "duration": 0,
    "start_time": "2022-08-26T07:36:43.085Z"
   },
   {
    "duration": 0,
    "start_time": "2022-08-26T07:36:43.086Z"
   },
   {
    "duration": 172,
    "start_time": "2022-08-26T07:36:59.212Z"
   },
   {
    "duration": 254,
    "start_time": "2022-08-26T07:36:59.386Z"
   },
   {
    "duration": 10,
    "start_time": "2022-08-26T07:36:59.641Z"
   },
   {
    "duration": 163,
    "start_time": "2022-08-26T07:36:59.673Z"
   },
   {
    "duration": 173,
    "start_time": "2022-08-26T07:36:59.838Z"
   },
   {
    "duration": 11,
    "start_time": "2022-08-26T07:37:00.013Z"
   },
   {
    "duration": 187,
    "start_time": "2022-08-26T07:37:00.025Z"
   },
   {
    "duration": 183,
    "start_time": "2022-08-26T07:37:00.214Z"
   },
   {
    "duration": 11,
    "start_time": "2022-08-26T07:37:00.398Z"
   },
   {
    "duration": 11,
    "start_time": "2022-08-26T07:37:00.412Z"
   },
   {
    "duration": 47,
    "start_time": "2022-08-26T07:37:00.425Z"
   },
   {
    "duration": 10,
    "start_time": "2022-08-26T07:37:00.474Z"
   },
   {
    "duration": 14,
    "start_time": "2022-08-26T07:37:00.486Z"
   },
   {
    "duration": 17,
    "start_time": "2022-08-26T07:37:00.502Z"
   },
   {
    "duration": 15,
    "start_time": "2022-08-26T07:37:00.521Z"
   },
   {
    "duration": 8,
    "start_time": "2022-08-26T07:37:00.538Z"
   },
   {
    "duration": 27,
    "start_time": "2022-08-26T07:37:00.548Z"
   },
   {
    "duration": 16,
    "start_time": "2022-08-26T07:37:00.579Z"
   },
   {
    "duration": 8,
    "start_time": "2022-08-26T07:37:00.597Z"
   },
   {
    "duration": 11,
    "start_time": "2022-08-26T07:37:00.607Z"
   },
   {
    "duration": 10,
    "start_time": "2022-08-26T07:37:00.620Z"
   },
   {
    "duration": 13,
    "start_time": "2022-08-26T07:37:00.632Z"
   },
   {
    "duration": 29,
    "start_time": "2022-08-26T07:37:00.647Z"
   },
   {
    "duration": 19,
    "start_time": "2022-08-26T07:37:00.678Z"
   },
   {
    "duration": 13,
    "start_time": "2022-08-26T07:37:00.699Z"
   },
   {
    "duration": 0,
    "start_time": "2022-08-26T07:37:00.713Z"
   },
   {
    "duration": 0,
    "start_time": "2022-08-26T07:37:00.714Z"
   },
   {
    "duration": 4,
    "start_time": "2022-08-26T07:40:34.179Z"
   },
   {
    "duration": 64,
    "start_time": "2022-08-26T07:40:34.185Z"
   },
   {
    "duration": 15,
    "start_time": "2022-08-26T07:40:34.250Z"
   },
   {
    "duration": 13,
    "start_time": "2022-08-26T07:40:34.267Z"
   },
   {
    "duration": 11,
    "start_time": "2022-08-26T07:40:34.283Z"
   },
   {
    "duration": 10,
    "start_time": "2022-08-26T07:40:34.296Z"
   },
   {
    "duration": 5,
    "start_time": "2022-08-26T07:40:34.308Z"
   },
   {
    "duration": 7,
    "start_time": "2022-08-26T07:40:44.016Z"
   },
   {
    "duration": 6,
    "start_time": "2022-08-26T07:49:51.501Z"
   },
   {
    "duration": 49,
    "start_time": "2022-08-26T10:28:36.952Z"
   },
   {
    "duration": 1258,
    "start_time": "2022-08-26T10:28:51.125Z"
   },
   {
    "duration": 119,
    "start_time": "2022-08-26T10:28:53.130Z"
   },
   {
    "duration": 17,
    "start_time": "2022-08-26T10:28:53.928Z"
   },
   {
    "duration": 6,
    "start_time": "2022-08-26T10:28:57.355Z"
   },
   {
    "duration": 10,
    "start_time": "2022-08-26T10:28:59.149Z"
   },
   {
    "duration": 5,
    "start_time": "2022-08-26T10:29:01.227Z"
   },
   {
    "duration": 4,
    "start_time": "2022-08-26T10:29:01.741Z"
   },
   {
    "duration": 4,
    "start_time": "2022-08-26T10:29:09.757Z"
   },
   {
    "duration": 5,
    "start_time": "2022-08-26T10:31:01.225Z"
   },
   {
    "duration": 4,
    "start_time": "2022-08-26T10:31:01.981Z"
   },
   {
    "duration": 5,
    "start_time": "2022-08-26T10:31:04.467Z"
   },
   {
    "duration": 10,
    "start_time": "2022-08-26T10:31:08.215Z"
   },
   {
    "duration": 9,
    "start_time": "2022-08-26T10:31:16.636Z"
   },
   {
    "duration": 5,
    "start_time": "2022-08-26T10:31:21.227Z"
   },
   {
    "duration": 15,
    "start_time": "2022-08-26T10:31:21.843Z"
   },
   {
    "duration": 8,
    "start_time": "2022-08-26T10:31:27.259Z"
   },
   {
    "duration": 9,
    "start_time": "2022-08-26T10:31:30.787Z"
   },
   {
    "duration": 8,
    "start_time": "2022-08-26T10:31:31.777Z"
   },
   {
    "duration": 285,
    "start_time": "2022-08-26T10:31:33.714Z"
   },
   {
    "duration": 20,
    "start_time": "2022-08-26T10:31:43.643Z"
   },
   {
    "duration": 272,
    "start_time": "2022-08-26T10:31:45.687Z"
   },
   {
    "duration": 21,
    "start_time": "2022-08-26T10:31:50.252Z"
   },
   {
    "duration": 184,
    "start_time": "2022-08-26T10:31:51.071Z"
   },
   {
    "duration": 177,
    "start_time": "2022-08-26T10:31:53.523Z"
   },
   {
    "duration": 154,
    "start_time": "2022-08-26T10:32:07.625Z"
   },
   {
    "duration": 168,
    "start_time": "2022-08-26T10:32:08.757Z"
   },
   {
    "duration": 10,
    "start_time": "2022-08-26T10:32:09.870Z"
   },
   {
    "duration": 7,
    "start_time": "2022-08-26T10:33:57.328Z"
   },
   {
    "duration": 147,
    "start_time": "2022-08-26T10:33:59.167Z"
   },
   {
    "duration": 124,
    "start_time": "2022-08-26T10:34:00.636Z"
   },
   {
    "duration": 70,
    "start_time": "2022-08-26T10:34:04.853Z"
   },
   {
    "duration": 9,
    "start_time": "2022-08-26T10:34:37.766Z"
   },
   {
    "duration": 133,
    "start_time": "2022-08-26T10:35:54.963Z"
   },
   {
    "duration": 208,
    "start_time": "2022-08-26T10:35:56.072Z"
   },
   {
    "duration": 10,
    "start_time": "2022-08-26T10:35:57.227Z"
   },
   {
    "duration": 134,
    "start_time": "2022-08-26T10:35:58.775Z"
   },
   {
    "duration": 128,
    "start_time": "2022-08-26T10:35:59.725Z"
   },
   {
    "duration": 9,
    "start_time": "2022-08-26T10:36:00.336Z"
   },
   {
    "duration": 127,
    "start_time": "2022-08-26T10:36:00.926Z"
   },
   {
    "duration": 142,
    "start_time": "2022-08-26T10:36:01.784Z"
   },
   {
    "duration": 16,
    "start_time": "2022-08-26T10:36:03.809Z"
   },
   {
    "duration": 11,
    "start_time": "2022-08-26T10:36:11.116Z"
   },
   {
    "duration": 20,
    "start_time": "2022-08-26T10:36:12.565Z"
   },
   {
    "duration": 7,
    "start_time": "2022-08-26T10:36:26.143Z"
   },
   {
    "duration": 6,
    "start_time": "2022-08-26T10:36:26.846Z"
   },
   {
    "duration": 5,
    "start_time": "2022-08-26T10:36:28.286Z"
   },
   {
    "duration": 7,
    "start_time": "2022-08-26T10:44:23.881Z"
   },
   {
    "duration": 9,
    "start_time": "2022-08-26T10:45:38.537Z"
   },
   {
    "duration": 15,
    "start_time": "2022-08-26T10:59:52.437Z"
   },
   {
    "duration": 25,
    "start_time": "2022-08-26T11:00:04.304Z"
   },
   {
    "duration": 14,
    "start_time": "2022-08-26T11:00:47.759Z"
   },
   {
    "duration": 13,
    "start_time": "2022-08-26T11:01:30.607Z"
   },
   {
    "duration": 5,
    "start_time": "2022-08-26T11:04:58.327Z"
   },
   {
    "duration": 6,
    "start_time": "2022-08-26T11:05:05.354Z"
   },
   {
    "duration": 6,
    "start_time": "2022-08-26T11:05:57.862Z"
   },
   {
    "duration": 14,
    "start_time": "2022-08-26T11:06:47.411Z"
   },
   {
    "duration": 9,
    "start_time": "2022-08-26T11:09:58.527Z"
   },
   {
    "duration": 15,
    "start_time": "2022-08-26T11:11:49.111Z"
   },
   {
    "duration": 100,
    "start_time": "2022-08-26T11:13:00.090Z"
   },
   {
    "duration": 45,
    "start_time": "2022-08-26T11:13:18.330Z"
   },
   {
    "duration": 59,
    "start_time": "2022-08-26T11:13:35.726Z"
   },
   {
    "duration": 10,
    "start_time": "2022-08-26T11:14:28.489Z"
   },
   {
    "duration": 11,
    "start_time": "2022-08-26T11:16:24.090Z"
   },
   {
    "duration": 9,
    "start_time": "2022-08-26T11:17:39.370Z"
   },
   {
    "duration": 8,
    "start_time": "2022-08-26T11:18:36.777Z"
   },
   {
    "duration": 5,
    "start_time": "2022-08-26T11:23:59.827Z"
   },
   {
    "duration": 6,
    "start_time": "2022-08-26T11:24:01.857Z"
   },
   {
    "duration": 6,
    "start_time": "2022-08-26T11:24:07.991Z"
   },
   {
    "duration": 9,
    "start_time": "2022-08-26T11:25:41.244Z"
   },
   {
    "duration": 8,
    "start_time": "2022-08-26T11:26:23.861Z"
   },
   {
    "duration": 8,
    "start_time": "2022-08-26T11:27:55.528Z"
   },
   {
    "duration": 5,
    "start_time": "2022-08-26T11:28:07.668Z"
   },
   {
    "duration": 8,
    "start_time": "2022-08-26T11:32:44.299Z"
   },
   {
    "duration": 5,
    "start_time": "2022-08-26T11:32:45.638Z"
   },
   {
    "duration": 6,
    "start_time": "2022-08-26T11:34:49.942Z"
   },
   {
    "duration": 13,
    "start_time": "2022-08-26T11:36:26.359Z"
   },
   {
    "duration": 21,
    "start_time": "2022-08-26T11:37:33.303Z"
   },
   {
    "duration": 1408,
    "start_time": "2022-08-26T11:39:03.528Z"
   },
   {
    "duration": 1145,
    "start_time": "2022-08-26T11:39:12.451Z"
   },
   {
    "duration": 7,
    "start_time": "2022-08-26T11:39:26.426Z"
   },
   {
    "duration": 7,
    "start_time": "2022-08-26T11:39:52.183Z"
   },
   {
    "duration": 15,
    "start_time": "2022-08-26T11:42:01.806Z"
   },
   {
    "duration": 840,
    "start_time": "2022-08-26T11:43:08.328Z"
   },
   {
    "duration": 7,
    "start_time": "2022-08-26T11:43:53.962Z"
   },
   {
    "duration": 7,
    "start_time": "2022-08-26T11:44:13.046Z"
   },
   {
    "duration": 7,
    "start_time": "2022-08-26T11:59:25.356Z"
   },
   {
    "duration": 6,
    "start_time": "2022-08-26T11:59:26.162Z"
   },
   {
    "duration": 7,
    "start_time": "2022-08-26T11:59:26.985Z"
   },
   {
    "duration": 13,
    "start_time": "2022-08-26T11:59:46.008Z"
   },
   {
    "duration": 8,
    "start_time": "2022-08-26T11:59:48.258Z"
   },
   {
    "duration": 1105,
    "start_time": "2022-08-26T14:49:18.764Z"
   },
   {
    "duration": 64,
    "start_time": "2022-08-26T14:49:19.871Z"
   },
   {
    "duration": 17,
    "start_time": "2022-08-26T14:49:19.936Z"
   },
   {
    "duration": 7,
    "start_time": "2022-08-26T14:49:19.954Z"
   },
   {
    "duration": 19,
    "start_time": "2022-08-26T14:49:19.963Z"
   },
   {
    "duration": 14,
    "start_time": "2022-08-26T14:49:19.983Z"
   },
   {
    "duration": 27,
    "start_time": "2022-08-26T14:49:19.999Z"
   },
   {
    "duration": 9,
    "start_time": "2022-08-26T14:49:20.028Z"
   },
   {
    "duration": 9,
    "start_time": "2022-08-26T14:49:20.039Z"
   },
   {
    "duration": 9,
    "start_time": "2022-08-26T14:49:20.050Z"
   },
   {
    "duration": 14,
    "start_time": "2022-08-26T14:49:20.060Z"
   },
   {
    "duration": 9,
    "start_time": "2022-08-26T14:49:20.075Z"
   },
   {
    "duration": 27,
    "start_time": "2022-08-26T14:49:20.085Z"
   },
   {
    "duration": 42,
    "start_time": "2022-08-26T14:49:20.113Z"
   },
   {
    "duration": 16,
    "start_time": "2022-08-26T14:49:20.157Z"
   },
   {
    "duration": 7,
    "start_time": "2022-08-26T14:49:20.175Z"
   },
   {
    "duration": 11,
    "start_time": "2022-08-26T14:49:20.183Z"
   },
   {
    "duration": 7,
    "start_time": "2022-08-26T14:49:20.195Z"
   },
   {
    "duration": 273,
    "start_time": "2022-08-26T14:49:20.204Z"
   },
   {
    "duration": 21,
    "start_time": "2022-08-26T14:49:20.479Z"
   },
   {
    "duration": 269,
    "start_time": "2022-08-26T14:49:20.502Z"
   },
   {
    "duration": 23,
    "start_time": "2022-08-26T14:49:20.773Z"
   },
   {
    "duration": 211,
    "start_time": "2022-08-26T14:49:20.797Z"
   },
   {
    "duration": 184,
    "start_time": "2022-08-26T14:49:21.010Z"
   },
   {
    "duration": 163,
    "start_time": "2022-08-26T14:49:21.196Z"
   },
   {
    "duration": 161,
    "start_time": "2022-08-26T14:49:21.361Z"
   },
   {
    "duration": 15,
    "start_time": "2022-08-26T14:49:21.524Z"
   },
   {
    "duration": 6,
    "start_time": "2022-08-26T14:49:21.543Z"
   },
   {
    "duration": 131,
    "start_time": "2022-08-26T14:49:21.550Z"
   },
   {
    "duration": 144,
    "start_time": "2022-08-26T14:49:21.683Z"
   },
   {
    "duration": 14,
    "start_time": "2022-08-26T14:49:21.828Z"
   },
   {
    "duration": 136,
    "start_time": "2022-08-26T14:49:21.844Z"
   },
   {
    "duration": 205,
    "start_time": "2022-08-26T14:49:21.982Z"
   },
   {
    "duration": 9,
    "start_time": "2022-08-26T14:49:22.188Z"
   },
   {
    "duration": 144,
    "start_time": "2022-08-26T14:49:22.198Z"
   },
   {
    "duration": 137,
    "start_time": "2022-08-26T14:49:22.344Z"
   },
   {
    "duration": 8,
    "start_time": "2022-08-26T14:49:22.482Z"
   },
   {
    "duration": 146,
    "start_time": "2022-08-26T14:49:22.492Z"
   },
   {
    "duration": 161,
    "start_time": "2022-08-26T14:49:22.640Z"
   },
   {
    "duration": 10,
    "start_time": "2022-08-26T14:49:22.803Z"
   },
   {
    "duration": 8,
    "start_time": "2022-08-26T14:49:22.814Z"
   },
   {
    "duration": 35,
    "start_time": "2022-08-26T14:49:22.823Z"
   },
   {
    "duration": 9,
    "start_time": "2022-08-26T14:49:22.860Z"
   },
   {
    "duration": 32,
    "start_time": "2022-08-26T14:49:22.870Z"
   },
   {
    "duration": 9,
    "start_time": "2022-08-26T14:49:22.903Z"
   },
   {
    "duration": 7,
    "start_time": "2022-08-26T14:49:22.914Z"
   },
   {
    "duration": 22,
    "start_time": "2022-08-26T14:49:22.922Z"
   },
   {
    "duration": 5,
    "start_time": "2022-08-26T14:49:22.946Z"
   },
   {
    "duration": 8,
    "start_time": "2022-08-26T14:49:22.953Z"
   },
   {
    "duration": 17,
    "start_time": "2022-08-26T14:49:22.963Z"
   },
   {
    "duration": 6,
    "start_time": "2022-08-26T14:49:22.982Z"
   },
   {
    "duration": 10,
    "start_time": "2022-08-26T14:49:22.989Z"
   },
   {
    "duration": 11,
    "start_time": "2022-08-26T14:49:23.000Z"
   },
   {
    "duration": 30,
    "start_time": "2022-08-26T14:49:23.013Z"
   },
   {
    "duration": 14,
    "start_time": "2022-08-26T14:49:23.044Z"
   },
   {
    "duration": 11,
    "start_time": "2022-08-26T14:49:23.060Z"
   },
   {
    "duration": 8,
    "start_time": "2022-08-26T14:49:23.072Z"
   }
  ],
  "kernelspec": {
   "display_name": "Python 3 (ipykernel)",
   "language": "python",
   "name": "python3"
  },
  "language_info": {
   "codemirror_mode": {
    "name": "ipython",
    "version": 3
   },
   "file_extension": ".py",
   "mimetype": "text/x-python",
   "name": "python",
   "nbconvert_exporter": "python",
   "pygments_lexer": "ipython3",
   "version": "3.9.12"
  },
  "toc": {
   "base_numbering": 1,
   "nav_menu": {},
   "number_sections": true,
   "sideBar": true,
   "skip_h1_title": true,
   "title_cell": "Table of Contents",
   "title_sidebar": "Contents",
   "toc_cell": false,
   "toc_position": {},
   "toc_section_display": true,
   "toc_window_display": false
  }
 },
 "nbformat": 4,
 "nbformat_minor": 2
}
