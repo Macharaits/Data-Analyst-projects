{
 "cells": [
  {
   "cell_type": "markdown",
   "metadata": {},
   "source": [
    "# Выбор оптимальной гипотезы для увеличения выручки интернет магазина и проверка её с помощью A/B-теста."
   ]
  },
  {
   "cell_type": "markdown",
   "metadata": {},
   "source": [
    "## Открытие файлов с данными, изучение информации, коррекция данных"
   ]
  },
  {
   "cell_type": "code",
   "execution_count": 23,
   "metadata": {},
   "outputs": [],
   "source": [
    "import numpy as np\n",
    "import pandas as pd\n",
    "import seaborn as sns\n",
    "from matplotlib import pyplot as plt\n",
    "from IPython.display import display\n",
    "import scipy.stats as stats\n",
    "import datetime as dt\n",
    "import math as mth\n",
    "from pandas.plotting import register_matplotlib_converters\n",
    "import warnings"
   ]
  },
  {
   "cell_type": "code",
   "execution_count": 24,
   "metadata": {},
   "outputs": [],
   "source": [
    "hypothesis = pd.read_csv('hypothesis.csv')\n",
    "orders = pd.read_csv('orders.csv')\n",
    "visitors = pd.read_csv('visitors.csv')"
   ]
  },
  {
   "cell_type": "code",
   "execution_count": 25,
   "metadata": {},
   "outputs": [
    {
     "name": "stdout",
     "output_type": "stream",
     "text": [
      "<class 'pandas.core.frame.DataFrame'>\n",
      "RangeIndex: 9 entries, 0 to 8\n",
      "Data columns (total 5 columns):\n",
      " #   Column      Non-Null Count  Dtype \n",
      "---  ------      --------------  ----- \n",
      " 0   Hypothesis  9 non-null      object\n",
      " 1   Reach       9 non-null      int64 \n",
      " 2   Impact      9 non-null      int64 \n",
      " 3   Confidence  9 non-null      int64 \n",
      " 4   Efforts     9 non-null      int64 \n",
      "dtypes: int64(4), object(1)\n",
      "memory usage: 488.0+ bytes\n"
     ]
    },
    {
     "data": {
      "text/html": [
       "<div>\n",
       "<style scoped>\n",
       "    .dataframe tbody tr th:only-of-type {\n",
       "        vertical-align: middle;\n",
       "    }\n",
       "\n",
       "    .dataframe tbody tr th {\n",
       "        vertical-align: top;\n",
       "    }\n",
       "\n",
       "    .dataframe thead th {\n",
       "        text-align: right;\n",
       "    }\n",
       "</style>\n",
       "<table border=\"1\" class=\"dataframe\">\n",
       "  <thead>\n",
       "    <tr style=\"text-align: right;\">\n",
       "      <th></th>\n",
       "      <th>Hypothesis</th>\n",
       "      <th>Reach</th>\n",
       "      <th>Impact</th>\n",
       "      <th>Confidence</th>\n",
       "      <th>Efforts</th>\n",
       "    </tr>\n",
       "  </thead>\n",
       "  <tbody>\n",
       "    <tr>\n",
       "      <th>0</th>\n",
       "      <td>Добавить два новых канала привлечения трафика, что позволит привлекать на 30% больше пользователей</td>\n",
       "      <td>3</td>\n",
       "      <td>10</td>\n",
       "      <td>8</td>\n",
       "      <td>6</td>\n",
       "    </tr>\n",
       "    <tr>\n",
       "      <th>1</th>\n",
       "      <td>Запустить собственную службу доставки, что сократит срок доставки заказов</td>\n",
       "      <td>2</td>\n",
       "      <td>5</td>\n",
       "      <td>4</td>\n",
       "      <td>10</td>\n",
       "    </tr>\n",
       "    <tr>\n",
       "      <th>2</th>\n",
       "      <td>Добавить блоки рекомендаций товаров на сайт интернет магазина, чтобы повысить конверсию и средний чек заказа</td>\n",
       "      <td>8</td>\n",
       "      <td>3</td>\n",
       "      <td>7</td>\n",
       "      <td>3</td>\n",
       "    </tr>\n",
       "    <tr>\n",
       "      <th>3</th>\n",
       "      <td>Изменить структура категорий, что увеличит конверсию, т.к. пользователи быстрее найдут нужный товар</td>\n",
       "      <td>8</td>\n",
       "      <td>3</td>\n",
       "      <td>3</td>\n",
       "      <td>8</td>\n",
       "    </tr>\n",
       "    <tr>\n",
       "      <th>4</th>\n",
       "      <td>Изменить цвет фона главной страницы, чтобы увеличить вовлеченность пользователей</td>\n",
       "      <td>3</td>\n",
       "      <td>1</td>\n",
       "      <td>1</td>\n",
       "      <td>1</td>\n",
       "    </tr>\n",
       "    <tr>\n",
       "      <th>5</th>\n",
       "      <td>Добавить страницу отзывов клиентов о магазине, что позволит увеличить количество заказов</td>\n",
       "      <td>3</td>\n",
       "      <td>2</td>\n",
       "      <td>2</td>\n",
       "      <td>3</td>\n",
       "    </tr>\n",
       "    <tr>\n",
       "      <th>6</th>\n",
       "      <td>Показать на главной странице баннеры с актуальными акциями и распродажами, чтобы увеличить конверсию</td>\n",
       "      <td>5</td>\n",
       "      <td>3</td>\n",
       "      <td>8</td>\n",
       "      <td>3</td>\n",
       "    </tr>\n",
       "    <tr>\n",
       "      <th>7</th>\n",
       "      <td>Добавить форму подписки на все основные страницы, чтобы собрать базу клиентов для email-рассылок</td>\n",
       "      <td>10</td>\n",
       "      <td>7</td>\n",
       "      <td>8</td>\n",
       "      <td>5</td>\n",
       "    </tr>\n",
       "    <tr>\n",
       "      <th>8</th>\n",
       "      <td>Запустить акцию, дающую скидку на товар в день рождения</td>\n",
       "      <td>1</td>\n",
       "      <td>9</td>\n",
       "      <td>9</td>\n",
       "      <td>5</td>\n",
       "    </tr>\n",
       "  </tbody>\n",
       "</table>\n",
       "</div>"
      ],
      "text/plain": [
       "                                                                                                     Hypothesis  \\\n",
       "0            Добавить два новых канала привлечения трафика, что позволит привлекать на 30% больше пользователей   \n",
       "1                                     Запустить собственную службу доставки, что сократит срок доставки заказов   \n",
       "2  Добавить блоки рекомендаций товаров на сайт интернет магазина, чтобы повысить конверсию и средний чек заказа   \n",
       "3           Изменить структура категорий, что увеличит конверсию, т.к. пользователи быстрее найдут нужный товар   \n",
       "4                              Изменить цвет фона главной страницы, чтобы увеличить вовлеченность пользователей   \n",
       "5                      Добавить страницу отзывов клиентов о магазине, что позволит увеличить количество заказов   \n",
       "6          Показать на главной странице баннеры с актуальными акциями и распродажами, чтобы увеличить конверсию   \n",
       "7              Добавить форму подписки на все основные страницы, чтобы собрать базу клиентов для email-рассылок   \n",
       "8                                                       Запустить акцию, дающую скидку на товар в день рождения   \n",
       "\n",
       "   Reach  Impact  Confidence  Efforts  \n",
       "0      3      10           8        6  \n",
       "1      2       5           4       10  \n",
       "2      8       3           7        3  \n",
       "3      8       3           3        8  \n",
       "4      3       1           1        1  \n",
       "5      3       2           2        3  \n",
       "6      5       3           8        3  \n",
       "7     10       7           8        5  \n",
       "8      1       9           9        5  "
      ]
     },
     "execution_count": 25,
     "metadata": {},
     "output_type": "execute_result"
    }
   ],
   "source": [
    "hypothesis.info()\n",
    "hypothesis.head(9)"
   ]
  },
  {
   "cell_type": "markdown",
   "metadata": {},
   "source": [
    "В таблице hypothesis типы данных корректные, дубликаты отсутствуют."
   ]
  },
  {
   "cell_type": "code",
   "execution_count": 26,
   "metadata": {},
   "outputs": [
    {
     "name": "stdout",
     "output_type": "stream",
     "text": [
      "<class 'pandas.core.frame.DataFrame'>\n",
      "RangeIndex: 1197 entries, 0 to 1196\n",
      "Data columns (total 5 columns):\n",
      " #   Column         Non-Null Count  Dtype \n",
      "---  ------         --------------  ----- \n",
      " 0   transactionId  1197 non-null   int64 \n",
      " 1   visitorId      1197 non-null   int64 \n",
      " 2   date           1197 non-null   object\n",
      " 3   revenue        1197 non-null   int64 \n",
      " 4   group          1197 non-null   object\n",
      "dtypes: int64(3), object(2)\n",
      "memory usage: 46.9+ KB\n"
     ]
    },
    {
     "data": {
      "text/html": [
       "<div>\n",
       "<style scoped>\n",
       "    .dataframe tbody tr th:only-of-type {\n",
       "        vertical-align: middle;\n",
       "    }\n",
       "\n",
       "    .dataframe tbody tr th {\n",
       "        vertical-align: top;\n",
       "    }\n",
       "\n",
       "    .dataframe thead th {\n",
       "        text-align: right;\n",
       "    }\n",
       "</style>\n",
       "<table border=\"1\" class=\"dataframe\">\n",
       "  <thead>\n",
       "    <tr style=\"text-align: right;\">\n",
       "      <th></th>\n",
       "      <th>transactionId</th>\n",
       "      <th>visitorId</th>\n",
       "      <th>date</th>\n",
       "      <th>revenue</th>\n",
       "      <th>group</th>\n",
       "    </tr>\n",
       "  </thead>\n",
       "  <tbody>\n",
       "    <tr>\n",
       "      <th>0</th>\n",
       "      <td>3667963787</td>\n",
       "      <td>3312258926</td>\n",
       "      <td>2019-08-15</td>\n",
       "      <td>1650</td>\n",
       "      <td>B</td>\n",
       "    </tr>\n",
       "    <tr>\n",
       "      <th>1</th>\n",
       "      <td>2804400009</td>\n",
       "      <td>3642806036</td>\n",
       "      <td>2019-08-15</td>\n",
       "      <td>730</td>\n",
       "      <td>B</td>\n",
       "    </tr>\n",
       "    <tr>\n",
       "      <th>2</th>\n",
       "      <td>2961555356</td>\n",
       "      <td>4069496402</td>\n",
       "      <td>2019-08-15</td>\n",
       "      <td>400</td>\n",
       "      <td>A</td>\n",
       "    </tr>\n",
       "    <tr>\n",
       "      <th>3</th>\n",
       "      <td>3797467345</td>\n",
       "      <td>1196621759</td>\n",
       "      <td>2019-08-15</td>\n",
       "      <td>9759</td>\n",
       "      <td>B</td>\n",
       "    </tr>\n",
       "    <tr>\n",
       "      <th>4</th>\n",
       "      <td>2282983706</td>\n",
       "      <td>2322279887</td>\n",
       "      <td>2019-08-15</td>\n",
       "      <td>2308</td>\n",
       "      <td>B</td>\n",
       "    </tr>\n",
       "  </tbody>\n",
       "</table>\n",
       "</div>"
      ],
      "text/plain": [
       "   transactionId   visitorId        date  revenue group\n",
       "0     3667963787  3312258926  2019-08-15     1650     B\n",
       "1     2804400009  3642806036  2019-08-15      730     B\n",
       "2     2961555356  4069496402  2019-08-15      400     A\n",
       "3     3797467345  1196621759  2019-08-15     9759     B\n",
       "4     2282983706  2322279887  2019-08-15     2308     B"
      ]
     },
     "execution_count": 26,
     "metadata": {},
     "output_type": "execute_result"
    }
   ],
   "source": [
    "orders.info()\n",
    "orders.head()"
   ]
  },
  {
   "cell_type": "code",
   "execution_count": 27,
   "metadata": {},
   "outputs": [
    {
     "data": {
      "text/plain": [
       "0"
      ]
     },
     "execution_count": 27,
     "metadata": {},
     "output_type": "execute_result"
    }
   ],
   "source": [
    "orders.duplicated().sum()"
   ]
  },
  {
   "cell_type": "markdown",
   "metadata": {},
   "source": [
    "Дубликатов нет, исправим тип данных в столбце date на datatime"
   ]
  },
  {
   "cell_type": "code",
   "execution_count": 28,
   "metadata": {},
   "outputs": [],
   "source": [
    "orders['date'] = orders['date'].map(lambda x: dt.datetime.strptime(x, '%Y-%m-%d'))"
   ]
  },
  {
   "cell_type": "code",
   "execution_count": 29,
   "metadata": {},
   "outputs": [
    {
     "name": "stdout",
     "output_type": "stream",
     "text": [
      "<class 'pandas.core.frame.DataFrame'>\n",
      "RangeIndex: 62 entries, 0 to 61\n",
      "Data columns (total 3 columns):\n",
      " #   Column    Non-Null Count  Dtype \n",
      "---  ------    --------------  ----- \n",
      " 0   date      62 non-null     object\n",
      " 1   group     62 non-null     object\n",
      " 2   visitors  62 non-null     int64 \n",
      "dtypes: int64(1), object(2)\n",
      "memory usage: 1.6+ KB\n"
     ]
    },
    {
     "data": {
      "text/html": [
       "<div>\n",
       "<style scoped>\n",
       "    .dataframe tbody tr th:only-of-type {\n",
       "        vertical-align: middle;\n",
       "    }\n",
       "\n",
       "    .dataframe tbody tr th {\n",
       "        vertical-align: top;\n",
       "    }\n",
       "\n",
       "    .dataframe thead th {\n",
       "        text-align: right;\n",
       "    }\n",
       "</style>\n",
       "<table border=\"1\" class=\"dataframe\">\n",
       "  <thead>\n",
       "    <tr style=\"text-align: right;\">\n",
       "      <th></th>\n",
       "      <th>date</th>\n",
       "      <th>group</th>\n",
       "      <th>visitors</th>\n",
       "    </tr>\n",
       "  </thead>\n",
       "  <tbody>\n",
       "    <tr>\n",
       "      <th>0</th>\n",
       "      <td>2019-08-01</td>\n",
       "      <td>A</td>\n",
       "      <td>719</td>\n",
       "    </tr>\n",
       "    <tr>\n",
       "      <th>1</th>\n",
       "      <td>2019-08-02</td>\n",
       "      <td>A</td>\n",
       "      <td>619</td>\n",
       "    </tr>\n",
       "    <tr>\n",
       "      <th>2</th>\n",
       "      <td>2019-08-03</td>\n",
       "      <td>A</td>\n",
       "      <td>507</td>\n",
       "    </tr>\n",
       "    <tr>\n",
       "      <th>3</th>\n",
       "      <td>2019-08-04</td>\n",
       "      <td>A</td>\n",
       "      <td>717</td>\n",
       "    </tr>\n",
       "    <tr>\n",
       "      <th>4</th>\n",
       "      <td>2019-08-05</td>\n",
       "      <td>A</td>\n",
       "      <td>756</td>\n",
       "    </tr>\n",
       "  </tbody>\n",
       "</table>\n",
       "</div>"
      ],
      "text/plain": [
       "         date group  visitors\n",
       "0  2019-08-01     A       719\n",
       "1  2019-08-02     A       619\n",
       "2  2019-08-03     A       507\n",
       "3  2019-08-04     A       717\n",
       "4  2019-08-05     A       756"
      ]
     },
     "execution_count": 29,
     "metadata": {},
     "output_type": "execute_result"
    }
   ],
   "source": [
    "visitors.info()\n",
    "visitors.head()"
   ]
  },
  {
   "cell_type": "code",
   "execution_count": 30,
   "metadata": {},
   "outputs": [
    {
     "data": {
      "text/plain": [
       "0"
      ]
     },
     "execution_count": 30,
     "metadata": {},
     "output_type": "execute_result"
    }
   ],
   "source": [
    "visitors.duplicated().sum()"
   ]
  },
  {
   "cell_type": "markdown",
   "metadata": {},
   "source": [
    "Дубликатов нет, исправим тип данных в столбце date на datatime"
   ]
  },
  {
   "cell_type": "code",
   "execution_count": 31,
   "metadata": {},
   "outputs": [],
   "source": [
    "visitors['date'] = visitors['date'].map(lambda x: dt.datetime.strptime(x, '%Y-%m-%d'))"
   ]
  },
  {
   "cell_type": "markdown",
   "metadata": {},
   "source": [
    "Недостатки устранены, данные готовы к анализу"
   ]
  },
  {
   "cell_type": "code",
   "execution_count": 32,
   "metadata": {},
   "outputs": [
    {
     "name": "stderr",
     "output_type": "stream",
     "text": [
      "C:\\Users\\User01\\AppData\\Local\\Temp\\ipykernel_8504\\2251232272.py:2: FutureWarning: Treating datetime data as categorical rather than numeric in `.describe` is deprecated and will be removed in a future version of pandas. Specify `datetime_is_numeric=True` to silence this warning and adopt the future behavior now.\n",
      "  orders['date'].describe()\n"
     ]
    },
    {
     "data": {
      "text/plain": [
       "count                    1197\n",
       "unique                     31\n",
       "top       2019-08-05 00:00:00\n",
       "freq                       48\n",
       "first     2019-08-01 00:00:00\n",
       "last      2019-08-31 00:00:00\n",
       "Name: date, dtype: object"
      ]
     },
     "execution_count": 32,
     "metadata": {},
     "output_type": "execute_result"
    }
   ],
   "source": [
    "# за какой период нам доступны данные (даты начала и окончания теста)\n",
    "orders['date'].describe()"
   ]
  },
  {
   "cell_type": "markdown",
   "metadata": {},
   "source": [
    "Данные представлены за месяц август с 2019-08-01 по 2019-08-31"
   ]
  },
  {
   "cell_type": "code",
   "execution_count": 33,
   "metadata": {
    "scrolled": true
   },
   "outputs": [
    {
     "data": {
      "text/html": [
       "<div>\n",
       "<style scoped>\n",
       "    .dataframe tbody tr th:only-of-type {\n",
       "        vertical-align: middle;\n",
       "    }\n",
       "\n",
       "    .dataframe tbody tr th {\n",
       "        vertical-align: top;\n",
       "    }\n",
       "\n",
       "    .dataframe thead th {\n",
       "        text-align: right;\n",
       "    }\n",
       "</style>\n",
       "<table border=\"1\" class=\"dataframe\">\n",
       "  <thead>\n",
       "    <tr style=\"text-align: right;\">\n",
       "      <th></th>\n",
       "      <th>transactionId</th>\n",
       "      <th>visitorId</th>\n",
       "      <th>date</th>\n",
       "      <th>revenue</th>\n",
       "    </tr>\n",
       "    <tr>\n",
       "      <th>group</th>\n",
       "      <th></th>\n",
       "      <th></th>\n",
       "      <th></th>\n",
       "      <th></th>\n",
       "    </tr>\n",
       "  </thead>\n",
       "  <tbody>\n",
       "    <tr>\n",
       "      <th>A</th>\n",
       "      <td>557</td>\n",
       "      <td>557</td>\n",
       "      <td>557</td>\n",
       "      <td>557</td>\n",
       "    </tr>\n",
       "    <tr>\n",
       "      <th>B</th>\n",
       "      <td>640</td>\n",
       "      <td>640</td>\n",
       "      <td>640</td>\n",
       "      <td>640</td>\n",
       "    </tr>\n",
       "  </tbody>\n",
       "</table>\n",
       "</div>"
      ],
      "text/plain": [
       "       transactionId  visitorId  date  revenue\n",
       "group                                         \n",
       "A                557        557   557      557\n",
       "B                640        640   640      640"
      ]
     },
     "execution_count": 33,
     "metadata": {},
     "output_type": "execute_result"
    }
   ],
   "source": [
    "# Подтвердить количество групп в А/Б тесте\n",
    "# Посмотреть на распределение количества пользователей в каждой группе\n",
    "orders.groupby('group').count()"
   ]
  },
  {
   "cell_type": "code",
   "execution_count": 34,
   "metadata": {},
   "outputs": [
    {
     "data": {
      "text/plain": [
       "58"
      ]
     },
     "execution_count": 34,
     "metadata": {},
     "output_type": "execute_result"
    }
   ],
   "source": [
    "len(np.intersect1d(orders.query('group == \"A\"')['visitorId'], orders.query('group == \"B\"')['visitorId'], assume_unique = False))\n"
   ]
  },
  {
   "cell_type": "markdown",
   "metadata": {},
   "source": [
    "Да, количество групп две, лишних групп нет. Группа В больше на 83 человека. Группы должны не должны так различаться по количеству. Проверим не попадают ли у нас пользователи в обе группы."
   ]
  },
  {
   "cell_type": "code",
   "execution_count": 35,
   "metadata": {},
   "outputs": [
    {
     "data": {
      "text/html": [
       "<div>\n",
       "<style scoped>\n",
       "    .dataframe tbody tr th:only-of-type {\n",
       "        vertical-align: middle;\n",
       "    }\n",
       "\n",
       "    .dataframe tbody tr th {\n",
       "        vertical-align: top;\n",
       "    }\n",
       "\n",
       "    .dataframe thead th {\n",
       "        text-align: right;\n",
       "    }\n",
       "</style>\n",
       "<table border=\"1\" class=\"dataframe\">\n",
       "  <thead>\n",
       "    <tr style=\"text-align: right;\">\n",
       "      <th></th>\n",
       "      <th>transactionId</th>\n",
       "      <th>visitorId</th>\n",
       "      <th>date</th>\n",
       "      <th>revenue</th>\n",
       "      <th>group</th>\n",
       "    </tr>\n",
       "  </thead>\n",
       "  <tbody>\n",
       "    <tr>\n",
       "      <th>0</th>\n",
       "      <td>3667963787</td>\n",
       "      <td>3312258926</td>\n",
       "      <td>2019-08-15</td>\n",
       "      <td>1650</td>\n",
       "      <td>B</td>\n",
       "    </tr>\n",
       "    <tr>\n",
       "      <th>1</th>\n",
       "      <td>2804400009</td>\n",
       "      <td>3642806036</td>\n",
       "      <td>2019-08-15</td>\n",
       "      <td>730</td>\n",
       "      <td>B</td>\n",
       "    </tr>\n",
       "    <tr>\n",
       "      <th>2</th>\n",
       "      <td>2961555356</td>\n",
       "      <td>4069496402</td>\n",
       "      <td>2019-08-15</td>\n",
       "      <td>400</td>\n",
       "      <td>A</td>\n",
       "    </tr>\n",
       "    <tr>\n",
       "      <th>3</th>\n",
       "      <td>3797467345</td>\n",
       "      <td>1196621759</td>\n",
       "      <td>2019-08-15</td>\n",
       "      <td>9759</td>\n",
       "      <td>B</td>\n",
       "    </tr>\n",
       "    <tr>\n",
       "      <th>4</th>\n",
       "      <td>2282983706</td>\n",
       "      <td>2322279887</td>\n",
       "      <td>2019-08-15</td>\n",
       "      <td>2308</td>\n",
       "      <td>B</td>\n",
       "    </tr>\n",
       "    <tr>\n",
       "      <th>...</th>\n",
       "      <td>...</td>\n",
       "      <td>...</td>\n",
       "      <td>...</td>\n",
       "      <td>...</td>\n",
       "      <td>...</td>\n",
       "    </tr>\n",
       "    <tr>\n",
       "      <th>1192</th>\n",
       "      <td>2662137336</td>\n",
       "      <td>3733762160</td>\n",
       "      <td>2019-08-14</td>\n",
       "      <td>6490</td>\n",
       "      <td>B</td>\n",
       "    </tr>\n",
       "    <tr>\n",
       "      <th>1193</th>\n",
       "      <td>2203539145</td>\n",
       "      <td>370388673</td>\n",
       "      <td>2019-08-14</td>\n",
       "      <td>3190</td>\n",
       "      <td>A</td>\n",
       "    </tr>\n",
       "    <tr>\n",
       "      <th>1194</th>\n",
       "      <td>1807773912</td>\n",
       "      <td>573423106</td>\n",
       "      <td>2019-08-14</td>\n",
       "      <td>10550</td>\n",
       "      <td>A</td>\n",
       "    </tr>\n",
       "    <tr>\n",
       "      <th>1195</th>\n",
       "      <td>1947021204</td>\n",
       "      <td>1614305549</td>\n",
       "      <td>2019-08-14</td>\n",
       "      <td>100</td>\n",
       "      <td>A</td>\n",
       "    </tr>\n",
       "    <tr>\n",
       "      <th>1196</th>\n",
       "      <td>3936777065</td>\n",
       "      <td>2108080724</td>\n",
       "      <td>2019-08-15</td>\n",
       "      <td>202740</td>\n",
       "      <td>B</td>\n",
       "    </tr>\n",
       "  </tbody>\n",
       "</table>\n",
       "<p>1105 rows × 5 columns</p>\n",
       "</div>"
      ],
      "text/plain": [
       "      transactionId   visitorId       date  revenue group\n",
       "0        3667963787  3312258926 2019-08-15     1650     B\n",
       "1        2804400009  3642806036 2019-08-15      730     B\n",
       "2        2961555356  4069496402 2019-08-15      400     A\n",
       "3        3797467345  1196621759 2019-08-15     9759     B\n",
       "4        2282983706  2322279887 2019-08-15     2308     B\n",
       "...             ...         ...        ...      ...   ...\n",
       "1192     2662137336  3733762160 2019-08-14     6490     B\n",
       "1193     2203539145   370388673 2019-08-14     3190     A\n",
       "1194     1807773912   573423106 2019-08-14    10550     A\n",
       "1195     1947021204  1614305549 2019-08-14      100     A\n",
       "1196     3936777065  2108080724 2019-08-15   202740     B\n",
       "\n",
       "[1105 rows x 5 columns]"
      ]
     },
     "execution_count": 35,
     "metadata": {},
     "output_type": "execute_result"
    }
   ],
   "source": [
    "order_1 = orders.loc[orders[\"group\"]==\"B\", \"visitorId\"].isin(orders.loc[orders[\"group\"]==\"A\", \"visitorId\"])\n",
    "order = orders.drop(order_1[order_1].index)\n",
    "order"
   ]
  },
  {
   "cell_type": "markdown",
   "metadata": {},
   "source": [
    "Да, у нас были одинаковые пользователи в группах. Так как в группе В пользователей больше чем А, удалим одинаковых пользователей из группы В"
   ]
  },
  {
   "cell_type": "markdown",
   "metadata": {},
   "source": [
    "# Часть 1. Приоритизация гипотез."
   ]
  },
  {
   "cell_type": "markdown",
   "metadata": {},
   "source": [
    "**Применение фреймворка ICE для приоритизации гипотез**"
   ]
  },
  {
   "cell_type": "markdown",
   "metadata": {},
   "source": [
    "ICE Scoring — это метод определения приоритетов\n",
    "\n",
    "В ICE вы оцениваете идеи таким образом:\n",
    "- Impact. Влияние демонстрирует, насколько идея положительно повлияет на ключевой показатель, который вы пытаетесь улучшить.\n",
    "- Efforts. Легкость реализации или простота — это оценка того, сколько усилий и ресурсов требуется для реализации этой идеи.\n",
    "- Confidence. Уверенность демонстрирует, насколько вы уверены в оценках влияния и легкости реализации."
   ]
  },
  {
   "cell_type": "code",
   "execution_count": 36,
   "metadata": {},
   "outputs": [
    {
     "data": {
      "text/html": [
       "<div>\n",
       "<style scoped>\n",
       "    .dataframe tbody tr th:only-of-type {\n",
       "        vertical-align: middle;\n",
       "    }\n",
       "\n",
       "    .dataframe tbody tr th {\n",
       "        vertical-align: top;\n",
       "    }\n",
       "\n",
       "    .dataframe thead th {\n",
       "        text-align: right;\n",
       "    }\n",
       "</style>\n",
       "<table border=\"1\" class=\"dataframe\">\n",
       "  <thead>\n",
       "    <tr style=\"text-align: right;\">\n",
       "      <th></th>\n",
       "      <th>ICE</th>\n",
       "      <th>Hypothesis</th>\n",
       "    </tr>\n",
       "  </thead>\n",
       "  <tbody>\n",
       "    <tr>\n",
       "      <th>8</th>\n",
       "      <td>16.0</td>\n",
       "      <td>Запустить акцию, дающую скидку на товар в день рождения</td>\n",
       "    </tr>\n",
       "    <tr>\n",
       "      <th>0</th>\n",
       "      <td>13.0</td>\n",
       "      <td>Добавить два новых канала привлечения трафика, что позволит привлекать на 30% больше пользователей</td>\n",
       "    </tr>\n",
       "    <tr>\n",
       "      <th>7</th>\n",
       "      <td>11.0</td>\n",
       "      <td>Добавить форму подписки на все основные страницы, чтобы собрать базу клиентов для email-рассылок</td>\n",
       "    </tr>\n",
       "    <tr>\n",
       "      <th>6</th>\n",
       "      <td>8.0</td>\n",
       "      <td>Показать на главной странице баннеры с актуальными акциями и распродажами, чтобы увеличить конверсию</td>\n",
       "    </tr>\n",
       "    <tr>\n",
       "      <th>2</th>\n",
       "      <td>7.0</td>\n",
       "      <td>Добавить блоки рекомендаций товаров на сайт интернет магазина, чтобы повысить конверсию и средний чек заказа</td>\n",
       "    </tr>\n",
       "    <tr>\n",
       "      <th>1</th>\n",
       "      <td>2.0</td>\n",
       "      <td>Запустить собственную службу доставки, что сократит срок доставки заказов</td>\n",
       "    </tr>\n",
       "    <tr>\n",
       "      <th>3</th>\n",
       "      <td>1.0</td>\n",
       "      <td>Изменить структура категорий, что увеличит конверсию, т.к. пользователи быстрее найдут нужный товар</td>\n",
       "    </tr>\n",
       "    <tr>\n",
       "      <th>4</th>\n",
       "      <td>1.0</td>\n",
       "      <td>Изменить цвет фона главной страницы, чтобы увеличить вовлеченность пользователей</td>\n",
       "    </tr>\n",
       "    <tr>\n",
       "      <th>5</th>\n",
       "      <td>1.0</td>\n",
       "      <td>Добавить страницу отзывов клиентов о магазине, что позволит увеличить количество заказов</td>\n",
       "    </tr>\n",
       "  </tbody>\n",
       "</table>\n",
       "</div>"
      ],
      "text/plain": [
       "    ICE  \\\n",
       "8  16.0   \n",
       "0  13.0   \n",
       "7  11.0   \n",
       "6   8.0   \n",
       "2   7.0   \n",
       "1   2.0   \n",
       "3   1.0   \n",
       "4   1.0   \n",
       "5   1.0   \n",
       "\n",
       "                                                                                                     Hypothesis  \n",
       "8                                                       Запустить акцию, дающую скидку на товар в день рождения  \n",
       "0            Добавить два новых канала привлечения трафика, что позволит привлекать на 30% больше пользователей  \n",
       "7              Добавить форму подписки на все основные страницы, чтобы собрать базу клиентов для email-рассылок  \n",
       "6          Показать на главной странице баннеры с актуальными акциями и распродажами, чтобы увеличить конверсию  \n",
       "2  Добавить блоки рекомендаций товаров на сайт интернет магазина, чтобы повысить конверсию и средний чек заказа  \n",
       "1                                     Запустить собственную службу доставки, что сократит срок доставки заказов  \n",
       "3           Изменить структура категорий, что увеличит конверсию, т.к. пользователи быстрее найдут нужный товар  \n",
       "4                              Изменить цвет фона главной страницы, чтобы увеличить вовлеченность пользователей  \n",
       "5                      Добавить страницу отзывов клиентов о магазине, что позволит увеличить количество заказов  "
      ]
     },
     "execution_count": 36,
     "metadata": {},
     "output_type": "execute_result"
    }
   ],
   "source": [
    "pd.options.display.max_colwidth = 210\n",
    "hypothesis['ICE'] = ((hypothesis['Impact'] * hypothesis['Confidence']) \n",
    "                     / hypothesis['Efforts']).round()\n",
    "hypothesis[['ICE', 'Hypothesis']].sort_values(by='ICE', ascending=False)"
   ]
  },
  {
   "cell_type": "markdown",
   "metadata": {},
   "source": [
    "Наиболее перспективные гипотезы по ICE: гипотезы с индексами - 8, 0, 7."
   ]
  },
  {
   "cell_type": "markdown",
   "metadata": {},
   "source": [
    "**Применение фреймворка RICE для приоритизации гипотез**"
   ]
  },
  {
   "cell_type": "markdown",
   "metadata": {},
   "source": [
    "Фреймворк RICE состоит из четырёх компонентов:\n",
    "- Reach — скольких пользователей затронет изменение, которое вы хотите внести\n",
    "- Impact, Confidence, Efforts;"
   ]
  },
  {
   "cell_type": "code",
   "execution_count": 37,
   "metadata": {},
   "outputs": [
    {
     "data": {
      "text/html": [
       "<div>\n",
       "<style scoped>\n",
       "    .dataframe tbody tr th:only-of-type {\n",
       "        vertical-align: middle;\n",
       "    }\n",
       "\n",
       "    .dataframe tbody tr th {\n",
       "        vertical-align: top;\n",
       "    }\n",
       "\n",
       "    .dataframe thead th {\n",
       "        text-align: right;\n",
       "    }\n",
       "</style>\n",
       "<table border=\"1\" class=\"dataframe\">\n",
       "  <thead>\n",
       "    <tr style=\"text-align: right;\">\n",
       "      <th></th>\n",
       "      <th>Reach</th>\n",
       "      <th>RICE</th>\n",
       "      <th>Hypothesis</th>\n",
       "    </tr>\n",
       "  </thead>\n",
       "  <tbody>\n",
       "    <tr>\n",
       "      <th>7</th>\n",
       "      <td>10</td>\n",
       "      <td>112.0</td>\n",
       "      <td>Добавить форму подписки на все основные страницы, чтобы собрать базу клиентов для email-рассылок</td>\n",
       "    </tr>\n",
       "    <tr>\n",
       "      <th>2</th>\n",
       "      <td>8</td>\n",
       "      <td>56.0</td>\n",
       "      <td>Добавить блоки рекомендаций товаров на сайт интернет магазина, чтобы повысить конверсию и средний чек заказа</td>\n",
       "    </tr>\n",
       "    <tr>\n",
       "      <th>0</th>\n",
       "      <td>3</td>\n",
       "      <td>40.0</td>\n",
       "      <td>Добавить два новых канала привлечения трафика, что позволит привлекать на 30% больше пользователей</td>\n",
       "    </tr>\n",
       "    <tr>\n",
       "      <th>6</th>\n",
       "      <td>5</td>\n",
       "      <td>40.0</td>\n",
       "      <td>Показать на главной странице баннеры с актуальными акциями и распродажами, чтобы увеличить конверсию</td>\n",
       "    </tr>\n",
       "    <tr>\n",
       "      <th>8</th>\n",
       "      <td>1</td>\n",
       "      <td>16.2</td>\n",
       "      <td>Запустить акцию, дающую скидку на товар в день рождения</td>\n",
       "    </tr>\n",
       "    <tr>\n",
       "      <th>3</th>\n",
       "      <td>8</td>\n",
       "      <td>9.0</td>\n",
       "      <td>Изменить структура категорий, что увеличит конверсию, т.к. пользователи быстрее найдут нужный товар</td>\n",
       "    </tr>\n",
       "    <tr>\n",
       "      <th>1</th>\n",
       "      <td>2</td>\n",
       "      <td>4.0</td>\n",
       "      <td>Запустить собственную службу доставки, что сократит срок доставки заказов</td>\n",
       "    </tr>\n",
       "    <tr>\n",
       "      <th>5</th>\n",
       "      <td>3</td>\n",
       "      <td>4.0</td>\n",
       "      <td>Добавить страницу отзывов клиентов о магазине, что позволит увеличить количество заказов</td>\n",
       "    </tr>\n",
       "    <tr>\n",
       "      <th>4</th>\n",
       "      <td>3</td>\n",
       "      <td>3.0</td>\n",
       "      <td>Изменить цвет фона главной страницы, чтобы увеличить вовлеченность пользователей</td>\n",
       "    </tr>\n",
       "  </tbody>\n",
       "</table>\n",
       "</div>"
      ],
      "text/plain": [
       "   Reach   RICE  \\\n",
       "7     10  112.0   \n",
       "2      8   56.0   \n",
       "0      3   40.0   \n",
       "6      5   40.0   \n",
       "8      1   16.2   \n",
       "3      8    9.0   \n",
       "1      2    4.0   \n",
       "5      3    4.0   \n",
       "4      3    3.0   \n",
       "\n",
       "                                                                                                     Hypothesis  \n",
       "7              Добавить форму подписки на все основные страницы, чтобы собрать базу клиентов для email-рассылок  \n",
       "2  Добавить блоки рекомендаций товаров на сайт интернет магазина, чтобы повысить конверсию и средний чек заказа  \n",
       "0            Добавить два новых канала привлечения трафика, что позволит привлекать на 30% больше пользователей  \n",
       "6          Показать на главной странице баннеры с актуальными акциями и распродажами, чтобы увеличить конверсию  \n",
       "8                                                       Запустить акцию, дающую скидку на товар в день рождения  \n",
       "3           Изменить структура категорий, что увеличит конверсию, т.к. пользователи быстрее найдут нужный товар  \n",
       "1                                     Запустить собственную службу доставки, что сократит срок доставки заказов  \n",
       "5                      Добавить страницу отзывов клиентов о магазине, что позволит увеличить количество заказов  \n",
       "4                              Изменить цвет фона главной страницы, чтобы увеличить вовлеченность пользователей  "
      ]
     },
     "execution_count": 37,
     "metadata": {},
     "output_type": "execute_result"
    }
   ],
   "source": [
    "pd.options.display.max_colwidth = 210\n",
    "hypothesis['RICE'] = (hypothesis['Reach'] * hypothesis['Impact'] * hypothesis['Confidence']) / hypothesis['Efforts']\n",
    "hypothesis[['Reach','RICE', 'Hypothesis']].sort_values(by='RICE', ascending=False)"
   ]
  },
  {
   "cell_type": "markdown",
   "metadata": {},
   "source": [
    "Наиболее перспективные гипотезы по RICE: гипотезы с индексами - 7, 2, 0."
   ]
  },
  {
   "cell_type": "markdown",
   "metadata": {},
   "source": [
    "Приоритизация гипотез изменилась  при применении RICE вместо ICE, потому что в  RICE мы учитываем важный параметр - Reach (скольких пользователей затронет изменение, которое мы хотим внести). "
   ]
  },
  {
   "cell_type": "code",
   "execution_count": 38,
   "metadata": {},
   "outputs": [],
   "source": [
    "#Пронумеруем гипотезы по порядку\n",
    "hypothesis['numbers']= np.arange(len(hypothesis))+1"
   ]
  },
  {
   "cell_type": "code",
   "execution_count": 39,
   "metadata": {},
   "outputs": [
    {
     "data": {
      "image/png": "[encoded data removed]",
      "text/plain": [
       "<Figure size 720x576 with 1 Axes>"
      ]
     },
     "metadata": {
      "needs_background": "light"
     },
     "output_type": "display_data"
    }
   ],
   "source": [
    "# Точечная диаграмма, чтобы сопоставить все метрики для каждой гипотезы и сравнить их\n",
    "Hypothesi = hypothesis['numbers']\n",
    "Reach = hypothesis['Reach']\n",
    "Impact = hypothesis['Impact']\n",
    "Confidence = hypothesis['Confidence']\n",
    "Efforts = hypothesis['Efforts']\n",
    "plt.figure(figsize=(10,8))\n",
    "plt.scatter(Hypothesi,  Reach, s=100, alpha=0.6, edgecolor='black', linewidth=1)\n",
    "plt.scatter(Hypothesi, Impact, s=100, alpha=0.6, edgecolor='pink', linewidth=1)\n",
    "plt.scatter(Hypothesi, Confidence, s=100, alpha=0.6, edgecolor='yellow', linewidth=1)\n",
    "plt.scatter(Hypothesi, Efforts, s=100, alpha=0.6, edgecolor='red', linewidth=1)\n",
    "plt.title('Точечная диаграмма всех метрики для каждой гипотезы ')\n",
    "plt.xlabel('Номер гипотезы')\n",
    "plt.ylabel('Бальная шкала параметров гипотезы')\n",
    "plt.grid()\n",
    "\n",
    "plt.show()"
   ]
  },
  {
   "cell_type": "markdown",
   "metadata": {},
   "source": [
    "На графике видно, как гипотеза № 8 доминирует по показателям. Все её показатели находятся выше 5 балов "
   ]
  },
  {
   "cell_type": "markdown",
   "metadata": {},
   "source": [
    "Выводы:\n",
    "- лидирующие строчки в таблицах разные. В ICE это гипотезы под номерами 9,1, 8, а в RICE 8,3,1. \n",
    "- в № 8 гипотезе это 10 человек, что является максимумом. В гипотезе № 9 всего 1 человек, хотя занимает 1 строчку при расчете ICE\n",
    "- рекомендуем протестировать гипотезу № 8 \n"
   ]
  },
  {
   "cell_type": "markdown",
   "metadata": {},
   "source": [
    "# Часть 2. Анализ A/B-теста"
   ]
  },
  {
   "cell_type": "markdown",
   "metadata": {},
   "source": [
    "##  График кумулятивной выручки по группам. "
   ]
  },
  {
   "cell_type": "code",
   "execution_count": 40,
   "metadata": {},
   "outputs": [
    {
     "name": "stdout",
     "output_type": "stream",
     "text": [
      "        date group  orders  buyers  revenue  visitors\n",
      "0 2019-08-01     A      24      20   148579       719\n",
      "1 2019-08-01     B      21      20   101217       713\n",
      "2 2019-08-02     A      44      38   242401      1338\n",
      "3 2019-08-02     B      45      43   266748      1294\n",
      "4 2019-08-03     A      68      62   354874      1845\n"
     ]
    }
   ],
   "source": [
    "# создаем массив уникальных пар значений дат и групп теста\n",
    "datesGroups = orders[['date','group']].drop_duplicates()\n",
    "\n",
    "# получаем агрегированные кумулятивные по дням данные о заказах \n",
    "ordersAggregated = datesGroups.apply(\n",
    "    lambda x: orders[\n",
    "        np.logical_and(\n",
    "            orders['date'] <= x['date'], orders['group'] == x['group']\n",
    "        )\n",
    "    ].agg(\n",
    "        {\n",
    "            'date' : 'max', \n",
    "            'group' : 'max', \n",
    "            'transactionId' : 'nunique', \n",
    "            'visitorId' : 'nunique', \n",
    "            'revenue' : 'sum'\n",
    "        }\n",
    "    ), \n",
    "    axis=1\n",
    ").sort_values(by=['date','group'])\n",
    "\n",
    "\n",
    "# получаем агрегированные кумулятивные по дням данные о посетителях интернет-магазина \n",
    "visitorsAggregated = datesGroups.apply(\n",
    "    lambda x: visitors[\n",
    "        np.logical_and(\n",
    "            visitors['date'] <= x['date'], visitors['group'] == x['group']\n",
    "        )\n",
    "    ].agg(\n",
    "        {\n",
    "            'date' : 'max', \n",
    "            'group' : 'max', \n",
    "            'visitors' : 'sum'\n",
    "        }\n",
    "    ), \n",
    "    axis=1\n",
    ").sort_values(by=['date','group'])\n",
    "\n",
    "# объединяем кумулятивные данные в одной таблице и присваиваем ее столбцам понятные названия\n",
    "cumulativeData = ordersAggregated.merge(\n",
    "    visitorsAggregated, left_on=['date', 'group'], right_on=['date', 'group']\n",
    ")\n",
    "cumulativeData.columns = ['date', 'group', 'orders', 'buyers', 'revenue', 'visitors']\n",
    "\n",
    "print(cumulativeData.head(5))"
   ]
  },
  {
   "cell_type": "code",
   "execution_count": 43,
   "metadata": {},
   "outputs": [
    {
     "data": {
      "image/png": "[encoded data removed]",
      "text/plain": [
       "<Figure size 432x360 with 1 Axes>"
      ]
     },
     "metadata": {
      "needs_background": "light"
     },
     "output_type": "display_data"
    }
   ],
   "source": [
    "# датафрейм с кумулятивным количеством заказов и кумулятивной выручкой по дням в группе А\n",
    "cumulativeRevenueA = cumulativeData[cumulativeData['group']=='A'][['date','revenue', 'orders']]\n",
    "\n",
    "# датафрейм с кумулятивным количеством заказов и кумулятивной выручкой по дням в группе B\n",
    "cumulativeRevenueB = cumulativeData[cumulativeData['group']=='B'][['date','revenue', 'orders']]\n",
    "\n",
    "# Строим графики выручки группы А и В\n",
    "plt.figure(figsize=(6,5))\n",
    "plt.plot(cumulativeRevenueA['date'], cumulativeRevenueA['revenue'], label='Выручка группы A')\n",
    "plt.plot(cumulativeRevenueB['date'], cumulativeRevenueB['revenue'], label='Выручка группы B')\n",
    "plt.xlabel(\"Дата\")\n",
    "plt.ylabel(\"Выручка\")\n",
    "plt.title('График кумулятивной выручки по группам')\n",
    "plt.xticks(rotation=90)\n",
    "plt.grid()\n",
    "plt.legend() ;"
   ]
  },
  {
   "cell_type": "markdown",
   "metadata": {},
   "source": [
    "Выводы и предположения:\n",
    "- До 13 августа выручка в группе В растет быстрее, чем А.\n",
    "- 13 августа они равны\n",
    "- Во второй половине месяца группа значительно превышает выручку.\n",
    "- Всплеск роста - 19 августа.\n",
    "- Предполагаем - связанно с наличием больших заказов, в этот день.\n",
    "- Если рассмотреть график без всплеска больших заказов, то выручка росла практически одинаково (графики параллельны)"
   ]
  },
  {
   "cell_type": "markdown",
   "metadata": {},
   "source": [
    "**Рассмотрим какие заказы были в районе 19 августа**"
   ]
  },
  {
   "cell_type": "code",
   "execution_count": 44,
   "metadata": {},
   "outputs": [
    {
     "data": {
      "text/html": [
       "<div>\n",
       "<style scoped>\n",
       "    .dataframe tbody tr th:only-of-type {\n",
       "        vertical-align: middle;\n",
       "    }\n",
       "\n",
       "    .dataframe tbody tr th {\n",
       "        vertical-align: top;\n",
       "    }\n",
       "\n",
       "    .dataframe thead th {\n",
       "        text-align: right;\n",
       "    }\n",
       "</style>\n",
       "<table border=\"1\" class=\"dataframe\">\n",
       "  <thead>\n",
       "    <tr style=\"text-align: right;\">\n",
       "      <th></th>\n",
       "      <th>date</th>\n",
       "      <th>revenue</th>\n",
       "      <th>orders</th>\n",
       "    </tr>\n",
       "  </thead>\n",
       "  <tbody>\n",
       "    <tr>\n",
       "      <th>31</th>\n",
       "      <td>2019-08-16</td>\n",
       "      <td>2539635</td>\n",
       "      <td>359</td>\n",
       "    </tr>\n",
       "    <tr>\n",
       "      <th>33</th>\n",
       "      <td>2019-08-17</td>\n",
       "      <td>2620790</td>\n",
       "      <td>373</td>\n",
       "    </tr>\n",
       "    <tr>\n",
       "      <th>35</th>\n",
       "      <td>2019-08-18</td>\n",
       "      <td>2686621</td>\n",
       "      <td>382</td>\n",
       "    </tr>\n",
       "    <tr>\n",
       "      <th>37</th>\n",
       "      <td>2019-08-19</td>\n",
       "      <td>4116541</td>\n",
       "      <td>403</td>\n",
       "    </tr>\n",
       "    <tr>\n",
       "      <th>39</th>\n",
       "      <td>2019-08-20</td>\n",
       "      <td>4263815</td>\n",
       "      <td>423</td>\n",
       "    </tr>\n",
       "    <tr>\n",
       "      <th>41</th>\n",
       "      <td>2019-08-21</td>\n",
       "      <td>4426892</td>\n",
       "      <td>437</td>\n",
       "    </tr>\n",
       "  </tbody>\n",
       "</table>\n",
       "</div>"
      ],
      "text/plain": [
       "         date  revenue  orders\n",
       "31 2019-08-16  2539635     359\n",
       "33 2019-08-17  2620790     373\n",
       "35 2019-08-18  2686621     382\n",
       "37 2019-08-19  4116541     403\n",
       "39 2019-08-20  4263815     423\n",
       "41 2019-08-21  4426892     437"
      ]
     },
     "execution_count": 44,
     "metadata": {},
     "output_type": "execute_result"
    }
   ],
   "source": [
    "cumulativeRevenueB.query(' \"2019-08-16\" <= date <= \"2019-08-21\" ')"
   ]
  },
  {
   "cell_type": "code",
   "execution_count": 45,
   "metadata": {},
   "outputs": [
    {
     "name": "stdout",
     "output_type": "stream",
     "text": [
      "Медианное значение заказа на 19 августа = 2630.0\n"
     ]
    },
    {
     "data": {
      "text/html": [
       "<div>\n",
       "<style scoped>\n",
       "    .dataframe tbody tr th:only-of-type {\n",
       "        vertical-align: middle;\n",
       "    }\n",
       "\n",
       "    .dataframe tbody tr th {\n",
       "        vertical-align: top;\n",
       "    }\n",
       "\n",
       "    .dataframe thead th {\n",
       "        text-align: right;\n",
       "    }\n",
       "</style>\n",
       "<table border=\"1\" class=\"dataframe\">\n",
       "  <thead>\n",
       "    <tr style=\"text-align: right;\">\n",
       "      <th></th>\n",
       "      <th>transactionId</th>\n",
       "      <th>visitorId</th>\n",
       "      <th>date</th>\n",
       "      <th>revenue</th>\n",
       "      <th>group</th>\n",
       "    </tr>\n",
       "  </thead>\n",
       "  <tbody>\n",
       "    <tr>\n",
       "      <th>425</th>\n",
       "      <td>590470918</td>\n",
       "      <td>1920142716</td>\n",
       "      <td>2019-08-19</td>\n",
       "      <td>1294500</td>\n",
       "      <td>B</td>\n",
       "    </tr>\n",
       "    <tr>\n",
       "      <th>527</th>\n",
       "      <td>1570513684</td>\n",
       "      <td>2837914161</td>\n",
       "      <td>2019-08-19</td>\n",
       "      <td>33405</td>\n",
       "      <td>B</td>\n",
       "    </tr>\n",
       "    <tr>\n",
       "      <th>461</th>\n",
       "      <td>2683113224</td>\n",
       "      <td>154576532</td>\n",
       "      <td>2019-08-19</td>\n",
       "      <td>26550</td>\n",
       "      <td>B</td>\n",
       "    </tr>\n",
       "    <tr>\n",
       "      <th>368</th>\n",
       "      <td>3268879337</td>\n",
       "      <td>2536252163</td>\n",
       "      <td>2019-08-19</td>\n",
       "      <td>20026</td>\n",
       "      <td>B</td>\n",
       "    </tr>\n",
       "    <tr>\n",
       "      <th>463</th>\n",
       "      <td>4170537404</td>\n",
       "      <td>290022471</td>\n",
       "      <td>2019-08-19</td>\n",
       "      <td>16480</td>\n",
       "      <td>B</td>\n",
       "    </tr>\n",
       "  </tbody>\n",
       "</table>\n",
       "</div>"
      ],
      "text/plain": [
       "     transactionId   visitorId       date  revenue group\n",
       "425      590470918  1920142716 2019-08-19  1294500     B\n",
       "527     1570513684  2837914161 2019-08-19    33405     B\n",
       "461     2683113224   154576532 2019-08-19    26550     B\n",
       "368     3268879337  2536252163 2019-08-19    20026     B\n",
       "463     4170537404   290022471 2019-08-19    16480     B"
      ]
     },
     "execution_count": 45,
     "metadata": {},
     "output_type": "execute_result"
    }
   ],
   "source": [
    "#Сколь в среднем тратят на заказ 19  августа \n",
    "median_19 = orders.query('date == \"2019-08-19\"')['revenue'].median()\n",
    "print('Медианное значение заказа на 19 августа =', median_19)\n",
    "orders.query('date == \"2019-08-19\" & group ==\"B\"').sort_values(by='revenue', ascending=False).head()"
   ]
  },
  {
   "cell_type": "markdown",
   "metadata": {},
   "source": [
    "Был заказ  №425, 19 августа  который почти в 500 раз больше медианы.\n",
    "Этот заказ один,  можно считать выбросом и при дальнейшем анализе это надо учитывать."
   ]
  },
  {
   "cell_type": "markdown",
   "metadata": {},
   "source": [
    "## График кумулятивного среднего чека по группам"
   ]
  },
  {
   "cell_type": "code",
   "execution_count": 47,
   "metadata": {},
   "outputs": [
    {
     "data": {
      "image/png": "[encoded data removed]",
      "text/plain": [
       "<Figure size 432x360 with 1 Axes>"
      ]
     },
     "metadata": {
      "needs_background": "light"
     },
     "output_type": "display_data"
    }
   ],
   "source": [
    "# Строим графики среднего чека группы А и В\n",
    "plt.figure(figsize=(6,5))\n",
    "plt.plot(cumulativeRevenueA['date'], cumulativeRevenueA['revenue']/cumulativeRevenueA['orders'], label='Средний чек группы A')\n",
    "plt.plot(cumulativeRevenueB['date'], cumulativeRevenueB['revenue']/cumulativeRevenueB['orders'], label='Средний чек группы B')\n",
    "plt.xlabel(\"Дата\")\n",
    "plt.ylabel(\"Выручка\")\n",
    "plt.title('График кумулятивного среднего чека по группам')\n",
    "plt.xticks(rotation=90)\n",
    "plt.grid()\n",
    "plt.legend() ;"
   ]
  },
  {
   "cell_type": "markdown",
   "metadata": {},
   "source": [
    "Выводы:\n",
    "- В первой половине в группе B чек преимущественно больше, но есть даты где и наоборот \n",
    "- Чек больше в A -  1 августа и 12-14 августа. \n",
    "- В основном B стабильно больше. \n",
    "- Видно сильное влияние на средний чек заказа №425\n",
    "- После 19 августа средний чек в B плавно снижается\n",
    "- Но в группе A он с 18 августа медленно нарастает."
   ]
  },
  {
   "cell_type": "markdown",
   "metadata": {},
   "source": [
    "## График относительного изменения кумулятивного среднего чека группы B к группе A"
   ]
  },
  {
   "cell_type": "code",
   "execution_count": 48,
   "metadata": {},
   "outputs": [
    {
     "data": {
      "image/png": "[encoded data removed]",
      "text/plain": [
       "<Figure size 432x360 with 1 Axes>"
      ]
     },
     "metadata": {
      "needs_background": "light"
     },
     "output_type": "display_data"
    }
   ],
   "source": [
    "# собираем данные в одном датафрейме\n",
    "mergedCumulativeRevenue = cumulativeRevenueA.merge(\n",
    "    cumulativeRevenueB, left_on='date', right_on='date', how='left', suffixes=['A', 'B'])\n",
    "\n",
    "# cтроим отношение средних чеков\n",
    "plt.figure(figsize=(6,5))\n",
    "plt.plot(mergedCumulativeRevenue['date'], \n",
    "         (mergedCumulativeRevenue['revenueB']/mergedCumulativeRevenue['ordersB'])/(\n",
    "             mergedCumulativeRevenue['revenueA']/mergedCumulativeRevenue['ordersA'])-1)\n",
    "# добавляем ось X\n",
    "plt.axhline(y=0, color='red', linestyle='--')\n",
    "plt.xlabel(\"Дата\")\n",
    "plt.ylabel(\"Соотношение изменения среднего чека\")\n",
    "plt.title('График относительного изменения кумулятивного среднего чека группы B к группе A')\n",
    "plt.xticks(rotation=90)\n",
    "plt.grid() ;"
   ]
  },
  {
   "cell_type": "markdown",
   "metadata": {},
   "source": [
    "Выводы:\n",
    "- На графике видны несколько резких скачков. Это крупные заказы и выбросы \n",
    "- Средний чек B растёт и 2 августа уже превышает A и останавливает рост 7 августа\n",
    "- После 7 августа наблюдается падение до 13 августа\n",
    "- С 12 по 15 августа средний чек A был больше B\n",
    "- С 16 августа чек находится больше A до конца месяца. \n",
    "- Хорошо видно, что 19 августа был сильный всплеск (рост) за счет заказа №425 с аномально большим объемом"
   ]
  },
  {
   "cell_type": "markdown",
   "metadata": {},
   "source": [
    "## График кумулятивного среднего количества заказов по группам. "
   ]
  },
  {
   "cell_type": "code",
   "execution_count": 49,
   "metadata": {},
   "outputs": [
    {
     "data": {
      "image/png": "[encoded data removed]",
      "text/plain": [
       "<Figure size 720x360 with 1 Axes>"
      ]
     },
     "metadata": {
      "needs_background": "light"
     },
     "output_type": "display_data"
    }
   ],
   "source": [
    "cumulativeData['conversion'] = cumulativeData['orders']/cumulativeData['visitors']\n",
    "\n",
    "cumulativeDataA = cumulativeData[cumulativeData['group']=='A']\n",
    "cumulativeDataB = cumulativeData[cumulativeData['group']=='B']\n",
    "#Строим график \n",
    "plt.figure(figsize=(10,5))\n",
    "plt.grid()\n",
    "plt.plot(cumulativeDataA['date'], cumulativeDataA['conversion'], label='A')\n",
    "plt.plot(cumulativeDataB['date'], cumulativeDataB['conversion'], label='B')\n",
    "plt.xlabel(\"Дата\")\n",
    "plt.ylabel(\"Среднее количество заказов\")\n",
    "plt.title('График кумулятивного среднего количества заказов по группам')\n",
    "plt.legend()\n",
    "# задаем масштаб осей\n",
    "plt.axis([dt.datetime(2019, 8, 1), dt.datetime(2019, 8, 31), 0.02, 0.04]);"
   ]
  },
  {
   "cell_type": "markdown",
   "metadata": {},
   "source": [
    "Группы колебались около одного значения, но затем конверсия группы B вырвалась вперёд и зафиксировалась, а конверсия группы A просела и также зафиксировалась."
   ]
  },
  {
   "cell_type": "markdown",
   "metadata": {},
   "source": [
    "Выводы:\n",
    "- С начала месяца среднего количества заказов до 5 августа группы A была больше\n",
    "- После пика начинается падение и начиная с 9 августа переходит в стагнацию в минимальном диапазоне 0,0295-0,031\n",
    "-  Среднее количество заказов группы B с 4 августа начинает рост, 6 августа превышает показатель A и росла до 10 августа не превышая 0,0365\n",
    "- Далее в группе В постепенное снижение, но с небольшой динамикой между 15 и 17 числом  "
   ]
  },
  {
   "cell_type": "markdown",
   "metadata": {},
   "source": [
    "## График относительного изменения кумулятивного среднего количества заказов группы B к группе A."
   ]
  },
  {
   "cell_type": "code",
   "execution_count": 50,
   "metadata": {},
   "outputs": [
    {
     "data": {
      "image/png": "[encoded data removed]",
      "text/plain": [
       "<Figure size 720x360 with 1 Axes>"
      ]
     },
     "metadata": {
      "needs_background": "light"
     },
     "output_type": "display_data"
    }
   ],
   "source": [
    "mergedCumulativeConversions = cumulativeDataA[['date','conversion']].merge(\n",
    "    cumulativeDataB[['date','conversion']],\\\n",
    "    left_on='date', right_on='date', how='left', suffixes=['A', 'B'])\n",
    "\n",
    "plt.figure(figsize=(10,5))\n",
    "plt.grid()\n",
    "plt.plot(mergedCumulativeConversions['date'], mergedCumulativeConversions['conversionB']/mergedCumulativeConversions['conversionA']-1, label=\"Относительный прирост конверсии группы B относительно группы A\")\n",
    "plt.xlabel(\"Дата\")\n",
    "plt.ylabel(\"Cоотношение количества заказов\")\n",
    "plt.title('График относительного изменения кумулятивного среднего количества заказов группы B к группе A.')\n",
    "\n",
    "plt.axhline(y=0, color='black', linestyle='--') \n",
    "plt.axhline(y=0.15, color='red', linestyle='--') \n",
    "plt.axhline(y=0.1, color='red', linestyle='--') \n",
    "plt.axhline(y=0.2, color='grey', linestyle='--')\n",
    "# задаем масштаб осей\n",
    "plt.axis([dt.datetime(2019, 8, 1), dt.datetime(2019, 8, 31), -0.5, 0.5]);"
   ]
  },
  {
   "cell_type": "markdown",
   "metadata": {},
   "source": [
    "Начиная с 6 числа группа B лидирует по кумулятивному среднему количеству заказов: растет, зафесировалость на приросте в 20% и спустилось до 10 %"
   ]
  },
  {
   "cell_type": "markdown",
   "metadata": {},
   "source": [
    "Выводы:\n",
    "- С 3 по 5 - несколько дней, когда конверсия в A была больше на 5-10%; \n",
    "- 2 августа - был сильный рост конверсии в группе B и по итогу дня результат \"B\" был на 5% больше \"A\" \n",
    "- Предположим по графику из пункта 4 (где заметен скачок кумулятивного среднего количества заказов), что была акция или скидка\n",
    "- Начиная с 6 августа группа В  лидировала до конца периода; \n",
    "- Кумулятивное среднее количество заказов росло до 15 августа, и разница с A на максимуме составила около 20%, затем плавное снижение показателя до 10%-14%."
   ]
  },
  {
   "cell_type": "markdown",
   "metadata": {},
   "source": [
    "## Точечный график количества заказов по пользователям. "
   ]
  },
  {
   "cell_type": "code",
   "execution_count": 51,
   "metadata": {},
   "outputs": [
    {
     "name": "stdout",
     "output_type": "stream",
     "text": [
      "          userId  orders\n",
      "1023  4256040402      11\n",
      "591   2458001652      11\n",
      "569   2378935119       9\n",
      "487   2038680547       8\n",
      "44     199603092       5\n"
     ]
    }
   ],
   "source": [
    "#Подсчитаем количество заказов по пользователям \n",
    "ordersByUsers = (\n",
    "    orders.groupby('visitorId', as_index=False)\n",
    "    .agg({'transactionId': 'nunique'})\n",
    ")\n",
    "\n",
    "ordersByUsers.columns = ['userId', 'orders']\n",
    "\n",
    "print(ordersByUsers.sort_values(by='orders', ascending=False).head())"
   ]
  },
  {
   "cell_type": "code",
   "execution_count": 52,
   "metadata": {},
   "outputs": [
    {
     "data": {
      "image/png": "[encoded data removed]",
      "text/plain": [
       "<Figure size 720x360 with 1 Axes>"
      ]
     },
     "metadata": {
      "needs_background": "light"
     },
     "output_type": "display_data"
    }
   ],
   "source": [
    "x_values = pd.Series(range(0,len(ordersByUsers)))\n",
    "\n",
    "\n",
    "plt.figure(figsize=(10,5))\n",
    "plt.grid()\n",
    "plt.xlabel(\"Количество пользователей\")\n",
    "plt.ylabel(\"Количество заказов\")\n",
    "plt.title('График количества заказов по пользователям')\n",
    "\n",
    "plt.scatter(x_values, ordersByUsers['orders']);"
   ]
  },
  {
   "cell_type": "markdown",
   "metadata": {},
   "source": [
    "Выводы:\n",
    "- Больше всего пользователей которые совершили 1 заказ. \n",
    "- Много пользователей с 2-4 заказами. Их точная доля не ясна — непонятно, считать их аномалиями или нет \n",
    "- Нужно посчитать процентили (95 и 99)"
   ]
  },
  {
   "cell_type": "markdown",
   "metadata": {},
   "source": [
    "## Посчитать 95-й и 99-й перцентили количества заказов на пользователя. Выбрать границу для определения аномальных пользователей."
   ]
  },
  {
   "cell_type": "code",
   "execution_count": 53,
   "metadata": {},
   "outputs": [
    {
     "name": "stdout",
     "output_type": "stream",
     "text": [
      "[2. 4.]\n"
     ]
    }
   ],
   "source": [
    "print(np.percentile(ordersByUsers['orders'], [95, 99])) "
   ]
  },
  {
   "cell_type": "code",
   "execution_count": 54,
   "metadata": {},
   "outputs": [
    {
     "name": "stdout",
     "output_type": "stream",
     "text": [
      "[2. 2. 2. 3. 4.]\n"
     ]
    }
   ],
   "source": [
    "# Для большей точности рассчитаем все процентили с 95 по 99\n",
    "print(np.percentile(ordersByUsers['orders'], [95,96,97,98, 99]))"
   ]
  },
  {
   "cell_type": "markdown",
   "metadata": {},
   "source": [
    "Не более 2% пользователей оформляли больше чем 3 заказа и не более 3 % пользоавтелей совершали 2 заказов.\n",
    "Разумно выбрать 2 или 3 заказа на одного пользователя за верхнюю границу числа заказов, и отсеять аномальных пользователей по ней. "
   ]
  },
  {
   "cell_type": "markdown",
   "metadata": {},
   "source": [
    "## Постройть точечный график стоимостей заказов. "
   ]
  },
  {
   "cell_type": "code",
   "execution_count": 55,
   "metadata": {},
   "outputs": [
    {
     "data": {
      "text/plain": [
       "425     1294500\n",
       "1196     202740\n",
       "858       93940\n",
       "1136      92550\n",
       "744       86620\n",
       "Name: revenue, dtype: int64"
      ]
     },
     "execution_count": 55,
     "metadata": {},
     "output_type": "execute_result"
    }
   ],
   "source": [
    "# 19 числа был очень большой заказ и по крафикам видно, что есть ещё большие заказы.\n",
    "# Чтобы определится с числом по которому мы органичим выборку, отсортируем данные\n",
    "orders_head = orders['revenue'].sort_values(ascending=False).head()\n",
    "orders_head"
   ]
  },
  {
   "cell_type": "markdown",
   "metadata": {},
   "source": [
    "Есть заказ на сумму 202740. Это будет нашим потолком цен"
   ]
  },
  {
   "cell_type": "code",
   "execution_count": 56,
   "metadata": {},
   "outputs": [
    {
     "data": {
      "text/html": [
       "<div>\n",
       "<style scoped>\n",
       "    .dataframe tbody tr th:only-of-type {\n",
       "        vertical-align: middle;\n",
       "    }\n",
       "\n",
       "    .dataframe tbody tr th {\n",
       "        vertical-align: top;\n",
       "    }\n",
       "\n",
       "    .dataframe thead th {\n",
       "        text-align: right;\n",
       "    }\n",
       "</style>\n",
       "<table border=\"1\" class=\"dataframe\">\n",
       "  <thead>\n",
       "    <tr style=\"text-align: right;\">\n",
       "      <th></th>\n",
       "      <th>transactionId</th>\n",
       "      <th>visitorId</th>\n",
       "      <th>date</th>\n",
       "      <th>revenue</th>\n",
       "      <th>group</th>\n",
       "    </tr>\n",
       "  </thead>\n",
       "  <tbody>\n",
       "    <tr>\n",
       "      <th>0</th>\n",
       "      <td>3667963787</td>\n",
       "      <td>3312258926</td>\n",
       "      <td>2019-08-15</td>\n",
       "      <td>1650</td>\n",
       "      <td>B</td>\n",
       "    </tr>\n",
       "    <tr>\n",
       "      <th>1</th>\n",
       "      <td>2804400009</td>\n",
       "      <td>3642806036</td>\n",
       "      <td>2019-08-15</td>\n",
       "      <td>730</td>\n",
       "      <td>B</td>\n",
       "    </tr>\n",
       "    <tr>\n",
       "      <th>2</th>\n",
       "      <td>2961555356</td>\n",
       "      <td>4069496402</td>\n",
       "      <td>2019-08-15</td>\n",
       "      <td>400</td>\n",
       "      <td>A</td>\n",
       "    </tr>\n",
       "    <tr>\n",
       "      <th>3</th>\n",
       "      <td>3797467345</td>\n",
       "      <td>1196621759</td>\n",
       "      <td>2019-08-15</td>\n",
       "      <td>9759</td>\n",
       "      <td>B</td>\n",
       "    </tr>\n",
       "    <tr>\n",
       "      <th>4</th>\n",
       "      <td>2282983706</td>\n",
       "      <td>2322279887</td>\n",
       "      <td>2019-08-15</td>\n",
       "      <td>2308</td>\n",
       "      <td>B</td>\n",
       "    </tr>\n",
       "    <tr>\n",
       "      <th>...</th>\n",
       "      <td>...</td>\n",
       "      <td>...</td>\n",
       "      <td>...</td>\n",
       "      <td>...</td>\n",
       "      <td>...</td>\n",
       "    </tr>\n",
       "    <tr>\n",
       "      <th>1191</th>\n",
       "      <td>3592955527</td>\n",
       "      <td>608641596</td>\n",
       "      <td>2019-08-14</td>\n",
       "      <td>16490</td>\n",
       "      <td>B</td>\n",
       "    </tr>\n",
       "    <tr>\n",
       "      <th>1192</th>\n",
       "      <td>2662137336</td>\n",
       "      <td>3733762160</td>\n",
       "      <td>2019-08-14</td>\n",
       "      <td>6490</td>\n",
       "      <td>B</td>\n",
       "    </tr>\n",
       "    <tr>\n",
       "      <th>1193</th>\n",
       "      <td>2203539145</td>\n",
       "      <td>370388673</td>\n",
       "      <td>2019-08-14</td>\n",
       "      <td>3190</td>\n",
       "      <td>A</td>\n",
       "    </tr>\n",
       "    <tr>\n",
       "      <th>1194</th>\n",
       "      <td>1807773912</td>\n",
       "      <td>573423106</td>\n",
       "      <td>2019-08-14</td>\n",
       "      <td>10550</td>\n",
       "      <td>A</td>\n",
       "    </tr>\n",
       "    <tr>\n",
       "      <th>1195</th>\n",
       "      <td>1947021204</td>\n",
       "      <td>1614305549</td>\n",
       "      <td>2019-08-14</td>\n",
       "      <td>100</td>\n",
       "      <td>A</td>\n",
       "    </tr>\n",
       "  </tbody>\n",
       "</table>\n",
       "<p>1195 rows × 5 columns</p>\n",
       "</div>"
      ],
      "text/plain": [
       "      transactionId   visitorId       date  revenue group\n",
       "0        3667963787  3312258926 2019-08-15     1650     B\n",
       "1        2804400009  3642806036 2019-08-15      730     B\n",
       "2        2961555356  4069496402 2019-08-15      400     A\n",
       "3        3797467345  1196621759 2019-08-15     9759     B\n",
       "4        2282983706  2322279887 2019-08-15     2308     B\n",
       "...             ...         ...        ...      ...   ...\n",
       "1191     3592955527   608641596 2019-08-14    16490     B\n",
       "1192     2662137336  3733762160 2019-08-14     6490     B\n",
       "1193     2203539145   370388673 2019-08-14     3190     A\n",
       "1194     1807773912   573423106 2019-08-14    10550     A\n",
       "1195     1947021204  1614305549 2019-08-14      100     A\n",
       "\n",
       "[1195 rows x 5 columns]"
      ]
     },
     "execution_count": 56,
     "metadata": {},
     "output_type": "execute_result"
    }
   ],
   "source": [
    "orders_1 = orders[orders['revenue']< 202740]\n",
    "orders_1"
   ]
  },
  {
   "cell_type": "code",
   "execution_count": 59,
   "metadata": {},
   "outputs": [
    {
     "data": {
      "image/png": "[encoded data removed]",
      "text/plain": [
       "<Figure size 1080x360 with 1 Axes>"
      ]
     },
     "metadata": {
      "needs_background": "light"
     },
     "output_type": "display_data"
    }
   ],
   "source": [
    "# В данных есть выбросы, которые искажают график. Уберем значения больше 202740 .\n",
    "orders_1 = orders[orders['revenue']< 202740]['revenue']\n",
    "xn_values = pd.Series(range(0,len(orders_1)))\n",
    "plt.figure(figsize=(15,5))\n",
    "plt.grid()\n",
    "plt.xlabel(\"Количество пользователей\")\n",
    "plt.ylabel(\"Стоимость заказов\")\n",
    "plt.title('График стоимостей заказов')\n",
    "plt.scatter(xn_values, orders_1);\n"
   ]
  },
  {
   "cell_type": "markdown",
   "metadata": {},
   "source": [
    "Выводы и предположения:\n",
    "- Средняя стоимость заказа не превышает 20000 тыс.руб. \n",
    "- Чтобы найти более точную границу аномальных заказов рассчитаем процентили."
   ]
  },
  {
   "cell_type": "markdown",
   "metadata": {},
   "source": [
    "## Посчитать 95-й и 99-й перцентили стоимости заказов. Выбрать границу для определения аномальных заказов."
   ]
  },
  {
   "cell_type": "code",
   "execution_count": 60,
   "metadata": {},
   "outputs": [
    {
     "name": "stdout",
     "output_type": "stream",
     "text": [
      "[28000.  58233.2]\n"
     ]
    }
   ],
   "source": [
    "print(np.percentile(orders['revenue'], [95, 99])) "
   ]
  },
  {
   "cell_type": "markdown",
   "metadata": {},
   "source": [
    "5% заказов не более 28000. Только 1 % не превышает суммы 58233.2 , установим её в качестве границы для аномалий."
   ]
  },
  {
   "cell_type": "markdown",
   "metadata": {},
   "source": [
    "## Посчитать статистическую значимость различий в среднем количестве заказов между группами по «сырым» данным."
   ]
  },
  {
   "cell_type": "code",
   "execution_count": 61,
   "metadata": {},
   "outputs": [],
   "source": [
    "visitorsADaily = visitors[visitors['group']=='A'][['date', 'visitors']]\n",
    "visitorsADaily.columns = ['date', 'visitorsPerDateA']\n",
    "\n",
    "visitorsACummulative = visitorsADaily.apply(\n",
    "    lambda x: visitorsADaily[visitorsADaily['date'] <= x['date']]. \\\n",
    "                                            agg({'date' : 'max', 'visitorsPerDateA' : 'sum'}), axis=1\n",
    ")\n",
    "\n",
    "visitorsACummulative.columns = ['date', 'visitorsCummulativeA']\n",
    "\n",
    "visitorsBDaily = visitors[visitors['group']=='B'][['date', 'visitors']]\n",
    "visitorsBDaily.columns = ['date', 'visitorsPerDateB']\n",
    "\n",
    "visitorsBCummulative = visitorsBDaily.apply(\n",
    "    lambda x: visitorsBDaily[visitorsBDaily['date'] <= x['date']]. \\\n",
    "                                            agg({'date' : 'max', 'visitorsPerDateB' : 'sum'}), axis=1\n",
    ")\n",
    "\n",
    "visitorsBCummulative.columns = ['date', 'visitorsCummulativeB']\n",
    "\n",
    "ordersADaily = orders[orders['group']=='A'][['date', 'transactionId', 'visitorId', 'revenue']]\\\n",
    "    .groupby('date', as_index=False)\\\n",
    "    .agg({'transactionId' : pd.Series.nunique, 'revenue' : 'sum'})\n",
    "ordersADaily.columns = ['date', 'ordersPerDateA', 'revenuePerDateA']\n",
    "\n",
    "ordersACummulative = ordersADaily.apply(\n",
    "    lambda x: \\\n",
    "        ordersADaily[ordersADaily['date'] <= x['date']]\\\n",
    "            .agg({\n",
    "                'date' : 'max',\n",
    "                'ordersPerDateA' : 'sum',\n",
    "                'revenuePerDateA' : 'sum'}), axis=1).sort_values(by=['date'])\n",
    "\n",
    "ordersACummulative.columns = ['date', 'ordersCummulativeA', 'revenueCummulativeA']\n",
    "ordersBDaily = orders[orders['group']=='B'][['date', 'transactionId', 'visitorId', 'revenue']]\\\n",
    "    .groupby('date', as_index=False)\\\n",
    "    .agg({'transactionId' : pd.Series.nunique, 'revenue' : 'sum'})\n",
    "ordersBDaily.columns = ['date', 'ordersPerDateB', 'revenuePerDateB']\n",
    "\n",
    "ordersBCummulative = ordersBDaily.apply(\n",
    "    lambda x: \\\n",
    "        ordersBDaily[ordersBDaily['date'] <= x['date']]\\\n",
    "            .agg({\n",
    "                'date' : 'max',\n",
    "                'ordersPerDateB' : 'sum',\n",
    "                'revenuePerDateB' : 'sum'}), axis=1).sort_values(by=['date'])\n",
    "\n",
    "ordersBCummulative.columns = ['date', 'ordersCummulativeB', 'revenueCummulativeB']"
   ]
  },
  {
   "cell_type": "code",
   "execution_count": 62,
   "metadata": {},
   "outputs": [
    {
     "data": {
      "text/html": [
       "<div>\n",
       "<style scoped>\n",
       "    .dataframe tbody tr th:only-of-type {\n",
       "        vertical-align: middle;\n",
       "    }\n",
       "\n",
       "    .dataframe tbody tr th {\n",
       "        vertical-align: top;\n",
       "    }\n",
       "\n",
       "    .dataframe thead th {\n",
       "        text-align: right;\n",
       "    }\n",
       "</style>\n",
       "<table border=\"1\" class=\"dataframe\">\n",
       "  <thead>\n",
       "    <tr style=\"text-align: right;\">\n",
       "      <th></th>\n",
       "      <th>date</th>\n",
       "      <th>ordersPerDateA</th>\n",
       "      <th>revenuePerDateA</th>\n",
       "      <th>ordersPerDateB</th>\n",
       "      <th>revenuePerDateB</th>\n",
       "      <th>ordersCummulativeA</th>\n",
       "      <th>revenueCummulativeA</th>\n",
       "      <th>ordersCummulativeB</th>\n",
       "      <th>revenueCummulativeB</th>\n",
       "      <th>visitorsPerDateA</th>\n",
       "      <th>visitorsPerDateB</th>\n",
       "      <th>visitorsCummulativeA</th>\n",
       "      <th>visitorsCummulativeB</th>\n",
       "    </tr>\n",
       "  </thead>\n",
       "  <tbody>\n",
       "    <tr>\n",
       "      <th>0</th>\n",
       "      <td>2019-08-01</td>\n",
       "      <td>24</td>\n",
       "      <td>148579</td>\n",
       "      <td>21</td>\n",
       "      <td>101217</td>\n",
       "      <td>24</td>\n",
       "      <td>148579</td>\n",
       "      <td>21</td>\n",
       "      <td>101217</td>\n",
       "      <td>719</td>\n",
       "      <td>713</td>\n",
       "      <td>719</td>\n",
       "      <td>713</td>\n",
       "    </tr>\n",
       "    <tr>\n",
       "      <th>1</th>\n",
       "      <td>2019-08-02</td>\n",
       "      <td>20</td>\n",
       "      <td>93822</td>\n",
       "      <td>24</td>\n",
       "      <td>165531</td>\n",
       "      <td>44</td>\n",
       "      <td>242401</td>\n",
       "      <td>45</td>\n",
       "      <td>266748</td>\n",
       "      <td>619</td>\n",
       "      <td>581</td>\n",
       "      <td>1338</td>\n",
       "      <td>1294</td>\n",
       "    </tr>\n",
       "    <tr>\n",
       "      <th>2</th>\n",
       "      <td>2019-08-03</td>\n",
       "      <td>24</td>\n",
       "      <td>112473</td>\n",
       "      <td>16</td>\n",
       "      <td>114248</td>\n",
       "      <td>68</td>\n",
       "      <td>354874</td>\n",
       "      <td>61</td>\n",
       "      <td>380996</td>\n",
       "      <td>507</td>\n",
       "      <td>509</td>\n",
       "      <td>1845</td>\n",
       "      <td>1803</td>\n",
       "    </tr>\n",
       "    <tr>\n",
       "      <th>3</th>\n",
       "      <td>2019-08-04</td>\n",
       "      <td>16</td>\n",
       "      <td>70825</td>\n",
       "      <td>17</td>\n",
       "      <td>108571</td>\n",
       "      <td>84</td>\n",
       "      <td>425699</td>\n",
       "      <td>78</td>\n",
       "      <td>489567</td>\n",
       "      <td>717</td>\n",
       "      <td>770</td>\n",
       "      <td>2562</td>\n",
       "      <td>2573</td>\n",
       "    </tr>\n",
       "    <tr>\n",
       "      <th>4</th>\n",
       "      <td>2019-08-05</td>\n",
       "      <td>25</td>\n",
       "      <td>124218</td>\n",
       "      <td>23</td>\n",
       "      <td>92428</td>\n",
       "      <td>109</td>\n",
       "      <td>549917</td>\n",
       "      <td>101</td>\n",
       "      <td>581995</td>\n",
       "      <td>756</td>\n",
       "      <td>707</td>\n",
       "      <td>3318</td>\n",
       "      <td>3280</td>\n",
       "    </tr>\n",
       "  </tbody>\n",
       "</table>\n",
       "</div>"
      ],
      "text/plain": [
       "        date  ordersPerDateA  revenuePerDateA  ordersPerDateB  \\\n",
       "0 2019-08-01              24           148579              21   \n",
       "1 2019-08-02              20            93822              24   \n",
       "2 2019-08-03              24           112473              16   \n",
       "3 2019-08-04              16            70825              17   \n",
       "4 2019-08-05              25           124218              23   \n",
       "\n",
       "   revenuePerDateB  ordersCummulativeA  revenueCummulativeA  \\\n",
       "0           101217                  24               148579   \n",
       "1           165531                  44               242401   \n",
       "2           114248                  68               354874   \n",
       "3           108571                  84               425699   \n",
       "4            92428                 109               549917   \n",
       "\n",
       "   ordersCummulativeB  revenueCummulativeB  visitorsPerDateA  \\\n",
       "0                  21               101217               719   \n",
       "1                  45               266748               619   \n",
       "2                  61               380996               507   \n",
       "3                  78               489567               717   \n",
       "4                 101               581995               756   \n",
       "\n",
       "   visitorsPerDateB  visitorsCummulativeA  visitorsCummulativeB  \n",
       "0               713                   719                   713  \n",
       "1               581                  1338                  1294  \n",
       "2               509                  1845                  1803  \n",
       "3               770                  2562                  2573  \n",
       "4               707                  3318                  3280  "
      ]
     },
     "execution_count": 62,
     "metadata": {},
     "output_type": "execute_result"
    }
   ],
   "source": [
    "# Полученные данные соеденим в одну таблицу\n",
    "data = ordersADaily.merge(ordersBDaily, left_on='date', right_on='date', how='left')\\\n",
    "    .merge(ordersACummulative, left_on='date', right_on='date', how='left')\\\n",
    "    .merge(ordersBCummulative, left_on='date', right_on='date', how='left')\\\n",
    "    .merge(visitorsADaily, left_on='date', right_on='date', how='left')\\\n",
    "    .merge(visitorsBDaily, left_on='date', right_on='date', how='left')\\\n",
    "    .merge(visitorsACummulative, left_on='date', right_on='date', how='left')\\\n",
    "    .merge(visitorsBCummulative, left_on='date', right_on='date', how='left')\n",
    "data.head()"
   ]
  },
  {
   "cell_type": "markdown",
   "metadata": {},
   "source": [
    "Описание данных:\n",
    "- date — дата;\n",
    "- ordersPerDateA — количество заказов в выбранную дату в группе A;\n",
    "- revenuePerDateA — суммарная выручка в выбранную дату в группе A;\n",
    "- ordersPerDateB — количество заказов в выбранную дату в группе B;\n",
    "- revenuePerDateB — суммарная выручка в выбранную дату в группе B;\n",
    "- ordersCummulativeA — суммарное число заказов до выбранной даты включительно в группе A;\n",
    "- revenueCummulativeA — суммарная выручка до выбранной даты включительно в группе A;\n",
    "- ordersCummulativeB — суммарное количество заказов до выбранной даты включительно в группе B;\n",
    "- revenueCummulativeB — суммарная выручка до выбранной даты включительно в группе B;\n",
    "- visitorsPerDateA — количество пользователей в выбранную дату в группе A;\n",
    "- visitorsPerDateB — количество пользователей в выбранную дату в группе B;\n",
    "- visitorsCummulativeA — количество пользователей до выбранной даты включительно в группе A;\n",
    "- visitorsCummulativeB — количество пользователей до выбранной даты включительно в группе B."
   ]
  },
  {
   "cell_type": "markdown",
   "metadata": {},
   "source": [
    " Метод, который будем применять для A/B-тестирования, называется st.mannwhitneyu(). К ниму прибегают тогда, когда работа с самими значениями невозможна из-за выбросов, сильно сдвигающих параметрические результаты. Выбросы у нас присутсвуют , поэтому вариант подходит"
   ]
  },
  {
   "cell_type": "markdown",
   "metadata": {},
   "source": [
    "Посчитаем статистическую значимость различия в среднем количестве заказов между группами.\n",
    "Применим критерий и отформатируем p-value, округлив его до трёх знаков после запятой.\n",
    "Объявим переменные sampleA и sampleB, в которых пользователям из разных групп будет соответствовать количество заказов. Тем, кто ничего не заказал, будут соответствовать нули. \n",
    "Выведем относительный прирост конверсии группы B: конверсия группы B / конверсия группы A - 1. Округлим до трёх знаков после запятой (пороговое значение возьмём равное 5%)."
   ]
  },
  {
   "cell_type": "markdown",
   "metadata": {},
   "source": [
    "За нулевую гипотезу возьмём что: статистически значимых различий в среднем количестве заказов между группами нет; Альтернативная гипотеза: статистически значимые различия есть."
   ]
  },
  {
   "cell_type": "code",
   "execution_count": 63,
   "metadata": {},
   "outputs": [
    {
     "name": "stdout",
     "output_type": "stream",
     "text": [
      "alpha = 0.05\n",
      "p-value = 0.016792355056752608\n",
      "Относительный показатель 'B' и 'A' = 0.138\n"
     ]
    }
   ],
   "source": [
    "ordersByUsersA = orders[orders['group']=='A'].groupby('visitorId', as_index=False).agg({'transactionId' : pd.Series.nunique})\n",
    "ordersByUsersA.columns = ['userId', 'orders']\n",
    "\n",
    "ordersByUsersB = orders[orders['group']=='B'].groupby('visitorId', as_index=False).agg({'transactionId' : pd.Series.nunique})\n",
    "ordersByUsersB.columns = ['userId', 'orders']\n",
    "\n",
    "sampleA = pd.concat([ordersByUsersA['orders'],pd.Series(0, index=np.arange(data['visitorsPerDateA'].sum() - len(ordersByUsersA['orders'])), name='orders')],axis=0)\n",
    "\n",
    "sampleB = pd.concat([ordersByUsersB['orders'],pd.Series(0, index=np.arange(data['visitorsPerDateB'].sum() - len(ordersByUsersB['orders'])), name='orders')],axis=0)\n",
    "\n",
    "p_value =stats.mannwhitneyu(sampleA, sampleB, alternative = 'two-sided')[1]\n",
    "alpha = 0.05\n",
    "print(\"alpha =\", alpha)\n",
    "print(\"p-value =\" , p_value)\n",
    "print(\"Относительный показатель 'B' и 'A' = {0:.3f}\".format(sampleB.mean()/sampleA.mean()-1)) \n",
    "\n"
   ]
  },
  {
   "cell_type": "code",
   "execution_count": 64,
   "metadata": {},
   "outputs": [
    {
     "name": "stdout",
     "output_type": "stream",
     "text": [
      "Отвергаем нулевую гипотезу: разница статистически значима\n"
     ]
    }
   ],
   "source": [
    "if p_value < alpha:\n",
    "    print('Отвергаем нулевую гипотезу: разница статистически значима')\n",
    "else:\n",
    "    print(\n",
    "        'Не получилось отвергнуть нулевую гипотезу, вывод о различии сделать нельзя'\n",
    "    ) "
   ]
  },
  {
   "cell_type": "markdown",
   "metadata": {},
   "source": [
    "Вывод:\n",
    "p-value = 0.017 меньше 0.05. Значит, нулевую гипотезу о том, что статистически значимых различий в конверсии между группами нет, отвергаем. Это значит: по «сырым» данным различия в конверсии групп A и B есть. Однако относительный выигрыш группы \"B\" над \"A\" равен 13.8% ."
   ]
  },
  {
   "cell_type": "markdown",
   "metadata": {},
   "source": [
    "## Посчитать статистическую значимость различий в среднем чеке заказа между группами по «сырым» данным."
   ]
  },
  {
   "cell_type": "markdown",
   "metadata": {},
   "source": [
    "Чтобы рассчитать статистическую значимость различий в среднем чеке между группами, передадим критерию mannwhitneyu() данные о выручке с заказов (пороговое значение возьмём равное 5%). И найдём относительные различия в среднем чеке между группами."
   ]
  },
  {
   "cell_type": "markdown",
   "metadata": {},
   "source": [
    "Нулевая гипотеза : статистически значимых различий в средних чеках между группами нет; \n",
    "\n",
    "Альтернативная гипотеза: статистически значимые различия есть."
   ]
  },
  {
   "cell_type": "code",
   "execution_count": 65,
   "metadata": {},
   "outputs": [
    {
     "name": "stdout",
     "output_type": "stream",
     "text": [
      "alpha = 0.05\n",
      "p-value = 0.729\n",
      "Относительный показатель 'B' и 'A' = 0.259\n"
     ]
    }
   ],
   "source": [
    "p_value = stats.mannwhitneyu(\n",
    "    orders[orders['group']=='A']['revenue'],orders[orders['group']=='B']['revenue'], alternative = 'two-sided'\n",
    ")[1]\n",
    "alpha = 0.05\n",
    "\n",
    "print(\"alpha =\", alpha)\n",
    "print(\"p-value = {0:.3f}\".format(p_value))\n",
    "print(\"Относительный показатель 'B' и 'A' = {0:.3f}\".format(orders[orders['group']=='B']['revenue'].mean()\n",
    "                                                            /orders[orders['group']=='A']['revenue'].mean()-1)) "
   ]
  },
  {
   "cell_type": "code",
   "execution_count": 66,
   "metadata": {},
   "outputs": [
    {
     "name": "stdout",
     "output_type": "stream",
     "text": [
      "Не получилось отвергнуть нулевую гипотезу\n"
     ]
    }
   ],
   "source": [
    "if p_value < alpha:\n",
    "    print('Отвергаем нулевую гипотезу: разница статистически значима')\n",
    "else:\n",
    "    print(\n",
    "        'Не получилось отвергнуть нулевую гипотезу'\n",
    "    ) "
   ]
  },
  {
   "cell_type": "markdown",
   "metadata": {},
   "source": [
    "Выводы и предположения:\n",
    "- P-value значительно больше 0.05. \n",
    "- Причин отвергать нулевую гипотезу и считать, что в среднем чеке есть различия, нет. \n",
    "- Средние чеки по \"сырым\" данным схожи. Впрочем, средний чек группы B значительно выше среднего чека группы A."
   ]
  },
  {
   "cell_type": "markdown",
   "metadata": {},
   "source": [
    "## Посчитать статистическую значимость различий в среднем количестве заказов между группами по «очищенным» данным."
   ]
  },
  {
   "cell_type": "markdown",
   "metadata": {},
   "source": [
    "- Из предыдущих пунктов были приняты за аномальных пользователей тех, кто совершил 3 и больше заказов или совершил заказ дороже 58233.2 рублей. \n",
    "- Сделаем срезы пользователей с числом заказов больше 2 — usersWithManyOrders и пользователей, совершивших заказы дороже 58233.2 — usersWithExpensiveOrders. \n",
    "- Объединим их в таблице abnormalUsers. Узнаем, сколько всего аномальных пользователей атрибутом shape."
   ]
  },
  {
   "cell_type": "code",
   "execution_count": 67,
   "metadata": {},
   "outputs": [
    {
     "name": "stdout",
     "output_type": "stream",
     "text": [
      "1099    148427295\n",
      "18      199603092\n",
      "23      237748145\n",
      "37      249864742\n",
      "68      457167155\n",
      "dtype: int64\n",
      "31\n"
     ]
    }
   ],
   "source": [
    "usersWithManyOrders = pd.concat(\n",
    "    [\n",
    "        ordersByUsersA[ordersByUsersA['orders'] > 2]['userId'],\n",
    "        ordersByUsersB[ordersByUsersB['orders'] > 2]['userId'],\n",
    "    ],\n",
    "    axis=0,\n",
    ")\n",
    "usersWithExpensiveOrders = orders[orders['revenue'] > 58233.2]['visitorId']\n",
    "abnormalUsers = (\n",
    "    pd.concat([usersWithManyOrders, usersWithExpensiveOrders], axis=0)\n",
    "    .drop_duplicates()\n",
    "    .sort_values()\n",
    ")\n",
    "\n",
    "print(abnormalUsers.head())\n",
    "print(abnormalUsers.shape[0]) "
   ]
  },
  {
   "cell_type": "markdown",
   "metadata": {},
   "source": [
    "Повлияли ли их действия на результаты теста? Посчитаем статистическую значимость различий в среднем количестве заказов между группами по «очищенным» данным. Сначала подготовим выборки количества заказов по пользователям по группам теста"
   ]
  },
  {
   "cell_type": "code",
   "execution_count": 68,
   "metadata": {},
   "outputs": [],
   "source": [
    "sampleAFiltered = pd.concat(\n",
    "    [\n",
    "        ordersByUsersA[\n",
    "            np.logical_not(ordersByUsersA['userId'].isin(abnormalUsers))\n",
    "        ]['orders'],\n",
    "        pd.Series(\n",
    "            0,\n",
    "            index=np.arange(\n",
    "                data['visitorsPerDateA'].sum() - len(ordersByUsersA['orders'])\n",
    "            ),\n",
    "            name='orders',\n",
    "        ),\n",
    "    ],\n",
    "    axis=0,\n",
    ")\n",
    "sampleBFiltered = pd.concat(\n",
    "    [\n",
    "        ordersByUsersB[\n",
    "            np.logical_not(ordersByUsersB['userId'].isin(abnormalUsers))\n",
    "        ]['orders'],\n",
    "        pd.Series(\n",
    "            0,\n",
    "            index=np.arange(\n",
    "                data['visitorsPerDateB'].sum() - len(ordersByUsersB['orders'])\n",
    "            ),\n",
    "            name='orders',\n",
    "        ),\n",
    "    ],\n",
    "    axis=0,\n",
    ")"
   ]
  },
  {
   "cell_type": "markdown",
   "metadata": {},
   "source": [
    "- Применим статистический критерий Манна-Уитни к полученным выборкам\n",
    "- Ho: \"статистически значимых различий в конверсии между группами нет\"; \n",
    "- Альтернативная гипотеза будет гласить - статистически значимые различия есть."
   ]
  },
  {
   "cell_type": "code",
   "execution_count": 69,
   "metadata": {},
   "outputs": [
    {
     "name": "stdout",
     "output_type": "stream",
     "text": [
      "alpha = 0.05\n",
      "p-value = 0.010\n",
      "Относительный показатель 'B' и 'A' = 0.174\n"
     ]
    }
   ],
   "source": [
    "p_value = stats.mannwhitneyu(sampleAFiltered, sampleBFiltered, alternative = 'two-sided')[1]\n",
    "alpha = 0.05\n",
    "print(\"alpha =\", alpha)\n",
    "print(\"p-value = {0:.3f}\".format(p_value))\n",
    "print(\"Относительный показатель 'B' и 'A' = {0:.3f}\".format(sampleBFiltered.mean()/sampleAFiltered.mean()-1)) "
   ]
  },
  {
   "cell_type": "code",
   "execution_count": 70,
   "metadata": {},
   "outputs": [
    {
     "name": "stdout",
     "output_type": "stream",
     "text": [
      "Отвергаем нулевую гипотезу: разница статистически значима\n"
     ]
    }
   ],
   "source": [
    "if p_value < alpha:\n",
    "    print('Отвергаем нулевую гипотезу: разница статистически значима')\n",
    "else:\n",
    "    print('Не получилось отвергнуть нулевую гипотезу') "
   ]
  },
  {
   "cell_type": "markdown",
   "metadata": {},
   "source": [
    "Вывод: \n",
    "- p-value = 0.01 меньше 0.05. Значит, нулевую гипотезу о том, что статистически значимых различий между группами нет, - отвергаем.\n",
    "- По «очищенным» данным различия групп A и B есть. А относительный выигрыш группы \"B\" над \"A\" равен 17,4% (выше, чем с «сырыми» данными - 13.8%) ."
   ]
  },
  {
   "cell_type": "markdown",
   "metadata": {},
   "source": [
    "## Посчитать статистическую значимость различий в среднем чеке заказа между группами по «очищенным» данным."
   ]
  },
  {
   "cell_type": "markdown",
   "metadata": {},
   "source": [
    "А теперь мосмотрим произошло ли что-нибудь с результатами по среднему чеку?\n",
    "\n",
    "За нулевую гипотезу возьмём что: \"статистически значимых различий в средних чеках между группами нет\"; тогда альтернативная гипотеза будет гласить - статистически значимые различия есть."
   ]
  },
  {
   "cell_type": "code",
   "execution_count": 71,
   "metadata": {},
   "outputs": [
    {
     "name": "stdout",
     "output_type": "stream",
     "text": [
      "p-value = 0.798\n",
      "Относительный показатель 'B' и 'A' =-0.020\n"
     ]
    }
   ],
   "source": [
    "print(\n",
    "    'p-value = {0:.3f}'.format(\n",
    "        stats.mannwhitneyu(\n",
    "            orders[\n",
    "                np.logical_and(\n",
    "                    orders['group'] == 'A',\n",
    "                    np.logical_not(orders['visitorId'].isin(abnormalUsers)),\n",
    "                )\n",
    "            ]['revenue'],\n",
    "            orders[\n",
    "                np.logical_and(\n",
    "                    orders['group'] == 'B',\n",
    "                    np.logical_not(orders['visitorId'].isin(abnormalUsers)),\n",
    "                )\n",
    "            ]['revenue'],\n",
    "        )[1]\n",
    "    )\n",
    ")\n",
    "print(\n",
    "    \"Относительный показатель 'B' и 'A' ={0:.3f}\".format(\n",
    "        orders[\n",
    "            np.logical_and(\n",
    "                orders['group'] == 'B',\n",
    "                np.logical_not(orders['visitorId'].isin(abnormalUsers)),\n",
    "            )\n",
    "        ]['revenue'].mean()\n",
    "        / orders[\n",
    "            np.logical_and(\n",
    "                orders['group'] == 'A',\n",
    "                np.logical_not(orders['visitorId'].isin(abnormalUsers)),\n",
    "            )\n",
    "        ]['revenue'].mean()\n",
    "        - 1\n",
    "    )\n",
    ")"
   ]
  },
  {
   "cell_type": "markdown",
   "metadata": {},
   "source": [
    "Выводы:\n",
    "- P-value больше 0.05. Значит, причин отвергать нулевую гипотезу и считать, что в среднем чеке есть различия,тоже нет ,как и с \"сырыми\" данными. \n",
    "- А вот средний чек группы B оказался на 2% ниже среднего чека группы A, в то время как по \"сырым\" данным, он больше на 26%\n",
    "- Это связанно с аномальным заказом №425 на 1,3 млн\n",
    "- Такой пример хорошо показывает, как сильно аномалии могут влиять на результаты A/B-теста!"
   ]
  },
  {
   "cell_type": "markdown",
   "metadata": {},
   "source": [
    "## Решения по результатам теста "
   ]
  },
  {
   "cell_type": "markdown",
   "metadata": {},
   "source": [
    "Примите решение по результатам теста и объясните его. Варианты решений: 1. Остановить тест, зафиксировать победу одной из групп. 2. Остановить тест, зафиксировать отсутствие различий между группами. 3. Продолжить тест."
   ]
  },
  {
   "cell_type": "markdown",
   "metadata": {},
   "source": [
    "Имеющиеся факты:\n",
    "- Есть статистические значимые различия по среднему количеству заказов между группами по «сырым» и по данным после фильтрации аномалий. Относительный выигрыш группы \"B\" над \"A\" равен 17,4% по \"очищенным\" и 13.8% по \"сырым\" данным;\n",
    "- Нет статистически значимого различия по среднему чеку между группами ни по «сырым», ни по данным после фильтрации аномалий.Несмотря на то, что средний чек группы B оказался на 2% ниже среднего чека группы A по \"очищенным\" данным, а по \"сырым\" данным, он был большьше 26%. Это все из-за заказа на 1,3 млн."
   ]
  },
  {
   "cell_type": "markdown",
   "metadata": {},
   "source": [
    "Решение по результатам теста.\n",
    "- Исходя из обнаруженных фактов, тест следует остановить и констатировать успех и победу группы B. \n",
    "- Группа B значительно эффективнее группы A по среднему количества заказов по группам, хотя по среднему чеку группы примерно равны."
   ]
  },
  {
   "cell_type": "code",
   "execution_count": null,
   "metadata": {},
   "outputs": [],
   "source": []
  }
 ],
 "metadata": {
  "ExecuteTimeLog": [
   {
    "duration": 1360,
    "start_time": "2022-10-21T07:59:21.268Z"
   },
   {
    "duration": 224,
    "start_time": "2022-10-21T07:59:23.335Z"
   },
   {
    "duration": 13,
    "start_time": "2022-10-21T08:00:19.039Z"
   },
   {
    "duration": 18,
    "start_time": "2022-10-21T08:00:37.905Z"
   },
   {
    "duration": 16,
    "start_time": "2022-10-21T08:02:09.881Z"
   },
   {
    "duration": 14,
    "start_time": "2022-10-21T08:03:16.267Z"
   },
   {
    "duration": 15,
    "start_time": "2022-10-21T08:05:39.434Z"
   },
   {
    "duration": 5,
    "start_time": "2022-10-21T08:20:42.785Z"
   },
   {
    "duration": 18,
    "start_time": "2022-10-21T08:20:57.744Z"
   },
   {
    "duration": 9,
    "start_time": "2022-10-21T08:22:13.203Z"
   },
   {
    "duration": 7,
    "start_time": "2022-10-21T08:22:50.480Z"
   },
   {
    "duration": 6,
    "start_time": "2022-10-21T08:24:43.264Z"
   },
   {
    "duration": 7,
    "start_time": "2022-10-21T08:26:11.487Z"
   },
   {
    "duration": 6,
    "start_time": "2022-10-21T08:26:22.568Z"
   },
   {
    "duration": 7,
    "start_time": "2022-10-21T08:28:38.461Z"
   },
   {
    "duration": 8,
    "start_time": "2022-10-21T08:47:39.131Z"
   },
   {
    "duration": 7,
    "start_time": "2022-10-21T08:49:26.363Z"
   },
   {
    "duration": 11,
    "start_time": "2022-10-21T08:49:35.835Z"
   },
   {
    "duration": 5,
    "start_time": "2022-10-21T08:49:51.805Z"
   },
   {
    "duration": 11,
    "start_time": "2022-10-21T08:49:52.500Z"
   },
   {
    "duration": 5,
    "start_time": "2022-10-21T08:51:41.358Z"
   },
   {
    "duration": 11,
    "start_time": "2022-10-21T08:51:41.827Z"
   },
   {
    "duration": 3,
    "start_time": "2022-10-21T08:55:05.530Z"
   },
   {
    "duration": 73,
    "start_time": "2022-10-21T08:55:06.185Z"
   },
   {
    "duration": 22,
    "start_time": "2022-10-21T08:55:06.679Z"
   },
   {
    "duration": 15,
    "start_time": "2022-10-21T08:55:07.549Z"
   },
   {
    "duration": 7,
    "start_time": "2022-10-21T08:55:07.976Z"
   },
   {
    "duration": 6,
    "start_time": "2022-10-21T08:55:08.868Z"
   },
   {
    "duration": 20,
    "start_time": "2022-10-21T08:55:09.379Z"
   },
   {
    "duration": 5,
    "start_time": "2022-10-21T08:55:09.795Z"
   },
   {
    "duration": 5,
    "start_time": "2022-10-21T08:55:10.648Z"
   },
   {
    "duration": 8,
    "start_time": "2022-10-21T08:55:13.137Z"
   },
   {
    "duration": 6,
    "start_time": "2022-10-21T08:55:16.027Z"
   },
   {
    "duration": 4,
    "start_time": "2022-10-21T08:56:54.969Z"
   },
   {
    "duration": 12,
    "start_time": "2022-10-21T08:57:22.162Z"
   },
   {
    "duration": 13,
    "start_time": "2022-10-21T08:57:46.848Z"
   },
   {
    "duration": 6,
    "start_time": "2022-10-21T08:58:59.850Z"
   },
   {
    "duration": 5,
    "start_time": "2022-10-21T08:59:09.683Z"
   },
   {
    "duration": 12,
    "start_time": "2022-10-21T08:59:50.736Z"
   },
   {
    "duration": 12,
    "start_time": "2022-10-21T09:52:59.710Z"
   },
   {
    "duration": 271,
    "start_time": "2022-10-21T11:23:01.634Z"
   },
   {
    "duration": 257,
    "start_time": "2022-10-21T11:23:41.234Z"
   },
   {
    "duration": 263,
    "start_time": "2022-10-21T11:26:00.768Z"
   },
   {
    "duration": 273,
    "start_time": "2022-10-21T11:26:40.552Z"
   },
   {
    "duration": 182,
    "start_time": "2022-10-21T11:26:53.755Z"
   },
   {
    "duration": 204,
    "start_time": "2022-10-21T11:32:09.789Z"
   },
   {
    "duration": 241,
    "start_time": "2022-10-21T11:32:19.058Z"
   },
   {
    "duration": 203,
    "start_time": "2022-10-21T11:32:32.795Z"
   },
   {
    "duration": 260,
    "start_time": "2022-10-21T11:33:56.434Z"
   },
   {
    "duration": 283,
    "start_time": "2022-10-21T11:34:41.882Z"
   },
   {
    "duration": 268,
    "start_time": "2022-10-21T11:36:08.805Z"
   },
   {
    "duration": 213,
    "start_time": "2022-10-21T11:37:03.485Z"
   },
   {
    "duration": 202,
    "start_time": "2022-10-21T11:38:04.628Z"
   },
   {
    "duration": 225,
    "start_time": "2022-10-21T11:38:19.813Z"
   },
   {
    "duration": 233,
    "start_time": "2022-10-21T11:40:50.343Z"
   },
   {
    "duration": 11,
    "start_time": "2022-10-21T11:55:33.048Z"
   },
   {
    "duration": 15,
    "start_time": "2022-10-21T12:02:10.800Z"
   },
   {
    "duration": 16,
    "start_time": "2022-10-21T12:03:07.066Z"
   },
   {
    "duration": 15,
    "start_time": "2022-10-21T12:03:33.887Z"
   },
   {
    "duration": 76,
    "start_time": "2022-10-21T12:03:33.936Z"
   },
   {
    "duration": 188,
    "start_time": "2022-10-21T12:10:48.291Z"
   },
   {
    "duration": 382,
    "start_time": "2022-10-21T12:16:30.086Z"
   },
   {
    "duration": 218,
    "start_time": "2022-10-21T12:16:37.363Z"
   },
   {
    "duration": 343,
    "start_time": "2022-10-21T12:50:22.254Z"
   },
   {
    "duration": 364,
    "start_time": "2022-10-21T12:52:10.081Z"
   },
   {
    "duration": 430,
    "start_time": "2022-10-21T12:52:26.115Z"
   },
   {
    "duration": 337,
    "start_time": "2022-10-21T12:53:30.859Z"
   },
   {
    "duration": 333,
    "start_time": "2022-10-21T12:53:35.796Z"
   },
   {
    "duration": 301,
    "start_time": "2022-10-21T12:54:08.316Z"
   },
   {
    "duration": 1310,
    "start_time": "2022-10-22T07:26:14.714Z"
   },
   {
    "duration": 272,
    "start_time": "2022-10-22T07:26:19.191Z"
   },
   {
    "duration": 19,
    "start_time": "2022-10-22T07:26:20.475Z"
   },
   {
    "duration": 15,
    "start_time": "2022-10-22T07:26:22.719Z"
   },
   {
    "duration": 6,
    "start_time": "2022-10-22T07:26:23.454Z"
   },
   {
    "duration": 6,
    "start_time": "2022-10-22T07:26:27.034Z"
   },
   {
    "duration": 14,
    "start_time": "2022-10-22T07:26:28.515Z"
   },
   {
    "duration": 6,
    "start_time": "2022-10-22T07:26:29.655Z"
   },
   {
    "duration": 13,
    "start_time": "2022-10-22T07:26:38.304Z"
   },
   {
    "duration": 5,
    "start_time": "2022-10-22T07:26:39.455Z"
   },
   {
    "duration": 4,
    "start_time": "2022-10-22T07:26:41.383Z"
   },
   {
    "duration": 13,
    "start_time": "2022-10-22T07:26:58.984Z"
   },
   {
    "duration": 14,
    "start_time": "2022-10-22T07:27:03.027Z"
   },
   {
    "duration": 289,
    "start_time": "2022-10-22T07:27:41.415Z"
   },
   {
    "duration": 311,
    "start_time": "2022-10-22T07:27:44.349Z"
   },
   {
    "duration": 25,
    "start_time": "2022-10-22T07:29:38.920Z"
   },
   {
    "duration": 17,
    "start_time": "2022-10-22T07:29:39.808Z"
   },
   {
    "duration": 306,
    "start_time": "2022-10-22T07:29:41.880Z"
   },
   {
    "duration": 369,
    "start_time": "2022-10-22T07:29:46.482Z"
   },
   {
    "duration": 380,
    "start_time": "2022-10-22T07:30:04.720Z"
   },
   {
    "duration": 348,
    "start_time": "2022-10-22T07:30:16.639Z"
   },
   {
    "duration": 372,
    "start_time": "2022-10-22T07:30:29.920Z"
   },
   {
    "duration": 350,
    "start_time": "2022-10-22T07:30:39.746Z"
   },
   {
    "duration": 380,
    "start_time": "2022-10-22T07:30:48.801Z"
   },
   {
    "duration": 439,
    "start_time": "2022-10-22T07:30:58.504Z"
   },
   {
    "duration": 327,
    "start_time": "2022-10-22T09:37:12.580Z"
   },
   {
    "duration": 228,
    "start_time": "2022-10-22T09:37:42.771Z"
   },
   {
    "duration": 316,
    "start_time": "2022-10-22T09:44:21.100Z"
   },
   {
    "duration": 308,
    "start_time": "2022-10-22T09:45:33.945Z"
   },
   {
    "duration": 6,
    "start_time": "2022-10-22T09:45:49.034Z"
   },
   {
    "duration": 320,
    "start_time": "2022-10-22T09:45:50.306Z"
   },
   {
    "duration": 3,
    "start_time": "2022-10-22T09:46:13.731Z"
   },
   {
    "duration": 78,
    "start_time": "2022-10-22T09:46:16.232Z"
   },
   {
    "duration": 17,
    "start_time": "2022-10-22T09:46:16.810Z"
   },
   {
    "duration": 15,
    "start_time": "2022-10-22T09:46:17.986Z"
   },
   {
    "duration": 5,
    "start_time": "2022-10-22T09:46:18.536Z"
   },
   {
    "duration": 11,
    "start_time": "2022-10-22T09:46:20.034Z"
   },
   {
    "duration": 14,
    "start_time": "2022-10-22T09:46:27.539Z"
   },
   {
    "duration": 5,
    "start_time": "2022-10-22T09:46:28.632Z"
   },
   {
    "duration": 316,
    "start_time": "2022-10-22T09:46:43.337Z"
   },
   {
    "duration": 4,
    "start_time": "2022-10-22T09:46:52.603Z"
   },
   {
    "duration": 80,
    "start_time": "2022-10-22T09:46:53.112Z"
   },
   {
    "duration": 16,
    "start_time": "2022-10-22T09:46:53.608Z"
   },
   {
    "duration": 15,
    "start_time": "2022-10-22T09:46:54.362Z"
   },
   {
    "duration": 6,
    "start_time": "2022-10-22T09:46:54.768Z"
   },
   {
    "duration": 10,
    "start_time": "2022-10-22T09:46:56.600Z"
   },
   {
    "duration": 14,
    "start_time": "2022-10-22T09:46:57.689Z"
   },
   {
    "duration": 5,
    "start_time": "2022-10-22T09:46:58.528Z"
   },
   {
    "duration": 309,
    "start_time": "2022-10-22T09:46:59.752Z"
   },
   {
    "duration": 5,
    "start_time": "2022-10-22T09:48:02.678Z"
   },
   {
    "duration": 11,
    "start_time": "2022-10-22T09:48:04.910Z"
   },
   {
    "duration": 12,
    "start_time": "2022-10-22T09:48:06.129Z"
   },
   {
    "duration": 257,
    "start_time": "2022-10-22T09:48:08.596Z"
   },
   {
    "duration": 220,
    "start_time": "2022-10-22T09:48:09.530Z"
   },
   {
    "duration": 9,
    "start_time": "2022-10-22T09:48:11.578Z"
   },
   {
    "duration": 15,
    "start_time": "2022-10-22T09:48:12.197Z"
   },
   {
    "duration": 210,
    "start_time": "2022-10-22T09:48:14.697Z"
   },
   {
    "duration": 360,
    "start_time": "2022-10-22T09:48:16.913Z"
   },
   {
    "duration": 251,
    "start_time": "2022-10-22T09:48:19.356Z"
   },
   {
    "duration": 243,
    "start_time": "2022-10-22T09:48:41.139Z"
   },
   {
    "duration": 257,
    "start_time": "2022-10-22T09:53:22.012Z"
   },
   {
    "duration": 257,
    "start_time": "2022-10-22T09:53:37.971Z"
   },
   {
    "duration": 191,
    "start_time": "2022-10-22T09:55:16.467Z"
   },
   {
    "duration": 191,
    "start_time": "2022-10-22T09:55:26.323Z"
   },
   {
    "duration": 188,
    "start_time": "2022-10-22T09:55:42.968Z"
   },
   {
    "duration": 218,
    "start_time": "2022-10-22T09:55:51.891Z"
   },
   {
    "duration": 191,
    "start_time": "2022-10-22T09:58:24.795Z"
   },
   {
    "duration": 184,
    "start_time": "2022-10-22T09:58:38.355Z"
   },
   {
    "duration": 200,
    "start_time": "2022-10-22T09:58:47.924Z"
   },
   {
    "duration": 217,
    "start_time": "2022-10-22T09:59:02.155Z"
   },
   {
    "duration": 231,
    "start_time": "2022-10-22T09:59:07.427Z"
   },
   {
    "duration": 256,
    "start_time": "2022-10-22T09:59:21.661Z"
   },
   {
    "duration": 421,
    "start_time": "2022-10-22T11:29:27.524Z"
   },
   {
    "duration": 328,
    "start_time": "2022-10-22T11:33:04.601Z"
   },
   {
    "duration": 369,
    "start_time": "2022-10-22T11:33:24.508Z"
   },
   {
    "duration": 309,
    "start_time": "2022-10-22T11:33:39.690Z"
   },
   {
    "duration": 268,
    "start_time": "2022-10-22T11:34:44.147Z"
   },
   {
    "duration": 332,
    "start_time": "2022-10-22T11:35:51.754Z"
   },
   {
    "duration": 280,
    "start_time": "2022-10-22T11:38:27.676Z"
   },
   {
    "duration": 255,
    "start_time": "2022-10-22T11:45:19.772Z"
   },
   {
    "duration": 329,
    "start_time": "2022-10-22T11:45:51.498Z"
   },
   {
    "duration": 358,
    "start_time": "2022-10-22T11:46:25.826Z"
   },
   {
    "duration": 292,
    "start_time": "2022-10-22T11:57:02.845Z"
   },
   {
    "duration": 321,
    "start_time": "2022-10-22T11:57:34.029Z"
   },
   {
    "duration": 367,
    "start_time": "2022-10-22T11:57:50.172Z"
   },
   {
    "duration": 10,
    "start_time": "2022-10-22T11:59:53.328Z"
   },
   {
    "duration": 9,
    "start_time": "2022-10-22T12:00:15.910Z"
   },
   {
    "duration": 9,
    "start_time": "2022-10-22T12:01:07.284Z"
   },
   {
    "duration": 109,
    "start_time": "2022-10-22T12:01:43.942Z"
   },
   {
    "duration": 159,
    "start_time": "2022-10-22T12:03:04.590Z"
   },
   {
    "duration": 141,
    "start_time": "2022-10-22T12:03:18.854Z"
   },
   {
    "duration": 142,
    "start_time": "2022-10-22T12:03:24.188Z"
   },
   {
    "duration": 182,
    "start_time": "2022-10-22T12:04:01.749Z"
   },
   {
    "duration": 177,
    "start_time": "2022-10-22T12:05:21.910Z"
   },
   {
    "duration": 131,
    "start_time": "2022-10-22T12:06:13.605Z"
   },
   {
    "duration": 4,
    "start_time": "2022-10-22T12:36:07.723Z"
   },
   {
    "duration": 4,
    "start_time": "2022-10-22T12:37:44.188Z"
   },
   {
    "duration": 155,
    "start_time": "2022-10-22T12:48:38.408Z"
   },
   {
    "duration": 177,
    "start_time": "2022-10-22T12:49:58.654Z"
   },
   {
    "duration": 190,
    "start_time": "2022-10-22T12:55:34.075Z"
   },
   {
    "duration": 161,
    "start_time": "2022-10-22T13:08:58.531Z"
   },
   {
    "duration": 166,
    "start_time": "2022-10-22T13:10:19.260Z"
   },
   {
    "duration": 5,
    "start_time": "2022-10-22T13:11:07.365Z"
   },
   {
    "duration": 5,
    "start_time": "2022-10-22T13:11:25.820Z"
   },
   {
    "duration": 9,
    "start_time": "2022-10-22T13:12:03.739Z"
   },
   {
    "duration": 6,
    "start_time": "2022-10-22T13:12:14.354Z"
   },
   {
    "duration": 236,
    "start_time": "2022-10-22T13:16:43.128Z"
   },
   {
    "duration": 915,
    "start_time": "2022-10-22T13:16:55.692Z"
   },
   {
    "duration": 856,
    "start_time": "2022-10-22T13:17:06.004Z"
   },
   {
    "duration": 897,
    "start_time": "2022-10-22T13:17:18.268Z"
   },
   {
    "duration": 1030,
    "start_time": "2022-10-22T13:18:22.932Z"
   },
   {
    "duration": 871,
    "start_time": "2022-10-22T13:19:15.832Z"
   },
   {
    "duration": 161,
    "start_time": "2022-10-22T13:19:22.013Z"
   },
   {
    "duration": 4,
    "start_time": "2022-10-22T13:19:24.219Z"
   },
   {
    "duration": 4,
    "start_time": "2022-10-22T13:19:24.820Z"
   },
   {
    "duration": 831,
    "start_time": "2022-10-22T13:19:26.484Z"
   },
   {
    "duration": 4,
    "start_time": "2022-10-22T13:19:36.772Z"
   },
   {
    "duration": 79,
    "start_time": "2022-10-22T13:19:37.356Z"
   },
   {
    "duration": 15,
    "start_time": "2022-10-22T13:19:37.519Z"
   },
   {
    "duration": 15,
    "start_time": "2022-10-22T13:19:37.924Z"
   },
   {
    "duration": 6,
    "start_time": "2022-10-22T13:19:38.286Z"
   },
   {
    "duration": 11,
    "start_time": "2022-10-22T13:19:38.851Z"
   },
   {
    "duration": 14,
    "start_time": "2022-10-22T13:19:39.094Z"
   },
   {
    "duration": 5,
    "start_time": "2022-10-22T13:19:39.763Z"
   },
   {
    "duration": 4,
    "start_time": "2022-10-22T13:19:40.467Z"
   },
   {
    "duration": 9,
    "start_time": "2022-10-22T13:19:41.204Z"
   },
   {
    "duration": 12,
    "start_time": "2022-10-22T13:19:41.604Z"
   },
   {
    "duration": 250,
    "start_time": "2022-10-22T13:19:42.831Z"
   },
   {
    "duration": 215,
    "start_time": "2022-10-22T13:19:43.082Z"
   },
   {
    "duration": 10,
    "start_time": "2022-10-22T13:19:44.227Z"
   },
   {
    "duration": 17,
    "start_time": "2022-10-22T13:19:44.429Z"
   },
   {
    "duration": 232,
    "start_time": "2022-10-22T13:19:45.231Z"
   },
   {
    "duration": 310,
    "start_time": "2022-10-22T13:19:45.749Z"
   },
   {
    "duration": 192,
    "start_time": "2022-10-22T13:19:46.707Z"
   },
   {
    "duration": 246,
    "start_time": "2022-10-22T13:19:47.260Z"
   },
   {
    "duration": 8,
    "start_time": "2022-10-22T13:19:49.626Z"
   },
   {
    "duration": 135,
    "start_time": "2022-10-22T13:19:50.212Z"
   },
   {
    "duration": 5,
    "start_time": "2022-10-22T13:19:52.044Z"
   },
   {
    "duration": 4,
    "start_time": "2022-10-22T13:19:52.398Z"
   },
   {
    "duration": 4,
    "start_time": "2022-10-22T13:19:54.171Z"
   },
   {
    "duration": 7,
    "start_time": "2022-10-22T13:20:02.020Z"
   },
   {
    "duration": 6,
    "start_time": "2022-10-22T13:20:18.485Z"
   },
   {
    "duration": 172,
    "start_time": "2022-10-22T13:20:30.510Z"
   },
   {
    "duration": 155,
    "start_time": "2022-10-22T13:20:46.359Z"
   },
   {
    "duration": 5,
    "start_time": "2022-10-22T13:25:11.943Z"
   },
   {
    "duration": 180,
    "start_time": "2022-10-22T13:31:41.018Z"
   },
   {
    "duration": 39,
    "start_time": "2022-10-22T14:05:57.396Z"
   },
   {
    "duration": 90,
    "start_time": "2022-10-22T14:06:03.719Z"
   },
   {
    "duration": 31,
    "start_time": "2022-10-22T14:06:06.100Z"
   },
   {
    "duration": 27,
    "start_time": "2022-10-22T14:06:16.480Z"
   },
   {
    "duration": 1230,
    "start_time": "2022-10-23T05:48:23.904Z"
   },
   {
    "duration": 236,
    "start_time": "2022-10-23T05:48:26.103Z"
   },
   {
    "duration": 20,
    "start_time": "2022-10-23T05:48:27.350Z"
   },
   {
    "duration": 14,
    "start_time": "2022-10-23T05:48:28.668Z"
   },
   {
    "duration": 7,
    "start_time": "2022-10-23T05:48:29.128Z"
   },
   {
    "duration": 11,
    "start_time": "2022-10-23T05:48:30.143Z"
   },
   {
    "duration": 14,
    "start_time": "2022-10-23T05:48:30.608Z"
   },
   {
    "duration": 4,
    "start_time": "2022-10-23T05:48:31.264Z"
   },
   {
    "duration": 4,
    "start_time": "2022-10-23T05:48:32.304Z"
   },
   {
    "duration": 11,
    "start_time": "2022-10-23T05:48:34.189Z"
   },
   {
    "duration": 11,
    "start_time": "2022-10-23T05:48:35.192Z"
   },
   {
    "duration": 273,
    "start_time": "2022-10-23T05:48:37.950Z"
   },
   {
    "duration": 312,
    "start_time": "2022-10-23T05:48:38.868Z"
   },
   {
    "duration": 10,
    "start_time": "2022-10-23T05:48:40.508Z"
   },
   {
    "duration": 15,
    "start_time": "2022-10-23T05:48:41.308Z"
   },
   {
    "duration": 205,
    "start_time": "2022-10-23T05:48:43.510Z"
   },
   {
    "duration": 388,
    "start_time": "2022-10-23T05:48:47.389Z"
   },
   {
    "duration": 185,
    "start_time": "2022-10-23T05:48:49.339Z"
   },
   {
    "duration": 256,
    "start_time": "2022-10-23T05:48:51.436Z"
   },
   {
    "duration": 9,
    "start_time": "2022-10-23T05:48:54.434Z"
   },
   {
    "duration": 120,
    "start_time": "2022-10-23T05:48:55.188Z"
   },
   {
    "duration": 4,
    "start_time": "2022-10-23T05:49:10.540Z"
   },
   {
    "duration": 3,
    "start_time": "2022-10-23T05:49:13.069Z"
   },
   {
    "duration": 6,
    "start_time": "2022-10-23T05:49:26.049Z"
   },
   {
    "duration": 160,
    "start_time": "2022-10-23T05:49:47.749Z"
   },
   {
    "duration": 5,
    "start_time": "2022-10-23T05:50:06.676Z"
   },
   {
    "duration": 216,
    "start_time": "2022-10-23T05:50:14.037Z"
   },
   {
    "duration": 27,
    "start_time": "2022-10-23T05:50:16.443Z"
   },
   {
    "duration": 135,
    "start_time": "2022-10-23T06:20:16.927Z"
   },
   {
    "duration": 16,
    "start_time": "2022-10-23T06:23:56.503Z"
   },
   {
    "duration": 164,
    "start_time": "2022-10-23T07:13:15.390Z"
   },
   {
    "duration": 12,
    "start_time": "2022-10-23T07:13:29.631Z"
   },
   {
    "duration": 17,
    "start_time": "2022-10-23T07:14:19.001Z"
   },
   {
    "duration": 199,
    "start_time": "2022-10-23T07:14:49.467Z"
   },
   {
    "duration": 15,
    "start_time": "2022-10-23T07:14:56.905Z"
   },
   {
    "duration": 286,
    "start_time": "2022-10-23T07:15:19.394Z"
   },
   {
    "duration": 14,
    "start_time": "2022-10-23T07:15:20.635Z"
   },
   {
    "duration": 264,
    "start_time": "2022-10-23T07:16:09.003Z"
   },
   {
    "duration": 19,
    "start_time": "2022-10-23T07:45:49.931Z"
   },
   {
    "duration": 159,
    "start_time": "2022-10-23T07:47:51.598Z"
   },
   {
    "duration": 14,
    "start_time": "2022-10-23T07:48:54.448Z"
   },
   {
    "duration": 13,
    "start_time": "2022-10-23T07:49:40.271Z"
   },
   {
    "duration": 4,
    "start_time": "2022-10-23T07:49:45.052Z"
   },
   {
    "duration": 6,
    "start_time": "2022-10-23T07:50:01.231Z"
   },
   {
    "duration": 17,
    "start_time": "2022-10-23T07:58:54.834Z"
   },
   {
    "duration": 17,
    "start_time": "2022-10-23T07:59:37.421Z"
   },
   {
    "duration": 8,
    "start_time": "2022-10-23T08:25:27.755Z"
   },
   {
    "duration": 20,
    "start_time": "2022-10-23T08:42:11.580Z"
   },
   {
    "duration": 19,
    "start_time": "2022-10-23T08:42:49.877Z"
   },
   {
    "duration": 30,
    "start_time": "2022-10-23T08:44:37.160Z"
   },
   {
    "duration": 9,
    "start_time": "2022-10-23T08:45:03.843Z"
   },
   {
    "duration": 26,
    "start_time": "2022-10-23T08:46:30.896Z"
   },
   {
    "duration": 4,
    "start_time": "2022-10-23T08:47:12.800Z"
   },
   {
    "duration": 12,
    "start_time": "2022-10-23T08:51:15.548Z"
   },
   {
    "duration": 12,
    "start_time": "2022-10-23T08:51:16.625Z"
   },
   {
    "duration": 13,
    "start_time": "2022-10-23T08:52:51.477Z"
   },
   {
    "duration": 16,
    "start_time": "2022-10-23T08:52:57.438Z"
   },
   {
    "duration": 1300,
    "start_time": "2022-10-23T15:02:56.746Z"
   },
   {
    "duration": 245,
    "start_time": "2022-10-23T15:02:58.048Z"
   },
   {
    "duration": 21,
    "start_time": "2022-10-23T15:02:58.295Z"
   },
   {
    "duration": 15,
    "start_time": "2022-10-23T15:02:58.318Z"
   },
   {
    "duration": 6,
    "start_time": "2022-10-23T15:02:58.335Z"
   },
   {
    "duration": 16,
    "start_time": "2022-10-23T15:02:58.343Z"
   },
   {
    "duration": 17,
    "start_time": "2022-10-23T15:02:58.361Z"
   },
   {
    "duration": 7,
    "start_time": "2022-10-23T15:02:58.380Z"
   },
   {
    "duration": 4,
    "start_time": "2022-10-23T15:02:58.389Z"
   },
   {
    "duration": 43,
    "start_time": "2022-10-23T15:02:58.396Z"
   },
   {
    "duration": 12,
    "start_time": "2022-10-23T15:02:58.441Z"
   },
   {
    "duration": 292,
    "start_time": "2022-10-23T15:02:58.454Z"
   },
   {
    "duration": 319,
    "start_time": "2022-10-23T15:02:58.748Z"
   },
   {
    "duration": 11,
    "start_time": "2022-10-23T15:02:59.070Z"
   },
   {
    "duration": 17,
    "start_time": "2022-10-23T15:02:59.083Z"
   },
   {
    "duration": 257,
    "start_time": "2022-10-23T15:02:59.101Z"
   },
   {
    "duration": 361,
    "start_time": "2022-10-23T15:02:59.360Z"
   },
   {
    "duration": 206,
    "start_time": "2022-10-23T15:02:59.723Z"
   },
   {
    "duration": 314,
    "start_time": "2022-10-23T15:02:59.931Z"
   },
   {
    "duration": 9,
    "start_time": "2022-10-23T15:03:00.246Z"
   },
   {
    "duration": 160,
    "start_time": "2022-10-23T15:03:00.257Z"
   },
   {
    "duration": 4,
    "start_time": "2022-10-23T15:03:00.418Z"
   },
   {
    "duration": 4,
    "start_time": "2022-10-23T15:03:00.430Z"
   },
   {
    "duration": 30,
    "start_time": "2022-10-23T15:03:00.436Z"
   },
   {
    "duration": 161,
    "start_time": "2022-10-23T15:03:00.468Z"
   },
   {
    "duration": 4,
    "start_time": "2022-10-23T15:03:00.631Z"
   },
   {
    "duration": 207,
    "start_time": "2022-10-23T15:03:00.637Z"
   },
   {
    "duration": 27,
    "start_time": "2022-10-23T15:03:00.847Z"
   },
   {
    "duration": 160,
    "start_time": "2022-10-23T15:03:00.876Z"
   },
   {
    "duration": 3,
    "start_time": "2022-10-23T15:03:01.037Z"
   },
   {
    "duration": 26,
    "start_time": "2022-10-23T15:03:01.042Z"
   },
   {
    "duration": 11,
    "start_time": "2022-10-23T15:03:01.070Z"
   },
   {
    "duration": 17,
    "start_time": "2022-10-23T15:03:01.083Z"
   },
   {
    "duration": 16,
    "start_time": "2022-10-23T15:03:01.102Z"
   },
   {
    "duration": 32,
    "start_time": "2022-10-23T15:03:01.120Z"
   },
   {
    "duration": 4,
    "start_time": "2022-10-23T15:03:01.154Z"
   },
   {
    "duration": 22,
    "start_time": "2022-10-23T15:03:01.159Z"
   },
   {
    "duration": 592,
    "start_time": "2022-10-24T02:40:02.233Z"
   },
   {
    "duration": 1212,
    "start_time": "2022-10-24T02:40:31.076Z"
   },
   {
    "duration": 101,
    "start_time": "2022-10-24T02:40:32.987Z"
   },
   {
    "duration": 18,
    "start_time": "2022-10-24T02:40:33.732Z"
   },
   {
    "duration": 16,
    "start_time": "2022-10-24T02:40:34.861Z"
   },
   {
    "duration": 6,
    "start_time": "2022-10-24T02:40:35.507Z"
   },
   {
    "duration": 11,
    "start_time": "2022-10-24T02:40:36.915Z"
   },
   {
    "duration": 14,
    "start_time": "2022-10-24T02:40:37.932Z"
   },
   {
    "duration": 5,
    "start_time": "2022-10-24T02:40:38.691Z"
   },
   {
    "duration": 4,
    "start_time": "2022-10-24T02:40:39.923Z"
   },
   {
    "duration": 4,
    "start_time": "2022-10-24T02:50:58.130Z"
   },
   {
    "duration": 693,
    "start_time": "2022-10-24T02:51:57.671Z"
   },
   {
    "duration": 52,
    "start_time": "2022-10-24T02:52:03.046Z"
   },
   {
    "duration": 10,
    "start_time": "2022-10-24T02:53:51.936Z"
   },
   {
    "duration": 6,
    "start_time": "2022-10-24T02:53:58.656Z"
   },
   {
    "duration": 5,
    "start_time": "2022-10-24T02:54:08.495Z"
   },
   {
    "duration": 8,
    "start_time": "2022-10-24T02:54:13.598Z"
   },
   {
    "duration": 7,
    "start_time": "2022-10-24T02:54:20.110Z"
   },
   {
    "duration": 9,
    "start_time": "2022-10-24T02:58:23.793Z"
   },
   {
    "duration": 12,
    "start_time": "2022-10-24T02:59:28.771Z"
   },
   {
    "duration": 925,
    "start_time": "2022-10-24T02:59:58.339Z"
   },
   {
    "duration": 8,
    "start_time": "2022-10-24T03:00:05.017Z"
   },
   {
    "duration": 7,
    "start_time": "2022-10-24T03:01:45.097Z"
   },
   {
    "duration": 17,
    "start_time": "2022-10-24T03:12:38.973Z"
   },
   {
    "duration": 8,
    "start_time": "2022-10-24T03:13:02.565Z"
   },
   {
    "duration": 16,
    "start_time": "2022-10-24T03:13:13.915Z"
   },
   {
    "duration": 13,
    "start_time": "2022-10-24T03:16:04.488Z"
   },
   {
    "duration": 6,
    "start_time": "2022-10-24T03:18:17.030Z"
   },
   {
    "duration": 11,
    "start_time": "2022-10-24T03:18:39.868Z"
   },
   {
    "duration": 11,
    "start_time": "2022-10-24T03:19:04.501Z"
   },
   {
    "duration": 13,
    "start_time": "2022-10-24T03:19:26.085Z"
   },
   {
    "duration": 13,
    "start_time": "2022-10-24T03:19:33.557Z"
   },
   {
    "duration": 16,
    "start_time": "2022-10-24T03:21:16.885Z"
   },
   {
    "duration": 17,
    "start_time": "2022-10-24T03:21:38.383Z"
   },
   {
    "duration": 17,
    "start_time": "2022-10-24T03:21:50.014Z"
   },
   {
    "duration": 17,
    "start_time": "2022-10-24T03:21:58.391Z"
   },
   {
    "duration": 16,
    "start_time": "2022-10-24T03:22:18.638Z"
   },
   {
    "duration": 10,
    "start_time": "2022-10-24T03:25:13.798Z"
   },
   {
    "duration": 10,
    "start_time": "2022-10-24T03:26:16.190Z"
   },
   {
    "duration": 18,
    "start_time": "2022-10-24T03:27:11.229Z"
   },
   {
    "duration": 13,
    "start_time": "2022-10-24T03:27:32.073Z"
   },
   {
    "duration": 6,
    "start_time": "2022-10-24T03:31:02.766Z"
   },
   {
    "duration": 9,
    "start_time": "2022-10-24T03:31:10.686Z"
   },
   {
    "duration": 16,
    "start_time": "2022-10-24T03:31:29.255Z"
   },
   {
    "duration": 17,
    "start_time": "2022-10-24T03:31:42.708Z"
   },
   {
    "duration": 9,
    "start_time": "2022-10-24T03:32:53.296Z"
   },
   {
    "duration": 16,
    "start_time": "2022-10-24T03:34:23.906Z"
   },
   {
    "duration": 9,
    "start_time": "2022-10-24T03:34:31.319Z"
   },
   {
    "duration": 15,
    "start_time": "2022-10-24T03:38:23.416Z"
   },
   {
    "duration": 9,
    "start_time": "2022-10-24T03:39:36.545Z"
   },
   {
    "duration": 11,
    "start_time": "2022-10-24T03:39:43.372Z"
   },
   {
    "duration": 14,
    "start_time": "2022-10-24T03:41:20.209Z"
   },
   {
    "duration": 10,
    "start_time": "2022-10-24T03:41:21.258Z"
   },
   {
    "duration": 11,
    "start_time": "2022-10-24T03:41:30.136Z"
   },
   {
    "duration": 14,
    "start_time": "2022-10-24T04:02:17.384Z"
   },
   {
    "duration": 20,
    "start_time": "2022-10-24T04:02:42.982Z"
   },
   {
    "duration": 9,
    "start_time": "2022-10-24T04:03:39.901Z"
   },
   {
    "duration": 11,
    "start_time": "2022-10-24T04:06:37.642Z"
   },
   {
    "duration": 11,
    "start_time": "2022-10-24T04:07:13.022Z"
   },
   {
    "duration": 12,
    "start_time": "2022-10-24T04:37:55.487Z"
   },
   {
    "duration": 731,
    "start_time": "2022-10-24T04:38:02.375Z"
   },
   {
    "duration": 339,
    "start_time": "2022-10-24T04:38:18.302Z"
   },
   {
    "duration": 330,
    "start_time": "2022-10-24T04:41:26.054Z"
   },
   {
    "duration": 701,
    "start_time": "2022-10-24T04:41:57.705Z"
   },
   {
    "duration": 627,
    "start_time": "2022-10-24T04:42:03.345Z"
   },
   {
    "duration": 312,
    "start_time": "2022-10-24T04:42:12.927Z"
   },
   {
    "duration": 355,
    "start_time": "2022-10-24T04:46:45.970Z"
   },
   {
    "duration": 337,
    "start_time": "2022-10-24T04:47:21.120Z"
   },
   {
    "duration": 220,
    "start_time": "2022-10-24T04:47:37.592Z"
   },
   {
    "duration": 253,
    "start_time": "2022-10-24T04:48:35.938Z"
   },
   {
    "duration": 254,
    "start_time": "2022-10-24T04:49:19.153Z"
   },
   {
    "duration": 131,
    "start_time": "2022-10-24T04:53:14.210Z"
   },
   {
    "duration": 324,
    "start_time": "2022-10-24T05:01:44.803Z"
   },
   {
    "duration": 3,
    "start_time": "2022-10-24T05:05:38.651Z"
   },
   {
    "duration": 10,
    "start_time": "2022-10-24T05:05:50.108Z"
   },
   {
    "duration": 15,
    "start_time": "2022-10-24T05:06:05.709Z"
   },
   {
    "duration": 11,
    "start_time": "2022-10-24T05:08:48.628Z"
   },
   {
    "duration": 11,
    "start_time": "2022-10-24T05:08:54.052Z"
   },
   {
    "duration": 12,
    "start_time": "2022-10-24T05:09:02.164Z"
   },
   {
    "duration": 10,
    "start_time": "2022-10-24T05:09:22.132Z"
   },
   {
    "duration": 11,
    "start_time": "2022-10-24T05:09:48.845Z"
   },
   {
    "duration": 11,
    "start_time": "2022-10-24T05:09:59.564Z"
   },
   {
    "duration": 13,
    "start_time": "2022-10-24T05:10:04.324Z"
   },
   {
    "duration": 10,
    "start_time": "2022-10-24T05:10:05.997Z"
   },
   {
    "duration": 190,
    "start_time": "2022-10-24T05:10:31.551Z"
   },
   {
    "duration": 203,
    "start_time": "2022-10-24T05:11:28.957Z"
   },
   {
    "duration": 181,
    "start_time": "2022-10-24T05:11:53.469Z"
   },
   {
    "duration": 184,
    "start_time": "2022-10-24T05:12:30.430Z"
   },
   {
    "duration": 232,
    "start_time": "2022-10-24T05:12:49.045Z"
   },
   {
    "duration": 3,
    "start_time": "2022-10-24T05:13:52.085Z"
   },
   {
    "duration": 92,
    "start_time": "2022-10-24T05:19:14.172Z"
   },
   {
    "duration": 3,
    "start_time": "2022-10-24T05:21:04.271Z"
   },
   {
    "duration": 37,
    "start_time": "2022-10-24T05:21:04.727Z"
   },
   {
    "duration": 15,
    "start_time": "2022-10-24T05:21:05.471Z"
   },
   {
    "duration": 15,
    "start_time": "2022-10-24T05:21:14.302Z"
   },
   {
    "duration": 5,
    "start_time": "2022-10-24T05:21:14.814Z"
   },
   {
    "duration": 11,
    "start_time": "2022-10-24T05:21:15.645Z"
   },
   {
    "duration": 14,
    "start_time": "2022-10-24T05:21:15.990Z"
   },
   {
    "duration": 5,
    "start_time": "2022-10-24T05:21:16.398Z"
   },
   {
    "duration": 5,
    "start_time": "2022-10-24T05:21:17.317Z"
   },
   {
    "duration": 9,
    "start_time": "2022-10-24T05:21:19.574Z"
   },
   {
    "duration": 9,
    "start_time": "2022-10-24T05:21:21.157Z"
   },
   {
    "duration": 16,
    "start_time": "2022-10-24T05:21:22.446Z"
   },
   {
    "duration": 10,
    "start_time": "2022-10-24T05:21:31.734Z"
   },
   {
    "duration": 12,
    "start_time": "2022-10-24T05:21:34.991Z"
   },
   {
    "duration": 3,
    "start_time": "2022-10-24T05:21:37.174Z"
   },
   {
    "duration": 178,
    "start_time": "2022-10-24T05:21:37.903Z"
   },
   {
    "duration": 282,
    "start_time": "2022-10-24T05:21:41.303Z"
   },
   {
    "duration": 284,
    "start_time": "2022-10-24T05:21:42.120Z"
   },
   {
    "duration": 9,
    "start_time": "2022-10-24T05:22:13.223Z"
   },
   {
    "duration": 16,
    "start_time": "2022-10-24T05:22:14.494Z"
   },
   {
    "duration": 208,
    "start_time": "2022-10-24T05:22:17.670Z"
   },
   {
    "duration": 317,
    "start_time": "2022-10-24T05:22:27.150Z"
   },
   {
    "duration": 266,
    "start_time": "2022-10-24T05:22:30.593Z"
   },
   {
    "duration": 274,
    "start_time": "2022-10-24T05:22:35.454Z"
   },
   {
    "duration": 8,
    "start_time": "2022-10-24T05:22:41.709Z"
   },
   {
    "duration": 147,
    "start_time": "2022-10-24T05:22:42.726Z"
   },
   {
    "duration": 5,
    "start_time": "2022-10-24T05:22:46.006Z"
   },
   {
    "duration": 4,
    "start_time": "2022-10-24T05:22:46.725Z"
   },
   {
    "duration": 6,
    "start_time": "2022-10-24T05:22:48.629Z"
   },
   {
    "duration": 149,
    "start_time": "2022-10-24T05:22:51.976Z"
   },
   {
    "duration": 137,
    "start_time": "2022-10-24T05:24:46.815Z"
   },
   {
    "duration": 131,
    "start_time": "2022-10-24T05:26:19.776Z"
   },
   {
    "duration": 4,
    "start_time": "2022-10-24T05:27:40.993Z"
   },
   {
    "duration": 8,
    "start_time": "2022-10-24T05:27:50.672Z"
   },
   {
    "duration": 10,
    "start_time": "2022-10-24T05:28:29.079Z"
   },
   {
    "duration": 6,
    "start_time": "2022-10-24T05:28:42.345Z"
   },
   {
    "duration": 13,
    "start_time": "2022-10-24T05:29:09.656Z"
   },
   {
    "duration": 142,
    "start_time": "2022-10-24T05:29:18.169Z"
   },
   {
    "duration": 137,
    "start_time": "2022-10-24T05:31:47.673Z"
   },
   {
    "duration": 138,
    "start_time": "2022-10-24T05:32:09.289Z"
   },
   {
    "duration": 148,
    "start_time": "2022-10-24T05:32:34.618Z"
   },
   {
    "duration": 125,
    "start_time": "2022-10-24T05:33:15.243Z"
   },
   {
    "duration": 9,
    "start_time": "2022-10-24T05:33:24.191Z"
   },
   {
    "duration": 124,
    "start_time": "2022-10-24T05:33:24.738Z"
   },
   {
    "duration": 4,
    "start_time": "2022-10-24T05:33:25.880Z"
   },
   {
    "duration": 4,
    "start_time": "2022-10-24T05:33:26.049Z"
   },
   {
    "duration": 6,
    "start_time": "2022-10-24T05:33:26.684Z"
   },
   {
    "duration": 12,
    "start_time": "2022-10-24T05:33:26.889Z"
   },
   {
    "duration": 151,
    "start_time": "2022-10-24T05:33:27.061Z"
   },
   {
    "duration": 4,
    "start_time": "2022-10-24T05:33:27.936Z"
   },
   {
    "duration": 182,
    "start_time": "2022-10-24T05:33:28.630Z"
   },
   {
    "duration": 32,
    "start_time": "2022-10-24T05:33:28.864Z"
   },
   {
    "duration": 153,
    "start_time": "2022-10-24T05:33:31.273Z"
   },
   {
    "duration": 55,
    "start_time": "2022-10-24T05:34:24.665Z"
   },
   {
    "duration": 3,
    "start_time": "2022-10-24T05:34:34.570Z"
   },
   {
    "duration": 11,
    "start_time": "2022-10-24T05:34:36.712Z"
   },
   {
    "duration": 4,
    "start_time": "2022-10-24T05:34:47.688Z"
   },
   {
    "duration": 9,
    "start_time": "2022-10-24T05:34:51.313Z"
   },
   {
    "duration": 7,
    "start_time": "2022-10-24T05:35:11.953Z"
   },
   {
    "duration": 22,
    "start_time": "2022-10-24T05:35:12.848Z"
   },
   {
    "duration": 3,
    "start_time": "2022-10-24T05:35:13.289Z"
   },
   {
    "duration": 13,
    "start_time": "2022-10-24T05:35:15.050Z"
   },
   {
    "duration": 1307,
    "start_time": "2022-10-25T15:29:04.957Z"
   },
   {
    "duration": 194,
    "start_time": "2022-10-25T15:29:06.266Z"
   },
   {
    "duration": 19,
    "start_time": "2022-10-25T15:29:08.062Z"
   },
   {
    "duration": 15,
    "start_time": "2022-10-25T15:29:08.951Z"
   },
   {
    "duration": 6,
    "start_time": "2022-10-25T15:29:09.133Z"
   },
   {
    "duration": 15,
    "start_time": "2022-10-25T15:29:09.799Z"
   },
   {
    "duration": 15,
    "start_time": "2022-10-25T15:29:09.982Z"
   },
   {
    "duration": 4,
    "start_time": "2022-10-25T15:29:10.198Z"
   },
   {
    "duration": 4,
    "start_time": "2022-10-25T15:29:10.933Z"
   },
   {
    "duration": 12,
    "start_time": "2022-10-25T15:29:12.598Z"
   },
   {
    "duration": 8,
    "start_time": "2022-10-25T15:29:13.534Z"
   },
   {
    "duration": 113,
    "start_time": "2022-10-25T15:29:13.743Z"
   },
   {
    "duration": 765,
    "start_time": "2022-10-25T15:29:33.134Z"
   },
   {
    "duration": 8,
    "start_time": "2022-10-25T15:29:54.583Z"
   }
  ],
  "kernelspec": {
   "display_name": "Python 3 (ipykernel)",
   "language": "python",
   "name": "python3"
  },
  "language_info": {
   "codemirror_mode": {
    "name": "ipython",
    "version": 3
   },
   "file_extension": ".py",
   "mimetype": "text/x-python",
   "name": "python",
   "nbconvert_exporter": "python",
   "pygments_lexer": "ipython3",
   "version": "3.9.12"
  },
  "toc": {
   "base_numbering": 1,
   "nav_menu": {},
   "number_sections": true,
   "sideBar": true,
   "skip_h1_title": true,
   "title_cell": "Table of Contents",
   "title_sidebar": "Contents",
   "toc_cell": false,
   "toc_position": {},
   "toc_section_display": true,
   "toc_window_display": false
  }
 },
 "nbformat": 4,
 "nbformat_minor": 2
}
