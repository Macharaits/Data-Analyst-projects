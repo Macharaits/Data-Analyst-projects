{
 "cells": [
  {
   "cell_type": "markdown",
   "metadata": {},
   "source": [
    "# Анализ пользовательского поведения в мобильном приложении"
   ]
  },
  {
   "cell_type": "markdown",
   "metadata": {},
   "source": [
    "# Описание данных"
   ]
  },
  {
   "cell_type": "code",
   "execution_count": 1,
   "metadata": {},
   "outputs": [],
   "source": [
    "import pandas as pd\n",
    "import matplotlib.pyplot as plt\n",
    "from plotly import graph_objects as go\n",
    "import plotly.express as px\n",
    "import numpy as np\n",
    "import seaborn as sns\n",
    "from scipy import stats as st\n",
    "import math as mth"
   ]
  },
  {
   "cell_type": "markdown",
   "metadata": {},
   "source": [
    "<a id='Изучение общей информации'></a>\n",
    "## Изучение общей информации"
   ]
  },
  {
   "cell_type": "code",
   "execution_count": 2,
   "metadata": {},
   "outputs": [
    {
     "name": "stdout",
     "output_type": "stream",
     "text": [
      "<class 'pandas.core.frame.DataFrame'>\n",
      "RangeIndex: 244126 entries, 0 to 244125\n",
      "Data columns (total 4 columns):\n",
      " #   Column          Non-Null Count   Dtype \n",
      "---  ------          --------------   ----- \n",
      " 0   EventName       244126 non-null  object\n",
      " 1   DeviceIDHash    244126 non-null  int64 \n",
      " 2   EventTimestamp  244126 non-null  int64 \n",
      " 3   ExpId           244126 non-null  int64 \n",
      "dtypes: int64(3), object(1)\n",
      "memory usage: 7.5+ MB\n"
     ]
    },
    {
     "data": {
      "text/html": [
       "<div>\n",
       "<style scoped>\n",
       "    .dataframe tbody tr th:only-of-type {\n",
       "        vertical-align: middle;\n",
       "    }\n",
       "\n",
       "    .dataframe tbody tr th {\n",
       "        vertical-align: top;\n",
       "    }\n",
       "\n",
       "    .dataframe thead th {\n",
       "        text-align: right;\n",
       "    }\n",
       "</style>\n",
       "<table border=\"1\" class=\"dataframe\">\n",
       "  <thead>\n",
       "    <tr style=\"text-align: right;\">\n",
       "      <th></th>\n",
       "      <th>EventName</th>\n",
       "      <th>DeviceIDHash</th>\n",
       "      <th>EventTimestamp</th>\n",
       "      <th>ExpId</th>\n",
       "    </tr>\n",
       "  </thead>\n",
       "  <tbody>\n",
       "    <tr>\n",
       "      <th>0</th>\n",
       "      <td>MainScreenAppear</td>\n",
       "      <td>4575588528974610257</td>\n",
       "      <td>1564029816</td>\n",
       "      <td>246</td>\n",
       "    </tr>\n",
       "    <tr>\n",
       "      <th>1</th>\n",
       "      <td>MainScreenAppear</td>\n",
       "      <td>7416695313311560658</td>\n",
       "      <td>1564053102</td>\n",
       "      <td>246</td>\n",
       "    </tr>\n",
       "    <tr>\n",
       "      <th>2</th>\n",
       "      <td>PaymentScreenSuccessful</td>\n",
       "      <td>3518123091307005509</td>\n",
       "      <td>1564054127</td>\n",
       "      <td>248</td>\n",
       "    </tr>\n",
       "    <tr>\n",
       "      <th>3</th>\n",
       "      <td>CartScreenAppear</td>\n",
       "      <td>3518123091307005509</td>\n",
       "      <td>1564054127</td>\n",
       "      <td>248</td>\n",
       "    </tr>\n",
       "    <tr>\n",
       "      <th>4</th>\n",
       "      <td>PaymentScreenSuccessful</td>\n",
       "      <td>6217807653094995999</td>\n",
       "      <td>1564055322</td>\n",
       "      <td>248</td>\n",
       "    </tr>\n",
       "  </tbody>\n",
       "</table>\n",
       "</div>"
      ],
      "text/plain": [
       "                 EventName         DeviceIDHash  EventTimestamp  ExpId\n",
       "0         MainScreenAppear  4575588528974610257      1564029816    246\n",
       "1         MainScreenAppear  7416695313311560658      1564053102    246\n",
       "2  PaymentScreenSuccessful  3518123091307005509      1564054127    248\n",
       "3         CartScreenAppear  3518123091307005509      1564054127    248\n",
       "4  PaymentScreenSuccessful  6217807653094995999      1564055322    248"
      ]
     },
     "execution_count": 2,
     "metadata": {},
     "output_type": "execute_result"
    }
   ],
   "source": [
    "df = pd.read_csv('logs_exp.csv', sep='\\t')\n",
    "#df = pd.read_csv('/datasets/logs_exp.csv', sep='\\t')\n",
    "df.info()\n",
    "df.head()"
   ]
  },
  {
   "cell_type": "markdown",
   "metadata": {},
   "source": [
    "Каждая запись в логе — это действие пользователя, или событие.\n",
    "\n",
    "EventName — название события;\n",
    "\n",
    "DeviceIDHash — уникальный идентификатор пользователя;\n",
    "\n",
    "EventTimestamp — время события;\n",
    "\n",
    "ExpId — номер эксперимента: 246 и 247 — контрольные группы, а 248 — экспериментальная."
   ]
  },
  {
   "cell_type": "markdown",
   "metadata": {},
   "source": [
    "Обнаружены 2 ошибки:\n",
    "- Строчные буквы сочетаются с прописными;\n",
    "- Несколько слов следует записывать snake_case.\n",
    "\n",
    "Изменим названия столбцов и приведём к нужному стилю. Проверим данные на наличие дубликатов и пропусков. Приведем столбец с датой к типу datatime"
   ]
  },
  {
   "cell_type": "markdown",
   "metadata": {},
   "source": [
    "<a id='Подготовка данных'></a>\n",
    "## Подготовка данных"
   ]
  },
  {
   "cell_type": "markdown",
   "metadata": {},
   "source": [
    "**Заменим названия столбцов**\n"
   ]
  },
  {
   "cell_type": "code",
   "execution_count": 3,
   "metadata": {},
   "outputs": [
    {
     "data": {
      "text/plain": [
       "Index(['event_name', 'user_id', 'even_time', 'group'], dtype='object')"
      ]
     },
     "execution_count": 3,
     "metadata": {},
     "output_type": "execute_result"
    }
   ],
   "source": [
    "df = df.rename(columns={'EventName':'event_name','DeviceIDHash': 'user_id', 'EventTimestamp': 'even_time','ExpId':'group'})\n",
    "df.columns"
   ]
  },
  {
   "cell_type": "markdown",
   "metadata": {},
   "source": [
    "**Проверим пропуски и типы данных**"
   ]
  },
  {
   "cell_type": "code",
   "execution_count": 4,
   "metadata": {},
   "outputs": [
    {
     "data": {
      "text/plain": [
       "event_name    0\n",
       "user_id       0\n",
       "even_time     0\n",
       "group         0\n",
       "dtype: int64"
      ]
     },
     "execution_count": 4,
     "metadata": {},
     "output_type": "execute_result"
    }
   ],
   "source": [
    "# наличие пропусков\n",
    "df.isna().sum()"
   ]
  },
  {
   "cell_type": "code",
   "execution_count": 5,
   "metadata": {},
   "outputs": [
    {
     "data": {
      "text/plain": [
       "event_name    0\n",
       "user_id       0\n",
       "even_time     0\n",
       "group         0\n",
       "dtype: int64"
      ]
     },
     "execution_count": 5,
     "metadata": {},
     "output_type": "execute_result"
    }
   ],
   "source": [
    "# наличие нулевых обьектов\n",
    "df.isnull().sum() "
   ]
  },
  {
   "cell_type": "code",
   "execution_count": 6,
   "metadata": {},
   "outputs": [
    {
     "data": {
      "text/plain": [
       "413"
      ]
     },
     "metadata": {},
     "output_type": "display_data"
    }
   ],
   "source": [
    "# наличие дубликатов\n",
    "display(df.duplicated().sum()) "
   ]
  },
  {
   "cell_type": "markdown",
   "metadata": {},
   "source": [
    "413 дубликатов. Рассмотрим более подробно:"
   ]
  },
  {
   "cell_type": "code",
   "execution_count": 7,
   "metadata": {},
   "outputs": [
    {
     "data": {
      "text/html": [
       "<div>\n",
       "<style scoped>\n",
       "    .dataframe tbody tr th:only-of-type {\n",
       "        vertical-align: middle;\n",
       "    }\n",
       "\n",
       "    .dataframe tbody tr th {\n",
       "        vertical-align: top;\n",
       "    }\n",
       "\n",
       "    .dataframe thead th {\n",
       "        text-align: right;\n",
       "    }\n",
       "</style>\n",
       "<table border=\"1\" class=\"dataframe\">\n",
       "  <thead>\n",
       "    <tr style=\"text-align: right;\">\n",
       "      <th></th>\n",
       "      <th>event_name</th>\n",
       "      <th>user_id</th>\n",
       "      <th>even_time</th>\n",
       "      <th>group</th>\n",
       "    </tr>\n",
       "  </thead>\n",
       "  <tbody>\n",
       "    <tr>\n",
       "      <th>104108</th>\n",
       "      <td>CartScreenAppear</td>\n",
       "      <td>34565258828294726</td>\n",
       "      <td>1564857221</td>\n",
       "      <td>248</td>\n",
       "    </tr>\n",
       "    <tr>\n",
       "      <th>17037</th>\n",
       "      <td>CartScreenAppear</td>\n",
       "      <td>197027893265565660</td>\n",
       "      <td>1564659614</td>\n",
       "      <td>246</td>\n",
       "    </tr>\n",
       "    <tr>\n",
       "      <th>23421</th>\n",
       "      <td>CartScreenAppear</td>\n",
       "      <td>197027893265565660</td>\n",
       "      <td>1564668928</td>\n",
       "      <td>246</td>\n",
       "    </tr>\n",
       "    <tr>\n",
       "      <th>34223</th>\n",
       "      <td>CartScreenAppear</td>\n",
       "      <td>197027893265565660</td>\n",
       "      <td>1564684544</td>\n",
       "      <td>246</td>\n",
       "    </tr>\n",
       "    <tr>\n",
       "      <th>112562</th>\n",
       "      <td>CartScreenAppear</td>\n",
       "      <td>197027893265565660</td>\n",
       "      <td>1564902904</td>\n",
       "      <td>246</td>\n",
       "    </tr>\n",
       "    <tr>\n",
       "      <th>144045</th>\n",
       "      <td>CartScreenAppear</td>\n",
       "      <td>197027893265565660</td>\n",
       "      <td>1564983860</td>\n",
       "      <td>246</td>\n",
       "    </tr>\n",
       "    <tr>\n",
       "      <th>235186</th>\n",
       "      <td>CartScreenAppear</td>\n",
       "      <td>299409047914517767</td>\n",
       "      <td>1565193055</td>\n",
       "      <td>248</td>\n",
       "    </tr>\n",
       "    <tr>\n",
       "      <th>42988</th>\n",
       "      <td>CartScreenAppear</td>\n",
       "      <td>438481114985016111</td>\n",
       "      <td>1564722577</td>\n",
       "      <td>247</td>\n",
       "    </tr>\n",
       "    <tr>\n",
       "      <th>136430</th>\n",
       "      <td>CartScreenAppear</td>\n",
       "      <td>789235048114585398</td>\n",
       "      <td>1564942828</td>\n",
       "      <td>246</td>\n",
       "    </tr>\n",
       "    <tr>\n",
       "      <th>238473</th>\n",
       "      <td>CartScreenAppear</td>\n",
       "      <td>789235048114585398</td>\n",
       "      <td>1565197952</td>\n",
       "      <td>246</td>\n",
       "    </tr>\n",
       "  </tbody>\n",
       "</table>\n",
       "</div>"
      ],
      "text/plain": [
       "              event_name             user_id   even_time  group\n",
       "104108  CartScreenAppear   34565258828294726  1564857221    248\n",
       "17037   CartScreenAppear  197027893265565660  1564659614    246\n",
       "23421   CartScreenAppear  197027893265565660  1564668928    246\n",
       "34223   CartScreenAppear  197027893265565660  1564684544    246\n",
       "112562  CartScreenAppear  197027893265565660  1564902904    246\n",
       "144045  CartScreenAppear  197027893265565660  1564983860    246\n",
       "235186  CartScreenAppear  299409047914517767  1565193055    248\n",
       "42988   CartScreenAppear  438481114985016111  1564722577    247\n",
       "136430  CartScreenAppear  789235048114585398  1564942828    246\n",
       "238473  CartScreenAppear  789235048114585398  1565197952    246"
      ]
     },
     "execution_count": 7,
     "metadata": {},
     "output_type": "execute_result"
    }
   ],
   "source": [
    "df[df.duplicated()==True].sort_values(by=['event_name', 'user_id', 'even_time', 'group']).head(10)"
   ]
  },
  {
   "cell_type": "markdown",
   "metadata": {},
   "source": [
    "Даже на небольшом обзоре из 10 строк мы видим большое повторение user_id (197027893265565660) 5 раз в одной группе. Удалим дубликаты"
   ]
  },
  {
   "cell_type": "code",
   "execution_count": 8,
   "metadata": {},
   "outputs": [
    {
     "data": {
      "text/plain": [
       "0"
      ]
     },
     "execution_count": 8,
     "metadata": {},
     "output_type": "execute_result"
    }
   ],
   "source": [
    "df = df.drop_duplicates()\n",
    "df.duplicated().sum()"
   ]
  },
  {
   "cell_type": "markdown",
   "metadata": {},
   "source": [
    "Пропуски отсутствуют и дубликаты удалены. Приведем типы данных в колонке 'even_time' из int64 в datetime64"
   ]
  },
  {
   "cell_type": "markdown",
   "metadata": {},
   "source": [
    "**Добавим столбец даты и времени, а также отдельный столбец дат**"
   ]
  },
  {
   "cell_type": "code",
   "execution_count": 9,
   "metadata": {},
   "outputs": [
    {
     "name": "stdout",
     "output_type": "stream",
     "text": [
      "<class 'pandas.core.frame.DataFrame'>\n",
      "Int64Index: 243713 entries, 0 to 244125\n",
      "Data columns (total 5 columns):\n",
      " #   Column      Non-Null Count   Dtype         \n",
      "---  ------      --------------   -----         \n",
      " 0   event_name  243713 non-null  object        \n",
      " 1   user_id     243713 non-null  int64         \n",
      " 2   even_time   243713 non-null  datetime64[ns]\n",
      " 3   group       243713 non-null  int64         \n",
      " 4   date        243713 non-null  datetime64[ns]\n",
      "dtypes: datetime64[ns](2), int64(2), object(1)\n",
      "memory usage: 11.2+ MB\n"
     ]
    },
    {
     "data": {
      "text/html": [
       "<div>\n",
       "<style scoped>\n",
       "    .dataframe tbody tr th:only-of-type {\n",
       "        vertical-align: middle;\n",
       "    }\n",
       "\n",
       "    .dataframe tbody tr th {\n",
       "        vertical-align: top;\n",
       "    }\n",
       "\n",
       "    .dataframe thead th {\n",
       "        text-align: right;\n",
       "    }\n",
       "</style>\n",
       "<table border=\"1\" class=\"dataframe\">\n",
       "  <thead>\n",
       "    <tr style=\"text-align: right;\">\n",
       "      <th></th>\n",
       "      <th>event_name</th>\n",
       "      <th>user_id</th>\n",
       "      <th>even_time</th>\n",
       "      <th>group</th>\n",
       "      <th>date</th>\n",
       "    </tr>\n",
       "  </thead>\n",
       "  <tbody>\n",
       "    <tr>\n",
       "      <th>0</th>\n",
       "      <td>MainScreenAppear</td>\n",
       "      <td>4575588528974610257</td>\n",
       "      <td>2019-07-25 04:43:36</td>\n",
       "      <td>246</td>\n",
       "      <td>2019-07-25</td>\n",
       "    </tr>\n",
       "    <tr>\n",
       "      <th>1</th>\n",
       "      <td>MainScreenAppear</td>\n",
       "      <td>7416695313311560658</td>\n",
       "      <td>2019-07-25 11:11:42</td>\n",
       "      <td>246</td>\n",
       "      <td>2019-07-25</td>\n",
       "    </tr>\n",
       "    <tr>\n",
       "      <th>2</th>\n",
       "      <td>PaymentScreenSuccessful</td>\n",
       "      <td>3518123091307005509</td>\n",
       "      <td>2019-07-25 11:28:47</td>\n",
       "      <td>248</td>\n",
       "      <td>2019-07-25</td>\n",
       "    </tr>\n",
       "    <tr>\n",
       "      <th>3</th>\n",
       "      <td>CartScreenAppear</td>\n",
       "      <td>3518123091307005509</td>\n",
       "      <td>2019-07-25 11:28:47</td>\n",
       "      <td>248</td>\n",
       "      <td>2019-07-25</td>\n",
       "    </tr>\n",
       "    <tr>\n",
       "      <th>4</th>\n",
       "      <td>PaymentScreenSuccessful</td>\n",
       "      <td>6217807653094995999</td>\n",
       "      <td>2019-07-25 11:48:42</td>\n",
       "      <td>248</td>\n",
       "      <td>2019-07-25</td>\n",
       "    </tr>\n",
       "  </tbody>\n",
       "</table>\n",
       "</div>"
      ],
      "text/plain": [
       "                event_name              user_id           even_time  group  \\\n",
       "0         MainScreenAppear  4575588528974610257 2019-07-25 04:43:36    246   \n",
       "1         MainScreenAppear  7416695313311560658 2019-07-25 11:11:42    246   \n",
       "2  PaymentScreenSuccessful  3518123091307005509 2019-07-25 11:28:47    248   \n",
       "3         CartScreenAppear  3518123091307005509 2019-07-25 11:28:47    248   \n",
       "4  PaymentScreenSuccessful  6217807653094995999 2019-07-25 11:48:42    248   \n",
       "\n",
       "        date  \n",
       "0 2019-07-25  \n",
       "1 2019-07-25  \n",
       "2 2019-07-25  \n",
       "3 2019-07-25  \n",
       "4 2019-07-25  "
      ]
     },
     "execution_count": 9,
     "metadata": {},
     "output_type": "execute_result"
    }
   ],
   "source": [
    "df['even_time'] = pd.to_datetime(df['even_time'], unit='s')\n",
    "df['date'] = df['even_time'].dt.strftime('%Y-%m-%d')\n",
    "df['date']=pd.to_datetime(df['date'])\n",
    "df.info()\n",
    "df.head()"
   ]
  },
  {
   "cell_type": "markdown",
   "metadata": {},
   "source": [
    "Скорректированны названия столбцов и тип данных столбца с датой. Добавили новый столбец с датой. Были удалены 413 строк с дубликатами это меньше 1 % "
   ]
  },
  {
   "cell_type": "markdown",
   "metadata": {},
   "source": [
    "<a id='Изучение и проверка данных'></a>\n",
    "## Изучение и проверка данных"
   ]
  },
  {
   "cell_type": "markdown",
   "metadata": {},
   "source": [
    "**Количество событий в логе**"
   ]
  },
  {
   "cell_type": "code",
   "execution_count": 10,
   "metadata": {},
   "outputs": [
    {
     "data": {
      "text/plain": [
       "243713"
      ]
     },
     "execution_count": 10,
     "metadata": {},
     "output_type": "execute_result"
    }
   ],
   "source": [
    "all_events = df['user_id'].count()\n",
    "all_events"
   ]
  },
  {
   "cell_type": "markdown",
   "metadata": {},
   "source": [
    "**Количество пользователей в логе**"
   ]
  },
  {
   "cell_type": "code",
   "execution_count": 11,
   "metadata": {},
   "outputs": [
    {
     "data": {
      "text/plain": [
       "7551"
      ]
     },
     "execution_count": 11,
     "metadata": {},
     "output_type": "execute_result"
    }
   ],
   "source": [
    "all_user = df[\"user_id\"].nunique()\n",
    "all_user"
   ]
  },
  {
   "cell_type": "markdown",
   "metadata": {},
   "source": [
    "**Среднее количество событий, приходящихся на пользователя**"
   ]
  },
  {
   "cell_type": "code",
   "execution_count": 12,
   "metadata": {},
   "outputs": [
    {
     "name": "stdout",
     "output_type": "stream",
     "text": [
      "Среднее количество событий на пользователя  32.0\n"
     ]
    }
   ],
   "source": [
    "print(\"Среднее количество событий на пользователя \", (all_events / all_user).round())"
   ]
  },
  {
   "cell_type": "markdown",
   "metadata": {},
   "source": [
    "Посмотрим распределение количества событий на пользователя: сколько событий произшло для каждого пользователя; и так же на распределение (медиану, среднее, квартили) и его гистограмму."
   ]
  },
  {
   "cell_type": "code",
   "execution_count": 13,
   "metadata": {},
   "outputs": [
    {
     "data": {
      "text/plain": [
       "count    7551.000000\n",
       "mean       32.275593\n",
       "std        65.154219\n",
       "min         1.000000\n",
       "25%         9.000000\n",
       "50%        20.000000\n",
       "75%        37.000000\n",
       "max      2307.000000\n",
       "Name: event_name, dtype: float64"
      ]
     },
     "execution_count": 13,
     "metadata": {},
     "output_type": "execute_result"
    }
   ],
   "source": [
    "# Распределение пользователей на количество событий\n",
    "event_user = df.groupby('user_id')['event_name'].count()\n",
    "event_user.describe()"
   ]
  },
  {
   "cell_type": "code",
   "execution_count": 14,
   "metadata": {},
   "outputs": [
    {
     "data": {
      "image/png": "[encoded data removed]",
      "text/plain": [
       "<Figure size 432x288 with 1 Axes>"
      ]
     },
     "metadata": {
      "needs_background": "light"
     },
     "output_type": "display_data"
    }
   ],
   "source": [
    "event_user.hist(bins=50, range=(0, 250))\n",
    "plt.title('Распределение числа событий на пользователя')\n",
    "plt.xlabel('Число событий на одного пользователя')\n",
    "plt.ylabel('Число пользователей')\n",
    "plt.show()"
   ]
  },
  {
   "cell_type": "markdown",
   "metadata": {},
   "source": [
    "На графике видно, что есть участники с аномально большим количеством событий. Найдем число с помощью моды"
   ]
  },
  {
   "cell_type": "code",
   "execution_count": 15,
   "metadata": {},
   "outputs": [
    {
     "data": {
      "text/plain": [
       "0    5\n",
       "Name: event_name, dtype: int64"
      ]
     },
     "execution_count": 15,
     "metadata": {},
     "output_type": "execute_result"
    }
   ],
   "source": [
    "event_user.mode()"
   ]
  },
  {
   "cell_type": "markdown",
   "metadata": {},
   "source": [
    "Выводы:\n",
    "- Среднее: 32\n",
    "- Медиана: 20\n",
    "- Мода: 5\n",
    "\n",
    "По графику видно, что рациональнее при такой ситуации использовать медиану, а не среднее"
   ]
  },
  {
   "cell_type": "markdown",
   "metadata": {},
   "source": [
    "**Максимальная и минимальная даты**"
   ]
  },
  {
   "cell_type": "code",
   "execution_count": 24,
   "metadata": {},
   "outputs": [
    {
     "name": "stdout",
     "output_type": "stream",
     "text": [
      "Данные представлены с 2019-07-25 00:00:00 до 2019-08-07 00:00:00.\n",
      "Всего таблице - 13 дней.\n"
     ]
    }
   ],
   "source": [
    "last_day = df['date'].max()\n",
    "first_day = (df['date'].min())\n",
    "print(f'Данные представлены с {first_day} до {last_day}.')\n",
    "print(f'Всего таблице - {(last_day - first_day).days} дней.')"
   ]
  },
  {
   "cell_type": "code",
   "execution_count": 26,
   "metadata": {},
   "outputs": [],
   "source": [
    "# построение гистограммы по дате и времени\n",
    "#fig = px.histogram(df, x='date',labels={'date':'', 'event_name':'Название события'},color=\"event_name\",log_y=True,)\n",
    "#fig.update_yaxes(tickfont=dict(size=20))\n",
    "#fig.update_layout(title_text= 'Распределение количества событий по дням',font=dict(family=\"Rockwell\",size=15, color=\"black\"))\n",
    "#fig.update_layout(bargap=0.2)\n",
    "#fig.update_xaxes(title='День')\n",
    "#fig.update_yaxes(title='Количество')\n",
    "#fig.show()"
   ]
  },
  {
   "attachments": {
    "image.png": {
     "image/png": "[encoded data removed]"
    }
   },
   "cell_type": "markdown",
   "metadata": {},
   "source": [
    "![image.png](attachment:image.png)"
   ]
  },
  {
   "cell_type": "markdown",
   "metadata": {},
   "source": [
    "На гистограмме видно, что данные до 1 августа 2019 года частично отсутствуют.  На самом деле мы располагаем данными с 1 августа. У нас есть данные за целую неделю, это хорошо"
   ]
  },
  {
   "cell_type": "markdown",
   "metadata": {},
   "source": [
    "**Посчитаем сколько событий и пользователей мы потеряли, отбросив старые данные**"
   ]
  },
  {
   "cell_type": "code",
   "execution_count": 28,
   "metadata": {},
   "outputs": [
    {
     "name": "stdout",
     "output_type": "stream",
     "text": [
      "<class 'pandas.core.frame.DataFrame'>\n",
      "Int64Index: 240887 entries, 2828 to 244125\n",
      "Data columns (total 5 columns):\n",
      " #   Column      Non-Null Count   Dtype         \n",
      "---  ------      --------------   -----         \n",
      " 0   event_name  240887 non-null  object        \n",
      " 1   user_id     240887 non-null  int64         \n",
      " 2   even_time   240887 non-null  datetime64[ns]\n",
      " 3   group       240887 non-null  int64         \n",
      " 4   date        240887 non-null  datetime64[ns]\n",
      "dtypes: datetime64[ns](2), int64(2), object(1)\n",
      "memory usage: 11.0+ MB\n"
     ]
    }
   ],
   "source": [
    "data = df.query('date >= \"2019-08-01\"')\n",
    "data.info()"
   ]
  },
  {
   "cell_type": "code",
   "execution_count": 29,
   "metadata": {},
   "outputs": [
    {
     "name": "stdout",
     "output_type": "stream",
     "text": [
      "Мы потеряли 17 пользователей.\n"
     ]
    }
   ],
   "source": [
    "user= df[\"user_id\"].nunique() - data[\"user_id\"].nunique()\n",
    "print('Мы потеряли', user , 'пользователей.')"
   ]
  },
  {
   "cell_type": "code",
   "execution_count": 30,
   "metadata": {},
   "outputs": [
    {
     "name": "stdout",
     "output_type": "stream",
     "text": [
      "Мы потеряли 2826 событий.\n"
     ]
    }
   ],
   "source": [
    "event= df[\"event_name\"].count() - data[\"event_name\"].count()\n",
    "print('Мы потеряли',event, 'событий.')"
   ]
  },
  {
   "cell_type": "code",
   "execution_count": 31,
   "metadata": {},
   "outputs": [
    {
     "name": "stdout",
     "output_type": "stream",
     "text": [
      "Количество потерянных пользователей -  0.23 % от первоначального количества \n",
      "Количество потерянных событий  1.16 % от первоначального количества \n"
     ]
    }
   ],
   "source": [
    "print('Количество потерянных пользователей - ', round(user/df[\"user_id\"].nunique()*100,2) , '% от первоначального количества ')\n",
    "print(f'Количество потерянных событий ', round(event/df[\"event_name\"].count()*100,2), '% от первоначального количества ')"
   ]
  },
  {
   "cell_type": "markdown",
   "metadata": {},
   "source": [
    "Из 7551 пользователей мы потеряли 0.23% -  это очень незначительное число. И 1.16 % Из событий от первоначального количества."
   ]
  },
  {
   "cell_type": "markdown",
   "metadata": {},
   "source": [
    "**Проверка наличия пользователей из всех трёх экспериментальных групп**"
   ]
  },
  {
   "cell_type": "code",
   "execution_count": 32,
   "metadata": {},
   "outputs": [
    {
     "data": {
      "text/plain": [
       "group\n",
       "246    2484\n",
       "247    2513\n",
       "248    2537\n",
       "Name: user_id, dtype: int64"
      ]
     },
     "execution_count": 32,
     "metadata": {},
     "output_type": "execute_result"
    }
   ],
   "source": [
    "data.groupby('group')['user_id'].nunique()"
   ]
  },
  {
   "cell_type": "markdown",
   "metadata": {},
   "source": [
    "Да, все три группы есть в данных"
   ]
  },
  {
   "cell_type": "markdown",
   "metadata": {},
   "source": [
    "Вывод:\n",
    "- Данные в первоначальной таблице представлены за 13 дней с 2019-07-25 до 2019-08-07;\n",
    "- При построении графика видно, что существует перекос в датах до 1 августа представлены не все данные;\n",
    "- Оставили данные после 1 августа для исправления перекоса. Было удалено 0.23% пользователей и 1.16 % событий;\n",
    "- В нашей таблице присутствуют все группы пользователей, после корректировки данных."
   ]
  },
  {
   "cell_type": "markdown",
   "metadata": {},
   "source": [
    "<a id='Изучение воронки событий'></a>\n",
    "## Изучение воронки событий"
   ]
  },
  {
   "cell_type": "markdown",
   "metadata": {},
   "source": [
    "**События в логах**"
   ]
  },
  {
   "cell_type": "code",
   "execution_count": 33,
   "metadata": {},
   "outputs": [
    {
     "data": {
      "text/html": [
       "<div>\n",
       "<style scoped>\n",
       "    .dataframe tbody tr th:only-of-type {\n",
       "        vertical-align: middle;\n",
       "    }\n",
       "\n",
       "    .dataframe tbody tr th {\n",
       "        vertical-align: top;\n",
       "    }\n",
       "\n",
       "    .dataframe thead th {\n",
       "        text-align: right;\n",
       "    }\n",
       "</style>\n",
       "<table border=\"1\" class=\"dataframe\">\n",
       "  <thead>\n",
       "    <tr style=\"text-align: right;\">\n",
       "      <th></th>\n",
       "      <th>event_name</th>\n",
       "      <th>user_id</th>\n",
       "    </tr>\n",
       "  </thead>\n",
       "  <tbody>\n",
       "    <tr>\n",
       "      <th>1</th>\n",
       "      <td>MainScreenAppear</td>\n",
       "      <td>117328</td>\n",
       "    </tr>\n",
       "    <tr>\n",
       "      <th>2</th>\n",
       "      <td>OffersScreenAppear</td>\n",
       "      <td>46333</td>\n",
       "    </tr>\n",
       "    <tr>\n",
       "      <th>0</th>\n",
       "      <td>CartScreenAppear</td>\n",
       "      <td>42303</td>\n",
       "    </tr>\n",
       "    <tr>\n",
       "      <th>3</th>\n",
       "      <td>PaymentScreenSuccessful</td>\n",
       "      <td>33918</td>\n",
       "    </tr>\n",
       "    <tr>\n",
       "      <th>4</th>\n",
       "      <td>Tutorial</td>\n",
       "      <td>1005</td>\n",
       "    </tr>\n",
       "  </tbody>\n",
       "</table>\n",
       "</div>"
      ],
      "text/plain": [
       "                event_name  user_id\n",
       "1         MainScreenAppear   117328\n",
       "2       OffersScreenAppear    46333\n",
       "0         CartScreenAppear    42303\n",
       "3  PaymentScreenSuccessful    33918\n",
       "4                 Tutorial     1005"
      ]
     },
     "execution_count": 33,
     "metadata": {},
     "output_type": "execute_result"
    }
   ],
   "source": [
    "# события в логах, как часто встречаются и сортировка по частоте\n",
    "data_sort= data.groupby(['event_name'])['user_id'].count().reset_index()\n",
    "data_sort = data_sort.sort_values(['user_id'], ascending=False)\n",
    "data_sort"
   ]
  },
  {
   "cell_type": "code",
   "execution_count": 37,
   "metadata": {},
   "outputs": [],
   "source": [
    "#график распределения действий пользователей по их количеству\n",
    "#fig = go.Figure()\n",
    "#pull = [0]*len(data_sort['user_id'])\n",
    "#pull[data_sort['event_name'].tolist().index(data_sort['event_name'].max())] = 0.1\n",
    "#fig.add_trace(go.Pie(values=data_sort['user_id'], labels= data_sort['event_name'], pull=pull))\n",
    "#fig.update_layout(title=\"Распределение действий пользователей по их количеству\", legend_orientation=\"h\")\n",
    "#fig.show()"
   ]
  },
  {
   "attachments": {
    "image.png": {
     "image/png": "[encoded data removed]"
    }
   },
   "cell_type": "markdown",
   "metadata": {},
   "source": [
    "![image.png](attachment:image.png)"
   ]
  },
  {
   "cell_type": "markdown",
   "metadata": {},
   "source": [
    "События MainScreenAppear больше всего - 117328. Событие Tutorial в данный продуктовой воронке мало - 1005."
   ]
  },
  {
   "cell_type": "markdown",
   "metadata": {},
   "source": [
    "**Количество пользователей, совершивших каждое из этих событий и доли пользователей, которые хоть раз совершали событие**"
   ]
  },
  {
   "cell_type": "code",
   "execution_count": 38,
   "metadata": {},
   "outputs": [
    {
     "data": {
      "text/html": [
       "<div>\n",
       "<style scoped>\n",
       "    .dataframe tbody tr th:only-of-type {\n",
       "        vertical-align: middle;\n",
       "    }\n",
       "\n",
       "    .dataframe tbody tr th {\n",
       "        vertical-align: top;\n",
       "    }\n",
       "\n",
       "    .dataframe thead th {\n",
       "        text-align: right;\n",
       "    }\n",
       "</style>\n",
       "<table border=\"1\" class=\"dataframe\">\n",
       "  <thead>\n",
       "    <tr style=\"text-align: right;\">\n",
       "      <th></th>\n",
       "      <th>event_name</th>\n",
       "      <th>event_count</th>\n",
       "      <th>user_id</th>\n",
       "      <th>%</th>\n",
       "    </tr>\n",
       "  </thead>\n",
       "  <tbody>\n",
       "    <tr>\n",
       "      <th>0</th>\n",
       "      <td>MainScreenAppear</td>\n",
       "      <td>117328</td>\n",
       "      <td>7419</td>\n",
       "      <td>98.3</td>\n",
       "    </tr>\n",
       "    <tr>\n",
       "      <th>1</th>\n",
       "      <td>OffersScreenAppear</td>\n",
       "      <td>46333</td>\n",
       "      <td>4593</td>\n",
       "      <td>60.8</td>\n",
       "    </tr>\n",
       "    <tr>\n",
       "      <th>2</th>\n",
       "      <td>CartScreenAppear</td>\n",
       "      <td>42303</td>\n",
       "      <td>3734</td>\n",
       "      <td>49.5</td>\n",
       "    </tr>\n",
       "    <tr>\n",
       "      <th>3</th>\n",
       "      <td>PaymentScreenSuccessful</td>\n",
       "      <td>33918</td>\n",
       "      <td>3539</td>\n",
       "      <td>46.9</td>\n",
       "    </tr>\n",
       "    <tr>\n",
       "      <th>4</th>\n",
       "      <td>Tutorial</td>\n",
       "      <td>1005</td>\n",
       "      <td>840</td>\n",
       "      <td>11.1</td>\n",
       "    </tr>\n",
       "  </tbody>\n",
       "</table>\n",
       "</div>"
      ],
      "text/plain": [
       "                event_name  event_count  user_id     %\n",
       "0         MainScreenAppear       117328     7419  98.3\n",
       "1       OffersScreenAppear        46333     4593  60.8\n",
       "2         CartScreenAppear        42303     3734  49.5\n",
       "3  PaymentScreenSuccessful        33918     3539  46.9\n",
       "4                 Tutorial         1005      840  11.1"
      ]
     },
     "execution_count": 38,
     "metadata": {},
     "output_type": "execute_result"
    }
   ],
   "source": [
    "# количество пользователей, совершивших каждое из этих событий\n",
    "data_user = data.groupby('event_name').agg({'event_name':'count', 'user_id':'nunique'}).sort_values(by='user_id', ascending=False)\n",
    "data_user.columns = ['event_count', 'user_id']\n",
    "data_user = data_user.reset_index()\n",
    "# доля пользователей, хоть раз совершивших событие\n",
    "data_user['%'] = (data_user['user_id'] / all_user * 100).round(1) # доля хотя бы раз совершивших событие\n",
    "data_user "
   ]
  },
  {
   "cell_type": "code",
   "execution_count": 40,
   "metadata": {},
   "outputs": [],
   "source": [
    "# построение графика воронки\n",
    "#fig = go.Figure(go.Funnel(y = data_user[\"event_name\"], x = data_user[\"user_id\"],textposition = \"inside\", textinfo = \"value+percent previous\", marker = {\"color\": \"royalblue\"}))\n",
    "#fig.update_layout(title='Распределение количества пользователей по их действиям',showlegend=False,height=500, width=1000)\n",
    "#fig.show()"
   ]
  },
  {
   "attachments": {
    "image.png": {
     "image/png": "[encoded data removed]"
    }
   },
   "cell_type": "markdown",
   "metadata": {},
   "source": [
    "![image.png](attachment:image.png)"
   ]
  },
  {
   "cell_type": "code",
   "execution_count": 41,
   "metadata": {},
   "outputs": [
    {
     "data": {
      "text/html": [
       "<div>\n",
       "<style scoped>\n",
       "    .dataframe tbody tr th:only-of-type {\n",
       "        vertical-align: middle;\n",
       "    }\n",
       "\n",
       "    .dataframe tbody tr th {\n",
       "        vertical-align: top;\n",
       "    }\n",
       "\n",
       "    .dataframe thead th {\n",
       "        text-align: right;\n",
       "    }\n",
       "</style>\n",
       "<table border=\"1\" class=\"dataframe\">\n",
       "  <thead>\n",
       "    <tr style=\"text-align: right;\">\n",
       "      <th>group</th>\n",
       "      <th>event_name</th>\n",
       "      <th>246</th>\n",
       "      <th>247</th>\n",
       "      <th>248</th>\n",
       "    </tr>\n",
       "  </thead>\n",
       "  <tbody>\n",
       "    <tr>\n",
       "      <th>1</th>\n",
       "      <td>MainScreenAppear</td>\n",
       "      <td>2450</td>\n",
       "      <td>2476</td>\n",
       "      <td>2493</td>\n",
       "    </tr>\n",
       "    <tr>\n",
       "      <th>2</th>\n",
       "      <td>OffersScreenAppear</td>\n",
       "      <td>1542</td>\n",
       "      <td>1520</td>\n",
       "      <td>1531</td>\n",
       "    </tr>\n",
       "    <tr>\n",
       "      <th>0</th>\n",
       "      <td>CartScreenAppear</td>\n",
       "      <td>1266</td>\n",
       "      <td>1238</td>\n",
       "      <td>1230</td>\n",
       "    </tr>\n",
       "    <tr>\n",
       "      <th>3</th>\n",
       "      <td>PaymentScreenSuccessful</td>\n",
       "      <td>1200</td>\n",
       "      <td>1158</td>\n",
       "      <td>1181</td>\n",
       "    </tr>\n",
       "    <tr>\n",
       "      <th>4</th>\n",
       "      <td>Tutorial</td>\n",
       "      <td>278</td>\n",
       "      <td>283</td>\n",
       "      <td>279</td>\n",
       "    </tr>\n",
       "  </tbody>\n",
       "</table>\n",
       "</div>"
      ],
      "text/plain": [
       "group               event_name   246   247   248\n",
       "1             MainScreenAppear  2450  2476  2493\n",
       "2           OffersScreenAppear  1542  1520  1531\n",
       "0             CartScreenAppear  1266  1238  1230\n",
       "3      PaymentScreenSuccessful  1200  1158  1181\n",
       "4                     Tutorial   278   283   279"
      ]
     },
     "execution_count": 41,
     "metadata": {},
     "output_type": "execute_result"
    }
   ],
   "source": [
    "# Посчитаем конверсию в группах \n",
    "df_group1 = data.pivot_table(index='event_name', values='user_id', columns='group',aggfunc=lambda x: len(x.unique()))\n",
    "df_group1 = df_group1.reset_index().sort_values(by=246, ascending=False)\n",
    "df_group1"
   ]
  },
  {
   "cell_type": "code",
   "execution_count": 44,
   "metadata": {},
   "outputs": [],
   "source": [
    "# построение графика воронки по группам\n",
    "#fig = go.Figure()\n",
    "#fig.add_trace(go.Funnel(name = '246 группа (А1)',\n",
    "    #y = df_group1[\"event_name\"],\n",
    "    #x = df_group1[246],textposition = \"inside\", \n",
    "    #textinfo = \"value+percent previous\",))\n",
    "\n",
    "#fig.add_trace(go.Funnel(name = '248 группа (В)',\n",
    "    #y = df_group1[\"event_name\"],\n",
    "    #x = df_group1[248],textposition = \"inside\", \n",
    "    #textinfo = \"value+percent previous\"))\n",
    "\n",
    "#fig.add_trace(go.Funnel(name = '247 группа (А2)',\n",
    "    #y = df_group1[\"event_name\"],\n",
    "    #x = df_group1[247],textposition = \"inside\", \n",
    "    #textinfo = \"value+percent previous\"))\n",
    "#fig.update_layout(title='Распределение количества пользователей по их действиям в группах',height=500, width=800)\n",
    "#fig.show()"
   ]
  },
  {
   "attachments": {
    "image.png": {
     "image/png": "[encoded data removed]"
    }
   },
   "cell_type": "markdown",
   "metadata": {},
   "source": [
    "![image.png](attachment:image.png)"
   ]
  },
  {
   "cell_type": "markdown",
   "metadata": {},
   "source": [
    "7419 пользователей заходили на главный экран мобильного приложения (MainScreenAppear). 3539 пользователей дошли до оплаты (PaymentScreenSuccessful).Показатели не вызывают подозрений"
   ]
  },
  {
   "cell_type": "markdown",
   "metadata": {},
   "source": [
    "**Рассмотрим в каком порядке происходят события**"
   ]
  },
  {
   "cell_type": "markdown",
   "metadata": {},
   "source": [
    "\n",
    "- сначала открывают главный экран приложения(MainScreenAppear)\n",
    "- потом  выбирает товар(ы) (OffersScreenAppear) \n",
    "- кладёт товар(ы) в корзину (CartScreenAppear)\n",
    "- оплачивает (PaymentScreenSuccessful)."
   ]
  },
  {
   "cell_type": "markdown",
   "metadata": {},
   "source": [
    "Не все события выстраиваются в последовательную цепочку. Изучение руководства пользователя(Tutorial) используют всего 840 пользователей, и оно выбивается из цепочки. На следующем этапе уберем это событие"
   ]
  },
  {
   "cell_type": "markdown",
   "metadata": {},
   "source": [
    "**Расчет доли пользователей которые проходят на следующий шаг воронки**"
   ]
  },
  {
   "cell_type": "code",
   "execution_count": 45,
   "metadata": {},
   "outputs": [
    {
     "data": {
      "text/plain": [
       "event_name\n",
       "MainScreenAppear           7419\n",
       "OffersScreenAppear         4593\n",
       "CartScreenAppear           3734\n",
       "PaymentScreenSuccessful    3539\n",
       "Tutorial                    840\n",
       "Name: user_id, dtype: int64"
      ]
     },
     "execution_count": 45,
     "metadata": {},
     "output_type": "execute_result"
    }
   ],
   "source": [
    "data1=data.groupby('event_name')['user_id'].nunique().sort_values(ascending=False)\n",
    "data1"
   ]
  },
  {
   "cell_type": "code",
   "execution_count": 46,
   "metadata": {},
   "outputs": [
    {
     "name": "stdout",
     "output_type": "stream",
     "text": [
      "С главного экрана в каталог товаров перешло 61.91 % клиентов.\n",
      "С каталога товаров в корзину перешло 81.3 % клиентов.\n",
      "С корзины до экрана успешной оплаты перешло 94.78 % клиентов.\n"
     ]
    }
   ],
   "source": [
    "print('С главного экрана в каталог товаров перешло', round(data1['OffersScreenAppear']/data1['MainScreenAppear'] *100, 2) , '% клиентов.')\n",
    "print(f'С каталога товаров в корзину перешло', round(data1['CartScreenAppear']/data1['OffersScreenAppear'] *100, 2) ,'% клиентов.')\n",
    "print(f'С корзины до экрана успешной оплаты перешло', round(data1['PaymentScreenSuccessful']/data1['CartScreenAppear'] *100, 2), '% клиентов.')"
   ]
  },
  {
   "cell_type": "markdown",
   "metadata": {},
   "source": [
    "**На каком шаге теряем больше всего пользователей**"
   ]
  },
  {
   "cell_type": "code",
   "execution_count": 47,
   "metadata": {},
   "outputs": [
    {
     "name": "stdout",
     "output_type": "stream",
     "text": [
      "38.09\n"
     ]
    }
   ],
   "source": [
    "print(100 - round(data1['OffersScreenAppear']/data1['MainScreenAppear'] *100, 2))"
   ]
  },
  {
   "cell_type": "markdown",
   "metadata": {},
   "source": [
    "При переходе с главного экрана в корзину товаров теряется больше всего пользователей. Вероятно, нужно лучше прорабатывать механику, чтобы пользователи переходили к OffersScreen"
   ]
  },
  {
   "cell_type": "markdown",
   "metadata": {},
   "source": [
    "**Доля пользователей которая доходит от первого события до оплаты?**"
   ]
  },
  {
   "cell_type": "code",
   "execution_count": 48,
   "metadata": {},
   "outputs": [
    {
     "name": "stdout",
     "output_type": "stream",
     "text": [
      "47.7\n"
     ]
    }
   ],
   "source": [
    "print(round(data1['PaymentScreenSuccessful']/data1['MainScreenAppear'] *100, 2))"
   ]
  },
  {
   "cell_type": "markdown",
   "metadata": {},
   "source": [
    "Доля пользователей доходит от первого события до оплаты - 47.7 % клиентов."
   ]
  },
  {
   "cell_type": "markdown",
   "metadata": {},
   "source": [
    "Выводы: \n",
    "- Быта предположена воронка: сначала открывают главный экран приложения(MainScreenAppear)- потом выбирает товар(ы) (OffersScreenAppear)- кладёт товар(ы) в корзину (CartScreenAppear)- оплачивает (PaymentScreenSuccessful).\n",
    "- Не все события выстраиваются в последовательную цепочку. Изучение руководства пользователя(Tutorial) используют всего 840 пользователей, и оно выбивается из цепочки. Убрали это событие\n",
    "- При переходе с главного экрана в корзину товаров теряется больше всего пользователей. Нужно рассмотреть данное звено подробнее и выявить проблему\n",
    "- Доля пользователей доходит от первого события до оплаты - 47.7 % клиентов. Это хороший показатель "
   ]
  },
  {
   "cell_type": "markdown",
   "metadata": {},
   "source": [
    "<a id='Изучение результатов эксперимента'></a>\n",
    "## Изучение результатов эксперимента"
   ]
  },
  {
   "cell_type": "markdown",
   "metadata": {},
   "source": [
    "**Количество пользователей в каждой экспериментальной группе**"
   ]
  },
  {
   "cell_type": "markdown",
   "metadata": {},
   "source": [
    "При изучении результатов А/В теста лучше убедиться, что у нас нет пользователей, которые участвовали в двух или более группах одновременно"
   ]
  },
  {
   "cell_type": "code",
   "execution_count": 49,
   "metadata": {},
   "outputs": [
    {
     "data": {
      "text/plain": [
       "group    0\n",
       "dtype: int64"
      ]
     },
     "execution_count": 49,
     "metadata": {},
     "output_type": "execute_result"
    }
   ],
   "source": [
    "df3= data.groupby('user_id').agg({'group' : 'nunique'}).query('group>1').count()\n",
    "df3"
   ]
  },
  {
   "cell_type": "markdown",
   "metadata": {},
   "source": [
    "Одинаковых пользователей в двух и более группах нет. Посчитаем сколько пользователей в каждой экспериментальной группе"
   ]
  },
  {
   "cell_type": "code",
   "execution_count": 50,
   "metadata": {},
   "outputs": [
    {
     "data": {
      "text/plain": [
       "group\n",
       "246    2484\n",
       "247    2513\n",
       "248    2537\n",
       "Name: user_id, dtype: int64"
      ]
     },
     "execution_count": 50,
     "metadata": {},
     "output_type": "execute_result"
    }
   ],
   "source": [
    "users_count = data.groupby('group')['user_id'].nunique()\n",
    "users_count"
   ]
  },
  {
   "cell_type": "markdown",
   "metadata": {},
   "source": [
    "**Проверка наличия разницы, с помощью статистических критериев, между выборками 246 и 247 (2 контрольные группы для А/А-эксперимента)**"
   ]
  },
  {
   "cell_type": "code",
   "execution_count": 51,
   "metadata": {},
   "outputs": [
    {
     "data": {
      "text/html": [
       "<div>\n",
       "<style scoped>\n",
       "    .dataframe tbody tr th:only-of-type {\n",
       "        vertical-align: middle;\n",
       "    }\n",
       "\n",
       "    .dataframe tbody tr th {\n",
       "        vertical-align: top;\n",
       "    }\n",
       "\n",
       "    .dataframe thead th {\n",
       "        text-align: right;\n",
       "    }\n",
       "</style>\n",
       "<table border=\"1\" class=\"dataframe\">\n",
       "  <thead>\n",
       "    <tr style=\"text-align: right;\">\n",
       "      <th>group</th>\n",
       "      <th>event_name</th>\n",
       "      <th>246</th>\n",
       "      <th>247</th>\n",
       "      <th>248</th>\n",
       "    </tr>\n",
       "  </thead>\n",
       "  <tbody>\n",
       "    <tr>\n",
       "      <th>1</th>\n",
       "      <td>MainScreenAppear</td>\n",
       "      <td>2450</td>\n",
       "      <td>2476</td>\n",
       "      <td>2493</td>\n",
       "    </tr>\n",
       "    <tr>\n",
       "      <th>2</th>\n",
       "      <td>OffersScreenAppear</td>\n",
       "      <td>1542</td>\n",
       "      <td>1520</td>\n",
       "      <td>1531</td>\n",
       "    </tr>\n",
       "    <tr>\n",
       "      <th>0</th>\n",
       "      <td>CartScreenAppear</td>\n",
       "      <td>1266</td>\n",
       "      <td>1238</td>\n",
       "      <td>1230</td>\n",
       "    </tr>\n",
       "    <tr>\n",
       "      <th>3</th>\n",
       "      <td>PaymentScreenSuccessful</td>\n",
       "      <td>1200</td>\n",
       "      <td>1158</td>\n",
       "      <td>1181</td>\n",
       "    </tr>\n",
       "  </tbody>\n",
       "</table>\n",
       "</div>"
      ],
      "text/plain": [
       "group               event_name   246   247   248\n",
       "1             MainScreenAppear  2450  2476  2493\n",
       "2           OffersScreenAppear  1542  1520  1531\n",
       "0             CartScreenAppear  1266  1238  1230\n",
       "3      PaymentScreenSuccessful  1200  1158  1181"
      ]
     },
     "execution_count": 51,
     "metadata": {},
     "output_type": "execute_result"
    }
   ],
   "source": [
    "df_group = data.pivot_table(index='event_name', values='user_id', columns='group',aggfunc=lambda x: len(x.unique()))\n",
    "df_group = df_group.reset_index().sort_values(by=246, ascending=False)\n",
    "df_group = df_group[df_group['event_name'] != 'Tutorial']\n",
    "df_group"
   ]
  },
  {
   "cell_type": "markdown",
   "metadata": {},
   "source": [
    "246-я и 247-я группы контрольные (А-А)\n",
    "\n",
    "248-я группа - тестируемая (В)\n",
    "\n",
    "Составим функцию которая позволит нам проверять статистическую разницу между выборками A-A (246-247).Применим поправку Бонферрони - поделим альфа на количество гипотиз."
   ]
  },
  {
   "cell_type": "markdown",
   "metadata": {},
   "source": [
    "Обозначу нулевую и альтернативную гипотезы, а также примем alpha=0.05\n",
    "- Н0 - доли уникальных посетителей,  побывавших на этапе воронки, в группах 246 и 247 одинаковы; \n",
    "- Н1 - между долями уникальных посетителей, побывавших на этапе воронки, в группах 246 и 247 различие есть. "
   ]
  },
  {
   "cell_type": "code",
   "execution_count": 52,
   "metadata": {},
   "outputs": [],
   "source": [
    "def AA_test(purchasesA ,purchasesB ,leadsA ,leadsB , eventname, alpha = 0.05/12):\n",
    "    # пропорция успехов в первой группе:\n",
    "    p1 = purchasesA/leadsA\n",
    "    # пропорция успехов во второй группе:\n",
    "    p2 = purchasesB/leadsB\n",
    "    # пропорция успехов в комбинированном датасете:\n",
    "    p_combined = (purchasesA + purchasesB) / (leadsA + leadsB)\n",
    "    # разница пропорций в датасетах\n",
    "    difference = p1 - p2\n",
    "    z_value = difference / mth.sqrt(p_combined * (1 - p_combined) * (1/leadsA + 1/leadsB))\n",
    "    # задаем стандартное нормальное распределение (среднее 0, ст.отклонение 1)\n",
    "    distr = st.norm(0, 1)\n",
    "    p_value =(1 - distr.cdf(abs(z_value))) * 2\n",
    "    print(f'Расчет теста для действия пользователей {eventname}')\n",
    "    print('p-значение: ', p_value)\n",
    "\n",
    "    if p_value < alpha:\n",
    "\n",
    "        print('Отвергаем нулевую гипотезу: между долями есть значимая разница')\n",
    "    else:\n",
    "        print(\n",
    "            'Не получилось отвергнуть нулевую гипотезу, нет оснований считать доли разными')\n",
    "        print(' ')"
   ]
  },
  {
   "cell_type": "code",
   "execution_count": 53,
   "metadata": {},
   "outputs": [
    {
     "name": "stdout",
     "output_type": "stream",
     "text": [
      "Расчет теста для действия пользователей CartScreenAppear\n",
      "p-значение:  0.22883372237997213\n",
      "Не получилось отвергнуть нулевую гипотезу, нет оснований считать доли разными\n",
      " \n",
      "Расчет теста для действия пользователей MainScreenAppear\n",
      "p-значение:  0.7570597232046099\n",
      "Не получилось отвергнуть нулевую гипотезу, нет оснований считать доли разными\n",
      " \n",
      "Расчет теста для действия пользователей OffersScreenAppear\n",
      "p-значение:  0.2480954578522181\n",
      "Не получилось отвергнуть нулевую гипотезу, нет оснований считать доли разными\n",
      " \n",
      "Расчет теста для действия пользователей PaymentScreenSuccessful\n",
      "p-значение:  0.11456679313141849\n",
      "Не получилось отвергнуть нулевую гипотезу, нет оснований считать доли разными\n",
      " \n"
     ]
    }
   ],
   "source": [
    "test_A1B = [AA_test(df_group[246][i],df_group[247][i],users_count[246],\n",
    "                    users_count[247],df_group['event_name'][i], alpha =  0.05/12) for i in range(len(df_group[246]))]"
   ]
  },
  {
   "cell_type": "markdown",
   "metadata": {},
   "source": [
    "По результатам A/A тестирования для всех событий разница не оказалось значимой, поэтому эти группы считаем контрольными. Можем приступить к АВ тестированию"
   ]
  },
  {
   "cell_type": "markdown",
   "metadata": {},
   "source": [
    "**Cамое популярное событие и проверка корректности разбиения на группы**"
   ]
  },
  {
   "cell_type": "code",
   "execution_count": 54,
   "metadata": {},
   "outputs": [
    {
     "data": {
      "text/html": [
       "<div>\n",
       "<style scoped>\n",
       "    .dataframe tbody tr th:only-of-type {\n",
       "        vertical-align: middle;\n",
       "    }\n",
       "\n",
       "    .dataframe tbody tr th {\n",
       "        vertical-align: top;\n",
       "    }\n",
       "\n",
       "    .dataframe thead th {\n",
       "        text-align: right;\n",
       "    }\n",
       "</style>\n",
       "<table border=\"1\" class=\"dataframe\">\n",
       "  <thead>\n",
       "    <tr style=\"text-align: right;\">\n",
       "      <th>group</th>\n",
       "      <th>event_name</th>\n",
       "      <th>246</th>\n",
       "      <th>247</th>\n",
       "      <th>248</th>\n",
       "      <th>246+247</th>\n",
       "      <th>all</th>\n",
       "      <th>246-%</th>\n",
       "      <th>247-%</th>\n",
       "      <th>248-%</th>\n",
       "      <th>246+247-%</th>\n",
       "    </tr>\n",
       "  </thead>\n",
       "  <tbody>\n",
       "    <tr>\n",
       "      <th>0</th>\n",
       "      <td>MainScreenAppear</td>\n",
       "      <td>2450</td>\n",
       "      <td>2476</td>\n",
       "      <td>2493</td>\n",
       "      <td>4926</td>\n",
       "      <td>7419</td>\n",
       "      <td>98.6</td>\n",
       "      <td>98.5</td>\n",
       "      <td>98.3</td>\n",
       "      <td>98.6</td>\n",
       "    </tr>\n",
       "    <tr>\n",
       "      <th>1</th>\n",
       "      <td>OffersScreenAppear</td>\n",
       "      <td>1542</td>\n",
       "      <td>1520</td>\n",
       "      <td>1531</td>\n",
       "      <td>3062</td>\n",
       "      <td>4593</td>\n",
       "      <td>62.1</td>\n",
       "      <td>60.5</td>\n",
       "      <td>60.3</td>\n",
       "      <td>61.3</td>\n",
       "    </tr>\n",
       "    <tr>\n",
       "      <th>2</th>\n",
       "      <td>CartScreenAppear</td>\n",
       "      <td>1266</td>\n",
       "      <td>1238</td>\n",
       "      <td>1230</td>\n",
       "      <td>2504</td>\n",
       "      <td>3734</td>\n",
       "      <td>51.0</td>\n",
       "      <td>49.3</td>\n",
       "      <td>48.5</td>\n",
       "      <td>50.1</td>\n",
       "    </tr>\n",
       "    <tr>\n",
       "      <th>3</th>\n",
       "      <td>PaymentScreenSuccessful</td>\n",
       "      <td>1200</td>\n",
       "      <td>1158</td>\n",
       "      <td>1181</td>\n",
       "      <td>2358</td>\n",
       "      <td>3539</td>\n",
       "      <td>48.3</td>\n",
       "      <td>46.1</td>\n",
       "      <td>46.6</td>\n",
       "      <td>47.2</td>\n",
       "    </tr>\n",
       "  </tbody>\n",
       "</table>\n",
       "</div>"
      ],
      "text/plain": [
       "group               event_name   246   247   248  246+247   all  246-%  247-%  \\\n",
       "0             MainScreenAppear  2450  2476  2493     4926  7419   98.6   98.5   \n",
       "1           OffersScreenAppear  1542  1520  1531     3062  4593   62.1   60.5   \n",
       "2             CartScreenAppear  1266  1238  1230     2504  3734   51.0   49.3   \n",
       "3      PaymentScreenSuccessful  1200  1158  1181     2358  3539   48.3   46.1   \n",
       "\n",
       "group  248-%  246+247-%  \n",
       "0       98.3       98.6  \n",
       "1       60.3       61.3  \n",
       "2       48.5       50.1  \n",
       "3       46.6       47.2  "
      ]
     },
     "execution_count": 54,
     "metadata": {},
     "output_type": "execute_result"
    }
   ],
   "source": [
    "data_test = data[data['event_name']!='Tutorial'].pivot_table(index='event_name', columns='group', values='user_id', aggfunc='nunique').sort_values(by=246, ascending=False)\n",
    "data_test= data_test.reset_index()\n",
    "#Посчитаем число пользователей, совершивших  событие в каждой из контрольных групп\n",
    "data_test['246+247'] = data_test[246] + data_test[247]\n",
    "data_test['all'] = data_test['246+247'] + data_test[248]\n",
    "\n",
    "# Посчитаем долю пользователей, совершивших это событие.\n",
    "data_test['246-%'] = (data_test[246] / users_count[246]*100).round(1)\n",
    "data_test['247-%'] = (data_test[247] / users_count[247] * 100).round(1)\n",
    "data_test['248-%'] = (data_test[248] / users_count[248] * 100).round(1)\n",
    "data_test['246+247-%'] = (data_test['246+247'] / (users_count[246]+ users_count[247])*100).round(1)\n",
    "\n",
    "data_test"
   ]
  },
  {
   "cell_type": "markdown",
   "metadata": {},
   "source": [
    "Здесь как раз мы видим доли в каждой группе, разница между группами на каждом этапе небольшая. Вот эту разницу, а точнее ее значимость проверяем z-критерием."
   ]
  },
  {
   "cell_type": "code",
   "execution_count": 55,
   "metadata": {},
   "outputs": [
    {
     "data": {
      "text/plain": [
       "MainScreenAppear           119101\n",
       "OffersScreenAppear          46808\n",
       "CartScreenAppear            42668\n",
       "PaymentScreenSuccessful     34118\n",
       "Tutorial                     1018\n",
       "Name: event_name, dtype: int64"
      ]
     },
     "execution_count": 55,
     "metadata": {},
     "output_type": "execute_result"
    }
   ],
   "source": [
    "df['event_name'].value_counts()"
   ]
  },
  {
   "cell_type": "code",
   "execution_count": 57,
   "metadata": {},
   "outputs": [],
   "source": [
    "# график  Распределение количества пользователей по этапам в руппах 247 и 246\n",
    "#fig = go.Figure()\n",
    "#fig.add_trace(go.Funnel(name = '246 группа',\n",
    "    #y = df_group[\"event_name\"],\n",
    "    #x = df_group[246],textposition = \"inside\", \n",
    "    #textinfo = \"value+percent previous\",\n",
    "    #marker = {\"color\": \"royalblue\"}))\n",
    "\n",
    "#fig.add_trace(go.Funnel(name = '247 группа',\n",
    "    #y = df_group[\"event_name\"],\n",
    "    #x = df_group[247],textposition = \"inside\", \n",
    "    #textinfo = \"value+percent previous\",\n",
    "    #marker = {\"color\": \"pink\"}))\n",
    "#fig.update_layout(title='Распределение количества пользователей по этапам в руппах 247 и 246',height=400, width=800)\n",
    "#fig.show()"
   ]
  },
  {
   "attachments": {
    "uh3.png": {
     "image/png": "[encoded data removed]"
    }
   },
   "cell_type": "markdown",
   "metadata": {},
   "source": [
    "![uh3.png](attachment:uh3.png)"
   ]
  },
  {
   "cell_type": "markdown",
   "metadata": {},
   "source": [
    "Cамое популярное событие - MainScreenAppear - 7423, в разрезе групп:\n",
    "\n",
    "246 группа- 2450\n",
    "\n",
    "247 группа - 2476\n",
    "\n",
    "248 группа - 2493"
   ]
  },
  {
   "cell_type": "markdown",
   "metadata": {},
   "source": [
    "Доли пользователей совершивших самое популярное событие \"MainScreenAppear\":\n",
    "\n",
    "246 группа- 98,6%\n",
    "\n",
    "247 группа - 98,5%\n",
    "\n",
    "248 группа - 98,3%"
   ]
  },
  {
   "cell_type": "markdown",
   "metadata": {},
   "source": [
    "Да разбиение на группы работает корректно, воронка постепенно уменьшается и цепочка последовательности не нарушена"
   ]
  },
  {
   "cell_type": "markdown",
   "metadata": {},
   "source": [
    "**Сравнение результатов группы с изменённым шрифтом. Сравним результаты с каждой из контрольных групп в отдельности по каждому событию. Сравним результаты с объединённой контрольной группой.**"
   ]
  },
  {
   "cell_type": "markdown",
   "metadata": {},
   "source": [
    "Гипотезы:\n",
    "- Н0 - доли уникальных посетителей,  побывавших на этапе воронки, в группах 246 и 248 одинаковы; \n",
    "- Н1 - между долями уникальных посетителей, побывавших на этапе воронки, в группах 246 и 248 различие есть. "
   ]
  },
  {
   "cell_type": "code",
   "execution_count": 58,
   "metadata": {},
   "outputs": [
    {
     "name": "stdout",
     "output_type": "stream",
     "text": [
      "Расчет теста для действия пользователей CartScreenAppear\n",
      "p-значение:  0.07842923237520116\n",
      "Не получилось отвергнуть нулевую гипотезу, нет оснований считать доли разными\n",
      " \n",
      "Расчет теста для действия пользователей MainScreenAppear\n",
      "p-значение:  0.2949721933554552\n",
      "Не получилось отвергнуть нулевую гипотезу, нет оснований считать доли разными\n",
      " \n",
      "Расчет теста для действия пользователей OffersScreenAppear\n",
      "p-значение:  0.20836205402738917\n",
      "Не получилось отвергнуть нулевую гипотезу, нет оснований считать доли разными\n",
      " \n",
      "Расчет теста для действия пользователей PaymentScreenSuccessful\n",
      "p-значение:  0.2122553275697796\n",
      "Не получилось отвергнуть нулевую гипотезу, нет оснований считать доли разными\n",
      " \n"
     ]
    }
   ],
   "source": [
    "test_A1B = [AA_test(df_group[246][i],df_group[248][i],users_count[246],users_count[248],\n",
    "                    df_group['event_name'][i], alpha =  0.05/12) for i in range(len(df_group[248]))]"
   ]
  },
  {
   "cell_type": "markdown",
   "metadata": {},
   "source": [
    "Между группами 248 и 246 нет различий."
   ]
  },
  {
   "cell_type": "markdown",
   "metadata": {},
   "source": [
    "Гипотезы:\n",
    "- Н0 - доли уникальных посетителей,  побывавших на этапе воронки, в группах 246 и 247 одинаковы; \n",
    "- Н1 - между долями уникальных посетителей, побывавших на этапе воронки, в группах 246 и 247 различие есть. "
   ]
  },
  {
   "cell_type": "code",
   "execution_count": 59,
   "metadata": {},
   "outputs": [
    {
     "name": "stdout",
     "output_type": "stream",
     "text": [
      "Расчет теста для действия пользователей CartScreenAppear\n",
      "p-значение:  0.5786197879539783\n",
      "Не получилось отвергнуть нулевую гипотезу, нет оснований считать доли разными\n",
      " \n",
      "Расчет теста для действия пользователей MainScreenAppear\n",
      "p-значение:  0.4587053616621515\n",
      "Не получилось отвергнуть нулевую гипотезу, нет оснований считать доли разными\n",
      " \n",
      "Расчет теста для действия пользователей OffersScreenAppear\n",
      "p-значение:  0.9197817830592261\n",
      "Не получилось отвергнуть нулевую гипотезу, нет оснований считать доли разными\n",
      " \n",
      "Расчет теста для действия пользователей PaymentScreenSuccessful\n",
      "p-значение:  0.7373415053803964\n",
      "Не получилось отвергнуть нулевую гипотезу, нет оснований считать доли разными\n",
      " \n"
     ]
    }
   ],
   "source": [
    "test_A2B = [AA_test(df_group[247][i],df_group[248][i], users_count[247],\n",
    "                    users_count[248],df_group['event_name'][i], alpha =  0.05/12) for i in range(len(df_group[248]))]"
   ]
  },
  {
   "cell_type": "markdown",
   "metadata": {},
   "source": [
    "Между группами 248 и 247  нет большой разницы."
   ]
  },
  {
   "cell_type": "markdown",
   "metadata": {},
   "source": [
    "Гипотезы:\n",
    "- Н0 - В значениях групп 248 и 247+246 различие между группами нет; \n",
    "- Н1 - В значениях групп 248 и 247+246 различие есть. "
   ]
  },
  {
   "cell_type": "code",
   "execution_count": 60,
   "metadata": {},
   "outputs": [
    {
     "name": "stdout",
     "output_type": "stream",
     "text": [
      "Расчет теста для действия пользователей CartScreenAppear\n",
      "p-значение:  0.18175875284404386\n",
      "Не получилось отвергнуть нулевую гипотезу, нет оснований считать доли разными\n",
      " \n",
      "Расчет теста для действия пользователей MainScreenAppear\n",
      "p-значение:  0.29424526837179577\n",
      "Не получилось отвергнуть нулевую гипотезу, нет оснований считать доли разными\n",
      " \n",
      "Расчет теста для действия пользователей OffersScreenAppear\n",
      "p-значение:  0.43425549655188256\n",
      "Не получилось отвергнуть нулевую гипотезу, нет оснований считать доли разными\n",
      " \n",
      "Расчет теста для действия пользователей PaymentScreenSuccessful\n",
      "p-значение:  0.6004294282308704\n",
      "Не получилось отвергнуть нулевую гипотезу, нет оснований считать доли разными\n",
      " \n"
     ]
    }
   ],
   "source": [
    "test_AAB = [AA_test(df_group[246][i]+df_group[247][i], df_group[248][i], (users_count[246]+users_count[247]) ,\n",
    "                    users_count[248], df_group['event_name'][i], alpha =  0.05/12) for i in range(len(df_group[248]))]"
   ]
  },
  {
   "cell_type": "markdown",
   "metadata": {},
   "source": [
    "Значимой разницы между группами во всех тестах не выявлено."
   ]
  },
  {
   "cell_type": "markdown",
   "metadata": {},
   "source": [
    "**Рассмотрим гипотезы при уровне значимости 0.1**"
   ]
  },
  {
   "cell_type": "code",
   "execution_count": 61,
   "metadata": {},
   "outputs": [],
   "source": [
    "def AB_test(purchases246 ,purchases247 ,leads246 ,leads247 , eventname, alpha = 0.1/12):\n",
    "    # пропорция успехов в первой группе:\n",
    "    p1 = purchases246/leads246\n",
    "    # пропорция успехов во второй группе:\n",
    "    p2 = purchases247/leads247\n",
    "    # пропорция успехов в комбинированном датасете:\n",
    "    p_combined = (purchases246 + purchases247) / (leads246 + leads247)\n",
    "    # разница пропорций в датасетах\n",
    "    difference = p1 - p2\n",
    "    z_value = difference / mth.sqrt(p_combined * (1 - p_combined) * (1/leads246 + 1/leads247))\n",
    "    # задаем стандартное нормальное распределение (среднее 0, ст.отклонение 1)\n",
    "    distr = st.norm(0, 1)\n",
    "    p_value =(1 - distr.cdf(abs(z_value))) * 2\n",
    "    print(f'Расчет теста для действия пользователей {eventname}')\n",
    "    print('p-значение: ', p_value)\n",
    "\n",
    "    if p_value < alpha:\n",
    "\n",
    "        print('Отвергаем нулевую гипотезу: между долями есть значимая разница')\n",
    "    else:\n",
    "        print(\n",
    "            'Не получилось отвергнуть нулевую гипотезу, нет оснований считать доли разными')\n",
    "        print(' ')"
   ]
  },
  {
   "cell_type": "code",
   "execution_count": 62,
   "metadata": {},
   "outputs": [
    {
     "name": "stdout",
     "output_type": "stream",
     "text": [
      "Расчет теста для действия пользователей CartScreenAppear\n",
      "p-значение:  0.7359876852552283\n",
      "Не получилось отвергнуть нулевую гипотезу, нет оснований считать доли разными\n",
      " \n",
      "Расчет теста для действия пользователей MainScreenAppear\n",
      "p-значение:  0.35195027387494493\n",
      "Не получилось отвергнуть нулевую гипотезу, нет оснований считать доли разными\n",
      " \n",
      "Расчет теста для действия пользователей OffersScreenAppear\n",
      "p-значение:  0.8966517949162409\n",
      "Не получилось отвергнуть нулевую гипотезу, нет оснований считать доли разными\n",
      " \n",
      "Расчет теста для действия пользователей PaymentScreenSuccessful\n",
      "p-значение:  0.4957537491808677\n",
      "Не получилось отвергнуть нулевую гипотезу, нет оснований считать доли разными\n",
      " \n"
     ]
    }
   ],
   "source": [
    "test_12 = [AB_test(df_group[246][i],df_group[247][i],df_group[246].sum(), df_group[247].sum(),df_group['event_name'][i], \n",
    "                  alpha =  0.1/12) for i in range(len(df_group[246]))]"
   ]
  },
  {
   "cell_type": "markdown",
   "metadata": {},
   "source": [
    "Так как группы 246/247 (А/А) должны быть одинаковыми, то над ними и контроль жестче. Поэтому для проведения A/A тестирования был взят уровень статистической значимости равный 1%. По результатам A1/A2 тестирования для всех событий разница не оказалось значимой, поэтому эти группы считаем контрольными."
   ]
  },
  {
   "cell_type": "markdown",
   "metadata": {},
   "source": [
    "A-246 и В-248"
   ]
  },
  {
   "cell_type": "code",
   "execution_count": 63,
   "metadata": {},
   "outputs": [
    {
     "name": "stdout",
     "output_type": "stream",
     "text": [
      "Расчет теста для действия пользователей CartScreenAppear\n",
      "p-значение:  0.4819458398461809\n",
      "Не получилось отвергнуть нулевую гипотезу, нет оснований считать доли разными\n",
      " \n",
      "Расчет теста для действия пользователей MainScreenAppear\n",
      "p-значение:  0.3479384267818224\n",
      "Не получилось отвергнуть нулевую гипотезу, нет оснований считать доли разными\n",
      " \n",
      "Расчет теста для действия пользователей OffersScreenAppear\n",
      "p-значение:  0.9091919819522383\n",
      "Не получилось отвергнуть нулевую гипотезу, нет оснований считать доли разными\n",
      " \n",
      "Расчет теста для действия пользователей PaymentScreenSuccessful\n",
      "p-значение:  0.7377553009873645\n",
      "Не получилось отвергнуть нулевую гипотезу, нет оснований считать доли разными\n",
      " \n"
     ]
    }
   ],
   "source": [
    "test_A1B = [AB_test(df_group[248][i],df_group[246][i],df_group[248].sum(),\n",
    "                    df_group[246].sum(),df_group['event_name'][i], alpha =  0.1/12) for i in range(len(df_group[248]))]"
   ]
  },
  {
   "cell_type": "markdown",
   "metadata": {},
   "source": [
    "A-247 и В-248"
   ]
  },
  {
   "cell_type": "code",
   "execution_count": 64,
   "metadata": {},
   "outputs": [
    {
     "name": "stdout",
     "output_type": "stream",
     "text": [
      "Расчет теста для действия пользователей CartScreenAppear\n",
      "p-значение:  0.7154743061042801\n",
      "Не получилось отвергнуть нулевую гипотезу, нет оснований считать доли разными\n",
      " \n",
      "Расчет теста для действия пользователей MainScreenAppear\n",
      "p-значение:  0.9950483608560174\n",
      "Не получилось отвергнуть нулевую гипотезу, нет оснований считать доли разными\n",
      " \n",
      "Расчет теста для действия пользователей OffersScreenAppear\n",
      "p-значение:  0.9872247229217914\n",
      "Не получилось отвергнуть нулевую гипотезу, нет оснований считать доли разными\n",
      " \n",
      "Расчет теста для действия пользователей PaymentScreenSuccessful\n",
      "p-значение:  0.7288652017205819\n",
      "Не получилось отвергнуть нулевую гипотезу, нет оснований считать доли разными\n",
      " \n"
     ]
    }
   ],
   "source": [
    "test_A2B = [AB_test(df_group[248][i],df_group[247][i],df_group[248].sum(),\n",
    "                    df_group[247].sum(),df_group['event_name'][i], alpha =  0.1/12) for i in range(len(df_group[248]))]"
   ]
  },
  {
   "cell_type": "markdown",
   "metadata": {},
   "source": [
    "А 247+246 И В-248"
   ]
  },
  {
   "cell_type": "code",
   "execution_count": 65,
   "metadata": {},
   "outputs": [
    {
     "name": "stdout",
     "output_type": "stream",
     "text": [
      "Расчет теста для действия пользователей CartScreenAppear\n",
      "p-значение:  0.5374067036534838\n",
      "Не получилось отвергнуть нулевую гипотезу, нет оснований считать доли разными\n",
      " \n",
      "Расчет теста для действия пользователей MainScreenAppear\n",
      "p-значение:  0.584187313263467\n",
      "Не получилось отвергнуть нулевую гипотезу, нет оснований считать доли разными\n",
      " \n",
      "Расчет теста для действия пользователей OffersScreenAppear\n",
      "p-значение:  0.9546052060788499\n",
      "Не получилось отвергнуть нулевую гипотезу, нет оснований считать доли разными\n",
      " \n",
      "Расчет теста для действия пользователей PaymentScreenSuccessful\n",
      "p-значение:  0.9965395455405515\n",
      "Не получилось отвергнуть нулевую гипотезу, нет оснований считать доли разными\n",
      " \n"
     ]
    }
   ],
   "source": [
    "test_AAB = [AB_test(df_group[248][i],df_group[246][i]+df_group[247][i],df_group[248].sum(),\n",
    "                    (df_group[246]+df_group[247]).sum(),df_group['event_name'][i], alpha =  0.1/12) for i in range(len(df_group[248]))]"
   ]
  },
  {
   "cell_type": "markdown",
   "metadata": {},
   "source": [
    "<a id='Вывод'></a>\n",
    "## Вывод"
   ]
  },
  {
   "cell_type": "markdown",
   "metadata": {},
   "source": [
    "При изучении данных, выявлено:\n",
    "- данные представлены за период с 25 июля по 7 августа 2019 года. Полные данные представлены только за период с 1 по 7 августа. Сформирован вывод, что это было либо тестирование, либо неверные данные. Поэтому июльские данные принято исключить из анализа и оставить только период с августа.\n",
    "- Из 7551 пользователей мы потеряли 0.23% - это очень незначительное число. И 1.16 % Из событий от первоначального количества.\n",
    "- Воронка продаж. \n",
    "- MainScreenAppear - Появление Главного экрана - самое популярное событие.  Число пользователей, совершивших событие - 7419, примерно по 2,5 тысячи на группу. Доли пользователей, совершивших самое популярное событие - 98,5%.\n",
    "- Была предложена воронка: сначала открывают главный экран приложения(MainScreenAppear)- потом выбирает товар(ы) (OffersScreenAppear)- кладёт товар(ы) в корзину (CartScreenAppear)- оплачивает (PaymentScreenSuccessful).\n",
    "- Не все события выстраиваются в последовательную цепочку. Изучение руководства пользователя(Tutorial) используют всего 840 пользователей, и оно выбивается из цепочки. Tutorial в дальнейшем исключен из воронки;\n",
    "- При переходе с главного экрана в корзину товаров теряется больше всего пользователей. Нужно рассмотреть данное звено подробнее и выявить проблему\n",
    "- Пройдя по воронке, до PaymentScreenSuccessful пользователей доходит от первого события до оплаты - 47.7 % клиентов. Это хороший показатель\n"
   ]
  },
  {
   "cell_type": "markdown",
   "metadata": {},
   "source": [
    "В ходе тестирования были проведены 16 экспериментов:\n",
    "\n",
    "A1/A1 - 4 эксперемента (для каждого события) / уровень статистической значимости - 1%\n",
    "\n",
    "A1/B - 4 эксперемента (для каждого события) / уровень статистической значимости - 5%\n",
    "\n",
    "A2/B - 4 эксперемента (для каждого события) / уровень статистической значимости - 5%\n",
    "\n",
    "A1+A2/B - 4 эксперемента (для каждого события) / уровень статистической значимости - 5%\n",
    "- Для проведения A/A тестирования был взят уровень статистической значимости равный 1%. По результатам A1/A2 тестирования для всех событий разница не оказалось значимой, поэтому эти группы считаем контрольными. - Уровень статистической значимости в 10% был бы слишком велик так как в тесте не ожидаем изменений не менее чем 30% (в таком случае 10% погрешности измерений нас бы устроила). \n",
    "- В результате всех A/A/B эксперементов значимой разницы между группами не выявлено. Поэтому можно утверждать, что на поведение пользователей изменение шрифта значимого эффекта не оказало. Тестирование можно назвать успешным - изменение шрифта не повлияло на поведение пользователей, но и не сделало лучше. Нужно искать другие пути решения"
   ]
  }
 ],
 "metadata": {
  "ExecuteTimeLog": [
   {
    "duration": 50,
    "start_time": "2022-11-01T08:13:04.638Z"
   },
   {
    "duration": 1588,
    "start_time": "2022-11-01T08:28:23.239Z"
   },
   {
    "duration": 133,
    "start_time": "2022-11-01T08:28:27.506Z"
   },
   {
    "duration": 522,
    "start_time": "2022-11-01T08:28:47.930Z"
   },
   {
    "duration": 9,
    "start_time": "2022-11-01T09:32:26.149Z"
   },
   {
    "duration": 19,
    "start_time": "2022-11-01T09:35:52.973Z"
   },
   {
    "duration": 17,
    "start_time": "2022-11-01T09:36:07.821Z"
   },
   {
    "duration": 18,
    "start_time": "2022-11-01T09:36:21.848Z"
   },
   {
    "duration": 17,
    "start_time": "2022-11-01T09:36:34.826Z"
   },
   {
    "duration": 19,
    "start_time": "2022-11-01T09:36:41.419Z"
   },
   {
    "duration": 1172,
    "start_time": "2022-11-01T09:41:16.910Z"
   },
   {
    "duration": 1114,
    "start_time": "2022-11-01T09:42:54.804Z"
   },
   {
    "duration": 1095,
    "start_time": "2022-11-01T09:45:07.173Z"
   },
   {
    "duration": 5,
    "start_time": "2022-11-01T09:45:18.834Z"
   },
   {
    "duration": 1121,
    "start_time": "2022-11-01T09:45:38.925Z"
   },
   {
    "duration": 1087,
    "start_time": "2022-11-01T09:46:54.955Z"
   },
   {
    "duration": 1215,
    "start_time": "2022-11-01T09:47:14.268Z"
   },
   {
    "duration": 947,
    "start_time": "2022-11-01T09:47:32.963Z"
   },
   {
    "duration": 10,
    "start_time": "2022-11-01T09:48:48.291Z"
   },
   {
    "duration": 22,
    "start_time": "2022-11-01T09:48:49.371Z"
   },
   {
    "duration": 989,
    "start_time": "2022-11-01T09:48:51.556Z"
   },
   {
    "duration": 972,
    "start_time": "2022-11-01T09:49:15.044Z"
   },
   {
    "duration": 4,
    "start_time": "2022-11-01T10:40:55.443Z"
   },
   {
    "duration": 1424,
    "start_time": "2022-11-01T10:41:37.939Z"
   },
   {
    "duration": 11,
    "start_time": "2022-11-01T10:41:47.467Z"
   },
   {
    "duration": 73,
    "start_time": "2022-11-01T10:42:20.627Z"
   },
   {
    "duration": 18,
    "start_time": "2022-11-01T10:43:10.933Z"
   },
   {
    "duration": 20,
    "start_time": "2022-11-01T10:43:18.389Z"
   },
   {
    "duration": 920,
    "start_time": "2022-11-01T10:47:16.204Z"
   },
   {
    "duration": 17,
    "start_time": "2022-11-01T10:47:42.389Z"
   },
   {
    "duration": 20,
    "start_time": "2022-11-01T10:47:52.844Z"
   },
   {
    "duration": 1509,
    "start_time": "2022-11-01T10:49:45.446Z"
   },
   {
    "duration": 1027,
    "start_time": "2022-11-01T10:49:57.622Z"
   },
   {
    "duration": 5,
    "start_time": "2022-11-01T10:50:18.813Z"
   },
   {
    "duration": 9,
    "start_time": "2022-11-01T10:50:20.172Z"
   },
   {
    "duration": 18,
    "start_time": "2022-11-01T10:50:21.149Z"
   },
   {
    "duration": 5,
    "start_time": "2022-11-01T10:50:22.149Z"
   },
   {
    "duration": 5895,
    "start_time": "2022-11-01T10:50:41.725Z"
   },
   {
    "duration": 7,
    "start_time": "2022-11-01T10:50:55.970Z"
   },
   {
    "duration": 6,
    "start_time": "2022-11-01T10:51:05.831Z"
   },
   {
    "duration": 6,
    "start_time": "2022-11-01T10:53:05.829Z"
   },
   {
    "duration": 6,
    "start_time": "2022-11-01T10:53:29.538Z"
   },
   {
    "duration": 6373,
    "start_time": "2022-11-01T10:54:56.633Z"
   },
   {
    "duration": 5991,
    "start_time": "2022-11-01T10:59:48.363Z"
   },
   {
    "duration": 5863,
    "start_time": "2022-11-01T11:01:53.606Z"
   },
   {
    "duration": 66,
    "start_time": "2022-11-01T11:10:11.492Z"
   },
   {
    "duration": 16,
    "start_time": "2022-11-01T11:10:18.834Z"
   },
   {
    "duration": 25,
    "start_time": "2022-11-01T11:10:26.833Z"
   },
   {
    "duration": 24,
    "start_time": "2022-11-01T11:10:35.137Z"
   },
   {
    "duration": 13,
    "start_time": "2022-11-01T11:10:49.226Z"
   },
   {
    "duration": 14,
    "start_time": "2022-11-01T11:11:27.194Z"
   },
   {
    "duration": 6051,
    "start_time": "2022-11-01T11:11:35.837Z"
   },
   {
    "duration": 35,
    "start_time": "2022-11-01T11:12:54.011Z"
   },
   {
    "duration": 8,
    "start_time": "2022-11-01T11:13:17.554Z"
   },
   {
    "duration": 101,
    "start_time": "2022-11-01T11:15:07.108Z"
   },
   {
    "duration": 14,
    "start_time": "2022-11-01T11:15:19.979Z"
   },
   {
    "duration": 16,
    "start_time": "2022-11-01T11:16:19.647Z"
   },
   {
    "duration": 6,
    "start_time": "2022-11-01T11:17:15.243Z"
   },
   {
    "duration": 5,
    "start_time": "2022-11-01T11:19:13.909Z"
   },
   {
    "duration": 5,
    "start_time": "2022-11-01T11:25:37.877Z"
   },
   {
    "duration": 12,
    "start_time": "2022-11-01T11:28:11.943Z"
   },
   {
    "duration": 19,
    "start_time": "2022-11-01T11:29:14.117Z"
   },
   {
    "duration": 3,
    "start_time": "2022-11-01T11:30:56.362Z"
   },
   {
    "duration": 8,
    "start_time": "2022-11-01T11:31:03.422Z"
   },
   {
    "duration": 17,
    "start_time": "2022-11-01T11:32:11.945Z"
   },
   {
    "duration": 31,
    "start_time": "2022-11-01T11:37:06.079Z"
   },
   {
    "duration": 23,
    "start_time": "2022-11-01T12:30:56.082Z"
   },
   {
    "duration": 26,
    "start_time": "2022-11-01T12:31:02.394Z"
   },
   {
    "duration": 24,
    "start_time": "2022-11-01T12:31:07.060Z"
   },
   {
    "duration": 26,
    "start_time": "2022-11-01T12:31:12.834Z"
   },
   {
    "duration": 23,
    "start_time": "2022-11-01T12:32:28.173Z"
   },
   {
    "duration": 27,
    "start_time": "2022-11-01T12:32:37.293Z"
   },
   {
    "duration": 19,
    "start_time": "2022-11-01T12:36:11.916Z"
   },
   {
    "duration": 12,
    "start_time": "2022-11-01T12:40:16.857Z"
   },
   {
    "duration": 12,
    "start_time": "2022-11-01T12:40:44.229Z"
   },
   {
    "duration": 18,
    "start_time": "2022-11-01T12:40:50.678Z"
   },
   {
    "duration": 11,
    "start_time": "2022-11-01T12:41:19.285Z"
   },
   {
    "duration": 13,
    "start_time": "2022-11-01T12:42:22.494Z"
   },
   {
    "duration": 15,
    "start_time": "2022-11-01T12:42:31.631Z"
   },
   {
    "duration": 12,
    "start_time": "2022-11-01T12:42:38.222Z"
   },
   {
    "duration": 17,
    "start_time": "2022-11-01T12:42:58.230Z"
   },
   {
    "duration": 6,
    "start_time": "2022-11-01T12:46:58.496Z"
   },
   {
    "duration": 13,
    "start_time": "2022-11-01T12:47:21.559Z"
   },
   {
    "duration": 11,
    "start_time": "2022-11-01T12:48:16.233Z"
   },
   {
    "duration": 58,
    "start_time": "2022-11-01T12:48:46.910Z"
   },
   {
    "duration": 56,
    "start_time": "2022-11-01T12:49:42.310Z"
   },
   {
    "duration": 56,
    "start_time": "2022-11-01T12:50:23.359Z"
   },
   {
    "duration": 13,
    "start_time": "2022-11-01T12:51:53.366Z"
   },
   {
    "duration": 11,
    "start_time": "2022-11-01T12:54:07.545Z"
   },
   {
    "duration": 11,
    "start_time": "2022-11-01T12:54:17.337Z"
   },
   {
    "duration": 16,
    "start_time": "2022-11-01T12:54:41.426Z"
   },
   {
    "duration": 12,
    "start_time": "2022-11-01T12:55:16.745Z"
   },
   {
    "duration": 53,
    "start_time": "2022-11-01T13:32:17.890Z"
   },
   {
    "duration": 52,
    "start_time": "2022-11-01T13:32:24.700Z"
   },
   {
    "duration": 50,
    "start_time": "2022-11-01T13:32:46.640Z"
   },
   {
    "duration": 51,
    "start_time": "2022-11-01T13:32:53.009Z"
   },
   {
    "duration": 4,
    "start_time": "2022-11-01T13:34:30.577Z"
   },
   {
    "duration": 5,
    "start_time": "2022-11-01T13:35:37.969Z"
   },
   {
    "duration": 6,
    "start_time": "2022-11-01T13:37:06.876Z"
   },
   {
    "duration": 56,
    "start_time": "2022-11-01T13:39:09.080Z"
   },
   {
    "duration": 5,
    "start_time": "2022-11-01T13:41:28.738Z"
   },
   {
    "duration": 4,
    "start_time": "2022-11-01T13:44:59.763Z"
   },
   {
    "duration": 49,
    "start_time": "2022-11-01T13:46:06.075Z"
   },
   {
    "duration": 5,
    "start_time": "2022-11-01T13:46:30.650Z"
   },
   {
    "duration": 56,
    "start_time": "2022-11-01T13:47:07.746Z"
   },
   {
    "duration": 1517,
    "start_time": "2022-11-02T04:25:41.020Z"
   },
   {
    "duration": 980,
    "start_time": "2022-11-02T04:25:44.639Z"
   },
   {
    "duration": 8,
    "start_time": "2022-11-02T04:25:50.342Z"
   },
   {
    "duration": 13,
    "start_time": "2022-11-02T04:25:55.695Z"
   },
   {
    "duration": 924,
    "start_time": "2022-11-02T04:26:03.505Z"
   },
   {
    "duration": 5,
    "start_time": "2022-11-02T04:26:16.456Z"
   },
   {
    "duration": 9,
    "start_time": "2022-11-02T04:26:17.547Z"
   },
   {
    "duration": 18,
    "start_time": "2022-11-02T04:26:19.455Z"
   },
   {
    "duration": 6,
    "start_time": "2022-11-02T04:26:20.961Z"
   },
   {
    "duration": 5735,
    "start_time": "2022-11-02T04:26:22.003Z"
   },
   {
    "duration": 5382,
    "start_time": "2022-11-02T04:26:41.666Z"
   },
   {
    "duration": 55,
    "start_time": "2022-11-02T04:26:47.049Z"
   },
   {
    "duration": 12,
    "start_time": "2022-11-02T04:26:49.389Z"
   },
   {
    "duration": 18,
    "start_time": "2022-11-02T04:26:50.027Z"
   },
   {
    "duration": 14,
    "start_time": "2022-11-02T04:26:50.827Z"
   },
   {
    "duration": 28,
    "start_time": "2022-11-02T04:26:59.185Z"
   },
   {
    "duration": 25,
    "start_time": "2022-11-02T04:27:02.322Z"
   },
   {
    "duration": 17,
    "start_time": "2022-11-02T04:27:03.225Z"
   },
   {
    "duration": 49,
    "start_time": "2022-11-02T04:27:18.505Z"
   },
   {
    "duration": 12,
    "start_time": "2022-11-02T04:27:25.141Z"
   },
   {
    "duration": 49,
    "start_time": "2022-11-02T04:28:20.647Z"
   },
   {
    "duration": 4,
    "start_time": "2022-11-02T04:28:30.421Z"
   },
   {
    "duration": 4,
    "start_time": "2022-11-02T04:28:36.458Z"
   },
   {
    "duration": 29,
    "start_time": "2022-11-02T04:34:49.921Z"
   },
   {
    "duration": 17,
    "start_time": "2022-11-02T05:02:22.954Z"
   },
   {
    "duration": 15,
    "start_time": "2022-11-02T05:05:17.421Z"
   },
   {
    "duration": 18,
    "start_time": "2022-11-02T05:05:45.843Z"
   },
   {
    "duration": 26,
    "start_time": "2022-11-02T05:05:58.587Z"
   },
   {
    "duration": 16,
    "start_time": "2022-11-02T05:06:19.283Z"
   },
   {
    "duration": 20,
    "start_time": "2022-11-02T05:06:29.626Z"
   },
   {
    "duration": 18,
    "start_time": "2022-11-02T05:06:38.119Z"
   },
   {
    "duration": 4,
    "start_time": "2022-11-02T05:07:15.859Z"
   },
   {
    "duration": 3,
    "start_time": "2022-11-02T05:07:20.835Z"
   },
   {
    "duration": 24,
    "start_time": "2022-11-02T05:07:47.571Z"
   },
   {
    "duration": 22,
    "start_time": "2022-11-02T05:08:14.451Z"
   },
   {
    "duration": 47,
    "start_time": "2022-11-02T05:10:38.897Z"
   },
   {
    "duration": 4,
    "start_time": "2022-11-02T05:21:36.992Z"
   },
   {
    "duration": 1317,
    "start_time": "2022-11-02T05:21:48.430Z"
   },
   {
    "duration": 12,
    "start_time": "2022-11-02T05:21:58.651Z"
   },
   {
    "duration": 7,
    "start_time": "2022-11-02T05:33:46.028Z"
   },
   {
    "duration": 6,
    "start_time": "2022-11-02T05:34:02.109Z"
   },
   {
    "duration": 3,
    "start_time": "2022-11-02T05:34:34.941Z"
   },
   {
    "duration": 7,
    "start_time": "2022-11-02T05:35:34.469Z"
   },
   {
    "duration": 20,
    "start_time": "2022-11-02T05:38:41.910Z"
   },
   {
    "duration": 18,
    "start_time": "2022-11-02T05:38:47.942Z"
   },
   {
    "duration": 21,
    "start_time": "2022-11-02T05:38:59.154Z"
   },
   {
    "duration": 8,
    "start_time": "2022-11-02T05:47:46.058Z"
   },
   {
    "duration": 80,
    "start_time": "2022-11-02T05:50:43.349Z"
   },
   {
    "duration": 69,
    "start_time": "2022-11-02T05:50:56.391Z"
   },
   {
    "duration": 66,
    "start_time": "2022-11-02T05:51:00.160Z"
   },
   {
    "duration": 55,
    "start_time": "2022-11-02T05:53:13.921Z"
   },
   {
    "duration": 61,
    "start_time": "2022-11-02T05:54:16.777Z"
   },
   {
    "duration": 54,
    "start_time": "2022-11-02T05:54:43.088Z"
   },
   {
    "duration": 57,
    "start_time": "2022-11-02T05:55:17.021Z"
   },
   {
    "duration": 48,
    "start_time": "2022-11-02T05:55:27.601Z"
   },
   {
    "duration": 50,
    "start_time": "2022-11-02T05:56:20.681Z"
   },
   {
    "duration": 51,
    "start_time": "2022-11-02T05:56:36.275Z"
   },
   {
    "duration": 44,
    "start_time": "2022-11-02T05:56:43.105Z"
   },
   {
    "duration": 61,
    "start_time": "2022-11-02T05:56:54.770Z"
   },
   {
    "duration": 52,
    "start_time": "2022-11-02T05:57:43.452Z"
   },
   {
    "duration": 55,
    "start_time": "2022-11-02T05:59:34.282Z"
   },
   {
    "duration": 46,
    "start_time": "2022-11-02T05:59:46.227Z"
   },
   {
    "duration": 45,
    "start_time": "2022-11-02T06:01:52.852Z"
   },
   {
    "duration": 49,
    "start_time": "2022-11-02T06:02:00.058Z"
   },
   {
    "duration": 4,
    "start_time": "2022-11-02T06:08:38.484Z"
   },
   {
    "duration": 12,
    "start_time": "2022-11-02T06:09:00.187Z"
   },
   {
    "duration": 17,
    "start_time": "2022-11-02T06:09:19.508Z"
   },
   {
    "duration": 17,
    "start_time": "2022-11-02T06:09:43.580Z"
   },
   {
    "duration": 4,
    "start_time": "2022-11-02T06:09:49.829Z"
   },
   {
    "duration": 17,
    "start_time": "2022-11-02T06:09:51.037Z"
   },
   {
    "duration": 28,
    "start_time": "2022-11-02T06:11:01.558Z"
   },
   {
    "duration": 48,
    "start_time": "2022-11-02T06:11:27.015Z"
   },
   {
    "duration": 4,
    "start_time": "2022-11-02T06:11:28.021Z"
   },
   {
    "duration": 31,
    "start_time": "2022-11-02T06:11:28.772Z"
   },
   {
    "duration": 22,
    "start_time": "2022-11-02T06:11:53.205Z"
   },
   {
    "duration": 146,
    "start_time": "2022-11-02T06:12:56.097Z"
   },
   {
    "duration": 13,
    "start_time": "2022-11-02T06:13:19.516Z"
   },
   {
    "duration": 6,
    "start_time": "2022-11-02T06:13:58.141Z"
   },
   {
    "duration": 17,
    "start_time": "2022-11-02T06:49:13.707Z"
   },
   {
    "duration": 149,
    "start_time": "2022-11-02T06:49:14.818Z"
   },
   {
    "duration": 7,
    "start_time": "2022-11-02T06:49:16.808Z"
   },
   {
    "duration": 15,
    "start_time": "2022-11-02T06:49:17.067Z"
   },
   {
    "duration": 961,
    "start_time": "2022-11-02T06:49:17.700Z"
   },
   {
    "duration": 4,
    "start_time": "2022-11-02T06:49:18.663Z"
   },
   {
    "duration": 8,
    "start_time": "2022-11-02T06:49:18.748Z"
   },
   {
    "duration": 17,
    "start_time": "2022-11-02T06:49:19.180Z"
   },
   {
    "duration": 5,
    "start_time": "2022-11-02T06:49:19.475Z"
   },
   {
    "duration": 5659,
    "start_time": "2022-11-02T06:49:19.658Z"
   },
   {
    "duration": 76,
    "start_time": "2022-11-02T06:49:25.319Z"
   },
   {
    "duration": 11,
    "start_time": "2022-11-02T06:49:25.396Z"
   },
   {
    "duration": 18,
    "start_time": "2022-11-02T06:49:25.409Z"
   },
   {
    "duration": 67,
    "start_time": "2022-11-02T06:49:25.428Z"
   },
   {
    "duration": 29,
    "start_time": "2022-11-02T06:49:59.907Z"
   },
   {
    "duration": 11,
    "start_time": "2022-11-02T06:50:00.510Z"
   },
   {
    "duration": 19,
    "start_time": "2022-11-02T06:50:01.010Z"
   },
   {
    "duration": 16,
    "start_time": "2022-11-02T06:50:01.442Z"
   },
   {
    "duration": 32,
    "start_time": "2022-11-02T06:50:01.939Z"
   },
   {
    "duration": 26,
    "start_time": "2022-11-02T06:50:03.828Z"
   },
   {
    "duration": 12,
    "start_time": "2022-11-02T06:50:04.634Z"
   },
   {
    "duration": 50,
    "start_time": "2022-11-02T06:50:06.819Z"
   },
   {
    "duration": 10,
    "start_time": "2022-11-02T06:50:07.562Z"
   },
   {
    "duration": 53,
    "start_time": "2022-11-02T06:50:10.468Z"
   },
   {
    "duration": 6,
    "start_time": "2022-11-02T06:50:11.012Z"
   },
   {
    "duration": 4,
    "start_time": "2022-11-02T06:50:11.778Z"
   },
   {
    "duration": 4,
    "start_time": "2022-11-02T06:50:13.138Z"
   },
   {
    "duration": 30,
    "start_time": "2022-11-02T06:50:16.147Z"
   },
   {
    "duration": 22,
    "start_time": "2022-11-02T06:50:16.985Z"
   },
   {
    "duration": 19,
    "start_time": "2022-11-02T06:50:17.393Z"
   },
   {
    "duration": 18,
    "start_time": "2022-11-02T06:50:17.930Z"
   },
   {
    "duration": 4,
    "start_time": "2022-11-02T06:50:18.369Z"
   },
   {
    "duration": 47,
    "start_time": "2022-11-02T06:50:18.898Z"
   },
   {
    "duration": 5,
    "start_time": "2022-11-02T06:50:22.831Z"
   },
   {
    "duration": 22,
    "start_time": "2022-11-02T06:50:25.651Z"
   },
   {
    "duration": 2,
    "start_time": "2022-11-02T06:51:13.563Z"
   },
   {
    "duration": 5,
    "start_time": "2022-11-02T06:51:14.180Z"
   },
   {
    "duration": 22,
    "start_time": "2022-11-02T06:51:14.884Z"
   },
   {
    "duration": 3,
    "start_time": "2022-11-02T06:51:58.962Z"
   },
   {
    "duration": 8,
    "start_time": "2022-11-02T06:51:59.492Z"
   },
   {
    "duration": 25,
    "start_time": "2022-11-02T06:52:00.019Z"
   },
   {
    "duration": 6,
    "start_time": "2022-11-02T06:53:20.413Z"
   },
   {
    "duration": 24,
    "start_time": "2022-11-02T06:53:21.147Z"
   },
   {
    "duration": 14,
    "start_time": "2022-11-02T06:53:31.343Z"
   },
   {
    "duration": 49,
    "start_time": "2022-11-02T06:56:10.147Z"
   },
   {
    "duration": 5,
    "start_time": "2022-11-02T06:56:10.966Z"
   },
   {
    "duration": 22,
    "start_time": "2022-11-02T06:56:11.779Z"
   },
   {
    "duration": 4,
    "start_time": "2022-11-02T07:02:52.142Z"
   },
   {
    "duration": 1169,
    "start_time": "2022-11-02T07:02:53.005Z"
   },
   {
    "duration": 37,
    "start_time": "2022-11-02T07:03:00.893Z"
   },
   {
    "duration": 100,
    "start_time": "2022-11-02T07:15:19.191Z"
   },
   {
    "duration": 50,
    "start_time": "2022-11-02T07:15:33.947Z"
   },
   {
    "duration": 50,
    "start_time": "2022-11-02T07:15:50.775Z"
   },
   {
    "duration": 7,
    "start_time": "2022-11-02T07:16:47.505Z"
   },
   {
    "duration": 72,
    "start_time": "2022-11-02T07:16:56.544Z"
   },
   {
    "duration": 8,
    "start_time": "2022-11-02T07:16:59.778Z"
   },
   {
    "duration": 7,
    "start_time": "2022-11-02T07:17:54.376Z"
   },
   {
    "duration": 9,
    "start_time": "2022-11-02T07:18:01.304Z"
   },
   {
    "duration": 1142,
    "start_time": "2022-11-02T07:18:32.514Z"
   },
   {
    "duration": 13,
    "start_time": "2022-11-02T07:18:45.810Z"
   },
   {
    "duration": 12,
    "start_time": "2022-11-02T07:20:00.553Z"
   },
   {
    "duration": 50,
    "start_time": "2022-11-02T07:22:01.791Z"
   },
   {
    "duration": 45,
    "start_time": "2022-11-02T07:23:46.099Z"
   },
   {
    "duration": 1417,
    "start_time": "2022-11-02T13:35:29.144Z"
   },
   {
    "duration": 218,
    "start_time": "2022-11-02T13:35:30.563Z"
   },
   {
    "duration": 0,
    "start_time": "2022-11-02T13:35:30.784Z"
   },
   {
    "duration": 0,
    "start_time": "2022-11-02T13:35:30.785Z"
   },
   {
    "duration": 0,
    "start_time": "2022-11-02T13:35:30.786Z"
   },
   {
    "duration": 0,
    "start_time": "2022-11-02T13:35:30.786Z"
   },
   {
    "duration": 0,
    "start_time": "2022-11-02T13:35:30.787Z"
   },
   {
    "duration": 0,
    "start_time": "2022-11-02T13:35:30.788Z"
   },
   {
    "duration": 0,
    "start_time": "2022-11-02T13:35:30.789Z"
   },
   {
    "duration": 0,
    "start_time": "2022-11-02T13:35:30.790Z"
   },
   {
    "duration": 0,
    "start_time": "2022-11-02T13:35:30.791Z"
   },
   {
    "duration": 0,
    "start_time": "2022-11-02T13:35:30.792Z"
   },
   {
    "duration": 0,
    "start_time": "2022-11-02T13:35:30.794Z"
   },
   {
    "duration": 0,
    "start_time": "2022-11-02T13:35:30.795Z"
   },
   {
    "duration": 0,
    "start_time": "2022-11-02T13:35:30.796Z"
   },
   {
    "duration": 0,
    "start_time": "2022-11-02T13:35:30.797Z"
   },
   {
    "duration": 0,
    "start_time": "2022-11-02T13:35:30.798Z"
   },
   {
    "duration": 0,
    "start_time": "2022-11-02T13:35:30.799Z"
   },
   {
    "duration": 0,
    "start_time": "2022-11-02T13:35:30.801Z"
   },
   {
    "duration": 0,
    "start_time": "2022-11-02T13:35:30.802Z"
   },
   {
    "duration": 0,
    "start_time": "2022-11-02T13:35:30.803Z"
   },
   {
    "duration": 0,
    "start_time": "2022-11-02T13:35:30.804Z"
   },
   {
    "duration": 0,
    "start_time": "2022-11-02T13:35:30.805Z"
   },
   {
    "duration": 0,
    "start_time": "2022-11-02T13:35:30.806Z"
   },
   {
    "duration": 0,
    "start_time": "2022-11-02T13:35:30.807Z"
   },
   {
    "duration": 0,
    "start_time": "2022-11-02T13:35:30.808Z"
   },
   {
    "duration": 0,
    "start_time": "2022-11-02T13:35:30.809Z"
   },
   {
    "duration": 0,
    "start_time": "2022-11-02T13:35:30.810Z"
   },
   {
    "duration": 0,
    "start_time": "2022-11-02T13:35:30.811Z"
   },
   {
    "duration": 0,
    "start_time": "2022-11-02T13:35:30.812Z"
   },
   {
    "duration": 0,
    "start_time": "2022-11-02T13:35:30.813Z"
   },
   {
    "duration": 0,
    "start_time": "2022-11-02T13:35:30.814Z"
   },
   {
    "duration": 0,
    "start_time": "2022-11-02T13:35:30.815Z"
   },
   {
    "duration": 0,
    "start_time": "2022-11-02T13:35:30.816Z"
   },
   {
    "duration": 0,
    "start_time": "2022-11-02T13:35:30.817Z"
   },
   {
    "duration": 0,
    "start_time": "2022-11-02T13:35:30.818Z"
   },
   {
    "duration": 0,
    "start_time": "2022-11-02T13:35:30.818Z"
   },
   {
    "duration": 1,
    "start_time": "2022-11-02T13:35:30.819Z"
   },
   {
    "duration": 0,
    "start_time": "2022-11-02T13:35:30.820Z"
   },
   {
    "duration": 0,
    "start_time": "2022-11-02T13:35:30.821Z"
   },
   {
    "duration": 636,
    "start_time": "2022-11-02T13:36:26.846Z"
   },
   {
    "duration": 1213,
    "start_time": "2022-11-02T13:36:32.538Z"
   },
   {
    "duration": 157,
    "start_time": "2022-11-02T13:36:33.752Z"
   },
   {
    "duration": 7,
    "start_time": "2022-11-02T13:36:33.910Z"
   },
   {
    "duration": 11,
    "start_time": "2022-11-02T13:36:33.921Z"
   },
   {
    "duration": 903,
    "start_time": "2022-11-02T13:36:33.934Z"
   },
   {
    "duration": 3,
    "start_time": "2022-11-02T13:36:34.839Z"
   },
   {
    "duration": 10,
    "start_time": "2022-11-02T13:36:34.844Z"
   },
   {
    "duration": 16,
    "start_time": "2022-11-02T13:36:34.855Z"
   },
   {
    "duration": 5,
    "start_time": "2022-11-02T13:36:34.873Z"
   },
   {
    "duration": 5870,
    "start_time": "2022-11-02T13:36:34.880Z"
   },
   {
    "duration": 71,
    "start_time": "2022-11-02T13:36:40.751Z"
   },
   {
    "duration": 10,
    "start_time": "2022-11-02T13:36:40.823Z"
   },
   {
    "duration": 16,
    "start_time": "2022-11-02T13:36:40.834Z"
   },
   {
    "duration": 70,
    "start_time": "2022-11-02T13:36:40.851Z"
   },
   {
    "duration": 27,
    "start_time": "2022-11-02T13:36:40.923Z"
   },
   {
    "duration": 77,
    "start_time": "2022-11-02T13:36:40.952Z"
   },
   {
    "duration": 15,
    "start_time": "2022-11-02T13:36:41.030Z"
   },
   {
    "duration": 99,
    "start_time": "2022-11-02T13:36:41.046Z"
   },
   {
    "duration": 15,
    "start_time": "2022-11-02T13:36:41.147Z"
   },
   {
    "duration": 98,
    "start_time": "2022-11-02T13:36:41.164Z"
   },
   {
    "duration": 58,
    "start_time": "2022-11-02T13:36:41.264Z"
   },
   {
    "duration": 3,
    "start_time": "2022-11-02T13:36:41.324Z"
   },
   {
    "duration": 7,
    "start_time": "2022-11-02T13:36:41.328Z"
   },
   {
    "duration": 40,
    "start_time": "2022-11-02T13:36:41.337Z"
   },
   {
    "duration": 77,
    "start_time": "2022-11-02T13:36:41.378Z"
   },
   {
    "duration": 5,
    "start_time": "2022-11-02T13:36:41.456Z"
   },
   {
    "duration": 15,
    "start_time": "2022-11-02T13:36:41.463Z"
   },
   {
    "duration": 6,
    "start_time": "2022-11-02T13:36:41.480Z"
   },
   {
    "duration": 253,
    "start_time": "2022-11-02T13:36:41.487Z"
   },
   {
    "duration": 0,
    "start_time": "2022-11-02T13:36:41.742Z"
   },
   {
    "duration": 0,
    "start_time": "2022-11-02T13:36:41.743Z"
   },
   {
    "duration": 0,
    "start_time": "2022-11-02T13:36:41.745Z"
   },
   {
    "duration": 0,
    "start_time": "2022-11-02T13:36:41.746Z"
   },
   {
    "duration": 0,
    "start_time": "2022-11-02T13:36:41.748Z"
   },
   {
    "duration": 0,
    "start_time": "2022-11-02T13:36:41.749Z"
   },
   {
    "duration": 0,
    "start_time": "2022-11-02T13:36:41.750Z"
   },
   {
    "duration": 0,
    "start_time": "2022-11-02T13:36:41.752Z"
   },
   {
    "duration": 0,
    "start_time": "2022-11-02T13:36:41.753Z"
   },
   {
    "duration": 0,
    "start_time": "2022-11-02T13:36:41.755Z"
   },
   {
    "duration": 0,
    "start_time": "2022-11-02T13:36:41.756Z"
   },
   {
    "duration": 4,
    "start_time": "2022-11-02T14:22:24.500Z"
   },
   {
    "duration": 5,
    "start_time": "2022-11-02T14:28:57.787Z"
   },
   {
    "duration": 4,
    "start_time": "2022-11-02T14:29:16.264Z"
   },
   {
    "duration": 3,
    "start_time": "2022-11-02T14:29:32.006Z"
   },
   {
    "duration": 1296,
    "start_time": "2022-11-02T14:33:17.359Z"
   },
   {
    "duration": 160,
    "start_time": "2022-11-02T14:33:18.657Z"
   },
   {
    "duration": 9,
    "start_time": "2022-11-02T14:33:18.822Z"
   },
   {
    "duration": 19,
    "start_time": "2022-11-02T14:33:18.833Z"
   },
   {
    "duration": 919,
    "start_time": "2022-11-02T14:33:18.853Z"
   },
   {
    "duration": 4,
    "start_time": "2022-11-02T14:33:19.774Z"
   },
   {
    "duration": 9,
    "start_time": "2022-11-02T14:33:19.780Z"
   },
   {
    "duration": 35,
    "start_time": "2022-11-02T14:33:19.790Z"
   },
   {
    "duration": 5,
    "start_time": "2022-11-02T14:33:19.826Z"
   },
   {
    "duration": 5916,
    "start_time": "2022-11-02T14:33:19.834Z"
   },
   {
    "duration": 73,
    "start_time": "2022-11-02T14:33:25.752Z"
   },
   {
    "duration": 11,
    "start_time": "2022-11-02T14:33:25.826Z"
   },
   {
    "duration": 19,
    "start_time": "2022-11-02T14:33:25.838Z"
   },
   {
    "duration": 72,
    "start_time": "2022-11-02T14:33:25.859Z"
   },
   {
    "duration": 30,
    "start_time": "2022-11-02T14:33:25.933Z"
   },
   {
    "duration": 86,
    "start_time": "2022-11-02T14:33:25.964Z"
   },
   {
    "duration": 72,
    "start_time": "2022-11-02T14:33:26.052Z"
   },
   {
    "duration": 135,
    "start_time": "2022-11-02T14:33:26.126Z"
   },
   {
    "duration": 62,
    "start_time": "2022-11-02T14:33:26.263Z"
   },
   {
    "duration": 118,
    "start_time": "2022-11-02T14:33:26.326Z"
   },
   {
    "duration": 5,
    "start_time": "2022-11-02T14:33:26.446Z"
   },
   {
    "duration": 7,
    "start_time": "2022-11-02T14:33:26.453Z"
   },
   {
    "duration": 5,
    "start_time": "2022-11-02T14:33:26.462Z"
   },
   {
    "duration": 81,
    "start_time": "2022-11-02T14:33:26.469Z"
   },
   {
    "duration": 70,
    "start_time": "2022-11-02T14:33:26.552Z"
   },
   {
    "duration": 4,
    "start_time": "2022-11-02T14:33:26.624Z"
   },
   {
    "duration": 14,
    "start_time": "2022-11-02T14:33:26.630Z"
   },
   {
    "duration": 7,
    "start_time": "2022-11-02T14:33:26.646Z"
   },
   {
    "duration": 8,
    "start_time": "2022-11-02T14:33:26.654Z"
   },
   {
    "duration": 6,
    "start_time": "2022-11-02T14:33:26.663Z"
   },
   {
    "duration": 1431,
    "start_time": "2022-11-02T14:33:26.670Z"
   },
   {
    "duration": 0,
    "start_time": "2022-11-02T14:33:28.103Z"
   },
   {
    "duration": 0,
    "start_time": "2022-11-02T14:33:28.104Z"
   },
   {
    "duration": 0,
    "start_time": "2022-11-02T14:33:28.105Z"
   },
   {
    "duration": 0,
    "start_time": "2022-11-02T14:33:28.106Z"
   },
   {
    "duration": 0,
    "start_time": "2022-11-02T14:33:28.107Z"
   },
   {
    "duration": 0,
    "start_time": "2022-11-02T14:33:28.108Z"
   },
   {
    "duration": 0,
    "start_time": "2022-11-02T14:33:28.109Z"
   },
   {
    "duration": 0,
    "start_time": "2022-11-02T14:33:28.110Z"
   },
   {
    "duration": 0,
    "start_time": "2022-11-02T14:33:28.111Z"
   },
   {
    "duration": 0,
    "start_time": "2022-11-02T14:33:28.112Z"
   },
   {
    "duration": 0,
    "start_time": "2022-11-02T14:33:28.113Z"
   },
   {
    "duration": 1432,
    "start_time": "2022-11-02T14:34:09.628Z"
   },
   {
    "duration": 164,
    "start_time": "2022-11-02T14:34:11.062Z"
   },
   {
    "duration": 7,
    "start_time": "2022-11-02T14:34:11.228Z"
   },
   {
    "duration": 12,
    "start_time": "2022-11-02T14:34:11.237Z"
   },
   {
    "duration": 943,
    "start_time": "2022-11-02T14:34:11.250Z"
   },
   {
    "duration": 3,
    "start_time": "2022-11-02T14:34:12.195Z"
   },
   {
    "duration": 27,
    "start_time": "2022-11-02T14:34:12.199Z"
   },
   {
    "duration": 23,
    "start_time": "2022-11-02T14:34:12.227Z"
   },
   {
    "duration": 7,
    "start_time": "2022-11-02T14:34:12.252Z"
   },
   {
    "duration": 5822,
    "start_time": "2022-11-02T14:34:12.261Z"
   },
   {
    "duration": 58,
    "start_time": "2022-11-02T14:34:18.086Z"
   },
   {
    "duration": 8,
    "start_time": "2022-11-02T14:34:18.146Z"
   },
   {
    "duration": 69,
    "start_time": "2022-11-02T14:34:18.156Z"
   },
   {
    "duration": 13,
    "start_time": "2022-11-02T14:34:18.227Z"
   },
   {
    "duration": 98,
    "start_time": "2022-11-02T14:34:18.242Z"
   },
   {
    "duration": 81,
    "start_time": "2022-11-02T14:34:18.342Z"
   },
   {
    "duration": 12,
    "start_time": "2022-11-02T14:34:18.424Z"
   },
   {
    "duration": 101,
    "start_time": "2022-11-02T14:34:18.438Z"
   },
   {
    "duration": 18,
    "start_time": "2022-11-02T14:34:18.540Z"
   },
   {
    "duration": 164,
    "start_time": "2022-11-02T14:34:18.559Z"
   },
   {
    "duration": 6,
    "start_time": "2022-11-02T14:34:18.725Z"
   },
   {
    "duration": 4,
    "start_time": "2022-11-02T14:34:18.733Z"
   },
   {
    "duration": 11,
    "start_time": "2022-11-02T14:34:18.739Z"
   },
   {
    "duration": 50,
    "start_time": "2022-11-02T14:34:18.751Z"
   },
   {
    "duration": 72,
    "start_time": "2022-11-02T14:34:18.803Z"
   },
   {
    "duration": 5,
    "start_time": "2022-11-02T14:34:18.876Z"
   },
   {
    "duration": 18,
    "start_time": "2022-11-02T14:34:18.882Z"
   },
   {
    "duration": 4,
    "start_time": "2022-11-02T14:34:18.902Z"
   },
   {
    "duration": 17,
    "start_time": "2022-11-02T14:34:18.907Z"
   },
   {
    "duration": 6,
    "start_time": "2022-11-02T14:34:18.925Z"
   },
   {
    "duration": 227,
    "start_time": "2022-11-02T14:34:18.932Z"
   },
   {
    "duration": 0,
    "start_time": "2022-11-02T14:34:19.160Z"
   },
   {
    "duration": 0,
    "start_time": "2022-11-02T14:34:19.161Z"
   },
   {
    "duration": 0,
    "start_time": "2022-11-02T14:34:19.162Z"
   },
   {
    "duration": 0,
    "start_time": "2022-11-02T14:34:19.163Z"
   },
   {
    "duration": 0,
    "start_time": "2022-11-02T14:34:19.164Z"
   },
   {
    "duration": 0,
    "start_time": "2022-11-02T14:34:19.165Z"
   },
   {
    "duration": 1,
    "start_time": "2022-11-02T14:34:19.165Z"
   },
   {
    "duration": 0,
    "start_time": "2022-11-02T14:34:19.167Z"
   },
   {
    "duration": 0,
    "start_time": "2022-11-02T14:34:19.167Z"
   },
   {
    "duration": 0,
    "start_time": "2022-11-02T14:34:19.168Z"
   },
   {
    "duration": 0,
    "start_time": "2022-11-02T14:34:19.169Z"
   },
   {
    "duration": 1303,
    "start_time": "2022-11-03T03:56:36.925Z"
   },
   {
    "duration": 502,
    "start_time": "2022-11-03T03:57:25.707Z"
   },
   {
    "duration": 14,
    "start_time": "2022-11-03T04:00:51.394Z"
   },
   {
    "duration": 15,
    "start_time": "2022-11-03T04:01:39.314Z"
   },
   {
    "duration": 59,
    "start_time": "2022-11-03T04:01:47.074Z"
   },
   {
    "duration": 14,
    "start_time": "2022-11-03T04:16:42.081Z"
   },
   {
    "duration": 56,
    "start_time": "2022-11-03T04:16:52.101Z"
   },
   {
    "duration": 94,
    "start_time": "2022-11-03T04:20:24.206Z"
   },
   {
    "duration": 65,
    "start_time": "2022-11-03T04:21:54.528Z"
   },
   {
    "duration": 10,
    "start_time": "2022-11-03T04:22:01.950Z"
   },
   {
    "duration": 15,
    "start_time": "2022-11-03T04:22:03.032Z"
   },
   {
    "duration": 15,
    "start_time": "2022-11-03T04:22:03.533Z"
   },
   {
    "duration": 55,
    "start_time": "2022-11-03T04:22:04.022Z"
   },
   {
    "duration": 60,
    "start_time": "2022-11-03T04:22:05.253Z"
   },
   {
    "duration": 116,
    "start_time": "2022-11-03T04:26:19.785Z"
   },
   {
    "duration": 3,
    "start_time": "2022-11-03T04:34:51.254Z"
   },
   {
    "duration": 4,
    "start_time": "2022-11-03T04:39:36.203Z"
   },
   {
    "duration": 9,
    "start_time": "2022-11-03T04:39:59.012Z"
   },
   {
    "duration": 5,
    "start_time": "2022-11-03T04:41:01.474Z"
   },
   {
    "duration": 9,
    "start_time": "2022-11-03T04:41:17.314Z"
   },
   {
    "duration": 3,
    "start_time": "2022-11-03T04:41:25.913Z"
   },
   {
    "duration": 4,
    "start_time": "2022-11-03T04:41:55.570Z"
   },
   {
    "duration": 66,
    "start_time": "2022-11-03T04:56:42.015Z"
   },
   {
    "duration": 32,
    "start_time": "2022-11-03T05:02:17.144Z"
   },
   {
    "duration": 34,
    "start_time": "2022-11-03T05:04:08.960Z"
   },
   {
    "duration": 5,
    "start_time": "2022-11-03T05:05:16.181Z"
   },
   {
    "duration": 11,
    "start_time": "2022-11-03T05:07:45.936Z"
   },
   {
    "duration": 18,
    "start_time": "2022-11-03T05:08:16.695Z"
   },
   {
    "duration": 23,
    "start_time": "2022-11-03T05:08:25.792Z"
   },
   {
    "duration": 2,
    "start_time": "2022-11-03T05:09:18.149Z"
   },
   {
    "duration": 9,
    "start_time": "2022-11-03T05:09:27.915Z"
   },
   {
    "duration": 188,
    "start_time": "2022-11-03T05:10:39.622Z"
   },
   {
    "duration": 5,
    "start_time": "2022-11-03T05:11:35.481Z"
   },
   {
    "duration": 5,
    "start_time": "2022-11-03T05:11:48.337Z"
   },
   {
    "duration": 5,
    "start_time": "2022-11-03T05:11:56.441Z"
   },
   {
    "duration": 5,
    "start_time": "2022-11-03T05:11:57.112Z"
   },
   {
    "duration": 2,
    "start_time": "2022-11-03T05:12:11.248Z"
   },
   {
    "duration": 5,
    "start_time": "2022-11-03T05:12:20.858Z"
   },
   {
    "duration": 171,
    "start_time": "2022-11-03T05:13:01.768Z"
   },
   {
    "duration": 165,
    "start_time": "2022-11-03T05:14:42.752Z"
   },
   {
    "duration": 166,
    "start_time": "2022-11-03T05:15:04.705Z"
   },
   {
    "duration": 5,
    "start_time": "2022-11-03T05:21:11.450Z"
   },
   {
    "duration": 749,
    "start_time": "2022-11-03T05:23:58.188Z"
   },
   {
    "duration": 5,
    "start_time": "2022-11-03T05:24:13.170Z"
   },
   {
    "duration": 766,
    "start_time": "2022-11-03T05:24:16.169Z"
   },
   {
    "duration": 11,
    "start_time": "2022-11-03T05:25:24.356Z"
   },
   {
    "duration": 978,
    "start_time": "2022-11-03T05:25:33.860Z"
   },
   {
    "duration": 4,
    "start_time": "2022-11-03T05:25:42.521Z"
   },
   {
    "duration": 9,
    "start_time": "2022-11-03T05:25:43.808Z"
   },
   {
    "duration": 3,
    "start_time": "2022-11-03T05:25:44.901Z"
   },
   {
    "duration": 19,
    "start_time": "2022-11-03T05:25:50.113Z"
   },
   {
    "duration": 169,
    "start_time": "2022-11-03T05:25:50.865Z"
   },
   {
    "duration": 5,
    "start_time": "2022-11-03T05:25:52.393Z"
   },
   {
    "duration": 13,
    "start_time": "2022-11-03T05:25:55.468Z"
   },
   {
    "duration": 6,
    "start_time": "2022-11-03T05:26:00.530Z"
   },
   {
    "duration": 5,
    "start_time": "2022-11-03T05:26:09.818Z"
   },
   {
    "duration": 5733,
    "start_time": "2022-11-03T05:26:10.602Z"
   },
   {
    "duration": 33,
    "start_time": "2022-11-03T05:49:06.719Z"
   },
   {
    "duration": 10,
    "start_time": "2022-11-03T05:49:07.497Z"
   },
   {
    "duration": 23,
    "start_time": "2022-11-03T05:49:08.134Z"
   },
   {
    "duration": 16,
    "start_time": "2022-11-03T05:49:08.727Z"
   },
   {
    "duration": 28,
    "start_time": "2022-11-03T05:49:15.783Z"
   },
   {
    "duration": 24,
    "start_time": "2022-11-03T05:50:46.089Z"
   },
   {
    "duration": 13,
    "start_time": "2022-11-03T05:50:49.849Z"
   },
   {
    "duration": 19,
    "start_time": "2022-11-03T05:52:30.640Z"
   },
   {
    "duration": 27,
    "start_time": "2022-11-03T05:52:35.536Z"
   },
   {
    "duration": 15,
    "start_time": "2022-11-03T06:00:03.529Z"
   },
   {
    "duration": 105,
    "start_time": "2022-11-03T06:01:14.204Z"
   },
   {
    "duration": 54,
    "start_time": "2022-11-03T06:01:28.459Z"
   },
   {
    "duration": 58,
    "start_time": "2022-11-03T06:01:37.675Z"
   },
   {
    "duration": 64,
    "start_time": "2022-11-03T06:02:37.964Z"
   },
   {
    "duration": 63,
    "start_time": "2022-11-03T06:02:56.666Z"
   },
   {
    "duration": 58,
    "start_time": "2022-11-03T06:03:30.347Z"
   },
   {
    "duration": 56,
    "start_time": "2022-11-03T06:04:05.818Z"
   },
   {
    "duration": 56,
    "start_time": "2022-11-03T06:04:17.363Z"
   },
   {
    "duration": 58,
    "start_time": "2022-11-03T06:04:25.417Z"
   },
   {
    "duration": 257,
    "start_time": "2022-11-03T06:04:47.307Z"
   },
   {
    "duration": 61,
    "start_time": "2022-11-03T06:05:03.507Z"
   },
   {
    "duration": 67,
    "start_time": "2022-11-03T06:07:56.580Z"
   },
   {
    "duration": 12,
    "start_time": "2022-11-03T06:11:36.998Z"
   },
   {
    "duration": 14,
    "start_time": "2022-11-03T06:13:51.108Z"
   },
   {
    "duration": 11,
    "start_time": "2022-11-03T06:14:15.228Z"
   },
   {
    "duration": 47,
    "start_time": "2022-11-03T06:14:19.937Z"
   },
   {
    "duration": 5,
    "start_time": "2022-11-03T06:14:20.780Z"
   },
   {
    "duration": 4,
    "start_time": "2022-11-03T06:14:22.690Z"
   },
   {
    "duration": 3,
    "start_time": "2022-11-03T06:14:24.620Z"
   },
   {
    "duration": 28,
    "start_time": "2022-11-03T06:14:28.194Z"
   },
   {
    "duration": 47,
    "start_time": "2022-11-03T06:14:31.548Z"
   },
   {
    "duration": 4,
    "start_time": "2022-11-03T06:14:34.476Z"
   },
   {
    "duration": 10,
    "start_time": "2022-11-03T06:14:36.340Z"
   },
   {
    "duration": 4,
    "start_time": "2022-11-03T06:14:37.570Z"
   },
   {
    "duration": 4,
    "start_time": "2022-11-03T06:14:38.187Z"
   },
   {
    "duration": 3,
    "start_time": "2022-11-03T06:14:39.866Z"
   },
   {
    "duration": 90,
    "start_time": "2022-11-03T06:14:40.476Z"
   },
   {
    "duration": 820,
    "start_time": "2022-11-03T06:14:57.165Z"
   },
   {
    "duration": 872,
    "start_time": "2022-11-03T06:15:14.310Z"
   },
   {
    "duration": 22,
    "start_time": "2022-11-03T06:15:29.899Z"
   },
   {
    "duration": 12,
    "start_time": "2022-11-03T06:15:30.812Z"
   },
   {
    "duration": 12,
    "start_time": "2022-11-03T06:15:37.502Z"
   },
   {
    "duration": 54,
    "start_time": "2022-11-03T06:37:24.835Z"
   },
   {
    "duration": 11,
    "start_time": "2022-11-03T06:37:56.491Z"
   },
   {
    "duration": 14,
    "start_time": "2022-11-03T06:38:35.062Z"
   },
   {
    "duration": 48,
    "start_time": "2022-11-03T06:39:20.873Z"
   },
   {
    "duration": 13,
    "start_time": "2022-11-03T06:39:23.885Z"
   },
   {
    "duration": 47,
    "start_time": "2022-11-03T06:40:18.379Z"
   },
   {
    "duration": 44,
    "start_time": "2022-11-03T06:41:00.387Z"
   },
   {
    "duration": 14,
    "start_time": "2022-11-03T06:41:25.526Z"
   },
   {
    "duration": 71,
    "start_time": "2022-11-03T06:43:08.244Z"
   },
   {
    "duration": 6,
    "start_time": "2022-11-03T06:43:09.249Z"
   },
   {
    "duration": 4,
    "start_time": "2022-11-03T06:43:27.842Z"
   },
   {
    "duration": 4,
    "start_time": "2022-11-03T06:44:16.161Z"
   },
   {
    "duration": 11,
    "start_time": "2022-11-03T06:52:19.014Z"
   },
   {
    "duration": 13,
    "start_time": "2022-11-03T06:53:43.278Z"
   },
   {
    "duration": 43,
    "start_time": "2022-11-03T06:55:05.775Z"
   },
   {
    "duration": 36,
    "start_time": "2022-11-03T06:56:09.295Z"
   },
   {
    "duration": 11,
    "start_time": "2022-11-03T06:56:19.093Z"
   },
   {
    "duration": 43,
    "start_time": "2022-11-03T06:57:29.335Z"
   },
   {
    "duration": 45,
    "start_time": "2022-11-03T06:57:41.937Z"
   },
   {
    "duration": 10,
    "start_time": "2022-11-03T06:57:42.744Z"
   },
   {
    "duration": 32,
    "start_time": "2022-11-03T07:00:13.262Z"
   },
   {
    "duration": 35,
    "start_time": "2022-11-03T07:00:19.286Z"
   },
   {
    "duration": 33,
    "start_time": "2022-11-03T07:00:58.382Z"
   },
   {
    "duration": 34,
    "start_time": "2022-11-03T07:01:20.185Z"
   },
   {
    "duration": 7,
    "start_time": "2022-11-03T07:01:20.935Z"
   },
   {
    "duration": 11,
    "start_time": "2022-11-03T07:03:00.094Z"
   },
   {
    "duration": 7,
    "start_time": "2022-11-03T07:03:00.890Z"
   },
   {
    "duration": 37,
    "start_time": "2022-11-03T07:05:30.975Z"
   },
   {
    "duration": 11,
    "start_time": "2022-11-03T07:06:05.527Z"
   },
   {
    "duration": 34,
    "start_time": "2022-11-03T07:07:26.723Z"
   },
   {
    "duration": 44,
    "start_time": "2022-11-03T07:08:49.056Z"
   },
   {
    "duration": 34,
    "start_time": "2022-11-03T07:08:56.352Z"
   },
   {
    "duration": 30,
    "start_time": "2022-11-03T07:11:05.131Z"
   },
   {
    "duration": 5,
    "start_time": "2022-11-03T07:20:48.751Z"
   },
   {
    "duration": 62,
    "start_time": "2022-11-03T08:17:09.163Z"
   },
   {
    "duration": 61,
    "start_time": "2022-11-03T08:17:38.675Z"
   },
   {
    "duration": 44,
    "start_time": "2022-11-03T08:17:43.719Z"
   },
   {
    "duration": 6,
    "start_time": "2022-11-03T08:17:46.717Z"
   },
   {
    "duration": 73,
    "start_time": "2022-11-03T08:17:48.514Z"
   },
   {
    "duration": 11,
    "start_time": "2022-11-03T08:19:09.556Z"
   },
   {
    "duration": 11,
    "start_time": "2022-11-03T08:21:00.035Z"
   },
   {
    "duration": 4,
    "start_time": "2022-11-03T08:23:27.596Z"
   },
   {
    "duration": 9,
    "start_time": "2022-11-03T08:23:29.609Z"
   },
   {
    "duration": 871,
    "start_time": "2022-11-03T08:26:29.380Z"
   },
   {
    "duration": 85,
    "start_time": "2022-11-03T08:26:45.921Z"
   },
   {
    "duration": 89,
    "start_time": "2022-11-03T08:27:15.565Z"
   },
   {
    "duration": 114,
    "start_time": "2022-11-03T08:29:31.781Z"
   },
   {
    "duration": 89,
    "start_time": "2022-11-03T08:30:56.221Z"
   },
   {
    "duration": 14,
    "start_time": "2022-11-03T08:31:57.026Z"
   },
   {
    "duration": 77,
    "start_time": "2022-11-03T08:32:37.954Z"
   },
   {
    "duration": 86,
    "start_time": "2022-11-03T08:32:44.985Z"
   },
   {
    "duration": 10,
    "start_time": "2022-11-03T08:33:05.442Z"
   },
   {
    "duration": 1206,
    "start_time": "2022-11-03T08:33:24.269Z"
   },
   {
    "duration": 13,
    "start_time": "2022-11-03T08:33:36.196Z"
   },
   {
    "duration": 9,
    "start_time": "2022-11-03T08:33:44.779Z"
   },
   {
    "duration": 10,
    "start_time": "2022-11-03T08:33:51.945Z"
   },
   {
    "duration": 13,
    "start_time": "2022-11-03T08:35:25.779Z"
   },
   {
    "duration": 18,
    "start_time": "2022-11-03T08:35:44.173Z"
   },
   {
    "duration": 14,
    "start_time": "2022-11-03T08:36:32.933Z"
   },
   {
    "duration": 105,
    "start_time": "2022-11-03T08:39:26.877Z"
   },
   {
    "duration": 62,
    "start_time": "2022-11-03T08:40:22.230Z"
   },
   {
    "duration": 65,
    "start_time": "2022-11-03T08:40:39.020Z"
   },
   {
    "duration": 50,
    "start_time": "2022-11-03T08:40:56.948Z"
   },
   {
    "duration": 13,
    "start_time": "2022-11-03T08:41:10.916Z"
   },
   {
    "duration": 94,
    "start_time": "2022-11-03T08:41:30.678Z"
   },
   {
    "duration": 57,
    "start_time": "2022-11-03T08:41:37.172Z"
   },
   {
    "duration": 14,
    "start_time": "2022-11-03T08:41:45.176Z"
   },
   {
    "duration": 14,
    "start_time": "2022-11-03T08:42:12.163Z"
   },
   {
    "duration": 13,
    "start_time": "2022-11-03T08:42:26.604Z"
   },
   {
    "duration": 17,
    "start_time": "2022-11-03T08:42:39.100Z"
   },
   {
    "duration": 96,
    "start_time": "2022-11-03T08:43:01.628Z"
   },
   {
    "duration": 42,
    "start_time": "2022-11-03T08:43:37.647Z"
   },
   {
    "duration": 10,
    "start_time": "2022-11-03T08:43:46.613Z"
   },
   {
    "duration": 11,
    "start_time": "2022-11-03T08:44:08.172Z"
   },
   {
    "duration": 10,
    "start_time": "2022-11-03T08:47:05.814Z"
   },
   {
    "duration": 10,
    "start_time": "2022-11-03T08:48:15.804Z"
   },
   {
    "duration": 10,
    "start_time": "2022-11-03T08:51:25.765Z"
   },
   {
    "duration": 1419,
    "start_time": "2022-11-03T09:26:58.526Z"
   },
   {
    "duration": 3,
    "start_time": "2022-11-03T09:26:59.947Z"
   },
   {
    "duration": 535,
    "start_time": "2022-11-03T09:26:59.951Z"
   },
   {
    "duration": 8,
    "start_time": "2022-11-03T09:27:00.489Z"
   },
   {
    "duration": 29,
    "start_time": "2022-11-03T09:27:00.499Z"
   },
   {
    "duration": 18,
    "start_time": "2022-11-03T09:27:00.529Z"
   },
   {
    "duration": 78,
    "start_time": "2022-11-03T09:27:00.549Z"
   },
   {
    "duration": 77,
    "start_time": "2022-11-03T09:27:00.628Z"
   },
   {
    "duration": 139,
    "start_time": "2022-11-03T09:27:00.708Z"
   },
   {
    "duration": 1016,
    "start_time": "2022-11-03T09:27:00.850Z"
   },
   {
    "duration": 4,
    "start_time": "2022-11-03T09:27:01.868Z"
   },
   {
    "duration": 43,
    "start_time": "2022-11-03T09:27:01.874Z"
   },
   {
    "duration": 32,
    "start_time": "2022-11-03T09:27:01.919Z"
   },
   {
    "duration": 61,
    "start_time": "2022-11-03T09:27:01.953Z"
   },
   {
    "duration": 278,
    "start_time": "2022-11-03T09:27:02.015Z"
   },
   {
    "duration": 6,
    "start_time": "2022-11-03T09:27:02.295Z"
   },
   {
    "duration": 32,
    "start_time": "2022-11-03T09:27:02.302Z"
   },
   {
    "duration": 6894,
    "start_time": "2022-11-03T09:27:02.336Z"
   },
   {
    "duration": 96,
    "start_time": "2022-11-03T09:27:09.231Z"
   },
   {
    "duration": 13,
    "start_time": "2022-11-03T09:27:09.329Z"
   },
   {
    "duration": 30,
    "start_time": "2022-11-03T09:27:09.343Z"
   },
   {
    "duration": 26,
    "start_time": "2022-11-03T09:27:09.423Z"
   },
   {
    "duration": 83,
    "start_time": "2022-11-03T09:27:09.450Z"
   },
   {
    "duration": 30,
    "start_time": "2022-11-03T09:27:09.535Z"
   },
   {
    "duration": 69,
    "start_time": "2022-11-03T09:27:09.567Z"
   },
   {
    "duration": 131,
    "start_time": "2022-11-03T09:27:09.638Z"
   },
   {
    "duration": 63,
    "start_time": "2022-11-03T09:27:09.771Z"
   },
   {
    "duration": 105,
    "start_time": "2022-11-03T09:27:09.838Z"
   },
   {
    "duration": 14,
    "start_time": "2022-11-03T09:27:09.945Z"
   },
   {
    "duration": 116,
    "start_time": "2022-11-03T09:27:09.961Z"
   },
   {
    "duration": 5,
    "start_time": "2022-11-03T09:27:10.079Z"
   },
   {
    "duration": 42,
    "start_time": "2022-11-03T09:27:10.086Z"
   },
   {
    "duration": 9,
    "start_time": "2022-11-03T09:27:10.129Z"
   },
   {
    "duration": 42,
    "start_time": "2022-11-03T09:27:10.139Z"
   },
   {
    "duration": 40,
    "start_time": "2022-11-03T09:27:10.183Z"
   },
   {
    "duration": 44,
    "start_time": "2022-11-03T09:27:10.224Z"
   },
   {
    "duration": 4,
    "start_time": "2022-11-03T09:27:10.269Z"
   },
   {
    "duration": 16,
    "start_time": "2022-11-03T09:27:10.275Z"
   },
   {
    "duration": 6,
    "start_time": "2022-11-03T09:27:10.292Z"
   },
   {
    "duration": 23,
    "start_time": "2022-11-03T09:27:10.300Z"
   },
   {
    "duration": 108,
    "start_time": "2022-11-03T09:27:10.325Z"
   },
   {
    "duration": 21,
    "start_time": "2022-11-03T09:27:10.435Z"
   },
   {
    "duration": 18,
    "start_time": "2022-11-03T09:27:10.457Z"
   },
   {
    "duration": 11,
    "start_time": "2022-11-03T09:27:10.477Z"
   },
   {
    "duration": 33,
    "start_time": "2022-11-03T09:27:10.489Z"
   },
   {
    "duration": 19,
    "start_time": "2022-11-03T09:27:10.524Z"
   },
   {
    "duration": 9,
    "start_time": "2022-11-03T09:27:10.546Z"
   },
   {
    "duration": 13,
    "start_time": "2022-11-03T09:27:10.557Z"
   },
   {
    "duration": 12,
    "start_time": "2022-11-03T09:27:10.572Z"
   },
   {
    "duration": 10,
    "start_time": "2022-11-03T09:27:10.585Z"
   },
   {
    "duration": 33,
    "start_time": "2022-11-03T09:27:10.596Z"
   }
  ],
  "kernelspec": {
   "display_name": "Python 3 (ipykernel)",
   "language": "python",
   "name": "python3"
  },
  "language_info": {
   "codemirror_mode": {
    "name": "ipython",
    "version": 3
   },
   "file_extension": ".py",
   "mimetype": "text/x-python",
   "name": "python",
   "nbconvert_exporter": "python",
   "pygments_lexer": "ipython3",
   "version": "3.9.12"
  },
  "toc": {
   "base_numbering": 1,
   "nav_menu": {},
   "number_sections": true,
   "sideBar": true,
   "skip_h1_title": true,
   "title_cell": "Table of Contents",
   "title_sidebar": "Contents",
   "toc_cell": false,
   "toc_position": {},
   "toc_section_display": true,
   "toc_window_display": true
  }
 },
 "nbformat": 4,
 "nbformat_minor": 2
}
