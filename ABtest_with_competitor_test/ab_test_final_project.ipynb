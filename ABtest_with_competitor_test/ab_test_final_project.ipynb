{
 "cells": [
  {
   "cell_type": "markdown",
   "id": "bdab49bd",
   "metadata": {},
   "source": [
    "# Оценка результатов А/В-тестирования нового механизма рекомендаций на сайте интернет-магазина"
   ]
  },
  {
   "cell_type": "markdown",
   "id": "f59f948a",
   "metadata": {},
   "source": [
    "Цель проекта — провести оценку результатов A/B-теста. В качестве вводных данных есть датасет с действиями пользователей, техническое задание и несколько вспомогательных датасетов. Необходимо оценить корректность проведения теста, проанализировать результаты теста, исследовать пересечение тестовой аудитории с конкурирующим тестом, совпадение теста и маркетинговых событий, а также другие проблемы временных границ теста."
   ]
  },
  {
   "cell_type": "markdown",
   "id": "2e353486",
   "metadata": {},
   "source": [
    "### Техническое задание\n",
    "\n",
    "- Название теста: `recommender_system_test`;\n",
    "- группы: А — контрольная, B — новая платёжная воронка;\n",
    "- дата запуска: 2020-12-07;\n",
    "- дата остановки набора новых пользователей: 2020-12-21;\n",
    "- дата остановки: 2021-01-04;\n",
    "- аудитория: 15% новых пользователей из региона EU;\n",
    "- назначение теста: тестирование изменений, связанных с внедрением улучшенной рекомендательной системы;\n",
    "- ожидаемое количество участников теста: 6000.\n",
    "- ожидаемый эффект: за 14 дней с момента регистрации пользователи покажут улучшение каждой метрики не менее, чем на 10%:\n",
    "    - конверсии в просмотр карточек товаров — событие `product_page`,\n",
    "    - просмотры корзины — `product_cart`,\n",
    "    - покупки — `purchase`."
   ]
  },
  {
   "cell_type": "markdown",
   "id": "ccd7452b",
   "metadata": {},
   "source": [
    "# Загрузка данных, предобработка"
   ]
  },
  {
   "cell_type": "code",
   "execution_count": 1,
   "id": "952fe8bb",
   "metadata": {},
   "outputs": [],
   "source": [
    "# Загрузка библиотек\n",
    "import pandas as pd\n",
    "import numpy as np\n",
    "import matplotlib.pyplot as plt\n",
    "import warnings\n",
    "import seaborn as sns\n",
    "from plotly import graph_objects as go\n",
    "import plotly.express as px\n",
    "import datetime  \n",
    "import scipy.stats as st\n",
    "import math as mth\n",
    "from datetime import datetime, timedelta\n",
    "\n",
    "# устанавливаем отображение количества столбцов экране \n",
    "pd.options.display.max_columns = 40\n",
    "pd.options.display.max_colwidth = 150\n",
    "pd.options.display.float_format = '{:.2f}'.format # устанавливаем отображение числа знаков после точки.\n",
    "import warnings\n",
    "warnings.filterwarnings('ignore')"
   ]
  },
  {
   "cell_type": "code",
   "execution_count": 3,
   "id": "9b776ba2",
   "metadata": {},
   "outputs": [],
   "source": [
    "# Загружем дата сеты\n",
    "try:\n",
    "    dfme= pd.read_csv('ab_project_marketing_events.csv', parse_dates=['start_dt', 'finish_dt'])\n",
    "except:\n",
    "    dfme= pd.read_csv('/datasets/ab_project_marketing_events.csv', parse_dates=['start_dt', 'finish_dt'])\n",
    "\n",
    "try:\n",
    "    dfnu = pd.read_csv('final_ab_new_users.csv', parse_dates=['first_date'])\n",
    "except:\n",
    "    dfnu = pd.read_csv('/datasets/final_ab_new_users.csv', parse_dates=['first_date'])     \n",
    "\n",
    "try:\n",
    "    dfe = pd.read_csv('final_ab_events.csv', parse_dates=['event_dt'])\n",
    "except:\n",
    "    dfe = pd.read_csv('/datasets/final_ab_events.csv', parse_dates=['event_dt']) \n",
    "    \n",
    "try:\n",
    "    dfp = pd.read_csv('final_ab_participants.csv')\n",
    "except:\n",
    "    dfp = pd.read_csv('/datasets/final_ab_participants.csv') "
   ]
  },
  {
   "cell_type": "code",
   "execution_count": 4,
   "id": "973f3528",
   "metadata": {},
   "outputs": [
    {
     "name": "stdout",
     "output_type": "stream",
     "text": [
      "Календарь маркетинговых событий на 2020 год:\n",
      "\n",
      "<class 'pandas.core.frame.DataFrame'>\n",
      "RangeIndex: 14 entries, 0 to 13\n",
      "Data columns (total 4 columns):\n",
      " #   Column     Non-Null Count  Dtype         \n",
      "---  ------     --------------  -----         \n",
      " 0   name       14 non-null     object        \n",
      " 1   regions    14 non-null     object        \n",
      " 2   start_dt   14 non-null     datetime64[ns]\n",
      " 3   finish_dt  14 non-null     datetime64[ns]\n",
      "dtypes: datetime64[ns](2), object(2)\n",
      "memory usage: 576.0+ bytes\n"
     ]
    },
    {
     "data": {
      "text/html": [
       "<div>\n",
       "<style scoped>\n",
       "    .dataframe tbody tr th:only-of-type {\n",
       "        vertical-align: middle;\n",
       "    }\n",
       "\n",
       "    .dataframe tbody tr th {\n",
       "        vertical-align: top;\n",
       "    }\n",
       "\n",
       "    .dataframe thead th {\n",
       "        text-align: right;\n",
       "    }\n",
       "</style>\n",
       "<table border=\"1\" class=\"dataframe\">\n",
       "  <thead>\n",
       "    <tr style=\"text-align: right;\">\n",
       "      <th></th>\n",
       "      <th>name</th>\n",
       "      <th>regions</th>\n",
       "      <th>start_dt</th>\n",
       "      <th>finish_dt</th>\n",
       "    </tr>\n",
       "  </thead>\n",
       "  <tbody>\n",
       "    <tr>\n",
       "      <th>0</th>\n",
       "      <td>Christmas&amp;New Year Promo</td>\n",
       "      <td>EU, N.America</td>\n",
       "      <td>2020-12-25</td>\n",
       "      <td>2021-01-03</td>\n",
       "    </tr>\n",
       "    <tr>\n",
       "      <th>1</th>\n",
       "      <td>St. Valentine's Day Giveaway</td>\n",
       "      <td>EU, CIS, APAC, N.America</td>\n",
       "      <td>2020-02-14</td>\n",
       "      <td>2020-02-16</td>\n",
       "    </tr>\n",
       "    <tr>\n",
       "      <th>2</th>\n",
       "      <td>St. Patric's Day Promo</td>\n",
       "      <td>EU, N.America</td>\n",
       "      <td>2020-03-17</td>\n",
       "      <td>2020-03-19</td>\n",
       "    </tr>\n",
       "    <tr>\n",
       "      <th>3</th>\n",
       "      <td>Easter Promo</td>\n",
       "      <td>EU, CIS, APAC, N.America</td>\n",
       "      <td>2020-04-12</td>\n",
       "      <td>2020-04-19</td>\n",
       "    </tr>\n",
       "    <tr>\n",
       "      <th>4</th>\n",
       "      <td>4th of July Promo</td>\n",
       "      <td>N.America</td>\n",
       "      <td>2020-07-04</td>\n",
       "      <td>2020-07-11</td>\n",
       "    </tr>\n",
       "    <tr>\n",
       "      <th>5</th>\n",
       "      <td>Black Friday Ads Campaign</td>\n",
       "      <td>EU, CIS, APAC, N.America</td>\n",
       "      <td>2020-11-26</td>\n",
       "      <td>2020-12-01</td>\n",
       "    </tr>\n",
       "    <tr>\n",
       "      <th>6</th>\n",
       "      <td>Chinese New Year Promo</td>\n",
       "      <td>APAC</td>\n",
       "      <td>2020-01-25</td>\n",
       "      <td>2020-02-07</td>\n",
       "    </tr>\n",
       "    <tr>\n",
       "      <th>7</th>\n",
       "      <td>Labor day (May 1st) Ads Campaign</td>\n",
       "      <td>EU, CIS, APAC</td>\n",
       "      <td>2020-05-01</td>\n",
       "      <td>2020-05-03</td>\n",
       "    </tr>\n",
       "    <tr>\n",
       "      <th>8</th>\n",
       "      <td>International Women's Day Promo</td>\n",
       "      <td>EU, CIS, APAC</td>\n",
       "      <td>2020-03-08</td>\n",
       "      <td>2020-03-10</td>\n",
       "    </tr>\n",
       "    <tr>\n",
       "      <th>9</th>\n",
       "      <td>Victory Day CIS (May 9th) Event</td>\n",
       "      <td>CIS</td>\n",
       "      <td>2020-05-09</td>\n",
       "      <td>2020-05-11</td>\n",
       "    </tr>\n",
       "    <tr>\n",
       "      <th>10</th>\n",
       "      <td>CIS New Year Gift Lottery</td>\n",
       "      <td>CIS</td>\n",
       "      <td>2020-12-30</td>\n",
       "      <td>2021-01-07</td>\n",
       "    </tr>\n",
       "    <tr>\n",
       "      <th>11</th>\n",
       "      <td>Dragon Boat Festival Giveaway</td>\n",
       "      <td>APAC</td>\n",
       "      <td>2020-06-25</td>\n",
       "      <td>2020-07-01</td>\n",
       "    </tr>\n",
       "    <tr>\n",
       "      <th>12</th>\n",
       "      <td>Single's Day Gift Promo</td>\n",
       "      <td>APAC</td>\n",
       "      <td>2020-11-11</td>\n",
       "      <td>2020-11-12</td>\n",
       "    </tr>\n",
       "    <tr>\n",
       "      <th>13</th>\n",
       "      <td>Chinese Moon Festival</td>\n",
       "      <td>APAC</td>\n",
       "      <td>2020-10-01</td>\n",
       "      <td>2020-10-07</td>\n",
       "    </tr>\n",
       "  </tbody>\n",
       "</table>\n",
       "</div>"
      ],
      "text/plain": [
       "                                name                   regions   start_dt  \\\n",
       "0           Christmas&New Year Promo             EU, N.America 2020-12-25   \n",
       "1       St. Valentine's Day Giveaway  EU, CIS, APAC, N.America 2020-02-14   \n",
       "2             St. Patric's Day Promo             EU, N.America 2020-03-17   \n",
       "3                       Easter Promo  EU, CIS, APAC, N.America 2020-04-12   \n",
       "4                  4th of July Promo                 N.America 2020-07-04   \n",
       "5          Black Friday Ads Campaign  EU, CIS, APAC, N.America 2020-11-26   \n",
       "6             Chinese New Year Promo                      APAC 2020-01-25   \n",
       "7   Labor day (May 1st) Ads Campaign             EU, CIS, APAC 2020-05-01   \n",
       "8    International Women's Day Promo             EU, CIS, APAC 2020-03-08   \n",
       "9    Victory Day CIS (May 9th) Event                       CIS 2020-05-09   \n",
       "10         CIS New Year Gift Lottery                       CIS 2020-12-30   \n",
       "11     Dragon Boat Festival Giveaway                      APAC 2020-06-25   \n",
       "12           Single's Day Gift Promo                      APAC 2020-11-11   \n",
       "13             Chinese Moon Festival                      APAC 2020-10-01   \n",
       "\n",
       "    finish_dt  \n",
       "0  2021-01-03  \n",
       "1  2020-02-16  \n",
       "2  2020-03-19  \n",
       "3  2020-04-19  \n",
       "4  2020-07-11  \n",
       "5  2020-12-01  \n",
       "6  2020-02-07  \n",
       "7  2020-05-03  \n",
       "8  2020-03-10  \n",
       "9  2020-05-11  \n",
       "10 2021-01-07  \n",
       "11 2020-07-01  \n",
       "12 2020-11-12  \n",
       "13 2020-10-07  "
      ]
     },
     "execution_count": 4,
     "metadata": {},
     "output_type": "execute_result"
    }
   ],
   "source": [
    "print('Календарь маркетинговых событий на 2020 год:\\n')\n",
    "dfme.info()\n",
    "dfme"
   ]
  },
  {
   "cell_type": "code",
   "execution_count": 5,
   "id": "e0feeae0",
   "metadata": {},
   "outputs": [
    {
     "name": "stdout",
     "output_type": "stream",
     "text": [
      "Пользователи, зарегистрировавшиеся с 7 по 21 декабря 2020 года:\n",
      "\n",
      "<class 'pandas.core.frame.DataFrame'>\n",
      "RangeIndex: 61733 entries, 0 to 61732\n",
      "Data columns (total 4 columns):\n",
      " #   Column      Non-Null Count  Dtype         \n",
      "---  ------      --------------  -----         \n",
      " 0   user_id     61733 non-null  object        \n",
      " 1   first_date  61733 non-null  datetime64[ns]\n",
      " 2   region      61733 non-null  object        \n",
      " 3   device      61733 non-null  object        \n",
      "dtypes: datetime64[ns](1), object(3)\n",
      "memory usage: 1.9+ MB\n"
     ]
    },
    {
     "data": {
      "text/html": [
       "<div>\n",
       "<style scoped>\n",
       "    .dataframe tbody tr th:only-of-type {\n",
       "        vertical-align: middle;\n",
       "    }\n",
       "\n",
       "    .dataframe tbody tr th {\n",
       "        vertical-align: top;\n",
       "    }\n",
       "\n",
       "    .dataframe thead th {\n",
       "        text-align: right;\n",
       "    }\n",
       "</style>\n",
       "<table border=\"1\" class=\"dataframe\">\n",
       "  <thead>\n",
       "    <tr style=\"text-align: right;\">\n",
       "      <th></th>\n",
       "      <th>user_id</th>\n",
       "      <th>first_date</th>\n",
       "      <th>region</th>\n",
       "      <th>device</th>\n",
       "    </tr>\n",
       "  </thead>\n",
       "  <tbody>\n",
       "    <tr>\n",
       "      <th>0</th>\n",
       "      <td>D72A72121175D8BE</td>\n",
       "      <td>2020-12-07</td>\n",
       "      <td>EU</td>\n",
       "      <td>PC</td>\n",
       "    </tr>\n",
       "    <tr>\n",
       "      <th>1</th>\n",
       "      <td>F1C668619DFE6E65</td>\n",
       "      <td>2020-12-07</td>\n",
       "      <td>N.America</td>\n",
       "      <td>Android</td>\n",
       "    </tr>\n",
       "    <tr>\n",
       "      <th>2</th>\n",
       "      <td>2E1BF1D4C37EA01F</td>\n",
       "      <td>2020-12-07</td>\n",
       "      <td>EU</td>\n",
       "      <td>PC</td>\n",
       "    </tr>\n",
       "    <tr>\n",
       "      <th>3</th>\n",
       "      <td>50734A22C0C63768</td>\n",
       "      <td>2020-12-07</td>\n",
       "      <td>EU</td>\n",
       "      <td>iPhone</td>\n",
       "    </tr>\n",
       "    <tr>\n",
       "      <th>4</th>\n",
       "      <td>E1BDDCE0DAFA2679</td>\n",
       "      <td>2020-12-07</td>\n",
       "      <td>N.America</td>\n",
       "      <td>iPhone</td>\n",
       "    </tr>\n",
       "  </tbody>\n",
       "</table>\n",
       "</div>"
      ],
      "text/plain": [
       "            user_id first_date     region   device\n",
       "0  D72A72121175D8BE 2020-12-07         EU       PC\n",
       "1  F1C668619DFE6E65 2020-12-07  N.America  Android\n",
       "2  2E1BF1D4C37EA01F 2020-12-07         EU       PC\n",
       "3  50734A22C0C63768 2020-12-07         EU   iPhone\n",
       "4  E1BDDCE0DAFA2679 2020-12-07  N.America   iPhone"
      ]
     },
     "execution_count": 5,
     "metadata": {},
     "output_type": "execute_result"
    }
   ],
   "source": [
    "print('Пользователи, зарегистрировавшиеся с 7 по 21 декабря 2020 года:\\n')\n",
    "dfnu.info()\n",
    "dfnu.head()"
   ]
  },
  {
   "cell_type": "code",
   "execution_count": 6,
   "id": "762cbd68",
   "metadata": {},
   "outputs": [
    {
     "name": "stdout",
     "output_type": "stream",
     "text": [
      "Действия новых пользователей в период с 7 декабря 2020 по 4 января 2021 года:\n",
      "\n",
      "<class 'pandas.core.frame.DataFrame'>\n",
      "RangeIndex: 440317 entries, 0 to 440316\n",
      "Data columns (total 4 columns):\n",
      " #   Column      Non-Null Count   Dtype         \n",
      "---  ------      --------------   -----         \n",
      " 0   user_id     440317 non-null  object        \n",
      " 1   event_dt    440317 non-null  datetime64[ns]\n",
      " 2   event_name  440317 non-null  object        \n",
      " 3   details     62740 non-null   float64       \n",
      "dtypes: datetime64[ns](1), float64(1), object(2)\n",
      "memory usage: 13.4+ MB\n"
     ]
    },
    {
     "data": {
      "text/html": [
       "<div>\n",
       "<style scoped>\n",
       "    .dataframe tbody tr th:only-of-type {\n",
       "        vertical-align: middle;\n",
       "    }\n",
       "\n",
       "    .dataframe tbody tr th {\n",
       "        vertical-align: top;\n",
       "    }\n",
       "\n",
       "    .dataframe thead th {\n",
       "        text-align: right;\n",
       "    }\n",
       "</style>\n",
       "<table border=\"1\" class=\"dataframe\">\n",
       "  <thead>\n",
       "    <tr style=\"text-align: right;\">\n",
       "      <th></th>\n",
       "      <th>user_id</th>\n",
       "      <th>event_dt</th>\n",
       "      <th>event_name</th>\n",
       "      <th>details</th>\n",
       "    </tr>\n",
       "  </thead>\n",
       "  <tbody>\n",
       "    <tr>\n",
       "      <th>0</th>\n",
       "      <td>E1BDDCE0DAFA2679</td>\n",
       "      <td>2020-12-07 20:22:03</td>\n",
       "      <td>purchase</td>\n",
       "      <td>99.99</td>\n",
       "    </tr>\n",
       "    <tr>\n",
       "      <th>1</th>\n",
       "      <td>7B6452F081F49504</td>\n",
       "      <td>2020-12-07 09:22:53</td>\n",
       "      <td>purchase</td>\n",
       "      <td>9.99</td>\n",
       "    </tr>\n",
       "    <tr>\n",
       "      <th>2</th>\n",
       "      <td>9CD9F34546DF254C</td>\n",
       "      <td>2020-12-07 12:59:29</td>\n",
       "      <td>purchase</td>\n",
       "      <td>4.99</td>\n",
       "    </tr>\n",
       "    <tr>\n",
       "      <th>3</th>\n",
       "      <td>96F27A054B191457</td>\n",
       "      <td>2020-12-07 04:02:40</td>\n",
       "      <td>purchase</td>\n",
       "      <td>4.99</td>\n",
       "    </tr>\n",
       "    <tr>\n",
       "      <th>4</th>\n",
       "      <td>1FD7660FDF94CA1F</td>\n",
       "      <td>2020-12-07 10:15:09</td>\n",
       "      <td>purchase</td>\n",
       "      <td>4.99</td>\n",
       "    </tr>\n",
       "  </tbody>\n",
       "</table>\n",
       "</div>"
      ],
      "text/plain": [
       "            user_id            event_dt event_name  details\n",
       "0  E1BDDCE0DAFA2679 2020-12-07 20:22:03   purchase    99.99\n",
       "1  7B6452F081F49504 2020-12-07 09:22:53   purchase     9.99\n",
       "2  9CD9F34546DF254C 2020-12-07 12:59:29   purchase     4.99\n",
       "3  96F27A054B191457 2020-12-07 04:02:40   purchase     4.99\n",
       "4  1FD7660FDF94CA1F 2020-12-07 10:15:09   purchase     4.99"
      ]
     },
     "execution_count": 6,
     "metadata": {},
     "output_type": "execute_result"
    }
   ],
   "source": [
    "print('Действия новых пользователей в период с 7 декабря 2020 по 4 января 2021 года:\\n')\n",
    "dfe.info()\n",
    "dfe.head()"
   ]
  },
  {
   "cell_type": "code",
   "execution_count": 7,
   "id": "ff31056c",
   "metadata": {},
   "outputs": [
    {
     "name": "stdout",
     "output_type": "stream",
     "text": [
      "Таблица участников тестов:\n",
      "\n",
      "<class 'pandas.core.frame.DataFrame'>\n",
      "RangeIndex: 18268 entries, 0 to 18267\n",
      "Data columns (total 3 columns):\n",
      " #   Column   Non-Null Count  Dtype \n",
      "---  ------   --------------  ----- \n",
      " 0   user_id  18268 non-null  object\n",
      " 1   group    18268 non-null  object\n",
      " 2   ab_test  18268 non-null  object\n",
      "dtypes: object(3)\n",
      "memory usage: 428.3+ KB\n"
     ]
    },
    {
     "data": {
      "text/html": [
       "<div>\n",
       "<style scoped>\n",
       "    .dataframe tbody tr th:only-of-type {\n",
       "        vertical-align: middle;\n",
       "    }\n",
       "\n",
       "    .dataframe tbody tr th {\n",
       "        vertical-align: top;\n",
       "    }\n",
       "\n",
       "    .dataframe thead th {\n",
       "        text-align: right;\n",
       "    }\n",
       "</style>\n",
       "<table border=\"1\" class=\"dataframe\">\n",
       "  <thead>\n",
       "    <tr style=\"text-align: right;\">\n",
       "      <th></th>\n",
       "      <th>user_id</th>\n",
       "      <th>group</th>\n",
       "      <th>ab_test</th>\n",
       "    </tr>\n",
       "  </thead>\n",
       "  <tbody>\n",
       "    <tr>\n",
       "      <th>0</th>\n",
       "      <td>D1ABA3E2887B6A73</td>\n",
       "      <td>A</td>\n",
       "      <td>recommender_system_test</td>\n",
       "    </tr>\n",
       "    <tr>\n",
       "      <th>1</th>\n",
       "      <td>A7A3664BD6242119</td>\n",
       "      <td>A</td>\n",
       "      <td>recommender_system_test</td>\n",
       "    </tr>\n",
       "    <tr>\n",
       "      <th>2</th>\n",
       "      <td>DABC14FDDFADD29E</td>\n",
       "      <td>A</td>\n",
       "      <td>recommender_system_test</td>\n",
       "    </tr>\n",
       "    <tr>\n",
       "      <th>3</th>\n",
       "      <td>04988C5DF189632E</td>\n",
       "      <td>A</td>\n",
       "      <td>recommender_system_test</td>\n",
       "    </tr>\n",
       "    <tr>\n",
       "      <th>4</th>\n",
       "      <td>482F14783456D21B</td>\n",
       "      <td>B</td>\n",
       "      <td>recommender_system_test</td>\n",
       "    </tr>\n",
       "  </tbody>\n",
       "</table>\n",
       "</div>"
      ],
      "text/plain": [
       "            user_id group                  ab_test\n",
       "0  D1ABA3E2887B6A73     A  recommender_system_test\n",
       "1  A7A3664BD6242119     A  recommender_system_test\n",
       "2  DABC14FDDFADD29E     A  recommender_system_test\n",
       "3  04988C5DF189632E     A  recommender_system_test\n",
       "4  482F14783456D21B     B  recommender_system_test"
      ]
     },
     "execution_count": 7,
     "metadata": {},
     "output_type": "execute_result"
    }
   ],
   "source": [
    "print('Таблица участников тестов:\\n')\n",
    "dfp.info()\n",
    "dfp.head()"
   ]
  },
  {
   "cell_type": "markdown",
   "id": "d3e205b4",
   "metadata": {},
   "source": [
    "## Описание данных\n",
    "\n",
    "`ab_project_marketing_events.csv` — календарь маркетинговых событий на 2020 год.\n",
    "\n",
    "Структура файла:\n",
    "\n",
    "- `name` — название маркетингового события;\n",
    "- `regions` — регионы, в которых будет проводиться рекламная кампания;\n",
    "- `start_dt` — дата начала кампании;\n",
    "- `finish_dt` — дата завершения кампании.\n",
    "\n",
    "`final_ab_new_users.csv` — пользователи, зарегистрировавшиеся с 7 по 21 декабря 2020 года.\n",
    "\n",
    "Структура файла:\n",
    "\n",
    "- `user_id` — идентификатор пользователя;\n",
    "- `first_date` — дата регистрации;\n",
    "- `region` — регион пользователя;\n",
    "- `device` — устройство, с которого происходила регистрация.\n",
    "\n",
    "`final_ab_events.csv` — действия новых пользователей в период с 7 декабря 2020 по 4 января 2021 года.\n",
    "\n",
    "Структура файла:\n",
    "\n",
    "- `user_id` — идентификатор пользователя;\n",
    "- `event_dt` — дата и время покупки;\n",
    "- `event_name` — тип события;\n",
    "- `details` — дополнительные данные о событии. Например, для покупок, `purchase,` в этом поле хранится стоимость покупки в долларах.\n",
    "\n",
    "`final_ab_participants.csv` — таблица участников тестов.\n",
    "\n",
    "Структура файла:\n",
    "\n",
    "- `user_id` — идентификатор пользователя;\n",
    "- `ab_test` — название теста;\n",
    "- `group` — группа пользователя."
   ]
  },
  {
   "cell_type": "markdown",
   "id": "ff89f2d6",
   "metadata": {},
   "source": [
    "**Этапы предобработки:**\n",
    "- Преобразовать данные времени к нужному типу (сделано при загрузке);\n",
    "- Проверить таблицы на пропуски и на наличие дубликатов;\n",
    "- Произвести проверку: все ли пользователи участвовали в тестировании только будучи в одной группе"
   ]
  },
  {
   "cell_type": "code",
   "execution_count": 8,
   "id": "4ff3aa3f",
   "metadata": {},
   "outputs": [
    {
     "name": "stdout",
     "output_type": "stream",
     "text": [
      "Количество дубликатов:\n",
      "0\n",
      "Количество пропусков:\n",
      "name         0\n",
      "regions      0\n",
      "start_dt     0\n",
      "finish_dt    0\n",
      "dtype: int64 \n",
      "\n",
      "Количество дубликатов:\n",
      "0\n",
      "Количество пропусков:\n",
      "user_id       0\n",
      "first_date    0\n",
      "region        0\n",
      "device        0\n",
      "dtype: int64 \n",
      "\n",
      "Количество дубликатов:\n",
      "0\n",
      "Количество пропусков:\n",
      "user_id            0\n",
      "event_dt           0\n",
      "event_name         0\n",
      "details       377577\n",
      "dtype: int64 \n",
      "\n",
      "Количество дубликатов:\n",
      "0\n",
      "Количество пропусков:\n",
      "user_id    0\n",
      "group      0\n",
      "ab_test    0\n",
      "dtype: int64 \n",
      "\n"
     ]
    }
   ],
   "source": [
    "# Проверка таблицы на пропуски и  наличие явных дубликатов;\n",
    "data = [dfme, dfnu, dfe, dfp]\n",
    "\n",
    "for i in data:\n",
    "    print('Количество дубликатов:')\n",
    "    print(i.duplicated().sum())\n",
    "    print('Количество пропусков:')\n",
    "    print(i.isna().sum(),'\\n')"
   ]
  },
  {
   "cell_type": "markdown",
   "id": "bf3d47b3",
   "metadata": {},
   "source": [
    "Из информации по таблицам видно, что только в таблице `dfe` в столбце `details` присутствуют пропущенные значения. Предполагаю, что клиент, который совершал покупки `purchase` имеет значения в `details`. Сгруппируем значения и посмотрим верна ли теория"
   ]
  },
  {
   "cell_type": "code",
   "execution_count": 9,
   "id": "4f905cfb",
   "metadata": {},
   "outputs": [
    {
     "data": {
      "text/plain": [
       "event_name\n",
       "login               0\n",
       "product_cart        0\n",
       "product_page        0\n",
       "purchase        62740\n",
       "Name: details, dtype: int64"
      ]
     },
     "execution_count": 9,
     "metadata": {},
     "output_type": "execute_result"
    }
   ],
   "source": [
    "dfe.groupby('event_name')['details'].count()"
   ]
  },
  {
   "cell_type": "markdown",
   "id": "43469c47",
   "metadata": {},
   "source": [
    "Данные в столбце `details` заполнены, если только в столбце `event_name` значение `purchase`.Теория верна. Пустые значения оставляем в колонке `details`, они обоснованы."
   ]
  },
  {
   "cell_type": "code",
   "execution_count": 10,
   "id": "b01a5989",
   "metadata": {},
   "outputs": [],
   "source": [
    "# функция для проверки  неявных дубликатов\n",
    "def dup(df, column, n=5):\n",
    "    res = df[column].value_counts().head(n)\n",
    "    return res"
   ]
  },
  {
   "cell_type": "code",
   "execution_count": 11,
   "id": "018d2f09",
   "metadata": {},
   "outputs": [
    {
     "name": "stdout",
     "output_type": "stream",
     "text": [
      "Christmas&New Year Promo        1\n",
      "St. Valentine's Day Giveaway    1\n",
      "St. Patric's Day Promo          1\n",
      "Easter Promo                    1\n",
      "4th of July Promo               1\n",
      "Name: name, dtype: int64\n",
      "APAC                        4\n",
      "EU, CIS, APAC, N.America    3\n",
      "EU, N.America               2\n",
      "EU, CIS, APAC               2\n",
      "CIS                         2\n",
      "Name: regions, dtype: int64\n",
      "2020-12-25    1\n",
      "2020-02-14    1\n",
      "2020-03-17    1\n",
      "2020-04-12    1\n",
      "2020-07-04    1\n",
      "Name: start_dt, dtype: int64\n",
      "2021-01-03    1\n",
      "2020-02-16    1\n",
      "2020-03-19    1\n",
      "2020-04-19    1\n",
      "2020-07-11    1\n",
      "Name: finish_dt, dtype: int64\n"
     ]
    }
   ],
   "source": [
    "# проверка на наличие неявных дубликатов таблицы marketing_events\n",
    "for col in dfme.columns:\n",
    "    print(dup(dfme, col, n=5))"
   ]
  },
  {
   "cell_type": "code",
   "execution_count": 12,
   "id": "887598fd",
   "metadata": {},
   "outputs": [
    {
     "name": "stdout",
     "output_type": "stream",
     "text": [
      "D72A72121175D8BE    1\n",
      "A25EF6D0E025C48E    1\n",
      "62B9FD1B8BDB669C    1\n",
      "9A5F371EED469627    1\n",
      "2DF6B79FC97641EC    1\n",
      "Name: user_id, dtype: int64\n",
      "2020-12-21    6290\n",
      "2020-12-14    5654\n",
      "2020-12-07    5595\n",
      "2020-12-13    4691\n",
      "2020-12-20    4288\n",
      "Name: first_date, dtype: int64\n",
      "EU           46270\n",
      "N.America     9155\n",
      "CIS           3155\n",
      "APAC          3153\n",
      "Name: region, dtype: int64\n",
      "Android    27520\n",
      "PC         15599\n",
      "iPhone     12530\n",
      "Mac         6084\n",
      "Name: device, dtype: int64\n"
     ]
    }
   ],
   "source": [
    "# проверка на наличие неявных дубликатов таблицы new_users\n",
    "for col in dfnu.columns:\n",
    "    print(dup(dfnu, col, n=5))"
   ]
  },
  {
   "cell_type": "code",
   "execution_count": 13,
   "id": "9312269d",
   "metadata": {},
   "outputs": [
    {
     "name": "stdout",
     "output_type": "stream",
     "text": [
      "A3917F81482141F2    36\n",
      "D6477068EF132236    32\n",
      "8AEB716C4CD82CA7    32\n",
      "590DACD07A839BC3    32\n",
      "3356239C0DC75E2A    32\n",
      "Name: user_id, dtype: int64\n",
      "2020-12-23 02:37:24    10\n",
      "2020-12-14 18:54:55    10\n",
      "2020-12-20 02:51:18     9\n",
      "2020-12-24 00:54:52     9\n",
      "2020-12-13 06:00:54     9\n",
      "Name: event_dt, dtype: int64\n",
      "login           189552\n",
      "product_page    125563\n",
      "purchase         62740\n",
      "product_cart     62462\n",
      "Name: event_name, dtype: int64\n",
      "4.99      46362\n",
      "9.99       9530\n",
      "99.99      5631\n",
      "499.99     1217\n",
      "Name: details, dtype: int64\n"
     ]
    }
   ],
   "source": [
    "# проверка на наличие неявных дубликатов таблицы events\n",
    "for col in dfe.columns:\n",
    "    print(dup(dfe, col, n=5))"
   ]
  },
  {
   "cell_type": "code",
   "execution_count": 14,
   "id": "b69f9016",
   "metadata": {},
   "outputs": [
    {
     "name": "stdout",
     "output_type": "stream",
     "text": [
      "0FDFDA0B2DEC2D91    2\n",
      "00E68F103C66C1F7    2\n",
      "BD23AF6242CA944B    2\n",
      "DD670F7422342729    2\n",
      "A5E27D8BCACA668E    2\n",
      "Name: user_id, dtype: int64\n",
      "A    9655\n",
      "B    8613\n",
      "Name: group, dtype: int64\n",
      "interface_eu_test          11567\n",
      "recommender_system_test     6701\n",
      "Name: ab_test, dtype: int64\n"
     ]
    }
   ],
   "source": [
    "# проверка на наличие неявных дубликатов таблицы participants\n",
    "for col in dfp.columns:\n",
    "    print(dup(dfp, col, n=5))"
   ]
  },
  {
   "cell_type": "markdown",
   "id": "73758aab",
   "metadata": {},
   "source": [
    "Явные дубликаты отсутствуют. Не явные дубликаты, на которые стоит обратить внимание - в столбце `user_id` таблицы `participants`. Возможно некоторые пользователи попали в две группы теста."
   ]
  },
  {
   "cell_type": "markdown",
   "id": "8e6165a1",
   "metadata": {},
   "source": [
    "**Вывод:**\n",
    "- Нарушение стиля в названиях столбцов отсутствует;\n",
    "- Преобразовать данные времени к нужному типу DateTime;\n",
    "- Явных дубликатов не обнаружено;\n",
    "- В столбце user_id таблицы participants были обнаружены неявные дубликаты, это может говорить о том, что возможно некоторые пользователи попали в две группы теста;\n",
    "- В столбцах details таблицы events были обнаружены пропущенные значения, которые так же соответствуют данным и были сохранены.\n"
   ]
  },
  {
   "cell_type": "markdown",
   "id": "1629deeb",
   "metadata": {},
   "source": [
    "# Оценка корректности проведения теста. "
   ]
  },
  {
   "cell_type": "markdown",
   "id": "d6696596",
   "metadata": {},
   "source": [
    "### Проверка соответствия и коректности данных требованиям технического задания"
   ]
  },
  {
   "cell_type": "markdown",
   "id": "3e024cdf",
   "metadata": {},
   "source": [
    "Объединим таблицы `new_users` , `events` и `participants`. Далее для проверки понадобятся данные из этих датафреймов  "
   ]
  },
  {
   "cell_type": "code",
   "execution_count": 15,
   "id": "c7e19133",
   "metadata": {},
   "outputs": [
    {
     "data": {
      "text/html": [
       "<div>\n",
       "<style scoped>\n",
       "    .dataframe tbody tr th:only-of-type {\n",
       "        vertical-align: middle;\n",
       "    }\n",
       "\n",
       "    .dataframe tbody tr th {\n",
       "        vertical-align: top;\n",
       "    }\n",
       "\n",
       "    .dataframe thead th {\n",
       "        text-align: right;\n",
       "    }\n",
       "</style>\n",
       "<table border=\"1\" class=\"dataframe\">\n",
       "  <thead>\n",
       "    <tr style=\"text-align: right;\">\n",
       "      <th></th>\n",
       "      <th>user_id</th>\n",
       "      <th>first_date</th>\n",
       "      <th>region</th>\n",
       "      <th>device</th>\n",
       "      <th>event_dt</th>\n",
       "      <th>event_name</th>\n",
       "      <th>details</th>\n",
       "      <th>group</th>\n",
       "      <th>ab_test</th>\n",
       "    </tr>\n",
       "  </thead>\n",
       "  <tbody>\n",
       "    <tr>\n",
       "      <th>0</th>\n",
       "      <td>D72A72121175D8BE</td>\n",
       "      <td>2020-12-07</td>\n",
       "      <td>EU</td>\n",
       "      <td>PC</td>\n",
       "      <td>2020-12-07 21:52:10</td>\n",
       "      <td>product_page</td>\n",
       "      <td>NaN</td>\n",
       "      <td>A</td>\n",
       "      <td>recommender_system_test</td>\n",
       "    </tr>\n",
       "    <tr>\n",
       "      <th>1</th>\n",
       "      <td>D72A72121175D8BE</td>\n",
       "      <td>2020-12-07</td>\n",
       "      <td>EU</td>\n",
       "      <td>PC</td>\n",
       "      <td>2020-12-07 21:52:07</td>\n",
       "      <td>login</td>\n",
       "      <td>NaN</td>\n",
       "      <td>A</td>\n",
       "      <td>recommender_system_test</td>\n",
       "    </tr>\n",
       "    <tr>\n",
       "      <th>2</th>\n",
       "      <td>F1C668619DFE6E65</td>\n",
       "      <td>2020-12-07</td>\n",
       "      <td>N.America</td>\n",
       "      <td>Android</td>\n",
       "      <td>2020-12-07 16:38:09</td>\n",
       "      <td>product_page</td>\n",
       "      <td>NaN</td>\n",
       "      <td>NaN</td>\n",
       "      <td>NaN</td>\n",
       "    </tr>\n",
       "    <tr>\n",
       "      <th>3</th>\n",
       "      <td>F1C668619DFE6E65</td>\n",
       "      <td>2020-12-07</td>\n",
       "      <td>N.America</td>\n",
       "      <td>Android</td>\n",
       "      <td>2020-12-08 02:02:34</td>\n",
       "      <td>product_page</td>\n",
       "      <td>NaN</td>\n",
       "      <td>NaN</td>\n",
       "      <td>NaN</td>\n",
       "    </tr>\n",
       "    <tr>\n",
       "      <th>4</th>\n",
       "      <td>F1C668619DFE6E65</td>\n",
       "      <td>2020-12-07</td>\n",
       "      <td>N.America</td>\n",
       "      <td>Android</td>\n",
       "      <td>2020-12-23 14:35:41</td>\n",
       "      <td>product_page</td>\n",
       "      <td>NaN</td>\n",
       "      <td>NaN</td>\n",
       "      <td>NaN</td>\n",
       "    </tr>\n",
       "  </tbody>\n",
       "</table>\n",
       "</div>"
      ],
      "text/plain": [
       "            user_id first_date     region   device            event_dt  \\\n",
       "0  D72A72121175D8BE 2020-12-07         EU       PC 2020-12-07 21:52:10   \n",
       "1  D72A72121175D8BE 2020-12-07         EU       PC 2020-12-07 21:52:07   \n",
       "2  F1C668619DFE6E65 2020-12-07  N.America  Android 2020-12-07 16:38:09   \n",
       "3  F1C668619DFE6E65 2020-12-07  N.America  Android 2020-12-08 02:02:34   \n",
       "4  F1C668619DFE6E65 2020-12-07  N.America  Android 2020-12-23 14:35:41   \n",
       "\n",
       "     event_name  details group                  ab_test  \n",
       "0  product_page      NaN     A  recommender_system_test  \n",
       "1         login      NaN     A  recommender_system_test  \n",
       "2  product_page      NaN   NaN                      NaN  \n",
       "3  product_page      NaN   NaN                      NaN  \n",
       "4  product_page      NaN   NaN                      NaN  "
      ]
     },
     "execution_count": 15,
     "metadata": {},
     "output_type": "execute_result"
    }
   ],
   "source": [
    "df = dfnu.merge(dfe, how='outer', on='user_id')\n",
    "data = df.merge(dfp, how='outer', on='user_id')\n",
    "data.head()"
   ]
  },
  {
   "cell_type": "markdown",
   "id": "ca316598",
   "metadata": {},
   "source": [
    "**Название теста: `recommender_system_test`**"
   ]
  },
  {
   "cell_type": "code",
   "execution_count": 16,
   "id": "445fbeed",
   "metadata": {},
   "outputs": [
    {
     "name": "stdout",
     "output_type": "stream",
     "text": [
      "<class 'pandas.core.frame.DataFrame'>\n",
      "Int64Index: 27724 entries, 0 to 449831\n",
      "Data columns (total 9 columns):\n",
      " #   Column      Non-Null Count  Dtype         \n",
      "---  ------      --------------  -----         \n",
      " 0   user_id     27724 non-null  object        \n",
      " 1   first_date  27724 non-null  datetime64[ns]\n",
      " 2   region      27724 non-null  object        \n",
      " 3   device      27724 non-null  object        \n",
      " 4   event_dt    24698 non-null  datetime64[ns]\n",
      " 5   event_name  24698 non-null  object        \n",
      " 6   details     3331 non-null   float64       \n",
      " 7   group       27724 non-null  object        \n",
      " 8   ab_test     27724 non-null  object        \n",
      "dtypes: datetime64[ns](2), float64(1), object(6)\n",
      "memory usage: 2.1+ MB\n"
     ]
    }
   ],
   "source": [
    "ab_test = data.query('ab_test == \"recommender_system_test\"')\n",
    "ab_test.info()"
   ]
  },
  {
   "cell_type": "markdown",
   "id": "2f2164c1",
   "metadata": {},
   "source": [
    "**группы: А — контрольная, B — новая платёжная воронка**"
   ]
  },
  {
   "cell_type": "code",
   "execution_count": 17,
   "id": "7ea356db",
   "metadata": {},
   "outputs": [
    {
     "data": {
      "text/html": [
       "<div>\n",
       "<style scoped>\n",
       "    .dataframe tbody tr th:only-of-type {\n",
       "        vertical-align: middle;\n",
       "    }\n",
       "\n",
       "    .dataframe tbody tr th {\n",
       "        vertical-align: top;\n",
       "    }\n",
       "\n",
       "    .dataframe thead th {\n",
       "        text-align: right;\n",
       "    }\n",
       "</style>\n",
       "<table border=\"1\" class=\"dataframe\">\n",
       "  <thead>\n",
       "    <tr style=\"text-align: right;\">\n",
       "      <th></th>\n",
       "      <th></th>\n",
       "      <th>user_id</th>\n",
       "    </tr>\n",
       "    <tr>\n",
       "      <th>group</th>\n",
       "      <th>ab_test</th>\n",
       "      <th></th>\n",
       "    </tr>\n",
       "  </thead>\n",
       "  <tbody>\n",
       "    <tr>\n",
       "      <th>A</th>\n",
       "      <th>recommender_system_test</th>\n",
       "      <td>3824</td>\n",
       "    </tr>\n",
       "    <tr>\n",
       "      <th>B</th>\n",
       "      <th>recommender_system_test</th>\n",
       "      <td>2877</td>\n",
       "    </tr>\n",
       "  </tbody>\n",
       "</table>\n",
       "</div>"
      ],
      "text/plain": [
       "                               user_id\n",
       "group ab_test                         \n",
       "A     recommender_system_test     3824\n",
       "B     recommender_system_test     2877"
      ]
     },
     "execution_count": 17,
     "metadata": {},
     "output_type": "execute_result"
    }
   ],
   "source": [
    "# проверка равномерности распределения пользователей на группы A и B после объединения таблиц\n",
    "ab_test.groupby(['group', 'ab_test']).agg({'user_id': 'nunique'}).query('ab_test == \"recommender_system_test\"')"
   ]
  },
  {
   "cell_type": "markdown",
   "id": "374ecb85",
   "metadata": {},
   "source": [
    "По количеству участников группы сформированы не равномерно. Неравномерное формирование в группах может привести к  погрешности в результатах теста."
   ]
  },
  {
   "cell_type": "markdown",
   "id": "537fa35e",
   "metadata": {},
   "source": [
    "**Дата запуска: 2020-12-07**"
   ]
  },
  {
   "cell_type": "code",
   "execution_count": 18,
   "id": "c76e9d95",
   "metadata": {},
   "outputs": [
    {
     "data": {
      "text/plain": [
       "2020-12-14    3680\n",
       "2020-12-21    3404\n",
       "2020-12-07    2790\n",
       "2020-12-20    2263\n",
       "2020-12-18    2080\n",
       "2020-12-16    1980\n",
       "2020-12-19    1959\n",
       "2020-12-15    1911\n",
       "2020-12-17    1864\n",
       "2020-12-09    1199\n",
       "2020-12-08    1168\n",
       "2020-12-12     986\n",
       "2020-12-13     826\n",
       "2020-12-11     811\n",
       "2020-12-10     803\n",
       "Name: first_date, dtype: int64"
      ]
     },
     "execution_count": 18,
     "metadata": {},
     "output_type": "execute_result"
    }
   ],
   "source": [
    "#дата запуска: 2020-12-07;\n",
    "ab_test['first_date'].value_counts()"
   ]
  },
  {
   "cell_type": "markdown",
   "id": "e84ea1c7",
   "metadata": {},
   "source": [
    "Не все пользователи теста зарегистрировались 2020-12-07, некоторые позже."
   ]
  },
  {
   "cell_type": "markdown",
   "id": "cd5cfabf",
   "metadata": {},
   "source": [
    "**Дата остановки набора новых пользователей: 2020-12-21**"
   ]
  },
  {
   "cell_type": "code",
   "execution_count": 19,
   "id": "f517fb9b",
   "metadata": {},
   "outputs": [
    {
     "data": {
      "text/plain": [
       "Timestamp('2020-12-21 00:00:00')"
      ]
     },
     "execution_count": 19,
     "metadata": {},
     "output_type": "execute_result"
    }
   ],
   "source": [
    "ab_test['first_date'].max()"
   ]
  },
  {
   "cell_type": "markdown",
   "id": "9332c97c",
   "metadata": {},
   "source": [
    "Дата остановки набора новых пользователей соответствует ТЗ."
   ]
  },
  {
   "cell_type": "markdown",
   "id": "0ec48047",
   "metadata": {},
   "source": [
    "**Дата остановки: 2021-01-04**"
   ]
  },
  {
   "cell_type": "code",
   "execution_count": 20,
   "id": "3559b2e3",
   "metadata": {},
   "outputs": [
    {
     "data": {
      "text/plain": [
       "Timestamp('2020-12-30 12:42:57')"
      ]
     },
     "execution_count": 20,
     "metadata": {},
     "output_type": "execute_result"
    }
   ],
   "source": [
    "ab_test['event_dt'].max()"
   ]
  },
  {
   "cell_type": "markdown",
   "id": "3c1c4b45",
   "metadata": {},
   "source": [
    "Завершение самого позднего события не совподает (от 4 января, 2021). Из этого следует, что тест выполнен не до конца по какой-либо причине, либо происходила длительная задержка между совершением событий пользователем и занесением информации о его активности в таблицу"
   ]
  },
  {
   "cell_type": "markdown",
   "id": "f08755d0",
   "metadata": {},
   "source": [
    "**Аудитория: 15% новых пользователей из региона EU**"
   ]
  },
  {
   "cell_type": "code",
   "execution_count": 21,
   "id": "c28bb069",
   "metadata": {},
   "outputs": [
    {
     "data": {
      "text/plain": [
       "0   13.70\n",
       "Name: user_id, dtype: float64"
      ]
     },
     "execution_count": 21,
     "metadata": {},
     "output_type": "execute_result"
    }
   ],
   "source": [
    "# число пользователей из EU\n",
    "df_eu = ab_test.groupby('region').agg({'user_id': 'nunique'}).query('region == \"EU\"').reset_index()\n",
    "df_eu_new =  dfnu.groupby('region').agg({'user_id': 'nunique'}).query('region == \"EU\"').reset_index()\n",
    "\n",
    "# расчет доли пользователей из EU\n",
    "per = (df_eu['user_id']/ df_eu_new['user_id'] * 100).round(1)\n",
    "\n",
    "per"
   ]
  },
  {
   "cell_type": "markdown",
   "id": "45835615",
   "metadata": {},
   "source": [
    "Аудитория составляет 13,7 %, что не соответсвует ТЗ"
   ]
  },
  {
   "cell_type": "markdown",
   "id": "7d2172de",
   "metadata": {},
   "source": [
    "**Ожидаемое количество участников теста: 6000**"
   ]
  },
  {
   "cell_type": "code",
   "execution_count": 22,
   "id": "4230046b",
   "metadata": {},
   "outputs": [
    {
     "data": {
      "text/plain": [
       "6701"
      ]
     },
     "execution_count": 22,
     "metadata": {},
     "output_type": "execute_result"
    }
   ],
   "source": [
    "ab_test['user_id'].nunique()"
   ]
  },
  {
   "cell_type": "markdown",
   "id": "a0e1bb0d",
   "metadata": {},
   "source": [
    "Ожидаемое количество участников теста превышает 6000, что соответствует ТЗ."
   ]
  },
  {
   "cell_type": "markdown",
   "id": "6c6bc4fe",
   "metadata": {},
   "source": [
    "**Ожидаемый эффект: за 14 дней с момента регистрации пользователи покажут улучшение каждой метрики не менее, чем на 10%:**\n",
    "- конверсии в просмотр карточек товаров — событие `product_page`,\n",
    "- просмотры корзины — `product_cart`,\n",
    "- покупки — `purchase`."
   ]
  },
  {
   "cell_type": "code",
   "execution_count": 23,
   "id": "3ac3bb94",
   "metadata": {},
   "outputs": [
    {
     "name": "stdout",
     "output_type": "stream",
     "text": [
      "2020-12-21 00:00:00 2021-01-04 00:00:00\n"
     ]
    }
   ],
   "source": [
    "#добавляем к таблице колонку last_test_date, она определяем горизонт для ресчета эффекта по каждому пользователю\n",
    "ab_test['last_test_date'] = (ab_test['first_date'] + timedelta(days=14))\n",
    "print(ab_test['last_test_date'].min(), ab_test['last_test_date'].max())"
   ]
  },
  {
   "cell_type": "code",
   "execution_count": 24,
   "id": "6956484d",
   "metadata": {
    "scrolled": false
   },
   "outputs": [
    {
     "data": {
      "text/html": [
       "<div>\n",
       "<style scoped>\n",
       "    .dataframe tbody tr th:only-of-type {\n",
       "        vertical-align: middle;\n",
       "    }\n",
       "\n",
       "    .dataframe tbody tr th {\n",
       "        vertical-align: top;\n",
       "    }\n",
       "\n",
       "    .dataframe thead th {\n",
       "        text-align: right;\n",
       "    }\n",
       "</style>\n",
       "<table border=\"1\" class=\"dataframe\">\n",
       "  <thead>\n",
       "    <tr style=\"text-align: right;\">\n",
       "      <th></th>\n",
       "      <th>user_id</th>\n",
       "      <th>first_date</th>\n",
       "      <th>region</th>\n",
       "      <th>device</th>\n",
       "      <th>event_dt</th>\n",
       "      <th>event_name</th>\n",
       "      <th>details</th>\n",
       "      <th>group</th>\n",
       "      <th>ab_test</th>\n",
       "      <th>last_test_date</th>\n",
       "      <th>last_reg_date</th>\n",
       "    </tr>\n",
       "  </thead>\n",
       "  <tbody>\n",
       "    <tr>\n",
       "      <th>0</th>\n",
       "      <td>D72A72121175D8BE</td>\n",
       "      <td>2020-12-07</td>\n",
       "      <td>EU</td>\n",
       "      <td>PC</td>\n",
       "      <td>2020-12-07 21:52:10</td>\n",
       "      <td>product_page</td>\n",
       "      <td>NaN</td>\n",
       "      <td>A</td>\n",
       "      <td>recommender_system_test</td>\n",
       "      <td>2020-12-21</td>\n",
       "      <td>2020-12-17 12:42:57</td>\n",
       "    </tr>\n",
       "    <tr>\n",
       "      <th>1</th>\n",
       "      <td>D72A72121175D8BE</td>\n",
       "      <td>2020-12-07</td>\n",
       "      <td>EU</td>\n",
       "      <td>PC</td>\n",
       "      <td>2020-12-07 21:52:07</td>\n",
       "      <td>login</td>\n",
       "      <td>NaN</td>\n",
       "      <td>A</td>\n",
       "      <td>recommender_system_test</td>\n",
       "      <td>2020-12-21</td>\n",
       "      <td>2020-12-17 12:42:57</td>\n",
       "    </tr>\n",
       "  </tbody>\n",
       "</table>\n",
       "</div>"
      ],
      "text/plain": [
       "            user_id first_date region device            event_dt  \\\n",
       "0  D72A72121175D8BE 2020-12-07     EU     PC 2020-12-07 21:52:10   \n",
       "1  D72A72121175D8BE 2020-12-07     EU     PC 2020-12-07 21:52:07   \n",
       "\n",
       "     event_name  details group                  ab_test last_test_date  \\\n",
       "0  product_page      NaN     A  recommender_system_test     2020-12-21   \n",
       "1         login      NaN     A  recommender_system_test     2020-12-21   \n",
       "\n",
       "        last_reg_date  \n",
       "0 2020-12-17 12:42:57  \n",
       "1 2020-12-17 12:42:57  "
      ]
     },
     "execution_count": 24,
     "metadata": {},
     "output_type": "execute_result"
    }
   ],
   "source": [
    "#У нас отсутствуют данные о событиях после 2020-12-30 поэтому определяем дату последней регистрации, \n",
    "# которая будет приемлема для расчета эффективности\n",
    "ab_test['last_reg_date'] = (ab_test['event_dt'].max() - timedelta(days=13))\n",
    "ab_test.head(2)"
   ]
  },
  {
   "cell_type": "code",
   "execution_count": 25,
   "id": "a7092344",
   "metadata": {},
   "outputs": [
    {
     "name": "stdout",
     "output_type": "stream",
     "text": [
      "Диапазон дат событий:\n",
      " 2020-12-07 00:05:57 2020-12-29 23:01:19\n"
     ]
    }
   ],
   "source": [
    "#делаем выборку по пользователям и событиям, подходящим под критерий расчета эффективности за 14 дней\n",
    "\n",
    "test_data = ab_test[(ab_test['first_date'] <= ab_test['last_reg_date']) & (ab_test['event_dt'] <= ab_test['last_test_date'])]\n",
    "\n",
    "print('Диапазон дат событий:\\n', test_data['event_dt'].min(), test_data['event_dt'].max())"
   ]
  },
  {
   "cell_type": "markdown",
   "id": "f9be0fc1",
   "metadata": {},
   "source": [
    "Сейчас у нас есть пользователи, которые были активны в течении 14 дней. Разобьем пользователей на группы А и В, посчитаем их в каждой группе по колонке `event_name` "
   ]
  },
  {
   "cell_type": "code",
   "execution_count": 26,
   "id": "447cbfb5",
   "metadata": {},
   "outputs": [
    {
     "data": {
      "text/html": [
       "<div>\n",
       "<style scoped>\n",
       "    .dataframe tbody tr th:only-of-type {\n",
       "        vertical-align: middle;\n",
       "    }\n",
       "\n",
       "    .dataframe tbody tr th {\n",
       "        vertical-align: top;\n",
       "    }\n",
       "\n",
       "    .dataframe thead th {\n",
       "        text-align: right;\n",
       "    }\n",
       "</style>\n",
       "<table border=\"1\" class=\"dataframe\">\n",
       "  <thead>\n",
       "    <tr style=\"text-align: right;\">\n",
       "      <th>event_name</th>\n",
       "      <th>login</th>\n",
       "      <th>product_cart</th>\n",
       "      <th>product_page</th>\n",
       "      <th>purchase</th>\n",
       "    </tr>\n",
       "    <tr>\n",
       "      <th>group</th>\n",
       "      <th></th>\n",
       "      <th></th>\n",
       "      <th></th>\n",
       "      <th></th>\n",
       "    </tr>\n",
       "  </thead>\n",
       "  <tbody>\n",
       "    <tr>\n",
       "      <th>A</th>\n",
       "      <td>1597</td>\n",
       "      <td>479</td>\n",
       "      <td>1018</td>\n",
       "      <td>487</td>\n",
       "    </tr>\n",
       "    <tr>\n",
       "      <th>B</th>\n",
       "      <td>674</td>\n",
       "      <td>195</td>\n",
       "      <td>386</td>\n",
       "      <td>189</td>\n",
       "    </tr>\n",
       "  </tbody>\n",
       "</table>\n",
       "</div>"
      ],
      "text/plain": [
       "event_name  login  product_cart  product_page  purchase\n",
       "group                                                  \n",
       "A            1597           479          1018       487\n",
       "B             674           195           386       189"
      ]
     },
     "execution_count": 26,
     "metadata": {},
     "output_type": "execute_result"
    }
   ],
   "source": [
    "test_data = test_data.pivot_table(index='group', columns='event_name', values = 'user_id', aggfunc = 'nunique')\n",
    "test_data"
   ]
  },
  {
   "cell_type": "code",
   "execution_count": 27,
   "id": "15d16994",
   "metadata": {},
   "outputs": [
    {
     "data": {
      "text/html": [
       "<div>\n",
       "<style scoped>\n",
       "    .dataframe tbody tr th:only-of-type {\n",
       "        vertical-align: middle;\n",
       "    }\n",
       "\n",
       "    .dataframe tbody tr th {\n",
       "        vertical-align: top;\n",
       "    }\n",
       "\n",
       "    .dataframe thead th {\n",
       "        text-align: right;\n",
       "    }\n",
       "</style>\n",
       "<table border=\"1\" class=\"dataframe\">\n",
       "  <thead>\n",
       "    <tr style=\"text-align: right;\">\n",
       "      <th>group</th>\n",
       "      <th>A</th>\n",
       "      <th>B</th>\n",
       "    </tr>\n",
       "  </thead>\n",
       "  <tbody>\n",
       "    <tr>\n",
       "      <th>product_cart</th>\n",
       "      <td>0.30</td>\n",
       "      <td>0.29</td>\n",
       "    </tr>\n",
       "    <tr>\n",
       "      <th>product_page</th>\n",
       "      <td>0.64</td>\n",
       "      <td>0.57</td>\n",
       "    </tr>\n",
       "    <tr>\n",
       "      <th>purchase</th>\n",
       "      <td>0.30</td>\n",
       "      <td>0.28</td>\n",
       "    </tr>\n",
       "  </tbody>\n",
       "</table>\n",
       "</div>"
      ],
      "text/plain": [
       "group           A    B\n",
       "product_cart 0.30 0.29\n",
       "product_page 0.64 0.57\n",
       "purchase     0.30 0.28"
      ]
     },
     "execution_count": 27,
     "metadata": {},
     "output_type": "execute_result"
    }
   ],
   "source": [
    "# создадим df  расчетом конверсии в целевые действия\n",
    "test_df = pd.DataFrame() \n",
    "test_df['product_cart'] = test_data['product_cart'] / test_data['login']\n",
    "test_df['product_page'] = test_data['product_page'] / test_data['login']\n",
    "test_df['purchase'] = test_data['purchase'] / test_data['login']\n",
    "\n",
    "test_df.T"
   ]
  },
  {
   "cell_type": "code",
   "execution_count": 28,
   "id": "f043d743",
   "metadata": {},
   "outputs": [
    {
     "data": {
      "image/png": "[encoded data removed]",
      "text/plain": [
       "<Figure size 700x500 with 1 Axes>"
      ]
     },
     "metadata": {},
     "output_type": "display_data"
    }
   ],
   "source": [
    "# строим столбчатую диаграмму для визуализации конверсии по целевым метрикам\n",
    "test_df.T.plot(kind='bar', grid=True, title = ('Конверсия за 14 дней с момента регистрации пользователей'), figsize = (7, 5)\\\n",
    "     , xlabel = ('целевое действие'), ylabel = 'конверсия')\n",
    "plt.xticks(rotation = 45)\n",
    "plt.show()"
   ]
  },
  {
   "cell_type": "markdown",
   "id": "6a7e1529",
   "metadata": {},
   "source": [
    "Итог от ожидаемог эффекта за 14 дней:\n",
    "- эффект, ожидавшийся от эксперимента, не достигнут\n",
    "- по факту тестовая группа показала ухудшение конверсии относительно контрольной"
   ]
  },
  {
   "cell_type": "markdown",
   "id": "c6fbe30c",
   "metadata": {},
   "source": [
    "**Время проведения теста. Убедитесь, что оно не совпадает с маркетинговыми и другими активностями.**"
   ]
  },
  {
   "cell_type": "code",
   "execution_count": 29,
   "id": "e28a0f8e",
   "metadata": {},
   "outputs": [
    {
     "data": {
      "text/html": [
       "<div>\n",
       "<style scoped>\n",
       "    .dataframe tbody tr th:only-of-type {\n",
       "        vertical-align: middle;\n",
       "    }\n",
       "\n",
       "    .dataframe tbody tr th {\n",
       "        vertical-align: top;\n",
       "    }\n",
       "\n",
       "    .dataframe thead th {\n",
       "        text-align: right;\n",
       "    }\n",
       "</style>\n",
       "<table border=\"1\" class=\"dataframe\">\n",
       "  <thead>\n",
       "    <tr style=\"text-align: right;\">\n",
       "      <th></th>\n",
       "      <th>name</th>\n",
       "      <th>regions</th>\n",
       "      <th>start_dt</th>\n",
       "      <th>finish_dt</th>\n",
       "    </tr>\n",
       "  </thead>\n",
       "  <tbody>\n",
       "    <tr>\n",
       "      <th>0</th>\n",
       "      <td>Christmas&amp;New Year Promo</td>\n",
       "      <td>EU, N.America</td>\n",
       "      <td>2020-12-25</td>\n",
       "      <td>2021-01-03</td>\n",
       "    </tr>\n",
       "    <tr>\n",
       "      <th>10</th>\n",
       "      <td>CIS New Year Gift Lottery</td>\n",
       "      <td>CIS</td>\n",
       "      <td>2020-12-30</td>\n",
       "      <td>2021-01-07</td>\n",
       "    </tr>\n",
       "  </tbody>\n",
       "</table>\n",
       "</div>"
      ],
      "text/plain": [
       "                         name        regions   start_dt  finish_dt\n",
       "0    Christmas&New Year Promo  EU, N.America 2020-12-25 2021-01-03\n",
       "10  CIS New Year Gift Lottery            CIS 2020-12-30 2021-01-07"
      ]
     },
     "execution_count": 29,
     "metadata": {},
     "output_type": "execute_result"
    }
   ],
   "source": [
    "dfme_focus = dfme[dfme['finish_dt'] > '2020-12-07']\n",
    "dfme_focus"
   ]
  },
  {
   "cell_type": "markdown",
   "id": "d4da9846",
   "metadata": {},
   "source": [
    "По датам и по региону проведения тест совпадает с новогодними акциями-  может исказить результаты теста"
   ]
  },
  {
   "cell_type": "markdown",
   "id": "a5fe4b23",
   "metadata": {},
   "source": [
    "**Аудиторию теста. Удостоверьтесь, что нет пересечений с конкурирующим тестом и нет пользователей, участвующих в двух группах  теста одновременно.Проверьте равномерность распределения по тестовым группам и правильность их формирования**"
   ]
  },
  {
   "cell_type": "markdown",
   "id": "61c059b2",
   "metadata": {},
   "source": [
    "Определим, чтобы каждый пользователь состоял только в одной группе в одном тесте:"
   ]
  },
  {
   "cell_type": "code",
   "execution_count": 30,
   "id": "dc040701",
   "metadata": {},
   "outputs": [
    {
     "name": "stdout",
     "output_type": "stream",
     "text": [
      "Количество пользователей, участвующих в двух группах теста одновременно: 0\n"
     ]
    }
   ],
   "source": [
    "# сгруппируем пользователей по количеству уникальных для них групп:\n",
    "multi_visitors = data.groupby(['user_id', 'ab_test'])['group'].nunique().reset_index()\n",
    "\n",
    "#оставим пользователей только с количеством групп больше одной:\n",
    "multi_visitors = multi_visitors[multi_visitors['group']>1]\n",
    "\n",
    "print('Количество пользователей, участвующих в двух группах теста одновременно:', multi_visitors.shape[0])"
   ]
  },
  {
   "cell_type": "markdown",
   "id": "eb00c481",
   "metadata": {},
   "source": [
    "Определим, что нет пересечений с конкурирующим тестом"
   ]
  },
  {
   "cell_type": "code",
   "execution_count": 31,
   "id": "a35a0db5",
   "metadata": {},
   "outputs": [
    {
     "name": "stdout",
     "output_type": "stream",
     "text": [
      "Количество пользователей, которые участвовали в двух группах в разных тестах: 776\n",
      "Процент пользователей, которые участвовали в двух группах в разных тестах: 11.58\n"
     ]
    }
   ],
   "source": [
    "# ответ на комментарий ревьювера\n",
    "multi_group = data.groupby(['user_id'])['group'].nunique().reset_index()\n",
    "multi_group = multi_group[multi_group['group']>1]\n",
    "multi_users = multi_group['user_id'].unique()\n",
    "\n",
    "print('Количество пользователей, которые участвовали в двух группах в разных тестах:', multi_users.shape[0])\n",
    "print('Процент пользователей, которые участвовали в двух группах в разных тестах:', round(((multi_users.shape[0]*100)/ab_test['user_id'].nunique()),2))"
   ]
  },
  {
   "cell_type": "markdown",
   "id": "b706f2e1",
   "metadata": {},
   "source": [
    "Проверь пересечение по тестам. Может ли пересечение с другим тестом повлиять на результаты?"
   ]
  },
  {
   "cell_type": "code",
   "execution_count": 32,
   "id": "c5782bd1",
   "metadata": {},
   "outputs": [
    {
     "name": "stdout",
     "output_type": "stream",
     "text": [
      "Пользователи, попавшие в оба теста:ab_test    1602\n",
      "dtype: int64\n",
      "Количество уникальных пользователей: 61733\n",
      "Пользователи попавшие в оба теста: ab_test   2.60\n",
      "dtype: float64\n"
     ]
    }
   ],
   "source": [
    "# подсчет пользователей, попавших в оба теста\n",
    "tests = data.groupby('user_id').agg({'ab_test': 'nunique'}).query('ab_test == 2').count()\n",
    "print(f'Пользователи, попавшие в оба теста:{tests}')\n",
    "\n",
    "# подсчет уникальных пользователей\n",
    "uni = len(data['user_id'].unique())\n",
    "print(f'Количество уникальных пользователей: {uni}')\n",
    "\n",
    "# процент пользователей, попавших в оба теста\n",
    "print(f'Пользователи попавшие в оба теста: {(tests / uni) * 100}')"
   ]
  },
  {
   "cell_type": "code",
   "execution_count": 33,
   "id": "a904ee3c",
   "metadata": {},
   "outputs": [
    {
     "name": "stdout",
     "output_type": "stream",
     "text": [
      "Распределение пользователей по тестовым группам:\n",
      "                    ab_test group  user_id\n",
      "0        interface_eu_test     A     5831\n",
      "1        interface_eu_test     B     5736\n",
      "2  recommender_system_test     A     3824\n",
      "3  recommender_system_test     B     2877\n"
     ]
    }
   ],
   "source": [
    "#равномерность распределения по тестовым группам и правильность их формирования.\n",
    "ab = data.groupby(['ab_test','group'], as_index=False)['user_id'].nunique()\n",
    "\n",
    "print('Распределение пользователей по тестовым группам:\\n', ab)"
   ]
  },
  {
   "cell_type": "markdown",
   "id": "620d5909",
   "metadata": {},
   "source": [
    "В группе В в двух группах значения меньше "
   ]
  },
  {
   "cell_type": "markdown",
   "id": "411a8daf",
   "metadata": {},
   "source": [
    "- По количеству участников группы сформированы не равномерно. Неравномерное формирование в группах может привести к  погрешности в результатах теста.\n",
    "- Не все пользователи теста зарегистрировались 2020-12-07, некоторые позже.\n",
    "- Дата остановки набора новых пользователей соответствует ТЗ.\n",
    "- Дата остановки не соответствует ТЗ\n",
    "- Аудитория составляет 13,7 %, что не соответсвует ТЗ\n",
    "- Ожидаемое количество участников теста превышает 6000, что соответствует ТЗ.\n",
    "- Итог от ожидаемог эффекта за 14 дней:\n",
    "  - эффект, ожидавшийся от эксперимента, не достигнут\n",
    "  - по факту тестовая группа показала ухудшение конверсии относительно контрольной\n",
    "- По датам и по региону проведения тест совпадает с новогодними акциями-  может исказить результаты теста\n",
    "\n",
    "Это хорошо, что каждый пользователь состоял только в одной группе в одном тесте. Проверим равномерность распределения по тестовым группам и правильность их формирования"
   ]
  },
  {
   "cell_type": "markdown",
   "id": "80277704",
   "metadata": {},
   "source": [
    "**Вывод:**\n",
    "\n",
    "Данные, которые не соответствуют ТЗ:\n",
    "- Неравномерное формирование в группах может привести к погрешности в результатах теста;\n",
    "- Не все пользователи теста зарегистрировались 2020-12-07;\n",
    "- Дата остановки теста не соответствует;\n",
    "- Аудитория составляет 13,7 %, что не соответствует ТЗ;\n",
    "- эффект, ожидавшийся от эксперимента, не достигнут. По факту тестовая группа показала ухудшение конверсии относительно контрольной группы;\n",
    "- Данные попадают так же в дни новогодних акции. Это может исказить результат.\n",
    "\n",
    "Данные, которые соответствуют ТЗ:\n",
    "- Дата остановки набора новых пользователей соответствует ТЗ;\n",
    "- Ожидаемое количество участников теста превышает 6000;\n",
    "- Каждый пользователь состоял только в одной группе в одном тесте. \n",
    "\n",
    "\n"
   ]
  },
  {
   "cell_type": "markdown",
   "id": "ed401fa8",
   "metadata": {},
   "source": [
    "# Исследовательский анализ данных"
   ]
  },
  {
   "cell_type": "markdown",
   "id": "b2e37f83",
   "metadata": {},
   "source": [
    "**Распределение количества событий на одного пользователя**"
   ]
  },
  {
   "cell_type": "markdown",
   "id": "c003b117",
   "metadata": {},
   "source": [
    "Определим сколько в среднем событий приходится на пользователя:"
   ]
  },
  {
   "cell_type": "code",
   "execution_count": 34,
   "id": "00b4d5f8",
   "metadata": {
    "scrolled": true
   },
   "outputs": [
    {
     "name": "stdout",
     "output_type": "stream",
     "text": [
      "Среднее количество событий, которые приходятся на одного пользователя: 3.69\n"
     ]
    },
    {
     "data": {
      "text/html": [
       "<div>\n",
       "<style scoped>\n",
       "    .dataframe tbody tr th:only-of-type {\n",
       "        vertical-align: middle;\n",
       "    }\n",
       "\n",
       "    .dataframe tbody tr th {\n",
       "        vertical-align: top;\n",
       "    }\n",
       "\n",
       "    .dataframe thead th {\n",
       "        text-align: right;\n",
       "    }\n",
       "</style>\n",
       "<table border=\"1\" class=\"dataframe\">\n",
       "  <thead>\n",
       "    <tr style=\"text-align: right;\">\n",
       "      <th></th>\n",
       "      <th>user_id</th>\n",
       "      <th>group</th>\n",
       "      <th>event_name</th>\n",
       "    </tr>\n",
       "  </thead>\n",
       "  <tbody>\n",
       "    <tr>\n",
       "      <th>0</th>\n",
       "      <td>000ABE35EE11412F</td>\n",
       "      <td>A</td>\n",
       "      <td>0</td>\n",
       "    </tr>\n",
       "    <tr>\n",
       "      <th>1</th>\n",
       "      <td>001064FEAAB631A1</td>\n",
       "      <td>B</td>\n",
       "      <td>6</td>\n",
       "    </tr>\n",
       "    <tr>\n",
       "      <th>2</th>\n",
       "      <td>0010A1C096941592</td>\n",
       "      <td>A</td>\n",
       "      <td>12</td>\n",
       "    </tr>\n",
       "    <tr>\n",
       "      <th>3</th>\n",
       "      <td>001C05E87D336C59</td>\n",
       "      <td>A</td>\n",
       "      <td>0</td>\n",
       "    </tr>\n",
       "    <tr>\n",
       "      <th>4</th>\n",
       "      <td>00341D8401F0F665</td>\n",
       "      <td>A</td>\n",
       "      <td>2</td>\n",
       "    </tr>\n",
       "  </tbody>\n",
       "</table>\n",
       "</div>"
      ],
      "text/plain": [
       "            user_id group  event_name\n",
       "0  000ABE35EE11412F     A           0\n",
       "1  001064FEAAB631A1     B           6\n",
       "2  0010A1C096941592     A          12\n",
       "3  001C05E87D336C59     A           0\n",
       "4  00341D8401F0F665     A           2"
      ]
     },
     "execution_count": 34,
     "metadata": {},
     "output_type": "execute_result"
    }
   ],
   "source": [
    "df_event = ab_test.groupby(['user_id', 'group'])['event_name'].count()\n",
    "df_event = df_event.reset_index()\n",
    "df_event_mean = round(df_event['event_name'].mean(),2)\n",
    "\n",
    "print('Среднее количество событий, которые приходятся на одного пользователя:', df_event_mean)\n",
    "df_event.head()"
   ]
  },
  {
   "cell_type": "markdown",
   "id": "0fc2bf52",
   "metadata": {},
   "source": [
    "Из данных видно, что есть пользователи, которые совершали и 12 событий и 6 и 0. Следует что количество событий на одного человека не равномерно. Так же отметим что есть 0, значит не все пользователи совершали действия "
   ]
  },
  {
   "cell_type": "code",
   "execution_count": 35,
   "id": "fc52ea98",
   "metadata": {},
   "outputs": [
    {
     "data": {
      "text/html": [
       "<div>\n",
       "<style scoped>\n",
       "    .dataframe tbody tr th:only-of-type {\n",
       "        vertical-align: middle;\n",
       "    }\n",
       "\n",
       "    .dataframe tbody tr th {\n",
       "        vertical-align: top;\n",
       "    }\n",
       "\n",
       "    .dataframe thead th {\n",
       "        text-align: right;\n",
       "    }\n",
       "</style>\n",
       "<table border=\"1\" class=\"dataframe\">\n",
       "  <thead>\n",
       "    <tr style=\"text-align: right;\">\n",
       "      <th></th>\n",
       "      <th>group</th>\n",
       "      <th>event_name</th>\n",
       "      <th>user_id</th>\n",
       "    </tr>\n",
       "  </thead>\n",
       "  <tbody>\n",
       "    <tr>\n",
       "      <th>0</th>\n",
       "      <td>A</td>\n",
       "      <td>login</td>\n",
       "      <td>2747</td>\n",
       "    </tr>\n",
       "    <tr>\n",
       "      <th>1</th>\n",
       "      <td>A</td>\n",
       "      <td>product_page</td>\n",
       "      <td>1780</td>\n",
       "    </tr>\n",
       "    <tr>\n",
       "      <th>2</th>\n",
       "      <td>B</td>\n",
       "      <td>login</td>\n",
       "      <td>928</td>\n",
       "    </tr>\n",
       "    <tr>\n",
       "      <th>3</th>\n",
       "      <td>A</td>\n",
       "      <td>purchase</td>\n",
       "      <td>872</td>\n",
       "    </tr>\n",
       "    <tr>\n",
       "      <th>4</th>\n",
       "      <td>A</td>\n",
       "      <td>product_cart</td>\n",
       "      <td>824</td>\n",
       "    </tr>\n",
       "    <tr>\n",
       "      <th>5</th>\n",
       "      <td>B</td>\n",
       "      <td>product_page</td>\n",
       "      <td>523</td>\n",
       "    </tr>\n",
       "    <tr>\n",
       "      <th>6</th>\n",
       "      <td>B</td>\n",
       "      <td>purchase</td>\n",
       "      <td>256</td>\n",
       "    </tr>\n",
       "    <tr>\n",
       "      <th>7</th>\n",
       "      <td>B</td>\n",
       "      <td>product_cart</td>\n",
       "      <td>255</td>\n",
       "    </tr>\n",
       "  </tbody>\n",
       "</table>\n",
       "</div>"
      ],
      "text/plain": [
       "  group    event_name  user_id\n",
       "0     A         login     2747\n",
       "1     A  product_page     1780\n",
       "2     B         login      928\n",
       "3     A      purchase      872\n",
       "4     A  product_cart      824\n",
       "5     B  product_page      523\n",
       "6     B      purchase      256\n",
       "7     B  product_cart      255"
      ]
     },
     "execution_count": 35,
     "metadata": {},
     "output_type": "execute_result"
    }
   ],
   "source": [
    "# Посмотрим скоолько пользователей совершили каждое из событий\n",
    "df_group = ab_test.groupby(['group','event_name']).agg({'user_id':'nunique'}).sort_values(\n",
    "    by = 'user_id', ascending = False\n",
    ").reset_index()\n",
    "df_group"
   ]
  },
  {
   "cell_type": "markdown",
   "id": "46e6c825",
   "metadata": {},
   "source": [
    "Рассмотрим подробнее изучить распределение количества событий на пользователя в разрезе групп. Построим гистограмму распределения. Анализ результатов A/B теста всегда стоит проводить в разрезе групп, так как мы сравниваем их между собой."
   ]
  },
  {
   "cell_type": "code",
   "execution_count": null,
   "id": "9f1cf601",
   "metadata": {},
   "outputs": [],
   "source": [
    "# Гистограмма в разрезе групп\n",
    "fig = px.histogram(df_event, x=\"event_name\", color=\"group\")\n",
    "fig.show()"
   ]
  },
  {
   "attachments": {
    "image.png": {
     "image/png": "[encoded data removed]"
    }
   },
   "cell_type": "markdown",
   "id": "d4171d55",
   "metadata": {},
   "source": [
    "![image.png](attachment:image.png)"
   ]
  },
  {
   "cell_type": "markdown",
   "id": "974fa5dd",
   "metadata": {},
   "source": [
    "Среди участников группы B больше, тех кто не совершал действия = 0 (1949 участников.) Притом мы выяснили, что участников в группе В меньше, это очень плохой показатель."
   ]
  },
  {
   "cell_type": "markdown",
   "id": "8400df6a",
   "metadata": {},
   "source": [
    "**Распределение числа событий в выборках по дням**"
   ]
  },
  {
   "cell_type": "markdown",
   "id": "bc2ec047",
   "metadata": {},
   "source": [
    "Определим среднее количество посещений в день:"
   ]
  },
  {
   "cell_type": "code",
   "execution_count": 38,
   "id": "bfcc53f4",
   "metadata": {},
   "outputs": [],
   "source": [
    "# Для дальнейшей работы создадим комию и переведем время в нужный формат \n",
    "days = ab_test.copy()\n",
    "days['event_dt'] = days['event_dt'].dt.strftime('%d %b')"
   ]
  },
  {
   "cell_type": "code",
   "execution_count": 39,
   "id": "6be123a4",
   "metadata": {},
   "outputs": [
    {
     "name": "stdout",
     "output_type": "stream",
     "text": [
      "Среднее количество посещений в день пользователями: 1029\n"
     ]
    }
   ],
   "source": [
    "#Количество посещений по группам\n",
    "event_day = days.groupby(['event_dt','group'])['user_id'].count().to_frame().reset_index()\n",
    "#Среднее количество посещений в день \n",
    "event_day_all = days.groupby(['event_dt'])['user_id'].count().to_frame()\n",
    "print('Среднее количество посещений в день пользователями:', round(event_day_all['user_id'].mean()))"
   ]
  },
  {
   "cell_type": "code",
   "execution_count": 40,
   "id": "a24c8ccb",
   "metadata": {},
   "outputs": [
    {
     "data": {
      "image/png": "[encoded data removed]",
      "text/plain": [
       "<Figure size 1200x600 with 1 Axes>"
      ]
     },
     "metadata": {},
     "output_type": "display_data"
    }
   ],
   "source": [
    "plt.figure(figsize=(12,6))\n",
    "ax = sns.barplot(x='event_dt', y=\"user_id\", data=event_day, hue='group', estimator=np.mean)\n",
    "plt.title('\\nСреднее количество посещений по дням', fontsize=18)\n",
    "plt.xlabel('Дата', fontsize=12)\n",
    "plt.ylabel('Среднее количество пользователей', fontsize=12)\n",
    "plt.xticks(rotation = 45,fontsize = 9)\n",
    "plt.show()"
   ]
  },
  {
   "cell_type": "markdown",
   "id": "f4a55132",
   "metadata": {},
   "source": [
    "В начале теста активность пользователей из группы В была близка к активности к группе А (притом, что выборки не равномерны). Но после 14 декабря резкое увеличение активности группы А, а тенденция группы В чуть усела или даже немного сократилась"
   ]
  },
  {
   "cell_type": "markdown",
   "id": "c6a0dd88",
   "metadata": {},
   "source": [
    "**Изминение конверсии в воронке в выборках на разных этапах**"
   ]
  },
  {
   "cell_type": "markdown",
   "id": "356829ec",
   "metadata": {},
   "source": [
    "Отсортируем события по числу пользователей. Также посчитаем долю пользователей, которые хоть раз совершали событие:"
   ]
  },
  {
   "cell_type": "code",
   "execution_count": 41,
   "id": "7cc33df2",
   "metadata": {},
   "outputs": [
    {
     "name": "stdout",
     "output_type": "stream",
     "text": [
      "     event_name group  count  nunique  ratio\n",
      "0         login     A   8566     2747  71.84\n",
      "4  product_page     A   5525     1780  46.55\n",
      "2  product_cart     A   2558      824  21.55\n",
      "6      purchase     A   2655      872  22.80\n",
      "\n",
      "     event_name group  count  nunique  ratio\n",
      "1         login     B   2624      928  32.26\n",
      "5  product_page     B   1405      523  18.18\n",
      "3  product_cart     B    689      255   8.86\n",
      "7      purchase     B    676      256   8.90\n",
      "\n"
     ]
    }
   ],
   "source": [
    "# Посчитаем количество совершенных событий пользователями и количество уникальных пользователей каждого события по группам:\n",
    "data_event = days.groupby(['event_name', 'group'])[['user_id']].agg({'user_id': ['count', 'nunique']})\n",
    "data_event.columns = data_event.columns.droplevel(0)\n",
    "data_event = data_event.reset_index()\n",
    "\n",
    "# поменяем последовательность индексов для создания правильной хроналогии событий покупки:\n",
    "data_event = data_event.reindex(index=[0,1,4,5,2,3,6,7])\n",
    "\n",
    "# посчитаем долю пользователей, которые хоть раз совершали каждое событие по отдельности \n",
    "# и выведем полученную информацию на экран отдельно по группам:\n",
    "for group in ['A', 'B']: \n",
    "    data_event.loc[data_event['group']==group, 'ratio'] = round(data_event[data_event['group']==group]['nunique']*100 / \n",
    "                                                            days[days['group']==group]['user_id'].nunique(),2)    \n",
    "    data_event_group = data_event[data_event['group']==group]\n",
    "    print(data_event_group)\n",
    "    print( )"
   ]
  },
  {
   "cell_type": "markdown",
   "id": "16130d62",
   "metadata": {},
   "source": [
    "Построим воронку событий со значением конвертации в процентах"
   ]
  },
  {
   "cell_type": "code",
   "execution_count": null,
   "id": "55e0cad9",
   "metadata": {},
   "outputs": [],
   "source": [
    "fig = go.Figure()\n",
    "fig.update_layout(title=\"Воронка событий\")    \n",
    "fig.add_trace(go.Funnel(name = 'A',textinfo = \"text+percent initial\", text = data_event[data_event['group']=='A']['nunique'],\n",
    "                        y = data_event[data_event['group']=='A']['event_name'].tolist(),\n",
    "                        x = data_event[data_event['group']=='A']['ratio'].tolist()))       \n",
    "\n",
    "fig.add_trace(go.Funnel(name = 'B',textinfo = \"text+percent initial\", text = data_event[data_event['group']=='B']['nunique'],\n",
    "                        y = data_event[data_event['group']=='B']['event_name'].tolist(),\n",
    "                        x = data_event[data_event['group']=='B']['ratio'].tolist()))\n",
    "fig.show()"
   ]
  },
  {
   "attachments": {
    "image.png": {
     "image/png": "[encoded data removed]"
    }
   },
   "cell_type": "markdown",
   "id": "c47e690b",
   "metadata": {},
   "source": [
    "![image.png](attachment:image.png)"
   ]
  },
  {
   "cell_type": "markdown",
   "id": "24c3227b",
   "metadata": {},
   "source": [
    "Согласно воронке порядок событий следующий:\n",
    "\n",
    "`login` - регистрация,\n",
    "\n",
    "`product_page` - просмотр карточек товаров,\n",
    "\n",
    "`product_cart` - просмотр корзины товаров,\n",
    "\n",
    "`purchase` - покупка\n",
    "\n",
    "По ТЗ группа В должна быть больше, но по факту это не так. Показатели  группы А выше чем аналогичные показатели у группы В."
   ]
  },
  {
   "cell_type": "markdown",
   "id": "006f0304",
   "metadata": {},
   "source": [
    "Посчитаем , доли пользователей которые проходят на следующий шаг воронки от числа пользователей на предыдущем по каждой группе"
   ]
  },
  {
   "cell_type": "code",
   "execution_count": 43,
   "id": "c850c94f",
   "metadata": {},
   "outputs": [
    {
     "name": "stdout",
     "output_type": "stream",
     "text": [
      "Для группы А:\n",
      "Доля пользователей, которая проходит от первого события  до оплаты от общего числа клиентов 0.0263\n",
      "\n",
      "Для группы В:\n",
      "Доля пользователей, которая проходит от первого события  до оплаты от общего числа клиентов 0.0073\n"
     ]
    }
   ],
   "source": [
    "df_proportion = days.groupby(['user_id', 'group'])['event_name'].nunique().reset_index() # группируем по количеству \n",
    "# событий для каждого пользователя\n",
    "df_proportion = df_proportion[df_proportion['event_name']==4]\n",
    "\n",
    "\n",
    "print('Для группы А:')\n",
    "print('Доля пользователей, которая проходит от первого события  до оплаты от общего числа клиентов', \n",
    "      round(df_proportion[df_proportion['group']=='A'].shape[0] / days['user_id'].nunique(), 4))\n",
    "print()\n",
    "print('Для группы В:')\n",
    "print('Доля пользователей, которая проходит от первого события  до оплаты от общего числа клиентов', \n",
    "      round(df_proportion[df_proportion['group']=='B'].shape[0] / days['user_id'].nunique(), 4))"
   ]
  },
  {
   "cell_type": "markdown",
   "id": "d1b68e6b",
   "metadata": {},
   "source": [
    "В группе А доля пользователей, которая проходит от первого события до оплаты от общего числа клиентов, примерно в 3,5 раза выше чем у группы В. Тестовое задание не удачное решение"
   ]
  },
  {
   "cell_type": "markdown",
   "id": "04a67b56",
   "metadata": {},
   "source": [
    "**Какие особенности данных нужно учесть, прежде чем приступать к A/B-тестированию**"
   ]
  },
  {
   "cell_type": "markdown",
   "id": "cf52704d",
   "metadata": {},
   "source": [
    "- Было запущено два теста одновременно, мы оставили участников только нужного (даже с учетом, что некоторые входили в оба теста). Нужно исключать пересечения пользователей из разных тестов;\n",
    "- Группа А имеет перевес по количеству пользователей;\n",
    "- Количество пользователей для теста - важность количества пользователей для корректности проведения теста;\n",
    "- У нас нет данных с 30-го декабря и по 4 января;"
   ]
  },
  {
   "cell_type": "markdown",
   "id": "051501dd",
   "metadata": {},
   "source": [
    "**Выводы:**\n",
    "- Количество событий на пользователя в выборках распределено неравномерно.\n",
    "- пользователи добавляют товар в корзину в меньшей степени, чем совершают покупок\n",
    "- В начале теста активность пользователей из группы В была близка к активности к группе А (притом, что выборки не равномерны). Но после 14 декабря резкое увеличение активности группы А, а тенденция группы В чуть усела или даже немного сократилась\n",
    "- По ТЗ группа В должна быть больше, но по факту это не так. Показатели группы А выше чем аналогичные показатели у группы В.\n",
    "- Конверсия - Группа В дает показатели хуже на каждом этапе воронки, чем группа А."
   ]
  },
  {
   "cell_type": "markdown",
   "id": "cd012c44",
   "metadata": {},
   "source": [
    "# Оценка результаты A/B-тестирования"
   ]
  },
  {
   "cell_type": "markdown",
   "id": "f6d6b394",
   "metadata": {},
   "source": [
    "**Что можно сказать про результаты A/В-тестирования?**"
   ]
  },
  {
   "cell_type": "markdown",
   "id": "f8d0ffaa",
   "metadata": {},
   "source": [
    "- Результат теста показывает, что группа В хуже по значениям конверсии, чем группа А. \n",
    "- Ожидаемых результатов не достигнуто, а наборот, старая платежная система показала себя лучше на каждом этапе хоть и незначительно;\n",
    "- Согласно ТЗ тест должен закончиться 4 января 2021 года, но по факту он завершился 30 декабря в связи с неполными исходными данными. Таким образом существует проблема с необходимым объемом выборки и длительностью проведения эксперимента. \n",
    "- Стоило ли проводит тестирование в канун новогодних праздников. Хоть влияние данных событий было незначительно, все-таки стиот избегать проведение теста в момент крупных праздников\n",
    "- Делать выводы о том, что мы имее резултаты еще рано.\n",
    "\n",
    "С целью получения максимально достоверных результатов теста нужно продолжить исследование, взяв более длительный промежуток для анализа с учетом сохранения текущего посещения пользователей"
   ]
  },
  {
   "cell_type": "markdown",
   "id": "d1c7b9a9",
   "metadata": {},
   "source": [
    "**Проверим статистическую разницу долей z-критерием.**"
   ]
  },
  {
   "cell_type": "markdown",
   "id": "cc6028d5",
   "metadata": {},
   "source": [
    "Создадим необходимые таблицы для исследования долей:"
   ]
  },
  {
   "cell_type": "code",
   "execution_count": 44,
   "id": "ebac6ab6",
   "metadata": {},
   "outputs": [
    {
     "data": {
      "text/plain": [
       "group\n",
       "A    3824\n",
       "B    2877\n",
       "Name: user_id, dtype: int64"
      ]
     },
     "execution_count": 44,
     "metadata": {},
     "output_type": "execute_result"
    }
   ],
   "source": [
    "# Количество уникальных пользователей в каждой группе:\n",
    "users = days.groupby('group')['user_id'].nunique()\n",
    "\n",
    "# Количество уникальных пользователей в каждом этапе:\n",
    "funnel = days.pivot_table(index='event_name', values='user_id', columns='group',aggfunc=lambda x: len(x.unique()))\n",
    "funnel = funnel.reset_index().sort_values(by='A', ascending=False)\n",
    "\n",
    "users"
   ]
  },
  {
   "cell_type": "code",
   "execution_count": 45,
   "id": "14c0b831",
   "metadata": {},
   "outputs": [
    {
     "data": {
      "text/html": [
       "<div>\n",
       "<style scoped>\n",
       "    .dataframe tbody tr th:only-of-type {\n",
       "        vertical-align: middle;\n",
       "    }\n",
       "\n",
       "    .dataframe tbody tr th {\n",
       "        vertical-align: top;\n",
       "    }\n",
       "\n",
       "    .dataframe thead th {\n",
       "        text-align: right;\n",
       "    }\n",
       "</style>\n",
       "<table border=\"1\" class=\"dataframe\">\n",
       "  <thead>\n",
       "    <tr style=\"text-align: right;\">\n",
       "      <th>group</th>\n",
       "      <th>event_name</th>\n",
       "      <th>A</th>\n",
       "      <th>B</th>\n",
       "    </tr>\n",
       "  </thead>\n",
       "  <tbody>\n",
       "    <tr>\n",
       "      <th>0</th>\n",
       "      <td>login</td>\n",
       "      <td>2747</td>\n",
       "      <td>928</td>\n",
       "    </tr>\n",
       "    <tr>\n",
       "      <th>2</th>\n",
       "      <td>product_page</td>\n",
       "      <td>1780</td>\n",
       "      <td>523</td>\n",
       "    </tr>\n",
       "    <tr>\n",
       "      <th>3</th>\n",
       "      <td>purchase</td>\n",
       "      <td>872</td>\n",
       "      <td>256</td>\n",
       "    </tr>\n",
       "    <tr>\n",
       "      <th>1</th>\n",
       "      <td>product_cart</td>\n",
       "      <td>824</td>\n",
       "      <td>255</td>\n",
       "    </tr>\n",
       "  </tbody>\n",
       "</table>\n",
       "</div>"
      ],
      "text/plain": [
       "group    event_name     A    B\n",
       "0             login  2747  928\n",
       "2      product_page  1780  523\n",
       "3          purchase   872  256\n",
       "1      product_cart   824  255"
      ]
     },
     "execution_count": 45,
     "metadata": {},
     "output_type": "execute_result"
    }
   ],
   "source": [
    " funnel"
   ]
  },
  {
   "cell_type": "markdown",
   "id": "ec2d8cb2",
   "metadata": {},
   "source": [
    "Составим функцию которая позволит нам проверять статистическую разницу между выборками A-B.Применим поправку Бонферрони - поделим альфа на количество гипотиз-4."
   ]
  },
  {
   "cell_type": "markdown",
   "id": "4f9ddead",
   "metadata": {},
   "source": [
    "Обозначу нулевую и альтернативную гипотезы, а также примем alpha=0.05\n",
    "\n",
    "**Н0 - доли уникальных посетителей, побывавших на этапе воронки, в группах А и B одинаковы;**\n",
    "\n",
    "**Н1 - между долями уникальных посетителей, побывавших на этапе воронки, в группах A и B различие есть.**"
   ]
  },
  {
   "cell_type": "code",
   "execution_count": 46,
   "id": "897f8279",
   "metadata": {},
   "outputs": [],
   "source": [
    "# создаем функцию определения статистической значимости  различий в 3-х группах\n",
    "def AB_test(purchasesA ,purchasesB ,leadsA ,leadsB , eventname, alpha = 0.05/4):\n",
    "    # пропорция успехов в первой группе:\n",
    "    p1 = purchasesA/leadsA\n",
    "    # пропорция успехов во второй группе:\n",
    "    p2 = purchasesB/leadsB\n",
    "    # пропорция успехов в комбинированном датасете:\n",
    "    p_combined = (purchasesA + purchasesB) / (leadsA + leadsB)\n",
    "    # разница пропорций в датасетах\n",
    "    difference = p1 - p2\n",
    "    z_value = difference / mth.sqrt(p_combined * (1 - p_combined) * (1/leadsA + 1/leadsB))\n",
    "    # задаем стандартное нормальное распределение (среднее 0, ст.отклонение 1)\n",
    "    distr = st.norm(0, 1)\n",
    "    p_value =(1 - distr.cdf(abs(z_value))) * 2\n",
    "    print(f'Расчет теста для действия пользователей {eventname}')\n",
    "    print('p-значение: ', p_value)\n",
    "\n",
    "    if p_value < alpha:\n",
    "\n",
    "        print('Отвергаем нулевую гипотезу: между долями есть значимая разница')\n",
    "    else:\n",
    "        print(\n",
    "            'Не получилось отвергнуть нулевую гипотезу, нет оснований считать доли разными')\n",
    "        print(' ')"
   ]
  },
  {
   "cell_type": "code",
   "execution_count": 47,
   "id": "e76cb0a4",
   "metadata": {},
   "outputs": [
    {
     "name": "stdout",
     "output_type": "stream",
     "text": [
      "Расчет теста для действия пользователей login\n",
      "p-значение:  0.0\n",
      "Отвергаем нулевую гипотезу: между долями есть значимая разница\n",
      "Расчет теста для действия пользователей product_cart\n",
      "p-значение:  0.0\n",
      "Отвергаем нулевую гипотезу: между долями есть значимая разница\n",
      "Расчет теста для действия пользователей product_page\n",
      "p-значение:  0.0\n",
      "Отвергаем нулевую гипотезу: между долями есть значимая разница\n",
      "Расчет теста для действия пользователей purchase\n",
      "p-значение:  0.0\n",
      "Отвергаем нулевую гипотезу: между долями есть значимая разница\n"
     ]
    }
   ],
   "source": [
    "test_AB = [AB_test(funnel['A'][i],funnel['B'][i],users['A'], users['B'],funnel['event_name'][i], alpha =  0.05/len(funnel['A'])) for i in range(len(funnel['A']))]"
   ]
  },
  {
   "cell_type": "markdown",
   "id": "27c7b50d",
   "metadata": {},
   "source": [
    "группа А по всем показателям лучше группы B. Создадим дата-фрейм, где сравним две доли, чтобы убедиться в правильности z-теста"
   ]
  },
  {
   "cell_type": "code",
   "execution_count": 48,
   "id": "92e00e86",
   "metadata": {},
   "outputs": [
    {
     "data": {
      "text/html": [
       "<div>\n",
       "<style scoped>\n",
       "    .dataframe tbody tr th:only-of-type {\n",
       "        vertical-align: middle;\n",
       "    }\n",
       "\n",
       "    .dataframe tbody tr th {\n",
       "        vertical-align: top;\n",
       "    }\n",
       "\n",
       "    .dataframe thead th {\n",
       "        text-align: right;\n",
       "    }\n",
       "</style>\n",
       "<table border=\"1\" class=\"dataframe\">\n",
       "  <thead>\n",
       "    <tr style=\"text-align: right;\">\n",
       "      <th>group</th>\n",
       "      <th>event_name</th>\n",
       "      <th>A</th>\n",
       "      <th>B</th>\n",
       "      <th>diff</th>\n",
       "    </tr>\n",
       "  </thead>\n",
       "  <tbody>\n",
       "    <tr>\n",
       "      <th>0</th>\n",
       "      <td>login</td>\n",
       "      <td>0.72</td>\n",
       "      <td>0.32</td>\n",
       "      <td>0.40</td>\n",
       "    </tr>\n",
       "    <tr>\n",
       "      <th>2</th>\n",
       "      <td>product_page</td>\n",
       "      <td>0.47</td>\n",
       "      <td>0.18</td>\n",
       "      <td>0.28</td>\n",
       "    </tr>\n",
       "    <tr>\n",
       "      <th>3</th>\n",
       "      <td>purchase</td>\n",
       "      <td>0.23</td>\n",
       "      <td>0.09</td>\n",
       "      <td>0.14</td>\n",
       "    </tr>\n",
       "    <tr>\n",
       "      <th>1</th>\n",
       "      <td>product_cart</td>\n",
       "      <td>0.22</td>\n",
       "      <td>0.09</td>\n",
       "      <td>0.13</td>\n",
       "    </tr>\n",
       "  </tbody>\n",
       "</table>\n",
       "</div>"
      ],
      "text/plain": [
       "group    event_name    A    B  diff\n",
       "0             login 0.72 0.32  0.40\n",
       "2      product_page 0.47 0.18  0.28\n",
       "3          purchase 0.23 0.09  0.14\n",
       "1      product_cart 0.22 0.09  0.13"
      ]
     },
     "execution_count": 48,
     "metadata": {},
     "output_type": "execute_result"
    }
   ],
   "source": [
    "x = funnel.iloc[0:4, 0:3]\n",
    "x.loc[:, 'A'] = x['A'] / users['A']\n",
    "x.loc[:, 'B'] = x['B'] / users['B']\n",
    "    \n",
    "x['diff'] = abs(x['A'] - x['B'])\n",
    "\n",
    "x"
   ]
  },
  {
   "cell_type": "markdown",
   "id": "ae0556f8",
   "metadata": {},
   "source": [
    "- Уровень значимости был выбран при проверке статистических гипотез равный 0,05;\n",
    "- Нет смысла менять уровень значимости с текущего значения на другой, потому что данное действие сильно выводы с проведенных раннее тестов не изменит и конечный результат всего исследования не поменяет"
   ]
  },
  {
   "cell_type": "markdown",
   "id": "084927d5",
   "metadata": {},
   "source": [
    "# Выводы по этапу исследовательского анализа данных и по проведённой оценке результатов A/B-тестирования."
   ]
  },
  {
   "cell_type": "markdown",
   "id": "892ee1bc",
   "metadata": {},
   "source": [
    "**Соответствие данных требованиям технического задания:**\n",
    "\n",
    "*Назначение теста: тестирование изменений, связанных с внедрением улучшенной рекомендательной системы;* \n",
    "\n",
    "*Ожидаемый эффект: за 14 дней с момента регистрации в системе пользователи покажут улучшение каждой метрики не менее, чем на 10%*\n",
    "\n",
    "Данные, которые не соответствуют ТЗ:\n",
    "- Неравномерное формирование в группах может привести к погрешности в результатах теста;\n",
    "- Не все пользователи теста зарегистрировались 2020-12-07;\n",
    "- Дата остановки теста не соответствует;\n",
    "- Аудитория составляет 13,7 % EU, что не соответствует ТЗ;\n",
    "- Данные попадают так же в дни новогодних акции. Это может исказить результат.\n",
    "\n",
    "Данные, которые соответствуют ТЗ:\n",
    "- Дата остановки набора новых пользователей соответствует ТЗ;\n",
    "- Ожидаемое количество участников теста превышает 6000;\n",
    "\n",
    "- Действия некоторых пользователей приходятся на маркетинговое событие `Christmas&New Year Promo(с 2020-12-25 по 2021-01-03)` и `CIS New Year Gift Lottery ( с 2020-12-30 по 2021-01-07)`, что могло повлиять на изменение конверсии и корректность проведения А/В-теста. События по группам А и В распределены неравномерно, в группе А значительно больше событий по сравнению с группой В.\n",
    "- Пользователи, попавшие в оба теста нет ;\n",
    "- А пользователи, попавшие в обе группы теста составляют менее 16 % (пользователи из разных тестов) \n",
    "- Пользователи по группам исследуемого теста распределены не слишком равномерно.\n",
    "\n",
    "**Исследовательский анализ данных:**\n",
    "\n",
    "- Стоит отметить что  изменилась последовательность действий, пользователи добавляют товар в корзину в меньшей степени, чем совершают покупок, это говорит о том, что воронка событий - простая, то есть не имеет строгой последовательности действий.\n",
    "- Конверсия - Группа В дает показатели хуже на каждом этапе воронки, чем группа А.\n",
    "- По ТЗ группа В должна быть больше, но по факту это не так. Показатели группы А выше чем аналогичные показатели у группы В.\n",
    "\n",
    "**Оценка результатов A/B-тестирования:**\n",
    "- Нет преобладания группы В над А. Скорее группа А показывает лучшие показатели конверсии, чем эксперементальная группа;\n",
    "- Корректность проведения теста, исходя из условий проведения, не обоснована. Проведенный тест не может гарантировать достоверность полученых результатов, а именно - конверсия группы B на каждом этапе воронки хуже конверсии группы A.\n",
    "- Во всех конвресиях в группе Б конверсия ниже, а значит новая воронка не увеличила конверсии на желаемые 10 %."
   ]
  }
 ],
 "metadata": {
  "ExecuteTimeLog": [
   {
    "duration": 1344,
    "start_time": "2022-12-29T15:34:03.444Z"
   },
   {
    "duration": 706,
    "start_time": "2022-12-29T15:34:04.790Z"
   },
   {
    "duration": 21,
    "start_time": "2022-12-29T15:34:05.497Z"
   },
   {
    "duration": 21,
    "start_time": "2022-12-29T15:34:05.520Z"
   },
   {
    "duration": 68,
    "start_time": "2022-12-29T15:34:05.543Z"
   },
   {
    "duration": 16,
    "start_time": "2022-12-29T15:34:05.621Z"
   },
   {
    "duration": 104,
    "start_time": "2022-12-29T15:34:05.639Z"
   },
   {
    "duration": 247,
    "start_time": "2022-12-29T15:34:05.745Z"
   },
   {
    "duration": 40,
    "start_time": "2022-12-29T15:34:05.994Z"
   },
   {
    "duration": 6,
    "start_time": "2022-12-29T15:34:06.035Z"
   },
   {
    "duration": 24,
    "start_time": "2022-12-29T15:34:06.042Z"
   },
   {
    "duration": 55,
    "start_time": "2022-12-29T15:34:06.068Z"
   },
   {
    "duration": 157,
    "start_time": "2022-12-29T15:34:06.125Z"
   },
   {
    "duration": 15,
    "start_time": "2022-12-29T15:34:06.284Z"
   },
   {
    "duration": 296,
    "start_time": "2022-12-29T15:34:06.300Z"
   },
   {
    "duration": 3,
    "start_time": "2022-12-29T15:34:06.598Z"
   },
   {
    "duration": 113,
    "start_time": "2022-12-29T15:34:06.602Z"
   },
   {
    "duration": 19,
    "start_time": "2022-12-29T15:34:06.717Z"
   },
   {
    "duration": 9,
    "start_time": "2022-12-29T15:34:06.738Z"
   },
   {
    "duration": 7,
    "start_time": "2022-12-29T15:34:06.749Z"
   },
   {
    "duration": 26,
    "start_time": "2022-12-29T15:34:06.758Z"
   },
   {
    "duration": 46,
    "start_time": "2022-12-29T15:34:06.785Z"
   },
   {
    "duration": 97,
    "start_time": "2022-12-29T15:34:06.833Z"
   },
   {
    "duration": 0,
    "start_time": "2022-12-29T15:34:06.932Z"
   },
   {
    "duration": 0,
    "start_time": "2022-12-29T15:34:06.933Z"
   },
   {
    "duration": 0,
    "start_time": "2022-12-29T15:34:06.934Z"
   },
   {
    "duration": 0,
    "start_time": "2022-12-29T15:34:06.936Z"
   },
   {
    "duration": 0,
    "start_time": "2022-12-29T15:34:06.937Z"
   },
   {
    "duration": 0,
    "start_time": "2022-12-29T15:34:06.937Z"
   },
   {
    "duration": 0,
    "start_time": "2022-12-29T15:34:06.938Z"
   },
   {
    "duration": 0,
    "start_time": "2022-12-29T15:34:06.939Z"
   },
   {
    "duration": 0,
    "start_time": "2022-12-29T15:34:06.940Z"
   },
   {
    "duration": 0,
    "start_time": "2022-12-29T15:34:06.941Z"
   },
   {
    "duration": 0,
    "start_time": "2022-12-29T15:34:06.942Z"
   },
   {
    "duration": 0,
    "start_time": "2022-12-29T15:34:06.943Z"
   },
   {
    "duration": 0,
    "start_time": "2022-12-29T15:34:06.944Z"
   },
   {
    "duration": 0,
    "start_time": "2022-12-29T15:34:06.945Z"
   },
   {
    "duration": 0,
    "start_time": "2022-12-29T15:34:06.946Z"
   },
   {
    "duration": 0,
    "start_time": "2022-12-29T15:34:06.947Z"
   },
   {
    "duration": 0,
    "start_time": "2022-12-29T15:34:06.948Z"
   },
   {
    "duration": 0,
    "start_time": "2022-12-29T15:34:06.948Z"
   },
   {
    "duration": 0,
    "start_time": "2022-12-29T15:34:06.949Z"
   },
   {
    "duration": 0,
    "start_time": "2022-12-29T15:34:06.950Z"
   },
   {
    "duration": 0,
    "start_time": "2022-12-29T15:34:06.951Z"
   },
   {
    "duration": 0,
    "start_time": "2022-12-29T15:34:06.952Z"
   },
   {
    "duration": 1306,
    "start_time": "2022-12-29T15:40:46.773Z"
   },
   {
    "duration": 663,
    "start_time": "2022-12-29T15:40:48.081Z"
   },
   {
    "duration": 22,
    "start_time": "2022-12-29T15:40:48.746Z"
   },
   {
    "duration": 21,
    "start_time": "2022-12-29T15:40:48.770Z"
   },
   {
    "duration": 76,
    "start_time": "2022-12-29T15:40:48.793Z"
   },
   {
    "duration": 15,
    "start_time": "2022-12-29T15:40:48.870Z"
   },
   {
    "duration": 118,
    "start_time": "2022-12-29T15:40:48.887Z"
   },
   {
    "duration": 310,
    "start_time": "2022-12-29T15:40:49.007Z"
   },
   {
    "duration": 36,
    "start_time": "2022-12-29T15:40:49.322Z"
   },
   {
    "duration": 4,
    "start_time": "2022-12-29T15:40:49.360Z"
   },
   {
    "duration": 20,
    "start_time": "2022-12-29T15:40:49.365Z"
   },
   {
    "duration": 80,
    "start_time": "2022-12-29T15:40:49.386Z"
   },
   {
    "duration": 198,
    "start_time": "2022-12-29T15:40:49.467Z"
   },
   {
    "duration": 15,
    "start_time": "2022-12-29T15:40:49.668Z"
   },
   {
    "duration": 323,
    "start_time": "2022-12-29T15:40:49.684Z"
   },
   {
    "duration": 3,
    "start_time": "2022-12-29T15:40:50.009Z"
   },
   {
    "duration": 120,
    "start_time": "2022-12-29T15:40:50.013Z"
   },
   {
    "duration": 19,
    "start_time": "2022-12-29T15:40:50.134Z"
   },
   {
    "duration": 5,
    "start_time": "2022-12-29T15:40:50.155Z"
   },
   {
    "duration": 8,
    "start_time": "2022-12-29T15:40:50.162Z"
   },
   {
    "duration": 8,
    "start_time": "2022-12-29T15:40:50.172Z"
   },
   {
    "duration": 62,
    "start_time": "2022-12-29T15:40:50.182Z"
   },
   {
    "duration": 115,
    "start_time": "2022-12-29T15:40:50.245Z"
   },
   {
    "duration": 0,
    "start_time": "2022-12-29T15:40:50.362Z"
   },
   {
    "duration": 0,
    "start_time": "2022-12-29T15:40:50.363Z"
   },
   {
    "duration": 0,
    "start_time": "2022-12-29T15:40:50.364Z"
   },
   {
    "duration": 0,
    "start_time": "2022-12-29T15:40:50.365Z"
   },
   {
    "duration": 0,
    "start_time": "2022-12-29T15:40:50.366Z"
   },
   {
    "duration": 0,
    "start_time": "2022-12-29T15:40:50.367Z"
   },
   {
    "duration": 0,
    "start_time": "2022-12-29T15:40:50.368Z"
   },
   {
    "duration": 0,
    "start_time": "2022-12-29T15:40:50.370Z"
   },
   {
    "duration": 0,
    "start_time": "2022-12-29T15:40:50.371Z"
   },
   {
    "duration": 0,
    "start_time": "2022-12-29T15:40:50.373Z"
   },
   {
    "duration": 0,
    "start_time": "2022-12-29T15:40:50.373Z"
   },
   {
    "duration": 0,
    "start_time": "2022-12-29T15:40:50.375Z"
   },
   {
    "duration": 0,
    "start_time": "2022-12-29T15:40:50.376Z"
   },
   {
    "duration": 0,
    "start_time": "2022-12-29T15:40:50.378Z"
   },
   {
    "duration": 0,
    "start_time": "2022-12-29T15:40:50.379Z"
   },
   {
    "duration": 0,
    "start_time": "2022-12-29T15:40:50.381Z"
   },
   {
    "duration": 0,
    "start_time": "2022-12-29T15:40:50.382Z"
   },
   {
    "duration": 0,
    "start_time": "2022-12-29T15:40:50.383Z"
   },
   {
    "duration": 0,
    "start_time": "2022-12-29T15:40:50.423Z"
   },
   {
    "duration": 0,
    "start_time": "2022-12-29T15:40:50.424Z"
   },
   {
    "duration": 0,
    "start_time": "2022-12-29T15:40:50.426Z"
   },
   {
    "duration": 0,
    "start_time": "2022-12-29T15:40:50.427Z"
   },
   {
    "duration": 1366,
    "start_time": "2022-12-30T02:36:32.124Z"
   },
   {
    "duration": 939,
    "start_time": "2022-12-30T02:36:33.492Z"
   },
   {
    "duration": 17,
    "start_time": "2022-12-30T02:36:34.433Z"
   },
   {
    "duration": 20,
    "start_time": "2022-12-30T02:36:34.452Z"
   },
   {
    "duration": 66,
    "start_time": "2022-12-30T02:36:34.473Z"
   },
   {
    "duration": 15,
    "start_time": "2022-12-30T02:36:34.540Z"
   },
   {
    "duration": 104,
    "start_time": "2022-12-30T02:36:34.556Z"
   },
   {
    "duration": 254,
    "start_time": "2022-12-30T02:36:34.661Z"
   },
   {
    "duration": 35,
    "start_time": "2022-12-30T02:36:34.917Z"
   },
   {
    "duration": 2,
    "start_time": "2022-12-30T02:36:34.956Z"
   },
   {
    "duration": 10,
    "start_time": "2022-12-30T02:36:34.960Z"
   },
   {
    "duration": 62,
    "start_time": "2022-12-30T02:36:34.971Z"
   },
   {
    "duration": 161,
    "start_time": "2022-12-30T02:36:35.034Z"
   },
   {
    "duration": 26,
    "start_time": "2022-12-30T02:36:35.196Z"
   },
   {
    "duration": 274,
    "start_time": "2022-12-30T02:36:35.224Z"
   },
   {
    "duration": 3,
    "start_time": "2022-12-30T02:36:35.500Z"
   },
   {
    "duration": 111,
    "start_time": "2022-12-30T02:36:35.505Z"
   },
   {
    "duration": 18,
    "start_time": "2022-12-30T02:36:35.618Z"
   },
   {
    "duration": 5,
    "start_time": "2022-12-30T02:36:35.638Z"
   },
   {
    "duration": 8,
    "start_time": "2022-12-30T02:36:35.644Z"
   },
   {
    "duration": 9,
    "start_time": "2022-12-30T02:36:35.654Z"
   },
   {
    "duration": 59,
    "start_time": "2022-12-30T02:36:35.664Z"
   },
   {
    "duration": 101,
    "start_time": "2022-12-30T02:36:35.725Z"
   },
   {
    "duration": 0,
    "start_time": "2022-12-30T02:36:35.828Z"
   },
   {
    "duration": 1,
    "start_time": "2022-12-30T02:36:35.829Z"
   },
   {
    "duration": 0,
    "start_time": "2022-12-30T02:36:35.831Z"
   },
   {
    "duration": 0,
    "start_time": "2022-12-30T02:36:35.832Z"
   },
   {
    "duration": 0,
    "start_time": "2022-12-30T02:36:35.833Z"
   },
   {
    "duration": 0,
    "start_time": "2022-12-30T02:36:35.834Z"
   },
   {
    "duration": 0,
    "start_time": "2022-12-30T02:36:35.835Z"
   },
   {
    "duration": 0,
    "start_time": "2022-12-30T02:36:35.836Z"
   },
   {
    "duration": 0,
    "start_time": "2022-12-30T02:36:35.837Z"
   },
   {
    "duration": 0,
    "start_time": "2022-12-30T02:36:35.838Z"
   },
   {
    "duration": 0,
    "start_time": "2022-12-30T02:36:35.839Z"
   },
   {
    "duration": 0,
    "start_time": "2022-12-30T02:36:35.840Z"
   },
   {
    "duration": 0,
    "start_time": "2022-12-30T02:36:35.841Z"
   },
   {
    "duration": 0,
    "start_time": "2022-12-30T02:36:35.842Z"
   },
   {
    "duration": 0,
    "start_time": "2022-12-30T02:36:35.843Z"
   },
   {
    "duration": 0,
    "start_time": "2022-12-30T02:36:35.844Z"
   },
   {
    "duration": 0,
    "start_time": "2022-12-30T02:36:35.845Z"
   },
   {
    "duration": 0,
    "start_time": "2022-12-30T02:36:35.846Z"
   },
   {
    "duration": 0,
    "start_time": "2022-12-30T02:36:35.847Z"
   },
   {
    "duration": 0,
    "start_time": "2022-12-30T02:36:35.848Z"
   },
   {
    "duration": 0,
    "start_time": "2022-12-30T02:36:35.849Z"
   },
   {
    "duration": 0,
    "start_time": "2022-12-30T02:36:35.850Z"
   },
   {
    "duration": 3,
    "start_time": "2022-12-30T02:37:09.201Z"
   },
   {
    "duration": 609,
    "start_time": "2022-12-30T02:37:09.727Z"
   },
   {
    "duration": 20,
    "start_time": "2022-12-30T02:37:10.951Z"
   },
   {
    "duration": 21,
    "start_time": "2022-12-30T02:37:11.552Z"
   },
   {
    "duration": 65,
    "start_time": "2022-12-30T02:37:11.992Z"
   },
   {
    "duration": 15,
    "start_time": "2022-12-30T02:37:12.871Z"
   },
   {
    "duration": 82,
    "start_time": "2022-12-30T02:37:14.095Z"
   },
   {
    "duration": 222,
    "start_time": "2022-12-30T02:37:14.833Z"
   },
   {
    "duration": 28,
    "start_time": "2022-12-30T02:37:15.850Z"
   },
   {
    "duration": 3,
    "start_time": "2022-12-30T02:37:16.553Z"
   },
   {
    "duration": 8,
    "start_time": "2022-12-30T02:37:16.782Z"
   },
   {
    "duration": 38,
    "start_time": "2022-12-30T02:37:16.991Z"
   },
   {
    "duration": 145,
    "start_time": "2022-12-30T02:37:17.174Z"
   },
   {
    "duration": 14,
    "start_time": "2022-12-30T02:37:17.398Z"
   },
   {
    "duration": 251,
    "start_time": "2022-12-30T02:37:19.816Z"
   },
   {
    "duration": 2,
    "start_time": "2022-12-30T02:37:20.071Z"
   },
   {
    "duration": 103,
    "start_time": "2022-12-30T02:37:20.823Z"
   },
   {
    "duration": 18,
    "start_time": "2022-12-30T02:37:21.655Z"
   },
   {
    "duration": 5,
    "start_time": "2022-12-30T02:37:22.950Z"
   },
   {
    "duration": 4,
    "start_time": "2022-12-30T02:37:24.125Z"
   },
   {
    "duration": 5,
    "start_time": "2022-12-30T02:37:25.279Z"
   },
   {
    "duration": 34,
    "start_time": "2022-12-30T02:37:26.534Z"
   },
   {
    "duration": 9,
    "start_time": "2022-12-30T02:37:27.406Z"
   },
   {
    "duration": 8,
    "start_time": "2022-12-30T02:38:31.983Z"
   },
   {
    "duration": 7,
    "start_time": "2022-12-30T02:38:38.638Z"
   },
   {
    "duration": 5,
    "start_time": "2022-12-30T02:38:42.190Z"
   },
   {
    "duration": 14,
    "start_time": "2022-12-30T02:38:42.760Z"
   },
   {
    "duration": 11,
    "start_time": "2022-12-30T02:38:43.263Z"
   },
   {
    "duration": 19,
    "start_time": "2022-12-30T02:39:25.832Z"
   },
   {
    "duration": 10,
    "start_time": "2022-12-30T02:39:26.864Z"
   },
   {
    "duration": 164,
    "start_time": "2022-12-30T02:39:28.297Z"
   },
   {
    "duration": 9,
    "start_time": "2022-12-30T02:39:36.144Z"
   },
   {
    "duration": 51,
    "start_time": "2022-12-30T02:39:38.343Z"
   },
   {
    "duration": 149,
    "start_time": "2022-12-30T02:39:42.759Z"
   },
   {
    "duration": 89,
    "start_time": "2022-12-30T02:39:47.319Z"
   },
   {
    "duration": 133,
    "start_time": "2022-12-30T02:39:57.264Z"
   },
   {
    "duration": 90,
    "start_time": "2022-12-30T02:39:59.374Z"
   },
   {
    "duration": 16,
    "start_time": "2022-12-30T02:39:59.884Z"
   },
   {
    "duration": 376,
    "start_time": "2022-12-30T02:40:00.431Z"
   },
   {
    "duration": 41,
    "start_time": "2022-12-30T02:40:02.711Z"
   },
   {
    "duration": 133,
    "start_time": "2022-12-30T02:40:03.871Z"
   },
   {
    "duration": 1520,
    "start_time": "2022-12-30T09:08:24.233Z"
   },
   {
    "duration": 1748,
    "start_time": "2022-12-30T09:08:25.755Z"
   },
   {
    "duration": 31,
    "start_time": "2022-12-30T09:08:27.506Z"
   },
   {
    "duration": 33,
    "start_time": "2022-12-30T09:08:27.540Z"
   },
   {
    "duration": 97,
    "start_time": "2022-12-30T09:08:27.575Z"
   },
   {
    "duration": 41,
    "start_time": "2022-12-30T09:08:27.674Z"
   },
   {
    "duration": 165,
    "start_time": "2022-12-30T09:08:27.722Z"
   },
   {
    "duration": 388,
    "start_time": "2022-12-30T09:08:27.889Z"
   },
   {
    "duration": 83,
    "start_time": "2022-12-30T09:08:28.280Z"
   },
   {
    "duration": 19,
    "start_time": "2022-12-30T09:08:28.365Z"
   },
   {
    "duration": 72,
    "start_time": "2022-12-30T09:08:28.386Z"
   },
   {
    "duration": 155,
    "start_time": "2022-12-30T09:08:28.460Z"
   },
   {
    "duration": 366,
    "start_time": "2022-12-30T09:08:28.618Z"
   },
   {
    "duration": 32,
    "start_time": "2022-12-30T09:08:28.988Z"
   },
   {
    "duration": 549,
    "start_time": "2022-12-30T09:08:29.023Z"
   },
   {
    "duration": 3,
    "start_time": "2022-12-30T09:08:29.574Z"
   },
   {
    "duration": 216,
    "start_time": "2022-12-30T09:08:29.579Z"
   },
   {
    "duration": 31,
    "start_time": "2022-12-30T09:08:29.797Z"
   },
   {
    "duration": 37,
    "start_time": "2022-12-30T09:08:29.830Z"
   },
   {
    "duration": 99,
    "start_time": "2022-12-30T09:08:29.869Z"
   },
   {
    "duration": 82,
    "start_time": "2022-12-30T09:08:29.970Z"
   },
   {
    "duration": 77,
    "start_time": "2022-12-30T09:08:30.054Z"
   },
   {
    "duration": 26,
    "start_time": "2022-12-30T09:08:30.133Z"
   },
   {
    "duration": 76,
    "start_time": "2022-12-30T09:08:30.162Z"
   },
   {
    "duration": 88,
    "start_time": "2022-12-30T09:08:30.241Z"
   },
   {
    "duration": 242,
    "start_time": "2022-12-30T09:08:30.332Z"
   },
   {
    "duration": 0,
    "start_time": "2022-12-30T09:08:30.577Z"
   },
   {
    "duration": 0,
    "start_time": "2022-12-30T09:08:30.584Z"
   },
   {
    "duration": 0,
    "start_time": "2022-12-30T09:08:30.588Z"
   },
   {
    "duration": 0,
    "start_time": "2022-12-30T09:08:30.589Z"
   },
   {
    "duration": 0,
    "start_time": "2022-12-30T09:08:30.591Z"
   },
   {
    "duration": 0,
    "start_time": "2022-12-30T09:08:30.593Z"
   },
   {
    "duration": 0,
    "start_time": "2022-12-30T09:08:30.594Z"
   },
   {
    "duration": 0,
    "start_time": "2022-12-30T09:08:30.595Z"
   },
   {
    "duration": 0,
    "start_time": "2022-12-30T09:08:30.596Z"
   },
   {
    "duration": 0,
    "start_time": "2022-12-30T09:08:30.597Z"
   },
   {
    "duration": 0,
    "start_time": "2022-12-30T09:08:30.598Z"
   },
   {
    "duration": 0,
    "start_time": "2022-12-30T09:08:30.600Z"
   },
   {
    "duration": 0,
    "start_time": "2022-12-30T09:08:30.601Z"
   },
   {
    "duration": 0,
    "start_time": "2022-12-30T09:08:30.602Z"
   },
   {
    "duration": 0,
    "start_time": "2022-12-30T09:08:30.603Z"
   },
   {
    "duration": 0,
    "start_time": "2022-12-30T09:08:30.605Z"
   },
   {
    "duration": 0,
    "start_time": "2022-12-30T09:08:30.606Z"
   },
   {
    "duration": 1590,
    "start_time": "2022-12-30T09:10:44.043Z"
   },
   {
    "duration": 1007,
    "start_time": "2022-12-30T09:10:45.636Z"
   },
   {
    "duration": 40,
    "start_time": "2022-12-30T09:10:46.647Z"
   },
   {
    "duration": 43,
    "start_time": "2022-12-30T09:10:46.707Z"
   },
   {
    "duration": 102,
    "start_time": "2022-12-30T09:10:46.752Z"
   },
   {
    "duration": 18,
    "start_time": "2022-12-30T09:10:46.855Z"
   },
   {
    "duration": 190,
    "start_time": "2022-12-30T09:10:46.875Z"
   },
   {
    "duration": 386,
    "start_time": "2022-12-30T09:10:47.067Z"
   },
   {
    "duration": 73,
    "start_time": "2022-12-30T09:10:47.455Z"
   },
   {
    "duration": 6,
    "start_time": "2022-12-30T09:10:47.532Z"
   },
   {
    "duration": 17,
    "start_time": "2022-12-30T09:10:47.539Z"
   },
   {
    "duration": 87,
    "start_time": "2022-12-30T09:10:47.558Z"
   },
   {
    "duration": 361,
    "start_time": "2022-12-30T09:10:47.647Z"
   },
   {
    "duration": 27,
    "start_time": "2022-12-30T09:10:48.017Z"
   },
   {
    "duration": 502,
    "start_time": "2022-12-30T09:10:48.047Z"
   },
   {
    "duration": 3,
    "start_time": "2022-12-30T09:10:48.551Z"
   },
   {
    "duration": 210,
    "start_time": "2022-12-30T09:10:48.556Z"
   },
   {
    "duration": 42,
    "start_time": "2022-12-30T09:10:48.768Z"
   },
   {
    "duration": 22,
    "start_time": "2022-12-30T09:10:48.812Z"
   },
   {
    "duration": 19,
    "start_time": "2022-12-30T09:10:48.837Z"
   },
   {
    "duration": 16,
    "start_time": "2022-12-30T09:10:48.858Z"
   },
   {
    "duration": 102,
    "start_time": "2022-12-30T09:10:48.876Z"
   },
   {
    "duration": 12,
    "start_time": "2022-12-30T09:10:48.980Z"
   },
   {
    "duration": 61,
    "start_time": "2022-12-30T09:10:48.994Z"
   },
   {
    "duration": 31,
    "start_time": "2022-12-30T09:10:49.058Z"
   },
   {
    "duration": 166,
    "start_time": "2022-12-30T09:10:49.091Z"
   },
   {
    "duration": 0,
    "start_time": "2022-12-30T09:10:49.260Z"
   },
   {
    "duration": 0,
    "start_time": "2022-12-30T09:10:49.262Z"
   },
   {
    "duration": 0,
    "start_time": "2022-12-30T09:10:49.264Z"
   },
   {
    "duration": 0,
    "start_time": "2022-12-30T09:10:49.265Z"
   },
   {
    "duration": 0,
    "start_time": "2022-12-30T09:10:49.267Z"
   },
   {
    "duration": 1,
    "start_time": "2022-12-30T09:10:49.268Z"
   },
   {
    "duration": 0,
    "start_time": "2022-12-30T09:10:49.277Z"
   },
   {
    "duration": 0,
    "start_time": "2022-12-30T09:10:49.278Z"
   },
   {
    "duration": 0,
    "start_time": "2022-12-30T09:10:49.279Z"
   },
   {
    "duration": 0,
    "start_time": "2022-12-30T09:10:49.281Z"
   },
   {
    "duration": 0,
    "start_time": "2022-12-30T09:10:49.282Z"
   },
   {
    "duration": 0,
    "start_time": "2022-12-30T09:10:49.284Z"
   },
   {
    "duration": 0,
    "start_time": "2022-12-30T09:10:49.285Z"
   },
   {
    "duration": 0,
    "start_time": "2022-12-30T09:10:49.286Z"
   },
   {
    "duration": 0,
    "start_time": "2022-12-30T09:10:49.288Z"
   },
   {
    "duration": 0,
    "start_time": "2022-12-30T09:10:49.289Z"
   },
   {
    "duration": 0,
    "start_time": "2022-12-30T09:10:49.291Z"
   },
   {
    "duration": 1269,
    "start_time": "2022-12-30T09:59:39.007Z"
   },
   {
    "duration": 988,
    "start_time": "2022-12-30T09:59:40.278Z"
   },
   {
    "duration": 19,
    "start_time": "2022-12-30T09:59:41.267Z"
   },
   {
    "duration": 23,
    "start_time": "2022-12-30T09:59:41.287Z"
   },
   {
    "duration": 63,
    "start_time": "2022-12-30T09:59:41.311Z"
   },
   {
    "duration": 30,
    "start_time": "2022-12-30T09:59:41.375Z"
   },
   {
    "duration": 102,
    "start_time": "2022-12-30T09:59:41.407Z"
   },
   {
    "duration": 248,
    "start_time": "2022-12-30T09:59:41.511Z"
   },
   {
    "duration": 47,
    "start_time": "2022-12-30T09:59:41.761Z"
   },
   {
    "duration": 3,
    "start_time": "2022-12-30T09:59:41.811Z"
   },
   {
    "duration": 15,
    "start_time": "2022-12-30T09:59:41.815Z"
   },
   {
    "duration": 47,
    "start_time": "2022-12-30T09:59:41.832Z"
   },
   {
    "duration": 175,
    "start_time": "2022-12-30T09:59:41.880Z"
   },
   {
    "duration": 13,
    "start_time": "2022-12-30T09:59:42.057Z"
   },
   {
    "duration": 287,
    "start_time": "2022-12-30T09:59:42.071Z"
   },
   {
    "duration": 3,
    "start_time": "2022-12-30T09:59:42.359Z"
   },
   {
    "duration": 120,
    "start_time": "2022-12-30T09:59:42.364Z"
   },
   {
    "duration": 22,
    "start_time": "2022-12-30T09:59:42.486Z"
   },
   {
    "duration": 5,
    "start_time": "2022-12-30T09:59:42.509Z"
   },
   {
    "duration": 10,
    "start_time": "2022-12-30T09:59:42.516Z"
   },
   {
    "duration": 9,
    "start_time": "2022-12-30T09:59:42.527Z"
   },
   {
    "duration": 64,
    "start_time": "2022-12-30T09:59:42.537Z"
   },
   {
    "duration": 8,
    "start_time": "2022-12-30T09:59:42.603Z"
   },
   {
    "duration": 6,
    "start_time": "2022-12-30T09:59:42.612Z"
   },
   {
    "duration": 14,
    "start_time": "2022-12-30T09:59:42.619Z"
   },
   {
    "duration": 121,
    "start_time": "2022-12-30T09:59:42.634Z"
   },
   {
    "duration": 0,
    "start_time": "2022-12-30T09:59:42.757Z"
   },
   {
    "duration": 0,
    "start_time": "2022-12-30T09:59:42.758Z"
   },
   {
    "duration": 0,
    "start_time": "2022-12-30T09:59:42.759Z"
   },
   {
    "duration": 0,
    "start_time": "2022-12-30T09:59:42.760Z"
   },
   {
    "duration": 0,
    "start_time": "2022-12-30T09:59:42.761Z"
   },
   {
    "duration": 0,
    "start_time": "2022-12-30T09:59:42.762Z"
   },
   {
    "duration": 0,
    "start_time": "2022-12-30T09:59:42.763Z"
   },
   {
    "duration": 0,
    "start_time": "2022-12-30T09:59:42.764Z"
   },
   {
    "duration": 0,
    "start_time": "2022-12-30T09:59:42.765Z"
   },
   {
    "duration": 0,
    "start_time": "2022-12-30T09:59:42.766Z"
   },
   {
    "duration": 0,
    "start_time": "2022-12-30T09:59:42.767Z"
   },
   {
    "duration": 0,
    "start_time": "2022-12-30T09:59:42.768Z"
   },
   {
    "duration": 0,
    "start_time": "2022-12-30T09:59:42.768Z"
   },
   {
    "duration": 0,
    "start_time": "2022-12-30T09:59:42.769Z"
   },
   {
    "duration": 0,
    "start_time": "2022-12-30T09:59:42.797Z"
   },
   {
    "duration": 0,
    "start_time": "2022-12-30T09:59:42.799Z"
   },
   {
    "duration": 1,
    "start_time": "2022-12-30T09:59:42.799Z"
   },
   {
    "duration": 4,
    "start_time": "2022-12-30T10:00:10.049Z"
   },
   {
    "duration": 615,
    "start_time": "2022-12-30T10:00:10.695Z"
   },
   {
    "duration": 16,
    "start_time": "2022-12-30T10:00:11.312Z"
   },
   {
    "duration": 24,
    "start_time": "2022-12-30T10:00:11.879Z"
   },
   {
    "duration": 62,
    "start_time": "2022-12-30T10:00:12.415Z"
   },
   {
    "duration": 17,
    "start_time": "2022-12-30T10:00:13.073Z"
   },
   {
    "duration": 93,
    "start_time": "2022-12-30T10:00:18.568Z"
   },
   {
    "duration": 280,
    "start_time": "2022-12-30T10:00:19.201Z"
   },
   {
    "duration": 29,
    "start_time": "2022-12-30T10:00:20.526Z"
   },
   {
    "duration": 3,
    "start_time": "2022-12-30T10:00:21.647Z"
   },
   {
    "duration": 14,
    "start_time": "2022-12-30T10:00:23.927Z"
   },
   {
    "duration": 77,
    "start_time": "2022-12-30T10:00:25.648Z"
   },
   {
    "duration": 185,
    "start_time": "2022-12-30T10:00:26.616Z"
   },
   {
    "duration": 24,
    "start_time": "2022-12-30T10:00:27.539Z"
   },
   {
    "duration": 279,
    "start_time": "2022-12-30T10:00:31.352Z"
   },
   {
    "duration": 2,
    "start_time": "2022-12-30T10:00:32.327Z"
   },
   {
    "duration": 110,
    "start_time": "2022-12-30T10:00:34.302Z"
   },
   {
    "duration": 22,
    "start_time": "2022-12-30T10:00:36.011Z"
   },
   {
    "duration": 6,
    "start_time": "2022-12-30T10:00:37.805Z"
   },
   {
    "duration": 4,
    "start_time": "2022-12-30T10:00:39.390Z"
   },
   {
    "duration": 5,
    "start_time": "2022-12-30T10:00:41.390Z"
   },
   {
    "duration": 35,
    "start_time": "2022-12-30T10:00:43.078Z"
   },
   {
    "duration": 9,
    "start_time": "2022-12-30T10:00:45.278Z"
   },
   {
    "duration": 6,
    "start_time": "2022-12-30T10:00:46.855Z"
   },
   {
    "duration": 17,
    "start_time": "2022-12-30T10:00:47.927Z"
   },
   {
    "duration": 13,
    "start_time": "2022-12-30T10:00:49.449Z"
   },
   {
    "duration": 10,
    "start_time": "2022-12-30T10:01:08.520Z"
   },
   {
    "duration": 23,
    "start_time": "2022-12-30T10:01:10.991Z"
   },
   {
    "duration": 11,
    "start_time": "2022-12-30T10:01:11.447Z"
   },
   {
    "duration": 174,
    "start_time": "2022-12-30T10:01:11.911Z"
   },
   {
    "duration": 9,
    "start_time": "2022-12-30T10:01:13.310Z"
   },
   {
    "duration": 156,
    "start_time": "2022-12-30T10:01:14.382Z"
   },
   {
    "duration": 99,
    "start_time": "2022-12-30T10:01:15.206Z"
   },
   {
    "duration": 141,
    "start_time": "2022-12-30T10:01:19.671Z"
   },
   {
    "duration": 99,
    "start_time": "2022-12-30T10:01:22.598Z"
   },
   {
    "duration": 18,
    "start_time": "2022-12-30T10:01:23.047Z"
   },
   {
    "duration": 411,
    "start_time": "2022-12-30T10:01:23.424Z"
   },
   {
    "duration": 53,
    "start_time": "2022-12-30T10:01:24.575Z"
   },
   {
    "duration": 133,
    "start_time": "2022-12-30T10:01:24.958Z"
   },
   {
    "duration": 32,
    "start_time": "2022-12-30T10:01:25.553Z"
   },
   {
    "duration": 35,
    "start_time": "2022-12-30T10:01:34.584Z"
   },
   {
    "duration": 6,
    "start_time": "2022-12-30T10:01:35.383Z"
   },
   {
    "duration": 5,
    "start_time": "2022-12-30T10:01:35.886Z"
   },
   {
    "duration": 8,
    "start_time": "2022-12-30T10:01:36.801Z"
   },
   {
    "duration": 1134,
    "start_time": "2022-12-30T10:03:42.915Z"
   },
   {
    "duration": 647,
    "start_time": "2022-12-30T10:03:44.051Z"
   },
   {
    "duration": 23,
    "start_time": "2022-12-30T10:03:44.704Z"
   },
   {
    "duration": 28,
    "start_time": "2022-12-30T10:03:44.731Z"
   },
   {
    "duration": 88,
    "start_time": "2022-12-30T10:03:44.761Z"
   },
   {
    "duration": 15,
    "start_time": "2022-12-30T10:03:44.851Z"
   },
   {
    "duration": 117,
    "start_time": "2022-12-30T10:03:44.867Z"
   },
   {
    "duration": 248,
    "start_time": "2022-12-30T10:03:44.986Z"
   },
   {
    "duration": 34,
    "start_time": "2022-12-30T10:03:45.236Z"
   },
   {
    "duration": 3,
    "start_time": "2022-12-30T10:03:45.271Z"
   },
   {
    "duration": 29,
    "start_time": "2022-12-30T10:03:45.276Z"
   },
   {
    "duration": 43,
    "start_time": "2022-12-30T10:03:45.306Z"
   },
   {
    "duration": 167,
    "start_time": "2022-12-30T10:03:45.352Z"
   },
   {
    "duration": 13,
    "start_time": "2022-12-30T10:03:45.520Z"
   },
   {
    "duration": 281,
    "start_time": "2022-12-30T10:03:45.535Z"
   },
   {
    "duration": 2,
    "start_time": "2022-12-30T10:03:45.818Z"
   },
   {
    "duration": 118,
    "start_time": "2022-12-30T10:03:45.822Z"
   },
   {
    "duration": 19,
    "start_time": "2022-12-30T10:03:45.941Z"
   },
   {
    "duration": 5,
    "start_time": "2022-12-30T10:03:45.961Z"
   },
   {
    "duration": 6,
    "start_time": "2022-12-30T10:03:45.967Z"
   },
   {
    "duration": 25,
    "start_time": "2022-12-30T10:03:45.974Z"
   },
   {
    "duration": 39,
    "start_time": "2022-12-30T10:03:46.001Z"
   },
   {
    "duration": 7,
    "start_time": "2022-12-30T10:03:46.041Z"
   },
   {
    "duration": 7,
    "start_time": "2022-12-30T10:03:46.049Z"
   },
   {
    "duration": 13,
    "start_time": "2022-12-30T10:03:46.058Z"
   },
   {
    "duration": 30,
    "start_time": "2022-12-30T10:03:46.072Z"
   },
   {
    "duration": 18,
    "start_time": "2022-12-30T10:03:46.104Z"
   },
   {
    "duration": 10,
    "start_time": "2022-12-30T10:03:46.124Z"
   },
   {
    "duration": 167,
    "start_time": "2022-12-30T10:03:46.136Z"
   },
   {
    "duration": 8,
    "start_time": "2022-12-30T10:03:46.304Z"
   },
   {
    "duration": 173,
    "start_time": "2022-12-30T10:03:46.314Z"
   },
   {
    "duration": 102,
    "start_time": "2022-12-30T10:03:46.488Z"
   },
   {
    "duration": 146,
    "start_time": "2022-12-30T10:03:46.598Z"
   },
   {
    "duration": 94,
    "start_time": "2022-12-30T10:03:46.746Z"
   },
   {
    "duration": 16,
    "start_time": "2022-12-30T10:03:46.842Z"
   },
   {
    "duration": 398,
    "start_time": "2022-12-30T10:03:46.859Z"
   },
   {
    "duration": 48,
    "start_time": "2022-12-30T10:03:47.258Z"
   },
   {
    "duration": 122,
    "start_time": "2022-12-30T10:03:47.308Z"
   },
   {
    "duration": 69,
    "start_time": "2022-12-30T10:03:47.432Z"
   },
   {
    "duration": 32,
    "start_time": "2022-12-30T10:03:47.504Z"
   },
   {
    "duration": 61,
    "start_time": "2022-12-30T10:03:47.537Z"
   },
   {
    "duration": 6,
    "start_time": "2022-12-30T10:03:47.600Z"
   },
   {
    "duration": 18,
    "start_time": "2022-12-30T10:03:47.608Z"
   },
   {
    "duration": 1646,
    "start_time": "2023-01-01T19:18:09.296Z"
   },
   {
    "duration": 2860,
    "start_time": "2023-01-01T19:18:10.944Z"
   },
   {
    "duration": 23,
    "start_time": "2023-01-01T19:18:13.806Z"
   },
   {
    "duration": 27,
    "start_time": "2023-01-01T19:18:13.832Z"
   },
   {
    "duration": 74,
    "start_time": "2023-01-01T19:18:13.861Z"
   },
   {
    "duration": 20,
    "start_time": "2023-01-01T19:18:13.951Z"
   },
   {
    "duration": 133,
    "start_time": "2023-01-01T19:18:13.973Z"
   },
   {
    "duration": 359,
    "start_time": "2023-01-01T19:18:14.108Z"
   },
   {
    "duration": 64,
    "start_time": "2023-01-01T19:18:14.470Z"
   },
   {
    "duration": 3,
    "start_time": "2023-01-01T19:18:14.553Z"
   },
   {
    "duration": 26,
    "start_time": "2023-01-01T19:18:14.558Z"
   },
   {
    "duration": 73,
    "start_time": "2023-01-01T19:18:14.585Z"
   },
   {
    "duration": 225,
    "start_time": "2023-01-01T19:18:14.660Z"
   },
   {
    "duration": 19,
    "start_time": "2023-01-01T19:18:14.887Z"
   },
   {
    "duration": 378,
    "start_time": "2023-01-01T19:18:14.907Z"
   },
   {
    "duration": 3,
    "start_time": "2023-01-01T19:18:15.286Z"
   },
   {
    "duration": 135,
    "start_time": "2023-01-01T19:18:15.291Z"
   },
   {
    "duration": 34,
    "start_time": "2023-01-01T19:18:15.427Z"
   },
   {
    "duration": 6,
    "start_time": "2023-01-01T19:18:15.463Z"
   },
   {
    "duration": 7,
    "start_time": "2023-01-01T19:18:15.470Z"
   },
   {
    "duration": 12,
    "start_time": "2023-01-01T19:18:15.479Z"
   },
   {
    "duration": 71,
    "start_time": "2023-01-01T19:18:15.493Z"
   },
   {
    "duration": 13,
    "start_time": "2023-01-01T19:18:15.566Z"
   },
   {
    "duration": 9,
    "start_time": "2023-01-01T19:18:15.581Z"
   },
   {
    "duration": 27,
    "start_time": "2023-01-01T19:18:15.593Z"
   },
   {
    "duration": 37,
    "start_time": "2023-01-01T19:18:15.622Z"
   },
   {
    "duration": 33,
    "start_time": "2023-01-01T19:18:15.661Z"
   },
   {
    "duration": 14,
    "start_time": "2023-01-01T19:18:15.699Z"
   },
   {
    "duration": 249,
    "start_time": "2023-01-01T19:18:15.715Z"
   },
   {
    "duration": 11,
    "start_time": "2023-01-01T19:18:15.966Z"
   },
   {
    "duration": 233,
    "start_time": "2023-01-01T19:18:15.979Z"
   },
   {
    "duration": 138,
    "start_time": "2023-01-01T19:18:16.215Z"
   },
   {
    "duration": 177,
    "start_time": "2023-01-01T19:18:16.354Z"
   },
   {
    "duration": 118,
    "start_time": "2023-01-01T19:18:16.533Z"
   },
   {
    "duration": 28,
    "start_time": "2023-01-01T19:18:16.654Z"
   },
   {
    "duration": 518,
    "start_time": "2023-01-01T19:18:16.684Z"
   },
   {
    "duration": 64,
    "start_time": "2023-01-01T19:18:17.203Z"
   },
   {
    "duration": 223,
    "start_time": "2023-01-01T19:18:17.269Z"
   },
   {
    "duration": 58,
    "start_time": "2023-01-01T19:18:17.494Z"
   },
   {
    "duration": 97,
    "start_time": "2023-01-01T19:18:17.554Z"
   },
   {
    "duration": 8,
    "start_time": "2023-01-01T19:18:17.653Z"
   },
   {
    "duration": 8,
    "start_time": "2023-01-01T19:18:17.663Z"
   },
   {
    "duration": 16,
    "start_time": "2023-01-01T19:18:17.673Z"
   },
   {
    "duration": 44,
    "start_time": "2023-01-02T05:29:50.514Z"
   },
   {
    "duration": 1368,
    "start_time": "2023-01-02T05:29:56.343Z"
   },
   {
    "duration": 925,
    "start_time": "2023-01-02T05:29:57.713Z"
   },
   {
    "duration": 19,
    "start_time": "2023-01-02T05:29:58.639Z"
   },
   {
    "duration": 21,
    "start_time": "2023-01-02T05:29:58.660Z"
   },
   {
    "duration": 69,
    "start_time": "2023-01-02T05:29:58.683Z"
   },
   {
    "duration": 14,
    "start_time": "2023-01-02T05:29:58.754Z"
   },
   {
    "duration": 106,
    "start_time": "2023-01-02T05:29:58.770Z"
   },
   {
    "duration": 257,
    "start_time": "2023-01-02T05:29:58.877Z"
   },
   {
    "duration": 37,
    "start_time": "2023-01-02T05:29:59.136Z"
   },
   {
    "duration": 3,
    "start_time": "2023-01-02T05:29:59.176Z"
   },
   {
    "duration": 12,
    "start_time": "2023-01-02T05:29:59.181Z"
   },
   {
    "duration": 63,
    "start_time": "2023-01-02T05:29:59.195Z"
   },
   {
    "duration": 176,
    "start_time": "2023-01-02T05:29:59.260Z"
   },
   {
    "duration": 15,
    "start_time": "2023-01-02T05:29:59.438Z"
   },
   {
    "duration": 281,
    "start_time": "2023-01-02T05:29:59.455Z"
   },
   {
    "duration": 2,
    "start_time": "2023-01-02T05:29:59.738Z"
   },
   {
    "duration": 104,
    "start_time": "2023-01-02T05:29:59.742Z"
   },
   {
    "duration": 17,
    "start_time": "2023-01-02T05:29:59.848Z"
   },
   {
    "duration": 5,
    "start_time": "2023-01-02T05:29:59.867Z"
   },
   {
    "duration": 6,
    "start_time": "2023-01-02T05:29:59.874Z"
   },
   {
    "duration": 5,
    "start_time": "2023-01-02T05:29:59.882Z"
   },
   {
    "duration": 62,
    "start_time": "2023-01-02T05:29:59.888Z"
   },
   {
    "duration": 8,
    "start_time": "2023-01-02T05:29:59.952Z"
   },
   {
    "duration": 8,
    "start_time": "2023-01-02T05:29:59.962Z"
   },
   {
    "duration": 16,
    "start_time": "2023-01-02T05:29:59.972Z"
   },
   {
    "duration": 38,
    "start_time": "2023-01-02T05:29:59.990Z"
   },
   {
    "duration": 6,
    "start_time": "2023-01-02T05:30:00.030Z"
   },
   {
    "duration": 23,
    "start_time": "2023-01-02T05:30:00.039Z"
   },
   {
    "duration": 38,
    "start_time": "2023-01-02T05:30:00.064Z"
   },
   {
    "duration": 170,
    "start_time": "2023-01-02T05:30:00.103Z"
   },
   {
    "duration": 9,
    "start_time": "2023-01-02T05:30:00.275Z"
   },
   {
    "duration": 173,
    "start_time": "2023-01-02T05:30:00.285Z"
   },
   {
    "duration": 102,
    "start_time": "2023-01-02T05:30:00.460Z"
   },
   {
    "duration": 144,
    "start_time": "2023-01-02T05:30:00.564Z"
   },
   {
    "duration": 100,
    "start_time": "2023-01-02T05:30:00.710Z"
   },
   {
    "duration": 23,
    "start_time": "2023-01-02T05:30:00.812Z"
   },
   {
    "duration": 424,
    "start_time": "2023-01-02T05:30:00.837Z"
   },
   {
    "duration": 46,
    "start_time": "2023-01-02T05:30:01.263Z"
   },
   {
    "duration": 199,
    "start_time": "2023-01-02T05:30:01.322Z"
   },
   {
    "duration": 98,
    "start_time": "2023-01-02T05:30:01.523Z"
   },
   {
    "duration": 44,
    "start_time": "2023-01-02T05:30:01.624Z"
   },
   {
    "duration": 6,
    "start_time": "2023-01-02T05:30:01.722Z"
   },
   {
    "duration": 50,
    "start_time": "2023-01-02T05:30:01.729Z"
   },
   {
    "duration": 28,
    "start_time": "2023-01-02T05:30:01.781Z"
   },
   {
    "duration": 5,
    "start_time": "2023-01-02T05:45:37.906Z"
   },
   {
    "duration": 8,
    "start_time": "2023-01-02T05:45:40.894Z"
   },
   {
    "duration": 7,
    "start_time": "2023-01-02T05:45:55.146Z"
   },
   {
    "duration": 9,
    "start_time": "2023-01-02T05:45:56.954Z"
   },
   {
    "duration": 1128,
    "start_time": "2023-01-02T05:50:37.044Z"
   },
   {
    "duration": 657,
    "start_time": "2023-01-02T05:50:38.174Z"
   },
   {
    "duration": 18,
    "start_time": "2023-01-02T05:50:38.833Z"
   },
   {
    "duration": 40,
    "start_time": "2023-01-02T05:50:38.852Z"
   },
   {
    "duration": 76,
    "start_time": "2023-01-02T05:50:38.894Z"
   },
   {
    "duration": 15,
    "start_time": "2023-01-02T05:50:38.971Z"
   },
   {
    "duration": 106,
    "start_time": "2023-01-02T05:50:38.987Z"
   },
   {
    "duration": 245,
    "start_time": "2023-01-02T05:50:39.095Z"
   },
   {
    "duration": 35,
    "start_time": "2023-01-02T05:50:39.341Z"
   },
   {
    "duration": 3,
    "start_time": "2023-01-02T05:50:39.378Z"
   },
   {
    "duration": 24,
    "start_time": "2023-01-02T05:50:39.382Z"
   },
   {
    "duration": 52,
    "start_time": "2023-01-02T05:50:39.408Z"
   },
   {
    "duration": 172,
    "start_time": "2023-01-02T05:50:39.462Z"
   },
   {
    "duration": 16,
    "start_time": "2023-01-02T05:50:39.637Z"
   },
   {
    "duration": 287,
    "start_time": "2023-01-02T05:50:39.654Z"
   },
   {
    "duration": 2,
    "start_time": "2023-01-02T05:50:39.942Z"
   },
   {
    "duration": 108,
    "start_time": "2023-01-02T05:50:39.945Z"
   },
   {
    "duration": 17,
    "start_time": "2023-01-02T05:50:40.054Z"
   },
   {
    "duration": 15,
    "start_time": "2023-01-02T05:50:40.073Z"
   },
   {
    "duration": 8,
    "start_time": "2023-01-02T05:50:40.090Z"
   },
   {
    "duration": 9,
    "start_time": "2023-01-02T05:50:40.099Z"
   },
   {
    "duration": 45,
    "start_time": "2023-01-02T05:50:40.110Z"
   },
   {
    "duration": 8,
    "start_time": "2023-01-02T05:50:40.156Z"
   },
   {
    "duration": 9,
    "start_time": "2023-01-02T05:50:40.165Z"
   },
   {
    "duration": 20,
    "start_time": "2023-01-02T05:50:40.175Z"
   },
   {
    "duration": 25,
    "start_time": "2023-01-02T05:50:40.197Z"
   },
   {
    "duration": 19,
    "start_time": "2023-01-02T05:50:40.224Z"
   },
   {
    "duration": 10,
    "start_time": "2023-01-02T05:50:40.244Z"
   },
   {
    "duration": 181,
    "start_time": "2023-01-02T05:50:40.255Z"
   },
   {
    "duration": 9,
    "start_time": "2023-01-02T05:50:40.437Z"
   },
   {
    "duration": 174,
    "start_time": "2023-01-02T05:50:40.448Z"
   },
   {
    "duration": 102,
    "start_time": "2023-01-02T05:50:40.624Z"
   },
   {
    "duration": 135,
    "start_time": "2023-01-02T05:50:40.728Z"
   },
   {
    "duration": 99,
    "start_time": "2023-01-02T05:50:40.864Z"
   },
   {
    "duration": 16,
    "start_time": "2023-01-02T05:50:40.965Z"
   },
   {
    "duration": 397,
    "start_time": "2023-01-02T05:50:40.983Z"
   },
   {
    "duration": 48,
    "start_time": "2023-01-02T05:50:41.381Z"
   },
   {
    "duration": 196,
    "start_time": "2023-01-02T05:50:41.431Z"
   },
   {
    "duration": 31,
    "start_time": "2023-01-02T05:50:41.629Z"
   },
   {
    "duration": 83,
    "start_time": "2023-01-02T05:50:41.662Z"
   },
   {
    "duration": 5,
    "start_time": "2023-01-02T05:50:41.748Z"
   },
   {
    "duration": 34,
    "start_time": "2023-01-02T05:50:41.755Z"
   },
   {
    "duration": 26,
    "start_time": "2023-01-02T05:50:41.791Z"
   },
   {
    "duration": 57,
    "start_time": "2023-01-03T10:10:25.808Z"
   },
   {
    "duration": 1361,
    "start_time": "2023-01-03T10:10:30.722Z"
   },
   {
    "duration": 925,
    "start_time": "2023-01-03T10:10:35.035Z"
   },
   {
    "duration": 667,
    "start_time": "2023-01-03T10:10:54.772Z"
   },
   {
    "duration": 21,
    "start_time": "2023-01-03T10:10:55.837Z"
   },
   {
    "duration": 732,
    "start_time": "2023-01-03T10:13:18.728Z"
   },
   {
    "duration": 16,
    "start_time": "2023-01-03T10:13:22.374Z"
   },
   {
    "duration": 21,
    "start_time": "2023-01-03T10:13:23.315Z"
   },
   {
    "duration": 82,
    "start_time": "2023-01-03T10:13:28.858Z"
   },
   {
    "duration": 16,
    "start_time": "2023-01-03T10:13:38.387Z"
   },
   {
    "duration": 89,
    "start_time": "2023-01-03T10:15:28.912Z"
   },
   {
    "duration": 235,
    "start_time": "2023-01-03T10:50:18.353Z"
   },
   {
    "duration": 27,
    "start_time": "2023-01-03T10:50:29.066Z"
   },
   {
    "duration": 3,
    "start_time": "2023-01-03T10:50:39.338Z"
   },
   {
    "duration": 8,
    "start_time": "2023-01-03T10:50:40.314Z"
   },
   {
    "duration": 53,
    "start_time": "2023-01-03T10:51:11.524Z"
   },
   {
    "duration": 196,
    "start_time": "2023-01-03T10:51:18.988Z"
   },
   {
    "duration": 19,
    "start_time": "2023-01-03T10:51:25.148Z"
   },
   {
    "duration": 3,
    "start_time": "2023-01-03T10:52:36.530Z"
   },
   {
    "duration": 221,
    "start_time": "2023-01-03T10:52:38.323Z"
   },
   {
    "duration": 27,
    "start_time": "2023-01-03T10:52:39.601Z"
   },
   {
    "duration": 2,
    "start_time": "2023-01-03T10:52:41.218Z"
   },
   {
    "duration": 7,
    "start_time": "2023-01-03T10:52:41.795Z"
   },
   {
    "duration": 38,
    "start_time": "2023-01-03T10:52:42.374Z"
   },
   {
    "duration": 143,
    "start_time": "2023-01-03T10:52:42.949Z"
   },
   {
    "duration": 16,
    "start_time": "2023-01-03T10:52:43.418Z"
   },
   {
    "duration": 264,
    "start_time": "2023-01-03T10:53:00.860Z"
   },
   {
    "duration": 2,
    "start_time": "2023-01-03T10:53:01.964Z"
   },
   {
    "duration": 102,
    "start_time": "2023-01-03T10:53:03.178Z"
   },
   {
    "duration": 19,
    "start_time": "2023-01-03T10:53:28.538Z"
   },
   {
    "duration": 6,
    "start_time": "2023-01-03T10:53:30.739Z"
   },
   {
    "duration": 4,
    "start_time": "2023-01-03T10:53:33.723Z"
   },
   {
    "duration": 4,
    "start_time": "2023-01-03T10:53:35.417Z"
   },
   {
    "duration": 34,
    "start_time": "2023-01-03T11:02:04.732Z"
   },
   {
    "duration": 8,
    "start_time": "2023-01-03T11:02:06.555Z"
   },
   {
    "duration": 6,
    "start_time": "2023-01-03T11:02:45.716Z"
   },
   {
    "duration": 16,
    "start_time": "2023-01-03T11:02:47.158Z"
   },
   {
    "duration": 9,
    "start_time": "2023-01-03T11:02:50.140Z"
   },
   {
    "duration": 20,
    "start_time": "2023-01-03T11:03:01.213Z"
   },
   {
    "duration": 11,
    "start_time": "2023-01-03T11:03:08.868Z"
   },
   {
    "duration": 159,
    "start_time": "2023-01-03T11:03:13.125Z"
   },
   {
    "duration": 9,
    "start_time": "2023-01-03T11:04:03.325Z"
   },
   {
    "duration": 145,
    "start_time": "2023-01-03T11:09:15.774Z"
   },
   {
    "duration": 6,
    "start_time": "2023-01-03T11:26:38.816Z"
   },
   {
    "duration": 155,
    "start_time": "2023-01-03T11:26:50.843Z"
   },
   {
    "duration": 10,
    "start_time": "2023-01-03T11:26:52.841Z"
   },
   {
    "duration": 205,
    "start_time": "2023-01-03T11:26:55.285Z"
   },
   {
    "duration": 146,
    "start_time": "2023-01-03T11:26:57.309Z"
   },
   {
    "duration": 5,
    "start_time": "2023-01-03T11:26:58.659Z"
   },
   {
    "duration": 8,
    "start_time": "2023-01-03T11:27:20.163Z"
   },
   {
    "duration": 50,
    "start_time": "2023-01-03T11:44:40.163Z"
   },
   {
    "duration": 125,
    "start_time": "2023-01-03T12:07:44.264Z"
   },
   {
    "duration": 23,
    "start_time": "2023-01-03T12:12:21.069Z"
   },
   {
    "duration": 22,
    "start_time": "2023-01-03T12:12:40.442Z"
   },
   {
    "duration": 17,
    "start_time": "2023-01-03T12:14:09.283Z"
   },
   {
    "duration": 50,
    "start_time": "2023-01-03T12:17:47.718Z"
   },
   {
    "duration": 47,
    "start_time": "2023-01-03T12:17:57.307Z"
   },
   {
    "duration": 51,
    "start_time": "2023-01-03T12:18:13.582Z"
   },
   {
    "duration": 48,
    "start_time": "2023-01-03T12:18:19.515Z"
   },
   {
    "duration": 44,
    "start_time": "2023-01-03T12:18:24.291Z"
   },
   {
    "duration": 18,
    "start_time": "2023-01-03T12:18:37.916Z"
   },
   {
    "duration": 18,
    "start_time": "2023-01-03T12:18:44.475Z"
   },
   {
    "duration": 64,
    "start_time": "2023-01-03T12:19:21.422Z"
   },
   {
    "duration": 228,
    "start_time": "2023-01-03T12:19:59.977Z"
   },
   {
    "duration": 260,
    "start_time": "2023-01-03T12:20:25.572Z"
   },
   {
    "duration": 54,
    "start_time": "2023-01-03T12:20:46.463Z"
   },
   {
    "duration": 5,
    "start_time": "2023-01-03T12:37:33.647Z"
   },
   {
    "duration": 58,
    "start_time": "2023-01-03T12:37:37.783Z"
   },
   {
    "duration": 121,
    "start_time": "2023-01-03T12:38:04.424Z"
   },
   {
    "duration": 15,
    "start_time": "2023-01-03T12:38:31.447Z"
   },
   {
    "duration": 142,
    "start_time": "2023-01-03T12:38:47.811Z"
   },
   {
    "duration": 116,
    "start_time": "2023-01-03T12:39:40.949Z"
   },
   {
    "duration": 14,
    "start_time": "2023-01-03T12:42:08.304Z"
   },
   {
    "duration": 86,
    "start_time": "2023-01-03T12:42:13.256Z"
   },
   {
    "duration": 21,
    "start_time": "2023-01-03T12:42:13.889Z"
   },
   {
    "duration": 470,
    "start_time": "2023-01-03T12:42:14.473Z"
   },
   {
    "duration": 42,
    "start_time": "2023-01-03T12:42:17.097Z"
   },
   {
    "duration": 16,
    "start_time": "2023-01-03T12:42:18.279Z"
   },
   {
    "duration": 52,
    "start_time": "2023-01-03T12:51:03.489Z"
   },
   {
    "duration": 6,
    "start_time": "2023-01-03T12:52:40.815Z"
   },
   {
    "duration": 4,
    "start_time": "2023-01-03T12:53:43.819Z"
   },
   {
    "duration": 7,
    "start_time": "2023-01-03T12:54:34.130Z"
   },
   {
    "duration": 14,
    "start_time": "2023-01-03T12:55:46.515Z"
   },
   {
    "duration": 21,
    "start_time": "2023-01-03T12:56:00.302Z"
   },
   {
    "duration": 52,
    "start_time": "2023-01-03T12:58:48.444Z"
   },
   {
    "duration": 106,
    "start_time": "2023-01-03T12:58:55.168Z"
   },
   {
    "duration": 17,
    "start_time": "2023-01-03T12:58:55.793Z"
   },
   {
    "duration": 390,
    "start_time": "2023-01-03T12:58:56.442Z"
   },
   {
    "duration": 43,
    "start_time": "2023-01-03T12:59:12.234Z"
   },
   {
    "duration": 16,
    "start_time": "2023-01-03T12:59:14.594Z"
   },
   {
    "duration": 86,
    "start_time": "2023-01-03T12:59:57.781Z"
   },
   {
    "duration": 17,
    "start_time": "2023-01-03T12:59:58.290Z"
   },
   {
    "duration": 396,
    "start_time": "2023-01-03T12:59:58.802Z"
   },
   {
    "duration": 39,
    "start_time": "2023-01-03T12:59:59.682Z"
   },
   {
    "duration": 15,
    "start_time": "2023-01-03T13:00:00.221Z"
   },
   {
    "duration": 31,
    "start_time": "2023-01-03T13:00:11.795Z"
   },
   {
    "duration": 30,
    "start_time": "2023-01-03T13:00:44.265Z"
   },
   {
    "duration": 6,
    "start_time": "2023-01-03T13:00:46.110Z"
   },
   {
    "duration": 5,
    "start_time": "2023-01-03T13:00:56.199Z"
   },
   {
    "duration": 26,
    "start_time": "2023-01-03T13:57:45.911Z"
   },
   {
    "duration": 24,
    "start_time": "2023-01-03T13:57:58.031Z"
   },
   {
    "duration": 4,
    "start_time": "2023-01-03T14:00:14.871Z"
   },
   {
    "duration": 7,
    "start_time": "2023-01-03T14:00:14.948Z"
   },
   {
    "duration": 12,
    "start_time": "2023-01-03T14:02:23.006Z"
   },
   {
    "duration": 10,
    "start_time": "2023-01-03T14:03:08.631Z"
   },
   {
    "duration": 10,
    "start_time": "2023-01-03T14:04:23.961Z"
   },
   {
    "duration": 32,
    "start_time": "2023-01-03T14:04:32.973Z"
   },
   {
    "duration": 6,
    "start_time": "2023-01-03T14:04:33.447Z"
   },
   {
    "duration": 24,
    "start_time": "2023-01-03T14:04:33.842Z"
   },
   {
    "duration": 10,
    "start_time": "2023-01-03T14:04:34.304Z"
   },
   {
    "duration": 4,
    "start_time": "2023-01-03T14:04:34.738Z"
   },
   {
    "duration": 12,
    "start_time": "2023-01-03T14:04:35.188Z"
   },
   {
    "duration": 5,
    "start_time": "2023-01-03T14:04:36.169Z"
   },
   {
    "duration": 11,
    "start_time": "2023-01-03T14:04:38.510Z"
   },
   {
    "duration": 4,
    "start_time": "2023-01-03T14:04:52.121Z"
   },
   {
    "duration": 9,
    "start_time": "2023-01-03T14:04:52.703Z"
   },
   {
    "duration": 8,
    "start_time": "2023-01-03T14:04:59.823Z"
   },
   {
    "duration": 5,
    "start_time": "2023-01-03T14:06:33.985Z"
   },
   {
    "duration": 8,
    "start_time": "2023-01-03T14:06:34.712Z"
   },
   {
    "duration": 40,
    "start_time": "2023-01-03T14:13:37.901Z"
   },
   {
    "duration": 33,
    "start_time": "2023-01-03T14:14:29.315Z"
   },
   {
    "duration": 7,
    "start_time": "2023-01-03T14:14:29.932Z"
   },
   {
    "duration": 6,
    "start_time": "2023-01-03T14:15:25.219Z"
   },
   {
    "duration": 11,
    "start_time": "2023-01-03T14:15:25.301Z"
   },
   {
    "duration": 39,
    "start_time": "2023-01-03T14:18:37.474Z"
   },
   {
    "duration": 782,
    "start_time": "2023-01-03T14:24:09.643Z"
   },
   {
    "duration": 796,
    "start_time": "2023-01-03T14:24:54.196Z"
   },
   {
    "duration": 7,
    "start_time": "2023-01-03T14:25:14.243Z"
   },
   {
    "duration": 8,
    "start_time": "2023-01-03T14:25:35.526Z"
   },
   {
    "duration": 8,
    "start_time": "2023-01-03T14:25:56.628Z"
   },
   {
    "duration": 7,
    "start_time": "2023-01-03T14:26:14.603Z"
   },
   {
    "duration": 7,
    "start_time": "2023-01-03T14:26:22.564Z"
   },
   {
    "duration": 8,
    "start_time": "2023-01-03T14:26:34.413Z"
   },
   {
    "duration": 10,
    "start_time": "2023-01-03T14:26:41.844Z"
   },
   {
    "duration": 12,
    "start_time": "2023-01-03T14:26:45.316Z"
   },
   {
    "duration": 12,
    "start_time": "2023-01-03T14:26:50.164Z"
   },
   {
    "duration": 9,
    "start_time": "2023-01-03T14:27:47.997Z"
   },
   {
    "duration": 5,
    "start_time": "2023-01-03T14:27:50.637Z"
   },
   {
    "duration": 10,
    "start_time": "2023-01-03T14:27:51.507Z"
   },
   {
    "duration": 4,
    "start_time": "2023-01-03T14:27:59.645Z"
   },
   {
    "duration": 10,
    "start_time": "2023-01-03T14:28:01.068Z"
   },
   {
    "duration": 56,
    "start_time": "2023-01-03T14:33:39.972Z"
   },
   {
    "duration": 777,
    "start_time": "2023-01-03T14:36:01.502Z"
   },
   {
    "duration": 13,
    "start_time": "2023-01-03T14:36:07.974Z"
   },
   {
    "duration": 12,
    "start_time": "2023-01-03T14:46:40.232Z"
   },
   {
    "duration": 122,
    "start_time": "2023-01-03T14:47:03.709Z"
   },
   {
    "duration": 9,
    "start_time": "2023-01-03T15:02:08.859Z"
   },
   {
    "duration": 146,
    "start_time": "2023-01-03T15:02:48.100Z"
   },
   {
    "duration": 13,
    "start_time": "2023-01-03T15:03:11.669Z"
   },
   {
    "duration": 8,
    "start_time": "2023-01-03T15:03:29.002Z"
   },
   {
    "duration": 8,
    "start_time": "2023-01-03T15:03:32.538Z"
   },
   {
    "duration": 9,
    "start_time": "2023-01-03T15:03:57.074Z"
   },
   {
    "duration": 146,
    "start_time": "2023-01-03T15:04:13.523Z"
   },
   {
    "duration": 59,
    "start_time": "2023-01-03T15:16:07.665Z"
   },
   {
    "duration": 1134,
    "start_time": "2023-01-03T15:16:31.242Z"
   },
   {
    "duration": 729,
    "start_time": "2023-01-03T15:16:32.377Z"
   },
   {
    "duration": 20,
    "start_time": "2023-01-03T15:16:33.107Z"
   },
   {
    "duration": 40,
    "start_time": "2023-01-03T15:16:33.129Z"
   },
   {
    "duration": 61,
    "start_time": "2023-01-03T15:16:33.171Z"
   },
   {
    "duration": 15,
    "start_time": "2023-01-03T15:16:33.233Z"
   },
   {
    "duration": 16,
    "start_time": "2023-01-03T15:16:33.250Z"
   },
   {
    "duration": 265,
    "start_time": "2023-01-03T15:16:33.267Z"
   },
   {
    "duration": 33,
    "start_time": "2023-01-03T15:16:33.534Z"
   },
   {
    "duration": 8,
    "start_time": "2023-01-03T15:16:33.569Z"
   },
   {
    "duration": 23,
    "start_time": "2023-01-03T15:16:33.579Z"
   },
   {
    "duration": 56,
    "start_time": "2023-01-03T15:16:33.604Z"
   },
   {
    "duration": 160,
    "start_time": "2023-01-03T15:16:33.662Z"
   },
   {
    "duration": 15,
    "start_time": "2023-01-03T15:16:33.824Z"
   },
   {
    "duration": 273,
    "start_time": "2023-01-03T15:16:33.841Z"
   },
   {
    "duration": 5,
    "start_time": "2023-01-03T15:16:34.116Z"
   },
   {
    "duration": 127,
    "start_time": "2023-01-03T15:16:34.123Z"
   },
   {
    "duration": 17,
    "start_time": "2023-01-03T15:16:34.251Z"
   },
   {
    "duration": 5,
    "start_time": "2023-01-03T15:16:34.269Z"
   },
   {
    "duration": 13,
    "start_time": "2023-01-03T15:16:34.276Z"
   },
   {
    "duration": 20,
    "start_time": "2023-01-03T15:16:34.290Z"
   },
   {
    "duration": 65,
    "start_time": "2023-01-03T15:16:34.311Z"
   },
   {
    "duration": 22,
    "start_time": "2023-01-03T15:16:34.377Z"
   },
   {
    "duration": 12,
    "start_time": "2023-01-03T15:16:34.400Z"
   },
   {
    "duration": 28,
    "start_time": "2023-01-03T15:16:34.413Z"
   },
   {
    "duration": 11,
    "start_time": "2023-01-03T15:16:34.442Z"
   },
   {
    "duration": 30,
    "start_time": "2023-01-03T15:16:34.455Z"
   },
   {
    "duration": 10,
    "start_time": "2023-01-03T15:16:34.489Z"
   },
   {
    "duration": 172,
    "start_time": "2023-01-03T15:16:34.500Z"
   },
   {
    "duration": 8,
    "start_time": "2023-01-03T15:16:34.673Z"
   },
   {
    "duration": 168,
    "start_time": "2023-01-03T15:16:34.683Z"
   },
   {
    "duration": 144,
    "start_time": "2023-01-03T15:16:34.853Z"
   },
   {
    "duration": 100,
    "start_time": "2023-01-03T15:16:34.998Z"
   },
   {
    "duration": 33,
    "start_time": "2023-01-03T15:16:35.100Z"
   },
   {
    "duration": 20,
    "start_time": "2023-01-03T15:16:35.134Z"
   },
   {
    "duration": 421,
    "start_time": "2023-01-03T15:16:35.156Z"
   },
   {
    "duration": 237,
    "start_time": "2023-01-03T15:16:35.579Z"
   },
   {
    "duration": 0,
    "start_time": "2023-01-03T15:16:35.818Z"
   },
   {
    "duration": 0,
    "start_time": "2023-01-03T15:16:35.821Z"
   },
   {
    "duration": 0,
    "start_time": "2023-01-03T15:16:35.822Z"
   },
   {
    "duration": 0,
    "start_time": "2023-01-03T15:16:35.823Z"
   },
   {
    "duration": 0,
    "start_time": "2023-01-03T15:16:35.824Z"
   },
   {
    "duration": 0,
    "start_time": "2023-01-03T15:16:35.825Z"
   },
   {
    "duration": 0,
    "start_time": "2023-01-03T15:16:35.826Z"
   },
   {
    "duration": 0,
    "start_time": "2023-01-03T15:16:35.828Z"
   },
   {
    "duration": 0,
    "start_time": "2023-01-03T15:16:35.829Z"
   },
   {
    "duration": 0,
    "start_time": "2023-01-03T15:16:35.830Z"
   },
   {
    "duration": 0,
    "start_time": "2023-01-03T15:16:35.831Z"
   },
   {
    "duration": 127,
    "start_time": "2023-01-03T15:17:43.200Z"
   },
   {
    "duration": 86,
    "start_time": "2023-01-03T15:17:58.653Z"
   },
   {
    "duration": 17,
    "start_time": "2023-01-03T15:17:59.306Z"
   },
   {
    "duration": 393,
    "start_time": "2023-01-03T15:17:59.514Z"
   },
   {
    "duration": 44,
    "start_time": "2023-01-03T15:18:01.436Z"
   },
   {
    "duration": 17,
    "start_time": "2023-01-03T15:18:01.835Z"
   },
   {
    "duration": 1172,
    "start_time": "2023-01-03T15:18:08.611Z"
   },
   {
    "duration": 770,
    "start_time": "2023-01-03T15:18:09.785Z"
   },
   {
    "duration": 21,
    "start_time": "2023-01-03T15:18:10.557Z"
   },
   {
    "duration": 22,
    "start_time": "2023-01-03T15:18:10.580Z"
   },
   {
    "duration": 49,
    "start_time": "2023-01-03T15:18:10.603Z"
   },
   {
    "duration": 15,
    "start_time": "2023-01-03T15:18:10.654Z"
   },
   {
    "duration": 10,
    "start_time": "2023-01-03T15:18:10.671Z"
   },
   {
    "duration": 259,
    "start_time": "2023-01-03T15:18:10.683Z"
   },
   {
    "duration": 33,
    "start_time": "2023-01-03T15:18:10.944Z"
   },
   {
    "duration": 3,
    "start_time": "2023-01-03T15:18:10.981Z"
   },
   {
    "duration": 14,
    "start_time": "2023-01-03T15:18:10.985Z"
   },
   {
    "duration": 56,
    "start_time": "2023-01-03T15:18:11.001Z"
   },
   {
    "duration": 164,
    "start_time": "2023-01-03T15:18:11.059Z"
   },
   {
    "duration": 16,
    "start_time": "2023-01-03T15:18:11.225Z"
   },
   {
    "duration": 297,
    "start_time": "2023-01-03T15:18:11.243Z"
   },
   {
    "duration": 2,
    "start_time": "2023-01-03T15:18:11.542Z"
   },
   {
    "duration": 123,
    "start_time": "2023-01-03T15:18:11.546Z"
   },
   {
    "duration": 25,
    "start_time": "2023-01-03T15:18:11.670Z"
   },
   {
    "duration": 6,
    "start_time": "2023-01-03T15:18:11.697Z"
   },
   {
    "duration": 21,
    "start_time": "2023-01-03T15:18:11.704Z"
   },
   {
    "duration": 12,
    "start_time": "2023-01-03T15:18:11.726Z"
   },
   {
    "duration": 41,
    "start_time": "2023-01-03T15:18:11.740Z"
   },
   {
    "duration": 9,
    "start_time": "2023-01-03T15:18:11.783Z"
   },
   {
    "duration": 23,
    "start_time": "2023-01-03T15:18:11.794Z"
   },
   {
    "duration": 20,
    "start_time": "2023-01-03T15:18:11.821Z"
   },
   {
    "duration": 7,
    "start_time": "2023-01-03T15:18:11.843Z"
   },
   {
    "duration": 25,
    "start_time": "2023-01-03T15:18:11.851Z"
   },
   {
    "duration": 12,
    "start_time": "2023-01-03T15:18:11.879Z"
   },
   {
    "duration": 227,
    "start_time": "2023-01-03T15:18:11.894Z"
   },
   {
    "duration": 9,
    "start_time": "2023-01-03T15:18:12.122Z"
   },
   {
    "duration": 192,
    "start_time": "2023-01-03T15:18:12.133Z"
   },
   {
    "duration": 151,
    "start_time": "2023-01-03T15:18:12.326Z"
   },
   {
    "duration": 110,
    "start_time": "2023-01-03T15:18:12.479Z"
   },
   {
    "duration": 35,
    "start_time": "2023-01-03T15:18:12.591Z"
   },
   {
    "duration": 18,
    "start_time": "2023-01-03T15:18:12.627Z"
   },
   {
    "duration": 407,
    "start_time": "2023-01-03T15:18:12.647Z"
   },
   {
    "duration": 239,
    "start_time": "2023-01-03T15:18:13.056Z"
   },
   {
    "duration": 109,
    "start_time": "2023-01-03T15:18:13.296Z"
   },
   {
    "duration": 22,
    "start_time": "2023-01-03T15:18:13.407Z"
   },
   {
    "duration": 400,
    "start_time": "2023-01-03T15:18:13.431Z"
   },
   {
    "duration": 40,
    "start_time": "2023-01-03T15:18:13.833Z"
   },
   {
    "duration": 15,
    "start_time": "2023-01-03T15:18:13.875Z"
   },
   {
    "duration": 50,
    "start_time": "2023-01-03T15:18:13.891Z"
   },
   {
    "duration": 33,
    "start_time": "2023-01-03T15:18:13.942Z"
   },
   {
    "duration": 7,
    "start_time": "2023-01-03T15:18:13.976Z"
   },
   {
    "duration": 15,
    "start_time": "2023-01-03T15:18:13.984Z"
   },
   {
    "duration": 900,
    "start_time": "2023-01-03T15:18:14.001Z"
   },
   {
    "duration": 0,
    "start_time": "2023-01-03T15:18:14.902Z"
   },
   {
    "duration": 732,
    "start_time": "2023-01-03T15:19:54.991Z"
   },
   {
    "duration": 737,
    "start_time": "2023-01-03T15:20:08.357Z"
   },
   {
    "duration": 855,
    "start_time": "2023-01-03T15:21:22.484Z"
   },
   {
    "duration": 842,
    "start_time": "2023-01-03T15:21:58.822Z"
   },
   {
    "duration": 4,
    "start_time": "2023-01-03T15:22:21.798Z"
   },
   {
    "duration": 4,
    "start_time": "2023-01-03T15:22:32.509Z"
   },
   {
    "duration": 846,
    "start_time": "2023-01-03T15:22:40.252Z"
   },
   {
    "duration": 10,
    "start_time": "2023-01-03T15:23:53.930Z"
   },
   {
    "duration": 44,
    "start_time": "2023-01-03T15:24:08.217Z"
   },
   {
    "duration": 29,
    "start_time": "2023-01-03T15:24:13.473Z"
   },
   {
    "duration": 5,
    "start_time": "2023-01-03T15:24:20.869Z"
   },
   {
    "duration": 4,
    "start_time": "2023-01-03T15:24:23.341Z"
   },
   {
    "duration": 10,
    "start_time": "2023-01-03T15:24:27.149Z"
   },
   {
    "duration": 14,
    "start_time": "2023-01-03T15:24:46.471Z"
   },
   {
    "duration": 12,
    "start_time": "2023-01-03T15:25:27.550Z"
   },
   {
    "duration": 1148,
    "start_time": "2023-01-03T15:25:56.737Z"
   },
   {
    "duration": 784,
    "start_time": "2023-01-03T15:25:57.887Z"
   },
   {
    "duration": 20,
    "start_time": "2023-01-03T15:25:58.673Z"
   },
   {
    "duration": 20,
    "start_time": "2023-01-03T15:25:58.695Z"
   },
   {
    "duration": 50,
    "start_time": "2023-01-03T15:25:58.716Z"
   },
   {
    "duration": 15,
    "start_time": "2023-01-03T15:25:58.767Z"
   },
   {
    "duration": 2,
    "start_time": "2023-01-03T15:25:58.784Z"
   },
   {
    "duration": 268,
    "start_time": "2023-01-03T15:25:58.787Z"
   },
   {
    "duration": 33,
    "start_time": "2023-01-03T15:25:59.056Z"
   },
   {
    "duration": 3,
    "start_time": "2023-01-03T15:25:59.092Z"
   },
   {
    "duration": 30,
    "start_time": "2023-01-03T15:25:59.096Z"
   },
   {
    "duration": 40,
    "start_time": "2023-01-03T15:25:59.127Z"
   },
   {
    "duration": 261,
    "start_time": "2023-01-03T15:25:59.169Z"
   },
   {
    "duration": 14,
    "start_time": "2023-01-03T15:25:59.432Z"
   },
   {
    "duration": 299,
    "start_time": "2023-01-03T15:25:59.447Z"
   },
   {
    "duration": 2,
    "start_time": "2023-01-03T15:25:59.748Z"
   },
   {
    "duration": 113,
    "start_time": "2023-01-03T15:25:59.751Z"
   },
   {
    "duration": 18,
    "start_time": "2023-01-03T15:25:59.865Z"
   },
   {
    "duration": 11,
    "start_time": "2023-01-03T15:25:59.885Z"
   },
   {
    "duration": 12,
    "start_time": "2023-01-03T15:25:59.897Z"
   },
   {
    "duration": 14,
    "start_time": "2023-01-03T15:25:59.910Z"
   },
   {
    "duration": 36,
    "start_time": "2023-01-03T15:25:59.925Z"
   },
   {
    "duration": 7,
    "start_time": "2023-01-03T15:25:59.963Z"
   },
   {
    "duration": 11,
    "start_time": "2023-01-03T15:25:59.971Z"
   },
   {
    "duration": 15,
    "start_time": "2023-01-03T15:25:59.984Z"
   },
   {
    "duration": 26,
    "start_time": "2023-01-03T15:26:00.000Z"
   },
   {
    "duration": 19,
    "start_time": "2023-01-03T15:26:00.027Z"
   },
   {
    "duration": 10,
    "start_time": "2023-01-03T15:26:00.049Z"
   },
   {
    "duration": 178,
    "start_time": "2023-01-03T15:26:00.060Z"
   },
   {
    "duration": 9,
    "start_time": "2023-01-03T15:26:00.239Z"
   },
   {
    "duration": 185,
    "start_time": "2023-01-03T15:26:00.249Z"
   },
   {
    "duration": 151,
    "start_time": "2023-01-03T15:26:00.435Z"
   },
   {
    "duration": 111,
    "start_time": "2023-01-03T15:26:00.588Z"
   },
   {
    "duration": 28,
    "start_time": "2023-01-03T15:26:00.701Z"
   },
   {
    "duration": 27,
    "start_time": "2023-01-03T15:26:00.731Z"
   },
   {
    "duration": 394,
    "start_time": "2023-01-03T15:26:00.760Z"
   },
   {
    "duration": 213,
    "start_time": "2023-01-03T15:26:01.155Z"
   },
   {
    "duration": 98,
    "start_time": "2023-01-03T15:26:01.369Z"
   },
   {
    "duration": 21,
    "start_time": "2023-01-03T15:26:01.468Z"
   },
   {
    "duration": 453,
    "start_time": "2023-01-03T15:26:01.492Z"
   },
   {
    "duration": 53,
    "start_time": "2023-01-03T15:26:01.947Z"
   },
   {
    "duration": 38,
    "start_time": "2023-01-03T15:26:02.002Z"
   },
   {
    "duration": 37,
    "start_time": "2023-01-03T15:26:02.042Z"
   },
   {
    "duration": 56,
    "start_time": "2023-01-03T15:26:02.081Z"
   },
   {
    "duration": 7,
    "start_time": "2023-01-03T15:26:02.139Z"
   },
   {
    "duration": 8,
    "start_time": "2023-01-03T15:26:02.148Z"
   },
   {
    "duration": 17,
    "start_time": "2023-01-03T15:26:02.158Z"
   },
   {
    "duration": 14,
    "start_time": "2023-01-03T15:26:02.177Z"
   },
   {
    "duration": 1191,
    "start_time": "2023-01-03T18:38:30.476Z"
   },
   {
    "duration": 1208,
    "start_time": "2023-01-03T18:38:31.669Z"
   },
   {
    "duration": 23,
    "start_time": "2023-01-03T18:38:32.879Z"
   },
   {
    "duration": 38,
    "start_time": "2023-01-03T18:38:32.904Z"
   },
   {
    "duration": 57,
    "start_time": "2023-01-03T18:38:32.945Z"
   },
   {
    "duration": 37,
    "start_time": "2023-01-03T18:38:33.004Z"
   },
   {
    "duration": 15,
    "start_time": "2023-01-03T18:38:33.043Z"
   },
   {
    "duration": 304,
    "start_time": "2023-01-03T18:38:33.060Z"
   },
   {
    "duration": 38,
    "start_time": "2023-01-03T18:38:33.366Z"
   },
   {
    "duration": 4,
    "start_time": "2023-01-03T18:38:33.406Z"
   },
   {
    "duration": 29,
    "start_time": "2023-01-03T18:38:33.411Z"
   },
   {
    "duration": 52,
    "start_time": "2023-01-03T18:38:33.442Z"
   },
   {
    "duration": 211,
    "start_time": "2023-01-03T18:38:33.496Z"
   },
   {
    "duration": 35,
    "start_time": "2023-01-03T18:38:33.710Z"
   },
   {
    "duration": 337,
    "start_time": "2023-01-03T18:38:33.746Z"
   },
   {
    "duration": 3,
    "start_time": "2023-01-03T18:38:34.084Z"
   },
   {
    "duration": 129,
    "start_time": "2023-01-03T18:38:34.088Z"
   },
   {
    "duration": 24,
    "start_time": "2023-01-03T18:38:34.219Z"
   },
   {
    "duration": 5,
    "start_time": "2023-01-03T18:38:34.245Z"
   },
   {
    "duration": 16,
    "start_time": "2023-01-03T18:38:34.252Z"
   },
   {
    "duration": 10,
    "start_time": "2023-01-03T18:38:34.269Z"
   },
   {
    "duration": 61,
    "start_time": "2023-01-03T18:38:34.281Z"
   },
   {
    "duration": 10,
    "start_time": "2023-01-03T18:38:34.343Z"
   },
   {
    "duration": 13,
    "start_time": "2023-01-03T18:38:34.355Z"
   },
   {
    "duration": 26,
    "start_time": "2023-01-03T18:38:34.369Z"
   },
   {
    "duration": 8,
    "start_time": "2023-01-03T18:38:34.397Z"
   },
   {
    "duration": 48,
    "start_time": "2023-01-03T18:38:34.406Z"
   },
   {
    "duration": 12,
    "start_time": "2023-01-03T18:38:34.456Z"
   },
   {
    "duration": 211,
    "start_time": "2023-01-03T18:38:34.470Z"
   },
   {
    "duration": 10,
    "start_time": "2023-01-03T18:38:34.682Z"
   },
   {
    "duration": 199,
    "start_time": "2023-01-03T18:38:34.694Z"
   },
   {
    "duration": 184,
    "start_time": "2023-01-03T18:38:34.895Z"
   },
   {
    "duration": 127,
    "start_time": "2023-01-03T18:38:35.080Z"
   },
   {
    "duration": 34,
    "start_time": "2023-01-03T18:38:35.209Z"
   },
   {
    "duration": 25,
    "start_time": "2023-01-03T18:38:35.244Z"
   },
   {
    "duration": 528,
    "start_time": "2023-01-03T18:38:35.270Z"
   },
   {
    "duration": 256,
    "start_time": "2023-01-03T18:38:35.800Z"
   },
   {
    "duration": 152,
    "start_time": "2023-01-03T18:38:36.058Z"
   },
   {
    "duration": 25,
    "start_time": "2023-01-03T18:38:36.211Z"
   },
   {
    "duration": 472,
    "start_time": "2023-01-03T18:38:36.238Z"
   },
   {
    "duration": 68,
    "start_time": "2023-01-03T18:38:36.713Z"
   },
   {
    "duration": 32,
    "start_time": "2023-01-03T18:38:36.783Z"
   },
   {
    "duration": 52,
    "start_time": "2023-01-03T18:38:36.817Z"
   },
   {
    "duration": 32,
    "start_time": "2023-01-03T18:38:36.871Z"
   },
   {
    "duration": 7,
    "start_time": "2023-01-03T18:38:36.905Z"
   },
   {
    "duration": 6,
    "start_time": "2023-01-03T18:38:36.936Z"
   },
   {
    "duration": 42,
    "start_time": "2023-01-03T18:38:36.944Z"
   },
   {
    "duration": 20,
    "start_time": "2023-01-03T18:38:36.988Z"
   },
   {
    "duration": 16,
    "start_time": "2023-01-03T18:40:06.339Z"
   },
   {
    "duration": 17,
    "start_time": "2023-01-03T18:41:35.280Z"
   },
   {
    "duration": 1281,
    "start_time": "2023-01-03T18:59:54.053Z"
   },
   {
    "duration": 817,
    "start_time": "2023-01-03T18:59:55.336Z"
   },
   {
    "duration": 24,
    "start_time": "2023-01-03T18:59:56.155Z"
   },
   {
    "duration": 28,
    "start_time": "2023-01-03T18:59:56.182Z"
   },
   {
    "duration": 76,
    "start_time": "2023-01-03T18:59:56.212Z"
   },
   {
    "duration": 18,
    "start_time": "2023-01-03T18:59:56.290Z"
   },
   {
    "duration": 26,
    "start_time": "2023-01-03T18:59:56.309Z"
   },
   {
    "duration": 309,
    "start_time": "2023-01-03T18:59:56.337Z"
   },
   {
    "duration": 43,
    "start_time": "2023-01-03T18:59:56.648Z"
   },
   {
    "duration": 3,
    "start_time": "2023-01-03T18:59:56.693Z"
   },
   {
    "duration": 40,
    "start_time": "2023-01-03T18:59:56.698Z"
   },
   {
    "duration": 63,
    "start_time": "2023-01-03T18:59:56.740Z"
   },
   {
    "duration": 209,
    "start_time": "2023-01-03T18:59:56.805Z"
   },
   {
    "duration": 24,
    "start_time": "2023-01-03T18:59:57.016Z"
   },
   {
    "duration": 328,
    "start_time": "2023-01-03T18:59:57.042Z"
   },
   {
    "duration": 2,
    "start_time": "2023-01-03T18:59:57.372Z"
   },
   {
    "duration": 129,
    "start_time": "2023-01-03T18:59:57.377Z"
   },
   {
    "duration": 20,
    "start_time": "2023-01-03T18:59:57.508Z"
   },
   {
    "duration": 16,
    "start_time": "2023-01-03T18:59:57.536Z"
   },
   {
    "duration": 13,
    "start_time": "2023-01-03T18:59:57.554Z"
   },
   {
    "duration": 23,
    "start_time": "2023-01-03T18:59:57.569Z"
   },
   {
    "duration": 66,
    "start_time": "2023-01-03T18:59:57.594Z"
   },
   {
    "duration": 9,
    "start_time": "2023-01-03T18:59:57.662Z"
   },
   {
    "duration": 20,
    "start_time": "2023-01-03T18:59:57.672Z"
   },
   {
    "duration": 37,
    "start_time": "2023-01-03T18:59:57.694Z"
   },
   {
    "duration": 17,
    "start_time": "2023-01-03T18:59:57.732Z"
   },
   {
    "duration": 26,
    "start_time": "2023-01-03T18:59:57.750Z"
   },
   {
    "duration": 39,
    "start_time": "2023-01-03T18:59:57.780Z"
   },
   {
    "duration": 197,
    "start_time": "2023-01-03T18:59:57.821Z"
   },
   {
    "duration": 10,
    "start_time": "2023-01-03T18:59:58.020Z"
   },
   {
    "duration": 185,
    "start_time": "2023-01-03T18:59:58.036Z"
   },
   {
    "duration": 186,
    "start_time": "2023-01-03T18:59:58.223Z"
   },
   {
    "duration": 129,
    "start_time": "2023-01-03T18:59:58.411Z"
   },
   {
    "duration": 26,
    "start_time": "2023-01-03T18:59:58.542Z"
   },
   {
    "duration": 20,
    "start_time": "2023-01-03T18:59:58.569Z"
   },
   {
    "duration": 551,
    "start_time": "2023-01-03T18:59:58.591Z"
   },
   {
    "duration": 240,
    "start_time": "2023-01-03T18:59:59.144Z"
   },
   {
    "duration": 123,
    "start_time": "2023-01-03T18:59:59.385Z"
   },
   {
    "duration": 28,
    "start_time": "2023-01-03T18:59:59.509Z"
   },
   {
    "duration": 456,
    "start_time": "2023-01-03T18:59:59.539Z"
   },
   {
    "duration": 59,
    "start_time": "2023-01-03T18:59:59.997Z"
   },
   {
    "duration": 18,
    "start_time": "2023-01-03T19:00:00.058Z"
   },
   {
    "duration": 68,
    "start_time": "2023-01-03T19:00:00.078Z"
   },
   {
    "duration": 30,
    "start_time": "2023-01-03T19:00:00.148Z"
   },
   {
    "duration": 19,
    "start_time": "2023-01-03T19:00:00.179Z"
   },
   {
    "duration": 43,
    "start_time": "2023-01-03T19:00:00.200Z"
   },
   {
    "duration": 59,
    "start_time": "2023-01-03T19:00:00.245Z"
   },
   {
    "duration": 40,
    "start_time": "2023-01-03T19:00:00.306Z"
   },
   {
    "duration": 1233,
    "start_time": "2023-01-03T19:01:58.595Z"
   },
   {
    "duration": 807,
    "start_time": "2023-01-03T19:01:59.830Z"
   },
   {
    "duration": 30,
    "start_time": "2023-01-03T19:02:00.639Z"
   },
   {
    "duration": 30,
    "start_time": "2023-01-03T19:02:00.671Z"
   },
   {
    "duration": 67,
    "start_time": "2023-01-03T19:02:00.703Z"
   },
   {
    "duration": 15,
    "start_time": "2023-01-03T19:02:00.771Z"
   },
   {
    "duration": 15,
    "start_time": "2023-01-03T19:02:00.788Z"
   },
   {
    "duration": 318,
    "start_time": "2023-01-03T19:02:00.804Z"
   },
   {
    "duration": 39,
    "start_time": "2023-01-03T19:02:01.123Z"
   },
   {
    "duration": 9,
    "start_time": "2023-01-03T19:02:01.165Z"
   },
   {
    "duration": 14,
    "start_time": "2023-01-03T19:02:01.176Z"
   },
   {
    "duration": 67,
    "start_time": "2023-01-03T19:02:01.191Z"
   },
   {
    "duration": 194,
    "start_time": "2023-01-03T19:02:01.259Z"
   },
   {
    "duration": 16,
    "start_time": "2023-01-03T19:02:01.455Z"
   },
   {
    "duration": 319,
    "start_time": "2023-01-03T19:02:01.473Z"
   },
   {
    "duration": 2,
    "start_time": "2023-01-03T19:02:01.794Z"
   },
   {
    "duration": 112,
    "start_time": "2023-01-03T19:02:01.797Z"
   },
   {
    "duration": 31,
    "start_time": "2023-01-03T19:02:01.911Z"
   },
   {
    "duration": 6,
    "start_time": "2023-01-03T19:02:01.943Z"
   },
   {
    "duration": 16,
    "start_time": "2023-01-03T19:02:01.950Z"
   },
   {
    "duration": 18,
    "start_time": "2023-01-03T19:02:01.967Z"
   },
   {
    "duration": 51,
    "start_time": "2023-01-03T19:02:01.986Z"
   },
   {
    "duration": 8,
    "start_time": "2023-01-03T19:02:02.038Z"
   },
   {
    "duration": 16,
    "start_time": "2023-01-03T19:02:02.048Z"
   },
   {
    "duration": 25,
    "start_time": "2023-01-03T19:02:02.065Z"
   },
   {
    "duration": 13,
    "start_time": "2023-01-03T19:02:02.092Z"
   },
   {
    "duration": 43,
    "start_time": "2023-01-03T19:02:02.106Z"
   },
   {
    "duration": 12,
    "start_time": "2023-01-03T19:02:02.152Z"
   },
   {
    "duration": 191,
    "start_time": "2023-01-03T19:02:02.165Z"
   },
   {
    "duration": 10,
    "start_time": "2023-01-03T19:02:02.358Z"
   },
   {
    "duration": 233,
    "start_time": "2023-01-03T19:02:02.370Z"
   },
   {
    "duration": 191,
    "start_time": "2023-01-03T19:02:02.606Z"
   },
   {
    "duration": 115,
    "start_time": "2023-01-03T19:02:02.799Z"
   },
   {
    "duration": 30,
    "start_time": "2023-01-03T19:02:02.916Z"
   },
   {
    "duration": 19,
    "start_time": "2023-01-03T19:02:02.948Z"
   },
   {
    "duration": 496,
    "start_time": "2023-01-03T19:02:02.969Z"
   },
   {
    "duration": 193,
    "start_time": "2023-01-03T19:02:03.467Z"
   },
   {
    "duration": 112,
    "start_time": "2023-01-03T19:02:03.662Z"
   },
   {
    "duration": 19,
    "start_time": "2023-01-03T19:02:03.775Z"
   },
   {
    "duration": 432,
    "start_time": "2023-01-03T19:02:03.796Z"
   },
   {
    "duration": 48,
    "start_time": "2023-01-03T19:02:04.230Z"
   },
   {
    "duration": 17,
    "start_time": "2023-01-03T19:02:04.279Z"
   },
   {
    "duration": 56,
    "start_time": "2023-01-03T19:02:04.298Z"
   },
   {
    "duration": 28,
    "start_time": "2023-01-03T19:02:04.356Z"
   },
   {
    "duration": 7,
    "start_time": "2023-01-03T19:02:04.385Z"
   },
   {
    "duration": 7,
    "start_time": "2023-01-03T19:02:04.394Z"
   },
   {
    "duration": 33,
    "start_time": "2023-01-03T19:02:04.403Z"
   },
   {
    "duration": 13,
    "start_time": "2023-01-03T19:02:04.438Z"
   },
   {
    "duration": 1246,
    "start_time": "2023-01-03T19:03:30.970Z"
   },
   {
    "duration": 880,
    "start_time": "2023-01-03T19:03:32.219Z"
   },
   {
    "duration": 22,
    "start_time": "2023-01-03T19:03:33.100Z"
   },
   {
    "duration": 37,
    "start_time": "2023-01-03T19:03:33.125Z"
   },
   {
    "duration": 82,
    "start_time": "2023-01-03T19:03:33.164Z"
   },
   {
    "duration": 22,
    "start_time": "2023-01-03T19:03:33.249Z"
   },
   {
    "duration": 7,
    "start_time": "2023-01-03T19:03:33.273Z"
   },
   {
    "duration": 310,
    "start_time": "2023-01-03T19:03:33.282Z"
   },
   {
    "duration": 48,
    "start_time": "2023-01-03T19:03:33.594Z"
   },
   {
    "duration": 4,
    "start_time": "2023-01-03T19:03:33.644Z"
   },
   {
    "duration": 13,
    "start_time": "2023-01-03T19:03:33.650Z"
   },
   {
    "duration": 85,
    "start_time": "2023-01-03T19:03:33.665Z"
   },
   {
    "duration": 207,
    "start_time": "2023-01-03T19:03:33.752Z"
   },
   {
    "duration": 20,
    "start_time": "2023-01-03T19:03:33.960Z"
   },
   {
    "duration": 335,
    "start_time": "2023-01-03T19:03:33.982Z"
   },
   {
    "duration": 2,
    "start_time": "2023-01-03T19:03:34.319Z"
   },
   {
    "duration": 111,
    "start_time": "2023-01-03T19:03:34.335Z"
   },
   {
    "duration": 18,
    "start_time": "2023-01-03T19:03:34.448Z"
   },
   {
    "duration": 10,
    "start_time": "2023-01-03T19:03:34.468Z"
   },
   {
    "duration": 23,
    "start_time": "2023-01-03T19:03:34.480Z"
   },
   {
    "duration": 11,
    "start_time": "2023-01-03T19:03:34.506Z"
   },
   {
    "duration": 51,
    "start_time": "2023-01-03T19:03:34.519Z"
   },
   {
    "duration": 9,
    "start_time": "2023-01-03T19:03:34.572Z"
   },
   {
    "duration": 17,
    "start_time": "2023-01-03T19:03:34.582Z"
   },
   {
    "duration": 23,
    "start_time": "2023-01-03T19:03:34.601Z"
   },
   {
    "duration": 17,
    "start_time": "2023-01-03T19:03:34.626Z"
   },
   {
    "duration": 24,
    "start_time": "2023-01-03T19:03:34.645Z"
   },
   {
    "duration": 13,
    "start_time": "2023-01-03T19:03:34.673Z"
   },
   {
    "duration": 202,
    "start_time": "2023-01-03T19:03:34.688Z"
   },
   {
    "duration": 9,
    "start_time": "2023-01-03T19:03:34.892Z"
   },
   {
    "duration": 212,
    "start_time": "2023-01-03T19:03:34.904Z"
   },
   {
    "duration": 170,
    "start_time": "2023-01-03T19:03:35.118Z"
   },
   {
    "duration": 123,
    "start_time": "2023-01-03T19:03:35.290Z"
   },
   {
    "duration": 33,
    "start_time": "2023-01-03T19:03:35.415Z"
   },
   {
    "duration": 27,
    "start_time": "2023-01-03T19:03:35.450Z"
   },
   {
    "duration": 541,
    "start_time": "2023-01-03T19:03:35.479Z"
   },
   {
    "duration": 245,
    "start_time": "2023-01-03T19:03:36.022Z"
   },
   {
    "duration": 166,
    "start_time": "2023-01-03T19:03:36.269Z"
   },
   {
    "duration": 30,
    "start_time": "2023-01-03T19:03:36.437Z"
   },
   {
    "duration": 548,
    "start_time": "2023-01-03T19:03:36.469Z"
   },
   {
    "duration": 56,
    "start_time": "2023-01-03T19:03:37.019Z"
   },
   {
    "duration": 19,
    "start_time": "2023-01-03T19:03:37.076Z"
   },
   {
    "duration": 60,
    "start_time": "2023-01-03T19:03:37.096Z"
   },
   {
    "duration": 34,
    "start_time": "2023-01-03T19:03:37.157Z"
   },
   {
    "duration": 8,
    "start_time": "2023-01-03T19:03:37.193Z"
   },
   {
    "duration": 14,
    "start_time": "2023-01-03T19:03:37.202Z"
   },
   {
    "duration": 11,
    "start_time": "2023-01-03T19:03:37.236Z"
   },
   {
    "duration": 26,
    "start_time": "2023-01-03T19:03:37.249Z"
   },
   {
    "duration": 55,
    "start_time": "2023-01-04T04:11:18.513Z"
   },
   {
    "duration": 1284,
    "start_time": "2023-01-04T04:11:28.716Z"
   },
   {
    "duration": 1059,
    "start_time": "2023-01-04T04:11:32.588Z"
   },
   {
    "duration": 26,
    "start_time": "2023-01-04T04:11:33.649Z"
   },
   {
    "duration": 20,
    "start_time": "2023-01-04T04:11:33.931Z"
   },
   {
    "duration": 48,
    "start_time": "2023-01-04T04:11:34.555Z"
   },
   {
    "duration": 17,
    "start_time": "2023-01-04T04:11:35.203Z"
   },
   {
    "duration": 2,
    "start_time": "2023-01-04T04:11:36.714Z"
   },
   {
    "duration": 230,
    "start_time": "2023-01-04T04:11:42.122Z"
   },
   {
    "duration": 35,
    "start_time": "2023-01-04T04:11:43.706Z"
   },
   {
    "duration": 3,
    "start_time": "2023-01-04T04:11:45.267Z"
   },
   {
    "duration": 7,
    "start_time": "2023-01-04T04:11:45.811Z"
   },
   {
    "duration": 47,
    "start_time": "2023-01-04T04:11:46.378Z"
   },
   {
    "duration": 142,
    "start_time": "2023-01-04T04:11:46.795Z"
   },
   {
    "duration": 15,
    "start_time": "2023-01-04T04:11:47.266Z"
   },
   {
    "duration": 277,
    "start_time": "2023-01-04T04:11:50.793Z"
   },
   {
    "duration": 2,
    "start_time": "2023-01-04T04:11:51.072Z"
   },
   {
    "duration": 96,
    "start_time": "2023-01-04T04:11:51.906Z"
   },
   {
    "duration": 18,
    "start_time": "2023-01-04T04:11:52.869Z"
   },
   {
    "duration": 6,
    "start_time": "2023-01-04T04:11:54.441Z"
   },
   {
    "duration": 5,
    "start_time": "2023-01-04T04:11:55.969Z"
   },
   {
    "duration": 4,
    "start_time": "2023-01-04T04:11:57.339Z"
   },
   {
    "duration": 35,
    "start_time": "2023-01-04T04:12:06.375Z"
   },
   {
    "duration": 10,
    "start_time": "2023-01-04T04:12:12.418Z"
   },
   {
    "duration": 6,
    "start_time": "2023-01-04T04:52:30.843Z"
   },
   {
    "duration": 15,
    "start_time": "2023-01-04T04:52:31.626Z"
   },
   {
    "duration": 8,
    "start_time": "2023-01-04T04:52:32.963Z"
   },
   {
    "duration": 20,
    "start_time": "2023-01-04T04:52:36.009Z"
   },
   {
    "duration": 13,
    "start_time": "2023-01-04T04:52:36.852Z"
   },
   {
    "duration": 179,
    "start_time": "2023-01-04T04:52:37.594Z"
   },
   {
    "duration": 8,
    "start_time": "2023-01-04T04:52:39.657Z"
   },
   {
    "duration": 166,
    "start_time": "2023-01-04T04:52:42.018Z"
   },
   {
    "duration": 141,
    "start_time": "2023-01-04T04:52:44.067Z"
   },
   {
    "duration": 34,
    "start_time": "2023-01-04T04:53:29.675Z"
   },
   {
    "duration": 23,
    "start_time": "2023-01-04T04:54:02.813Z"
   },
   {
    "duration": 140,
    "start_time": "2023-01-04T04:58:10.541Z"
   },
   {
    "duration": 7,
    "start_time": "2023-01-04T05:05:19.604Z"
   },
   {
    "duration": 10,
    "start_time": "2023-01-04T05:05:38.326Z"
   },
   {
    "duration": 8,
    "start_time": "2023-01-04T05:06:25.906Z"
   },
   {
    "duration": 11,
    "start_time": "2023-01-04T05:06:37.982Z"
   },
   {
    "duration": 50,
    "start_time": "2023-01-04T05:17:31.776Z"
   },
   {
    "duration": 102,
    "start_time": "2023-01-04T05:18:52.335Z"
   },
   {
    "duration": 25,
    "start_time": "2023-01-04T05:19:14.059Z"
   },
   {
    "duration": 18,
    "start_time": "2023-01-04T05:19:15.591Z"
   },
   {
    "duration": 472,
    "start_time": "2023-01-04T05:19:18.670Z"
   },
   {
    "duration": 131,
    "start_time": "2023-01-04T05:19:27.032Z"
   },
   {
    "duration": 119,
    "start_time": "2023-01-04T05:26:43.098Z"
   },
   {
    "duration": 88,
    "start_time": "2023-01-04T05:26:54.636Z"
   },
   {
    "duration": 87,
    "start_time": "2023-01-04T05:28:04.627Z"
   },
   {
    "duration": 8,
    "start_time": "2023-01-04T05:29:31.425Z"
   },
   {
    "duration": 10,
    "start_time": "2023-01-04T05:29:43.458Z"
   },
   {
    "duration": 3,
    "start_time": "2023-01-04T05:29:59.682Z"
   },
   {
    "duration": 12,
    "start_time": "2023-01-04T05:30:00.484Z"
   },
   {
    "duration": 42,
    "start_time": "2023-01-04T05:31:09.740Z"
   },
   {
    "duration": 16,
    "start_time": "2023-01-04T05:32:47.356Z"
   },
   {
    "duration": 45,
    "start_time": "2023-01-04T05:32:52.996Z"
   },
   {
    "duration": 51,
    "start_time": "2023-01-04T05:33:28.812Z"
   },
   {
    "duration": 43,
    "start_time": "2023-01-04T05:33:57.614Z"
   },
   {
    "duration": 42,
    "start_time": "2023-01-04T05:34:53.860Z"
   },
   {
    "duration": 10,
    "start_time": "2023-01-04T05:35:30.997Z"
   },
   {
    "duration": 2,
    "start_time": "2023-01-04T05:35:42.453Z"
   },
   {
    "duration": 61,
    "start_time": "2023-01-04T05:37:07.004Z"
   },
   {
    "duration": 2,
    "start_time": "2023-01-04T05:40:13.928Z"
   },
   {
    "duration": 3,
    "start_time": "2023-01-04T05:40:45.424Z"
   },
   {
    "duration": 67,
    "start_time": "2023-01-04T05:41:00.512Z"
   },
   {
    "duration": 70,
    "start_time": "2023-01-04T05:42:54.592Z"
   },
   {
    "duration": 91,
    "start_time": "2023-01-04T05:47:51.556Z"
   },
   {
    "duration": 17,
    "start_time": "2023-01-04T05:47:52.261Z"
   },
   {
    "duration": 390,
    "start_time": "2023-01-04T05:47:52.977Z"
   },
   {
    "duration": 40,
    "start_time": "2023-01-04T05:47:54.759Z"
   },
   {
    "duration": 15,
    "start_time": "2023-01-04T05:47:55.167Z"
   },
   {
    "duration": 32,
    "start_time": "2023-01-04T05:47:57.591Z"
   },
   {
    "duration": 27,
    "start_time": "2023-01-04T05:48:03.436Z"
   },
   {
    "duration": 7,
    "start_time": "2023-01-04T05:48:04.030Z"
   },
   {
    "duration": 5,
    "start_time": "2023-01-04T05:48:05.653Z"
   },
   {
    "duration": 11,
    "start_time": "2023-01-04T05:48:07.055Z"
   },
   {
    "duration": 4,
    "start_time": "2023-01-04T05:48:12.662Z"
   },
   {
    "duration": 10,
    "start_time": "2023-01-04T05:48:16.701Z"
   },
   {
    "duration": 11,
    "start_time": "2023-01-04T05:48:22.166Z"
   },
   {
    "duration": 48,
    "start_time": "2023-01-04T05:49:08.077Z"
   },
   {
    "duration": 1158,
    "start_time": "2023-01-04T10:58:55.515Z"
   },
   {
    "duration": 926,
    "start_time": "2023-01-04T10:58:56.675Z"
   },
   {
    "duration": 21,
    "start_time": "2023-01-04T10:58:57.603Z"
   },
   {
    "duration": 22,
    "start_time": "2023-01-04T10:58:57.627Z"
   },
   {
    "duration": 74,
    "start_time": "2023-01-04T10:58:57.651Z"
   },
   {
    "duration": 15,
    "start_time": "2023-01-04T10:58:57.727Z"
   },
   {
    "duration": 4,
    "start_time": "2023-01-04T10:58:57.744Z"
   },
   {
    "duration": 238,
    "start_time": "2023-01-04T10:58:57.750Z"
   },
   {
    "duration": 47,
    "start_time": "2023-01-04T10:58:57.989Z"
   },
   {
    "duration": 3,
    "start_time": "2023-01-04T10:58:58.039Z"
   },
   {
    "duration": 31,
    "start_time": "2023-01-04T10:58:58.044Z"
   },
   {
    "duration": 41,
    "start_time": "2023-01-04T10:58:58.076Z"
   },
   {
    "duration": 152,
    "start_time": "2023-01-04T10:58:58.118Z"
   },
   {
    "duration": 14,
    "start_time": "2023-01-04T10:58:58.272Z"
   },
   {
    "duration": 289,
    "start_time": "2023-01-04T10:58:58.288Z"
   },
   {
    "duration": 2,
    "start_time": "2023-01-04T10:58:58.579Z"
   },
   {
    "duration": 105,
    "start_time": "2023-01-04T10:58:58.583Z"
   },
   {
    "duration": 20,
    "start_time": "2023-01-04T10:58:58.690Z"
   },
   {
    "duration": 14,
    "start_time": "2023-01-04T10:58:58.711Z"
   },
   {
    "duration": 11,
    "start_time": "2023-01-04T10:58:58.726Z"
   },
   {
    "duration": 7,
    "start_time": "2023-01-04T10:58:58.738Z"
   },
   {
    "duration": 35,
    "start_time": "2023-01-04T10:58:58.746Z"
   },
   {
    "duration": 6,
    "start_time": "2023-01-04T10:58:58.783Z"
   },
   {
    "duration": 36,
    "start_time": "2023-01-04T10:58:58.791Z"
   },
   {
    "duration": 16,
    "start_time": "2023-01-04T10:58:58.829Z"
   },
   {
    "duration": 7,
    "start_time": "2023-01-04T10:58:58.846Z"
   },
   {
    "duration": 26,
    "start_time": "2023-01-04T10:58:58.854Z"
   },
   {
    "duration": 9,
    "start_time": "2023-01-04T10:58:58.883Z"
   },
   {
    "duration": 188,
    "start_time": "2023-01-04T10:58:58.894Z"
   },
   {
    "duration": 8,
    "start_time": "2023-01-04T10:58:59.084Z"
   },
   {
    "duration": 164,
    "start_time": "2023-01-04T10:58:59.093Z"
   },
   {
    "duration": 149,
    "start_time": "2023-01-04T10:58:59.259Z"
   },
   {
    "duration": 16,
    "start_time": "2023-01-04T10:58:59.410Z"
   },
   {
    "duration": 18,
    "start_time": "2023-01-04T10:58:59.427Z"
   },
   {
    "duration": 107,
    "start_time": "2023-01-04T10:58:59.446Z"
   },
   {
    "duration": 22,
    "start_time": "2023-01-04T10:58:59.555Z"
   },
   {
    "duration": 17,
    "start_time": "2023-01-04T10:58:59.579Z"
   },
   {
    "duration": 14,
    "start_time": "2023-01-04T10:58:59.598Z"
   },
   {
    "duration": 6,
    "start_time": "2023-01-04T10:58:59.620Z"
   },
   {
    "duration": 470,
    "start_time": "2023-01-04T10:58:59.627Z"
   },
   {
    "duration": 152,
    "start_time": "2023-01-04T10:59:00.099Z"
   },
   {
    "duration": 17,
    "start_time": "2023-01-04T10:59:00.253Z"
   },
   {
    "duration": 470,
    "start_time": "2023-01-04T10:59:00.271Z"
   },
   {
    "duration": 42,
    "start_time": "2023-01-04T10:59:00.744Z"
   },
   {
    "duration": 36,
    "start_time": "2023-01-04T10:59:00.788Z"
   },
   {
    "duration": 32,
    "start_time": "2023-01-04T10:59:00.826Z"
   },
   {
    "duration": 42,
    "start_time": "2023-01-04T10:59:00.859Z"
   },
   {
    "duration": 8,
    "start_time": "2023-01-04T10:59:00.903Z"
   },
   {
    "duration": 24,
    "start_time": "2023-01-04T10:59:00.922Z"
   },
   {
    "duration": 28,
    "start_time": "2023-01-04T10:59:00.948Z"
   },
   {
    "duration": 29,
    "start_time": "2023-01-04T10:59:00.978Z"
   },
   {
    "duration": 1140,
    "start_time": "2023-01-04T11:05:07.951Z"
   },
   {
    "duration": 747,
    "start_time": "2023-01-04T11:05:09.093Z"
   },
   {
    "duration": 21,
    "start_time": "2023-01-04T11:05:09.841Z"
   },
   {
    "duration": 31,
    "start_time": "2023-01-04T11:05:09.864Z"
   },
   {
    "duration": 55,
    "start_time": "2023-01-04T11:05:09.896Z"
   },
   {
    "duration": 16,
    "start_time": "2023-01-04T11:05:09.953Z"
   },
   {
    "duration": 11,
    "start_time": "2023-01-04T11:05:09.970Z"
   },
   {
    "duration": 290,
    "start_time": "2023-01-04T11:05:09.983Z"
   },
   {
    "duration": 47,
    "start_time": "2023-01-04T11:05:10.274Z"
   },
   {
    "duration": 3,
    "start_time": "2023-01-04T11:05:10.324Z"
   },
   {
    "duration": 29,
    "start_time": "2023-01-04T11:05:10.328Z"
   },
   {
    "duration": 54,
    "start_time": "2023-01-04T11:05:10.359Z"
   },
   {
    "duration": 161,
    "start_time": "2023-01-04T11:05:10.415Z"
   },
   {
    "duration": 15,
    "start_time": "2023-01-04T11:05:10.578Z"
   },
   {
    "duration": 293,
    "start_time": "2023-01-04T11:05:10.595Z"
   },
   {
    "duration": 3,
    "start_time": "2023-01-04T11:05:10.889Z"
   },
   {
    "duration": 122,
    "start_time": "2023-01-04T11:05:10.893Z"
   },
   {
    "duration": 19,
    "start_time": "2023-01-04T11:05:11.016Z"
   },
   {
    "duration": 4,
    "start_time": "2023-01-04T11:05:11.037Z"
   },
   {
    "duration": 8,
    "start_time": "2023-01-04T11:05:11.043Z"
   },
   {
    "duration": 5,
    "start_time": "2023-01-04T11:05:11.052Z"
   },
   {
    "duration": 34,
    "start_time": "2023-01-04T11:05:11.059Z"
   },
   {
    "duration": 27,
    "start_time": "2023-01-04T11:05:11.095Z"
   },
   {
    "duration": 6,
    "start_time": "2023-01-04T11:05:11.123Z"
   },
   {
    "duration": 15,
    "start_time": "2023-01-04T11:05:11.130Z"
   },
   {
    "duration": 7,
    "start_time": "2023-01-04T11:05:11.146Z"
   },
   {
    "duration": 18,
    "start_time": "2023-01-04T11:05:11.155Z"
   },
   {
    "duration": 46,
    "start_time": "2023-01-04T11:05:11.177Z"
   },
   {
    "duration": 168,
    "start_time": "2023-01-04T11:05:11.225Z"
   },
   {
    "duration": 9,
    "start_time": "2023-01-04T11:05:11.395Z"
   },
   {
    "duration": 185,
    "start_time": "2023-01-04T11:05:11.406Z"
   },
   {
    "duration": 151,
    "start_time": "2023-01-04T11:05:11.593Z"
   },
   {
    "duration": 10,
    "start_time": "2023-01-04T11:05:11.745Z"
   },
   {
    "duration": 33,
    "start_time": "2023-01-04T11:05:11.756Z"
   },
   {
    "duration": 105,
    "start_time": "2023-01-04T11:05:11.791Z"
   },
   {
    "duration": 24,
    "start_time": "2023-01-04T11:05:11.898Z"
   },
   {
    "duration": 16,
    "start_time": "2023-01-04T11:05:11.924Z"
   },
   {
    "duration": 2,
    "start_time": "2023-01-04T11:05:11.942Z"
   },
   {
    "duration": 10,
    "start_time": "2023-01-04T11:05:11.946Z"
   },
   {
    "duration": 465,
    "start_time": "2023-01-04T11:05:11.957Z"
   },
   {
    "duration": 157,
    "start_time": "2023-01-04T11:05:12.424Z"
   },
   {
    "duration": 47,
    "start_time": "2023-01-04T11:05:12.583Z"
   },
   {
    "duration": 424,
    "start_time": "2023-01-04T11:05:12.631Z"
   },
   {
    "duration": 42,
    "start_time": "2023-01-04T11:05:13.056Z"
   },
   {
    "duration": 31,
    "start_time": "2023-01-04T11:05:13.100Z"
   },
   {
    "duration": 31,
    "start_time": "2023-01-04T11:05:13.132Z"
   },
   {
    "duration": 26,
    "start_time": "2023-01-04T11:05:13.164Z"
   },
   {
    "duration": 6,
    "start_time": "2023-01-04T11:05:13.191Z"
   },
   {
    "duration": 25,
    "start_time": "2023-01-04T11:05:13.198Z"
   },
   {
    "duration": 16,
    "start_time": "2023-01-04T11:05:13.224Z"
   },
   {
    "duration": 21,
    "start_time": "2023-01-04T11:05:13.242Z"
   },
   {
    "duration": 1390,
    "start_time": "2023-01-04T12:58:03.452Z"
   },
   {
    "duration": 1056,
    "start_time": "2023-01-04T12:58:04.844Z"
   },
   {
    "duration": 21,
    "start_time": "2023-01-04T12:58:05.901Z"
   },
   {
    "duration": 21,
    "start_time": "2023-01-04T12:58:05.924Z"
   },
   {
    "duration": 50,
    "start_time": "2023-01-04T12:58:05.946Z"
   },
   {
    "duration": 37,
    "start_time": "2023-01-04T12:58:05.999Z"
   },
   {
    "duration": 3,
    "start_time": "2023-01-04T12:58:06.037Z"
   },
   {
    "duration": 263,
    "start_time": "2023-01-04T12:58:06.042Z"
   },
   {
    "duration": 40,
    "start_time": "2023-01-04T12:58:06.306Z"
   },
   {
    "duration": 3,
    "start_time": "2023-01-04T12:58:06.348Z"
   },
   {
    "duration": 12,
    "start_time": "2023-01-04T12:58:06.353Z"
   },
   {
    "duration": 58,
    "start_time": "2023-01-04T12:58:06.367Z"
   },
   {
    "duration": 165,
    "start_time": "2023-01-04T12:58:06.427Z"
   },
   {
    "duration": 28,
    "start_time": "2023-01-04T12:58:06.593Z"
   },
   {
    "duration": 281,
    "start_time": "2023-01-04T12:58:06.623Z"
   },
   {
    "duration": 2,
    "start_time": "2023-01-04T12:58:06.905Z"
   },
   {
    "duration": 107,
    "start_time": "2023-01-04T12:58:06.909Z"
   },
   {
    "duration": 18,
    "start_time": "2023-01-04T12:58:07.018Z"
   },
   {
    "duration": 8,
    "start_time": "2023-01-04T12:58:07.038Z"
   },
   {
    "duration": 8,
    "start_time": "2023-01-04T12:58:07.048Z"
   },
   {
    "duration": 8,
    "start_time": "2023-01-04T12:58:07.057Z"
   },
   {
    "duration": 55,
    "start_time": "2023-01-04T12:58:07.067Z"
   },
   {
    "duration": 9,
    "start_time": "2023-01-04T12:58:07.123Z"
   },
   {
    "duration": 9,
    "start_time": "2023-01-04T12:58:07.134Z"
   },
   {
    "duration": 18,
    "start_time": "2023-01-04T12:58:07.145Z"
   },
   {
    "duration": 8,
    "start_time": "2023-01-04T12:58:07.164Z"
   },
   {
    "duration": 20,
    "start_time": "2023-01-04T12:58:07.173Z"
   },
   {
    "duration": 11,
    "start_time": "2023-01-04T12:58:07.222Z"
   },
   {
    "duration": 168,
    "start_time": "2023-01-04T12:58:07.235Z"
   },
   {
    "duration": 17,
    "start_time": "2023-01-04T12:58:07.405Z"
   },
   {
    "duration": 161,
    "start_time": "2023-01-04T12:58:07.423Z"
   },
   {
    "duration": 147,
    "start_time": "2023-01-04T12:58:07.585Z"
   },
   {
    "duration": 9,
    "start_time": "2023-01-04T12:58:07.734Z"
   },
   {
    "duration": 17,
    "start_time": "2023-01-04T12:58:07.745Z"
   },
   {
    "duration": 23,
    "start_time": "2023-01-04T12:58:07.763Z"
   },
   {
    "duration": 102,
    "start_time": "2023-01-04T12:58:07.787Z"
   },
   {
    "duration": 35,
    "start_time": "2023-01-04T12:58:07.890Z"
   },
   {
    "duration": 17,
    "start_time": "2023-01-04T12:58:07.927Z"
   },
   {
    "duration": 2,
    "start_time": "2023-01-04T12:58:07.946Z"
   },
   {
    "duration": 8,
    "start_time": "2023-01-04T12:58:07.950Z"
   },
   {
    "duration": 439,
    "start_time": "2023-01-04T12:58:07.960Z"
   },
   {
    "duration": 158,
    "start_time": "2023-01-04T12:58:08.401Z"
   },
   {
    "duration": 20,
    "start_time": "2023-01-04T12:58:08.561Z"
   },
   {
    "duration": 447,
    "start_time": "2023-01-04T12:58:08.583Z"
   },
   {
    "duration": 42,
    "start_time": "2023-01-04T12:58:09.032Z"
   },
   {
    "duration": 16,
    "start_time": "2023-01-04T12:58:09.076Z"
   },
   {
    "duration": 50,
    "start_time": "2023-01-04T12:58:09.094Z"
   },
   {
    "duration": 27,
    "start_time": "2023-01-04T12:58:09.145Z"
   },
   {
    "duration": 6,
    "start_time": "2023-01-04T12:58:09.174Z"
   },
   {
    "duration": 9,
    "start_time": "2023-01-04T12:58:09.181Z"
   },
   {
    "duration": 33,
    "start_time": "2023-01-04T12:58:09.191Z"
   },
   {
    "duration": 14,
    "start_time": "2023-01-04T12:58:09.226Z"
   },
   {
    "duration": 180,
    "start_time": "2023-01-04T13:02:21.533Z"
   },
   {
    "duration": 188,
    "start_time": "2023-01-04T13:03:30.959Z"
   },
   {
    "duration": 46,
    "start_time": "2023-01-04T13:07:23.788Z"
   },
   {
    "duration": 173,
    "start_time": "2023-01-04T13:07:38.655Z"
   },
   {
    "duration": 1120,
    "start_time": "2023-01-04T15:28:03.282Z"
   },
   {
    "duration": 1034,
    "start_time": "2023-01-04T15:28:04.404Z"
   },
   {
    "duration": 19,
    "start_time": "2023-01-04T15:28:05.440Z"
   },
   {
    "duration": 20,
    "start_time": "2023-01-04T15:28:05.460Z"
   },
   {
    "duration": 61,
    "start_time": "2023-01-04T15:28:05.482Z"
   },
   {
    "duration": 14,
    "start_time": "2023-01-04T15:28:05.545Z"
   },
   {
    "duration": 5,
    "start_time": "2023-01-04T15:28:05.560Z"
   },
   {
    "duration": 241,
    "start_time": "2023-01-04T15:28:05.566Z"
   },
   {
    "duration": 32,
    "start_time": "2023-01-04T15:28:05.815Z"
   },
   {
    "duration": 3,
    "start_time": "2023-01-04T15:28:05.848Z"
   },
   {
    "duration": 20,
    "start_time": "2023-01-04T15:28:05.852Z"
   },
   {
    "duration": 48,
    "start_time": "2023-01-04T15:28:05.873Z"
   },
   {
    "duration": 158,
    "start_time": "2023-01-04T15:28:05.922Z"
   },
   {
    "duration": 14,
    "start_time": "2023-01-04T15:28:06.083Z"
   },
   {
    "duration": 292,
    "start_time": "2023-01-04T15:28:06.099Z"
   },
   {
    "duration": 2,
    "start_time": "2023-01-04T15:28:06.394Z"
   },
   {
    "duration": 108,
    "start_time": "2023-01-04T15:28:06.398Z"
   },
   {
    "duration": 17,
    "start_time": "2023-01-04T15:28:06.507Z"
   },
   {
    "duration": 4,
    "start_time": "2023-01-04T15:28:06.526Z"
   },
   {
    "duration": 13,
    "start_time": "2023-01-04T15:28:06.531Z"
   },
   {
    "duration": 12,
    "start_time": "2023-01-04T15:28:06.545Z"
   },
   {
    "duration": 35,
    "start_time": "2023-01-04T15:28:06.558Z"
   },
   {
    "duration": 6,
    "start_time": "2023-01-04T15:28:06.595Z"
   },
   {
    "duration": 4,
    "start_time": "2023-01-04T15:28:06.616Z"
   },
   {
    "duration": 21,
    "start_time": "2023-01-04T15:28:06.621Z"
   },
   {
    "duration": 6,
    "start_time": "2023-01-04T15:28:06.644Z"
   },
   {
    "duration": 27,
    "start_time": "2023-01-04T15:28:06.651Z"
   },
   {
    "duration": 9,
    "start_time": "2023-01-04T15:28:06.679Z"
   },
   {
    "duration": 160,
    "start_time": "2023-01-04T15:28:06.689Z"
   },
   {
    "duration": 8,
    "start_time": "2023-01-04T15:28:06.850Z"
   },
   {
    "duration": 155,
    "start_time": "2023-01-04T15:28:06.860Z"
   },
   {
    "duration": 156,
    "start_time": "2023-01-04T15:28:07.017Z"
   },
   {
    "duration": 16,
    "start_time": "2023-01-04T15:28:07.175Z"
   },
   {
    "duration": 18,
    "start_time": "2023-01-04T15:28:07.193Z"
   },
   {
    "duration": 21,
    "start_time": "2023-01-04T15:28:07.213Z"
   },
   {
    "duration": 188,
    "start_time": "2023-01-04T15:28:07.236Z"
   },
   {
    "duration": 106,
    "start_time": "2023-01-04T15:28:07.426Z"
   },
   {
    "duration": 20,
    "start_time": "2023-01-04T15:28:07.533Z"
   },
   {
    "duration": 18,
    "start_time": "2023-01-04T15:28:07.555Z"
   },
   {
    "duration": 3,
    "start_time": "2023-01-04T15:28:07.574Z"
   },
   {
    "duration": 4,
    "start_time": "2023-01-04T15:28:07.580Z"
   },
   {
    "duration": 457,
    "start_time": "2023-01-04T15:28:07.586Z"
   },
   {
    "duration": 176,
    "start_time": "2023-01-04T15:28:08.044Z"
   },
   {
    "duration": 17,
    "start_time": "2023-01-04T15:28:08.222Z"
   },
   {
    "duration": 391,
    "start_time": "2023-01-04T15:28:08.240Z"
   },
   {
    "duration": 40,
    "start_time": "2023-01-04T15:28:08.633Z"
   },
   {
    "duration": 16,
    "start_time": "2023-01-04T15:28:08.675Z"
   },
   {
    "duration": 51,
    "start_time": "2023-01-04T15:28:08.692Z"
   },
   {
    "duration": 24,
    "start_time": "2023-01-04T15:28:08.744Z"
   },
   {
    "duration": 5,
    "start_time": "2023-01-04T15:28:08.770Z"
   },
   {
    "duration": 8,
    "start_time": "2023-01-04T15:28:08.777Z"
   },
   {
    "duration": 34,
    "start_time": "2023-01-04T15:28:08.786Z"
   },
   {
    "duration": 10,
    "start_time": "2023-01-04T15:28:08.822Z"
   }
  ],
  "kernelspec": {
   "display_name": "Python 3 (ipykernel)",
   "language": "python",
   "name": "python3"
  },
  "language_info": {
   "codemirror_mode": {
    "name": "ipython",
    "version": 3
   },
   "file_extension": ".py",
   "mimetype": "text/x-python",
   "name": "python",
   "nbconvert_exporter": "python",
   "pygments_lexer": "ipython3",
   "version": "3.9.13"
  },
  "toc": {
   "base_numbering": 1,
   "nav_menu": {},
   "number_sections": true,
   "sideBar": true,
   "skip_h1_title": true,
   "title_cell": "Table of Contents",
   "title_sidebar": "Contents",
   "toc_cell": false,
   "toc_position": {},
   "toc_section_display": true,
   "toc_window_display": false
  }
 },
 "nbformat": 4,
 "nbformat_minor": 5
}
