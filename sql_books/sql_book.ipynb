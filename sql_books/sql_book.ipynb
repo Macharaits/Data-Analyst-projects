{
 "cells": [
  {
   "cell_type": "markdown",
   "id": "46569186",
   "metadata": {},
   "source": [
    "# Анализ базы данных крупного сервиса для чтения книг по подписке"
   ]
  },
  {
   "cell_type": "markdown",
   "id": "6f6b4deb",
   "metadata": {},
   "source": [
    "Во время пандемии у людей появилось больше времени на чтение книг. Это заметили стартаперы — и бросились создавать приложения для тех, кто любит читать. Компания решила быть на волне и купила крупный сервис для чтения книг по подписке."
   ]
  },
  {
   "cell_type": "markdown",
   "id": "97424284",
   "metadata": {},
   "source": [
    "## Шаг 1. Подключение к базе данных"
   ]
  },
  {
   "cell_type": "code",
   "execution_count": 4,
   "id": "258c08b4",
   "metadata": {},
   "outputs": [
    {
     "name": "stdout",
     "output_type": "stream",
     "text": [
      "Defaulting to user installation because normal site-packages is not writeable\n",
      "Requirement already satisfied: psycopg2 in c:\\users\\user01\\appdata\\roaming\\python\\python39\\site-packages (2.9.5)\n"
     ]
    }
   ],
   "source": [
    "#!pip install psycopg2"
   ]
  },
  {
   "cell_type": "code",
   "execution_count": 1,
   "id": "b773c99a",
   "metadata": {},
   "outputs": [],
   "source": [
    "# импортируем библиотеки\n",
    "import pandas as pd\n",
    "from sqlalchemy import create_engine\n",
    "import psycopg2"
   ]
  },
  {
   "cell_type": "code",
   "execution_count": 2,
   "id": "8c5cbce6",
   "metadata": {},
   "outputs": [],
   "source": [
    "# устанавливаем параметры\n",
    "db_config = {'user': 'praktikum_student', # имя пользователя\n",
    "'pwd': 'Sdf4$2;d-d30pp', # пароль\n",
    "'host': 'rc1b-wcoijxj3yxfsf3fs.mdb.yandexcloud.net',\n",
    "'port': 6432, # порт подключения\n",
    "'db': 'data-analyst-final-project-db'} # название базы данных\n",
    "connection_string = 'postgresql://{}:{}@{}:{}/{}'.format(db_config['user'],\n",
    " db_config['pwd'],\n",
    " db_config['host'],\n",
    " db_config['port'],\n",
    " db_config['db'])\n",
    "# сохраняем коннектор\n",
    "engine = create_engine(connection_string, connect_args={'sslmode':'require'}) "
   ]
  },
  {
   "cell_type": "code",
   "execution_count": 3,
   "id": "7cb28866",
   "metadata": {},
   "outputs": [],
   "source": [
    "# функция для запросов\n",
    "def q(query):\n",
    "    return print(pd.io.sql.read_sql(query, con = engine))"
   ]
  },
  {
   "cell_type": "markdown",
   "id": "8a2cb608",
   "metadata": {},
   "source": [
    "## Шаг 2. Чтение таблиц из базы данных"
   ]
  },
  {
   "cell_type": "code",
   "execution_count": 4,
   "id": "ac01e442",
   "metadata": {},
   "outputs": [
    {
     "name": "stdout",
     "output_type": "stream",
     "text": [
      "     book_id  author_id                                              title  \\\n",
      "0          1        546                                       'Salem's Lot   \n",
      "1          2        465                 1 000 Places to See Before You Die   \n",
      "2          3        407  13 Little Blue Envelopes (Little Blue Envelope...   \n",
      "3          4         82  1491: New Revelations of the Americas Before C...   \n",
      "4          5        125                                               1776   \n",
      "..       ...        ...                                                ...   \n",
      "995      996        571           Wyrd Sisters (Discworld  #6; Witches #2)   \n",
      "996      997        454                        Xenocide (Ender's Saga  #3)   \n",
      "997      998        201                                    Year of Wonders   \n",
      "998      999         94                        You Suck (A Love Story  #2)   \n",
      "999     1000        509  Zen and the Art of Motorcycle Maintenance: An ...   \n",
      "\n",
      "     num_pages publication_date  publisher_id  \n",
      "0          594       2005-11-01            93  \n",
      "1          992       2003-05-22           336  \n",
      "2          322       2010-12-21           135  \n",
      "3          541       2006-10-10           309  \n",
      "4          386       2006-07-04           268  \n",
      "..         ...              ...           ...  \n",
      "995        265       2001-02-06           147  \n",
      "996        592       1996-07-15           297  \n",
      "997        358       2002-04-30           212  \n",
      "998        328       2007-01-16           331  \n",
      "999        540       2006-04-25           143  \n",
      "\n",
      "[1000 rows x 6 columns]\n"
     ]
    }
   ],
   "source": [
    "q('''SELECT * \n",
    "     FROM books ''')"
   ]
  },
  {
   "cell_type": "markdown",
   "id": "917535ef",
   "metadata": {},
   "source": [
    "**Таблица `books`**\n",
    "\n",
    "Содержит данные о книгах:\n",
    "\n",
    "- `book_id` — идентификатор книги;\n",
    "- `author_id` — идентификатор автора;\n",
    "- `title` — название книги;\n",
    "- `num_pages` — количество страниц;\n",
    "- `publication_date` — дата публикации книги;\n",
    "- `publisher_id` — идентификатор издателя."
   ]
  },
  {
   "cell_type": "code",
   "execution_count": 5,
   "id": "6030801a",
   "metadata": {},
   "outputs": [
    {
     "name": "stdout",
     "output_type": "stream",
     "text": [
      "     author_id                                author\n",
      "0            1                            A.S. Byatt\n",
      "1            2        Aesop/Laura Harris/Laura Gibbs\n",
      "2            3                       Agatha Christie\n",
      "3            4                         Alan Brennert\n",
      "4            5              Alan Moore/David   Lloyd\n",
      "..         ...                                   ...\n",
      "631        632         William Strunk Jr./E.B. White\n",
      "632        633                           Zadie Smith\n",
      "633        634                 Zilpha Keatley Snyder\n",
      "634        635                    Zora Neale Hurston\n",
      "635        636  Åsne Seierstad/Ingrid Christopherson\n",
      "\n",
      "[636 rows x 2 columns]\n"
     ]
    }
   ],
   "source": [
    "q('''SELECT * \n",
    "     FROM authors ''')"
   ]
  },
  {
   "cell_type": "markdown",
   "id": "44c0f7db",
   "metadata": {},
   "source": [
    "**Таблица `authors`**\n",
    "\n",
    "Содержит данные об авторах:\n",
    "\n",
    "- `author_id` — идентификатор автора;\n",
    "- `author` — имя автора."
   ]
  },
  {
   "cell_type": "code",
   "execution_count": 6,
   "id": "20bebb53",
   "metadata": {},
   "outputs": [
    {
     "name": "stdout",
     "output_type": "stream",
     "text": [
      "     publisher_id                          publisher\n",
      "0               1                                Ace\n",
      "1               2                           Ace Book\n",
      "2               3                          Ace Books\n",
      "3               4                      Ace Hardcover\n",
      "4               5  Addison Wesley Publishing Company\n",
      "..            ...                                ...\n",
      "335           336         Workman Publishing Company\n",
      "336           337                         Wyatt Book\n",
      "337           338              Yale University Press\n",
      "338           339                           Yearling\n",
      "339           340                     Yearling Books\n",
      "\n",
      "[340 rows x 2 columns]\n"
     ]
    }
   ],
   "source": [
    "q('''SELECT * \n",
    "     FROM publishers ''')"
   ]
  },
  {
   "cell_type": "markdown",
   "id": "26aa7d5e",
   "metadata": {},
   "source": [
    "**Таблица `publishers`**\n",
    "\n",
    "Содержит данные об издательствах:\n",
    "\n",
    "- `publisher_id` — идентификатор издательства;\n",
    "- `publisher` — название издательства;"
   ]
  },
  {
   "cell_type": "code",
   "execution_count": 7,
   "id": "3920e2dd",
   "metadata": {},
   "outputs": [
    {
     "name": "stdout",
     "output_type": "stream",
     "text": [
      "      rating_id  book_id        username  rating\n",
      "0             1        1      ryanfranco       4\n",
      "1             2        1   grantpatricia       2\n",
      "2             3        1    brandtandrea       5\n",
      "3             4        2        lorichen       3\n",
      "4             5        2     mariokeller       2\n",
      "...         ...      ...             ...     ...\n",
      "6451       6452     1000  carolrodriguez       4\n",
      "6452       6453     1000         wendy18       4\n",
      "6453       6454     1000      jarvispaul       5\n",
      "6454       6455     1000           zross       2\n",
      "6455       6456     1000         fharris       5\n",
      "\n",
      "[6456 rows x 4 columns]\n"
     ]
    }
   ],
   "source": [
    "q('''SELECT * \n",
    "     FROM ratings ''')"
   ]
  },
  {
   "cell_type": "markdown",
   "id": "3c0780bf",
   "metadata": {},
   "source": [
    "**Таблица `ratings`**\n",
    "\n",
    "Содержит данные о пользовательских оценках книг:\n",
    "\n",
    "- `rating_id` — идентификатор оценки;\n",
    "- `book_id` — идентификатор книги;\n",
    "- `username` — имя пользователя, оставившего оценку;\n",
    "- `rating` — оценка книги."
   ]
  },
  {
   "cell_type": "code",
   "execution_count": 8,
   "id": "24ac0c5c",
   "metadata": {},
   "outputs": [
    {
     "name": "stdout",
     "output_type": "stream",
     "text": [
      "      review_id  book_id        username  \\\n",
      "0             1        1    brandtandrea   \n",
      "1             2        1      ryanfranco   \n",
      "2             3        2        lorichen   \n",
      "3             4        3   johnsonamanda   \n",
      "4             5        3     scotttamara   \n",
      "...         ...      ...             ...   \n",
      "2788       2789      999      martinadam   \n",
      "2789       2790     1000         wknight   \n",
      "2790       2791     1000  carolrodriguez   \n",
      "2791       2792     1000         wendy18   \n",
      "2792       2793     1000      jarvispaul   \n",
      "\n",
      "                                                   text  \n",
      "0     Mention society tell send professor analysis. ...  \n",
      "1     Foot glass pretty audience hit themselves. Amo...  \n",
      "2     Listen treat keep worry. Miss husband tax but ...  \n",
      "3     Finally month interesting blue could nature cu...  \n",
      "4     Nation purpose heavy give wait song will. List...  \n",
      "...                                                 ...  \n",
      "2788  Later hospital turn easy community. Fact same ...  \n",
      "2789   Change lose answer close pressure. Spend so now.  \n",
      "2790  Authority go who television entire hair guy po...  \n",
      "2791  Or western offer wonder ask. More hear phone f...  \n",
      "2792  Republican staff bit eat material measure plan...  \n",
      "\n",
      "[2793 rows x 4 columns]\n"
     ]
    }
   ],
   "source": [
    "q('''SELECT * \n",
    "     FROM reviews''')"
   ]
  },
  {
   "cell_type": "markdown",
   "id": "6083e5fc",
   "metadata": {},
   "source": [
    "**Таблица `reviews`**\n",
    "\n",
    "Содержит данные о пользовательских обзорах на книги:\n",
    "\n",
    "- `review_id` — идентификатор обзора;\n",
    "- `book_id` — идентификатор книги;\n",
    "- `username` — имя пользователя, написавшего обзор;\n",
    "- `text` — текст обзора."
   ]
  },
  {
   "cell_type": "markdown",
   "id": "e7a23eab",
   "metadata": {},
   "source": [
    "## Шаг 3. Анализ данных"
   ]
  },
  {
   "cell_type": "markdown",
   "id": "b1acc5c9",
   "metadata": {},
   "source": [
    "### Сколько книг вышло после 1 января 2000 года;"
   ]
  },
  {
   "cell_type": "code",
   "execution_count": 9,
   "id": "d3824a50",
   "metadata": {},
   "outputs": [
    {
     "name": "stdout",
     "output_type": "stream",
     "text": [
      "   count\n",
      "0    819\n"
     ]
    }
   ],
   "source": [
    "q(''' SELECT COUNT(book_id)\n",
    "      FROM books\n",
    "      WHERE publication_date > '2000-01-01'\n",
    "  ''')"
   ]
  },
  {
   "cell_type": "code",
   "execution_count": 10,
   "id": "d9bea76f",
   "metadata": {},
   "outputs": [
    {
     "name": "stdout",
     "output_type": "stream",
     "text": [
      "   count\n",
      "0    821\n"
     ]
    }
   ],
   "source": [
    "q(''' SELECT COUNT(book_id)\n",
    "      FROM books\n",
    "      WHERE publication_date >= '2000-01-01'\n",
    "  ''')"
   ]
  },
  {
   "cell_type": "markdown",
   "id": "66f45c55",
   "metadata": {},
   "source": [
    "819 книг в нашей таблице с данными выпущены после 1 января 2000 года.\n",
    "821 книга влючая 1 января"
   ]
  },
  {
   "cell_type": "markdown",
   "id": "3fef7c60",
   "metadata": {},
   "source": [
    "### Для каждой книги посчитаем количество обзоров и среднюю оценку;"
   ]
  },
  {
   "cell_type": "markdown",
   "id": "bfcab670",
   "metadata": {},
   "source": [
    "Для этой задачи используем таблицу ratings и reviews"
   ]
  },
  {
   "cell_type": "code",
   "execution_count": 12,
   "id": "916ad532",
   "metadata": {},
   "outputs": [
    {
     "name": "stdout",
     "output_type": "stream",
     "text": [
      "     book_id  count_reviews  avg_rating\n",
      "0          1              6    3.666667\n",
      "1          2              2    2.500000\n",
      "2          3              9    4.666667\n",
      "3          4              4    4.500000\n",
      "4          5             24    4.000000\n",
      "..       ...            ...         ...\n",
      "995      996              9    3.666667\n",
      "996      997             15    3.400000\n",
      "997      998             20    3.200000\n",
      "998      999              4    4.500000\n",
      "999     1000             24    3.833333\n",
      "\n",
      "[1000 rows x 3 columns]\n"
     ]
    }
   ],
   "source": [
    "q('''SELECT ratings.book_id AS book_id,\n",
    "            COUNT(reviews.text) AS count_reviews,\n",
    "            AVG(ratings.rating) AS avg_rating\n",
    "      FROM ratings\n",
    "      LEFT JOIN reviews ON reviews.book_id = ratings.book_id\n",
    "      GROUP BY ratings.book_id\n",
    "      ORDER BY ratings.book_id\n",
    "      ''')"
   ]
  },
  {
   "cell_type": "markdown",
   "id": "7bc02c18",
   "metadata": {},
   "source": [
    "Ни одна книга не осталась без обзоров. Средний рейтинг книг в наших данных начинается с 1.5 и заканчивается 5.0."
   ]
  },
  {
   "cell_type": "markdown",
   "id": "9a3bf70e",
   "metadata": {},
   "source": [
    "### Определим издательство, которое выпустило наибольшее число книг толще 50 страниц — так вы исключите из анализа брошюры;"
   ]
  },
  {
   "cell_type": "markdown",
   "id": "e8b68281",
   "metadata": {},
   "source": [
    "Для этой задачи будем использовать две таблицы: publisher и books"
   ]
  },
  {
   "cell_type": "code",
   "execution_count": 13,
   "id": "d38d70b4",
   "metadata": {},
   "outputs": [
    {
     "name": "stdout",
     "output_type": "stream",
     "text": [
      "       publisher  books_count\n",
      "0  Penguin Books           42\n"
     ]
    }
   ],
   "source": [
    "q(''' SELECT publisher, \n",
    "             COUNT(book_id) AS books_count\n",
    "      FROM publishers AS p\n",
    "      LEFT JOIN books as b ON p.publisher_id = b.publisher_id\n",
    "      WHERE num_pages > 50\n",
    "      GROUP BY publisher\n",
    "      ORDER BY books_count DESC\n",
    "      LIMIT 1\n",
    "  ''')"
   ]
  },
  {
   "cell_type": "markdown",
   "id": "2cc2e0ee",
   "metadata": {},
   "source": [
    "Издательство penguin books выпустило больше всего книг с 50+ страницами"
   ]
  },
  {
   "cell_type": "markdown",
   "id": "977ba4e5",
   "metadata": {},
   "source": [
    "### Определение автора с самой высокой средней оценкой книг — учитывайте только книги с 50 и более оценками;"
   ]
  },
  {
   "cell_type": "code",
   "execution_count": 16,
   "id": "04e44c0b",
   "metadata": {},
   "outputs": [
    {
     "name": "stdout",
     "output_type": "stream",
     "text": [
      "                       author  avg_rating\n",
      "0  J.K. Rowling/Mary GrandPré         4.3\n"
     ]
    }
   ],
   "source": [
    "q(''' SELECT a.author, \n",
    "           ROUND(AVG(a.avg_rating),1) AS avg_rating\n",
    "     FROM \n",
    "        (SELECT author, \n",
    "                b.book_id AS id, \n",
    "                AVG(rating) AS avg_rating, \n",
    "                COUNT(rating) AS count_rating\n",
    "          FROM authors AS au\n",
    "          LEFT JOIN books AS b ON b.author_id = au.author_id\n",
    "          LEFT JOIN ratings AS r ON r.book_id = b.book_id\n",
    "          GROUP BY author, id\n",
    "          HAVING COUNT(rating) >= 50) AS a\n",
    "     GROUP BY author\n",
    "     ORDER BY avg_rating DESC\n",
    "      LIMIT 1\n",
    "        ''')"
   ]
  },
  {
   "cell_type": "markdown",
   "id": "96a66b44",
   "metadata": {},
   "source": [
    "Автор с самой высокой средней оценкой - это Роулинг, автор книг по Гарри Поттеру."
   ]
  },
  {
   "cell_type": "markdown",
   "id": "d6ff8726",
   "metadata": {},
   "source": [
    "### Посчитать среднее количество обзоров от пользователей, которые поставили больше 50 оценок."
   ]
  },
  {
   "cell_type": "code",
   "execution_count": 18,
   "id": "d7c0c9c6",
   "metadata": {},
   "outputs": [
    {
     "name": "stdout",
     "output_type": "stream",
     "text": [
      "   round\n",
      "0   24.3\n"
     ]
    }
   ],
   "source": [
    "q(''' SELECT ROUND(AVG(count), 1)\n",
    "      FROM (SELECT COUNT(text)\n",
    "            FROM reviews AS r\n",
    "            LEFT JOIN (SELECT username, \n",
    "                              COUNT(rating_id)\n",
    "                       FROM ratings\n",
    "                       GROUP BY username) AS ra ON ra.username = r.username\n",
    "            WHERE count > 50\n",
    "            GROUP BY r.username) AS count                                  \n",
    "  ''')"
   ]
  },
  {
   "cell_type": "markdown",
   "id": "58ec3126",
   "metadata": {},
   "source": [
    "Результат: Среднее количество обзоров от пользователей, которые поставили больше 50 оценок - 24"
   ]
  },
  {
   "cell_type": "markdown",
   "id": "1a2df3aa",
   "metadata": {},
   "source": [
    "## Шаг 4. Вывод"
   ]
  },
  {
   "cell_type": "markdown",
   "id": "b059299f",
   "metadata": {},
   "source": [
    "- Книг вышло после 1 января 2000 года - 819;\n",
    "- Для каждой книги было посчитано количество обзоров и средняя оценка;\n",
    "- Определили издательство, которое выпустило наибольшее число книг при их толщине более 50 страниц - это \"Penguin Books\";\n",
    "- Определили автора с самой высокой средней оценкой книг (с 50 и более оценками) - J.K. Rowling/Mary GrandPré. \n",
    "- Средняя оценка ее книг составляет - 4.284 из 5 возможных;\n",
    "- Среднее количество обзоров от пользователей, которые поставили больше 50 оценок - 24\n",
    "\n",
    "Полученные данные помогут сформулировать предложение для нового продукта"
   ]
  }
 ],
 "metadata": {
  "ExecuteTimeLog": [
   {
    "duration": 8088,
    "start_time": "2023-01-06T03:38:40.446Z"
   },
   {
    "duration": 22,
    "start_time": "2023-01-06T03:38:49.746Z"
   },
   {
    "duration": 4,
    "start_time": "2023-01-06T03:38:51.013Z"
   },
   {
    "duration": 55,
    "start_time": "2023-01-06T03:38:53.234Z"
   },
   {
    "duration": 13,
    "start_time": "2023-01-06T03:38:54.898Z"
   },
   {
    "duration": 12,
    "start_time": "2023-01-06T03:38:57.934Z"
   },
   {
    "duration": 27,
    "start_time": "2023-01-06T03:38:59.072Z"
   },
   {
    "duration": 19,
    "start_time": "2023-01-06T03:39:00.337Z"
   },
   {
    "duration": 10,
    "start_time": "2023-01-06T03:39:04.896Z"
   },
   {
    "duration": 9,
    "start_time": "2023-01-06T03:39:53.193Z"
   },
   {
    "duration": 73,
    "start_time": "2023-01-06T03:43:11.475Z"
   },
   {
    "duration": 26,
    "start_time": "2023-01-06T03:43:19.654Z"
   },
   {
    "duration": 12,
    "start_time": "2023-01-06T03:43:27.722Z"
   },
   {
    "duration": 15,
    "start_time": "2023-01-06T03:49:17.188Z"
   },
   {
    "duration": 15,
    "start_time": "2023-01-06T03:49:35.807Z"
   },
   {
    "duration": 16,
    "start_time": "2023-01-06T03:49:46.451Z"
   },
   {
    "duration": 69,
    "start_time": "2023-01-06T03:58:27.438Z"
   },
   {
    "duration": 12,
    "start_time": "2023-01-06T03:59:02.217Z"
   },
   {
    "duration": 80,
    "start_time": "2023-01-06T04:00:09.158Z"
   }
  ],
  "kernelspec": {
   "display_name": "Python 3 (ipykernel)",
   "language": "python",
   "name": "python3"
  },
  "language_info": {
   "codemirror_mode": {
    "name": "ipython",
    "version": 3
   },
   "file_extension": ".py",
   "mimetype": "text/x-python",
   "name": "python",
   "nbconvert_exporter": "python",
   "pygments_lexer": "ipython3",
   "version": "3.9.13"
  },
  "toc": {
   "base_numbering": 1,
   "nav_menu": {},
   "number_sections": true,
   "sideBar": true,
   "skip_h1_title": true,
   "title_cell": "Table of Contents",
   "title_sidebar": "Contents",
   "toc_cell": false,
   "toc_position": {},
   "toc_section_display": true,
   "toc_window_display": false
  }
 },
 "nbformat": 4,
 "nbformat_minor": 5
}
